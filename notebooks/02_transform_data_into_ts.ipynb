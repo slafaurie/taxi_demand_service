{
 "cells": [
  {
   "cell_type": "code",
   "execution_count": 1,
   "metadata": {},
   "outputs": [],
   "source": [
    "%reload_ext autoreload\n",
    "%autoreload 2"
   ]
  },
  {
   "cell_type": "code",
   "execution_count": 5,
   "metadata": {},
   "outputs": [],
   "source": [
    "import polars as pl \n",
    "from pathlib import Path\n",
    "from datetime import datetime\n",
    "\n",
    "from src.paths import *\n",
    "from src.logger import get_logger\n",
    "from src.data import read_file\n",
    "\n",
    "\n",
    "logger = get_logger()"
   ]
  },
  {
   "cell_type": "markdown",
   "metadata": {},
   "source": [
    "# Load processed file"
   ]
  },
  {
   "cell_type": "code",
   "execution_count": 3,
   "metadata": {},
   "outputs": [],
   "source": [
    "# def read_file(folder:Path, year:int, month:int) -> pl.DataFrame:\n",
    "#     \"\"\"\n",
    "#     Reads a parquet file for a given year and month from a specified folder.\n",
    "\n",
    "#     This function constructs the file path using the provided folder, year, and month. It then reads the parquet file\n",
    "#     located at that path into a Polars DataFrame and returns it.\n",
    "\n",
    "#     Parameters:\n",
    "#     - folder (Path): The folder where the parquet file is located.\n",
    "#     - year (int): The year part of the file to be read.\n",
    "#     - month (int): The month part of the file to be read.\n",
    "\n",
    "#     Returns:\n",
    "#     - pl.DataFrame: The Polars DataFrame containing the data from the parquet file.\n",
    "#     \"\"\"\n",
    "#     return pl.read_parquet(folder / FILE_PATTERN.format(year=year, month=month))\n",
    "\n",
    "df = read_file(PROCESSED_DATA_DIR, 2020, 1)"
   ]
  },
  {
   "cell_type": "code",
   "execution_count": 4,
   "metadata": {},
   "outputs": [
    {
     "data": {
      "text/html": [
       "<div><style>\n",
       ".dataframe > thead > tr,\n",
       ".dataframe > tbody > tr {\n",
       "  text-align: right;\n",
       "  white-space: pre-wrap;\n",
       "}\n",
       "</style>\n",
       "<small>shape: (5, 2)</small><table border=\"1\" class=\"dataframe\"><thead><tr><th>pickup_datetime</th><th>pickup_location_id</th></tr><tr><td>datetime[ns]</td><td>i64</td></tr></thead><tbody><tr><td>2020-01-01 00:28:15</td><td>238</td></tr><tr><td>2020-01-01 00:35:39</td><td>239</td></tr><tr><td>2020-01-01 00:47:41</td><td>238</td></tr><tr><td>2020-01-01 00:55:23</td><td>238</td></tr><tr><td>2020-01-01 00:01:58</td><td>193</td></tr></tbody></table></div>"
      ],
      "text/plain": [
       "shape: (5, 2)\n",
       "┌─────────────────────┬────────────────────┐\n",
       "│ pickup_datetime     ┆ pickup_location_id │\n",
       "│ ---                 ┆ ---                │\n",
       "│ datetime[ns]        ┆ i64                │\n",
       "╞═════════════════════╪════════════════════╡\n",
       "│ 2020-01-01 00:28:15 ┆ 238                │\n",
       "│ 2020-01-01 00:35:39 ┆ 239                │\n",
       "│ 2020-01-01 00:47:41 ┆ 238                │\n",
       "│ 2020-01-01 00:55:23 ┆ 238                │\n",
       "│ 2020-01-01 00:01:58 ┆ 193                │\n",
       "└─────────────────────┴────────────────────┘"
      ]
     },
     "execution_count": 4,
     "metadata": {},
     "output_type": "execute_result"
    }
   ],
   "source": [
    "df.head()"
   ]
  },
  {
   "cell_type": "code",
   "execution_count": 20,
   "metadata": {},
   "outputs": [
    {
     "data": {
      "text/html": [
       "<div><style>\n",
       ".dataframe > thead > tr,\n",
       ".dataframe > tbody > tr {\n",
       "  text-align: right;\n",
       "  white-space: pre-wrap;\n",
       "}\n",
       "</style>\n",
       "<small>shape: (5, 1)</small><table border=\"1\" class=\"dataframe\"><thead><tr><th>pickup_datetime_hour</th></tr><tr><td>datetime[ns]</td></tr></thead><tbody><tr><td>2020-01-01 00:00:00</td></tr><tr><td>2020-01-01 01:00:00</td></tr><tr><td>2020-01-01 02:00:00</td></tr><tr><td>2020-01-01 03:00:00</td></tr><tr><td>2020-01-01 04:00:00</td></tr></tbody></table></div>"
      ],
      "text/plain": [
       "shape: (5, 1)\n",
       "┌──────────────────────┐\n",
       "│ pickup_datetime_hour │\n",
       "│ ---                  │\n",
       "│ datetime[ns]         │\n",
       "╞══════════════════════╡\n",
       "│ 2020-01-01 00:00:00  │\n",
       "│ 2020-01-01 01:00:00  │\n",
       "│ 2020-01-01 02:00:00  │\n",
       "│ 2020-01-01 03:00:00  │\n",
       "│ 2020-01-01 04:00:00  │\n",
       "└──────────────────────┘"
      ]
     },
     "execution_count": 20,
     "metadata": {},
     "output_type": "execute_result"
    }
   ],
   "source": [
    "def generate_hourly_datetimes_with_ranges(year: int, month: int) -> pl.DataFrame:\n",
    "    \"\"\"\n",
    "    Generates a Polars DataFrame with a single column containing datetimes for every hour in the specified month\n",
    "    using the pl.datetime_ranges function.\n",
    "\n",
    "    Parameters:\n",
    "    - year (int): The year of the month for which to generate hourly datetimes.\n",
    "    - month (int): The month for which to generate hourly datetimes.\n",
    "\n",
    "    Returns:\n",
    "    - pl.DataFrame: A DataFrame with a single column named 'datetime', containing hourly datetimes for the specified month.\n",
    "    \"\"\"\n",
    "    # Calculate the start datetime of the month\n",
    "    start_date = datetime(year, month, 1)\n",
    "    # Handle December separately to avoid month overflow\n",
    "    if month == 12:\n",
    "        end_date = datetime(year + 1, 1, 1)\n",
    "    else:\n",
    "        end_date = datetime(year, month + 1, 1)\n",
    "    \n",
    "    # Create a DataFrame from the datetime range\n",
    "    df = pl.DataFrame({\n",
    "        \"pickup_datetime_hour\": pl.datetime_range(\n",
    "            start=start_date, \n",
    "            end=end_date, \n",
    "            interval=\"1h\", \n",
    "            eager=True, \n",
    "            time_unit=\"ns\",\n",
    "            closed=\"left\")\n",
    "    })\n",
    "    \n",
    "    return df\n",
    "\n",
    "hourly_df = generate_hourly_datetimes_with_ranges(2020,1)\n",
    "hourly_df.head()"
   ]
  },
  {
   "cell_type": "code",
   "execution_count": 24,
   "metadata": {},
   "outputs": [
    {
     "data": {
      "text/html": [
       "<div><style>\n",
       ".dataframe > thead > tr,\n",
       ".dataframe > tbody > tr {\n",
       "  text-align: right;\n",
       "  white-space: pre-wrap;\n",
       "}\n",
       "</style>\n",
       "<small>shape: (5, 3)</small><table border=\"1\" class=\"dataframe\"><thead><tr><th>pickup_datetime_hour</th><th>pickup_location_id</th><th>num_pickups</th></tr><tr><td>datetime[ns]</td><td>i64</td><td>u32</td></tr></thead><tbody><tr><td>2020-01-01 00:00:00</td><td>7</td><td>509</td></tr><tr><td>2020-01-01 00:00:00</td><td>90</td><td>2754</td></tr><tr><td>2020-01-01 00:00:00</td><td>65</td><td>239</td></tr><tr><td>2020-01-01 00:00:00</td><td>224</td><td>436</td></tr><tr><td>2020-01-01 00:00:00</td><td>66</td><td>115</td></tr></tbody></table></div>"
      ],
      "text/plain": [
       "shape: (5, 3)\n",
       "┌──────────────────────┬────────────────────┬─────────────┐\n",
       "│ pickup_datetime_hour ┆ pickup_location_id ┆ num_pickups │\n",
       "│ ---                  ┆ ---                ┆ ---         │\n",
       "│ datetime[ns]         ┆ i64                ┆ u32         │\n",
       "╞══════════════════════╪════════════════════╪═════════════╡\n",
       "│ 2020-01-01 00:00:00  ┆ 7                  ┆ 509         │\n",
       "│ 2020-01-01 00:00:00  ┆ 90                 ┆ 2754        │\n",
       "│ 2020-01-01 00:00:00  ┆ 65                 ┆ 239         │\n",
       "│ 2020-01-01 00:00:00  ┆ 224                ┆ 436         │\n",
       "│ 2020-01-01 00:00:00  ┆ 66                 ┆ 115         │\n",
       "└──────────────────────┴────────────────────┴─────────────┘"
      ]
     },
     "execution_count": 24,
     "metadata": {},
     "output_type": "execute_result"
    }
   ],
   "source": [
    "def aggregate_pickups_into_hourly_data(df: pl.DataFrame, year: int, month: int) -> pl.DataFrame:\n",
    "    \"\"\"\n",
    "    Aggregates the number of pickups for each location and hour in the provided DataFrame.\n",
    "\n",
    "    This function groups the DataFrame by the pickup location ID and the pickup hour, and then counts the number of\n",
    "    pickups for each group. To ensure that the resulting DataFrame contains all hours in the month, the function first\n",
    "    generates a DataFrame containing hourly datetimes for the specified month and year, and then performs a left join\n",
    "    with the aggregated pickup data.\n",
    "\n",
    "    Parameters:\n",
    "    - year (int): The year of the month for which to aggregate the pickup data.\n",
    "    - month (int): The month for which to aggregate the pickup data.\n",
    "    - df (pl.DataFrame): The DataFrame containing the pickup data to be aggregated.\n",
    "\n",
    "    Returns:\n",
    "    - pl.DataFrame: The DataFrame containing the aggregated pickup data.\n",
    "    \"\"\"\n",
    "    # Truncate the pickup datetime to the nearest hour and group by the pickup location ID\n",
    "    hourly_pickups = (\n",
    "        df\n",
    "        .group_by([\n",
    "            pl.col(\"pickup_datetime\").dt.truncate(\"1d\").alias(\"pickup_datetime_hour\"),\n",
    "            pl.col(\"pickup_location_id\")\n",
    "        ])\n",
    "        .agg(\n",
    "            pl.col(\"pickup_location_id\").count().alias(\"num_pickups\")\n",
    "        )\n",
    "    )\n",
    "    \n",
    "    hourly_df = generate_hourly_datetimes_with_ranges(year, month)\n",
    "    \n",
    "    \n",
    "    return ( hourly_df\n",
    "            .join(hourly_pickups, on=\"pickup_datetime_hour\", how=\"left\")\n",
    "            .with_columns(\n",
    "                pl.col(\"num_pickups\").fill_null(pl.lit(0))\n",
    "            )\n",
    "    )\n",
    "\n",
    "\n",
    "hourly_df_complete = aggregate_pickups_into_hourly_data(df, 2020, 1)\n",
    "hourly_df_complete.head()"
   ]
  },
  {
   "cell_type": "code",
   "execution_count": null,
   "metadata": {},
   "outputs": [],
   "source": []
  }
 ],
 "metadata": {
  "kernelspec": {
   "display_name": ".venv",
   "language": "python",
   "name": "python3"
  },
  "language_info": {
   "codemirror_mode": {
    "name": "ipython",
    "version": 3
   },
   "file_extension": ".py",
   "mimetype": "text/x-python",
   "name": "python",
   "nbconvert_exporter": "python",
   "pygments_lexer": "ipython3",
   "version": "3.11.4"
  }
 },
 "nbformat": 4,
 "nbformat_minor": 2
}
