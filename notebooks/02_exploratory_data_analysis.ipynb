{
 "cells": [
  {
   "cell_type": "code",
   "execution_count": 2,
   "metadata": {},
   "outputs": [],
   "source": [
    "%reload_ext autoreload\n",
    "%autoreload 2"
   ]
  },
  {
   "cell_type": "code",
   "execution_count": 8,
   "metadata": {},
   "outputs": [],
   "source": [
    "import polars as pl \n",
    "from pathlib import Path\n",
    "from datetime import datetime\n",
    "\n",
    "from src.paths import *\n",
    "from src.logger import get_logger\n",
    "from src.dwh import generate_connection, fetch_pickup_data\n",
    "\n",
    "\n",
    "logger = get_logger(\"dwh\")"
   ]
  },
  {
   "cell_type": "markdown",
   "metadata": {},
   "source": [
    "# Load from DWH"
   ]
  },
  {
   "cell_type": "code",
   "execution_count": 9,
   "metadata": {},
   "outputs": [],
   "source": [
    "con = generate_connection()"
   ]
  },
  {
   "cell_type": "code",
   "execution_count": 10,
   "metadata": {},
   "outputs": [],
   "source": [
    "df = fetch_pickup_data(\n",
    "    connection=con,\n",
    "    from_date=datetime(2022, 1, 1),\n",
    "    to_date=datetime(2022, 1, 2),\n",
    "    pickup_locations=[]\n",
    ")"
   ]
  },
  {
   "cell_type": "markdown",
   "metadata": {},
   "source": [
    "# Plots"
   ]
  },
  {
   "cell_type": "code",
   "execution_count": 11,
   "metadata": {},
   "outputs": [
    {
     "data": {
      "text/html": [
       "<div><style>\n",
       ".dataframe > thead > tr,\n",
       ".dataframe > tbody > tr {\n",
       "  text-align: right;\n",
       "  white-space: pre-wrap;\n",
       "}\n",
       "</style>\n",
       "<small>shape: (5, 4)</small><table border=\"1\" class=\"dataframe\"><thead><tr><th>key</th><th>pickup_datetime_hour</th><th>pickup_location_id</th><th>num_pickup</th></tr><tr><td>str</td><td>datetime[μs]</td><td>i16</td><td>i16</td></tr></thead><tbody><tr><td>&quot;2022-01-01 00:…</td><td>2022-01-01 00:00:00</td><td>1</td><td>43</td></tr><tr><td>&quot;2022-01-01 00:…</td><td>2022-01-01 00:00:00</td><td>2</td><td>0</td></tr><tr><td>&quot;2022-01-01 00:…</td><td>2022-01-01 00:00:00</td><td>3</td><td>2</td></tr><tr><td>&quot;2022-01-01 00:…</td><td>2022-01-01 00:00:00</td><td>4</td><td>122</td></tr><tr><td>&quot;2022-01-01 00:…</td><td>2022-01-01 00:00:00</td><td>5</td><td>1</td></tr></tbody></table></div>"
      ],
      "text/plain": [
       "shape: (5, 4)\n",
       "┌─────────────────────────────────┬──────────────────────┬────────────────────┬────────────┐\n",
       "│ key                             ┆ pickup_datetime_hour ┆ pickup_location_id ┆ num_pickup │\n",
       "│ ---                             ┆ ---                  ┆ ---                ┆ ---        │\n",
       "│ str                             ┆ datetime[μs]         ┆ i16                ┆ i16        │\n",
       "╞═════════════════════════════════╪══════════════════════╪════════════════════╪════════════╡\n",
       "│ 2022-01-01 00:00:00.000000000-1 ┆ 2022-01-01 00:00:00  ┆ 1                  ┆ 43         │\n",
       "│ 2022-01-01 00:00:00.000000000-2 ┆ 2022-01-01 00:00:00  ┆ 2                  ┆ 0          │\n",
       "│ 2022-01-01 00:00:00.000000000-3 ┆ 2022-01-01 00:00:00  ┆ 3                  ┆ 2          │\n",
       "│ 2022-01-01 00:00:00.000000000-4 ┆ 2022-01-01 00:00:00  ┆ 4                  ┆ 122        │\n",
       "│ 2022-01-01 00:00:00.000000000-5 ┆ 2022-01-01 00:00:00  ┆ 5                  ┆ 1          │\n",
       "└─────────────────────────────────┴──────────────────────┴────────────────────┴────────────┘"
      ]
     },
     "execution_count": 11,
     "metadata": {},
     "output_type": "execute_result"
    }
   ],
   "source": [
    "df.head()"
   ]
  },
  {
   "cell_type": "markdown",
   "metadata": {},
   "source": [
    "# Feature engineering\n",
    "\n",
    "from this point onwards, We need the whole data for all batches to generate the correct time features. If we do by month, the data at the beginning will always be lost. This should not be the case"
   ]
  },
  {
   "cell_type": "code",
   "execution_count": 56,
   "metadata": {},
   "outputs": [],
   "source": [
    "def get_time_lags(df: pl.DataFrame, n_lags: int) -> pl.DataFrame:\n",
    "    \"\"\"\n",
    "    Generates time-lagged features for the number of pickups.\n",
    "\n",
    "    This function takes a DataFrame and an integer n_lags to generate n_lags new columns in the DataFrame. Each new column represents the number of pickups n hours ago, where n ranges from 1 to n_lags. The function sorts the DataFrame by 'pickup_location_id' and 'pickup_datetime_hour' before shifting to ensure that the lagged values are correctly aligned with the corresponding times and locations.\n",
    "\n",
    "    Parameters:\n",
    "    - df (pl.DataFrame): The DataFrame containing the pickup data.\n",
    "    - n_lags (int): The number of lagged time periods to generate.\n",
    "\n",
    "    Returns:\n",
    "    - pl.DataFrame: The original DataFrame with n_lags new columns added, each representing the number of pickups n hours ago.\n",
    "    \"\"\"\n",
    "    return (\n",
    "        df\n",
    "        .with_columns([\n",
    "            pl.col(\"num_pickups\").sort_by([\"pickup_location_id\", \"pickup_datetime_hour\"]).shift(i).over(\"pickup_location_id\").alias(f\"num_pickups_{i}h_ago\") for i in range(1, n_lags+1)\n",
    "        ])\n",
    "        .drop_nulls()\n",
    "    )\n",
    "    \n",
    "# time_lags = get_time_lags(hourly_df_complete, 3).head()"
   ]
  },
  {
   "cell_type": "markdown",
   "metadata": {},
   "source": []
  },
  {
   "cell_type": "code",
   "execution_count": 57,
   "metadata": {},
   "outputs": [],
   "source": [
    "def generate_ts_features_for_file(year: int, month: int, n_lags: int) -> pl.DataFrame:\n",
    "    \"\"\"\n",
    "    Generates time-lagged features for the number of pickups in a given month.\n",
    "\n",
    "    This function reads the pickup data for the specified year and month, aggregates it into hourly data, and then generates time-lagged features using the get_time_lags function.\n",
    "\n",
    "    Parameters:\n",
    "    - year (int): The year of the month for which to generate time-lagged features.\n",
    "    - month (int): The month for which to generate time-lagged features.\n",
    "    - n_lags (int): The number of lagged time periods to generate.\n",
    "\n",
    "    Returns:\n",
    "    - pl.DataFrame: The DataFrame containing the time-lagged features.\n",
    "    \"\"\"\n",
    "    return (\n",
    "        read_file(PROCESSED_DATA_DIR, year, month)\n",
    "        .pipe(aggregate_pickups_into_hourly_data, year, month)\n",
    "        .pipe(get_time_lags, n_lags)\n",
    "        .write_parquet(TRANSFORMED_DATA_DIR / FILE_PATTERN.format(year=year, month=month))\n",
    "    )"
   ]
  },
  {
   "cell_type": "code",
   "execution_count": null,
   "metadata": {},
   "outputs": [],
   "source": [
    "generate_ts_features_for_file(2020, 1, )"
   ]
  }
 ],
 "metadata": {
  "kernelspec": {
   "display_name": ".venv",
   "language": "python",
   "name": "python3"
  },
  "language_info": {
   "codemirror_mode": {
    "name": "ipython",
    "version": 3
   },
   "file_extension": ".py",
   "mimetype": "text/x-python",
   "name": "python",
   "nbconvert_exporter": "python",
   "pygments_lexer": "ipython3",
   "version": "3.11.4"
  }
 },
 "nbformat": 4,
 "nbformat_minor": 2
}
