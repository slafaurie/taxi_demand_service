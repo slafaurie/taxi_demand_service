{
 "cells": [
  {
   "cell_type": "code",
   "execution_count": 1,
   "metadata": {},
   "outputs": [],
   "source": [
    "%reload_ext autoreload\n",
    "%autoreload 2"
   ]
  },
  {
   "cell_type": "code",
   "execution_count": 2,
   "metadata": {},
   "outputs": [
    {
     "name": "stdout",
     "output_type": "stream",
     "text": [
      "2025-03-02 18:58:46,685 - src.adapters.duck_repo - INFO - DB_URL found\n"
     ]
    }
   ],
   "source": [
    "import polars as pl \n",
    "from datetime import datetime\n",
    "import matplotlib.pyplot as plt \n",
    "import seaborn as sns \n",
    "import numpy as np \n",
    "import pandas as pd\n",
    "import plotly.graph_objects as go \n",
    "\n",
    "\n",
    "\n",
    "from notebook_utils import insert_parent_in_path\n",
    "insert_parent_in_path()\n",
    "\n",
    "\n",
    "from src.adapters.base import initialize_repository\n",
    "from src.plots import plot_ts\n",
    "from src.model.pipeline import get_time_lags\n",
    "from src.model.train import split_train_test, rolling_window_forecast\n",
    "\n",
    "repo = initialize_repository()\n",
    "sns.set()"
   ]
  },
  {
   "cell_type": "markdown",
   "metadata": {},
   "source": [
    "# Load from DWH"
   ]
  },
  {
   "cell_type": "code",
   "execution_count": 3,
   "metadata": {},
   "outputs": [],
   "source": [
    "df = repo.fetch_pickup_data(\n",
    "    from_date=datetime(2022,1, 1),\n",
    "    to_date=datetime(2024,12,31),\n",
    "    pickup_locations=[43]\n",
    ")\n",
    "\n",
    "df = (\n",
    "    df\n",
    "    .sort(by='pickup_datetime_hour')\n",
    "    .group_by_dynamic('pickup_datetime_hour', every='1d', group_by='pickup_location_id')\n",
    "    .agg(\n",
    "        pl.col('num_pickup').sum()\n",
    "    )\n",
    ")\n",
    "\n",
    "# train, test = split_into_train_and_test(df)"
   ]
  },
  {
   "cell_type": "markdown",
   "metadata": {},
   "source": [
    "Abstract this into a class Model\n",
    "- replace explicit column references to args\n",
    "- add a new arg which is the time series frequency (similar to Nitxla)\n",
    "\n",
    "this model implement recursive forecast (most recent pred becomes part of the data, loop over forecast horizon)\n",
    "still to define, implement the interval predictions"
   ]
  },
  {
   "cell_type": "markdown",
   "metadata": {},
   "source": [
    "# Time Series split"
   ]
  },
  {
   "cell_type": "code",
   "execution_count": 5,
   "metadata": {},
   "outputs": [
    {
     "name": "stdout",
     "output_type": "stream",
     "text": [
      "Numbers of folds: 4\n"
     ]
    }
   ],
   "source": [
    "test_from = datetime(2024,1,1)\n",
    "every='3mo'\n",
    "ts_col = 'pickup_datetime_hour'\n",
    "unique_id='pickup_location_id'\n",
    "\n",
    "folds = split_train_test(df, test_from, '3mo', ts_col)\n"
   ]
  },
  {
   "cell_type": "code",
   "execution_count": 6,
   "metadata": {},
   "outputs": [],
   "source": [
    "train, test = folds[1]\n",
    "\n",
    "train = (\n",
    "    train \n",
    "    .rename(\n",
    "        {\n",
    "            \"pickup_location_id\":'unique_id',\n",
    "            \"pickup_datetime_hour\":\"ds\",\n",
    "            \"num_pickup\":\"y\"\n",
    "         }\n",
    "    )\n",
    ")\n",
    "\n",
    "test = (\n",
    "    test \n",
    "    .rename(\n",
    "        {\n",
    "            \"pickup_location_id\":'unique_id',\n",
    "            \"pickup_datetime_hour\":\"ds\",\n",
    "            \"num_pickup\":\"y\"\n",
    "         }\n",
    "    )\n",
    ")"
   ]
  },
  {
   "cell_type": "markdown",
   "metadata": {},
   "source": [
    "# MLForecast"
   ]
  },
  {
   "cell_type": "code",
   "execution_count": 21,
   "metadata": {},
   "outputs": [
    {
     "data": {
      "text/plain": [
       "MLForecast(models=[y_pred], freq=1d, lag_features=['lag1', 'lag7', 'lag14'], date_features=[], num_threads=1)"
      ]
     },
     "execution_count": 21,
     "metadata": {},
     "output_type": "execute_result"
    }
   ],
   "source": [
    "from mlforecast import MLForecast\n",
    "from sklearn.linear_model import LinearRegression\n",
    "\n",
    "model = MLForecast(\n",
    "    models={\n",
    "        \"y_pred\": LinearRegression()\n",
    "    },\n",
    "    freq='1d',\n",
    "    lags=[1,7,14]\n",
    ")\n",
    "\n",
    "\n",
    "model.fit(train, fitted=True)"
   ]
  },
  {
   "cell_type": "code",
   "execution_count": 23,
   "metadata": {},
   "outputs": [],
   "source": [
    "test_result = rolling_window_forecast(\n",
    "    model=model,\n",
    "    h=3,\n",
    "    df=test,\n",
    ")"
   ]
  },
  {
   "cell_type": "markdown",
   "metadata": {},
   "source": [
    "# Evaluation"
   ]
  },
  {
   "cell_type": "code",
   "execution_count": 36,
   "metadata": {},
   "outputs": [
    {
     "data": {
      "text/plain": [
       "[{'horizon': datetime.timedelta(days=2),\n",
       "  'bias': -43.324109544577134,\n",
       "  'mae': 183.352714481261,\n",
       "  'score': 226.67682402583813},\n",
       " {'horizon': datetime.timedelta(days=1),\n",
       "  'bias': -37.512527236999134,\n",
       "  'mae': 184.85155959473008,\n",
       "  'score': 222.3640868317292},\n",
       " {'horizon': datetime.timedelta(days=3),\n",
       "  'bias': 5.444149842630605,\n",
       "  'mae': 212.5743243275073,\n",
       "  'score': 218.0184741701379}]"
      ]
     },
     "execution_count": 36,
     "metadata": {},
     "output_type": "execute_result"
    }
   ],
   "source": [
    "( \n",
    "        test_result \n",
    "        .with_columns(\n",
    "            error=pl.col('y_pred') - pl.col('y'),\n",
    "            horizon = pl.col('ds').sub(pl.col('cutoff'))\n",
    "        )\n",
    "        .group_by(['unique_id', 'horizon'])\n",
    "        .agg(\n",
    "            bias=pl.col('error').mean(),\n",
    "            mae = pl.col('error').abs().mean(),\n",
    "            mae_per = pl.col('error').abs().sum().truediv(pl.col('y').sum())\n",
    "        )\n",
    "        .with_columns(\n",
    "            score = pl.col('mae').add(pl.col('bias').abs())\n",
    "        )\n",
    "        .group_by('horizon')\n",
    "        .agg(\n",
    "            pl.col('bias').mean()\n",
    "            , pl.col('mae').mean()\n",
    "            , pl.col('score').mean()\n",
    "        )\n",
    "        .to_dicts()\n",
    ")"
   ]
  },
  {
   "cell_type": "code",
   "execution_count": 39,
   "metadata": {},
   "outputs": [],
   "source": [
    "def evaluate_prediction(df: pl.DataFrame):\n",
    "    return (\n",
    "        df \n",
    "        .with_columns(\n",
    "            error=pl.col('y_pred') - pl.col('y'),\n",
    "            horizon = pl.col('ds').sub(pl.col('cutoff'))\n",
    "        )\n",
    "        .group_by(['unique_id', 'horizon'])\n",
    "        .agg(\n",
    "            bias=pl.col('error').mean(),\n",
    "            mae = pl.col('error').abs().mean(),\n",
    "            mae_per = pl.col('error').abs().sum().truediv(pl.col('y').sum())\n",
    "        )\n",
    "        .with_columns(\n",
    "            score = pl.col('mae').add(pl.col('bias').abs())\n",
    "        )\n",
    "        .group_by('horizon')\n",
    "        .agg(\n",
    "            pl.col('bias').mean()\n",
    "            , pl.col('mae').mean()\n",
    "            , pl.col('score').mean()\n",
    "        )\n",
    "        .to_dicts()\n",
    "    )\n",
    "    \n",
    "result = evaluate_prediction(test_result)"
   ]
  },
  {
   "cell_type": "code",
   "execution_count": 49,
   "metadata": {},
   "outputs": [
    {
     "data": {
      "text/plain": [
       "{'bias_1': -37.512527236999134,\n",
       " 'mae_1': 184.85155959473008,\n",
       " 'score_1': 222.3640868317292}"
      ]
     },
     "execution_count": 49,
     "metadata": {},
     "output_type": "execute_result"
    }
   ],
   "source": [
    "result_test = result[0]\n",
    "horizon = result_test['horizon'].days\n",
    "metircs_to_log = ['bias', 'mae', 'score']\n",
    "{f\"{x}_{horizon}\":result_test.get(x) for x in metircs_to_log}\n",
    "\n",
    "\n",
    "def process_result_into_keyval(eval_result:dict):\n",
    "    horizon = eval_result['horizon'].days\n",
    "    metrics_no_horizon = [x for x in eval_result.keys() if x != 'horizon']\n",
    "    return {f\"{x}_{horizon}\":eval_result.get(x) for x in metrics_no_horizon}"
   ]
  },
  {
   "cell_type": "markdown",
   "metadata": {},
   "source": [
    "# Old"
   ]
  },
  {
   "cell_type": "code",
   "execution_count": 13,
   "metadata": {},
   "outputs": [
    {
     "data": {
      "text/html": [
       "\n",
       "<style>\n",
       "  #altair-viz-25db8cf476c547dc87011c79f2d572ed.vega-embed {\n",
       "    width: 100%;\n",
       "    display: flex;\n",
       "  }\n",
       "\n",
       "  #altair-viz-25db8cf476c547dc87011c79f2d572ed.vega-embed details,\n",
       "  #altair-viz-25db8cf476c547dc87011c79f2d572ed.vega-embed details summary {\n",
       "    position: relative;\n",
       "  }\n",
       "</style>\n",
       "<div id=\"altair-viz-25db8cf476c547dc87011c79f2d572ed\"></div>\n",
       "<script type=\"text/javascript\">\n",
       "  var VEGA_DEBUG = (typeof VEGA_DEBUG == \"undefined\") ? {} : VEGA_DEBUG;\n",
       "  (function(spec, embedOpt){\n",
       "    let outputDiv = document.currentScript.previousElementSibling;\n",
       "    if (outputDiv.id !== \"altair-viz-25db8cf476c547dc87011c79f2d572ed\") {\n",
       "      outputDiv = document.getElementById(\"altair-viz-25db8cf476c547dc87011c79f2d572ed\");\n",
       "    }\n",
       "\n",
       "    const paths = {\n",
       "      \"vega\": \"https://cdn.jsdelivr.net/npm/vega@5?noext\",\n",
       "      \"vega-lib\": \"https://cdn.jsdelivr.net/npm/vega-lib?noext\",\n",
       "      \"vega-lite\": \"https://cdn.jsdelivr.net/npm/vega-lite@5.20.1?noext\",\n",
       "      \"vega-embed\": \"https://cdn.jsdelivr.net/npm/vega-embed@6?noext\",\n",
       "    };\n",
       "\n",
       "    function maybeLoadScript(lib, version) {\n",
       "      var key = `${lib.replace(\"-\", \"\")}_version`;\n",
       "      return (VEGA_DEBUG[key] == version) ?\n",
       "        Promise.resolve(paths[lib]) :\n",
       "        new Promise(function(resolve, reject) {\n",
       "          var s = document.createElement('script');\n",
       "          document.getElementsByTagName(\"head\")[0].appendChild(s);\n",
       "          s.async = true;\n",
       "          s.onload = () => {\n",
       "            VEGA_DEBUG[key] = version;\n",
       "            return resolve(paths[lib]);\n",
       "          };\n",
       "          s.onerror = () => reject(`Error loading script: ${paths[lib]}`);\n",
       "          s.src = paths[lib];\n",
       "        });\n",
       "    }\n",
       "\n",
       "    function showError(err) {\n",
       "      outputDiv.innerHTML = `<div class=\"error\" style=\"color:red;\">${err}</div>`;\n",
       "      throw err;\n",
       "    }\n",
       "\n",
       "    function displayChart(vegaEmbed) {\n",
       "      vegaEmbed(outputDiv, spec, embedOpt)\n",
       "        .catch(err => showError(`Javascript Error: ${err.message}<br>This usually means there's a typo in your chart specification. See the javascript console for the full traceback.`));\n",
       "    }\n",
       "\n",
       "    if(typeof define === \"function\" && define.amd) {\n",
       "      requirejs.config({paths});\n",
       "      let deps = [\"vega-embed\"];\n",
       "      require(deps, displayChart, err => showError(`Error loading script: ${err.message}`));\n",
       "    } else {\n",
       "      maybeLoadScript(\"vega\", \"5\")\n",
       "        .then(() => maybeLoadScript(\"vega-lite\", \"5.20.1\"))\n",
       "        .then(() => maybeLoadScript(\"vega-embed\", \"6\"))\n",
       "        .catch(showError)\n",
       "        .then(() => displayChart(vegaEmbed));\n",
       "    }\n",
       "  })({\"config\": {\"view\": {\"continuousWidth\": 300, \"continuousHeight\": 300}}, \"data\": {\"name\": \"data-0bc2da01592d2a2fd1826285edcb77b6\"}, \"mark\": {\"type\": \"line\", \"tooltip\": true}, \"encoding\": {\"row\": {\"field\": \"pickup_location_id\", \"type\": \"quantitative\"}, \"x\": {\"field\": \"pickup_datetime_hour\", \"type\": \"temporal\"}, \"y\": {\"field\": \"num_pickup\", \"type\": \"quantitative\"}}, \"params\": [{\"name\": \"param_1\", \"select\": {\"type\": \"interval\", \"encodings\": [\"x\", \"y\"]}, \"bind\": \"scales\"}], \"$schema\": \"https://vega.github.io/schema/vega-lite/v5.20.1.json\", \"datasets\": {\"data-0bc2da01592d2a2fd1826285edcb77b6\": [{\"pickup_datetime_hour\": \"2024-08-01T14:00:00\", \"pickup_location_id\": 27.0, \"num_pickup\": 0.0}, {\"pickup_datetime_hour\": \"2024-08-01T14:00:00\", \"pickup_location_id\": 43.0, \"num_pickup\": 148.0}, {\"pickup_datetime_hour\": \"2024-08-01T15:00:00\", \"pickup_location_id\": 27.0, \"num_pickup\": 0.0}, {\"pickup_datetime_hour\": \"2024-08-01T15:00:00\", \"pickup_location_id\": 43.0, \"num_pickup\": 173.0}, {\"pickup_datetime_hour\": \"2024-08-01T16:00:00\", \"pickup_location_id\": 27.0, \"num_pickup\": 0.0}, {\"pickup_datetime_hour\": \"2024-08-01T16:00:00\", \"pickup_location_id\": 43.0, \"num_pickup\": 180.0}, {\"pickup_datetime_hour\": \"2024-08-01T17:00:00\", \"pickup_location_id\": 27.0, \"num_pickup\": 0.0}, {\"pickup_datetime_hour\": \"2024-08-01T17:00:00\", \"pickup_location_id\": 43.0, \"num_pickup\": 111.0}, {\"pickup_datetime_hour\": \"2024-08-01T18:00:00\", \"pickup_location_id\": 27.0, \"num_pickup\": 0.0}, {\"pickup_datetime_hour\": \"2024-08-01T18:00:00\", \"pickup_location_id\": 43.0, \"num_pickup\": 95.0}, {\"pickup_datetime_hour\": \"2024-08-01T19:00:00\", \"pickup_location_id\": 27.0, \"num_pickup\": 0.0}, {\"pickup_datetime_hour\": \"2024-08-01T19:00:00\", \"pickup_location_id\": 43.0, \"num_pickup\": 93.0}, {\"pickup_datetime_hour\": \"2024-08-01T20:00:00\", \"pickup_location_id\": 27.0, \"num_pickup\": 0.0}, {\"pickup_datetime_hour\": \"2024-08-01T20:00:00\", \"pickup_location_id\": 43.0, \"num_pickup\": 67.0}, {\"pickup_datetime_hour\": \"2024-08-01T21:00:00\", \"pickup_location_id\": 27.0, \"num_pickup\": 0.0}, {\"pickup_datetime_hour\": \"2024-08-01T21:00:00\", \"pickup_location_id\": 43.0, \"num_pickup\": 111.0}, {\"pickup_datetime_hour\": \"2024-08-01T22:00:00\", \"pickup_location_id\": 27.0, \"num_pickup\": 0.0}, {\"pickup_datetime_hour\": \"2024-08-01T22:00:00\", \"pickup_location_id\": 43.0, \"num_pickup\": 54.0}, {\"pickup_datetime_hour\": \"2024-08-01T23:00:00\", \"pickup_location_id\": 27.0, \"num_pickup\": 0.0}, {\"pickup_datetime_hour\": \"2024-08-01T23:00:00\", \"pickup_location_id\": 43.0, \"num_pickup\": 19.0}, {\"pickup_datetime_hour\": \"2024-08-02T00:00:00\", \"pickup_location_id\": 27.0, \"num_pickup\": 0.0}, {\"pickup_datetime_hour\": \"2024-08-02T00:00:00\", \"pickup_location_id\": 43.0, \"num_pickup\": 4.0}, {\"pickup_datetime_hour\": \"2024-08-02T01:00:00\", \"pickup_location_id\": 27.0, \"num_pickup\": 0.0}, {\"pickup_datetime_hour\": \"2024-08-02T01:00:00\", \"pickup_location_id\": 43.0, \"num_pickup\": 1.0}, {\"pickup_datetime_hour\": \"2024-08-02T02:00:00\", \"pickup_location_id\": 27.0, \"num_pickup\": 0.0}, {\"pickup_datetime_hour\": \"2024-08-02T02:00:00\", \"pickup_location_id\": 43.0, \"num_pickup\": 0.0}, {\"pickup_datetime_hour\": \"2024-08-02T03:00:00\", \"pickup_location_id\": 27.0, \"num_pickup\": 0.0}, {\"pickup_datetime_hour\": \"2024-08-02T03:00:00\", \"pickup_location_id\": 43.0, \"num_pickup\": 0.0}, {\"pickup_datetime_hour\": \"2024-08-02T04:00:00\", \"pickup_location_id\": 27.0, \"num_pickup\": 0.0}, {\"pickup_datetime_hour\": \"2024-08-02T04:00:00\", \"pickup_location_id\": 43.0, \"num_pickup\": 1.0}, {\"pickup_datetime_hour\": \"2024-08-02T05:00:00\", \"pickup_location_id\": 27.0, \"num_pickup\": 0.0}, {\"pickup_datetime_hour\": \"2024-08-02T05:00:00\", \"pickup_location_id\": 43.0, \"num_pickup\": 2.0}, {\"pickup_datetime_hour\": \"2024-08-02T06:00:00\", \"pickup_location_id\": 27.0, \"num_pickup\": 0.0}, {\"pickup_datetime_hour\": \"2024-08-02T06:00:00\", \"pickup_location_id\": 43.0, \"num_pickup\": 9.0}, {\"pickup_datetime_hour\": \"2024-08-02T07:00:00\", \"pickup_location_id\": 27.0, \"num_pickup\": 0.0}, {\"pickup_datetime_hour\": \"2024-08-02T07:00:00\", \"pickup_location_id\": 43.0, \"num_pickup\": 36.0}, {\"pickup_datetime_hour\": \"2024-08-02T08:00:00\", \"pickup_location_id\": 27.0, \"num_pickup\": 0.0}, {\"pickup_datetime_hour\": \"2024-08-02T08:00:00\", \"pickup_location_id\": 43.0, \"num_pickup\": 43.0}, {\"pickup_datetime_hour\": \"2024-08-02T09:00:00\", \"pickup_location_id\": 27.0, \"num_pickup\": 0.0}, {\"pickup_datetime_hour\": \"2024-08-02T09:00:00\", \"pickup_location_id\": 43.0, \"num_pickup\": 58.0}, {\"pickup_datetime_hour\": \"2024-08-02T10:00:00\", \"pickup_location_id\": 27.0, \"num_pickup\": 0.0}, {\"pickup_datetime_hour\": \"2024-08-02T10:00:00\", \"pickup_location_id\": 43.0, \"num_pickup\": 65.0}, {\"pickup_datetime_hour\": \"2024-08-02T11:00:00\", \"pickup_location_id\": 27.0, \"num_pickup\": 0.0}, {\"pickup_datetime_hour\": \"2024-08-02T11:00:00\", \"pickup_location_id\": 43.0, \"num_pickup\": 94.0}, {\"pickup_datetime_hour\": \"2024-08-02T12:00:00\", \"pickup_location_id\": 27.0, \"num_pickup\": 0.0}, {\"pickup_datetime_hour\": \"2024-08-02T12:00:00\", \"pickup_location_id\": 43.0, \"num_pickup\": 118.0}, {\"pickup_datetime_hour\": \"2024-08-02T13:00:00\", \"pickup_location_id\": 27.0, \"num_pickup\": 0.0}, {\"pickup_datetime_hour\": \"2024-08-02T13:00:00\", \"pickup_location_id\": 43.0, \"num_pickup\": 145.0}, {\"pickup_datetime_hour\": \"2024-08-02T14:00:00\", \"pickup_location_id\": 27.0, \"num_pickup\": 0.0}, {\"pickup_datetime_hour\": \"2024-08-02T14:00:00\", \"pickup_location_id\": 43.0, \"num_pickup\": 181.0}, {\"pickup_datetime_hour\": \"2024-08-02T15:00:00\", \"pickup_location_id\": 27.0, \"num_pickup\": 0.0}, {\"pickup_datetime_hour\": \"2024-08-02T15:00:00\", \"pickup_location_id\": 43.0, \"num_pickup\": 155.0}, {\"pickup_datetime_hour\": \"2024-08-02T16:00:00\", \"pickup_location_id\": 27.0, \"num_pickup\": 0.0}, {\"pickup_datetime_hour\": \"2024-08-02T16:00:00\", \"pickup_location_id\": 43.0, \"num_pickup\": 208.0}, {\"pickup_datetime_hour\": \"2024-08-02T17:00:00\", \"pickup_location_id\": 27.0, \"num_pickup\": 0.0}, {\"pickup_datetime_hour\": \"2024-08-02T17:00:00\", \"pickup_location_id\": 43.0, \"num_pickup\": 158.0}, {\"pickup_datetime_hour\": \"2024-08-02T18:00:00\", \"pickup_location_id\": 27.0, \"num_pickup\": 0.0}, {\"pickup_datetime_hour\": \"2024-08-02T18:00:00\", \"pickup_location_id\": 43.0, \"num_pickup\": 193.0}, {\"pickup_datetime_hour\": \"2024-08-02T19:00:00\", \"pickup_location_id\": 27.0, \"num_pickup\": 1.0}, {\"pickup_datetime_hour\": \"2024-08-02T19:00:00\", \"pickup_location_id\": 43.0, \"num_pickup\": 143.0}, {\"pickup_datetime_hour\": \"2024-08-02T20:00:00\", \"pickup_location_id\": 27.0, \"num_pickup\": 0.0}, {\"pickup_datetime_hour\": \"2024-08-02T20:00:00\", \"pickup_location_id\": 43.0, \"num_pickup\": 92.0}, {\"pickup_datetime_hour\": \"2024-08-02T21:00:00\", \"pickup_location_id\": 27.0, \"num_pickup\": 0.0}, {\"pickup_datetime_hour\": \"2024-08-02T21:00:00\", \"pickup_location_id\": 43.0, \"num_pickup\": 55.0}, {\"pickup_datetime_hour\": \"2024-08-02T22:00:00\", \"pickup_location_id\": 27.0, \"num_pickup\": 0.0}, {\"pickup_datetime_hour\": \"2024-08-02T22:00:00\", \"pickup_location_id\": 43.0, \"num_pickup\": 33.0}, {\"pickup_datetime_hour\": \"2024-08-02T23:00:00\", \"pickup_location_id\": 27.0, \"num_pickup\": 0.0}, {\"pickup_datetime_hour\": \"2024-08-02T23:00:00\", \"pickup_location_id\": 43.0, \"num_pickup\": 28.0}, {\"pickup_datetime_hour\": \"2024-08-03T00:00:00\", \"pickup_location_id\": 27.0, \"num_pickup\": 0.0}, {\"pickup_datetime_hour\": \"2024-08-03T00:00:00\", \"pickup_location_id\": 43.0, \"num_pickup\": 5.0}, {\"pickup_datetime_hour\": \"2024-08-03T01:00:00\", \"pickup_location_id\": 27.0, \"num_pickup\": 0.0}, {\"pickup_datetime_hour\": \"2024-08-03T01:00:00\", \"pickup_location_id\": 43.0, \"num_pickup\": 6.0}, {\"pickup_datetime_hour\": \"2024-08-03T02:00:00\", \"pickup_location_id\": 27.0, \"num_pickup\": 0.0}, {\"pickup_datetime_hour\": \"2024-08-03T02:00:00\", \"pickup_location_id\": 43.0, \"num_pickup\": 1.0}, {\"pickup_datetime_hour\": \"2024-08-03T03:00:00\", \"pickup_location_id\": 27.0, \"num_pickup\": 0.0}, {\"pickup_datetime_hour\": \"2024-08-03T03:00:00\", \"pickup_location_id\": 43.0, \"num_pickup\": 3.0}, {\"pickup_datetime_hour\": \"2024-08-03T04:00:00\", \"pickup_location_id\": 27.0, \"num_pickup\": 0.0}, {\"pickup_datetime_hour\": \"2024-08-03T04:00:00\", \"pickup_location_id\": 43.0, \"num_pickup\": 0.0}, {\"pickup_datetime_hour\": \"2024-08-03T05:00:00\", \"pickup_location_id\": 27.0, \"num_pickup\": 0.0}, {\"pickup_datetime_hour\": \"2024-08-03T05:00:00\", \"pickup_location_id\": 43.0, \"num_pickup\": 2.0}, {\"pickup_datetime_hour\": \"2024-08-03T06:00:00\", \"pickup_location_id\": 27.0, \"num_pickup\": 0.0}, {\"pickup_datetime_hour\": \"2024-08-03T06:00:00\", \"pickup_location_id\": 43.0, \"num_pickup\": 10.0}, {\"pickup_datetime_hour\": \"2024-08-03T07:00:00\", \"pickup_location_id\": 27.0, \"num_pickup\": 0.0}, {\"pickup_datetime_hour\": \"2024-08-03T07:00:00\", \"pickup_location_id\": 43.0, \"num_pickup\": 19.0}, {\"pickup_datetime_hour\": \"2024-08-03T08:00:00\", \"pickup_location_id\": 27.0, \"num_pickup\": 0.0}, {\"pickup_datetime_hour\": \"2024-08-03T08:00:00\", \"pickup_location_id\": 43.0, \"num_pickup\": 21.0}, {\"pickup_datetime_hour\": \"2024-08-03T09:00:00\", \"pickup_location_id\": 27.0, \"num_pickup\": 0.0}, {\"pickup_datetime_hour\": \"2024-08-03T09:00:00\", \"pickup_location_id\": 43.0, \"num_pickup\": 33.0}, {\"pickup_datetime_hour\": \"2024-08-03T10:00:00\", \"pickup_location_id\": 27.0, \"num_pickup\": 0.0}, {\"pickup_datetime_hour\": \"2024-08-03T10:00:00\", \"pickup_location_id\": 43.0, \"num_pickup\": 56.0}, {\"pickup_datetime_hour\": \"2024-08-03T11:00:00\", \"pickup_location_id\": 27.0, \"num_pickup\": 0.0}, {\"pickup_datetime_hour\": \"2024-08-03T11:00:00\", \"pickup_location_id\": 43.0, \"num_pickup\": 78.0}, {\"pickup_datetime_hour\": \"2024-08-03T12:00:00\", \"pickup_location_id\": 27.0, \"num_pickup\": 0.0}, {\"pickup_datetime_hour\": \"2024-08-03T12:00:00\", \"pickup_location_id\": 43.0, \"num_pickup\": 121.0}, {\"pickup_datetime_hour\": \"2024-08-03T13:00:00\", \"pickup_location_id\": 27.0, \"num_pickup\": 0.0}, {\"pickup_datetime_hour\": \"2024-08-03T13:00:00\", \"pickup_location_id\": 43.0, \"num_pickup\": 159.0}, {\"pickup_datetime_hour\": \"2024-08-03T14:00:00\", \"pickup_location_id\": 27.0, \"num_pickup\": 0.0}, {\"pickup_datetime_hour\": \"2024-08-03T14:00:00\", \"pickup_location_id\": 43.0, \"num_pickup\": 167.0}, {\"pickup_datetime_hour\": \"2024-08-03T15:00:00\", \"pickup_location_id\": 27.0, \"num_pickup\": 0.0}, {\"pickup_datetime_hour\": \"2024-08-03T15:00:00\", \"pickup_location_id\": 43.0, \"num_pickup\": 149.0}, {\"pickup_datetime_hour\": \"2024-08-03T16:00:00\", \"pickup_location_id\": 27.0, \"num_pickup\": 0.0}, {\"pickup_datetime_hour\": \"2024-08-03T16:00:00\", \"pickup_location_id\": 43.0, \"num_pickup\": 192.0}, {\"pickup_datetime_hour\": \"2024-08-03T17:00:00\", \"pickup_location_id\": 27.0, \"num_pickup\": 0.0}, {\"pickup_datetime_hour\": \"2024-08-03T17:00:00\", \"pickup_location_id\": 43.0, \"num_pickup\": 266.0}, {\"pickup_datetime_hour\": \"2024-08-03T18:00:00\", \"pickup_location_id\": 27.0, \"num_pickup\": 1.0}, {\"pickup_datetime_hour\": \"2024-08-03T18:00:00\", \"pickup_location_id\": 43.0, \"num_pickup\": 139.0}, {\"pickup_datetime_hour\": \"2024-08-03T19:00:00\", \"pickup_location_id\": 27.0, \"num_pickup\": 0.0}, {\"pickup_datetime_hour\": \"2024-08-03T19:00:00\", \"pickup_location_id\": 43.0, \"num_pickup\": 162.0}, {\"pickup_datetime_hour\": \"2024-08-03T20:00:00\", \"pickup_location_id\": 27.0, \"num_pickup\": 0.0}, {\"pickup_datetime_hour\": \"2024-08-03T20:00:00\", \"pickup_location_id\": 43.0, \"num_pickup\": 115.0}, {\"pickup_datetime_hour\": \"2024-08-03T21:00:00\", \"pickup_location_id\": 27.0, \"num_pickup\": 0.0}, {\"pickup_datetime_hour\": \"2024-08-03T21:00:00\", \"pickup_location_id\": 43.0, \"num_pickup\": 54.0}, {\"pickup_datetime_hour\": \"2024-08-03T22:00:00\", \"pickup_location_id\": 27.0, \"num_pickup\": 0.0}, {\"pickup_datetime_hour\": \"2024-08-03T22:00:00\", \"pickup_location_id\": 43.0, \"num_pickup\": 22.0}, {\"pickup_datetime_hour\": \"2024-08-03T23:00:00\", \"pickup_location_id\": 27.0, \"num_pickup\": 1.0}, {\"pickup_datetime_hour\": \"2024-08-03T23:00:00\", \"pickup_location_id\": 43.0, \"num_pickup\": 20.0}, {\"pickup_datetime_hour\": \"2024-08-04T00:00:00\", \"pickup_location_id\": 27.0, \"num_pickup\": 0.0}, {\"pickup_datetime_hour\": \"2024-08-04T00:00:00\", \"pickup_location_id\": 43.0, \"num_pickup\": 10.0}, {\"pickup_datetime_hour\": \"2024-08-04T01:00:00\", \"pickup_location_id\": 27.0, \"num_pickup\": 0.0}, {\"pickup_datetime_hour\": \"2024-08-04T01:00:00\", \"pickup_location_id\": 43.0, \"num_pickup\": 6.0}, {\"pickup_datetime_hour\": \"2024-08-04T02:00:00\", \"pickup_location_id\": 27.0, \"num_pickup\": 0.0}, {\"pickup_datetime_hour\": \"2024-08-04T02:00:00\", \"pickup_location_id\": 43.0, \"num_pickup\": 1.0}, {\"pickup_datetime_hour\": \"2024-08-04T03:00:00\", \"pickup_location_id\": 27.0, \"num_pickup\": 0.0}, {\"pickup_datetime_hour\": \"2024-08-04T03:00:00\", \"pickup_location_id\": 43.0, \"num_pickup\": 0.0}, {\"pickup_datetime_hour\": \"2024-08-04T04:00:00\", \"pickup_location_id\": 27.0, \"num_pickup\": 0.0}, {\"pickup_datetime_hour\": \"2024-08-04T04:00:00\", \"pickup_location_id\": 43.0, \"num_pickup\": 1.0}, {\"pickup_datetime_hour\": \"2024-08-04T05:00:00\", \"pickup_location_id\": 27.0, \"num_pickup\": 0.0}, {\"pickup_datetime_hour\": \"2024-08-04T05:00:00\", \"pickup_location_id\": 43.0, \"num_pickup\": 1.0}, {\"pickup_datetime_hour\": \"2024-08-04T06:00:00\", \"pickup_location_id\": 27.0, \"num_pickup\": 0.0}, {\"pickup_datetime_hour\": \"2024-08-04T06:00:00\", \"pickup_location_id\": 43.0, \"num_pickup\": 8.0}, {\"pickup_datetime_hour\": \"2024-08-04T07:00:00\", \"pickup_location_id\": 27.0, \"num_pickup\": 0.0}, {\"pickup_datetime_hour\": \"2024-08-04T07:00:00\", \"pickup_location_id\": 43.0, \"num_pickup\": 16.0}, {\"pickup_datetime_hour\": \"2024-08-04T08:00:00\", \"pickup_location_id\": 27.0, \"num_pickup\": 0.0}, {\"pickup_datetime_hour\": \"2024-08-04T08:00:00\", \"pickup_location_id\": 43.0, \"num_pickup\": 17.0}, {\"pickup_datetime_hour\": \"2024-08-04T09:00:00\", \"pickup_location_id\": 27.0, \"num_pickup\": 0.0}, {\"pickup_datetime_hour\": \"2024-08-04T09:00:00\", \"pickup_location_id\": 43.0, \"num_pickup\": 18.0}, {\"pickup_datetime_hour\": \"2024-08-04T10:00:00\", \"pickup_location_id\": 27.0, \"num_pickup\": 0.0}, {\"pickup_datetime_hour\": \"2024-08-04T10:00:00\", \"pickup_location_id\": 43.0, \"num_pickup\": 36.0}, {\"pickup_datetime_hour\": \"2024-08-04T11:00:00\", \"pickup_location_id\": 27.0, \"num_pickup\": 0.0}, {\"pickup_datetime_hour\": \"2024-08-04T11:00:00\", \"pickup_location_id\": 43.0, \"num_pickup\": 84.0}, {\"pickup_datetime_hour\": \"2024-08-04T12:00:00\", \"pickup_location_id\": 27.0, \"num_pickup\": 0.0}, {\"pickup_datetime_hour\": \"2024-08-04T12:00:00\", \"pickup_location_id\": 43.0, \"num_pickup\": 97.0}, {\"pickup_datetime_hour\": \"2024-08-04T13:00:00\", \"pickup_location_id\": 27.0, \"num_pickup\": 0.0}, {\"pickup_datetime_hour\": \"2024-08-04T13:00:00\", \"pickup_location_id\": 43.0, \"num_pickup\": 122.0}, {\"pickup_datetime_hour\": \"2024-08-04T14:00:00\", \"pickup_location_id\": 27.0, \"num_pickup\": 0.0}, {\"pickup_datetime_hour\": \"2024-08-04T14:00:00\", \"pickup_location_id\": 43.0, \"num_pickup\": 188.0}, {\"pickup_datetime_hour\": \"2024-08-04T15:00:00\", \"pickup_location_id\": 27.0, \"num_pickup\": 0.0}, {\"pickup_datetime_hour\": \"2024-08-04T15:00:00\", \"pickup_location_id\": 43.0, \"num_pickup\": 119.0}, {\"pickup_datetime_hour\": \"2024-08-04T16:00:00\", \"pickup_location_id\": 27.0, \"num_pickup\": 0.0}, {\"pickup_datetime_hour\": \"2024-08-04T16:00:00\", \"pickup_location_id\": 43.0, \"num_pickup\": 173.0}, {\"pickup_datetime_hour\": \"2024-08-04T17:00:00\", \"pickup_location_id\": 27.0, \"num_pickup\": 0.0}, {\"pickup_datetime_hour\": \"2024-08-04T17:00:00\", \"pickup_location_id\": 43.0, \"num_pickup\": 100.0}, {\"pickup_datetime_hour\": \"2024-08-04T18:00:00\", \"pickup_location_id\": 27.0, \"num_pickup\": 0.0}, {\"pickup_datetime_hour\": \"2024-08-04T18:00:00\", \"pickup_location_id\": 43.0, \"num_pickup\": 28.0}, {\"pickup_datetime_hour\": \"2024-08-04T19:00:00\", \"pickup_location_id\": 27.0, \"num_pickup\": 0.0}, {\"pickup_datetime_hour\": \"2024-08-04T19:00:00\", \"pickup_location_id\": 43.0, \"num_pickup\": 47.0}, {\"pickup_datetime_hour\": \"2024-08-04T20:00:00\", \"pickup_location_id\": 27.0, \"num_pickup\": 0.0}, {\"pickup_datetime_hour\": \"2024-08-04T20:00:00\", \"pickup_location_id\": 43.0, \"num_pickup\": 25.0}, {\"pickup_datetime_hour\": \"2024-08-04T21:00:00\", \"pickup_location_id\": 27.0, \"num_pickup\": 0.0}, {\"pickup_datetime_hour\": \"2024-08-04T21:00:00\", \"pickup_location_id\": 43.0, \"num_pickup\": 30.0}, {\"pickup_datetime_hour\": \"2024-08-04T22:00:00\", \"pickup_location_id\": 27.0, \"num_pickup\": 0.0}, {\"pickup_datetime_hour\": \"2024-08-04T22:00:00\", \"pickup_location_id\": 43.0, \"num_pickup\": 17.0}, {\"pickup_datetime_hour\": \"2024-08-04T23:00:00\", \"pickup_location_id\": 27.0, \"num_pickup\": 0.0}, {\"pickup_datetime_hour\": \"2024-08-04T23:00:00\", \"pickup_location_id\": 43.0, \"num_pickup\": 5.0}, {\"pickup_datetime_hour\": \"2024-08-05T00:00:00\", \"pickup_location_id\": 27.0, \"num_pickup\": 0.0}, {\"pickup_datetime_hour\": \"2024-08-05T00:00:00\", \"pickup_location_id\": 43.0, \"num_pickup\": 1.0}, {\"pickup_datetime_hour\": \"2024-08-05T01:00:00\", \"pickup_location_id\": 27.0, \"num_pickup\": 0.0}, {\"pickup_datetime_hour\": \"2024-08-05T01:00:00\", \"pickup_location_id\": 43.0, \"num_pickup\": 4.0}, {\"pickup_datetime_hour\": \"2024-08-05T02:00:00\", \"pickup_location_id\": 27.0, \"num_pickup\": 0.0}, {\"pickup_datetime_hour\": \"2024-08-05T02:00:00\", \"pickup_location_id\": 43.0, \"num_pickup\": 0.0}, {\"pickup_datetime_hour\": \"2024-08-05T03:00:00\", \"pickup_location_id\": 27.0, \"num_pickup\": 0.0}, {\"pickup_datetime_hour\": \"2024-08-05T03:00:00\", \"pickup_location_id\": 43.0, \"num_pickup\": 0.0}, {\"pickup_datetime_hour\": \"2024-08-05T04:00:00\", \"pickup_location_id\": 27.0, \"num_pickup\": 0.0}, {\"pickup_datetime_hour\": \"2024-08-05T04:00:00\", \"pickup_location_id\": 43.0, \"num_pickup\": 1.0}, {\"pickup_datetime_hour\": \"2024-08-05T05:00:00\", \"pickup_location_id\": 27.0, \"num_pickup\": 0.0}, {\"pickup_datetime_hour\": \"2024-08-05T05:00:00\", \"pickup_location_id\": 43.0, \"num_pickup\": 2.0}, {\"pickup_datetime_hour\": \"2024-08-05T06:00:00\", \"pickup_location_id\": 27.0, \"num_pickup\": 0.0}, {\"pickup_datetime_hour\": \"2024-08-05T06:00:00\", \"pickup_location_id\": 43.0, \"num_pickup\": 10.0}, {\"pickup_datetime_hour\": \"2024-08-05T07:00:00\", \"pickup_location_id\": 27.0, \"num_pickup\": 0.0}, {\"pickup_datetime_hour\": \"2024-08-05T07:00:00\", \"pickup_location_id\": 43.0, \"num_pickup\": 27.0}, {\"pickup_datetime_hour\": \"2024-08-05T08:00:00\", \"pickup_location_id\": 27.0, \"num_pickup\": 0.0}, {\"pickup_datetime_hour\": \"2024-08-05T08:00:00\", \"pickup_location_id\": 43.0, \"num_pickup\": 23.0}, {\"pickup_datetime_hour\": \"2024-08-05T09:00:00\", \"pickup_location_id\": 27.0, \"num_pickup\": 0.0}, {\"pickup_datetime_hour\": \"2024-08-05T09:00:00\", \"pickup_location_id\": 43.0, \"num_pickup\": 46.0}, {\"pickup_datetime_hour\": \"2024-08-05T10:00:00\", \"pickup_location_id\": 27.0, \"num_pickup\": 0.0}, {\"pickup_datetime_hour\": \"2024-08-05T10:00:00\", \"pickup_location_id\": 43.0, \"num_pickup\": 65.0}, {\"pickup_datetime_hour\": \"2024-08-05T11:00:00\", \"pickup_location_id\": 27.0, \"num_pickup\": 0.0}, {\"pickup_datetime_hour\": \"2024-08-05T11:00:00\", \"pickup_location_id\": 43.0, \"num_pickup\": 94.0}, {\"pickup_datetime_hour\": \"2024-08-05T12:00:00\", \"pickup_location_id\": 27.0, \"num_pickup\": 0.0}, {\"pickup_datetime_hour\": \"2024-08-05T12:00:00\", \"pickup_location_id\": 43.0, \"num_pickup\": 102.0}, {\"pickup_datetime_hour\": \"2024-08-05T13:00:00\", \"pickup_location_id\": 27.0, \"num_pickup\": 0.0}, {\"pickup_datetime_hour\": \"2024-08-05T13:00:00\", \"pickup_location_id\": 43.0, \"num_pickup\": 83.0}, {\"pickup_datetime_hour\": \"2024-08-05T14:00:00\", \"pickup_location_id\": 27.0, \"num_pickup\": 0.0}, {\"pickup_datetime_hour\": \"2024-08-05T14:00:00\", \"pickup_location_id\": 43.0, \"num_pickup\": 144.0}, {\"pickup_datetime_hour\": \"2024-08-05T15:00:00\", \"pickup_location_id\": 27.0, \"num_pickup\": 0.0}, {\"pickup_datetime_hour\": \"2024-08-05T15:00:00\", \"pickup_location_id\": 43.0, \"num_pickup\": 137.0}, {\"pickup_datetime_hour\": \"2024-08-05T16:00:00\", \"pickup_location_id\": 27.0, \"num_pickup\": 0.0}, {\"pickup_datetime_hour\": \"2024-08-05T16:00:00\", \"pickup_location_id\": 43.0, \"num_pickup\": 158.0}, {\"pickup_datetime_hour\": \"2024-08-05T17:00:00\", \"pickup_location_id\": 27.0, \"num_pickup\": 0.0}, {\"pickup_datetime_hour\": \"2024-08-05T17:00:00\", \"pickup_location_id\": 43.0, \"num_pickup\": 102.0}, {\"pickup_datetime_hour\": \"2024-08-05T18:00:00\", \"pickup_location_id\": 27.0, \"num_pickup\": 0.0}, {\"pickup_datetime_hour\": \"2024-08-05T18:00:00\", \"pickup_location_id\": 43.0, \"num_pickup\": 102.0}, {\"pickup_datetime_hour\": \"2024-08-05T19:00:00\", \"pickup_location_id\": 27.0, \"num_pickup\": 1.0}, {\"pickup_datetime_hour\": \"2024-08-05T19:00:00\", \"pickup_location_id\": 43.0, \"num_pickup\": 67.0}, {\"pickup_datetime_hour\": \"2024-08-05T20:00:00\", \"pickup_location_id\": 27.0, \"num_pickup\": 0.0}, {\"pickup_datetime_hour\": \"2024-08-05T20:00:00\", \"pickup_location_id\": 43.0, \"num_pickup\": 56.0}, {\"pickup_datetime_hour\": \"2024-08-05T21:00:00\", \"pickup_location_id\": 27.0, \"num_pickup\": 0.0}, {\"pickup_datetime_hour\": \"2024-08-05T21:00:00\", \"pickup_location_id\": 43.0, \"num_pickup\": 48.0}, {\"pickup_datetime_hour\": \"2024-08-05T22:00:00\", \"pickup_location_id\": 27.0, \"num_pickup\": 0.0}, {\"pickup_datetime_hour\": \"2024-08-05T22:00:00\", \"pickup_location_id\": 43.0, \"num_pickup\": 29.0}, {\"pickup_datetime_hour\": \"2024-08-05T23:00:00\", \"pickup_location_id\": 27.0, \"num_pickup\": 0.0}, {\"pickup_datetime_hour\": \"2024-08-05T23:00:00\", \"pickup_location_id\": 43.0, \"num_pickup\": 9.0}, {\"pickup_datetime_hour\": \"2024-08-06T00:00:00\", \"pickup_location_id\": 27.0, \"num_pickup\": 0.0}, {\"pickup_datetime_hour\": \"2024-08-06T00:00:00\", \"pickup_location_id\": 43.0, \"num_pickup\": 3.0}, {\"pickup_datetime_hour\": \"2024-08-06T01:00:00\", \"pickup_location_id\": 27.0, \"num_pickup\": 0.0}, {\"pickup_datetime_hour\": \"2024-08-06T01:00:00\", \"pickup_location_id\": 43.0, \"num_pickup\": 2.0}, {\"pickup_datetime_hour\": \"2024-08-06T02:00:00\", \"pickup_location_id\": 27.0, \"num_pickup\": 0.0}, {\"pickup_datetime_hour\": \"2024-08-06T02:00:00\", \"pickup_location_id\": 43.0, \"num_pickup\": 0.0}, {\"pickup_datetime_hour\": \"2024-08-06T03:00:00\", \"pickup_location_id\": 27.0, \"num_pickup\": 0.0}, {\"pickup_datetime_hour\": \"2024-08-06T03:00:00\", \"pickup_location_id\": 43.0, \"num_pickup\": 1.0}, {\"pickup_datetime_hour\": \"2024-08-06T04:00:00\", \"pickup_location_id\": 27.0, \"num_pickup\": 0.0}, {\"pickup_datetime_hour\": \"2024-08-06T04:00:00\", \"pickup_location_id\": 43.0, \"num_pickup\": 0.0}, {\"pickup_datetime_hour\": \"2024-08-06T05:00:00\", \"pickup_location_id\": 27.0, \"num_pickup\": 0.0}, {\"pickup_datetime_hour\": \"2024-08-06T05:00:00\", \"pickup_location_id\": 43.0, \"num_pickup\": 3.0}, {\"pickup_datetime_hour\": \"2024-08-06T06:00:00\", \"pickup_location_id\": 27.0, \"num_pickup\": 0.0}, {\"pickup_datetime_hour\": \"2024-08-06T06:00:00\", \"pickup_location_id\": 43.0, \"num_pickup\": 9.0}, {\"pickup_datetime_hour\": \"2024-08-06T07:00:00\", \"pickup_location_id\": 27.0, \"num_pickup\": 0.0}, {\"pickup_datetime_hour\": \"2024-08-06T07:00:00\", \"pickup_location_id\": 43.0, \"num_pickup\": 37.0}, {\"pickup_datetime_hour\": \"2024-08-06T08:00:00\", \"pickup_location_id\": 27.0, \"num_pickup\": 0.0}, {\"pickup_datetime_hour\": \"2024-08-06T08:00:00\", \"pickup_location_id\": 43.0, \"num_pickup\": 38.0}, {\"pickup_datetime_hour\": \"2024-08-06T09:00:00\", \"pickup_location_id\": 27.0, \"num_pickup\": 0.0}, {\"pickup_datetime_hour\": \"2024-08-06T09:00:00\", \"pickup_location_id\": 43.0, \"num_pickup\": 66.0}, {\"pickup_datetime_hour\": \"2024-08-06T10:00:00\", \"pickup_location_id\": 27.0, \"num_pickup\": 0.0}, {\"pickup_datetime_hour\": \"2024-08-06T10:00:00\", \"pickup_location_id\": 43.0, \"num_pickup\": 78.0}, {\"pickup_datetime_hour\": \"2024-08-06T11:00:00\", \"pickup_location_id\": 27.0, \"num_pickup\": 0.0}, {\"pickup_datetime_hour\": \"2024-08-06T11:00:00\", \"pickup_location_id\": 43.0, \"num_pickup\": 113.0}, {\"pickup_datetime_hour\": \"2024-08-06T12:00:00\", \"pickup_location_id\": 27.0, \"num_pickup\": 0.0}, {\"pickup_datetime_hour\": \"2024-08-06T12:00:00\", \"pickup_location_id\": 43.0, \"num_pickup\": 104.0}, {\"pickup_datetime_hour\": \"2024-08-06T13:00:00\", \"pickup_location_id\": 27.0, \"num_pickup\": 0.0}, {\"pickup_datetime_hour\": \"2024-08-06T13:00:00\", \"pickup_location_id\": 43.0, \"num_pickup\": 124.0}, {\"pickup_datetime_hour\": \"2024-08-06T14:00:00\", \"pickup_location_id\": 27.0, \"num_pickup\": 0.0}, {\"pickup_datetime_hour\": \"2024-08-06T14:00:00\", \"pickup_location_id\": 43.0, \"num_pickup\": 165.0}, {\"pickup_datetime_hour\": \"2024-08-06T15:00:00\", \"pickup_location_id\": 27.0, \"num_pickup\": 0.0}, {\"pickup_datetime_hour\": \"2024-08-06T15:00:00\", \"pickup_location_id\": 43.0, \"num_pickup\": 152.0}, {\"pickup_datetime_hour\": \"2024-08-06T16:00:00\", \"pickup_location_id\": 27.0, \"num_pickup\": 0.0}, {\"pickup_datetime_hour\": \"2024-08-06T16:00:00\", \"pickup_location_id\": 43.0, \"num_pickup\": 203.0}, {\"pickup_datetime_hour\": \"2024-08-06T17:00:00\", \"pickup_location_id\": 27.0, \"num_pickup\": 0.0}, {\"pickup_datetime_hour\": \"2024-08-06T17:00:00\", \"pickup_location_id\": 43.0, \"num_pickup\": 153.0}, {\"pickup_datetime_hour\": \"2024-08-06T18:00:00\", \"pickup_location_id\": 27.0, \"num_pickup\": 0.0}, {\"pickup_datetime_hour\": \"2024-08-06T18:00:00\", \"pickup_location_id\": 43.0, \"num_pickup\": 110.0}, {\"pickup_datetime_hour\": \"2024-08-06T19:00:00\", \"pickup_location_id\": 27.0, \"num_pickup\": 0.0}, {\"pickup_datetime_hour\": \"2024-08-06T19:00:00\", \"pickup_location_id\": 43.0, \"num_pickup\": 78.0}, {\"pickup_datetime_hour\": \"2024-08-06T20:00:00\", \"pickup_location_id\": 27.0, \"num_pickup\": 0.0}, {\"pickup_datetime_hour\": \"2024-08-06T20:00:00\", \"pickup_location_id\": 43.0, \"num_pickup\": 28.0}, {\"pickup_datetime_hour\": \"2024-08-06T21:00:00\", \"pickup_location_id\": 27.0, \"num_pickup\": 0.0}, {\"pickup_datetime_hour\": \"2024-08-06T21:00:00\", \"pickup_location_id\": 43.0, \"num_pickup\": 24.0}, {\"pickup_datetime_hour\": \"2024-08-06T22:00:00\", \"pickup_location_id\": 27.0, \"num_pickup\": 0.0}, {\"pickup_datetime_hour\": \"2024-08-06T22:00:00\", \"pickup_location_id\": 43.0, \"num_pickup\": 28.0}, {\"pickup_datetime_hour\": \"2024-08-06T23:00:00\", \"pickup_location_id\": 27.0, \"num_pickup\": 0.0}, {\"pickup_datetime_hour\": \"2024-08-06T23:00:00\", \"pickup_location_id\": 43.0, \"num_pickup\": 25.0}, {\"pickup_datetime_hour\": \"2024-08-07T00:00:00\", \"pickup_location_id\": 27.0, \"num_pickup\": 0.0}, {\"pickup_datetime_hour\": \"2024-08-07T00:00:00\", \"pickup_location_id\": 43.0, \"num_pickup\": 5.0}, {\"pickup_datetime_hour\": \"2024-08-07T01:00:00\", \"pickup_location_id\": 27.0, \"num_pickup\": 0.0}, {\"pickup_datetime_hour\": \"2024-08-07T01:00:00\", \"pickup_location_id\": 43.0, \"num_pickup\": 1.0}, {\"pickup_datetime_hour\": \"2024-08-07T02:00:00\", \"pickup_location_id\": 27.0, \"num_pickup\": 0.0}, {\"pickup_datetime_hour\": \"2024-08-07T02:00:00\", \"pickup_location_id\": 43.0, \"num_pickup\": 0.0}, {\"pickup_datetime_hour\": \"2024-08-07T03:00:00\", \"pickup_location_id\": 27.0, \"num_pickup\": 0.0}, {\"pickup_datetime_hour\": \"2024-08-07T03:00:00\", \"pickup_location_id\": 43.0, \"num_pickup\": 1.0}, {\"pickup_datetime_hour\": \"2024-08-07T04:00:00\", \"pickup_location_id\": 27.0, \"num_pickup\": 0.0}, {\"pickup_datetime_hour\": \"2024-08-07T04:00:00\", \"pickup_location_id\": 43.0, \"num_pickup\": 0.0}, {\"pickup_datetime_hour\": \"2024-08-07T05:00:00\", \"pickup_location_id\": 27.0, \"num_pickup\": 0.0}, {\"pickup_datetime_hour\": \"2024-08-07T05:00:00\", \"pickup_location_id\": 43.0, \"num_pickup\": 0.0}, {\"pickup_datetime_hour\": \"2024-08-07T06:00:00\", \"pickup_location_id\": 27.0, \"num_pickup\": 0.0}, {\"pickup_datetime_hour\": \"2024-08-07T06:00:00\", \"pickup_location_id\": 43.0, \"num_pickup\": 13.0}, {\"pickup_datetime_hour\": \"2024-08-07T07:00:00\", \"pickup_location_id\": 27.0, \"num_pickup\": 0.0}, {\"pickup_datetime_hour\": \"2024-08-07T07:00:00\", \"pickup_location_id\": 43.0, \"num_pickup\": 35.0}, {\"pickup_datetime_hour\": \"2024-08-07T08:00:00\", \"pickup_location_id\": 27.0, \"num_pickup\": 0.0}, {\"pickup_datetime_hour\": \"2024-08-07T08:00:00\", \"pickup_location_id\": 43.0, \"num_pickup\": 55.0}, {\"pickup_datetime_hour\": \"2024-08-07T09:00:00\", \"pickup_location_id\": 27.0, \"num_pickup\": 0.0}, {\"pickup_datetime_hour\": \"2024-08-07T09:00:00\", \"pickup_location_id\": 43.0, \"num_pickup\": 52.0}, {\"pickup_datetime_hour\": \"2024-08-07T10:00:00\", \"pickup_location_id\": 27.0, \"num_pickup\": 0.0}, {\"pickup_datetime_hour\": \"2024-08-07T10:00:00\", \"pickup_location_id\": 43.0, \"num_pickup\": 98.0}, {\"pickup_datetime_hour\": \"2024-08-07T11:00:00\", \"pickup_location_id\": 27.0, \"num_pickup\": 0.0}, {\"pickup_datetime_hour\": \"2024-08-07T11:00:00\", \"pickup_location_id\": 43.0, \"num_pickup\": 103.0}, {\"pickup_datetime_hour\": \"2024-08-07T12:00:00\", \"pickup_location_id\": 27.0, \"num_pickup\": 0.0}, {\"pickup_datetime_hour\": \"2024-08-07T12:00:00\", \"pickup_location_id\": 43.0, \"num_pickup\": 96.0}, {\"pickup_datetime_hour\": \"2024-08-07T13:00:00\", \"pickup_location_id\": 27.0, \"num_pickup\": 0.0}, {\"pickup_datetime_hour\": \"2024-08-07T13:00:00\", \"pickup_location_id\": 43.0, \"num_pickup\": 138.0}, {\"pickup_datetime_hour\": \"2024-08-07T14:00:00\", \"pickup_location_id\": 27.0, \"num_pickup\": 0.0}, {\"pickup_datetime_hour\": \"2024-08-07T14:00:00\", \"pickup_location_id\": 43.0, \"num_pickup\": 115.0}, {\"pickup_datetime_hour\": \"2024-08-07T15:00:00\", \"pickup_location_id\": 27.0, \"num_pickup\": 0.0}, {\"pickup_datetime_hour\": \"2024-08-07T15:00:00\", \"pickup_location_id\": 43.0, \"num_pickup\": 103.0}, {\"pickup_datetime_hour\": \"2024-08-07T16:00:00\", \"pickup_location_id\": 27.0, \"num_pickup\": 0.0}, {\"pickup_datetime_hour\": \"2024-08-07T16:00:00\", \"pickup_location_id\": 43.0, \"num_pickup\": 80.0}, {\"pickup_datetime_hour\": \"2024-08-07T17:00:00\", \"pickup_location_id\": 27.0, \"num_pickup\": 0.0}, {\"pickup_datetime_hour\": \"2024-08-07T17:00:00\", \"pickup_location_id\": 43.0, \"num_pickup\": 85.0}, {\"pickup_datetime_hour\": \"2024-08-07T18:00:00\", \"pickup_location_id\": 27.0, \"num_pickup\": 0.0}, {\"pickup_datetime_hour\": \"2024-08-07T18:00:00\", \"pickup_location_id\": 43.0, \"num_pickup\": 72.0}, {\"pickup_datetime_hour\": \"2024-08-07T19:00:00\", \"pickup_location_id\": 27.0, \"num_pickup\": 0.0}, {\"pickup_datetime_hour\": \"2024-08-07T19:00:00\", \"pickup_location_id\": 43.0, \"num_pickup\": 73.0}, {\"pickup_datetime_hour\": \"2024-08-07T20:00:00\", \"pickup_location_id\": 27.0, \"num_pickup\": 0.0}, {\"pickup_datetime_hour\": \"2024-08-07T20:00:00\", \"pickup_location_id\": 43.0, \"num_pickup\": 53.0}, {\"pickup_datetime_hour\": \"2024-08-07T21:00:00\", \"pickup_location_id\": 27.0, \"num_pickup\": 0.0}, {\"pickup_datetime_hour\": \"2024-08-07T21:00:00\", \"pickup_location_id\": 43.0, \"num_pickup\": 33.0}, {\"pickup_datetime_hour\": \"2024-08-07T22:00:00\", \"pickup_location_id\": 27.0, \"num_pickup\": 0.0}, {\"pickup_datetime_hour\": \"2024-08-07T22:00:00\", \"pickup_location_id\": 43.0, \"num_pickup\": 43.0}, {\"pickup_datetime_hour\": \"2024-08-07T23:00:00\", \"pickup_location_id\": 27.0, \"num_pickup\": 0.0}, {\"pickup_datetime_hour\": \"2024-08-07T23:00:00\", \"pickup_location_id\": 43.0, \"num_pickup\": 15.0}, {\"pickup_datetime_hour\": \"2024-08-08T00:00:00\", \"pickup_location_id\": 27.0, \"num_pickup\": 0.0}, {\"pickup_datetime_hour\": \"2024-08-08T00:00:00\", \"pickup_location_id\": 43.0, \"num_pickup\": 6.0}, {\"pickup_datetime_hour\": \"2024-08-08T01:00:00\", \"pickup_location_id\": 27.0, \"num_pickup\": 0.0}, {\"pickup_datetime_hour\": \"2024-08-08T01:00:00\", \"pickup_location_id\": 43.0, \"num_pickup\": 5.0}, {\"pickup_datetime_hour\": \"2024-08-08T02:00:00\", \"pickup_location_id\": 27.0, \"num_pickup\": 0.0}, {\"pickup_datetime_hour\": \"2024-08-08T02:00:00\", \"pickup_location_id\": 43.0, \"num_pickup\": 0.0}, {\"pickup_datetime_hour\": \"2024-08-08T03:00:00\", \"pickup_location_id\": 27.0, \"num_pickup\": 0.0}, {\"pickup_datetime_hour\": \"2024-08-08T03:00:00\", \"pickup_location_id\": 43.0, \"num_pickup\": 1.0}, {\"pickup_datetime_hour\": \"2024-08-08T04:00:00\", \"pickup_location_id\": 27.0, \"num_pickup\": 0.0}, {\"pickup_datetime_hour\": \"2024-08-08T04:00:00\", \"pickup_location_id\": 43.0, \"num_pickup\": 6.0}, {\"pickup_datetime_hour\": \"2024-08-08T05:00:00\", \"pickup_location_id\": 27.0, \"num_pickup\": 0.0}, {\"pickup_datetime_hour\": \"2024-08-08T05:00:00\", \"pickup_location_id\": 43.0, \"num_pickup\": 1.0}, {\"pickup_datetime_hour\": \"2024-08-08T06:00:00\", \"pickup_location_id\": 27.0, \"num_pickup\": 0.0}, {\"pickup_datetime_hour\": \"2024-08-08T06:00:00\", \"pickup_location_id\": 43.0, \"num_pickup\": 19.0}, {\"pickup_datetime_hour\": \"2024-08-08T07:00:00\", \"pickup_location_id\": 27.0, \"num_pickup\": 0.0}, {\"pickup_datetime_hour\": \"2024-08-08T07:00:00\", \"pickup_location_id\": 43.0, \"num_pickup\": 21.0}, {\"pickup_datetime_hour\": \"2024-08-08T08:00:00\", \"pickup_location_id\": 27.0, \"num_pickup\": 0.0}, {\"pickup_datetime_hour\": \"2024-08-08T08:00:00\", \"pickup_location_id\": 43.0, \"num_pickup\": 41.0}, {\"pickup_datetime_hour\": \"2024-08-08T09:00:00\", \"pickup_location_id\": 27.0, \"num_pickup\": 0.0}, {\"pickup_datetime_hour\": \"2024-08-08T09:00:00\", \"pickup_location_id\": 43.0, \"num_pickup\": 50.0}, {\"pickup_datetime_hour\": \"2024-08-08T10:00:00\", \"pickup_location_id\": 27.0, \"num_pickup\": 0.0}, {\"pickup_datetime_hour\": \"2024-08-08T10:00:00\", \"pickup_location_id\": 43.0, \"num_pickup\": 81.0}, {\"pickup_datetime_hour\": \"2024-08-08T11:00:00\", \"pickup_location_id\": 27.0, \"num_pickup\": 0.0}, {\"pickup_datetime_hour\": \"2024-08-08T11:00:00\", \"pickup_location_id\": 43.0, \"num_pickup\": 107.0}, {\"pickup_datetime_hour\": \"2024-08-08T12:00:00\", \"pickup_location_id\": 27.0, \"num_pickup\": 0.0}, {\"pickup_datetime_hour\": \"2024-08-08T12:00:00\", \"pickup_location_id\": 43.0, \"num_pickup\": 105.0}, {\"pickup_datetime_hour\": \"2024-08-08T13:00:00\", \"pickup_location_id\": 27.0, \"num_pickup\": 0.0}, {\"pickup_datetime_hour\": \"2024-08-08T13:00:00\", \"pickup_location_id\": 43.0, \"num_pickup\": 115.0}, {\"pickup_datetime_hour\": \"2024-08-08T14:00:00\", \"pickup_location_id\": 27.0, \"num_pickup\": 0.0}, {\"pickup_datetime_hour\": \"2024-08-08T14:00:00\", \"pickup_location_id\": 43.0, \"num_pickup\": 139.0}, {\"pickup_datetime_hour\": \"2024-08-08T15:00:00\", \"pickup_location_id\": 27.0, \"num_pickup\": 0.0}, {\"pickup_datetime_hour\": \"2024-08-08T15:00:00\", \"pickup_location_id\": 43.0, \"num_pickup\": 185.0}, {\"pickup_datetime_hour\": \"2024-08-08T16:00:00\", \"pickup_location_id\": 27.0, \"num_pickup\": 0.0}, {\"pickup_datetime_hour\": \"2024-08-08T16:00:00\", \"pickup_location_id\": 43.0, \"num_pickup\": 176.0}, {\"pickup_datetime_hour\": \"2024-08-08T17:00:00\", \"pickup_location_id\": 27.0, \"num_pickup\": 0.0}, {\"pickup_datetime_hour\": \"2024-08-08T17:00:00\", \"pickup_location_id\": 43.0, \"num_pickup\": 147.0}, {\"pickup_datetime_hour\": \"2024-08-08T18:00:00\", \"pickup_location_id\": 27.0, \"num_pickup\": 0.0}, {\"pickup_datetime_hour\": \"2024-08-08T18:00:00\", \"pickup_location_id\": 43.0, \"num_pickup\": 94.0}, {\"pickup_datetime_hour\": \"2024-08-08T19:00:00\", \"pickup_location_id\": 27.0, \"num_pickup\": 0.0}, {\"pickup_datetime_hour\": \"2024-08-08T19:00:00\", \"pickup_location_id\": 43.0, \"num_pickup\": 66.0}, {\"pickup_datetime_hour\": \"2024-08-08T20:00:00\", \"pickup_location_id\": 27.0, \"num_pickup\": 0.0}, {\"pickup_datetime_hour\": \"2024-08-08T20:00:00\", \"pickup_location_id\": 43.0, \"num_pickup\": 36.0}, {\"pickup_datetime_hour\": \"2024-08-08T21:00:00\", \"pickup_location_id\": 27.0, \"num_pickup\": 0.0}, {\"pickup_datetime_hour\": \"2024-08-08T21:00:00\", \"pickup_location_id\": 43.0, \"num_pickup\": 40.0}, {\"pickup_datetime_hour\": \"2024-08-08T22:00:00\", \"pickup_location_id\": 27.0, \"num_pickup\": 0.0}, {\"pickup_datetime_hour\": \"2024-08-08T22:00:00\", \"pickup_location_id\": 43.0, \"num_pickup\": 29.0}, {\"pickup_datetime_hour\": \"2024-08-08T23:00:00\", \"pickup_location_id\": 27.0, \"num_pickup\": 0.0}, {\"pickup_datetime_hour\": \"2024-08-08T23:00:00\", \"pickup_location_id\": 43.0, \"num_pickup\": 13.0}, {\"pickup_datetime_hour\": \"2024-08-09T00:00:00\", \"pickup_location_id\": 27.0, \"num_pickup\": 0.0}, {\"pickup_datetime_hour\": \"2024-08-09T00:00:00\", \"pickup_location_id\": 43.0, \"num_pickup\": 12.0}, {\"pickup_datetime_hour\": \"2024-08-09T01:00:00\", \"pickup_location_id\": 27.0, \"num_pickup\": 0.0}, {\"pickup_datetime_hour\": \"2024-08-09T01:00:00\", \"pickup_location_id\": 43.0, \"num_pickup\": 4.0}, {\"pickup_datetime_hour\": \"2024-08-09T02:00:00\", \"pickup_location_id\": 27.0, \"num_pickup\": 0.0}, {\"pickup_datetime_hour\": \"2024-08-09T02:00:00\", \"pickup_location_id\": 43.0, \"num_pickup\": 1.0}, {\"pickup_datetime_hour\": \"2024-08-09T03:00:00\", \"pickup_location_id\": 27.0, \"num_pickup\": 0.0}, {\"pickup_datetime_hour\": \"2024-08-09T03:00:00\", \"pickup_location_id\": 43.0, \"num_pickup\": 2.0}, {\"pickup_datetime_hour\": \"2024-08-09T04:00:00\", \"pickup_location_id\": 27.0, \"num_pickup\": 0.0}, {\"pickup_datetime_hour\": \"2024-08-09T04:00:00\", \"pickup_location_id\": 43.0, \"num_pickup\": 4.0}, {\"pickup_datetime_hour\": \"2024-08-09T05:00:00\", \"pickup_location_id\": 27.0, \"num_pickup\": 0.0}, {\"pickup_datetime_hour\": \"2024-08-09T05:00:00\", \"pickup_location_id\": 43.0, \"num_pickup\": 1.0}, {\"pickup_datetime_hour\": \"2024-08-09T06:00:00\", \"pickup_location_id\": 27.0, \"num_pickup\": 0.0}, {\"pickup_datetime_hour\": \"2024-08-09T06:00:00\", \"pickup_location_id\": 43.0, \"num_pickup\": 11.0}, {\"pickup_datetime_hour\": \"2024-08-09T07:00:00\", \"pickup_location_id\": 27.0, \"num_pickup\": 0.0}, {\"pickup_datetime_hour\": \"2024-08-09T07:00:00\", \"pickup_location_id\": 43.0, \"num_pickup\": 22.0}, {\"pickup_datetime_hour\": \"2024-08-09T08:00:00\", \"pickup_location_id\": 27.0, \"num_pickup\": 0.0}, {\"pickup_datetime_hour\": \"2024-08-09T08:00:00\", \"pickup_location_id\": 43.0, \"num_pickup\": 25.0}, {\"pickup_datetime_hour\": \"2024-08-09T09:00:00\", \"pickup_location_id\": 27.0, \"num_pickup\": 0.0}, {\"pickup_datetime_hour\": \"2024-08-09T09:00:00\", \"pickup_location_id\": 43.0, \"num_pickup\": 54.0}, {\"pickup_datetime_hour\": \"2024-08-09T10:00:00\", \"pickup_location_id\": 27.0, \"num_pickup\": 0.0}, {\"pickup_datetime_hour\": \"2024-08-09T10:00:00\", \"pickup_location_id\": 43.0, \"num_pickup\": 73.0}, {\"pickup_datetime_hour\": \"2024-08-09T11:00:00\", \"pickup_location_id\": 27.0, \"num_pickup\": 0.0}, {\"pickup_datetime_hour\": \"2024-08-09T11:00:00\", \"pickup_location_id\": 43.0, \"num_pickup\": 91.0}, {\"pickup_datetime_hour\": \"2024-08-09T12:00:00\", \"pickup_location_id\": 27.0, \"num_pickup\": 0.0}, {\"pickup_datetime_hour\": \"2024-08-09T12:00:00\", \"pickup_location_id\": 43.0, \"num_pickup\": 120.0}, {\"pickup_datetime_hour\": \"2024-08-09T13:00:00\", \"pickup_location_id\": 27.0, \"num_pickup\": 0.0}, {\"pickup_datetime_hour\": \"2024-08-09T13:00:00\", \"pickup_location_id\": 43.0, \"num_pickup\": 122.0}, {\"pickup_datetime_hour\": \"2024-08-09T14:00:00\", \"pickup_location_id\": 27.0, \"num_pickup\": 0.0}, {\"pickup_datetime_hour\": \"2024-08-09T14:00:00\", \"pickup_location_id\": 43.0, \"num_pickup\": 147.0}, {\"pickup_datetime_hour\": \"2024-08-09T15:00:00\", \"pickup_location_id\": 27.0, \"num_pickup\": 0.0}, {\"pickup_datetime_hour\": \"2024-08-09T15:00:00\", \"pickup_location_id\": 43.0, \"num_pickup\": 162.0}, {\"pickup_datetime_hour\": \"2024-08-09T16:00:00\", \"pickup_location_id\": 27.0, \"num_pickup\": 0.0}, {\"pickup_datetime_hour\": \"2024-08-09T16:00:00\", \"pickup_location_id\": 43.0, \"num_pickup\": 151.0}, {\"pickup_datetime_hour\": \"2024-08-09T17:00:00\", \"pickup_location_id\": 27.0, \"num_pickup\": 0.0}, {\"pickup_datetime_hour\": \"2024-08-09T17:00:00\", \"pickup_location_id\": 43.0, \"num_pickup\": 153.0}, {\"pickup_datetime_hour\": \"2024-08-09T18:00:00\", \"pickup_location_id\": 27.0, \"num_pickup\": 0.0}, {\"pickup_datetime_hour\": \"2024-08-09T18:00:00\", \"pickup_location_id\": 43.0, \"num_pickup\": 185.0}, {\"pickup_datetime_hour\": \"2024-08-09T19:00:00\", \"pickup_location_id\": 27.0, \"num_pickup\": 0.0}, {\"pickup_datetime_hour\": \"2024-08-09T19:00:00\", \"pickup_location_id\": 43.0, \"num_pickup\": 129.0}, {\"pickup_datetime_hour\": \"2024-08-09T20:00:00\", \"pickup_location_id\": 27.0, \"num_pickup\": 0.0}, {\"pickup_datetime_hour\": \"2024-08-09T20:00:00\", \"pickup_location_id\": 43.0, \"num_pickup\": 106.0}, {\"pickup_datetime_hour\": \"2024-08-09T21:00:00\", \"pickup_location_id\": 27.0, \"num_pickup\": 0.0}, {\"pickup_datetime_hour\": \"2024-08-09T21:00:00\", \"pickup_location_id\": 43.0, \"num_pickup\": 53.0}, {\"pickup_datetime_hour\": \"2024-08-09T22:00:00\", \"pickup_location_id\": 27.0, \"num_pickup\": 0.0}, {\"pickup_datetime_hour\": \"2024-08-09T22:00:00\", \"pickup_location_id\": 43.0, \"num_pickup\": 27.0}, {\"pickup_datetime_hour\": \"2024-08-09T23:00:00\", \"pickup_location_id\": 27.0, \"num_pickup\": 0.0}, {\"pickup_datetime_hour\": \"2024-08-09T23:00:00\", \"pickup_location_id\": 43.0, \"num_pickup\": 21.0}, {\"pickup_datetime_hour\": \"2024-08-10T00:00:00\", \"pickup_location_id\": 27.0, \"num_pickup\": 0.0}, {\"pickup_datetime_hour\": \"2024-08-10T00:00:00\", \"pickup_location_id\": 43.0, \"num_pickup\": 7.0}, {\"pickup_datetime_hour\": \"2024-08-10T01:00:00\", \"pickup_location_id\": 27.0, \"num_pickup\": 0.0}, {\"pickup_datetime_hour\": \"2024-08-10T01:00:00\", \"pickup_location_id\": 43.0, \"num_pickup\": 7.0}, {\"pickup_datetime_hour\": \"2024-08-10T02:00:00\", \"pickup_location_id\": 27.0, \"num_pickup\": 0.0}, {\"pickup_datetime_hour\": \"2024-08-10T02:00:00\", \"pickup_location_id\": 43.0, \"num_pickup\": 1.0}, {\"pickup_datetime_hour\": \"2024-08-10T03:00:00\", \"pickup_location_id\": 27.0, \"num_pickup\": 0.0}, {\"pickup_datetime_hour\": \"2024-08-10T03:00:00\", \"pickup_location_id\": 43.0, \"num_pickup\": 3.0}, {\"pickup_datetime_hour\": \"2024-08-10T04:00:00\", \"pickup_location_id\": 27.0, \"num_pickup\": 0.0}, {\"pickup_datetime_hour\": \"2024-08-10T04:00:00\", \"pickup_location_id\": 43.0, \"num_pickup\": 3.0}, {\"pickup_datetime_hour\": \"2024-08-10T05:00:00\", \"pickup_location_id\": 27.0, \"num_pickup\": 0.0}, {\"pickup_datetime_hour\": \"2024-08-10T05:00:00\", \"pickup_location_id\": 43.0, \"num_pickup\": 1.0}, {\"pickup_datetime_hour\": \"2024-08-10T06:00:00\", \"pickup_location_id\": 27.0, \"num_pickup\": 0.0}, {\"pickup_datetime_hour\": \"2024-08-10T06:00:00\", \"pickup_location_id\": 43.0, \"num_pickup\": 10.0}, {\"pickup_datetime_hour\": \"2024-08-10T07:00:00\", \"pickup_location_id\": 27.0, \"num_pickup\": 0.0}, {\"pickup_datetime_hour\": \"2024-08-10T07:00:00\", \"pickup_location_id\": 43.0, \"num_pickup\": 18.0}, {\"pickup_datetime_hour\": \"2024-08-10T08:00:00\", \"pickup_location_id\": 27.0, \"num_pickup\": 0.0}, {\"pickup_datetime_hour\": \"2024-08-10T08:00:00\", \"pickup_location_id\": 43.0, \"num_pickup\": 16.0}, {\"pickup_datetime_hour\": \"2024-08-10T09:00:00\", \"pickup_location_id\": 27.0, \"num_pickup\": 0.0}, {\"pickup_datetime_hour\": \"2024-08-10T09:00:00\", \"pickup_location_id\": 43.0, \"num_pickup\": 43.0}, {\"pickup_datetime_hour\": \"2024-08-10T10:00:00\", \"pickup_location_id\": 27.0, \"num_pickup\": 0.0}, {\"pickup_datetime_hour\": \"2024-08-10T10:00:00\", \"pickup_location_id\": 43.0, \"num_pickup\": 57.0}, {\"pickup_datetime_hour\": \"2024-08-10T11:00:00\", \"pickup_location_id\": 27.0, \"num_pickup\": 0.0}, {\"pickup_datetime_hour\": \"2024-08-10T11:00:00\", \"pickup_location_id\": 43.0, \"num_pickup\": 88.0}, {\"pickup_datetime_hour\": \"2024-08-10T12:00:00\", \"pickup_location_id\": 27.0, \"num_pickup\": 0.0}, {\"pickup_datetime_hour\": \"2024-08-10T12:00:00\", \"pickup_location_id\": 43.0, \"num_pickup\": 114.0}, {\"pickup_datetime_hour\": \"2024-08-10T13:00:00\", \"pickup_location_id\": 27.0, \"num_pickup\": 0.0}, {\"pickup_datetime_hour\": \"2024-08-10T13:00:00\", \"pickup_location_id\": 43.0, \"num_pickup\": 139.0}, {\"pickup_datetime_hour\": \"2024-08-10T14:00:00\", \"pickup_location_id\": 27.0, \"num_pickup\": 0.0}, {\"pickup_datetime_hour\": \"2024-08-10T14:00:00\", \"pickup_location_id\": 43.0, \"num_pickup\": 143.0}, {\"pickup_datetime_hour\": \"2024-08-10T15:00:00\", \"pickup_location_id\": 27.0, \"num_pickup\": 0.0}, {\"pickup_datetime_hour\": \"2024-08-10T15:00:00\", \"pickup_location_id\": 43.0, \"num_pickup\": 207.0}, {\"pickup_datetime_hour\": \"2024-08-10T16:00:00\", \"pickup_location_id\": 27.0, \"num_pickup\": 2.0}, {\"pickup_datetime_hour\": \"2024-08-10T16:00:00\", \"pickup_location_id\": 43.0, \"num_pickup\": 179.0}, {\"pickup_datetime_hour\": \"2024-08-10T17:00:00\", \"pickup_location_id\": 27.0, \"num_pickup\": 0.0}, {\"pickup_datetime_hour\": \"2024-08-10T17:00:00\", \"pickup_location_id\": 43.0, \"num_pickup\": 156.0}, {\"pickup_datetime_hour\": \"2024-08-10T18:00:00\", \"pickup_location_id\": 27.0, \"num_pickup\": 0.0}, {\"pickup_datetime_hour\": \"2024-08-10T18:00:00\", \"pickup_location_id\": 43.0, \"num_pickup\": 184.0}, {\"pickup_datetime_hour\": \"2024-08-10T19:00:00\", \"pickup_location_id\": 27.0, \"num_pickup\": 0.0}, {\"pickup_datetime_hour\": \"2024-08-10T19:00:00\", \"pickup_location_id\": 43.0, \"num_pickup\": 129.0}, {\"pickup_datetime_hour\": \"2024-08-10T20:00:00\", \"pickup_location_id\": 27.0, \"num_pickup\": 0.0}, {\"pickup_datetime_hour\": \"2024-08-10T20:00:00\", \"pickup_location_id\": 43.0, \"num_pickup\": 132.0}, {\"pickup_datetime_hour\": \"2024-08-10T21:00:00\", \"pickup_location_id\": 27.0, \"num_pickup\": 1.0}, {\"pickup_datetime_hour\": \"2024-08-10T21:00:00\", \"pickup_location_id\": 43.0, \"num_pickup\": 70.0}, {\"pickup_datetime_hour\": \"2024-08-10T22:00:00\", \"pickup_location_id\": 27.0, \"num_pickup\": 0.0}, {\"pickup_datetime_hour\": \"2024-08-10T22:00:00\", \"pickup_location_id\": 43.0, \"num_pickup\": 47.0}, {\"pickup_datetime_hour\": \"2024-08-10T23:00:00\", \"pickup_location_id\": 27.0, \"num_pickup\": 0.0}, {\"pickup_datetime_hour\": \"2024-08-10T23:00:00\", \"pickup_location_id\": 43.0, \"num_pickup\": 17.0}, {\"pickup_datetime_hour\": \"2024-08-11T00:00:00\", \"pickup_location_id\": 27.0, \"num_pickup\": 0.0}, {\"pickup_datetime_hour\": \"2024-08-11T00:00:00\", \"pickup_location_id\": 43.0, \"num_pickup\": 10.0}, {\"pickup_datetime_hour\": \"2024-08-11T01:00:00\", \"pickup_location_id\": 27.0, \"num_pickup\": 0.0}, {\"pickup_datetime_hour\": \"2024-08-11T01:00:00\", \"pickup_location_id\": 43.0, \"num_pickup\": 7.0}, {\"pickup_datetime_hour\": \"2024-08-11T02:00:00\", \"pickup_location_id\": 27.0, \"num_pickup\": 0.0}, {\"pickup_datetime_hour\": \"2024-08-11T02:00:00\", \"pickup_location_id\": 43.0, \"num_pickup\": 4.0}, {\"pickup_datetime_hour\": \"2024-08-11T03:00:00\", \"pickup_location_id\": 27.0, \"num_pickup\": 0.0}, {\"pickup_datetime_hour\": \"2024-08-11T03:00:00\", \"pickup_location_id\": 43.0, \"num_pickup\": 4.0}, {\"pickup_datetime_hour\": \"2024-08-11T04:00:00\", \"pickup_location_id\": 27.0, \"num_pickup\": 0.0}, {\"pickup_datetime_hour\": \"2024-08-11T04:00:00\", \"pickup_location_id\": 43.0, \"num_pickup\": 2.0}, {\"pickup_datetime_hour\": \"2024-08-11T05:00:00\", \"pickup_location_id\": 27.0, \"num_pickup\": 0.0}, {\"pickup_datetime_hour\": \"2024-08-11T05:00:00\", \"pickup_location_id\": 43.0, \"num_pickup\": 1.0}, {\"pickup_datetime_hour\": \"2024-08-11T06:00:00\", \"pickup_location_id\": 27.0, \"num_pickup\": 0.0}, {\"pickup_datetime_hour\": \"2024-08-11T06:00:00\", \"pickup_location_id\": 43.0, \"num_pickup\": 12.0}, {\"pickup_datetime_hour\": \"2024-08-11T07:00:00\", \"pickup_location_id\": 27.0, \"num_pickup\": 0.0}, {\"pickup_datetime_hour\": \"2024-08-11T07:00:00\", \"pickup_location_id\": 43.0, \"num_pickup\": 11.0}, {\"pickup_datetime_hour\": \"2024-08-11T08:00:00\", \"pickup_location_id\": 27.0, \"num_pickup\": 0.0}, {\"pickup_datetime_hour\": \"2024-08-11T08:00:00\", \"pickup_location_id\": 43.0, \"num_pickup\": 22.0}, {\"pickup_datetime_hour\": \"2024-08-11T09:00:00\", \"pickup_location_id\": 27.0, \"num_pickup\": 0.0}, {\"pickup_datetime_hour\": \"2024-08-11T09:00:00\", \"pickup_location_id\": 43.0, \"num_pickup\": 44.0}, {\"pickup_datetime_hour\": \"2024-08-11T10:00:00\", \"pickup_location_id\": 27.0, \"num_pickup\": 0.0}, {\"pickup_datetime_hour\": \"2024-08-11T10:00:00\", \"pickup_location_id\": 43.0, \"num_pickup\": 50.0}, {\"pickup_datetime_hour\": \"2024-08-11T11:00:00\", \"pickup_location_id\": 27.0, \"num_pickup\": 0.0}, {\"pickup_datetime_hour\": \"2024-08-11T11:00:00\", \"pickup_location_id\": 43.0, \"num_pickup\": 47.0}, {\"pickup_datetime_hour\": \"2024-08-11T12:00:00\", \"pickup_location_id\": 27.0, \"num_pickup\": 0.0}, {\"pickup_datetime_hour\": \"2024-08-11T12:00:00\", \"pickup_location_id\": 43.0, \"num_pickup\": 114.0}, {\"pickup_datetime_hour\": \"2024-08-11T13:00:00\", \"pickup_location_id\": 27.0, \"num_pickup\": 0.0}, {\"pickup_datetime_hour\": \"2024-08-11T13:00:00\", \"pickup_location_id\": 43.0, \"num_pickup\": 115.0}, {\"pickup_datetime_hour\": \"2024-08-11T14:00:00\", \"pickup_location_id\": 27.0, \"num_pickup\": 0.0}, {\"pickup_datetime_hour\": \"2024-08-11T14:00:00\", \"pickup_location_id\": 43.0, \"num_pickup\": 103.0}, {\"pickup_datetime_hour\": \"2024-08-11T15:00:00\", \"pickup_location_id\": 27.0, \"num_pickup\": 0.0}, {\"pickup_datetime_hour\": \"2024-08-11T15:00:00\", \"pickup_location_id\": 43.0, \"num_pickup\": 147.0}, {\"pickup_datetime_hour\": \"2024-08-11T16:00:00\", \"pickup_location_id\": 27.0, \"num_pickup\": 0.0}, {\"pickup_datetime_hour\": \"2024-08-11T16:00:00\", \"pickup_location_id\": 43.0, \"num_pickup\": 155.0}, {\"pickup_datetime_hour\": \"2024-08-11T17:00:00\", \"pickup_location_id\": 27.0, \"num_pickup\": 0.0}, {\"pickup_datetime_hour\": \"2024-08-11T17:00:00\", \"pickup_location_id\": 43.0, \"num_pickup\": 108.0}, {\"pickup_datetime_hour\": \"2024-08-11T18:00:00\", \"pickup_location_id\": 27.0, \"num_pickup\": 1.0}, {\"pickup_datetime_hour\": \"2024-08-11T18:00:00\", \"pickup_location_id\": 43.0, \"num_pickup\": 91.0}, {\"pickup_datetime_hour\": \"2024-08-11T19:00:00\", \"pickup_location_id\": 27.0, \"num_pickup\": 0.0}, {\"pickup_datetime_hour\": \"2024-08-11T19:00:00\", \"pickup_location_id\": 43.0, \"num_pickup\": 61.0}, {\"pickup_datetime_hour\": \"2024-08-11T20:00:00\", \"pickup_location_id\": 27.0, \"num_pickup\": 0.0}, {\"pickup_datetime_hour\": \"2024-08-11T20:00:00\", \"pickup_location_id\": 43.0, \"num_pickup\": 55.0}, {\"pickup_datetime_hour\": \"2024-08-11T21:00:00\", \"pickup_location_id\": 27.0, \"num_pickup\": 0.0}, {\"pickup_datetime_hour\": \"2024-08-11T21:00:00\", \"pickup_location_id\": 43.0, \"num_pickup\": 26.0}, {\"pickup_datetime_hour\": \"2024-08-11T22:00:00\", \"pickup_location_id\": 27.0, \"num_pickup\": 0.0}, {\"pickup_datetime_hour\": \"2024-08-11T22:00:00\", \"pickup_location_id\": 43.0, \"num_pickup\": 21.0}, {\"pickup_datetime_hour\": \"2024-08-11T23:00:00\", \"pickup_location_id\": 27.0, \"num_pickup\": 0.0}, {\"pickup_datetime_hour\": \"2024-08-11T23:00:00\", \"pickup_location_id\": 43.0, \"num_pickup\": 11.0}, {\"pickup_datetime_hour\": \"2024-08-12T00:00:00\", \"pickup_location_id\": 27.0, \"num_pickup\": 0.0}, {\"pickup_datetime_hour\": \"2024-08-12T00:00:00\", \"pickup_location_id\": 43.0, \"num_pickup\": 4.0}, {\"pickup_datetime_hour\": \"2024-08-12T01:00:00\", \"pickup_location_id\": 27.0, \"num_pickup\": 0.0}, {\"pickup_datetime_hour\": \"2024-08-12T01:00:00\", \"pickup_location_id\": 43.0, \"num_pickup\": 2.0}, {\"pickup_datetime_hour\": \"2024-08-12T02:00:00\", \"pickup_location_id\": 27.0, \"num_pickup\": 0.0}, {\"pickup_datetime_hour\": \"2024-08-12T02:00:00\", \"pickup_location_id\": 43.0, \"num_pickup\": 0.0}, {\"pickup_datetime_hour\": \"2024-08-12T03:00:00\", \"pickup_location_id\": 27.0, \"num_pickup\": 0.0}, {\"pickup_datetime_hour\": \"2024-08-12T03:00:00\", \"pickup_location_id\": 43.0, \"num_pickup\": 0.0}, {\"pickup_datetime_hour\": \"2024-08-12T04:00:00\", \"pickup_location_id\": 27.0, \"num_pickup\": 0.0}, {\"pickup_datetime_hour\": \"2024-08-12T04:00:00\", \"pickup_location_id\": 43.0, \"num_pickup\": 0.0}, {\"pickup_datetime_hour\": \"2024-08-12T05:00:00\", \"pickup_location_id\": 27.0, \"num_pickup\": 0.0}, {\"pickup_datetime_hour\": \"2024-08-12T05:00:00\", \"pickup_location_id\": 43.0, \"num_pickup\": 4.0}, {\"pickup_datetime_hour\": \"2024-08-12T06:00:00\", \"pickup_location_id\": 27.0, \"num_pickup\": 0.0}, {\"pickup_datetime_hour\": \"2024-08-12T06:00:00\", \"pickup_location_id\": 43.0, \"num_pickup\": 16.0}, {\"pickup_datetime_hour\": \"2024-08-12T07:00:00\", \"pickup_location_id\": 27.0, \"num_pickup\": 0.0}, {\"pickup_datetime_hour\": \"2024-08-12T07:00:00\", \"pickup_location_id\": 43.0, \"num_pickup\": 21.0}, {\"pickup_datetime_hour\": \"2024-08-12T08:00:00\", \"pickup_location_id\": 27.0, \"num_pickup\": 0.0}, {\"pickup_datetime_hour\": \"2024-08-12T08:00:00\", \"pickup_location_id\": 43.0, \"num_pickup\": 34.0}, {\"pickup_datetime_hour\": \"2024-08-12T09:00:00\", \"pickup_location_id\": 27.0, \"num_pickup\": 0.0}, {\"pickup_datetime_hour\": \"2024-08-12T09:00:00\", \"pickup_location_id\": 43.0, \"num_pickup\": 37.0}, {\"pickup_datetime_hour\": \"2024-08-12T10:00:00\", \"pickup_location_id\": 27.0, \"num_pickup\": 0.0}, {\"pickup_datetime_hour\": \"2024-08-12T10:00:00\", \"pickup_location_id\": 43.0, \"num_pickup\": 47.0}, {\"pickup_datetime_hour\": \"2024-08-12T11:00:00\", \"pickup_location_id\": 27.0, \"num_pickup\": 0.0}, {\"pickup_datetime_hour\": \"2024-08-12T11:00:00\", \"pickup_location_id\": 43.0, \"num_pickup\": 79.0}, {\"pickup_datetime_hour\": \"2024-08-12T12:00:00\", \"pickup_location_id\": 27.0, \"num_pickup\": 0.0}, {\"pickup_datetime_hour\": \"2024-08-12T12:00:00\", \"pickup_location_id\": 43.0, \"num_pickup\": 93.0}, {\"pickup_datetime_hour\": \"2024-08-12T13:00:00\", \"pickup_location_id\": 27.0, \"num_pickup\": 0.0}, {\"pickup_datetime_hour\": \"2024-08-12T13:00:00\", \"pickup_location_id\": 43.0, \"num_pickup\": 97.0}, {\"pickup_datetime_hour\": \"2024-08-12T14:00:00\", \"pickup_location_id\": 27.0, \"num_pickup\": 0.0}, {\"pickup_datetime_hour\": \"2024-08-12T14:00:00\", \"pickup_location_id\": 43.0, \"num_pickup\": 137.0}, {\"pickup_datetime_hour\": \"2024-08-12T15:00:00\", \"pickup_location_id\": 27.0, \"num_pickup\": 0.0}, {\"pickup_datetime_hour\": \"2024-08-12T15:00:00\", \"pickup_location_id\": 43.0, \"num_pickup\": 166.0}, {\"pickup_datetime_hour\": \"2024-08-12T16:00:00\", \"pickup_location_id\": 27.0, \"num_pickup\": 0.0}, {\"pickup_datetime_hour\": \"2024-08-12T16:00:00\", \"pickup_location_id\": 43.0, \"num_pickup\": 112.0}, {\"pickup_datetime_hour\": \"2024-08-12T17:00:00\", \"pickup_location_id\": 27.0, \"num_pickup\": 1.0}, {\"pickup_datetime_hour\": \"2024-08-12T17:00:00\", \"pickup_location_id\": 43.0, \"num_pickup\": 105.0}, {\"pickup_datetime_hour\": \"2024-08-12T18:00:00\", \"pickup_location_id\": 27.0, \"num_pickup\": 0.0}, {\"pickup_datetime_hour\": \"2024-08-12T18:00:00\", \"pickup_location_id\": 43.0, \"num_pickup\": 78.0}, {\"pickup_datetime_hour\": \"2024-08-12T19:00:00\", \"pickup_location_id\": 27.0, \"num_pickup\": 0.0}, {\"pickup_datetime_hour\": \"2024-08-12T19:00:00\", \"pickup_location_id\": 43.0, \"num_pickup\": 67.0}, {\"pickup_datetime_hour\": \"2024-08-12T20:00:00\", \"pickup_location_id\": 27.0, \"num_pickup\": 0.0}, {\"pickup_datetime_hour\": \"2024-08-12T20:00:00\", \"pickup_location_id\": 43.0, \"num_pickup\": 58.0}, {\"pickup_datetime_hour\": \"2024-08-12T21:00:00\", \"pickup_location_id\": 27.0, \"num_pickup\": 0.0}, {\"pickup_datetime_hour\": \"2024-08-12T21:00:00\", \"pickup_location_id\": 43.0, \"num_pickup\": 40.0}, {\"pickup_datetime_hour\": \"2024-08-12T22:00:00\", \"pickup_location_id\": 27.0, \"num_pickup\": 0.0}, {\"pickup_datetime_hour\": \"2024-08-12T22:00:00\", \"pickup_location_id\": 43.0, \"num_pickup\": 13.0}, {\"pickup_datetime_hour\": \"2024-08-12T23:00:00\", \"pickup_location_id\": 27.0, \"num_pickup\": 0.0}, {\"pickup_datetime_hour\": \"2024-08-12T23:00:00\", \"pickup_location_id\": 43.0, \"num_pickup\": 12.0}, {\"pickup_datetime_hour\": \"2024-08-13T00:00:00\", \"pickup_location_id\": 27.0, \"num_pickup\": 0.0}, {\"pickup_datetime_hour\": \"2024-08-13T00:00:00\", \"pickup_location_id\": 43.0, \"num_pickup\": 5.0}, {\"pickup_datetime_hour\": \"2024-08-13T01:00:00\", \"pickup_location_id\": 27.0, \"num_pickup\": 0.0}, {\"pickup_datetime_hour\": \"2024-08-13T01:00:00\", \"pickup_location_id\": 43.0, \"num_pickup\": 1.0}, {\"pickup_datetime_hour\": \"2024-08-13T02:00:00\", \"pickup_location_id\": 27.0, \"num_pickup\": 0.0}, {\"pickup_datetime_hour\": \"2024-08-13T02:00:00\", \"pickup_location_id\": 43.0, \"num_pickup\": 1.0}, {\"pickup_datetime_hour\": \"2024-08-13T03:00:00\", \"pickup_location_id\": 27.0, \"num_pickup\": 0.0}, {\"pickup_datetime_hour\": \"2024-08-13T03:00:00\", \"pickup_location_id\": 43.0, \"num_pickup\": 0.0}, {\"pickup_datetime_hour\": \"2024-08-13T04:00:00\", \"pickup_location_id\": 27.0, \"num_pickup\": 0.0}, {\"pickup_datetime_hour\": \"2024-08-13T04:00:00\", \"pickup_location_id\": 43.0, \"num_pickup\": 0.0}, {\"pickup_datetime_hour\": \"2024-08-13T05:00:00\", \"pickup_location_id\": 27.0, \"num_pickup\": 0.0}, {\"pickup_datetime_hour\": \"2024-08-13T05:00:00\", \"pickup_location_id\": 43.0, \"num_pickup\": 3.0}, {\"pickup_datetime_hour\": \"2024-08-13T06:00:00\", \"pickup_location_id\": 27.0, \"num_pickup\": 0.0}, {\"pickup_datetime_hour\": \"2024-08-13T06:00:00\", \"pickup_location_id\": 43.0, \"num_pickup\": 11.0}, {\"pickup_datetime_hour\": \"2024-08-13T07:00:00\", \"pickup_location_id\": 27.0, \"num_pickup\": 0.0}, {\"pickup_datetime_hour\": \"2024-08-13T07:00:00\", \"pickup_location_id\": 43.0, \"num_pickup\": 28.0}, {\"pickup_datetime_hour\": \"2024-08-13T08:00:00\", \"pickup_location_id\": 27.0, \"num_pickup\": 0.0}, {\"pickup_datetime_hour\": \"2024-08-13T08:00:00\", \"pickup_location_id\": 43.0, \"num_pickup\": 34.0}, {\"pickup_datetime_hour\": \"2024-08-13T09:00:00\", \"pickup_location_id\": 27.0, \"num_pickup\": 0.0}, {\"pickup_datetime_hour\": \"2024-08-13T09:00:00\", \"pickup_location_id\": 43.0, \"num_pickup\": 51.0}, {\"pickup_datetime_hour\": \"2024-08-13T10:00:00\", \"pickup_location_id\": 27.0, \"num_pickup\": 0.0}, {\"pickup_datetime_hour\": \"2024-08-13T10:00:00\", \"pickup_location_id\": 43.0, \"num_pickup\": 65.0}, {\"pickup_datetime_hour\": \"2024-08-13T11:00:00\", \"pickup_location_id\": 27.0, \"num_pickup\": 0.0}, {\"pickup_datetime_hour\": \"2024-08-13T11:00:00\", \"pickup_location_id\": 43.0, \"num_pickup\": 77.0}, {\"pickup_datetime_hour\": \"2024-08-13T12:00:00\", \"pickup_location_id\": 27.0, \"num_pickup\": 0.0}, {\"pickup_datetime_hour\": \"2024-08-13T12:00:00\", \"pickup_location_id\": 43.0, \"num_pickup\": 118.0}, {\"pickup_datetime_hour\": \"2024-08-13T13:00:00\", \"pickup_location_id\": 27.0, \"num_pickup\": 0.0}, {\"pickup_datetime_hour\": \"2024-08-13T13:00:00\", \"pickup_location_id\": 43.0, \"num_pickup\": 109.0}, {\"pickup_datetime_hour\": \"2024-08-13T14:00:00\", \"pickup_location_id\": 27.0, \"num_pickup\": 0.0}, {\"pickup_datetime_hour\": \"2024-08-13T14:00:00\", \"pickup_location_id\": 43.0, \"num_pickup\": 126.0}, {\"pickup_datetime_hour\": \"2024-08-13T15:00:00\", \"pickup_location_id\": 27.0, \"num_pickup\": 0.0}, {\"pickup_datetime_hour\": \"2024-08-13T15:00:00\", \"pickup_location_id\": 43.0, \"num_pickup\": 128.0}, {\"pickup_datetime_hour\": \"2024-08-13T16:00:00\", \"pickup_location_id\": 27.0, \"num_pickup\": 0.0}, {\"pickup_datetime_hour\": \"2024-08-13T16:00:00\", \"pickup_location_id\": 43.0, \"num_pickup\": 131.0}, {\"pickup_datetime_hour\": \"2024-08-13T17:00:00\", \"pickup_location_id\": 27.0, \"num_pickup\": 0.0}, {\"pickup_datetime_hour\": \"2024-08-13T17:00:00\", \"pickup_location_id\": 43.0, \"num_pickup\": 115.0}, {\"pickup_datetime_hour\": \"2024-08-13T18:00:00\", \"pickup_location_id\": 27.0, \"num_pickup\": 0.0}, {\"pickup_datetime_hour\": \"2024-08-13T18:00:00\", \"pickup_location_id\": 43.0, \"num_pickup\": 105.0}, {\"pickup_datetime_hour\": \"2024-08-13T19:00:00\", \"pickup_location_id\": 27.0, \"num_pickup\": 0.0}, {\"pickup_datetime_hour\": \"2024-08-13T19:00:00\", \"pickup_location_id\": 43.0, \"num_pickup\": 75.0}, {\"pickup_datetime_hour\": \"2024-08-13T20:00:00\", \"pickup_location_id\": 27.0, \"num_pickup\": 0.0}, {\"pickup_datetime_hour\": \"2024-08-13T20:00:00\", \"pickup_location_id\": 43.0, \"num_pickup\": 65.0}, {\"pickup_datetime_hour\": \"2024-08-13T21:00:00\", \"pickup_location_id\": 27.0, \"num_pickup\": 0.0}, {\"pickup_datetime_hour\": \"2024-08-13T21:00:00\", \"pickup_location_id\": 43.0, \"num_pickup\": 47.0}, {\"pickup_datetime_hour\": \"2024-08-13T22:00:00\", \"pickup_location_id\": 27.0, \"num_pickup\": 0.0}, {\"pickup_datetime_hour\": \"2024-08-13T22:00:00\", \"pickup_location_id\": 43.0, \"num_pickup\": 36.0}, {\"pickup_datetime_hour\": \"2024-08-13T23:00:00\", \"pickup_location_id\": 27.0, \"num_pickup\": 0.0}, {\"pickup_datetime_hour\": \"2024-08-13T23:00:00\", \"pickup_location_id\": 43.0, \"num_pickup\": 12.0}, {\"pickup_datetime_hour\": \"2024-08-14T00:00:00\", \"pickup_location_id\": 27.0, \"num_pickup\": 0.0}, {\"pickup_datetime_hour\": \"2024-08-14T00:00:00\", \"pickup_location_id\": 43.0, \"num_pickup\": 11.0}, {\"pickup_datetime_hour\": \"2024-08-14T01:00:00\", \"pickup_location_id\": 27.0, \"num_pickup\": 0.0}, {\"pickup_datetime_hour\": \"2024-08-14T01:00:00\", \"pickup_location_id\": 43.0, \"num_pickup\": 2.0}, {\"pickup_datetime_hour\": \"2024-08-14T02:00:00\", \"pickup_location_id\": 27.0, \"num_pickup\": 0.0}, {\"pickup_datetime_hour\": \"2024-08-14T02:00:00\", \"pickup_location_id\": 43.0, \"num_pickup\": 1.0}, {\"pickup_datetime_hour\": \"2024-08-14T03:00:00\", \"pickup_location_id\": 27.0, \"num_pickup\": 0.0}, {\"pickup_datetime_hour\": \"2024-08-14T03:00:00\", \"pickup_location_id\": 43.0, \"num_pickup\": 0.0}, {\"pickup_datetime_hour\": \"2024-08-14T04:00:00\", \"pickup_location_id\": 27.0, \"num_pickup\": 0.0}, {\"pickup_datetime_hour\": \"2024-08-14T04:00:00\", \"pickup_location_id\": 43.0, \"num_pickup\": 2.0}, {\"pickup_datetime_hour\": \"2024-08-14T05:00:00\", \"pickup_location_id\": 27.0, \"num_pickup\": 0.0}, {\"pickup_datetime_hour\": \"2024-08-14T05:00:00\", \"pickup_location_id\": 43.0, \"num_pickup\": 2.0}, {\"pickup_datetime_hour\": \"2024-08-14T06:00:00\", \"pickup_location_id\": 27.0, \"num_pickup\": 0.0}, {\"pickup_datetime_hour\": \"2024-08-14T06:00:00\", \"pickup_location_id\": 43.0, \"num_pickup\": 19.0}, {\"pickup_datetime_hour\": \"2024-08-14T07:00:00\", \"pickup_location_id\": 27.0, \"num_pickup\": 0.0}, {\"pickup_datetime_hour\": \"2024-08-14T07:00:00\", \"pickup_location_id\": 43.0, \"num_pickup\": 24.0}, {\"pickup_datetime_hour\": \"2024-08-14T08:00:00\", \"pickup_location_id\": 27.0, \"num_pickup\": 0.0}, {\"pickup_datetime_hour\": \"2024-08-14T08:00:00\", \"pickup_location_id\": 43.0, \"num_pickup\": 34.0}, {\"pickup_datetime_hour\": \"2024-08-14T09:00:00\", \"pickup_location_id\": 27.0, \"num_pickup\": 0.0}, {\"pickup_datetime_hour\": \"2024-08-14T09:00:00\", \"pickup_location_id\": 43.0, \"num_pickup\": 43.0}, {\"pickup_datetime_hour\": \"2024-08-14T10:00:00\", \"pickup_location_id\": 27.0, \"num_pickup\": 0.0}, {\"pickup_datetime_hour\": \"2024-08-14T10:00:00\", \"pickup_location_id\": 43.0, \"num_pickup\": 73.0}, {\"pickup_datetime_hour\": \"2024-08-14T11:00:00\", \"pickup_location_id\": 27.0, \"num_pickup\": 0.0}, {\"pickup_datetime_hour\": \"2024-08-14T11:00:00\", \"pickup_location_id\": 43.0, \"num_pickup\": 88.0}, {\"pickup_datetime_hour\": \"2024-08-14T12:00:00\", \"pickup_location_id\": 27.0, \"num_pickup\": 0.0}, {\"pickup_datetime_hour\": \"2024-08-14T12:00:00\", \"pickup_location_id\": 43.0, \"num_pickup\": 103.0}, {\"pickup_datetime_hour\": \"2024-08-14T13:00:00\", \"pickup_location_id\": 27.0, \"num_pickup\": 0.0}, {\"pickup_datetime_hour\": \"2024-08-14T13:00:00\", \"pickup_location_id\": 43.0, \"num_pickup\": 109.0}, {\"pickup_datetime_hour\": \"2024-08-14T14:00:00\", \"pickup_location_id\": 27.0, \"num_pickup\": 0.0}, {\"pickup_datetime_hour\": \"2024-08-14T14:00:00\", \"pickup_location_id\": 43.0, \"num_pickup\": 108.0}, {\"pickup_datetime_hour\": \"2024-08-14T15:00:00\", \"pickup_location_id\": 27.0, \"num_pickup\": 0.0}, {\"pickup_datetime_hour\": \"2024-08-14T15:00:00\", \"pickup_location_id\": 43.0, \"num_pickup\": 126.0}, {\"pickup_datetime_hour\": \"2024-08-14T16:00:00\", \"pickup_location_id\": 27.0, \"num_pickup\": 0.0}, {\"pickup_datetime_hour\": \"2024-08-14T16:00:00\", \"pickup_location_id\": 43.0, \"num_pickup\": 95.0}, {\"pickup_datetime_hour\": \"2024-08-14T17:00:00\", \"pickup_location_id\": 27.0, \"num_pickup\": 0.0}, {\"pickup_datetime_hour\": \"2024-08-14T17:00:00\", \"pickup_location_id\": 43.0, \"num_pickup\": 95.0}, {\"pickup_datetime_hour\": \"2024-08-14T18:00:00\", \"pickup_location_id\": 27.0, \"num_pickup\": 0.0}, {\"pickup_datetime_hour\": \"2024-08-14T18:00:00\", \"pickup_location_id\": 43.0, \"num_pickup\": 104.0}, {\"pickup_datetime_hour\": \"2024-08-14T19:00:00\", \"pickup_location_id\": 27.0, \"num_pickup\": 0.0}, {\"pickup_datetime_hour\": \"2024-08-14T19:00:00\", \"pickup_location_id\": 43.0, \"num_pickup\": 70.0}, {\"pickup_datetime_hour\": \"2024-08-14T20:00:00\", \"pickup_location_id\": 27.0, \"num_pickup\": 0.0}, {\"pickup_datetime_hour\": \"2024-08-14T20:00:00\", \"pickup_location_id\": 43.0, \"num_pickup\": 66.0}, {\"pickup_datetime_hour\": \"2024-08-14T21:00:00\", \"pickup_location_id\": 27.0, \"num_pickup\": 0.0}, {\"pickup_datetime_hour\": \"2024-08-14T21:00:00\", \"pickup_location_id\": 43.0, \"num_pickup\": 62.0}, {\"pickup_datetime_hour\": \"2024-08-14T22:00:00\", \"pickup_location_id\": 27.0, \"num_pickup\": 0.0}, {\"pickup_datetime_hour\": \"2024-08-14T22:00:00\", \"pickup_location_id\": 43.0, \"num_pickup\": 49.0}, {\"pickup_datetime_hour\": \"2024-08-14T23:00:00\", \"pickup_location_id\": 27.0, \"num_pickup\": 0.0}, {\"pickup_datetime_hour\": \"2024-08-14T23:00:00\", \"pickup_location_id\": 43.0, \"num_pickup\": 21.0}, {\"pickup_datetime_hour\": \"2024-08-15T00:00:00\", \"pickup_location_id\": 27.0, \"num_pickup\": 0.0}, {\"pickup_datetime_hour\": \"2024-08-15T00:00:00\", \"pickup_location_id\": 43.0, \"num_pickup\": 12.0}, {\"pickup_datetime_hour\": \"2024-08-15T01:00:00\", \"pickup_location_id\": 27.0, \"num_pickup\": 0.0}, {\"pickup_datetime_hour\": \"2024-08-15T01:00:00\", \"pickup_location_id\": 43.0, \"num_pickup\": 1.0}, {\"pickup_datetime_hour\": \"2024-08-15T02:00:00\", \"pickup_location_id\": 27.0, \"num_pickup\": 0.0}, {\"pickup_datetime_hour\": \"2024-08-15T02:00:00\", \"pickup_location_id\": 43.0, \"num_pickup\": 0.0}, {\"pickup_datetime_hour\": \"2024-08-15T03:00:00\", \"pickup_location_id\": 27.0, \"num_pickup\": 0.0}, {\"pickup_datetime_hour\": \"2024-08-15T03:00:00\", \"pickup_location_id\": 43.0, \"num_pickup\": 3.0}, {\"pickup_datetime_hour\": \"2024-08-15T04:00:00\", \"pickup_location_id\": 27.0, \"num_pickup\": 0.0}, {\"pickup_datetime_hour\": \"2024-08-15T04:00:00\", \"pickup_location_id\": 43.0, \"num_pickup\": 0.0}, {\"pickup_datetime_hour\": \"2024-08-15T05:00:00\", \"pickup_location_id\": 27.0, \"num_pickup\": 0.0}, {\"pickup_datetime_hour\": \"2024-08-15T05:00:00\", \"pickup_location_id\": 43.0, \"num_pickup\": 5.0}, {\"pickup_datetime_hour\": \"2024-08-15T06:00:00\", \"pickup_location_id\": 27.0, \"num_pickup\": 0.0}, {\"pickup_datetime_hour\": \"2024-08-15T06:00:00\", \"pickup_location_id\": 43.0, \"num_pickup\": 19.0}, {\"pickup_datetime_hour\": \"2024-08-15T07:00:00\", \"pickup_location_id\": 27.0, \"num_pickup\": 0.0}, {\"pickup_datetime_hour\": \"2024-08-15T07:00:00\", \"pickup_location_id\": 43.0, \"num_pickup\": 15.0}, {\"pickup_datetime_hour\": \"2024-08-15T08:00:00\", \"pickup_location_id\": 27.0, \"num_pickup\": 0.0}, {\"pickup_datetime_hour\": \"2024-08-15T08:00:00\", \"pickup_location_id\": 43.0, \"num_pickup\": 34.0}, {\"pickup_datetime_hour\": \"2024-08-15T09:00:00\", \"pickup_location_id\": 27.0, \"num_pickup\": 0.0}, {\"pickup_datetime_hour\": \"2024-08-15T09:00:00\", \"pickup_location_id\": 43.0, \"num_pickup\": 67.0}, {\"pickup_datetime_hour\": \"2024-08-15T10:00:00\", \"pickup_location_id\": 27.0, \"num_pickup\": 0.0}, {\"pickup_datetime_hour\": \"2024-08-15T10:00:00\", \"pickup_location_id\": 43.0, \"num_pickup\": 88.0}, {\"pickup_datetime_hour\": \"2024-08-15T11:00:00\", \"pickup_location_id\": 27.0, \"num_pickup\": 0.0}, {\"pickup_datetime_hour\": \"2024-08-15T11:00:00\", \"pickup_location_id\": 43.0, \"num_pickup\": 103.0}, {\"pickup_datetime_hour\": \"2024-08-15T12:00:00\", \"pickup_location_id\": 27.0, \"num_pickup\": 0.0}, {\"pickup_datetime_hour\": \"2024-08-15T12:00:00\", \"pickup_location_id\": 43.0, \"num_pickup\": 135.0}, {\"pickup_datetime_hour\": \"2024-08-15T13:00:00\", \"pickup_location_id\": 27.0, \"num_pickup\": 0.0}, {\"pickup_datetime_hour\": \"2024-08-15T13:00:00\", \"pickup_location_id\": 43.0, \"num_pickup\": 170.0}, {\"pickup_datetime_hour\": \"2024-08-15T14:00:00\", \"pickup_location_id\": 27.0, \"num_pickup\": 0.0}, {\"pickup_datetime_hour\": \"2024-08-15T14:00:00\", \"pickup_location_id\": 43.0, \"num_pickup\": 135.0}, {\"pickup_datetime_hour\": \"2024-08-15T15:00:00\", \"pickup_location_id\": 27.0, \"num_pickup\": 0.0}, {\"pickup_datetime_hour\": \"2024-08-15T15:00:00\", \"pickup_location_id\": 43.0, \"num_pickup\": 202.0}, {\"pickup_datetime_hour\": \"2024-08-15T16:00:00\", \"pickup_location_id\": 27.0, \"num_pickup\": 0.0}, {\"pickup_datetime_hour\": \"2024-08-15T16:00:00\", \"pickup_location_id\": 43.0, \"num_pickup\": 173.0}, {\"pickup_datetime_hour\": \"2024-08-15T17:00:00\", \"pickup_location_id\": 27.0, \"num_pickup\": 0.0}, {\"pickup_datetime_hour\": \"2024-08-15T17:00:00\", \"pickup_location_id\": 43.0, \"num_pickup\": 123.0}, {\"pickup_datetime_hour\": \"2024-08-15T18:00:00\", \"pickup_location_id\": 27.0, \"num_pickup\": 0.0}, {\"pickup_datetime_hour\": \"2024-08-15T18:00:00\", \"pickup_location_id\": 43.0, \"num_pickup\": 99.0}, {\"pickup_datetime_hour\": \"2024-08-15T19:00:00\", \"pickup_location_id\": 27.0, \"num_pickup\": 1.0}, {\"pickup_datetime_hour\": \"2024-08-15T19:00:00\", \"pickup_location_id\": 43.0, \"num_pickup\": 58.0}, {\"pickup_datetime_hour\": \"2024-08-15T20:00:00\", \"pickup_location_id\": 27.0, \"num_pickup\": 0.0}, {\"pickup_datetime_hour\": \"2024-08-15T20:00:00\", \"pickup_location_id\": 43.0, \"num_pickup\": 43.0}, {\"pickup_datetime_hour\": \"2024-08-15T21:00:00\", \"pickup_location_id\": 27.0, \"num_pickup\": 0.0}, {\"pickup_datetime_hour\": \"2024-08-15T21:00:00\", \"pickup_location_id\": 43.0, \"num_pickup\": 53.0}, {\"pickup_datetime_hour\": \"2024-08-15T22:00:00\", \"pickup_location_id\": 27.0, \"num_pickup\": 0.0}, {\"pickup_datetime_hour\": \"2024-08-15T22:00:00\", \"pickup_location_id\": 43.0, \"num_pickup\": 39.0}, {\"pickup_datetime_hour\": \"2024-08-15T23:00:00\", \"pickup_location_id\": 27.0, \"num_pickup\": 0.0}, {\"pickup_datetime_hour\": \"2024-08-15T23:00:00\", \"pickup_location_id\": 43.0, \"num_pickup\": 12.0}, {\"pickup_datetime_hour\": \"2024-08-16T00:00:00\", \"pickup_location_id\": 27.0, \"num_pickup\": 0.0}, {\"pickup_datetime_hour\": \"2024-08-16T00:00:00\", \"pickup_location_id\": 43.0, \"num_pickup\": 13.0}, {\"pickup_datetime_hour\": \"2024-08-16T01:00:00\", \"pickup_location_id\": 27.0, \"num_pickup\": 0.0}, {\"pickup_datetime_hour\": \"2024-08-16T01:00:00\", \"pickup_location_id\": 43.0, \"num_pickup\": 1.0}, {\"pickup_datetime_hour\": \"2024-08-16T02:00:00\", \"pickup_location_id\": 27.0, \"num_pickup\": 0.0}, {\"pickup_datetime_hour\": \"2024-08-16T02:00:00\", \"pickup_location_id\": 43.0, \"num_pickup\": 0.0}, {\"pickup_datetime_hour\": \"2024-08-16T03:00:00\", \"pickup_location_id\": 27.0, \"num_pickup\": 0.0}, {\"pickup_datetime_hour\": \"2024-08-16T03:00:00\", \"pickup_location_id\": 43.0, \"num_pickup\": 2.0}, {\"pickup_datetime_hour\": \"2024-08-16T04:00:00\", \"pickup_location_id\": 27.0, \"num_pickup\": 0.0}, {\"pickup_datetime_hour\": \"2024-08-16T04:00:00\", \"pickup_location_id\": 43.0, \"num_pickup\": 3.0}, {\"pickup_datetime_hour\": \"2024-08-16T05:00:00\", \"pickup_location_id\": 27.0, \"num_pickup\": 0.0}, {\"pickup_datetime_hour\": \"2024-08-16T05:00:00\", \"pickup_location_id\": 43.0, \"num_pickup\": 4.0}, {\"pickup_datetime_hour\": \"2024-08-16T06:00:00\", \"pickup_location_id\": 27.0, \"num_pickup\": 0.0}, {\"pickup_datetime_hour\": \"2024-08-16T06:00:00\", \"pickup_location_id\": 43.0, \"num_pickup\": 12.0}, {\"pickup_datetime_hour\": \"2024-08-16T07:00:00\", \"pickup_location_id\": 27.0, \"num_pickup\": 0.0}, {\"pickup_datetime_hour\": \"2024-08-16T07:00:00\", \"pickup_location_id\": 43.0, \"num_pickup\": 15.0}, {\"pickup_datetime_hour\": \"2024-08-16T08:00:00\", \"pickup_location_id\": 27.0, \"num_pickup\": 1.0}, {\"pickup_datetime_hour\": \"2024-08-16T08:00:00\", \"pickup_location_id\": 43.0, \"num_pickup\": 33.0}, {\"pickup_datetime_hour\": \"2024-08-16T09:00:00\", \"pickup_location_id\": 27.0, \"num_pickup\": 0.0}, {\"pickup_datetime_hour\": \"2024-08-16T09:00:00\", \"pickup_location_id\": 43.0, \"num_pickup\": 37.0}, {\"pickup_datetime_hour\": \"2024-08-16T10:00:00\", \"pickup_location_id\": 27.0, \"num_pickup\": 0.0}, {\"pickup_datetime_hour\": \"2024-08-16T10:00:00\", \"pickup_location_id\": 43.0, \"num_pickup\": 63.0}, {\"pickup_datetime_hour\": \"2024-08-16T11:00:00\", \"pickup_location_id\": 27.0, \"num_pickup\": 0.0}, {\"pickup_datetime_hour\": \"2024-08-16T11:00:00\", \"pickup_location_id\": 43.0, \"num_pickup\": 72.0}, {\"pickup_datetime_hour\": \"2024-08-16T12:00:00\", \"pickup_location_id\": 27.0, \"num_pickup\": 0.0}, {\"pickup_datetime_hour\": \"2024-08-16T12:00:00\", \"pickup_location_id\": 43.0, \"num_pickup\": 105.0}, {\"pickup_datetime_hour\": \"2024-08-16T13:00:00\", \"pickup_location_id\": 27.0, \"num_pickup\": 0.0}, {\"pickup_datetime_hour\": \"2024-08-16T13:00:00\", \"pickup_location_id\": 43.0, \"num_pickup\": 124.0}, {\"pickup_datetime_hour\": \"2024-08-16T14:00:00\", \"pickup_location_id\": 27.0, \"num_pickup\": 0.0}, {\"pickup_datetime_hour\": \"2024-08-16T14:00:00\", \"pickup_location_id\": 43.0, \"num_pickup\": 120.0}, {\"pickup_datetime_hour\": \"2024-08-16T15:00:00\", \"pickup_location_id\": 27.0, \"num_pickup\": 0.0}, {\"pickup_datetime_hour\": \"2024-08-16T15:00:00\", \"pickup_location_id\": 43.0, \"num_pickup\": 156.0}, {\"pickup_datetime_hour\": \"2024-08-16T16:00:00\", \"pickup_location_id\": 27.0, \"num_pickup\": 1.0}, {\"pickup_datetime_hour\": \"2024-08-16T16:00:00\", \"pickup_location_id\": 43.0, \"num_pickup\": 140.0}, {\"pickup_datetime_hour\": \"2024-08-16T17:00:00\", \"pickup_location_id\": 27.0, \"num_pickup\": 0.0}, {\"pickup_datetime_hour\": \"2024-08-16T17:00:00\", \"pickup_location_id\": 43.0, \"num_pickup\": 113.0}, {\"pickup_datetime_hour\": \"2024-08-16T18:00:00\", \"pickup_location_id\": 27.0, \"num_pickup\": 0.0}, {\"pickup_datetime_hour\": \"2024-08-16T18:00:00\", \"pickup_location_id\": 43.0, \"num_pickup\": 104.0}, {\"pickup_datetime_hour\": \"2024-08-16T19:00:00\", \"pickup_location_id\": 27.0, \"num_pickup\": 0.0}, {\"pickup_datetime_hour\": \"2024-08-16T19:00:00\", \"pickup_location_id\": 43.0, \"num_pickup\": 94.0}, {\"pickup_datetime_hour\": \"2024-08-16T20:00:00\", \"pickup_location_id\": 27.0, \"num_pickup\": 0.0}, {\"pickup_datetime_hour\": \"2024-08-16T20:00:00\", \"pickup_location_id\": 43.0, \"num_pickup\": 108.0}, {\"pickup_datetime_hour\": \"2024-08-16T21:00:00\", \"pickup_location_id\": 27.0, \"num_pickup\": 0.0}, {\"pickup_datetime_hour\": \"2024-08-16T21:00:00\", \"pickup_location_id\": 43.0, \"num_pickup\": 64.0}, {\"pickup_datetime_hour\": \"2024-08-16T22:00:00\", \"pickup_location_id\": 27.0, \"num_pickup\": 0.0}, {\"pickup_datetime_hour\": \"2024-08-16T22:00:00\", \"pickup_location_id\": 43.0, \"num_pickup\": 50.0}, {\"pickup_datetime_hour\": \"2024-08-16T23:00:00\", \"pickup_location_id\": 27.0, \"num_pickup\": 0.0}, {\"pickup_datetime_hour\": \"2024-08-16T23:00:00\", \"pickup_location_id\": 43.0, \"num_pickup\": 25.0}, {\"pickup_datetime_hour\": \"2024-08-17T00:00:00\", \"pickup_location_id\": 27.0, \"num_pickup\": 0.0}, {\"pickup_datetime_hour\": \"2024-08-17T00:00:00\", \"pickup_location_id\": 43.0, \"num_pickup\": 12.0}, {\"pickup_datetime_hour\": \"2024-08-17T01:00:00\", \"pickup_location_id\": 27.0, \"num_pickup\": 0.0}, {\"pickup_datetime_hour\": \"2024-08-17T01:00:00\", \"pickup_location_id\": 43.0, \"num_pickup\": 4.0}, {\"pickup_datetime_hour\": \"2024-08-17T02:00:00\", \"pickup_location_id\": 27.0, \"num_pickup\": 0.0}, {\"pickup_datetime_hour\": \"2024-08-17T02:00:00\", \"pickup_location_id\": 43.0, \"num_pickup\": 2.0}, {\"pickup_datetime_hour\": \"2024-08-17T03:00:00\", \"pickup_location_id\": 27.0, \"num_pickup\": 0.0}, {\"pickup_datetime_hour\": \"2024-08-17T03:00:00\", \"pickup_location_id\": 43.0, \"num_pickup\": 1.0}, {\"pickup_datetime_hour\": \"2024-08-17T04:00:00\", \"pickup_location_id\": 27.0, \"num_pickup\": 0.0}, {\"pickup_datetime_hour\": \"2024-08-17T04:00:00\", \"pickup_location_id\": 43.0, \"num_pickup\": 1.0}, {\"pickup_datetime_hour\": \"2024-08-17T05:00:00\", \"pickup_location_id\": 27.0, \"num_pickup\": 0.0}, {\"pickup_datetime_hour\": \"2024-08-17T05:00:00\", \"pickup_location_id\": 43.0, \"num_pickup\": 1.0}, {\"pickup_datetime_hour\": \"2024-08-17T06:00:00\", \"pickup_location_id\": 27.0, \"num_pickup\": 0.0}, {\"pickup_datetime_hour\": \"2024-08-17T06:00:00\", \"pickup_location_id\": 43.0, \"num_pickup\": 7.0}, {\"pickup_datetime_hour\": \"2024-08-17T07:00:00\", \"pickup_location_id\": 27.0, \"num_pickup\": 0.0}, {\"pickup_datetime_hour\": \"2024-08-17T07:00:00\", \"pickup_location_id\": 43.0, \"num_pickup\": 14.0}, {\"pickup_datetime_hour\": \"2024-08-17T08:00:00\", \"pickup_location_id\": 27.0, \"num_pickup\": 0.0}, {\"pickup_datetime_hour\": \"2024-08-17T08:00:00\", \"pickup_location_id\": 43.0, \"num_pickup\": 27.0}, {\"pickup_datetime_hour\": \"2024-08-17T09:00:00\", \"pickup_location_id\": 27.0, \"num_pickup\": 1.0}, {\"pickup_datetime_hour\": \"2024-08-17T09:00:00\", \"pickup_location_id\": 43.0, \"num_pickup\": 43.0}, {\"pickup_datetime_hour\": \"2024-08-17T10:00:00\", \"pickup_location_id\": 27.0, \"num_pickup\": 0.0}, {\"pickup_datetime_hour\": \"2024-08-17T10:00:00\", \"pickup_location_id\": 43.0, \"num_pickup\": 54.0}, {\"pickup_datetime_hour\": \"2024-08-17T11:00:00\", \"pickup_location_id\": 27.0, \"num_pickup\": 0.0}, {\"pickup_datetime_hour\": \"2024-08-17T11:00:00\", \"pickup_location_id\": 43.0, \"num_pickup\": 77.0}, {\"pickup_datetime_hour\": \"2024-08-17T12:00:00\", \"pickup_location_id\": 27.0, \"num_pickup\": 0.0}, {\"pickup_datetime_hour\": \"2024-08-17T12:00:00\", \"pickup_location_id\": 43.0, \"num_pickup\": 133.0}, {\"pickup_datetime_hour\": \"2024-08-17T13:00:00\", \"pickup_location_id\": 27.0, \"num_pickup\": 0.0}, {\"pickup_datetime_hour\": \"2024-08-17T13:00:00\", \"pickup_location_id\": 43.0, \"num_pickup\": 141.0}, {\"pickup_datetime_hour\": \"2024-08-17T14:00:00\", \"pickup_location_id\": 27.0, \"num_pickup\": 0.0}, {\"pickup_datetime_hour\": \"2024-08-17T14:00:00\", \"pickup_location_id\": 43.0, \"num_pickup\": 123.0}, {\"pickup_datetime_hour\": \"2024-08-17T15:00:00\", \"pickup_location_id\": 27.0, \"num_pickup\": 2.0}, {\"pickup_datetime_hour\": \"2024-08-17T15:00:00\", \"pickup_location_id\": 43.0, \"num_pickup\": 154.0}, {\"pickup_datetime_hour\": \"2024-08-17T16:00:00\", \"pickup_location_id\": 27.0, \"num_pickup\": 0.0}, {\"pickup_datetime_hour\": \"2024-08-17T16:00:00\", \"pickup_location_id\": 43.0, \"num_pickup\": 224.0}, {\"pickup_datetime_hour\": \"2024-08-17T17:00:00\", \"pickup_location_id\": 27.0, \"num_pickup\": 1.0}, {\"pickup_datetime_hour\": \"2024-08-17T17:00:00\", \"pickup_location_id\": 43.0, \"num_pickup\": 223.0}, {\"pickup_datetime_hour\": \"2024-08-17T18:00:00\", \"pickup_location_id\": 27.0, \"num_pickup\": 0.0}, {\"pickup_datetime_hour\": \"2024-08-17T18:00:00\", \"pickup_location_id\": 43.0, \"num_pickup\": 138.0}, {\"pickup_datetime_hour\": \"2024-08-17T19:00:00\", \"pickup_location_id\": 27.0, \"num_pickup\": 0.0}, {\"pickup_datetime_hour\": \"2024-08-17T19:00:00\", \"pickup_location_id\": 43.0, \"num_pickup\": 76.0}, {\"pickup_datetime_hour\": \"2024-08-17T20:00:00\", \"pickup_location_id\": 27.0, \"num_pickup\": 0.0}, {\"pickup_datetime_hour\": \"2024-08-17T20:00:00\", \"pickup_location_id\": 43.0, \"num_pickup\": 90.0}, {\"pickup_datetime_hour\": \"2024-08-17T21:00:00\", \"pickup_location_id\": 27.0, \"num_pickup\": 0.0}, {\"pickup_datetime_hour\": \"2024-08-17T21:00:00\", \"pickup_location_id\": 43.0, \"num_pickup\": 57.0}, {\"pickup_datetime_hour\": \"2024-08-17T22:00:00\", \"pickup_location_id\": 27.0, \"num_pickup\": 0.0}, {\"pickup_datetime_hour\": \"2024-08-17T22:00:00\", \"pickup_location_id\": 43.0, \"num_pickup\": 29.0}, {\"pickup_datetime_hour\": \"2024-08-17T23:00:00\", \"pickup_location_id\": 27.0, \"num_pickup\": 0.0}, {\"pickup_datetime_hour\": \"2024-08-17T23:00:00\", \"pickup_location_id\": 43.0, \"num_pickup\": 14.0}, {\"pickup_datetime_hour\": \"2024-08-18T00:00:00\", \"pickup_location_id\": 27.0, \"num_pickup\": 0.0}, {\"pickup_datetime_hour\": \"2024-08-18T00:00:00\", \"pickup_location_id\": 43.0, \"num_pickup\": 7.0}, {\"pickup_datetime_hour\": \"2024-08-18T01:00:00\", \"pickup_location_id\": 27.0, \"num_pickup\": 0.0}, {\"pickup_datetime_hour\": \"2024-08-18T01:00:00\", \"pickup_location_id\": 43.0, \"num_pickup\": 5.0}, {\"pickup_datetime_hour\": \"2024-08-18T02:00:00\", \"pickup_location_id\": 27.0, \"num_pickup\": 0.0}, {\"pickup_datetime_hour\": \"2024-08-18T02:00:00\", \"pickup_location_id\": 43.0, \"num_pickup\": 3.0}, {\"pickup_datetime_hour\": \"2024-08-18T03:00:00\", \"pickup_location_id\": 27.0, \"num_pickup\": 0.0}, {\"pickup_datetime_hour\": \"2024-08-18T03:00:00\", \"pickup_location_id\": 43.0, \"num_pickup\": 3.0}, {\"pickup_datetime_hour\": \"2024-08-18T04:00:00\", \"pickup_location_id\": 27.0, \"num_pickup\": 0.0}, {\"pickup_datetime_hour\": \"2024-08-18T04:00:00\", \"pickup_location_id\": 43.0, \"num_pickup\": 1.0}, {\"pickup_datetime_hour\": \"2024-08-18T05:00:00\", \"pickup_location_id\": 27.0, \"num_pickup\": 0.0}, {\"pickup_datetime_hour\": \"2024-08-18T05:00:00\", \"pickup_location_id\": 43.0, \"num_pickup\": 2.0}, {\"pickup_datetime_hour\": \"2024-08-18T06:00:00\", \"pickup_location_id\": 27.0, \"num_pickup\": 0.0}, {\"pickup_datetime_hour\": \"2024-08-18T06:00:00\", \"pickup_location_id\": 43.0, \"num_pickup\": 6.0}, {\"pickup_datetime_hour\": \"2024-08-18T07:00:00\", \"pickup_location_id\": 27.0, \"num_pickup\": 0.0}, {\"pickup_datetime_hour\": \"2024-08-18T07:00:00\", \"pickup_location_id\": 43.0, \"num_pickup\": 6.0}, {\"pickup_datetime_hour\": \"2024-08-18T08:00:00\", \"pickup_location_id\": 27.0, \"num_pickup\": 0.0}, {\"pickup_datetime_hour\": \"2024-08-18T08:00:00\", \"pickup_location_id\": 43.0, \"num_pickup\": 16.0}, {\"pickup_datetime_hour\": \"2024-08-18T09:00:00\", \"pickup_location_id\": 27.0, \"num_pickup\": 0.0}, {\"pickup_datetime_hour\": \"2024-08-18T09:00:00\", \"pickup_location_id\": 43.0, \"num_pickup\": 37.0}, {\"pickup_datetime_hour\": \"2024-08-18T10:00:00\", \"pickup_location_id\": 27.0, \"num_pickup\": 0.0}, {\"pickup_datetime_hour\": \"2024-08-18T10:00:00\", \"pickup_location_id\": 43.0, \"num_pickup\": 36.0}, {\"pickup_datetime_hour\": \"2024-08-18T11:00:00\", \"pickup_location_id\": 27.0, \"num_pickup\": 0.0}, {\"pickup_datetime_hour\": \"2024-08-18T11:00:00\", \"pickup_location_id\": 43.0, \"num_pickup\": 62.0}, {\"pickup_datetime_hour\": \"2024-08-18T12:00:00\", \"pickup_location_id\": 27.0, \"num_pickup\": 0.0}, {\"pickup_datetime_hour\": \"2024-08-18T12:00:00\", \"pickup_location_id\": 43.0, \"num_pickup\": 109.0}, {\"pickup_datetime_hour\": \"2024-08-18T13:00:00\", \"pickup_location_id\": 27.0, \"num_pickup\": 0.0}, {\"pickup_datetime_hour\": \"2024-08-18T13:00:00\", \"pickup_location_id\": 43.0, \"num_pickup\": 119.0}, {\"pickup_datetime_hour\": \"2024-08-18T14:00:00\", \"pickup_location_id\": 27.0, \"num_pickup\": 0.0}, {\"pickup_datetime_hour\": \"2024-08-18T14:00:00\", \"pickup_location_id\": 43.0, \"num_pickup\": 163.0}, {\"pickup_datetime_hour\": \"2024-08-18T15:00:00\", \"pickup_location_id\": 27.0, \"num_pickup\": 0.0}, {\"pickup_datetime_hour\": \"2024-08-18T15:00:00\", \"pickup_location_id\": 43.0, \"num_pickup\": 162.0}, {\"pickup_datetime_hour\": \"2024-08-18T16:00:00\", \"pickup_location_id\": 27.0, \"num_pickup\": 0.0}, {\"pickup_datetime_hour\": \"2024-08-18T16:00:00\", \"pickup_location_id\": 43.0, \"num_pickup\": 174.0}, {\"pickup_datetime_hour\": \"2024-08-18T17:00:00\", \"pickup_location_id\": 27.0, \"num_pickup\": 0.0}, {\"pickup_datetime_hour\": \"2024-08-18T17:00:00\", \"pickup_location_id\": 43.0, \"num_pickup\": 154.0}, {\"pickup_datetime_hour\": \"2024-08-18T18:00:00\", \"pickup_location_id\": 27.0, \"num_pickup\": 0.0}, {\"pickup_datetime_hour\": \"2024-08-18T18:00:00\", \"pickup_location_id\": 43.0, \"num_pickup\": 76.0}, {\"pickup_datetime_hour\": \"2024-08-18T19:00:00\", \"pickup_location_id\": 27.0, \"num_pickup\": 0.0}, {\"pickup_datetime_hour\": \"2024-08-18T19:00:00\", \"pickup_location_id\": 43.0, \"num_pickup\": 71.0}, {\"pickup_datetime_hour\": \"2024-08-18T20:00:00\", \"pickup_location_id\": 27.0, \"num_pickup\": 0.0}, {\"pickup_datetime_hour\": \"2024-08-18T20:00:00\", \"pickup_location_id\": 43.0, \"num_pickup\": 41.0}, {\"pickup_datetime_hour\": \"2024-08-18T21:00:00\", \"pickup_location_id\": 27.0, \"num_pickup\": 0.0}, {\"pickup_datetime_hour\": \"2024-08-18T21:00:00\", \"pickup_location_id\": 43.0, \"num_pickup\": 21.0}, {\"pickup_datetime_hour\": \"2024-08-18T22:00:00\", \"pickup_location_id\": 27.0, \"num_pickup\": 0.0}, {\"pickup_datetime_hour\": \"2024-08-18T22:00:00\", \"pickup_location_id\": 43.0, \"num_pickup\": 6.0}, {\"pickup_datetime_hour\": \"2024-08-18T23:00:00\", \"pickup_location_id\": 27.0, \"num_pickup\": 0.0}, {\"pickup_datetime_hour\": \"2024-08-18T23:00:00\", \"pickup_location_id\": 43.0, \"num_pickup\": 4.0}, {\"pickup_datetime_hour\": \"2024-08-19T00:00:00\", \"pickup_location_id\": 27.0, \"num_pickup\": 0.0}, {\"pickup_datetime_hour\": \"2024-08-19T00:00:00\", \"pickup_location_id\": 43.0, \"num_pickup\": 2.0}, {\"pickup_datetime_hour\": \"2024-08-19T01:00:00\", \"pickup_location_id\": 27.0, \"num_pickup\": 0.0}, {\"pickup_datetime_hour\": \"2024-08-19T01:00:00\", \"pickup_location_id\": 43.0, \"num_pickup\": 2.0}, {\"pickup_datetime_hour\": \"2024-08-19T02:00:00\", \"pickup_location_id\": 27.0, \"num_pickup\": 0.0}, {\"pickup_datetime_hour\": \"2024-08-19T02:00:00\", \"pickup_location_id\": 43.0, \"num_pickup\": 2.0}, {\"pickup_datetime_hour\": \"2024-08-19T03:00:00\", \"pickup_location_id\": 27.0, \"num_pickup\": 0.0}, {\"pickup_datetime_hour\": \"2024-08-19T03:00:00\", \"pickup_location_id\": 43.0, \"num_pickup\": 1.0}, {\"pickup_datetime_hour\": \"2024-08-19T04:00:00\", \"pickup_location_id\": 27.0, \"num_pickup\": 0.0}, {\"pickup_datetime_hour\": \"2024-08-19T04:00:00\", \"pickup_location_id\": 43.0, \"num_pickup\": 0.0}, {\"pickup_datetime_hour\": \"2024-08-19T05:00:00\", \"pickup_location_id\": 27.0, \"num_pickup\": 0.0}, {\"pickup_datetime_hour\": \"2024-08-19T05:00:00\", \"pickup_location_id\": 43.0, \"num_pickup\": 4.0}, {\"pickup_datetime_hour\": \"2024-08-19T06:00:00\", \"pickup_location_id\": 27.0, \"num_pickup\": 0.0}, {\"pickup_datetime_hour\": \"2024-08-19T06:00:00\", \"pickup_location_id\": 43.0, \"num_pickup\": 12.0}, {\"pickup_datetime_hour\": \"2024-08-19T07:00:00\", \"pickup_location_id\": 27.0, \"num_pickup\": 0.0}, {\"pickup_datetime_hour\": \"2024-08-19T07:00:00\", \"pickup_location_id\": 43.0, \"num_pickup\": 25.0}, {\"pickup_datetime_hour\": \"2024-08-19T08:00:00\", \"pickup_location_id\": 27.0, \"num_pickup\": 0.0}, {\"pickup_datetime_hour\": \"2024-08-19T08:00:00\", \"pickup_location_id\": 43.0, \"num_pickup\": 37.0}, {\"pickup_datetime_hour\": \"2024-08-19T09:00:00\", \"pickup_location_id\": 27.0, \"num_pickup\": 0.0}, {\"pickup_datetime_hour\": \"2024-08-19T09:00:00\", \"pickup_location_id\": 43.0, \"num_pickup\": 48.0}, {\"pickup_datetime_hour\": \"2024-08-19T10:00:00\", \"pickup_location_id\": 27.0, \"num_pickup\": 0.0}, {\"pickup_datetime_hour\": \"2024-08-19T10:00:00\", \"pickup_location_id\": 43.0, \"num_pickup\": 66.0}, {\"pickup_datetime_hour\": \"2024-08-19T11:00:00\", \"pickup_location_id\": 27.0, \"num_pickup\": 0.0}, {\"pickup_datetime_hour\": \"2024-08-19T11:00:00\", \"pickup_location_id\": 43.0, \"num_pickup\": 79.0}, {\"pickup_datetime_hour\": \"2024-08-19T12:00:00\", \"pickup_location_id\": 27.0, \"num_pickup\": 0.0}, {\"pickup_datetime_hour\": \"2024-08-19T12:00:00\", \"pickup_location_id\": 43.0, \"num_pickup\": 98.0}, {\"pickup_datetime_hour\": \"2024-08-19T13:00:00\", \"pickup_location_id\": 27.0, \"num_pickup\": 0.0}, {\"pickup_datetime_hour\": \"2024-08-19T13:00:00\", \"pickup_location_id\": 43.0, \"num_pickup\": 112.0}, {\"pickup_datetime_hour\": \"2024-08-19T14:00:00\", \"pickup_location_id\": 27.0, \"num_pickup\": 0.0}, {\"pickup_datetime_hour\": \"2024-08-19T14:00:00\", \"pickup_location_id\": 43.0, \"num_pickup\": 106.0}, {\"pickup_datetime_hour\": \"2024-08-19T15:00:00\", \"pickup_location_id\": 27.0, \"num_pickup\": 0.0}, {\"pickup_datetime_hour\": \"2024-08-19T15:00:00\", \"pickup_location_id\": 43.0, \"num_pickup\": 114.0}, {\"pickup_datetime_hour\": \"2024-08-19T16:00:00\", \"pickup_location_id\": 27.0, \"num_pickup\": 0.0}, {\"pickup_datetime_hour\": \"2024-08-19T16:00:00\", \"pickup_location_id\": 43.0, \"num_pickup\": 115.0}, {\"pickup_datetime_hour\": \"2024-08-19T17:00:00\", \"pickup_location_id\": 27.0, \"num_pickup\": 0.0}, {\"pickup_datetime_hour\": \"2024-08-19T17:00:00\", \"pickup_location_id\": 43.0, \"num_pickup\": 124.0}, {\"pickup_datetime_hour\": \"2024-08-19T18:00:00\", \"pickup_location_id\": 27.0, \"num_pickup\": 0.0}, {\"pickup_datetime_hour\": \"2024-08-19T18:00:00\", \"pickup_location_id\": 43.0, \"num_pickup\": 93.0}, {\"pickup_datetime_hour\": \"2024-08-19T19:00:00\", \"pickup_location_id\": 27.0, \"num_pickup\": 0.0}, {\"pickup_datetime_hour\": \"2024-08-19T19:00:00\", \"pickup_location_id\": 43.0, \"num_pickup\": 39.0}, {\"pickup_datetime_hour\": \"2024-08-19T20:00:00\", \"pickup_location_id\": 27.0, \"num_pickup\": 0.0}, {\"pickup_datetime_hour\": \"2024-08-19T20:00:00\", \"pickup_location_id\": 43.0, \"num_pickup\": 30.0}, {\"pickup_datetime_hour\": \"2024-08-19T21:00:00\", \"pickup_location_id\": 27.0, \"num_pickup\": 0.0}, {\"pickup_datetime_hour\": \"2024-08-19T21:00:00\", \"pickup_location_id\": 43.0, \"num_pickup\": 33.0}, {\"pickup_datetime_hour\": \"2024-08-19T22:00:00\", \"pickup_location_id\": 27.0, \"num_pickup\": 0.0}, {\"pickup_datetime_hour\": \"2024-08-19T22:00:00\", \"pickup_location_id\": 43.0, \"num_pickup\": 21.0}, {\"pickup_datetime_hour\": \"2024-08-19T23:00:00\", \"pickup_location_id\": 27.0, \"num_pickup\": 0.0}, {\"pickup_datetime_hour\": \"2024-08-19T23:00:00\", \"pickup_location_id\": 43.0, \"num_pickup\": 4.0}, {\"pickup_datetime_hour\": \"2024-08-20T00:00:00\", \"pickup_location_id\": 27.0, \"num_pickup\": 0.0}, {\"pickup_datetime_hour\": \"2024-08-20T00:00:00\", \"pickup_location_id\": 43.0, \"num_pickup\": 4.0}, {\"pickup_datetime_hour\": \"2024-08-20T01:00:00\", \"pickup_location_id\": 27.0, \"num_pickup\": 0.0}, {\"pickup_datetime_hour\": \"2024-08-20T01:00:00\", \"pickup_location_id\": 43.0, \"num_pickup\": 1.0}, {\"pickup_datetime_hour\": \"2024-08-20T02:00:00\", \"pickup_location_id\": 27.0, \"num_pickup\": 0.0}, {\"pickup_datetime_hour\": \"2024-08-20T02:00:00\", \"pickup_location_id\": 43.0, \"num_pickup\": 0.0}, {\"pickup_datetime_hour\": \"2024-08-20T03:00:00\", \"pickup_location_id\": 27.0, \"num_pickup\": 0.0}, {\"pickup_datetime_hour\": \"2024-08-20T03:00:00\", \"pickup_location_id\": 43.0, \"num_pickup\": 0.0}, {\"pickup_datetime_hour\": \"2024-08-20T04:00:00\", \"pickup_location_id\": 27.0, \"num_pickup\": 0.0}, {\"pickup_datetime_hour\": \"2024-08-20T04:00:00\", \"pickup_location_id\": 43.0, \"num_pickup\": 1.0}, {\"pickup_datetime_hour\": \"2024-08-20T05:00:00\", \"pickup_location_id\": 27.0, \"num_pickup\": 0.0}, {\"pickup_datetime_hour\": \"2024-08-20T05:00:00\", \"pickup_location_id\": 43.0, \"num_pickup\": 4.0}, {\"pickup_datetime_hour\": \"2024-08-20T06:00:00\", \"pickup_location_id\": 27.0, \"num_pickup\": 0.0}, {\"pickup_datetime_hour\": \"2024-08-20T06:00:00\", \"pickup_location_id\": 43.0, \"num_pickup\": 12.0}, {\"pickup_datetime_hour\": \"2024-08-20T07:00:00\", \"pickup_location_id\": 27.0, \"num_pickup\": 0.0}, {\"pickup_datetime_hour\": \"2024-08-20T07:00:00\", \"pickup_location_id\": 43.0, \"num_pickup\": 16.0}, {\"pickup_datetime_hour\": \"2024-08-20T08:00:00\", \"pickup_location_id\": 27.0, \"num_pickup\": 0.0}, {\"pickup_datetime_hour\": \"2024-08-20T08:00:00\", \"pickup_location_id\": 43.0, \"num_pickup\": 52.0}, {\"pickup_datetime_hour\": \"2024-08-20T09:00:00\", \"pickup_location_id\": 27.0, \"num_pickup\": 0.0}, {\"pickup_datetime_hour\": \"2024-08-20T09:00:00\", \"pickup_location_id\": 43.0, \"num_pickup\": 54.0}, {\"pickup_datetime_hour\": \"2024-08-20T10:00:00\", \"pickup_location_id\": 27.0, \"num_pickup\": 0.0}, {\"pickup_datetime_hour\": \"2024-08-20T10:00:00\", \"pickup_location_id\": 43.0, \"num_pickup\": 58.0}, {\"pickup_datetime_hour\": \"2024-08-20T11:00:00\", \"pickup_location_id\": 27.0, \"num_pickup\": 0.0}, {\"pickup_datetime_hour\": \"2024-08-20T11:00:00\", \"pickup_location_id\": 43.0, \"num_pickup\": 75.0}, {\"pickup_datetime_hour\": \"2024-08-20T12:00:00\", \"pickup_location_id\": 27.0, \"num_pickup\": 0.0}, {\"pickup_datetime_hour\": \"2024-08-20T12:00:00\", \"pickup_location_id\": 43.0, \"num_pickup\": 104.0}, {\"pickup_datetime_hour\": \"2024-08-20T13:00:00\", \"pickup_location_id\": 27.0, \"num_pickup\": 0.0}, {\"pickup_datetime_hour\": \"2024-08-20T13:00:00\", \"pickup_location_id\": 43.0, \"num_pickup\": 109.0}, {\"pickup_datetime_hour\": \"2024-08-20T14:00:00\", \"pickup_location_id\": 27.0, \"num_pickup\": 0.0}, {\"pickup_datetime_hour\": \"2024-08-20T14:00:00\", \"pickup_location_id\": 43.0, \"num_pickup\": 155.0}, {\"pickup_datetime_hour\": \"2024-08-20T15:00:00\", \"pickup_location_id\": 27.0, \"num_pickup\": 0.0}, {\"pickup_datetime_hour\": \"2024-08-20T15:00:00\", \"pickup_location_id\": 43.0, \"num_pickup\": 128.0}, {\"pickup_datetime_hour\": \"2024-08-20T16:00:00\", \"pickup_location_id\": 27.0, \"num_pickup\": 0.0}, {\"pickup_datetime_hour\": \"2024-08-20T16:00:00\", \"pickup_location_id\": 43.0, \"num_pickup\": 131.0}, {\"pickup_datetime_hour\": \"2024-08-20T17:00:00\", \"pickup_location_id\": 27.0, \"num_pickup\": 0.0}, {\"pickup_datetime_hour\": \"2024-08-20T17:00:00\", \"pickup_location_id\": 43.0, \"num_pickup\": 108.0}, {\"pickup_datetime_hour\": \"2024-08-20T18:00:00\", \"pickup_location_id\": 27.0, \"num_pickup\": 0.0}, {\"pickup_datetime_hour\": \"2024-08-20T18:00:00\", \"pickup_location_id\": 43.0, \"num_pickup\": 108.0}, {\"pickup_datetime_hour\": \"2024-08-20T19:00:00\", \"pickup_location_id\": 27.0, \"num_pickup\": 0.0}, {\"pickup_datetime_hour\": \"2024-08-20T19:00:00\", \"pickup_location_id\": 43.0, \"num_pickup\": 54.0}, {\"pickup_datetime_hour\": \"2024-08-20T20:00:00\", \"pickup_location_id\": 27.0, \"num_pickup\": 0.0}, {\"pickup_datetime_hour\": \"2024-08-20T20:00:00\", \"pickup_location_id\": 43.0, \"num_pickup\": 56.0}, {\"pickup_datetime_hour\": \"2024-08-20T21:00:00\", \"pickup_location_id\": 27.0, \"num_pickup\": 0.0}, {\"pickup_datetime_hour\": \"2024-08-20T21:00:00\", \"pickup_location_id\": 43.0, \"num_pickup\": 57.0}, {\"pickup_datetime_hour\": \"2024-08-20T22:00:00\", \"pickup_location_id\": 27.0, \"num_pickup\": 0.0}, {\"pickup_datetime_hour\": \"2024-08-20T22:00:00\", \"pickup_location_id\": 43.0, \"num_pickup\": 29.0}, {\"pickup_datetime_hour\": \"2024-08-20T23:00:00\", \"pickup_location_id\": 27.0, \"num_pickup\": 0.0}, {\"pickup_datetime_hour\": \"2024-08-20T23:00:00\", \"pickup_location_id\": 43.0, \"num_pickup\": 18.0}, {\"pickup_datetime_hour\": \"2024-08-21T00:00:00\", \"pickup_location_id\": 27.0, \"num_pickup\": 0.0}, {\"pickup_datetime_hour\": \"2024-08-21T00:00:00\", \"pickup_location_id\": 43.0, \"num_pickup\": 6.0}, {\"pickup_datetime_hour\": \"2024-08-21T01:00:00\", \"pickup_location_id\": 27.0, \"num_pickup\": 0.0}, {\"pickup_datetime_hour\": \"2024-08-21T01:00:00\", \"pickup_location_id\": 43.0, \"num_pickup\": 0.0}, {\"pickup_datetime_hour\": \"2024-08-21T02:00:00\", \"pickup_location_id\": 27.0, \"num_pickup\": 0.0}, {\"pickup_datetime_hour\": \"2024-08-21T02:00:00\", \"pickup_location_id\": 43.0, \"num_pickup\": 2.0}, {\"pickup_datetime_hour\": \"2024-08-21T03:00:00\", \"pickup_location_id\": 27.0, \"num_pickup\": 0.0}, {\"pickup_datetime_hour\": \"2024-08-21T03:00:00\", \"pickup_location_id\": 43.0, \"num_pickup\": 0.0}, {\"pickup_datetime_hour\": \"2024-08-21T04:00:00\", \"pickup_location_id\": 27.0, \"num_pickup\": 0.0}, {\"pickup_datetime_hour\": \"2024-08-21T04:00:00\", \"pickup_location_id\": 43.0, \"num_pickup\": 0.0}, {\"pickup_datetime_hour\": \"2024-08-21T05:00:00\", \"pickup_location_id\": 27.0, \"num_pickup\": 0.0}, {\"pickup_datetime_hour\": \"2024-08-21T05:00:00\", \"pickup_location_id\": 43.0, \"num_pickup\": 6.0}, {\"pickup_datetime_hour\": \"2024-08-21T06:00:00\", \"pickup_location_id\": 27.0, \"num_pickup\": 0.0}, {\"pickup_datetime_hour\": \"2024-08-21T06:00:00\", \"pickup_location_id\": 43.0, \"num_pickup\": 14.0}, {\"pickup_datetime_hour\": \"2024-08-21T07:00:00\", \"pickup_location_id\": 27.0, \"num_pickup\": 0.0}, {\"pickup_datetime_hour\": \"2024-08-21T07:00:00\", \"pickup_location_id\": 43.0, \"num_pickup\": 24.0}, {\"pickup_datetime_hour\": \"2024-08-21T08:00:00\", \"pickup_location_id\": 27.0, \"num_pickup\": 0.0}, {\"pickup_datetime_hour\": \"2024-08-21T08:00:00\", \"pickup_location_id\": 43.0, \"num_pickup\": 46.0}, {\"pickup_datetime_hour\": \"2024-08-21T09:00:00\", \"pickup_location_id\": 27.0, \"num_pickup\": 0.0}, {\"pickup_datetime_hour\": \"2024-08-21T09:00:00\", \"pickup_location_id\": 43.0, \"num_pickup\": 48.0}, {\"pickup_datetime_hour\": \"2024-08-21T10:00:00\", \"pickup_location_id\": 27.0, \"num_pickup\": 0.0}, {\"pickup_datetime_hour\": \"2024-08-21T10:00:00\", \"pickup_location_id\": 43.0, \"num_pickup\": 62.0}, {\"pickup_datetime_hour\": \"2024-08-21T11:00:00\", \"pickup_location_id\": 27.0, \"num_pickup\": 0.0}, {\"pickup_datetime_hour\": \"2024-08-21T11:00:00\", \"pickup_location_id\": 43.0, \"num_pickup\": 68.0}, {\"pickup_datetime_hour\": \"2024-08-21T12:00:00\", \"pickup_location_id\": 27.0, \"num_pickup\": 0.0}, {\"pickup_datetime_hour\": \"2024-08-21T12:00:00\", \"pickup_location_id\": 43.0, \"num_pickup\": 90.0}, {\"pickup_datetime_hour\": \"2024-08-21T13:00:00\", \"pickup_location_id\": 27.0, \"num_pickup\": 0.0}, {\"pickup_datetime_hour\": \"2024-08-21T13:00:00\", \"pickup_location_id\": 43.0, \"num_pickup\": 103.0}, {\"pickup_datetime_hour\": \"2024-08-21T14:00:00\", \"pickup_location_id\": 27.0, \"num_pickup\": 0.0}, {\"pickup_datetime_hour\": \"2024-08-21T14:00:00\", \"pickup_location_id\": 43.0, \"num_pickup\": 117.0}, {\"pickup_datetime_hour\": \"2024-08-21T15:00:00\", \"pickup_location_id\": 27.0, \"num_pickup\": 0.0}, {\"pickup_datetime_hour\": \"2024-08-21T15:00:00\", \"pickup_location_id\": 43.0, \"num_pickup\": 104.0}, {\"pickup_datetime_hour\": \"2024-08-21T16:00:00\", \"pickup_location_id\": 27.0, \"num_pickup\": 0.0}, {\"pickup_datetime_hour\": \"2024-08-21T16:00:00\", \"pickup_location_id\": 43.0, \"num_pickup\": 97.0}, {\"pickup_datetime_hour\": \"2024-08-21T17:00:00\", \"pickup_location_id\": 27.0, \"num_pickup\": 0.0}, {\"pickup_datetime_hour\": \"2024-08-21T17:00:00\", \"pickup_location_id\": 43.0, \"num_pickup\": 84.0}, {\"pickup_datetime_hour\": \"2024-08-21T18:00:00\", \"pickup_location_id\": 27.0, \"num_pickup\": 0.0}, {\"pickup_datetime_hour\": \"2024-08-21T18:00:00\", \"pickup_location_id\": 43.0, \"num_pickup\": 95.0}, {\"pickup_datetime_hour\": \"2024-08-21T19:00:00\", \"pickup_location_id\": 27.0, \"num_pickup\": 0.0}, {\"pickup_datetime_hour\": \"2024-08-21T19:00:00\", \"pickup_location_id\": 43.0, \"num_pickup\": 53.0}, {\"pickup_datetime_hour\": \"2024-08-21T20:00:00\", \"pickup_location_id\": 27.0, \"num_pickup\": 0.0}, {\"pickup_datetime_hour\": \"2024-08-21T20:00:00\", \"pickup_location_id\": 43.0, \"num_pickup\": 59.0}, {\"pickup_datetime_hour\": \"2024-08-21T21:00:00\", \"pickup_location_id\": 27.0, \"num_pickup\": 0.0}, {\"pickup_datetime_hour\": \"2024-08-21T21:00:00\", \"pickup_location_id\": 43.0, \"num_pickup\": 55.0}, {\"pickup_datetime_hour\": \"2024-08-21T22:00:00\", \"pickup_location_id\": 27.0, \"num_pickup\": 0.0}, {\"pickup_datetime_hour\": \"2024-08-21T22:00:00\", \"pickup_location_id\": 43.0, \"num_pickup\": 75.0}, {\"pickup_datetime_hour\": \"2024-08-21T23:00:00\", \"pickup_location_id\": 27.0, \"num_pickup\": 0.0}, {\"pickup_datetime_hour\": \"2024-08-21T23:00:00\", \"pickup_location_id\": 43.0, \"num_pickup\": 11.0}, {\"pickup_datetime_hour\": \"2024-08-22T00:00:00\", \"pickup_location_id\": 27.0, \"num_pickup\": 0.0}, {\"pickup_datetime_hour\": \"2024-08-22T00:00:00\", \"pickup_location_id\": 43.0, \"num_pickup\": 10.0}, {\"pickup_datetime_hour\": \"2024-08-22T01:00:00\", \"pickup_location_id\": 27.0, \"num_pickup\": 0.0}, {\"pickup_datetime_hour\": \"2024-08-22T01:00:00\", \"pickup_location_id\": 43.0, \"num_pickup\": 3.0}, {\"pickup_datetime_hour\": \"2024-08-22T02:00:00\", \"pickup_location_id\": 27.0, \"num_pickup\": 1.0}, {\"pickup_datetime_hour\": \"2024-08-22T02:00:00\", \"pickup_location_id\": 43.0, \"num_pickup\": 2.0}, {\"pickup_datetime_hour\": \"2024-08-22T03:00:00\", \"pickup_location_id\": 27.0, \"num_pickup\": 0.0}, {\"pickup_datetime_hour\": \"2024-08-22T03:00:00\", \"pickup_location_id\": 43.0, \"num_pickup\": 2.0}, {\"pickup_datetime_hour\": \"2024-08-22T04:00:00\", \"pickup_location_id\": 27.0, \"num_pickup\": 0.0}, {\"pickup_datetime_hour\": \"2024-08-22T04:00:00\", \"pickup_location_id\": 43.0, \"num_pickup\": 0.0}, {\"pickup_datetime_hour\": \"2024-08-22T05:00:00\", \"pickup_location_id\": 27.0, \"num_pickup\": 0.0}, {\"pickup_datetime_hour\": \"2024-08-22T05:00:00\", \"pickup_location_id\": 43.0, \"num_pickup\": 3.0}, {\"pickup_datetime_hour\": \"2024-08-22T06:00:00\", \"pickup_location_id\": 27.0, \"num_pickup\": 0.0}, {\"pickup_datetime_hour\": \"2024-08-22T06:00:00\", \"pickup_location_id\": 43.0, \"num_pickup\": 9.0}, {\"pickup_datetime_hour\": \"2024-08-22T07:00:00\", \"pickup_location_id\": 27.0, \"num_pickup\": 0.0}, {\"pickup_datetime_hour\": \"2024-08-22T07:00:00\", \"pickup_location_id\": 43.0, \"num_pickup\": 16.0}, {\"pickup_datetime_hour\": \"2024-08-22T08:00:00\", \"pickup_location_id\": 27.0, \"num_pickup\": 0.0}, {\"pickup_datetime_hour\": \"2024-08-22T08:00:00\", \"pickup_location_id\": 43.0, \"num_pickup\": 33.0}, {\"pickup_datetime_hour\": \"2024-08-22T09:00:00\", \"pickup_location_id\": 27.0, \"num_pickup\": 0.0}, {\"pickup_datetime_hour\": \"2024-08-22T09:00:00\", \"pickup_location_id\": 43.0, \"num_pickup\": 54.0}, {\"pickup_datetime_hour\": \"2024-08-22T10:00:00\", \"pickup_location_id\": 27.0, \"num_pickup\": 0.0}, {\"pickup_datetime_hour\": \"2024-08-22T10:00:00\", \"pickup_location_id\": 43.0, \"num_pickup\": 75.0}, {\"pickup_datetime_hour\": \"2024-08-22T11:00:00\", \"pickup_location_id\": 27.0, \"num_pickup\": 0.0}, {\"pickup_datetime_hour\": \"2024-08-22T11:00:00\", \"pickup_location_id\": 43.0, \"num_pickup\": 88.0}, {\"pickup_datetime_hour\": \"2024-08-22T12:00:00\", \"pickup_location_id\": 27.0, \"num_pickup\": 0.0}, {\"pickup_datetime_hour\": \"2024-08-22T12:00:00\", \"pickup_location_id\": 43.0, \"num_pickup\": 104.0}, {\"pickup_datetime_hour\": \"2024-08-22T13:00:00\", \"pickup_location_id\": 27.0, \"num_pickup\": 0.0}, {\"pickup_datetime_hour\": \"2024-08-22T13:00:00\", \"pickup_location_id\": 43.0, \"num_pickup\": 125.0}, {\"pickup_datetime_hour\": \"2024-08-22T14:00:00\", \"pickup_location_id\": 27.0, \"num_pickup\": 0.0}, {\"pickup_datetime_hour\": \"2024-08-22T14:00:00\", \"pickup_location_id\": 43.0, \"num_pickup\": 153.0}, {\"pickup_datetime_hour\": \"2024-08-22T15:00:00\", \"pickup_location_id\": 27.0, \"num_pickup\": 0.0}, {\"pickup_datetime_hour\": \"2024-08-22T15:00:00\", \"pickup_location_id\": 43.0, \"num_pickup\": 153.0}, {\"pickup_datetime_hour\": \"2024-08-22T16:00:00\", \"pickup_location_id\": 27.0, \"num_pickup\": 0.0}, {\"pickup_datetime_hour\": \"2024-08-22T16:00:00\", \"pickup_location_id\": 43.0, \"num_pickup\": 146.0}, {\"pickup_datetime_hour\": \"2024-08-22T17:00:00\", \"pickup_location_id\": 27.0, \"num_pickup\": 1.0}, {\"pickup_datetime_hour\": \"2024-08-22T17:00:00\", \"pickup_location_id\": 43.0, \"num_pickup\": 131.0}, {\"pickup_datetime_hour\": \"2024-08-22T18:00:00\", \"pickup_location_id\": 27.0, \"num_pickup\": 0.0}, {\"pickup_datetime_hour\": \"2024-08-22T18:00:00\", \"pickup_location_id\": 43.0, \"num_pickup\": 82.0}, {\"pickup_datetime_hour\": \"2024-08-22T19:00:00\", \"pickup_location_id\": 27.0, \"num_pickup\": 0.0}, {\"pickup_datetime_hour\": \"2024-08-22T19:00:00\", \"pickup_location_id\": 43.0, \"num_pickup\": 70.0}, {\"pickup_datetime_hour\": \"2024-08-22T20:00:00\", \"pickup_location_id\": 27.0, \"num_pickup\": 0.0}, {\"pickup_datetime_hour\": \"2024-08-22T20:00:00\", \"pickup_location_id\": 43.0, \"num_pickup\": 43.0}, {\"pickup_datetime_hour\": \"2024-08-22T21:00:00\", \"pickup_location_id\": 27.0, \"num_pickup\": 0.0}, {\"pickup_datetime_hour\": \"2024-08-22T21:00:00\", \"pickup_location_id\": 43.0, \"num_pickup\": 53.0}, {\"pickup_datetime_hour\": \"2024-08-22T22:00:00\", \"pickup_location_id\": 27.0, \"num_pickup\": 0.0}, {\"pickup_datetime_hour\": \"2024-08-22T22:00:00\", \"pickup_location_id\": 43.0, \"num_pickup\": 56.0}, {\"pickup_datetime_hour\": \"2024-08-22T23:00:00\", \"pickup_location_id\": 27.0, \"num_pickup\": 0.0}, {\"pickup_datetime_hour\": \"2024-08-22T23:00:00\", \"pickup_location_id\": 43.0, \"num_pickup\": 17.0}, {\"pickup_datetime_hour\": \"2024-08-23T00:00:00\", \"pickup_location_id\": 27.0, \"num_pickup\": 0.0}, {\"pickup_datetime_hour\": \"2024-08-23T00:00:00\", \"pickup_location_id\": 43.0, \"num_pickup\": 8.0}, {\"pickup_datetime_hour\": \"2024-08-23T01:00:00\", \"pickup_location_id\": 27.0, \"num_pickup\": 0.0}, {\"pickup_datetime_hour\": \"2024-08-23T01:00:00\", \"pickup_location_id\": 43.0, \"num_pickup\": 0.0}, {\"pickup_datetime_hour\": \"2024-08-23T02:00:00\", \"pickup_location_id\": 27.0, \"num_pickup\": 0.0}, {\"pickup_datetime_hour\": \"2024-08-23T02:00:00\", \"pickup_location_id\": 43.0, \"num_pickup\": 2.0}, {\"pickup_datetime_hour\": \"2024-08-23T03:00:00\", \"pickup_location_id\": 27.0, \"num_pickup\": 0.0}, {\"pickup_datetime_hour\": \"2024-08-23T03:00:00\", \"pickup_location_id\": 43.0, \"num_pickup\": 0.0}, {\"pickup_datetime_hour\": \"2024-08-23T04:00:00\", \"pickup_location_id\": 27.0, \"num_pickup\": 0.0}, {\"pickup_datetime_hour\": \"2024-08-23T04:00:00\", \"pickup_location_id\": 43.0, \"num_pickup\": 1.0}, {\"pickup_datetime_hour\": \"2024-08-23T05:00:00\", \"pickup_location_id\": 27.0, \"num_pickup\": 0.0}, {\"pickup_datetime_hour\": \"2024-08-23T05:00:00\", \"pickup_location_id\": 43.0, \"num_pickup\": 1.0}, {\"pickup_datetime_hour\": \"2024-08-23T06:00:00\", \"pickup_location_id\": 27.0, \"num_pickup\": 0.0}, {\"pickup_datetime_hour\": \"2024-08-23T06:00:00\", \"pickup_location_id\": 43.0, \"num_pickup\": 9.0}, {\"pickup_datetime_hour\": \"2024-08-23T07:00:00\", \"pickup_location_id\": 27.0, \"num_pickup\": 0.0}, {\"pickup_datetime_hour\": \"2024-08-23T07:00:00\", \"pickup_location_id\": 43.0, \"num_pickup\": 14.0}, {\"pickup_datetime_hour\": \"2024-08-23T08:00:00\", \"pickup_location_id\": 27.0, \"num_pickup\": 0.0}, {\"pickup_datetime_hour\": \"2024-08-23T08:00:00\", \"pickup_location_id\": 43.0, \"num_pickup\": 23.0}, {\"pickup_datetime_hour\": \"2024-08-23T09:00:00\", \"pickup_location_id\": 27.0, \"num_pickup\": 0.0}, {\"pickup_datetime_hour\": \"2024-08-23T09:00:00\", \"pickup_location_id\": 43.0, \"num_pickup\": 55.0}, {\"pickup_datetime_hour\": \"2024-08-23T10:00:00\", \"pickup_location_id\": 27.0, \"num_pickup\": 0.0}, {\"pickup_datetime_hour\": \"2024-08-23T10:00:00\", \"pickup_location_id\": 43.0, \"num_pickup\": 62.0}, {\"pickup_datetime_hour\": \"2024-08-23T11:00:00\", \"pickup_location_id\": 27.0, \"num_pickup\": 0.0}, {\"pickup_datetime_hour\": \"2024-08-23T11:00:00\", \"pickup_location_id\": 43.0, \"num_pickup\": 83.0}, {\"pickup_datetime_hour\": \"2024-08-23T12:00:00\", \"pickup_location_id\": 27.0, \"num_pickup\": 0.0}, {\"pickup_datetime_hour\": \"2024-08-23T12:00:00\", \"pickup_location_id\": 43.0, \"num_pickup\": 94.0}, {\"pickup_datetime_hour\": \"2024-08-23T13:00:00\", \"pickup_location_id\": 27.0, \"num_pickup\": 0.0}, {\"pickup_datetime_hour\": \"2024-08-23T13:00:00\", \"pickup_location_id\": 43.0, \"num_pickup\": 134.0}, {\"pickup_datetime_hour\": \"2024-08-23T14:00:00\", \"pickup_location_id\": 27.0, \"num_pickup\": 0.0}, {\"pickup_datetime_hour\": \"2024-08-23T14:00:00\", \"pickup_location_id\": 43.0, \"num_pickup\": 147.0}, {\"pickup_datetime_hour\": \"2024-08-23T15:00:00\", \"pickup_location_id\": 27.0, \"num_pickup\": 0.0}, {\"pickup_datetime_hour\": \"2024-08-23T15:00:00\", \"pickup_location_id\": 43.0, \"num_pickup\": 147.0}, {\"pickup_datetime_hour\": \"2024-08-23T16:00:00\", \"pickup_location_id\": 27.0, \"num_pickup\": 0.0}, {\"pickup_datetime_hour\": \"2024-08-23T16:00:00\", \"pickup_location_id\": 43.0, \"num_pickup\": 133.0}, {\"pickup_datetime_hour\": \"2024-08-23T17:00:00\", \"pickup_location_id\": 27.0, \"num_pickup\": 0.0}, {\"pickup_datetime_hour\": \"2024-08-23T17:00:00\", \"pickup_location_id\": 43.0, \"num_pickup\": 138.0}, {\"pickup_datetime_hour\": \"2024-08-23T18:00:00\", \"pickup_location_id\": 27.0, \"num_pickup\": 0.0}, {\"pickup_datetime_hour\": \"2024-08-23T18:00:00\", \"pickup_location_id\": 43.0, \"num_pickup\": 129.0}, {\"pickup_datetime_hour\": \"2024-08-23T19:00:00\", \"pickup_location_id\": 27.0, \"num_pickup\": 0.0}, {\"pickup_datetime_hour\": \"2024-08-23T19:00:00\", \"pickup_location_id\": 43.0, \"num_pickup\": 106.0}, {\"pickup_datetime_hour\": \"2024-08-23T20:00:00\", \"pickup_location_id\": 27.0, \"num_pickup\": 0.0}, {\"pickup_datetime_hour\": \"2024-08-23T20:00:00\", \"pickup_location_id\": 43.0, \"num_pickup\": 100.0}, {\"pickup_datetime_hour\": \"2024-08-23T21:00:00\", \"pickup_location_id\": 27.0, \"num_pickup\": 0.0}, {\"pickup_datetime_hour\": \"2024-08-23T21:00:00\", \"pickup_location_id\": 43.0, \"num_pickup\": 110.0}, {\"pickup_datetime_hour\": \"2024-08-23T22:00:00\", \"pickup_location_id\": 27.0, \"num_pickup\": 0.0}, {\"pickup_datetime_hour\": \"2024-08-23T22:00:00\", \"pickup_location_id\": 43.0, \"num_pickup\": 39.0}, {\"pickup_datetime_hour\": \"2024-08-23T23:00:00\", \"pickup_location_id\": 27.0, \"num_pickup\": 0.0}, {\"pickup_datetime_hour\": \"2024-08-23T23:00:00\", \"pickup_location_id\": 43.0, \"num_pickup\": 22.0}, {\"pickup_datetime_hour\": \"2024-08-24T00:00:00\", \"pickup_location_id\": 27.0, \"num_pickup\": 0.0}, {\"pickup_datetime_hour\": \"2024-08-24T00:00:00\", \"pickup_location_id\": 43.0, \"num_pickup\": 10.0}, {\"pickup_datetime_hour\": \"2024-08-24T01:00:00\", \"pickup_location_id\": 27.0, \"num_pickup\": 0.0}, {\"pickup_datetime_hour\": \"2024-08-24T01:00:00\", \"pickup_location_id\": 43.0, \"num_pickup\": 2.0}, {\"pickup_datetime_hour\": \"2024-08-24T02:00:00\", \"pickup_location_id\": 27.0, \"num_pickup\": 0.0}, {\"pickup_datetime_hour\": \"2024-08-24T02:00:00\", \"pickup_location_id\": 43.0, \"num_pickup\": 2.0}, {\"pickup_datetime_hour\": \"2024-08-24T03:00:00\", \"pickup_location_id\": 27.0, \"num_pickup\": 0.0}, {\"pickup_datetime_hour\": \"2024-08-24T03:00:00\", \"pickup_location_id\": 43.0, \"num_pickup\": 2.0}, {\"pickup_datetime_hour\": \"2024-08-24T04:00:00\", \"pickup_location_id\": 27.0, \"num_pickup\": 0.0}, {\"pickup_datetime_hour\": \"2024-08-24T04:00:00\", \"pickup_location_id\": 43.0, \"num_pickup\": 3.0}, {\"pickup_datetime_hour\": \"2024-08-24T05:00:00\", \"pickup_location_id\": 27.0, \"num_pickup\": 0.0}, {\"pickup_datetime_hour\": \"2024-08-24T05:00:00\", \"pickup_location_id\": 43.0, \"num_pickup\": 5.0}, {\"pickup_datetime_hour\": \"2024-08-24T06:00:00\", \"pickup_location_id\": 27.0, \"num_pickup\": 0.0}, {\"pickup_datetime_hour\": \"2024-08-24T06:00:00\", \"pickup_location_id\": 43.0, \"num_pickup\": 11.0}, {\"pickup_datetime_hour\": \"2024-08-24T07:00:00\", \"pickup_location_id\": 27.0, \"num_pickup\": 0.0}, {\"pickup_datetime_hour\": \"2024-08-24T07:00:00\", \"pickup_location_id\": 43.0, \"num_pickup\": 14.0}, {\"pickup_datetime_hour\": \"2024-08-24T08:00:00\", \"pickup_location_id\": 27.0, \"num_pickup\": 0.0}, {\"pickup_datetime_hour\": \"2024-08-24T08:00:00\", \"pickup_location_id\": 43.0, \"num_pickup\": 22.0}, {\"pickup_datetime_hour\": \"2024-08-24T09:00:00\", \"pickup_location_id\": 27.0, \"num_pickup\": 0.0}, {\"pickup_datetime_hour\": \"2024-08-24T09:00:00\", \"pickup_location_id\": 43.0, \"num_pickup\": 44.0}, {\"pickup_datetime_hour\": \"2024-08-24T10:00:00\", \"pickup_location_id\": 27.0, \"num_pickup\": 0.0}, {\"pickup_datetime_hour\": \"2024-08-24T10:00:00\", \"pickup_location_id\": 43.0, \"num_pickup\": 61.0}, {\"pickup_datetime_hour\": \"2024-08-24T11:00:00\", \"pickup_location_id\": 27.0, \"num_pickup\": 0.0}, {\"pickup_datetime_hour\": \"2024-08-24T11:00:00\", \"pickup_location_id\": 43.0, \"num_pickup\": 88.0}, {\"pickup_datetime_hour\": \"2024-08-24T12:00:00\", \"pickup_location_id\": 27.0, \"num_pickup\": 0.0}, {\"pickup_datetime_hour\": \"2024-08-24T12:00:00\", \"pickup_location_id\": 43.0, \"num_pickup\": 97.0}, {\"pickup_datetime_hour\": \"2024-08-24T13:00:00\", \"pickup_location_id\": 27.0, \"num_pickup\": 0.0}, {\"pickup_datetime_hour\": \"2024-08-24T13:00:00\", \"pickup_location_id\": 43.0, \"num_pickup\": 127.0}, {\"pickup_datetime_hour\": \"2024-08-24T14:00:00\", \"pickup_location_id\": 27.0, \"num_pickup\": 0.0}, {\"pickup_datetime_hour\": \"2024-08-24T14:00:00\", \"pickup_location_id\": 43.0, \"num_pickup\": 156.0}, {\"pickup_datetime_hour\": \"2024-08-24T15:00:00\", \"pickup_location_id\": 27.0, \"num_pickup\": 0.0}, {\"pickup_datetime_hour\": \"2024-08-24T15:00:00\", \"pickup_location_id\": 43.0, \"num_pickup\": 150.0}, {\"pickup_datetime_hour\": \"2024-08-24T16:00:00\", \"pickup_location_id\": 27.0, \"num_pickup\": 0.0}, {\"pickup_datetime_hour\": \"2024-08-24T16:00:00\", \"pickup_location_id\": 43.0, \"num_pickup\": 164.0}, {\"pickup_datetime_hour\": \"2024-08-24T17:00:00\", \"pickup_location_id\": 27.0, \"num_pickup\": 0.0}, {\"pickup_datetime_hour\": \"2024-08-24T17:00:00\", \"pickup_location_id\": 43.0, \"num_pickup\": 154.0}, {\"pickup_datetime_hour\": \"2024-08-24T18:00:00\", \"pickup_location_id\": 27.0, \"num_pickup\": 0.0}, {\"pickup_datetime_hour\": \"2024-08-24T18:00:00\", \"pickup_location_id\": 43.0, \"num_pickup\": 167.0}, {\"pickup_datetime_hour\": \"2024-08-24T19:00:00\", \"pickup_location_id\": 27.0, \"num_pickup\": 0.0}, {\"pickup_datetime_hour\": \"2024-08-24T19:00:00\", \"pickup_location_id\": 43.0, \"num_pickup\": 132.0}, {\"pickup_datetime_hour\": \"2024-08-24T20:00:00\", \"pickup_location_id\": 27.0, \"num_pickup\": 1.0}, {\"pickup_datetime_hour\": \"2024-08-24T20:00:00\", \"pickup_location_id\": 43.0, \"num_pickup\": 113.0}, {\"pickup_datetime_hour\": \"2024-08-24T21:00:00\", \"pickup_location_id\": 27.0, \"num_pickup\": 1.0}, {\"pickup_datetime_hour\": \"2024-08-24T21:00:00\", \"pickup_location_id\": 43.0, \"num_pickup\": 56.0}, {\"pickup_datetime_hour\": \"2024-08-24T22:00:00\", \"pickup_location_id\": 27.0, \"num_pickup\": 1.0}, {\"pickup_datetime_hour\": \"2024-08-24T22:00:00\", \"pickup_location_id\": 43.0, \"num_pickup\": 37.0}, {\"pickup_datetime_hour\": \"2024-08-24T23:00:00\", \"pickup_location_id\": 27.0, \"num_pickup\": 0.0}, {\"pickup_datetime_hour\": \"2024-08-24T23:00:00\", \"pickup_location_id\": 43.0, \"num_pickup\": 19.0}, {\"pickup_datetime_hour\": \"2024-08-25T00:00:00\", \"pickup_location_id\": 27.0, \"num_pickup\": 0.0}, {\"pickup_datetime_hour\": \"2024-08-25T00:00:00\", \"pickup_location_id\": 43.0, \"num_pickup\": 15.0}, {\"pickup_datetime_hour\": \"2024-08-25T01:00:00\", \"pickup_location_id\": 27.0, \"num_pickup\": 0.0}, {\"pickup_datetime_hour\": \"2024-08-25T01:00:00\", \"pickup_location_id\": 43.0, \"num_pickup\": 3.0}, {\"pickup_datetime_hour\": \"2024-08-25T02:00:00\", \"pickup_location_id\": 27.0, \"num_pickup\": 0.0}, {\"pickup_datetime_hour\": \"2024-08-25T02:00:00\", \"pickup_location_id\": 43.0, \"num_pickup\": 2.0}, {\"pickup_datetime_hour\": \"2024-08-25T03:00:00\", \"pickup_location_id\": 27.0, \"num_pickup\": 0.0}, {\"pickup_datetime_hour\": \"2024-08-25T03:00:00\", \"pickup_location_id\": 43.0, \"num_pickup\": 0.0}, {\"pickup_datetime_hour\": \"2024-08-25T04:00:00\", \"pickup_location_id\": 27.0, \"num_pickup\": 0.0}, {\"pickup_datetime_hour\": \"2024-08-25T04:00:00\", \"pickup_location_id\": 43.0, \"num_pickup\": 0.0}, {\"pickup_datetime_hour\": \"2024-08-25T05:00:00\", \"pickup_location_id\": 27.0, \"num_pickup\": 0.0}, {\"pickup_datetime_hour\": \"2024-08-25T05:00:00\", \"pickup_location_id\": 43.0, \"num_pickup\": 5.0}, {\"pickup_datetime_hour\": \"2024-08-25T06:00:00\", \"pickup_location_id\": 27.0, \"num_pickup\": 0.0}, {\"pickup_datetime_hour\": \"2024-08-25T06:00:00\", \"pickup_location_id\": 43.0, \"num_pickup\": 5.0}, {\"pickup_datetime_hour\": \"2024-08-25T07:00:00\", \"pickup_location_id\": 27.0, \"num_pickup\": 0.0}, {\"pickup_datetime_hour\": \"2024-08-25T07:00:00\", \"pickup_location_id\": 43.0, \"num_pickup\": 8.0}, {\"pickup_datetime_hour\": \"2024-08-25T08:00:00\", \"pickup_location_id\": 27.0, \"num_pickup\": 0.0}, {\"pickup_datetime_hour\": \"2024-08-25T08:00:00\", \"pickup_location_id\": 43.0, \"num_pickup\": 15.0}, {\"pickup_datetime_hour\": \"2024-08-25T09:00:00\", \"pickup_location_id\": 27.0, \"num_pickup\": 0.0}, {\"pickup_datetime_hour\": \"2024-08-25T09:00:00\", \"pickup_location_id\": 43.0, \"num_pickup\": 41.0}, {\"pickup_datetime_hour\": \"2024-08-25T10:00:00\", \"pickup_location_id\": 27.0, \"num_pickup\": 0.0}, {\"pickup_datetime_hour\": \"2024-08-25T10:00:00\", \"pickup_location_id\": 43.0, \"num_pickup\": 43.0}, {\"pickup_datetime_hour\": \"2024-08-25T11:00:00\", \"pickup_location_id\": 27.0, \"num_pickup\": 0.0}, {\"pickup_datetime_hour\": \"2024-08-25T11:00:00\", \"pickup_location_id\": 43.0, \"num_pickup\": 86.0}, {\"pickup_datetime_hour\": \"2024-08-25T12:00:00\", \"pickup_location_id\": 27.0, \"num_pickup\": 0.0}, {\"pickup_datetime_hour\": \"2024-08-25T12:00:00\", \"pickup_location_id\": 43.0, \"num_pickup\": 110.0}, {\"pickup_datetime_hour\": \"2024-08-25T13:00:00\", \"pickup_location_id\": 27.0, \"num_pickup\": 0.0}, {\"pickup_datetime_hour\": \"2024-08-25T13:00:00\", \"pickup_location_id\": 43.0, \"num_pickup\": 141.0}, {\"pickup_datetime_hour\": \"2024-08-25T14:00:00\", \"pickup_location_id\": 27.0, \"num_pickup\": 0.0}, {\"pickup_datetime_hour\": \"2024-08-25T14:00:00\", \"pickup_location_id\": 43.0, \"num_pickup\": 141.0}, {\"pickup_datetime_hour\": \"2024-08-25T15:00:00\", \"pickup_location_id\": 27.0, \"num_pickup\": 0.0}, {\"pickup_datetime_hour\": \"2024-08-25T15:00:00\", \"pickup_location_id\": 43.0, \"num_pickup\": 145.0}, {\"pickup_datetime_hour\": \"2024-08-25T16:00:00\", \"pickup_location_id\": 27.0, \"num_pickup\": 0.0}, {\"pickup_datetime_hour\": \"2024-08-25T16:00:00\", \"pickup_location_id\": 43.0, \"num_pickup\": 187.0}, {\"pickup_datetime_hour\": \"2024-08-25T17:00:00\", \"pickup_location_id\": 27.0, \"num_pickup\": 0.0}, {\"pickup_datetime_hour\": \"2024-08-25T17:00:00\", \"pickup_location_id\": 43.0, \"num_pickup\": 139.0}, {\"pickup_datetime_hour\": \"2024-08-25T18:00:00\", \"pickup_location_id\": 27.0, \"num_pickup\": 1.0}, {\"pickup_datetime_hour\": \"2024-08-25T18:00:00\", \"pickup_location_id\": 43.0, \"num_pickup\": 82.0}, {\"pickup_datetime_hour\": \"2024-08-25T19:00:00\", \"pickup_location_id\": 27.0, \"num_pickup\": 0.0}, {\"pickup_datetime_hour\": \"2024-08-25T19:00:00\", \"pickup_location_id\": 43.0, \"num_pickup\": 49.0}, {\"pickup_datetime_hour\": \"2024-08-25T20:00:00\", \"pickup_location_id\": 27.0, \"num_pickup\": 0.0}, {\"pickup_datetime_hour\": \"2024-08-25T20:00:00\", \"pickup_location_id\": 43.0, \"num_pickup\": 38.0}, {\"pickup_datetime_hour\": \"2024-08-25T21:00:00\", \"pickup_location_id\": 27.0, \"num_pickup\": 0.0}, {\"pickup_datetime_hour\": \"2024-08-25T21:00:00\", \"pickup_location_id\": 43.0, \"num_pickup\": 24.0}, {\"pickup_datetime_hour\": \"2024-08-25T22:00:00\", \"pickup_location_id\": 27.0, \"num_pickup\": 0.0}, {\"pickup_datetime_hour\": \"2024-08-25T22:00:00\", \"pickup_location_id\": 43.0, \"num_pickup\": 19.0}, {\"pickup_datetime_hour\": \"2024-08-25T23:00:00\", \"pickup_location_id\": 27.0, \"num_pickup\": 0.0}, {\"pickup_datetime_hour\": \"2024-08-25T23:00:00\", \"pickup_location_id\": 43.0, \"num_pickup\": 9.0}, {\"pickup_datetime_hour\": \"2024-08-26T00:00:00\", \"pickup_location_id\": 27.0, \"num_pickup\": 0.0}, {\"pickup_datetime_hour\": \"2024-08-26T00:00:00\", \"pickup_location_id\": 43.0, \"num_pickup\": 5.0}, {\"pickup_datetime_hour\": \"2024-08-26T01:00:00\", \"pickup_location_id\": 27.0, \"num_pickup\": 0.0}, {\"pickup_datetime_hour\": \"2024-08-26T01:00:00\", \"pickup_location_id\": 43.0, \"num_pickup\": 1.0}, {\"pickup_datetime_hour\": \"2024-08-26T02:00:00\", \"pickup_location_id\": 27.0, \"num_pickup\": 0.0}, {\"pickup_datetime_hour\": \"2024-08-26T02:00:00\", \"pickup_location_id\": 43.0, \"num_pickup\": 0.0}, {\"pickup_datetime_hour\": \"2024-08-26T03:00:00\", \"pickup_location_id\": 27.0, \"num_pickup\": 0.0}, {\"pickup_datetime_hour\": \"2024-08-26T03:00:00\", \"pickup_location_id\": 43.0, \"num_pickup\": 0.0}, {\"pickup_datetime_hour\": \"2024-08-26T04:00:00\", \"pickup_location_id\": 27.0, \"num_pickup\": 0.0}, {\"pickup_datetime_hour\": \"2024-08-26T04:00:00\", \"pickup_location_id\": 43.0, \"num_pickup\": 1.0}, {\"pickup_datetime_hour\": \"2024-08-26T05:00:00\", \"pickup_location_id\": 27.0, \"num_pickup\": 0.0}, {\"pickup_datetime_hour\": \"2024-08-26T05:00:00\", \"pickup_location_id\": 43.0, \"num_pickup\": 4.0}, {\"pickup_datetime_hour\": \"2024-08-26T06:00:00\", \"pickup_location_id\": 27.0, \"num_pickup\": 0.0}, {\"pickup_datetime_hour\": \"2024-08-26T06:00:00\", \"pickup_location_id\": 43.0, \"num_pickup\": 8.0}, {\"pickup_datetime_hour\": \"2024-08-26T07:00:00\", \"pickup_location_id\": 27.0, \"num_pickup\": 0.0}, {\"pickup_datetime_hour\": \"2024-08-26T07:00:00\", \"pickup_location_id\": 43.0, \"num_pickup\": 17.0}, {\"pickup_datetime_hour\": \"2024-08-26T08:00:00\", \"pickup_location_id\": 27.0, \"num_pickup\": 0.0}, {\"pickup_datetime_hour\": \"2024-08-26T08:00:00\", \"pickup_location_id\": 43.0, \"num_pickup\": 35.0}, {\"pickup_datetime_hour\": \"2024-08-26T09:00:00\", \"pickup_location_id\": 27.0, \"num_pickup\": 0.0}, {\"pickup_datetime_hour\": \"2024-08-26T09:00:00\", \"pickup_location_id\": 43.0, \"num_pickup\": 66.0}, {\"pickup_datetime_hour\": \"2024-08-26T10:00:00\", \"pickup_location_id\": 27.0, \"num_pickup\": 0.0}, {\"pickup_datetime_hour\": \"2024-08-26T10:00:00\", \"pickup_location_id\": 43.0, \"num_pickup\": 56.0}, {\"pickup_datetime_hour\": \"2024-08-26T11:00:00\", \"pickup_location_id\": 27.0, \"num_pickup\": 1.0}, {\"pickup_datetime_hour\": \"2024-08-26T11:00:00\", \"pickup_location_id\": 43.0, \"num_pickup\": 82.0}, {\"pickup_datetime_hour\": \"2024-08-26T12:00:00\", \"pickup_location_id\": 27.0, \"num_pickup\": 0.0}, {\"pickup_datetime_hour\": \"2024-08-26T12:00:00\", \"pickup_location_id\": 43.0, \"num_pickup\": 118.0}, {\"pickup_datetime_hour\": \"2024-08-26T13:00:00\", \"pickup_location_id\": 27.0, \"num_pickup\": 0.0}, {\"pickup_datetime_hour\": \"2024-08-26T13:00:00\", \"pickup_location_id\": 43.0, \"num_pickup\": 97.0}, {\"pickup_datetime_hour\": \"2024-08-26T14:00:00\", \"pickup_location_id\": 27.0, \"num_pickup\": 0.0}, {\"pickup_datetime_hour\": \"2024-08-26T14:00:00\", \"pickup_location_id\": 43.0, \"num_pickup\": 140.0}, {\"pickup_datetime_hour\": \"2024-08-26T15:00:00\", \"pickup_location_id\": 27.0, \"num_pickup\": 0.0}, {\"pickup_datetime_hour\": \"2024-08-26T15:00:00\", \"pickup_location_id\": 43.0, \"num_pickup\": 129.0}, {\"pickup_datetime_hour\": \"2024-08-26T16:00:00\", \"pickup_location_id\": 27.0, \"num_pickup\": 0.0}, {\"pickup_datetime_hour\": \"2024-08-26T16:00:00\", \"pickup_location_id\": 43.0, \"num_pickup\": 145.0}, {\"pickup_datetime_hour\": \"2024-08-26T17:00:00\", \"pickup_location_id\": 27.0, \"num_pickup\": 0.0}, {\"pickup_datetime_hour\": \"2024-08-26T17:00:00\", \"pickup_location_id\": 43.0, \"num_pickup\": 120.0}, {\"pickup_datetime_hour\": \"2024-08-26T18:00:00\", \"pickup_location_id\": 27.0, \"num_pickup\": 0.0}, {\"pickup_datetime_hour\": \"2024-08-26T18:00:00\", \"pickup_location_id\": 43.0, \"num_pickup\": 56.0}, {\"pickup_datetime_hour\": \"2024-08-26T19:00:00\", \"pickup_location_id\": 27.0, \"num_pickup\": 0.0}, {\"pickup_datetime_hour\": \"2024-08-26T19:00:00\", \"pickup_location_id\": 43.0, \"num_pickup\": 65.0}, {\"pickup_datetime_hour\": \"2024-08-26T20:00:00\", \"pickup_location_id\": 27.0, \"num_pickup\": 0.0}, {\"pickup_datetime_hour\": \"2024-08-26T20:00:00\", \"pickup_location_id\": 43.0, \"num_pickup\": 55.0}, {\"pickup_datetime_hour\": \"2024-08-26T21:00:00\", \"pickup_location_id\": 27.0, \"num_pickup\": 0.0}, {\"pickup_datetime_hour\": \"2024-08-26T21:00:00\", \"pickup_location_id\": 43.0, \"num_pickup\": 54.0}, {\"pickup_datetime_hour\": \"2024-08-26T22:00:00\", \"pickup_location_id\": 27.0, \"num_pickup\": 0.0}, {\"pickup_datetime_hour\": \"2024-08-26T22:00:00\", \"pickup_location_id\": 43.0, \"num_pickup\": 25.0}, {\"pickup_datetime_hour\": \"2024-08-26T23:00:00\", \"pickup_location_id\": 27.0, \"num_pickup\": 0.0}, {\"pickup_datetime_hour\": \"2024-08-26T23:00:00\", \"pickup_location_id\": 43.0, \"num_pickup\": 9.0}, {\"pickup_datetime_hour\": \"2024-08-27T00:00:00\", \"pickup_location_id\": 27.0, \"num_pickup\": 0.0}, {\"pickup_datetime_hour\": \"2024-08-27T00:00:00\", \"pickup_location_id\": 43.0, \"num_pickup\": 11.0}, {\"pickup_datetime_hour\": \"2024-08-27T01:00:00\", \"pickup_location_id\": 27.0, \"num_pickup\": 0.0}, {\"pickup_datetime_hour\": \"2024-08-27T01:00:00\", \"pickup_location_id\": 43.0, \"num_pickup\": 4.0}, {\"pickup_datetime_hour\": \"2024-08-27T02:00:00\", \"pickup_location_id\": 27.0, \"num_pickup\": 0.0}, {\"pickup_datetime_hour\": \"2024-08-27T02:00:00\", \"pickup_location_id\": 43.0, \"num_pickup\": 0.0}, {\"pickup_datetime_hour\": \"2024-08-27T03:00:00\", \"pickup_location_id\": 27.0, \"num_pickup\": 0.0}, {\"pickup_datetime_hour\": \"2024-08-27T03:00:00\", \"pickup_location_id\": 43.0, \"num_pickup\": 0.0}, {\"pickup_datetime_hour\": \"2024-08-27T04:00:00\", \"pickup_location_id\": 27.0, \"num_pickup\": 0.0}, {\"pickup_datetime_hour\": \"2024-08-27T04:00:00\", \"pickup_location_id\": 43.0, \"num_pickup\": 0.0}, {\"pickup_datetime_hour\": \"2024-08-27T05:00:00\", \"pickup_location_id\": 27.0, \"num_pickup\": 0.0}, {\"pickup_datetime_hour\": \"2024-08-27T05:00:00\", \"pickup_location_id\": 43.0, \"num_pickup\": 6.0}, {\"pickup_datetime_hour\": \"2024-08-27T06:00:00\", \"pickup_location_id\": 27.0, \"num_pickup\": 0.0}, {\"pickup_datetime_hour\": \"2024-08-27T06:00:00\", \"pickup_location_id\": 43.0, \"num_pickup\": 8.0}, {\"pickup_datetime_hour\": \"2024-08-27T07:00:00\", \"pickup_location_id\": 27.0, \"num_pickup\": 0.0}, {\"pickup_datetime_hour\": \"2024-08-27T07:00:00\", \"pickup_location_id\": 43.0, \"num_pickup\": 18.0}, {\"pickup_datetime_hour\": \"2024-08-27T08:00:00\", \"pickup_location_id\": 27.0, \"num_pickup\": 0.0}, {\"pickup_datetime_hour\": \"2024-08-27T08:00:00\", \"pickup_location_id\": 43.0, \"num_pickup\": 40.0}, {\"pickup_datetime_hour\": \"2024-08-27T09:00:00\", \"pickup_location_id\": 27.0, \"num_pickup\": 0.0}, {\"pickup_datetime_hour\": \"2024-08-27T09:00:00\", \"pickup_location_id\": 43.0, \"num_pickup\": 58.0}, {\"pickup_datetime_hour\": \"2024-08-27T10:00:00\", \"pickup_location_id\": 27.0, \"num_pickup\": 0.0}, {\"pickup_datetime_hour\": \"2024-08-27T10:00:00\", \"pickup_location_id\": 43.0, \"num_pickup\": 55.0}, {\"pickup_datetime_hour\": \"2024-08-27T11:00:00\", \"pickup_location_id\": 27.0, \"num_pickup\": 0.0}, {\"pickup_datetime_hour\": \"2024-08-27T11:00:00\", \"pickup_location_id\": 43.0, \"num_pickup\": 92.0}, {\"pickup_datetime_hour\": \"2024-08-27T12:00:00\", \"pickup_location_id\": 27.0, \"num_pickup\": 0.0}, {\"pickup_datetime_hour\": \"2024-08-27T12:00:00\", \"pickup_location_id\": 43.0, \"num_pickup\": 122.0}, {\"pickup_datetime_hour\": \"2024-08-27T13:00:00\", \"pickup_location_id\": 27.0, \"num_pickup\": 0.0}, {\"pickup_datetime_hour\": \"2024-08-27T13:00:00\", \"pickup_location_id\": 43.0, \"num_pickup\": 122.0}, {\"pickup_datetime_hour\": \"2024-08-27T14:00:00\", \"pickup_location_id\": 27.0, \"num_pickup\": 0.0}, {\"pickup_datetime_hour\": \"2024-08-27T14:00:00\", \"pickup_location_id\": 43.0, \"num_pickup\": 166.0}, {\"pickup_datetime_hour\": \"2024-08-27T15:00:00\", \"pickup_location_id\": 27.0, \"num_pickup\": 0.0}, {\"pickup_datetime_hour\": \"2024-08-27T15:00:00\", \"pickup_location_id\": 43.0, \"num_pickup\": 177.0}, {\"pickup_datetime_hour\": \"2024-08-27T16:00:00\", \"pickup_location_id\": 27.0, \"num_pickup\": 0.0}, {\"pickup_datetime_hour\": \"2024-08-27T16:00:00\", \"pickup_location_id\": 43.0, \"num_pickup\": 148.0}, {\"pickup_datetime_hour\": \"2024-08-27T17:00:00\", \"pickup_location_id\": 27.0, \"num_pickup\": 1.0}, {\"pickup_datetime_hour\": \"2024-08-27T17:00:00\", \"pickup_location_id\": 43.0, \"num_pickup\": 144.0}, {\"pickup_datetime_hour\": \"2024-08-27T18:00:00\", \"pickup_location_id\": 27.0, \"num_pickup\": 1.0}, {\"pickup_datetime_hour\": \"2024-08-27T18:00:00\", \"pickup_location_id\": 43.0, \"num_pickup\": 98.0}, {\"pickup_datetime_hour\": \"2024-08-27T19:00:00\", \"pickup_location_id\": 27.0, \"num_pickup\": 0.0}, {\"pickup_datetime_hour\": \"2024-08-27T19:00:00\", \"pickup_location_id\": 43.0, \"num_pickup\": 86.0}, {\"pickup_datetime_hour\": \"2024-08-27T20:00:00\", \"pickup_location_id\": 27.0, \"num_pickup\": 0.0}, {\"pickup_datetime_hour\": \"2024-08-27T20:00:00\", \"pickup_location_id\": 43.0, \"num_pickup\": 99.0}, {\"pickup_datetime_hour\": \"2024-08-27T21:00:00\", \"pickup_location_id\": 27.0, \"num_pickup\": 0.0}, {\"pickup_datetime_hour\": \"2024-08-27T21:00:00\", \"pickup_location_id\": 43.0, \"num_pickup\": 61.0}, {\"pickup_datetime_hour\": \"2024-08-27T22:00:00\", \"pickup_location_id\": 27.0, \"num_pickup\": 0.0}, {\"pickup_datetime_hour\": \"2024-08-27T22:00:00\", \"pickup_location_id\": 43.0, \"num_pickup\": 32.0}, {\"pickup_datetime_hour\": \"2024-08-27T23:00:00\", \"pickup_location_id\": 27.0, \"num_pickup\": 0.0}, {\"pickup_datetime_hour\": \"2024-08-27T23:00:00\", \"pickup_location_id\": 43.0, \"num_pickup\": 17.0}, {\"pickup_datetime_hour\": \"2024-08-28T00:00:00\", \"pickup_location_id\": 27.0, \"num_pickup\": 0.0}, {\"pickup_datetime_hour\": \"2024-08-28T00:00:00\", \"pickup_location_id\": 43.0, \"num_pickup\": 6.0}, {\"pickup_datetime_hour\": \"2024-08-28T01:00:00\", \"pickup_location_id\": 27.0, \"num_pickup\": 0.0}, {\"pickup_datetime_hour\": \"2024-08-28T01:00:00\", \"pickup_location_id\": 43.0, \"num_pickup\": 1.0}, {\"pickup_datetime_hour\": \"2024-08-28T02:00:00\", \"pickup_location_id\": 27.0, \"num_pickup\": 0.0}, {\"pickup_datetime_hour\": \"2024-08-28T02:00:00\", \"pickup_location_id\": 43.0, \"num_pickup\": 0.0}, {\"pickup_datetime_hour\": \"2024-08-28T03:00:00\", \"pickup_location_id\": 27.0, \"num_pickup\": 0.0}, {\"pickup_datetime_hour\": \"2024-08-28T03:00:00\", \"pickup_location_id\": 43.0, \"num_pickup\": 0.0}, {\"pickup_datetime_hour\": \"2024-08-28T04:00:00\", \"pickup_location_id\": 27.0, \"num_pickup\": 0.0}, {\"pickup_datetime_hour\": \"2024-08-28T04:00:00\", \"pickup_location_id\": 43.0, \"num_pickup\": 2.0}, {\"pickup_datetime_hour\": \"2024-08-28T05:00:00\", \"pickup_location_id\": 27.0, \"num_pickup\": 0.0}, {\"pickup_datetime_hour\": \"2024-08-28T05:00:00\", \"pickup_location_id\": 43.0, \"num_pickup\": 3.0}, {\"pickup_datetime_hour\": \"2024-08-28T06:00:00\", \"pickup_location_id\": 27.0, \"num_pickup\": 0.0}, {\"pickup_datetime_hour\": \"2024-08-28T06:00:00\", \"pickup_location_id\": 43.0, \"num_pickup\": 10.0}, {\"pickup_datetime_hour\": \"2024-08-28T07:00:00\", \"pickup_location_id\": 27.0, \"num_pickup\": 0.0}, {\"pickup_datetime_hour\": \"2024-08-28T07:00:00\", \"pickup_location_id\": 43.0, \"num_pickup\": 25.0}, {\"pickup_datetime_hour\": \"2024-08-28T08:00:00\", \"pickup_location_id\": 27.0, \"num_pickup\": 0.0}, {\"pickup_datetime_hour\": \"2024-08-28T08:00:00\", \"pickup_location_id\": 43.0, \"num_pickup\": 38.0}, {\"pickup_datetime_hour\": \"2024-08-28T09:00:00\", \"pickup_location_id\": 27.0, \"num_pickup\": 0.0}, {\"pickup_datetime_hour\": \"2024-08-28T09:00:00\", \"pickup_location_id\": 43.0, \"num_pickup\": 57.0}, {\"pickup_datetime_hour\": \"2024-08-28T10:00:00\", \"pickup_location_id\": 27.0, \"num_pickup\": 0.0}, {\"pickup_datetime_hour\": \"2024-08-28T10:00:00\", \"pickup_location_id\": 43.0, \"num_pickup\": 58.0}, {\"pickup_datetime_hour\": \"2024-08-28T11:00:00\", \"pickup_location_id\": 27.0, \"num_pickup\": 0.0}, {\"pickup_datetime_hour\": \"2024-08-28T11:00:00\", \"pickup_location_id\": 43.0, \"num_pickup\": 83.0}, {\"pickup_datetime_hour\": \"2024-08-28T12:00:00\", \"pickup_location_id\": 27.0, \"num_pickup\": 0.0}, {\"pickup_datetime_hour\": \"2024-08-28T12:00:00\", \"pickup_location_id\": 43.0, \"num_pickup\": 126.0}, {\"pickup_datetime_hour\": \"2024-08-28T13:00:00\", \"pickup_location_id\": 27.0, \"num_pickup\": 0.0}, {\"pickup_datetime_hour\": \"2024-08-28T13:00:00\", \"pickup_location_id\": 43.0, \"num_pickup\": 111.0}, {\"pickup_datetime_hour\": \"2024-08-28T14:00:00\", \"pickup_location_id\": 27.0, \"num_pickup\": 0.0}, {\"pickup_datetime_hour\": \"2024-08-28T14:00:00\", \"pickup_location_id\": 43.0, \"num_pickup\": 122.0}, {\"pickup_datetime_hour\": \"2024-08-28T15:00:00\", \"pickup_location_id\": 27.0, \"num_pickup\": 0.0}, {\"pickup_datetime_hour\": \"2024-08-28T15:00:00\", \"pickup_location_id\": 43.0, \"num_pickup\": 104.0}, {\"pickup_datetime_hour\": \"2024-08-28T16:00:00\", \"pickup_location_id\": 27.0, \"num_pickup\": 0.0}, {\"pickup_datetime_hour\": \"2024-08-28T16:00:00\", \"pickup_location_id\": 43.0, \"num_pickup\": 88.0}, {\"pickup_datetime_hour\": \"2024-08-28T17:00:00\", \"pickup_location_id\": 27.0, \"num_pickup\": 0.0}, {\"pickup_datetime_hour\": \"2024-08-28T17:00:00\", \"pickup_location_id\": 43.0, \"num_pickup\": 97.0}, {\"pickup_datetime_hour\": \"2024-08-28T18:00:00\", \"pickup_location_id\": 27.0, \"num_pickup\": 1.0}, {\"pickup_datetime_hour\": \"2024-08-28T18:00:00\", \"pickup_location_id\": 43.0, \"num_pickup\": 73.0}, {\"pickup_datetime_hour\": \"2024-08-28T19:00:00\", \"pickup_location_id\": 27.0, \"num_pickup\": 0.0}, {\"pickup_datetime_hour\": \"2024-08-28T19:00:00\", \"pickup_location_id\": 43.0, \"num_pickup\": 65.0}, {\"pickup_datetime_hour\": \"2024-08-28T20:00:00\", \"pickup_location_id\": 27.0, \"num_pickup\": 1.0}, {\"pickup_datetime_hour\": \"2024-08-28T20:00:00\", \"pickup_location_id\": 43.0, \"num_pickup\": 70.0}, {\"pickup_datetime_hour\": \"2024-08-28T21:00:00\", \"pickup_location_id\": 27.0, \"num_pickup\": 0.0}, {\"pickup_datetime_hour\": \"2024-08-28T21:00:00\", \"pickup_location_id\": 43.0, \"num_pickup\": 74.0}, {\"pickup_datetime_hour\": \"2024-08-28T22:00:00\", \"pickup_location_id\": 27.0, \"num_pickup\": 0.0}, {\"pickup_datetime_hour\": \"2024-08-28T22:00:00\", \"pickup_location_id\": 43.0, \"num_pickup\": 14.0}, {\"pickup_datetime_hour\": \"2024-08-28T23:00:00\", \"pickup_location_id\": 27.0, \"num_pickup\": 0.0}, {\"pickup_datetime_hour\": \"2024-08-28T23:00:00\", \"pickup_location_id\": 43.0, \"num_pickup\": 15.0}, {\"pickup_datetime_hour\": \"2024-08-29T00:00:00\", \"pickup_location_id\": 27.0, \"num_pickup\": 1.0}, {\"pickup_datetime_hour\": \"2024-08-29T00:00:00\", \"pickup_location_id\": 43.0, \"num_pickup\": 6.0}, {\"pickup_datetime_hour\": \"2024-08-29T01:00:00\", \"pickup_location_id\": 27.0, \"num_pickup\": 0.0}, {\"pickup_datetime_hour\": \"2024-08-29T01:00:00\", \"pickup_location_id\": 43.0, \"num_pickup\": 1.0}, {\"pickup_datetime_hour\": \"2024-08-29T02:00:00\", \"pickup_location_id\": 27.0, \"num_pickup\": 0.0}, {\"pickup_datetime_hour\": \"2024-08-29T02:00:00\", \"pickup_location_id\": 43.0, \"num_pickup\": 1.0}, {\"pickup_datetime_hour\": \"2024-08-29T03:00:00\", \"pickup_location_id\": 27.0, \"num_pickup\": 0.0}, {\"pickup_datetime_hour\": \"2024-08-29T03:00:00\", \"pickup_location_id\": 43.0, \"num_pickup\": 0.0}, {\"pickup_datetime_hour\": \"2024-08-29T04:00:00\", \"pickup_location_id\": 27.0, \"num_pickup\": 0.0}, {\"pickup_datetime_hour\": \"2024-08-29T04:00:00\", \"pickup_location_id\": 43.0, \"num_pickup\": 3.0}, {\"pickup_datetime_hour\": \"2024-08-29T05:00:00\", \"pickup_location_id\": 27.0, \"num_pickup\": 0.0}, {\"pickup_datetime_hour\": \"2024-08-29T05:00:00\", \"pickup_location_id\": 43.0, \"num_pickup\": 4.0}, {\"pickup_datetime_hour\": \"2024-08-29T06:00:00\", \"pickup_location_id\": 27.0, \"num_pickup\": 0.0}, {\"pickup_datetime_hour\": \"2024-08-29T06:00:00\", \"pickup_location_id\": 43.0, \"num_pickup\": 11.0}, {\"pickup_datetime_hour\": \"2024-08-29T07:00:00\", \"pickup_location_id\": 27.0, \"num_pickup\": 0.0}, {\"pickup_datetime_hour\": \"2024-08-29T07:00:00\", \"pickup_location_id\": 43.0, \"num_pickup\": 16.0}, {\"pickup_datetime_hour\": \"2024-08-29T08:00:00\", \"pickup_location_id\": 27.0, \"num_pickup\": 0.0}, {\"pickup_datetime_hour\": \"2024-08-29T08:00:00\", \"pickup_location_id\": 43.0, \"num_pickup\": 33.0}, {\"pickup_datetime_hour\": \"2024-08-29T09:00:00\", \"pickup_location_id\": 27.0, \"num_pickup\": 0.0}, {\"pickup_datetime_hour\": \"2024-08-29T09:00:00\", \"pickup_location_id\": 43.0, \"num_pickup\": 68.0}, {\"pickup_datetime_hour\": \"2024-08-29T10:00:00\", \"pickup_location_id\": 27.0, \"num_pickup\": 0.0}, {\"pickup_datetime_hour\": \"2024-08-29T10:00:00\", \"pickup_location_id\": 43.0, \"num_pickup\": 64.0}, {\"pickup_datetime_hour\": \"2024-08-29T11:00:00\", \"pickup_location_id\": 27.0, \"num_pickup\": 0.0}, {\"pickup_datetime_hour\": \"2024-08-29T11:00:00\", \"pickup_location_id\": 43.0, \"num_pickup\": 80.0}, {\"pickup_datetime_hour\": \"2024-08-29T12:00:00\", \"pickup_location_id\": 27.0, \"num_pickup\": 0.0}, {\"pickup_datetime_hour\": \"2024-08-29T12:00:00\", \"pickup_location_id\": 43.0, \"num_pickup\": 114.0}, {\"pickup_datetime_hour\": \"2024-08-29T13:00:00\", \"pickup_location_id\": 27.0, \"num_pickup\": 0.0}, {\"pickup_datetime_hour\": \"2024-08-29T13:00:00\", \"pickup_location_id\": 43.0, \"num_pickup\": 127.0}, {\"pickup_datetime_hour\": \"2024-08-29T14:00:00\", \"pickup_location_id\": 27.0, \"num_pickup\": 0.0}, {\"pickup_datetime_hour\": \"2024-08-29T14:00:00\", \"pickup_location_id\": 43.0, \"num_pickup\": 145.0}, {\"pickup_datetime_hour\": \"2024-08-29T15:00:00\", \"pickup_location_id\": 27.0, \"num_pickup\": 0.0}, {\"pickup_datetime_hour\": \"2024-08-29T15:00:00\", \"pickup_location_id\": 43.0, \"num_pickup\": 152.0}, {\"pickup_datetime_hour\": \"2024-08-29T16:00:00\", \"pickup_location_id\": 27.0, \"num_pickup\": 0.0}, {\"pickup_datetime_hour\": \"2024-08-29T16:00:00\", \"pickup_location_id\": 43.0, \"num_pickup\": 141.0}, {\"pickup_datetime_hour\": \"2024-08-29T17:00:00\", \"pickup_location_id\": 27.0, \"num_pickup\": 1.0}, {\"pickup_datetime_hour\": \"2024-08-29T17:00:00\", \"pickup_location_id\": 43.0, \"num_pickup\": 152.0}, {\"pickup_datetime_hour\": \"2024-08-29T18:00:00\", \"pickup_location_id\": 27.0, \"num_pickup\": 0.0}, {\"pickup_datetime_hour\": \"2024-08-29T18:00:00\", \"pickup_location_id\": 43.0, \"num_pickup\": 71.0}, {\"pickup_datetime_hour\": \"2024-08-29T19:00:00\", \"pickup_location_id\": 27.0, \"num_pickup\": 0.0}, {\"pickup_datetime_hour\": \"2024-08-29T19:00:00\", \"pickup_location_id\": 43.0, \"num_pickup\": 53.0}, {\"pickup_datetime_hour\": \"2024-08-29T20:00:00\", \"pickup_location_id\": 27.0, \"num_pickup\": 0.0}, {\"pickup_datetime_hour\": \"2024-08-29T20:00:00\", \"pickup_location_id\": 43.0, \"num_pickup\": 46.0}, {\"pickup_datetime_hour\": \"2024-08-29T21:00:00\", \"pickup_location_id\": 27.0, \"num_pickup\": 0.0}, {\"pickup_datetime_hour\": \"2024-08-29T21:00:00\", \"pickup_location_id\": 43.0, \"num_pickup\": 36.0}, {\"pickup_datetime_hour\": \"2024-08-29T22:00:00\", \"pickup_location_id\": 27.0, \"num_pickup\": 0.0}, {\"pickup_datetime_hour\": \"2024-08-29T22:00:00\", \"pickup_location_id\": 43.0, \"num_pickup\": 14.0}, {\"pickup_datetime_hour\": \"2024-08-29T23:00:00\", \"pickup_location_id\": 27.0, \"num_pickup\": 0.0}, {\"pickup_datetime_hour\": \"2024-08-29T23:00:00\", \"pickup_location_id\": 43.0, \"num_pickup\": 19.0}, {\"pickup_datetime_hour\": \"2024-08-30T00:00:00\", \"pickup_location_id\": 27.0, \"num_pickup\": 0.0}, {\"pickup_datetime_hour\": \"2024-08-30T00:00:00\", \"pickup_location_id\": 43.0, \"num_pickup\": 15.0}, {\"pickup_datetime_hour\": \"2024-08-30T01:00:00\", \"pickup_location_id\": 27.0, \"num_pickup\": 0.0}, {\"pickup_datetime_hour\": \"2024-08-30T01:00:00\", \"pickup_location_id\": 43.0, \"num_pickup\": 1.0}, {\"pickup_datetime_hour\": \"2024-08-30T02:00:00\", \"pickup_location_id\": 27.0, \"num_pickup\": 0.0}, {\"pickup_datetime_hour\": \"2024-08-30T02:00:00\", \"pickup_location_id\": 43.0, \"num_pickup\": 0.0}, {\"pickup_datetime_hour\": \"2024-08-30T03:00:00\", \"pickup_location_id\": 27.0, \"num_pickup\": 0.0}, {\"pickup_datetime_hour\": \"2024-08-30T03:00:00\", \"pickup_location_id\": 43.0, \"num_pickup\": 0.0}, {\"pickup_datetime_hour\": \"2024-08-30T04:00:00\", \"pickup_location_id\": 27.0, \"num_pickup\": 0.0}, {\"pickup_datetime_hour\": \"2024-08-30T04:00:00\", \"pickup_location_id\": 43.0, \"num_pickup\": 4.0}, {\"pickup_datetime_hour\": \"2024-08-30T05:00:00\", \"pickup_location_id\": 27.0, \"num_pickup\": 0.0}, {\"pickup_datetime_hour\": \"2024-08-30T05:00:00\", \"pickup_location_id\": 43.0, \"num_pickup\": 1.0}, {\"pickup_datetime_hour\": \"2024-08-30T06:00:00\", \"pickup_location_id\": 27.0, \"num_pickup\": 0.0}, {\"pickup_datetime_hour\": \"2024-08-30T06:00:00\", \"pickup_location_id\": 43.0, \"num_pickup\": 6.0}, {\"pickup_datetime_hour\": \"2024-08-30T07:00:00\", \"pickup_location_id\": 27.0, \"num_pickup\": 0.0}, {\"pickup_datetime_hour\": \"2024-08-30T07:00:00\", \"pickup_location_id\": 43.0, \"num_pickup\": 13.0}, {\"pickup_datetime_hour\": \"2024-08-30T08:00:00\", \"pickup_location_id\": 27.0, \"num_pickup\": 0.0}, {\"pickup_datetime_hour\": \"2024-08-30T08:00:00\", \"pickup_location_id\": 43.0, \"num_pickup\": 31.0}, {\"pickup_datetime_hour\": \"2024-08-30T09:00:00\", \"pickup_location_id\": 27.0, \"num_pickup\": 0.0}, {\"pickup_datetime_hour\": \"2024-08-30T09:00:00\", \"pickup_location_id\": 43.0, \"num_pickup\": 49.0}, {\"pickup_datetime_hour\": \"2024-08-30T10:00:00\", \"pickup_location_id\": 27.0, \"num_pickup\": 0.0}, {\"pickup_datetime_hour\": \"2024-08-30T10:00:00\", \"pickup_location_id\": 43.0, \"num_pickup\": 52.0}, {\"pickup_datetime_hour\": \"2024-08-30T11:00:00\", \"pickup_location_id\": 27.0, \"num_pickup\": 0.0}, {\"pickup_datetime_hour\": \"2024-08-30T11:00:00\", \"pickup_location_id\": 43.0, \"num_pickup\": 79.0}, {\"pickup_datetime_hour\": \"2024-08-30T12:00:00\", \"pickup_location_id\": 27.0, \"num_pickup\": 0.0}, {\"pickup_datetime_hour\": \"2024-08-30T12:00:00\", \"pickup_location_id\": 43.0, \"num_pickup\": 111.0}, {\"pickup_datetime_hour\": \"2024-08-30T13:00:00\", \"pickup_location_id\": 27.0, \"num_pickup\": 0.0}, {\"pickup_datetime_hour\": \"2024-08-30T13:00:00\", \"pickup_location_id\": 43.0, \"num_pickup\": 131.0}, {\"pickup_datetime_hour\": \"2024-08-30T14:00:00\", \"pickup_location_id\": 27.0, \"num_pickup\": 0.0}, {\"pickup_datetime_hour\": \"2024-08-30T14:00:00\", \"pickup_location_id\": 43.0, \"num_pickup\": 156.0}, {\"pickup_datetime_hour\": \"2024-08-30T15:00:00\", \"pickup_location_id\": 27.0, \"num_pickup\": 0.0}, {\"pickup_datetime_hour\": \"2024-08-30T15:00:00\", \"pickup_location_id\": 43.0, \"num_pickup\": 167.0}, {\"pickup_datetime_hour\": \"2024-08-30T16:00:00\", \"pickup_location_id\": 27.0, \"num_pickup\": 0.0}, {\"pickup_datetime_hour\": \"2024-08-30T16:00:00\", \"pickup_location_id\": 43.0, \"num_pickup\": 142.0}, {\"pickup_datetime_hour\": \"2024-08-30T17:00:00\", \"pickup_location_id\": 27.0, \"num_pickup\": 0.0}, {\"pickup_datetime_hour\": \"2024-08-30T17:00:00\", \"pickup_location_id\": 43.0, \"num_pickup\": 158.0}, {\"pickup_datetime_hour\": \"2024-08-30T18:00:00\", \"pickup_location_id\": 27.0, \"num_pickup\": 0.0}, {\"pickup_datetime_hour\": \"2024-08-30T18:00:00\", \"pickup_location_id\": 43.0, \"num_pickup\": 115.0}, {\"pickup_datetime_hour\": \"2024-08-30T19:00:00\", \"pickup_location_id\": 27.0, \"num_pickup\": 0.0}, {\"pickup_datetime_hour\": \"2024-08-30T19:00:00\", \"pickup_location_id\": 43.0, \"num_pickup\": 94.0}, {\"pickup_datetime_hour\": \"2024-08-30T20:00:00\", \"pickup_location_id\": 27.0, \"num_pickup\": 2.0}, {\"pickup_datetime_hour\": \"2024-08-30T20:00:00\", \"pickup_location_id\": 43.0, \"num_pickup\": 127.0}, {\"pickup_datetime_hour\": \"2024-08-30T21:00:00\", \"pickup_location_id\": 27.0, \"num_pickup\": 0.0}, {\"pickup_datetime_hour\": \"2024-08-30T21:00:00\", \"pickup_location_id\": 43.0, \"num_pickup\": 62.0}, {\"pickup_datetime_hour\": \"2024-08-30T22:00:00\", \"pickup_location_id\": 27.0, \"num_pickup\": 0.0}, {\"pickup_datetime_hour\": \"2024-08-30T22:00:00\", \"pickup_location_id\": 43.0, \"num_pickup\": 26.0}, {\"pickup_datetime_hour\": \"2024-08-30T23:00:00\", \"pickup_location_id\": 27.0, \"num_pickup\": 0.0}, {\"pickup_datetime_hour\": \"2024-08-30T23:00:00\", \"pickup_location_id\": 43.0, \"num_pickup\": 19.0}, {\"pickup_datetime_hour\": \"2024-08-31T00:00:00\", \"pickup_location_id\": 27.0, \"num_pickup\": 0.0}, {\"pickup_datetime_hour\": \"2024-08-31T00:00:00\", \"pickup_location_id\": 43.0, \"num_pickup\": 10.0}, {\"pickup_datetime_hour\": \"2024-08-31T01:00:00\", \"pickup_location_id\": 27.0, \"num_pickup\": 0.0}, {\"pickup_datetime_hour\": \"2024-08-31T01:00:00\", \"pickup_location_id\": 43.0, \"num_pickup\": 6.0}, {\"pickup_datetime_hour\": \"2024-08-31T02:00:00\", \"pickup_location_id\": 27.0, \"num_pickup\": 0.0}, {\"pickup_datetime_hour\": \"2024-08-31T02:00:00\", \"pickup_location_id\": 43.0, \"num_pickup\": 1.0}, {\"pickup_datetime_hour\": \"2024-08-31T03:00:00\", \"pickup_location_id\": 27.0, \"num_pickup\": 0.0}, {\"pickup_datetime_hour\": \"2024-08-31T03:00:00\", \"pickup_location_id\": 43.0, \"num_pickup\": 1.0}, {\"pickup_datetime_hour\": \"2024-08-31T04:00:00\", \"pickup_location_id\": 27.0, \"num_pickup\": 0.0}, {\"pickup_datetime_hour\": \"2024-08-31T04:00:00\", \"pickup_location_id\": 43.0, \"num_pickup\": 2.0}, {\"pickup_datetime_hour\": \"2024-08-31T05:00:00\", \"pickup_location_id\": 27.0, \"num_pickup\": 0.0}, {\"pickup_datetime_hour\": \"2024-08-31T05:00:00\", \"pickup_location_id\": 43.0, \"num_pickup\": 3.0}, {\"pickup_datetime_hour\": \"2024-08-31T06:00:00\", \"pickup_location_id\": 27.0, \"num_pickup\": 0.0}, {\"pickup_datetime_hour\": \"2024-08-31T06:00:00\", \"pickup_location_id\": 43.0, \"num_pickup\": 3.0}, {\"pickup_datetime_hour\": \"2024-08-31T07:00:00\", \"pickup_location_id\": 27.0, \"num_pickup\": 0.0}, {\"pickup_datetime_hour\": \"2024-08-31T07:00:00\", \"pickup_location_id\": 43.0, \"num_pickup\": 13.0}, {\"pickup_datetime_hour\": \"2024-08-31T08:00:00\", \"pickup_location_id\": 27.0, \"num_pickup\": 0.0}, {\"pickup_datetime_hour\": \"2024-08-31T08:00:00\", \"pickup_location_id\": 43.0, \"num_pickup\": 19.0}, {\"pickup_datetime_hour\": \"2024-08-31T09:00:00\", \"pickup_location_id\": 27.0, \"num_pickup\": 0.0}, {\"pickup_datetime_hour\": \"2024-08-31T09:00:00\", \"pickup_location_id\": 43.0, \"num_pickup\": 32.0}, {\"pickup_datetime_hour\": \"2024-08-31T10:00:00\", \"pickup_location_id\": 27.0, \"num_pickup\": 0.0}, {\"pickup_datetime_hour\": \"2024-08-31T10:00:00\", \"pickup_location_id\": 43.0, \"num_pickup\": 46.0}, {\"pickup_datetime_hour\": \"2024-08-31T11:00:00\", \"pickup_location_id\": 27.0, \"num_pickup\": 0.0}, {\"pickup_datetime_hour\": \"2024-08-31T11:00:00\", \"pickup_location_id\": 43.0, \"num_pickup\": 82.0}, {\"pickup_datetime_hour\": \"2024-08-31T12:00:00\", \"pickup_location_id\": 27.0, \"num_pickup\": 0.0}, {\"pickup_datetime_hour\": \"2024-08-31T12:00:00\", \"pickup_location_id\": 43.0, \"num_pickup\": 135.0}, {\"pickup_datetime_hour\": \"2024-08-31T13:00:00\", \"pickup_location_id\": 27.0, \"num_pickup\": 0.0}, {\"pickup_datetime_hour\": \"2024-08-31T13:00:00\", \"pickup_location_id\": 43.0, \"num_pickup\": 132.0}, {\"pickup_datetime_hour\": \"2024-08-31T14:00:00\", \"pickup_location_id\": 27.0, \"num_pickup\": 1.0}, {\"pickup_datetime_hour\": \"2024-08-31T14:00:00\", \"pickup_location_id\": 43.0, \"num_pickup\": 161.0}, {\"pickup_datetime_hour\": \"2024-08-31T15:00:00\", \"pickup_location_id\": 27.0, \"num_pickup\": 0.0}, {\"pickup_datetime_hour\": \"2024-08-31T15:00:00\", \"pickup_location_id\": 43.0, \"num_pickup\": 189.0}, {\"pickup_datetime_hour\": \"2024-08-31T16:00:00\", \"pickup_location_id\": 27.0, \"num_pickup\": 0.0}, {\"pickup_datetime_hour\": \"2024-08-31T16:00:00\", \"pickup_location_id\": 43.0, \"num_pickup\": 187.0}, {\"pickup_datetime_hour\": \"2024-08-31T17:00:00\", \"pickup_location_id\": 27.0, \"num_pickup\": 3.0}, {\"pickup_datetime_hour\": \"2024-08-31T17:00:00\", \"pickup_location_id\": 43.0, \"num_pickup\": 200.0}, {\"pickup_datetime_hour\": \"2024-08-31T18:00:00\", \"pickup_location_id\": 27.0, \"num_pickup\": 1.0}, {\"pickup_datetime_hour\": \"2024-08-31T18:00:00\", \"pickup_location_id\": 43.0, \"num_pickup\": 161.0}, {\"pickup_datetime_hour\": \"2024-08-31T19:00:00\", \"pickup_location_id\": 27.0, \"num_pickup\": 0.0}, {\"pickup_datetime_hour\": \"2024-08-31T19:00:00\", \"pickup_location_id\": 43.0, \"num_pickup\": 114.0}, {\"pickup_datetime_hour\": \"2024-08-31T20:00:00\", \"pickup_location_id\": 27.0, \"num_pickup\": 0.0}, {\"pickup_datetime_hour\": \"2024-08-31T20:00:00\", \"pickup_location_id\": 43.0, \"num_pickup\": 114.0}, {\"pickup_datetime_hour\": \"2024-08-31T21:00:00\", \"pickup_location_id\": 27.0, \"num_pickup\": 0.0}, {\"pickup_datetime_hour\": \"2024-08-31T21:00:00\", \"pickup_location_id\": 43.0, \"num_pickup\": 59.0}, {\"pickup_datetime_hour\": \"2024-08-31T22:00:00\", \"pickup_location_id\": 27.0, \"num_pickup\": 0.0}, {\"pickup_datetime_hour\": \"2024-08-31T22:00:00\", \"pickup_location_id\": 43.0, \"num_pickup\": 30.0}, {\"pickup_datetime_hour\": \"2024-08-31T23:00:00\", \"pickup_location_id\": 27.0, \"num_pickup\": 0.0}, {\"pickup_datetime_hour\": \"2024-08-31T23:00:00\", \"pickup_location_id\": 43.0, \"num_pickup\": 21.0}, {\"pickup_datetime_hour\": \"2024-09-01T00:00:00\", \"pickup_location_id\": 27.0, \"num_pickup\": 0.0}, {\"pickup_datetime_hour\": \"2024-09-01T00:00:00\", \"pickup_location_id\": 43.0, \"num_pickup\": 19.0}, {\"pickup_datetime_hour\": \"2024-09-01T01:00:00\", \"pickup_location_id\": 27.0, \"num_pickup\": 0.0}, {\"pickup_datetime_hour\": \"2024-09-01T01:00:00\", \"pickup_location_id\": 43.0, \"num_pickup\": 4.0}, {\"pickup_datetime_hour\": \"2024-09-01T02:00:00\", \"pickup_location_id\": 27.0, \"num_pickup\": 0.0}, {\"pickup_datetime_hour\": \"2024-09-01T02:00:00\", \"pickup_location_id\": 43.0, \"num_pickup\": 7.0}, {\"pickup_datetime_hour\": \"2024-09-01T03:00:00\", \"pickup_location_id\": 27.0, \"num_pickup\": 0.0}, {\"pickup_datetime_hour\": \"2024-09-01T03:00:00\", \"pickup_location_id\": 43.0, \"num_pickup\": 5.0}, {\"pickup_datetime_hour\": \"2024-09-01T04:00:00\", \"pickup_location_id\": 27.0, \"num_pickup\": 0.0}, {\"pickup_datetime_hour\": \"2024-09-01T04:00:00\", \"pickup_location_id\": 43.0, \"num_pickup\": 2.0}, {\"pickup_datetime_hour\": \"2024-09-01T05:00:00\", \"pickup_location_id\": 27.0, \"num_pickup\": 0.0}, {\"pickup_datetime_hour\": \"2024-09-01T05:00:00\", \"pickup_location_id\": 43.0, \"num_pickup\": 2.0}, {\"pickup_datetime_hour\": \"2024-09-01T06:00:00\", \"pickup_location_id\": 27.0, \"num_pickup\": 0.0}, {\"pickup_datetime_hour\": \"2024-09-01T06:00:00\", \"pickup_location_id\": 43.0, \"num_pickup\": 5.0}, {\"pickup_datetime_hour\": \"2024-09-01T07:00:00\", \"pickup_location_id\": 27.0, \"num_pickup\": 0.0}, {\"pickup_datetime_hour\": \"2024-09-01T07:00:00\", \"pickup_location_id\": 43.0, \"num_pickup\": 12.0}, {\"pickup_datetime_hour\": \"2024-09-01T08:00:00\", \"pickup_location_id\": 27.0, \"num_pickup\": 0.0}, {\"pickup_datetime_hour\": \"2024-09-01T08:00:00\", \"pickup_location_id\": 43.0, \"num_pickup\": 22.0}, {\"pickup_datetime_hour\": \"2024-09-01T09:00:00\", \"pickup_location_id\": 27.0, \"num_pickup\": 0.0}, {\"pickup_datetime_hour\": \"2024-09-01T09:00:00\", \"pickup_location_id\": 43.0, \"num_pickup\": 38.0}, {\"pickup_datetime_hour\": \"2024-09-01T10:00:00\", \"pickup_location_id\": 27.0, \"num_pickup\": 0.0}, {\"pickup_datetime_hour\": \"2024-09-01T10:00:00\", \"pickup_location_id\": 43.0, \"num_pickup\": 45.0}, {\"pickup_datetime_hour\": \"2024-09-01T11:00:00\", \"pickup_location_id\": 27.0, \"num_pickup\": 0.0}, {\"pickup_datetime_hour\": \"2024-09-01T11:00:00\", \"pickup_location_id\": 43.0, \"num_pickup\": 103.0}, {\"pickup_datetime_hour\": \"2024-09-01T12:00:00\", \"pickup_location_id\": 27.0, \"num_pickup\": 0.0}, {\"pickup_datetime_hour\": \"2024-09-01T12:00:00\", \"pickup_location_id\": 43.0, \"num_pickup\": 145.0}, {\"pickup_datetime_hour\": \"2024-09-01T13:00:00\", \"pickup_location_id\": 27.0, \"num_pickup\": 0.0}, {\"pickup_datetime_hour\": \"2024-09-01T13:00:00\", \"pickup_location_id\": 43.0, \"num_pickup\": 146.0}, {\"pickup_datetime_hour\": \"2024-09-01T14:00:00\", \"pickup_location_id\": 27.0, \"num_pickup\": 0.0}, {\"pickup_datetime_hour\": \"2024-09-01T14:00:00\", \"pickup_location_id\": 43.0, \"num_pickup\": 198.0}, {\"pickup_datetime_hour\": \"2024-09-01T15:00:00\", \"pickup_location_id\": 27.0, \"num_pickup\": 0.0}, {\"pickup_datetime_hour\": \"2024-09-01T15:00:00\", \"pickup_location_id\": 43.0, \"num_pickup\": 180.0}, {\"pickup_datetime_hour\": \"2024-09-01T16:00:00\", \"pickup_location_id\": 27.0, \"num_pickup\": 0.0}, {\"pickup_datetime_hour\": \"2024-09-01T16:00:00\", \"pickup_location_id\": 43.0, \"num_pickup\": 174.0}, {\"pickup_datetime_hour\": \"2024-09-01T17:00:00\", \"pickup_location_id\": 27.0, \"num_pickup\": 0.0}, {\"pickup_datetime_hour\": \"2024-09-01T17:00:00\", \"pickup_location_id\": 43.0, \"num_pickup\": 171.0}, {\"pickup_datetime_hour\": \"2024-09-01T18:00:00\", \"pickup_location_id\": 27.0, \"num_pickup\": 0.0}, {\"pickup_datetime_hour\": \"2024-09-01T18:00:00\", \"pickup_location_id\": 43.0, \"num_pickup\": 101.0}, {\"pickup_datetime_hour\": \"2024-09-01T19:00:00\", \"pickup_location_id\": 27.0, \"num_pickup\": 0.0}, {\"pickup_datetime_hour\": \"2024-09-01T19:00:00\", \"pickup_location_id\": 43.0, \"num_pickup\": 82.0}, {\"pickup_datetime_hour\": \"2024-09-01T20:00:00\", \"pickup_location_id\": 27.0, \"num_pickup\": 0.0}, {\"pickup_datetime_hour\": \"2024-09-01T20:00:00\", \"pickup_location_id\": 43.0, \"num_pickup\": 57.0}, {\"pickup_datetime_hour\": \"2024-09-01T21:00:00\", \"pickup_location_id\": 27.0, \"num_pickup\": 0.0}, {\"pickup_datetime_hour\": \"2024-09-01T21:00:00\", \"pickup_location_id\": 43.0, \"num_pickup\": 38.0}, {\"pickup_datetime_hour\": \"2024-09-01T22:00:00\", \"pickup_location_id\": 27.0, \"num_pickup\": 0.0}, {\"pickup_datetime_hour\": \"2024-09-01T22:00:00\", \"pickup_location_id\": 43.0, \"num_pickup\": 13.0}, {\"pickup_datetime_hour\": \"2024-09-01T23:00:00\", \"pickup_location_id\": 27.0, \"num_pickup\": 0.0}, {\"pickup_datetime_hour\": \"2024-09-01T23:00:00\", \"pickup_location_id\": 43.0, \"num_pickup\": 15.0}, {\"pickup_datetime_hour\": \"2024-09-02T00:00:00\", \"pickup_location_id\": 27.0, \"num_pickup\": 1.0}, {\"pickup_datetime_hour\": \"2024-09-02T00:00:00\", \"pickup_location_id\": 43.0, \"num_pickup\": 13.0}, {\"pickup_datetime_hour\": \"2024-09-02T01:00:00\", \"pickup_location_id\": 27.0, \"num_pickup\": 0.0}, {\"pickup_datetime_hour\": \"2024-09-02T01:00:00\", \"pickup_location_id\": 43.0, \"num_pickup\": 0.0}, {\"pickup_datetime_hour\": \"2024-09-02T02:00:00\", \"pickup_location_id\": 27.0, \"num_pickup\": 0.0}, {\"pickup_datetime_hour\": \"2024-09-02T02:00:00\", \"pickup_location_id\": 43.0, \"num_pickup\": 1.0}, {\"pickup_datetime_hour\": \"2024-09-02T03:00:00\", \"pickup_location_id\": 27.0, \"num_pickup\": 0.0}, {\"pickup_datetime_hour\": \"2024-09-02T03:00:00\", \"pickup_location_id\": 43.0, \"num_pickup\": 0.0}, {\"pickup_datetime_hour\": \"2024-09-02T04:00:00\", \"pickup_location_id\": 27.0, \"num_pickup\": 0.0}, {\"pickup_datetime_hour\": \"2024-09-02T04:00:00\", \"pickup_location_id\": 43.0, \"num_pickup\": 0.0}, {\"pickup_datetime_hour\": \"2024-09-02T05:00:00\", \"pickup_location_id\": 27.0, \"num_pickup\": 0.0}, {\"pickup_datetime_hour\": \"2024-09-02T05:00:00\", \"pickup_location_id\": 43.0, \"num_pickup\": 5.0}, {\"pickup_datetime_hour\": \"2024-09-02T06:00:00\", \"pickup_location_id\": 27.0, \"num_pickup\": 0.0}, {\"pickup_datetime_hour\": \"2024-09-02T06:00:00\", \"pickup_location_id\": 43.0, \"num_pickup\": 6.0}, {\"pickup_datetime_hour\": \"2024-09-02T07:00:00\", \"pickup_location_id\": 27.0, \"num_pickup\": 0.0}, {\"pickup_datetime_hour\": \"2024-09-02T07:00:00\", \"pickup_location_id\": 43.0, \"num_pickup\": 11.0}, {\"pickup_datetime_hour\": \"2024-09-02T08:00:00\", \"pickup_location_id\": 27.0, \"num_pickup\": 0.0}, {\"pickup_datetime_hour\": \"2024-09-02T08:00:00\", \"pickup_location_id\": 43.0, \"num_pickup\": 17.0}, {\"pickup_datetime_hour\": \"2024-09-02T09:00:00\", \"pickup_location_id\": 27.0, \"num_pickup\": 0.0}, {\"pickup_datetime_hour\": \"2024-09-02T09:00:00\", \"pickup_location_id\": 43.0, \"num_pickup\": 29.0}, {\"pickup_datetime_hour\": \"2024-09-02T10:00:00\", \"pickup_location_id\": 27.0, \"num_pickup\": 0.0}, {\"pickup_datetime_hour\": \"2024-09-02T10:00:00\", \"pickup_location_id\": 43.0, \"num_pickup\": 48.0}, {\"pickup_datetime_hour\": \"2024-09-02T11:00:00\", \"pickup_location_id\": 27.0, \"num_pickup\": 0.0}, {\"pickup_datetime_hour\": \"2024-09-02T11:00:00\", \"pickup_location_id\": 43.0, \"num_pickup\": 84.0}, {\"pickup_datetime_hour\": \"2024-09-02T12:00:00\", \"pickup_location_id\": 27.0, \"num_pickup\": 0.0}, {\"pickup_datetime_hour\": \"2024-09-02T12:00:00\", \"pickup_location_id\": 43.0, \"num_pickup\": 125.0}, {\"pickup_datetime_hour\": \"2024-09-02T13:00:00\", \"pickup_location_id\": 27.0, \"num_pickup\": 0.0}, {\"pickup_datetime_hour\": \"2024-09-02T13:00:00\", \"pickup_location_id\": 43.0, \"num_pickup\": 113.0}, {\"pickup_datetime_hour\": \"2024-09-02T14:00:00\", \"pickup_location_id\": 27.0, \"num_pickup\": 0.0}, {\"pickup_datetime_hour\": \"2024-09-02T14:00:00\", \"pickup_location_id\": 43.0, \"num_pickup\": 156.0}, {\"pickup_datetime_hour\": \"2024-09-02T15:00:00\", \"pickup_location_id\": 27.0, \"num_pickup\": 0.0}, {\"pickup_datetime_hour\": \"2024-09-02T15:00:00\", \"pickup_location_id\": 43.0, \"num_pickup\": 134.0}, {\"pickup_datetime_hour\": \"2024-09-02T16:00:00\", \"pickup_location_id\": 27.0, \"num_pickup\": 0.0}, {\"pickup_datetime_hour\": \"2024-09-02T16:00:00\", \"pickup_location_id\": 43.0, \"num_pickup\": 170.0}, {\"pickup_datetime_hour\": \"2024-09-02T17:00:00\", \"pickup_location_id\": 27.0, \"num_pickup\": 1.0}, {\"pickup_datetime_hour\": \"2024-09-02T17:00:00\", \"pickup_location_id\": 43.0, \"num_pickup\": 140.0}, {\"pickup_datetime_hour\": \"2024-09-02T18:00:00\", \"pickup_location_id\": 27.0, \"num_pickup\": 0.0}, {\"pickup_datetime_hour\": \"2024-09-02T18:00:00\", \"pickup_location_id\": 43.0, \"num_pickup\": 88.0}, {\"pickup_datetime_hour\": \"2024-09-02T19:00:00\", \"pickup_location_id\": 27.0, \"num_pickup\": 0.0}, {\"pickup_datetime_hour\": \"2024-09-02T19:00:00\", \"pickup_location_id\": 43.0, \"num_pickup\": 58.0}, {\"pickup_datetime_hour\": \"2024-09-02T20:00:00\", \"pickup_location_id\": 27.0, \"num_pickup\": 1.0}, {\"pickup_datetime_hour\": \"2024-09-02T20:00:00\", \"pickup_location_id\": 43.0, \"num_pickup\": 29.0}, {\"pickup_datetime_hour\": \"2024-09-02T21:00:00\", \"pickup_location_id\": 27.0, \"num_pickup\": 0.0}, {\"pickup_datetime_hour\": \"2024-09-02T21:00:00\", \"pickup_location_id\": 43.0, \"num_pickup\": 14.0}, {\"pickup_datetime_hour\": \"2024-09-02T22:00:00\", \"pickup_location_id\": 27.0, \"num_pickup\": 0.0}, {\"pickup_datetime_hour\": \"2024-09-02T22:00:00\", \"pickup_location_id\": 43.0, \"num_pickup\": 20.0}, {\"pickup_datetime_hour\": \"2024-09-02T23:00:00\", \"pickup_location_id\": 27.0, \"num_pickup\": 0.0}, {\"pickup_datetime_hour\": \"2024-09-02T23:00:00\", \"pickup_location_id\": 43.0, \"num_pickup\": 17.0}, {\"pickup_datetime_hour\": \"2024-09-03T00:00:00\", \"pickup_location_id\": 27.0, \"num_pickup\": 0.0}, {\"pickup_datetime_hour\": \"2024-09-03T00:00:00\", \"pickup_location_id\": 43.0, \"num_pickup\": 3.0}, {\"pickup_datetime_hour\": \"2024-09-03T01:00:00\", \"pickup_location_id\": 27.0, \"num_pickup\": 0.0}, {\"pickup_datetime_hour\": \"2024-09-03T01:00:00\", \"pickup_location_id\": 43.0, \"num_pickup\": 0.0}, {\"pickup_datetime_hour\": \"2024-09-03T02:00:00\", \"pickup_location_id\": 27.0, \"num_pickup\": 0.0}, {\"pickup_datetime_hour\": \"2024-09-03T02:00:00\", \"pickup_location_id\": 43.0, \"num_pickup\": 0.0}, {\"pickup_datetime_hour\": \"2024-09-03T03:00:00\", \"pickup_location_id\": 27.0, \"num_pickup\": 0.0}, {\"pickup_datetime_hour\": \"2024-09-03T03:00:00\", \"pickup_location_id\": 43.0, \"num_pickup\": 1.0}, {\"pickup_datetime_hour\": \"2024-09-03T04:00:00\", \"pickup_location_id\": 27.0, \"num_pickup\": 0.0}, {\"pickup_datetime_hour\": \"2024-09-03T04:00:00\", \"pickup_location_id\": 43.0, \"num_pickup\": 0.0}, {\"pickup_datetime_hour\": \"2024-09-03T05:00:00\", \"pickup_location_id\": 27.0, \"num_pickup\": 0.0}, {\"pickup_datetime_hour\": \"2024-09-03T05:00:00\", \"pickup_location_id\": 43.0, \"num_pickup\": 4.0}, {\"pickup_datetime_hour\": \"2024-09-03T06:00:00\", \"pickup_location_id\": 27.0, \"num_pickup\": 0.0}, {\"pickup_datetime_hour\": \"2024-09-03T06:00:00\", \"pickup_location_id\": 43.0, \"num_pickup\": 8.0}, {\"pickup_datetime_hour\": \"2024-09-03T07:00:00\", \"pickup_location_id\": 27.0, \"num_pickup\": 0.0}, {\"pickup_datetime_hour\": \"2024-09-03T07:00:00\", \"pickup_location_id\": 43.0, \"num_pickup\": 32.0}, {\"pickup_datetime_hour\": \"2024-09-03T08:00:00\", \"pickup_location_id\": 27.0, \"num_pickup\": 0.0}, {\"pickup_datetime_hour\": \"2024-09-03T08:00:00\", \"pickup_location_id\": 43.0, \"num_pickup\": 61.0}, {\"pickup_datetime_hour\": \"2024-09-03T09:00:00\", \"pickup_location_id\": 27.0, \"num_pickup\": 0.0}, {\"pickup_datetime_hour\": \"2024-09-03T09:00:00\", \"pickup_location_id\": 43.0, \"num_pickup\": 68.0}, {\"pickup_datetime_hour\": \"2024-09-03T10:00:00\", \"pickup_location_id\": 27.0, \"num_pickup\": 0.0}, {\"pickup_datetime_hour\": \"2024-09-03T10:00:00\", \"pickup_location_id\": 43.0, \"num_pickup\": 76.0}, {\"pickup_datetime_hour\": \"2024-09-03T11:00:00\", \"pickup_location_id\": 27.0, \"num_pickup\": 0.0}, {\"pickup_datetime_hour\": \"2024-09-03T11:00:00\", \"pickup_location_id\": 43.0, \"num_pickup\": 107.0}, {\"pickup_datetime_hour\": \"2024-09-03T12:00:00\", \"pickup_location_id\": 27.0, \"num_pickup\": 0.0}, {\"pickup_datetime_hour\": \"2024-09-03T12:00:00\", \"pickup_location_id\": 43.0, \"num_pickup\": 140.0}, {\"pickup_datetime_hour\": \"2024-09-03T13:00:00\", \"pickup_location_id\": 27.0, \"num_pickup\": 0.0}, {\"pickup_datetime_hour\": \"2024-09-03T13:00:00\", \"pickup_location_id\": 43.0, \"num_pickup\": 128.0}, {\"pickup_datetime_hour\": \"2024-09-03T14:00:00\", \"pickup_location_id\": 27.0, \"num_pickup\": 0.0}, {\"pickup_datetime_hour\": \"2024-09-03T14:00:00\", \"pickup_location_id\": 43.0, \"num_pickup\": 153.0}, {\"pickup_datetime_hour\": \"2024-09-03T15:00:00\", \"pickup_location_id\": 27.0, \"num_pickup\": 0.0}, {\"pickup_datetime_hour\": \"2024-09-03T15:00:00\", \"pickup_location_id\": 43.0, \"num_pickup\": 149.0}, {\"pickup_datetime_hour\": \"2024-09-03T16:00:00\", \"pickup_location_id\": 27.0, \"num_pickup\": 0.0}, {\"pickup_datetime_hour\": \"2024-09-03T16:00:00\", \"pickup_location_id\": 43.0, \"num_pickup\": 158.0}, {\"pickup_datetime_hour\": \"2024-09-03T17:00:00\", \"pickup_location_id\": 27.0, \"num_pickup\": 0.0}, {\"pickup_datetime_hour\": \"2024-09-03T17:00:00\", \"pickup_location_id\": 43.0, \"num_pickup\": 126.0}, {\"pickup_datetime_hour\": \"2024-09-03T18:00:00\", \"pickup_location_id\": 27.0, \"num_pickup\": 0.0}, {\"pickup_datetime_hour\": \"2024-09-03T18:00:00\", \"pickup_location_id\": 43.0, \"num_pickup\": 90.0}, {\"pickup_datetime_hour\": \"2024-09-03T19:00:00\", \"pickup_location_id\": 27.0, \"num_pickup\": 0.0}, {\"pickup_datetime_hour\": \"2024-09-03T19:00:00\", \"pickup_location_id\": 43.0, \"num_pickup\": 84.0}, {\"pickup_datetime_hour\": \"2024-09-03T20:00:00\", \"pickup_location_id\": 27.0, \"num_pickup\": 0.0}, {\"pickup_datetime_hour\": \"2024-09-03T20:00:00\", \"pickup_location_id\": 43.0, \"num_pickup\": 70.0}, {\"pickup_datetime_hour\": \"2024-09-03T21:00:00\", \"pickup_location_id\": 27.0, \"num_pickup\": 0.0}, {\"pickup_datetime_hour\": \"2024-09-03T21:00:00\", \"pickup_location_id\": 43.0, \"num_pickup\": 51.0}, {\"pickup_datetime_hour\": \"2024-09-03T22:00:00\", \"pickup_location_id\": 27.0, \"num_pickup\": 0.0}, {\"pickup_datetime_hour\": \"2024-09-03T22:00:00\", \"pickup_location_id\": 43.0, \"num_pickup\": 25.0}, {\"pickup_datetime_hour\": \"2024-09-03T23:00:00\", \"pickup_location_id\": 27.0, \"num_pickup\": 0.0}, {\"pickup_datetime_hour\": \"2024-09-03T23:00:00\", \"pickup_location_id\": 43.0, \"num_pickup\": 23.0}, {\"pickup_datetime_hour\": \"2024-09-04T00:00:00\", \"pickup_location_id\": 27.0, \"num_pickup\": 0.0}, {\"pickup_datetime_hour\": \"2024-09-04T00:00:00\", \"pickup_location_id\": 43.0, \"num_pickup\": 5.0}, {\"pickup_datetime_hour\": \"2024-09-04T01:00:00\", \"pickup_location_id\": 27.0, \"num_pickup\": 0.0}, {\"pickup_datetime_hour\": \"2024-09-04T01:00:00\", \"pickup_location_id\": 43.0, \"num_pickup\": 3.0}, {\"pickup_datetime_hour\": \"2024-09-04T02:00:00\", \"pickup_location_id\": 27.0, \"num_pickup\": 0.0}, {\"pickup_datetime_hour\": \"2024-09-04T02:00:00\", \"pickup_location_id\": 43.0, \"num_pickup\": 1.0}, {\"pickup_datetime_hour\": \"2024-09-04T03:00:00\", \"pickup_location_id\": 27.0, \"num_pickup\": 0.0}, {\"pickup_datetime_hour\": \"2024-09-04T03:00:00\", \"pickup_location_id\": 43.0, \"num_pickup\": 0.0}, {\"pickup_datetime_hour\": \"2024-09-04T04:00:00\", \"pickup_location_id\": 27.0, \"num_pickup\": 0.0}, {\"pickup_datetime_hour\": \"2024-09-04T04:00:00\", \"pickup_location_id\": 43.0, \"num_pickup\": 4.0}, {\"pickup_datetime_hour\": \"2024-09-04T05:00:00\", \"pickup_location_id\": 27.0, \"num_pickup\": 0.0}, {\"pickup_datetime_hour\": \"2024-09-04T05:00:00\", \"pickup_location_id\": 43.0, \"num_pickup\": 3.0}, {\"pickup_datetime_hour\": \"2024-09-04T06:00:00\", \"pickup_location_id\": 27.0, \"num_pickup\": 0.0}, {\"pickup_datetime_hour\": \"2024-09-04T06:00:00\", \"pickup_location_id\": 43.0, \"num_pickup\": 10.0}, {\"pickup_datetime_hour\": \"2024-09-04T07:00:00\", \"pickup_location_id\": 27.0, \"num_pickup\": 0.0}, {\"pickup_datetime_hour\": \"2024-09-04T07:00:00\", \"pickup_location_id\": 43.0, \"num_pickup\": 42.0}, {\"pickup_datetime_hour\": \"2024-09-04T08:00:00\", \"pickup_location_id\": 27.0, \"num_pickup\": 0.0}, {\"pickup_datetime_hour\": \"2024-09-04T08:00:00\", \"pickup_location_id\": 43.0, \"num_pickup\": 60.0}, {\"pickup_datetime_hour\": \"2024-09-04T09:00:00\", \"pickup_location_id\": 27.0, \"num_pickup\": 0.0}, {\"pickup_datetime_hour\": \"2024-09-04T09:00:00\", \"pickup_location_id\": 43.0, \"num_pickup\": 50.0}, {\"pickup_datetime_hour\": \"2024-09-04T10:00:00\", \"pickup_location_id\": 27.0, \"num_pickup\": 0.0}, {\"pickup_datetime_hour\": \"2024-09-04T10:00:00\", \"pickup_location_id\": 43.0, \"num_pickup\": 85.0}, {\"pickup_datetime_hour\": \"2024-09-04T11:00:00\", \"pickup_location_id\": 27.0, \"num_pickup\": 0.0}, {\"pickup_datetime_hour\": \"2024-09-04T11:00:00\", \"pickup_location_id\": 43.0, \"num_pickup\": 98.0}, {\"pickup_datetime_hour\": \"2024-09-04T12:00:00\", \"pickup_location_id\": 27.0, \"num_pickup\": 0.0}, {\"pickup_datetime_hour\": \"2024-09-04T12:00:00\", \"pickup_location_id\": 43.0, \"num_pickup\": 142.0}, {\"pickup_datetime_hour\": \"2024-09-04T13:00:00\", \"pickup_location_id\": 27.0, \"num_pickup\": 0.0}, {\"pickup_datetime_hour\": \"2024-09-04T13:00:00\", \"pickup_location_id\": 43.0, \"num_pickup\": 117.0}, {\"pickup_datetime_hour\": \"2024-09-04T14:00:00\", \"pickup_location_id\": 27.0, \"num_pickup\": 0.0}, {\"pickup_datetime_hour\": \"2024-09-04T14:00:00\", \"pickup_location_id\": 43.0, \"num_pickup\": 138.0}, {\"pickup_datetime_hour\": \"2024-09-04T15:00:00\", \"pickup_location_id\": 27.0, \"num_pickup\": 0.0}, {\"pickup_datetime_hour\": \"2024-09-04T15:00:00\", \"pickup_location_id\": 43.0, \"num_pickup\": 128.0}, {\"pickup_datetime_hour\": \"2024-09-04T16:00:00\", \"pickup_location_id\": 27.0, \"num_pickup\": 0.0}, {\"pickup_datetime_hour\": \"2024-09-04T16:00:00\", \"pickup_location_id\": 43.0, \"num_pickup\": 109.0}, {\"pickup_datetime_hour\": \"2024-09-04T17:00:00\", \"pickup_location_id\": 27.0, \"num_pickup\": 1.0}, {\"pickup_datetime_hour\": \"2024-09-04T17:00:00\", \"pickup_location_id\": 43.0, \"num_pickup\": 138.0}, {\"pickup_datetime_hour\": \"2024-09-04T18:00:00\", \"pickup_location_id\": 27.0, \"num_pickup\": 0.0}, {\"pickup_datetime_hour\": \"2024-09-04T18:00:00\", \"pickup_location_id\": 43.0, \"num_pickup\": 125.0}, {\"pickup_datetime_hour\": \"2024-09-04T19:00:00\", \"pickup_location_id\": 27.0, \"num_pickup\": 0.0}, {\"pickup_datetime_hour\": \"2024-09-04T19:00:00\", \"pickup_location_id\": 43.0, \"num_pickup\": 105.0}, {\"pickup_datetime_hour\": \"2024-09-04T20:00:00\", \"pickup_location_id\": 27.0, \"num_pickup\": 0.0}, {\"pickup_datetime_hour\": \"2024-09-04T20:00:00\", \"pickup_location_id\": 43.0, \"num_pickup\": 129.0}, {\"pickup_datetime_hour\": \"2024-09-04T21:00:00\", \"pickup_location_id\": 27.0, \"num_pickup\": 0.0}, {\"pickup_datetime_hour\": \"2024-09-04T21:00:00\", \"pickup_location_id\": 43.0, \"num_pickup\": 52.0}, {\"pickup_datetime_hour\": \"2024-09-04T22:00:00\", \"pickup_location_id\": 27.0, \"num_pickup\": 0.0}, {\"pickup_datetime_hour\": \"2024-09-04T22:00:00\", \"pickup_location_id\": 43.0, \"num_pickup\": 47.0}, {\"pickup_datetime_hour\": \"2024-09-04T23:00:00\", \"pickup_location_id\": 27.0, \"num_pickup\": 0.0}, {\"pickup_datetime_hour\": \"2024-09-04T23:00:00\", \"pickup_location_id\": 43.0, \"num_pickup\": 26.0}, {\"pickup_datetime_hour\": \"2024-09-05T00:00:00\", \"pickup_location_id\": 27.0, \"num_pickup\": 0.0}, {\"pickup_datetime_hour\": \"2024-09-05T00:00:00\", \"pickup_location_id\": 43.0, \"num_pickup\": 9.0}, {\"pickup_datetime_hour\": \"2024-09-05T01:00:00\", \"pickup_location_id\": 27.0, \"num_pickup\": 0.0}, {\"pickup_datetime_hour\": \"2024-09-05T01:00:00\", \"pickup_location_id\": 43.0, \"num_pickup\": 1.0}, {\"pickup_datetime_hour\": \"2024-09-05T02:00:00\", \"pickup_location_id\": 27.0, \"num_pickup\": 0.0}, {\"pickup_datetime_hour\": \"2024-09-05T02:00:00\", \"pickup_location_id\": 43.0, \"num_pickup\": 0.0}, {\"pickup_datetime_hour\": \"2024-09-05T03:00:00\", \"pickup_location_id\": 27.0, \"num_pickup\": 0.0}, {\"pickup_datetime_hour\": \"2024-09-05T03:00:00\", \"pickup_location_id\": 43.0, \"num_pickup\": 2.0}, {\"pickup_datetime_hour\": \"2024-09-05T04:00:00\", \"pickup_location_id\": 27.0, \"num_pickup\": 0.0}, {\"pickup_datetime_hour\": \"2024-09-05T04:00:00\", \"pickup_location_id\": 43.0, \"num_pickup\": 2.0}, {\"pickup_datetime_hour\": \"2024-09-05T05:00:00\", \"pickup_location_id\": 27.0, \"num_pickup\": 0.0}, {\"pickup_datetime_hour\": \"2024-09-05T05:00:00\", \"pickup_location_id\": 43.0, \"num_pickup\": 0.0}, {\"pickup_datetime_hour\": \"2024-09-05T06:00:00\", \"pickup_location_id\": 27.0, \"num_pickup\": 0.0}, {\"pickup_datetime_hour\": \"2024-09-05T06:00:00\", \"pickup_location_id\": 43.0, \"num_pickup\": 12.0}, {\"pickup_datetime_hour\": \"2024-09-05T07:00:00\", \"pickup_location_id\": 27.0, \"num_pickup\": 0.0}, {\"pickup_datetime_hour\": \"2024-09-05T07:00:00\", \"pickup_location_id\": 43.0, \"num_pickup\": 59.0}, {\"pickup_datetime_hour\": \"2024-09-05T08:00:00\", \"pickup_location_id\": 27.0, \"num_pickup\": 0.0}, {\"pickup_datetime_hour\": \"2024-09-05T08:00:00\", \"pickup_location_id\": 43.0, \"num_pickup\": 69.0}, {\"pickup_datetime_hour\": \"2024-09-05T09:00:00\", \"pickup_location_id\": 27.0, \"num_pickup\": 0.0}, {\"pickup_datetime_hour\": \"2024-09-05T09:00:00\", \"pickup_location_id\": 43.0, \"num_pickup\": 91.0}, {\"pickup_datetime_hour\": \"2024-09-05T10:00:00\", \"pickup_location_id\": 27.0, \"num_pickup\": 0.0}, {\"pickup_datetime_hour\": \"2024-09-05T10:00:00\", \"pickup_location_id\": 43.0, \"num_pickup\": 94.0}, {\"pickup_datetime_hour\": \"2024-09-05T11:00:00\", \"pickup_location_id\": 27.0, \"num_pickup\": 0.0}, {\"pickup_datetime_hour\": \"2024-09-05T11:00:00\", \"pickup_location_id\": 43.0, \"num_pickup\": 131.0}, {\"pickup_datetime_hour\": \"2024-09-05T12:00:00\", \"pickup_location_id\": 27.0, \"num_pickup\": 0.0}, {\"pickup_datetime_hour\": \"2024-09-05T12:00:00\", \"pickup_location_id\": 43.0, \"num_pickup\": 152.0}, {\"pickup_datetime_hour\": \"2024-09-05T13:00:00\", \"pickup_location_id\": 27.0, \"num_pickup\": 0.0}, {\"pickup_datetime_hour\": \"2024-09-05T13:00:00\", \"pickup_location_id\": 43.0, \"num_pickup\": 159.0}, {\"pickup_datetime_hour\": \"2024-09-05T14:00:00\", \"pickup_location_id\": 27.0, \"num_pickup\": 0.0}, {\"pickup_datetime_hour\": \"2024-09-05T14:00:00\", \"pickup_location_id\": 43.0, \"num_pickup\": 166.0}, {\"pickup_datetime_hour\": \"2024-09-05T15:00:00\", \"pickup_location_id\": 27.0, \"num_pickup\": 0.0}, {\"pickup_datetime_hour\": \"2024-09-05T15:00:00\", \"pickup_location_id\": 43.0, \"num_pickup\": 210.0}, {\"pickup_datetime_hour\": \"2024-09-05T16:00:00\", \"pickup_location_id\": 27.0, \"num_pickup\": 0.0}, {\"pickup_datetime_hour\": \"2024-09-05T16:00:00\", \"pickup_location_id\": 43.0, \"num_pickup\": 202.0}, {\"pickup_datetime_hour\": \"2024-09-05T17:00:00\", \"pickup_location_id\": 27.0, \"num_pickup\": 0.0}, {\"pickup_datetime_hour\": \"2024-09-05T17:00:00\", \"pickup_location_id\": 43.0, \"num_pickup\": 203.0}, {\"pickup_datetime_hour\": \"2024-09-05T18:00:00\", \"pickup_location_id\": 27.0, \"num_pickup\": 0.0}, {\"pickup_datetime_hour\": \"2024-09-05T18:00:00\", \"pickup_location_id\": 43.0, \"num_pickup\": 96.0}, {\"pickup_datetime_hour\": \"2024-09-05T19:00:00\", \"pickup_location_id\": 27.0, \"num_pickup\": 0.0}, {\"pickup_datetime_hour\": \"2024-09-05T19:00:00\", \"pickup_location_id\": 43.0, \"num_pickup\": 101.0}, {\"pickup_datetime_hour\": \"2024-09-05T20:00:00\", \"pickup_location_id\": 27.0, \"num_pickup\": 0.0}, {\"pickup_datetime_hour\": \"2024-09-05T20:00:00\", \"pickup_location_id\": 43.0, \"num_pickup\": 94.0}, {\"pickup_datetime_hour\": \"2024-09-05T21:00:00\", \"pickup_location_id\": 27.0, \"num_pickup\": 0.0}, {\"pickup_datetime_hour\": \"2024-09-05T21:00:00\", \"pickup_location_id\": 43.0, \"num_pickup\": 67.0}, {\"pickup_datetime_hour\": \"2024-09-05T22:00:00\", \"pickup_location_id\": 27.0, \"num_pickup\": 0.0}, {\"pickup_datetime_hour\": \"2024-09-05T22:00:00\", \"pickup_location_id\": 43.0, \"num_pickup\": 70.0}, {\"pickup_datetime_hour\": \"2024-09-05T23:00:00\", \"pickup_location_id\": 27.0, \"num_pickup\": 0.0}, {\"pickup_datetime_hour\": \"2024-09-05T23:00:00\", \"pickup_location_id\": 43.0, \"num_pickup\": 54.0}, {\"pickup_datetime_hour\": \"2024-09-06T00:00:00\", \"pickup_location_id\": 27.0, \"num_pickup\": 0.0}, {\"pickup_datetime_hour\": \"2024-09-06T00:00:00\", \"pickup_location_id\": 43.0, \"num_pickup\": 16.0}, {\"pickup_datetime_hour\": \"2024-09-06T01:00:00\", \"pickup_location_id\": 27.0, \"num_pickup\": 0.0}, {\"pickup_datetime_hour\": \"2024-09-06T01:00:00\", \"pickup_location_id\": 43.0, \"num_pickup\": 3.0}, {\"pickup_datetime_hour\": \"2024-09-06T02:00:00\", \"pickup_location_id\": 27.0, \"num_pickup\": 0.0}, {\"pickup_datetime_hour\": \"2024-09-06T02:00:00\", \"pickup_location_id\": 43.0, \"num_pickup\": 2.0}, {\"pickup_datetime_hour\": \"2024-09-06T03:00:00\", \"pickup_location_id\": 27.0, \"num_pickup\": 0.0}, {\"pickup_datetime_hour\": \"2024-09-06T03:00:00\", \"pickup_location_id\": 43.0, \"num_pickup\": 1.0}, {\"pickup_datetime_hour\": \"2024-09-06T04:00:00\", \"pickup_location_id\": 27.0, \"num_pickup\": 0.0}, {\"pickup_datetime_hour\": \"2024-09-06T04:00:00\", \"pickup_location_id\": 43.0, \"num_pickup\": 1.0}, {\"pickup_datetime_hour\": \"2024-09-06T05:00:00\", \"pickup_location_id\": 27.0, \"num_pickup\": 0.0}, {\"pickup_datetime_hour\": \"2024-09-06T05:00:00\", \"pickup_location_id\": 43.0, \"num_pickup\": 4.0}, {\"pickup_datetime_hour\": \"2024-09-06T06:00:00\", \"pickup_location_id\": 27.0, \"num_pickup\": 0.0}, {\"pickup_datetime_hour\": \"2024-09-06T06:00:00\", \"pickup_location_id\": 43.0, \"num_pickup\": 9.0}, {\"pickup_datetime_hour\": \"2024-09-06T07:00:00\", \"pickup_location_id\": 27.0, \"num_pickup\": 0.0}, {\"pickup_datetime_hour\": \"2024-09-06T07:00:00\", \"pickup_location_id\": 43.0, \"num_pickup\": 51.0}, {\"pickup_datetime_hour\": \"2024-09-06T08:00:00\", \"pickup_location_id\": 27.0, \"num_pickup\": 0.0}, {\"pickup_datetime_hour\": \"2024-09-06T08:00:00\", \"pickup_location_id\": 43.0, \"num_pickup\": 73.0}, {\"pickup_datetime_hour\": \"2024-09-06T09:00:00\", \"pickup_location_id\": 27.0, \"num_pickup\": 0.0}, {\"pickup_datetime_hour\": \"2024-09-06T09:00:00\", \"pickup_location_id\": 43.0, \"num_pickup\": 84.0}, {\"pickup_datetime_hour\": \"2024-09-06T10:00:00\", \"pickup_location_id\": 27.0, \"num_pickup\": 0.0}, {\"pickup_datetime_hour\": \"2024-09-06T10:00:00\", \"pickup_location_id\": 43.0, \"num_pickup\": 90.0}, {\"pickup_datetime_hour\": \"2024-09-06T11:00:00\", \"pickup_location_id\": 27.0, \"num_pickup\": 0.0}, {\"pickup_datetime_hour\": \"2024-09-06T11:00:00\", \"pickup_location_id\": 43.0, \"num_pickup\": 114.0}, {\"pickup_datetime_hour\": \"2024-09-06T12:00:00\", \"pickup_location_id\": 27.0, \"num_pickup\": 0.0}, {\"pickup_datetime_hour\": \"2024-09-06T12:00:00\", \"pickup_location_id\": 43.0, \"num_pickup\": 144.0}, {\"pickup_datetime_hour\": \"2024-09-06T13:00:00\", \"pickup_location_id\": 27.0, \"num_pickup\": 0.0}, {\"pickup_datetime_hour\": \"2024-09-06T13:00:00\", \"pickup_location_id\": 43.0, \"num_pickup\": 132.0}, {\"pickup_datetime_hour\": \"2024-09-06T14:00:00\", \"pickup_location_id\": 27.0, \"num_pickup\": 0.0}, {\"pickup_datetime_hour\": \"2024-09-06T14:00:00\", \"pickup_location_id\": 43.0, \"num_pickup\": 159.0}, {\"pickup_datetime_hour\": \"2024-09-06T15:00:00\", \"pickup_location_id\": 27.0, \"num_pickup\": 0.0}, {\"pickup_datetime_hour\": \"2024-09-06T15:00:00\", \"pickup_location_id\": 43.0, \"num_pickup\": 168.0}, {\"pickup_datetime_hour\": \"2024-09-06T16:00:00\", \"pickup_location_id\": 27.0, \"num_pickup\": 0.0}, {\"pickup_datetime_hour\": \"2024-09-06T16:00:00\", \"pickup_location_id\": 43.0, \"num_pickup\": 177.0}, {\"pickup_datetime_hour\": \"2024-09-06T17:00:00\", \"pickup_location_id\": 27.0, \"num_pickup\": 0.0}, {\"pickup_datetime_hour\": \"2024-09-06T17:00:00\", \"pickup_location_id\": 43.0, \"num_pickup\": 203.0}, {\"pickup_datetime_hour\": \"2024-09-06T18:00:00\", \"pickup_location_id\": 27.0, \"num_pickup\": 0.0}, {\"pickup_datetime_hour\": \"2024-09-06T18:00:00\", \"pickup_location_id\": 43.0, \"num_pickup\": 135.0}, {\"pickup_datetime_hour\": \"2024-09-06T19:00:00\", \"pickup_location_id\": 27.0, \"num_pickup\": 0.0}, {\"pickup_datetime_hour\": \"2024-09-06T19:00:00\", \"pickup_location_id\": 43.0, \"num_pickup\": 134.0}, {\"pickup_datetime_hour\": \"2024-09-06T20:00:00\", \"pickup_location_id\": 27.0, \"num_pickup\": 0.0}, {\"pickup_datetime_hour\": \"2024-09-06T20:00:00\", \"pickup_location_id\": 43.0, \"num_pickup\": 107.0}, {\"pickup_datetime_hour\": \"2024-09-06T21:00:00\", \"pickup_location_id\": 27.0, \"num_pickup\": 0.0}, {\"pickup_datetime_hour\": \"2024-09-06T21:00:00\", \"pickup_location_id\": 43.0, \"num_pickup\": 97.0}, {\"pickup_datetime_hour\": \"2024-09-06T22:00:00\", \"pickup_location_id\": 27.0, \"num_pickup\": 0.0}, {\"pickup_datetime_hour\": \"2024-09-06T22:00:00\", \"pickup_location_id\": 43.0, \"num_pickup\": 59.0}, {\"pickup_datetime_hour\": \"2024-09-06T23:00:00\", \"pickup_location_id\": 27.0, \"num_pickup\": 0.0}, {\"pickup_datetime_hour\": \"2024-09-06T23:00:00\", \"pickup_location_id\": 43.0, \"num_pickup\": 38.0}, {\"pickup_datetime_hour\": \"2024-09-07T00:00:00\", \"pickup_location_id\": 27.0, \"num_pickup\": 0.0}, {\"pickup_datetime_hour\": \"2024-09-07T00:00:00\", \"pickup_location_id\": 43.0, \"num_pickup\": 18.0}, {\"pickup_datetime_hour\": \"2024-09-07T01:00:00\", \"pickup_location_id\": 27.0, \"num_pickup\": 0.0}, {\"pickup_datetime_hour\": \"2024-09-07T01:00:00\", \"pickup_location_id\": 43.0, \"num_pickup\": 5.0}, {\"pickup_datetime_hour\": \"2024-09-07T02:00:00\", \"pickup_location_id\": 27.0, \"num_pickup\": 0.0}, {\"pickup_datetime_hour\": \"2024-09-07T02:00:00\", \"pickup_location_id\": 43.0, \"num_pickup\": 5.0}, {\"pickup_datetime_hour\": \"2024-09-07T03:00:00\", \"pickup_location_id\": 27.0, \"num_pickup\": 0.0}, {\"pickup_datetime_hour\": \"2024-09-07T03:00:00\", \"pickup_location_id\": 43.0, \"num_pickup\": 2.0}, {\"pickup_datetime_hour\": \"2024-09-07T04:00:00\", \"pickup_location_id\": 27.0, \"num_pickup\": 0.0}, {\"pickup_datetime_hour\": \"2024-09-07T04:00:00\", \"pickup_location_id\": 43.0, \"num_pickup\": 5.0}, {\"pickup_datetime_hour\": \"2024-09-07T05:00:00\", \"pickup_location_id\": 27.0, \"num_pickup\": 0.0}, {\"pickup_datetime_hour\": \"2024-09-07T05:00:00\", \"pickup_location_id\": 43.0, \"num_pickup\": 2.0}, {\"pickup_datetime_hour\": \"2024-09-07T06:00:00\", \"pickup_location_id\": 27.0, \"num_pickup\": 0.0}, {\"pickup_datetime_hour\": \"2024-09-07T06:00:00\", \"pickup_location_id\": 43.0, \"num_pickup\": 7.0}, {\"pickup_datetime_hour\": \"2024-09-07T07:00:00\", \"pickup_location_id\": 27.0, \"num_pickup\": 0.0}, {\"pickup_datetime_hour\": \"2024-09-07T07:00:00\", \"pickup_location_id\": 43.0, \"num_pickup\": 13.0}, {\"pickup_datetime_hour\": \"2024-09-07T08:00:00\", \"pickup_location_id\": 27.0, \"num_pickup\": 0.0}, {\"pickup_datetime_hour\": \"2024-09-07T08:00:00\", \"pickup_location_id\": 43.0, \"num_pickup\": 28.0}, {\"pickup_datetime_hour\": \"2024-09-07T09:00:00\", \"pickup_location_id\": 27.0, \"num_pickup\": 0.0}, {\"pickup_datetime_hour\": \"2024-09-07T09:00:00\", \"pickup_location_id\": 43.0, \"num_pickup\": 37.0}, {\"pickup_datetime_hour\": \"2024-09-07T10:00:00\", \"pickup_location_id\": 27.0, \"num_pickup\": 0.0}, {\"pickup_datetime_hour\": \"2024-09-07T10:00:00\", \"pickup_location_id\": 43.0, \"num_pickup\": 49.0}, {\"pickup_datetime_hour\": \"2024-09-07T11:00:00\", \"pickup_location_id\": 27.0, \"num_pickup\": 0.0}, {\"pickup_datetime_hour\": \"2024-09-07T11:00:00\", \"pickup_location_id\": 43.0, \"num_pickup\": 53.0}, {\"pickup_datetime_hour\": \"2024-09-07T12:00:00\", \"pickup_location_id\": 27.0, \"num_pickup\": 0.0}, {\"pickup_datetime_hour\": \"2024-09-07T12:00:00\", \"pickup_location_id\": 43.0, \"num_pickup\": 84.0}, {\"pickup_datetime_hour\": \"2024-09-07T13:00:00\", \"pickup_location_id\": 27.0, \"num_pickup\": 0.0}, {\"pickup_datetime_hour\": \"2024-09-07T13:00:00\", \"pickup_location_id\": 43.0, \"num_pickup\": 112.0}, {\"pickup_datetime_hour\": \"2024-09-07T14:00:00\", \"pickup_location_id\": 27.0, \"num_pickup\": 0.0}, {\"pickup_datetime_hour\": \"2024-09-07T14:00:00\", \"pickup_location_id\": 43.0, \"num_pickup\": 108.0}, {\"pickup_datetime_hour\": \"2024-09-07T15:00:00\", \"pickup_location_id\": 27.0, \"num_pickup\": 0.0}, {\"pickup_datetime_hour\": \"2024-09-07T15:00:00\", \"pickup_location_id\": 43.0, \"num_pickup\": 160.0}, {\"pickup_datetime_hour\": \"2024-09-07T16:00:00\", \"pickup_location_id\": 27.0, \"num_pickup\": 0.0}, {\"pickup_datetime_hour\": \"2024-09-07T16:00:00\", \"pickup_location_id\": 43.0, \"num_pickup\": 179.0}, {\"pickup_datetime_hour\": \"2024-09-07T17:00:00\", \"pickup_location_id\": 27.0, \"num_pickup\": 0.0}, {\"pickup_datetime_hour\": \"2024-09-07T17:00:00\", \"pickup_location_id\": 43.0, \"num_pickup\": 173.0}, {\"pickup_datetime_hour\": \"2024-09-07T18:00:00\", \"pickup_location_id\": 27.0, \"num_pickup\": 0.0}, {\"pickup_datetime_hour\": \"2024-09-07T18:00:00\", \"pickup_location_id\": 43.0, \"num_pickup\": 123.0}, {\"pickup_datetime_hour\": \"2024-09-07T19:00:00\", \"pickup_location_id\": 27.0, \"num_pickup\": 0.0}, {\"pickup_datetime_hour\": \"2024-09-07T19:00:00\", \"pickup_location_id\": 43.0, \"num_pickup\": 117.0}, {\"pickup_datetime_hour\": \"2024-09-07T20:00:00\", \"pickup_location_id\": 27.0, \"num_pickup\": 0.0}, {\"pickup_datetime_hour\": \"2024-09-07T20:00:00\", \"pickup_location_id\": 43.0, \"num_pickup\": 118.0}, {\"pickup_datetime_hour\": \"2024-09-07T21:00:00\", \"pickup_location_id\": 27.0, \"num_pickup\": 0.0}, {\"pickup_datetime_hour\": \"2024-09-07T21:00:00\", \"pickup_location_id\": 43.0, \"num_pickup\": 90.0}, {\"pickup_datetime_hour\": \"2024-09-07T22:00:00\", \"pickup_location_id\": 27.0, \"num_pickup\": 0.0}, {\"pickup_datetime_hour\": \"2024-09-07T22:00:00\", \"pickup_location_id\": 43.0, \"num_pickup\": 63.0}, {\"pickup_datetime_hour\": \"2024-09-07T23:00:00\", \"pickup_location_id\": 27.0, \"num_pickup\": 0.0}, {\"pickup_datetime_hour\": \"2024-09-07T23:00:00\", \"pickup_location_id\": 43.0, \"num_pickup\": 41.0}, {\"pickup_datetime_hour\": \"2024-09-08T00:00:00\", \"pickup_location_id\": 27.0, \"num_pickup\": 0.0}, {\"pickup_datetime_hour\": \"2024-09-08T00:00:00\", \"pickup_location_id\": 43.0, \"num_pickup\": 16.0}, {\"pickup_datetime_hour\": \"2024-09-08T01:00:00\", \"pickup_location_id\": 27.0, \"num_pickup\": 0.0}, {\"pickup_datetime_hour\": \"2024-09-08T01:00:00\", \"pickup_location_id\": 43.0, \"num_pickup\": 5.0}, {\"pickup_datetime_hour\": \"2024-09-08T02:00:00\", \"pickup_location_id\": 27.0, \"num_pickup\": 0.0}, {\"pickup_datetime_hour\": \"2024-09-08T02:00:00\", \"pickup_location_id\": 43.0, \"num_pickup\": 3.0}, {\"pickup_datetime_hour\": \"2024-09-08T03:00:00\", \"pickup_location_id\": 27.0, \"num_pickup\": 0.0}, {\"pickup_datetime_hour\": \"2024-09-08T03:00:00\", \"pickup_location_id\": 43.0, \"num_pickup\": 1.0}, {\"pickup_datetime_hour\": \"2024-09-08T04:00:00\", \"pickup_location_id\": 27.0, \"num_pickup\": 0.0}, {\"pickup_datetime_hour\": \"2024-09-08T04:00:00\", \"pickup_location_id\": 43.0, \"num_pickup\": 0.0}, {\"pickup_datetime_hour\": \"2024-09-08T05:00:00\", \"pickup_location_id\": 27.0, \"num_pickup\": 0.0}, {\"pickup_datetime_hour\": \"2024-09-08T05:00:00\", \"pickup_location_id\": 43.0, \"num_pickup\": 4.0}, {\"pickup_datetime_hour\": \"2024-09-08T06:00:00\", \"pickup_location_id\": 27.0, \"num_pickup\": 0.0}, {\"pickup_datetime_hour\": \"2024-09-08T06:00:00\", \"pickup_location_id\": 43.0, \"num_pickup\": 4.0}, {\"pickup_datetime_hour\": \"2024-09-08T07:00:00\", \"pickup_location_id\": 27.0, \"num_pickup\": 0.0}, {\"pickup_datetime_hour\": \"2024-09-08T07:00:00\", \"pickup_location_id\": 43.0, \"num_pickup\": 10.0}, {\"pickup_datetime_hour\": \"2024-09-08T08:00:00\", \"pickup_location_id\": 27.0, \"num_pickup\": 0.0}, {\"pickup_datetime_hour\": \"2024-09-08T08:00:00\", \"pickup_location_id\": 43.0, \"num_pickup\": 24.0}, {\"pickup_datetime_hour\": \"2024-09-08T09:00:00\", \"pickup_location_id\": 27.0, \"num_pickup\": 0.0}, {\"pickup_datetime_hour\": \"2024-09-08T09:00:00\", \"pickup_location_id\": 43.0, \"num_pickup\": 29.0}, {\"pickup_datetime_hour\": \"2024-09-08T10:00:00\", \"pickup_location_id\": 27.0, \"num_pickup\": 0.0}, {\"pickup_datetime_hour\": \"2024-09-08T10:00:00\", \"pickup_location_id\": 43.0, \"num_pickup\": 48.0}, {\"pickup_datetime_hour\": \"2024-09-08T11:00:00\", \"pickup_location_id\": 27.0, \"num_pickup\": 0.0}, {\"pickup_datetime_hour\": \"2024-09-08T11:00:00\", \"pickup_location_id\": 43.0, \"num_pickup\": 54.0}, {\"pickup_datetime_hour\": \"2024-09-08T12:00:00\", \"pickup_location_id\": 27.0, \"num_pickup\": 0.0}, {\"pickup_datetime_hour\": \"2024-09-08T12:00:00\", \"pickup_location_id\": 43.0, \"num_pickup\": 60.0}, {\"pickup_datetime_hour\": \"2024-09-08T13:00:00\", \"pickup_location_id\": 27.0, \"num_pickup\": 0.0}, {\"pickup_datetime_hour\": \"2024-09-08T13:00:00\", \"pickup_location_id\": 43.0, \"num_pickup\": 108.0}, {\"pickup_datetime_hour\": \"2024-09-08T14:00:00\", \"pickup_location_id\": 27.0, \"num_pickup\": 0.0}, {\"pickup_datetime_hour\": \"2024-09-08T14:00:00\", \"pickup_location_id\": 43.0, \"num_pickup\": 149.0}, {\"pickup_datetime_hour\": \"2024-09-08T15:00:00\", \"pickup_location_id\": 27.0, \"num_pickup\": 0.0}, {\"pickup_datetime_hour\": \"2024-09-08T15:00:00\", \"pickup_location_id\": 43.0, \"num_pickup\": 126.0}, {\"pickup_datetime_hour\": \"2024-09-08T16:00:00\", \"pickup_location_id\": 27.0, \"num_pickup\": 0.0}, {\"pickup_datetime_hour\": \"2024-09-08T16:00:00\", \"pickup_location_id\": 43.0, \"num_pickup\": 146.0}, {\"pickup_datetime_hour\": \"2024-09-08T17:00:00\", \"pickup_location_id\": 27.0, \"num_pickup\": 0.0}, {\"pickup_datetime_hour\": \"2024-09-08T17:00:00\", \"pickup_location_id\": 43.0, \"num_pickup\": 150.0}, {\"pickup_datetime_hour\": \"2024-09-08T18:00:00\", \"pickup_location_id\": 27.0, \"num_pickup\": 0.0}, {\"pickup_datetime_hour\": \"2024-09-08T18:00:00\", \"pickup_location_id\": 43.0, \"num_pickup\": 85.0}, {\"pickup_datetime_hour\": \"2024-09-08T19:00:00\", \"pickup_location_id\": 27.0, \"num_pickup\": 0.0}, {\"pickup_datetime_hour\": \"2024-09-08T19:00:00\", \"pickup_location_id\": 43.0, \"num_pickup\": 69.0}, {\"pickup_datetime_hour\": \"2024-09-08T20:00:00\", \"pickup_location_id\": 27.0, \"num_pickup\": 0.0}, {\"pickup_datetime_hour\": \"2024-09-08T20:00:00\", \"pickup_location_id\": 43.0, \"num_pickup\": 41.0}, {\"pickup_datetime_hour\": \"2024-09-08T21:00:00\", \"pickup_location_id\": 27.0, \"num_pickup\": 0.0}, {\"pickup_datetime_hour\": \"2024-09-08T21:00:00\", \"pickup_location_id\": 43.0, \"num_pickup\": 31.0}, {\"pickup_datetime_hour\": \"2024-09-08T22:00:00\", \"pickup_location_id\": 27.0, \"num_pickup\": 0.0}, {\"pickup_datetime_hour\": \"2024-09-08T22:00:00\", \"pickup_location_id\": 43.0, \"num_pickup\": 22.0}, {\"pickup_datetime_hour\": \"2024-09-08T23:00:00\", \"pickup_location_id\": 27.0, \"num_pickup\": 0.0}, {\"pickup_datetime_hour\": \"2024-09-08T23:00:00\", \"pickup_location_id\": 43.0, \"num_pickup\": 11.0}, {\"pickup_datetime_hour\": \"2024-09-09T00:00:00\", \"pickup_location_id\": 27.0, \"num_pickup\": 0.0}, {\"pickup_datetime_hour\": \"2024-09-09T00:00:00\", \"pickup_location_id\": 43.0, \"num_pickup\": 4.0}, {\"pickup_datetime_hour\": \"2024-09-09T01:00:00\", \"pickup_location_id\": 27.0, \"num_pickup\": 0.0}, {\"pickup_datetime_hour\": \"2024-09-09T01:00:00\", \"pickup_location_id\": 43.0, \"num_pickup\": 1.0}, {\"pickup_datetime_hour\": \"2024-09-09T02:00:00\", \"pickup_location_id\": 27.0, \"num_pickup\": 0.0}, {\"pickup_datetime_hour\": \"2024-09-09T02:00:00\", \"pickup_location_id\": 43.0, \"num_pickup\": 0.0}, {\"pickup_datetime_hour\": \"2024-09-09T03:00:00\", \"pickup_location_id\": 27.0, \"num_pickup\": 0.0}, {\"pickup_datetime_hour\": \"2024-09-09T03:00:00\", \"pickup_location_id\": 43.0, \"num_pickup\": 0.0}, {\"pickup_datetime_hour\": \"2024-09-09T04:00:00\", \"pickup_location_id\": 27.0, \"num_pickup\": 0.0}, {\"pickup_datetime_hour\": \"2024-09-09T04:00:00\", \"pickup_location_id\": 43.0, \"num_pickup\": 1.0}, {\"pickup_datetime_hour\": \"2024-09-09T05:00:00\", \"pickup_location_id\": 27.0, \"num_pickup\": 0.0}, {\"pickup_datetime_hour\": \"2024-09-09T05:00:00\", \"pickup_location_id\": 43.0, \"num_pickup\": 4.0}, {\"pickup_datetime_hour\": \"2024-09-09T06:00:00\", \"pickup_location_id\": 27.0, \"num_pickup\": 0.0}, {\"pickup_datetime_hour\": \"2024-09-09T06:00:00\", \"pickup_location_id\": 43.0, \"num_pickup\": 13.0}, {\"pickup_datetime_hour\": \"2024-09-09T07:00:00\", \"pickup_location_id\": 27.0, \"num_pickup\": 0.0}, {\"pickup_datetime_hour\": \"2024-09-09T07:00:00\", \"pickup_location_id\": 43.0, \"num_pickup\": 38.0}, {\"pickup_datetime_hour\": \"2024-09-09T08:00:00\", \"pickup_location_id\": 27.0, \"num_pickup\": 0.0}, {\"pickup_datetime_hour\": \"2024-09-09T08:00:00\", \"pickup_location_id\": 43.0, \"num_pickup\": 70.0}, {\"pickup_datetime_hour\": \"2024-09-09T09:00:00\", \"pickup_location_id\": 27.0, \"num_pickup\": 0.0}, {\"pickup_datetime_hour\": \"2024-09-09T09:00:00\", \"pickup_location_id\": 43.0, \"num_pickup\": 64.0}, {\"pickup_datetime_hour\": \"2024-09-09T10:00:00\", \"pickup_location_id\": 27.0, \"num_pickup\": 0.0}, {\"pickup_datetime_hour\": \"2024-09-09T10:00:00\", \"pickup_location_id\": 43.0, \"num_pickup\": 79.0}, {\"pickup_datetime_hour\": \"2024-09-09T11:00:00\", \"pickup_location_id\": 27.0, \"num_pickup\": 0.0}, {\"pickup_datetime_hour\": \"2024-09-09T11:00:00\", \"pickup_location_id\": 43.0, \"num_pickup\": 119.0}, {\"pickup_datetime_hour\": \"2024-09-09T12:00:00\", \"pickup_location_id\": 27.0, \"num_pickup\": 0.0}, {\"pickup_datetime_hour\": \"2024-09-09T12:00:00\", \"pickup_location_id\": 43.0, \"num_pickup\": 137.0}, {\"pickup_datetime_hour\": \"2024-09-09T13:00:00\", \"pickup_location_id\": 27.0, \"num_pickup\": 0.0}, {\"pickup_datetime_hour\": \"2024-09-09T13:00:00\", \"pickup_location_id\": 43.0, \"num_pickup\": 134.0}, {\"pickup_datetime_hour\": \"2024-09-09T14:00:00\", \"pickup_location_id\": 27.0, \"num_pickup\": 0.0}, {\"pickup_datetime_hour\": \"2024-09-09T14:00:00\", \"pickup_location_id\": 43.0, \"num_pickup\": 131.0}, {\"pickup_datetime_hour\": \"2024-09-09T15:00:00\", \"pickup_location_id\": 27.0, \"num_pickup\": 0.0}, {\"pickup_datetime_hour\": \"2024-09-09T15:00:00\", \"pickup_location_id\": 43.0, \"num_pickup\": 150.0}, {\"pickup_datetime_hour\": \"2024-09-09T16:00:00\", \"pickup_location_id\": 27.0, \"num_pickup\": 0.0}, {\"pickup_datetime_hour\": \"2024-09-09T16:00:00\", \"pickup_location_id\": 43.0, \"num_pickup\": 159.0}, {\"pickup_datetime_hour\": \"2024-09-09T17:00:00\", \"pickup_location_id\": 27.0, \"num_pickup\": 0.0}, {\"pickup_datetime_hour\": \"2024-09-09T17:00:00\", \"pickup_location_id\": 43.0, \"num_pickup\": 156.0}, {\"pickup_datetime_hour\": \"2024-09-09T18:00:00\", \"pickup_location_id\": 27.0, \"num_pickup\": 0.0}, {\"pickup_datetime_hour\": \"2024-09-09T18:00:00\", \"pickup_location_id\": 43.0, \"num_pickup\": 110.0}, {\"pickup_datetime_hour\": \"2024-09-09T19:00:00\", \"pickup_location_id\": 27.0, \"num_pickup\": 0.0}, {\"pickup_datetime_hour\": \"2024-09-09T19:00:00\", \"pickup_location_id\": 43.0, \"num_pickup\": 137.0}, {\"pickup_datetime_hour\": \"2024-09-09T20:00:00\", \"pickup_location_id\": 27.0, \"num_pickup\": 0.0}, {\"pickup_datetime_hour\": \"2024-09-09T20:00:00\", \"pickup_location_id\": 43.0, \"num_pickup\": 126.0}, {\"pickup_datetime_hour\": \"2024-09-09T21:00:00\", \"pickup_location_id\": 27.0, \"num_pickup\": 0.0}, {\"pickup_datetime_hour\": \"2024-09-09T21:00:00\", \"pickup_location_id\": 43.0, \"num_pickup\": 105.0}, {\"pickup_datetime_hour\": \"2024-09-09T22:00:00\", \"pickup_location_id\": 27.0, \"num_pickup\": 0.0}, {\"pickup_datetime_hour\": \"2024-09-09T22:00:00\", \"pickup_location_id\": 43.0, \"num_pickup\": 68.0}, {\"pickup_datetime_hour\": \"2024-09-09T23:00:00\", \"pickup_location_id\": 27.0, \"num_pickup\": 0.0}, {\"pickup_datetime_hour\": \"2024-09-09T23:00:00\", \"pickup_location_id\": 43.0, \"num_pickup\": 20.0}, {\"pickup_datetime_hour\": \"2024-09-10T00:00:00\", \"pickup_location_id\": 27.0, \"num_pickup\": 0.0}, {\"pickup_datetime_hour\": \"2024-09-10T00:00:00\", \"pickup_location_id\": 43.0, \"num_pickup\": 4.0}, {\"pickup_datetime_hour\": \"2024-09-10T01:00:00\", \"pickup_location_id\": 27.0, \"num_pickup\": 0.0}, {\"pickup_datetime_hour\": \"2024-09-10T01:00:00\", \"pickup_location_id\": 43.0, \"num_pickup\": 0.0}, {\"pickup_datetime_hour\": \"2024-09-10T02:00:00\", \"pickup_location_id\": 27.0, \"num_pickup\": 0.0}, {\"pickup_datetime_hour\": \"2024-09-10T02:00:00\", \"pickup_location_id\": 43.0, \"num_pickup\": 2.0}, {\"pickup_datetime_hour\": \"2024-09-10T03:00:00\", \"pickup_location_id\": 27.0, \"num_pickup\": 0.0}, {\"pickup_datetime_hour\": \"2024-09-10T03:00:00\", \"pickup_location_id\": 43.0, \"num_pickup\": 1.0}, {\"pickup_datetime_hour\": \"2024-09-10T04:00:00\", \"pickup_location_id\": 27.0, \"num_pickup\": 0.0}, {\"pickup_datetime_hour\": \"2024-09-10T04:00:00\", \"pickup_location_id\": 43.0, \"num_pickup\": 1.0}, {\"pickup_datetime_hour\": \"2024-09-10T05:00:00\", \"pickup_location_id\": 27.0, \"num_pickup\": 0.0}, {\"pickup_datetime_hour\": \"2024-09-10T05:00:00\", \"pickup_location_id\": 43.0, \"num_pickup\": 3.0}, {\"pickup_datetime_hour\": \"2024-09-10T06:00:00\", \"pickup_location_id\": 27.0, \"num_pickup\": 0.0}, {\"pickup_datetime_hour\": \"2024-09-10T06:00:00\", \"pickup_location_id\": 43.0, \"num_pickup\": 7.0}, {\"pickup_datetime_hour\": \"2024-09-10T07:00:00\", \"pickup_location_id\": 27.0, \"num_pickup\": 0.0}, {\"pickup_datetime_hour\": \"2024-09-10T07:00:00\", \"pickup_location_id\": 43.0, \"num_pickup\": 58.0}, {\"pickup_datetime_hour\": \"2024-09-10T08:00:00\", \"pickup_location_id\": 27.0, \"num_pickup\": 0.0}, {\"pickup_datetime_hour\": \"2024-09-10T08:00:00\", \"pickup_location_id\": 43.0, \"num_pickup\": 68.0}, {\"pickup_datetime_hour\": \"2024-09-10T09:00:00\", \"pickup_location_id\": 27.0, \"num_pickup\": 0.0}, {\"pickup_datetime_hour\": \"2024-09-10T09:00:00\", \"pickup_location_id\": 43.0, \"num_pickup\": 79.0}, {\"pickup_datetime_hour\": \"2024-09-10T10:00:00\", \"pickup_location_id\": 27.0, \"num_pickup\": 0.0}, {\"pickup_datetime_hour\": \"2024-09-10T10:00:00\", \"pickup_location_id\": 43.0, \"num_pickup\": 101.0}, {\"pickup_datetime_hour\": \"2024-09-10T11:00:00\", \"pickup_location_id\": 27.0, \"num_pickup\": 0.0}, {\"pickup_datetime_hour\": \"2024-09-10T11:00:00\", \"pickup_location_id\": 43.0, \"num_pickup\": 128.0}, {\"pickup_datetime_hour\": \"2024-09-10T12:00:00\", \"pickup_location_id\": 27.0, \"num_pickup\": 0.0}, {\"pickup_datetime_hour\": \"2024-09-10T12:00:00\", \"pickup_location_id\": 43.0, \"num_pickup\": 114.0}, {\"pickup_datetime_hour\": \"2024-09-10T13:00:00\", \"pickup_location_id\": 27.0, \"num_pickup\": 0.0}, {\"pickup_datetime_hour\": \"2024-09-10T13:00:00\", \"pickup_location_id\": 43.0, \"num_pickup\": 131.0}, {\"pickup_datetime_hour\": \"2024-09-10T14:00:00\", \"pickup_location_id\": 27.0, \"num_pickup\": 0.0}, {\"pickup_datetime_hour\": \"2024-09-10T14:00:00\", \"pickup_location_id\": 43.0, \"num_pickup\": 155.0}, {\"pickup_datetime_hour\": \"2024-09-10T15:00:00\", \"pickup_location_id\": 27.0, \"num_pickup\": 0.0}, {\"pickup_datetime_hour\": \"2024-09-10T15:00:00\", \"pickup_location_id\": 43.0, \"num_pickup\": 162.0}, {\"pickup_datetime_hour\": \"2024-09-10T16:00:00\", \"pickup_location_id\": 27.0, \"num_pickup\": 0.0}, {\"pickup_datetime_hour\": \"2024-09-10T16:00:00\", \"pickup_location_id\": 43.0, \"num_pickup\": 155.0}, {\"pickup_datetime_hour\": \"2024-09-10T17:00:00\", \"pickup_location_id\": 27.0, \"num_pickup\": 0.0}, {\"pickup_datetime_hour\": \"2024-09-10T17:00:00\", \"pickup_location_id\": 43.0, \"num_pickup\": 164.0}, {\"pickup_datetime_hour\": \"2024-09-10T18:00:00\", \"pickup_location_id\": 27.0, \"num_pickup\": 0.0}, {\"pickup_datetime_hour\": \"2024-09-10T18:00:00\", \"pickup_location_id\": 43.0, \"num_pickup\": 142.0}, {\"pickup_datetime_hour\": \"2024-09-10T19:00:00\", \"pickup_location_id\": 27.0, \"num_pickup\": 0.0}, {\"pickup_datetime_hour\": \"2024-09-10T19:00:00\", \"pickup_location_id\": 43.0, \"num_pickup\": 132.0}, {\"pickup_datetime_hour\": \"2024-09-10T20:00:00\", \"pickup_location_id\": 27.0, \"num_pickup\": 0.0}, {\"pickup_datetime_hour\": \"2024-09-10T20:00:00\", \"pickup_location_id\": 43.0, \"num_pickup\": 132.0}, {\"pickup_datetime_hour\": \"2024-09-10T21:00:00\", \"pickup_location_id\": 27.0, \"num_pickup\": 0.0}, {\"pickup_datetime_hour\": \"2024-09-10T21:00:00\", \"pickup_location_id\": 43.0, \"num_pickup\": 97.0}, {\"pickup_datetime_hour\": \"2024-09-10T22:00:00\", \"pickup_location_id\": 27.0, \"num_pickup\": 0.0}, {\"pickup_datetime_hour\": \"2024-09-10T22:00:00\", \"pickup_location_id\": 43.0, \"num_pickup\": 62.0}, {\"pickup_datetime_hour\": \"2024-09-10T23:00:00\", \"pickup_location_id\": 27.0, \"num_pickup\": 0.0}, {\"pickup_datetime_hour\": \"2024-09-10T23:00:00\", \"pickup_location_id\": 43.0, \"num_pickup\": 48.0}, {\"pickup_datetime_hour\": \"2024-09-11T00:00:00\", \"pickup_location_id\": 27.0, \"num_pickup\": 0.0}, {\"pickup_datetime_hour\": \"2024-09-11T00:00:00\", \"pickup_location_id\": 43.0, \"num_pickup\": 3.0}, {\"pickup_datetime_hour\": \"2024-09-11T01:00:00\", \"pickup_location_id\": 27.0, \"num_pickup\": 0.0}, {\"pickup_datetime_hour\": \"2024-09-11T01:00:00\", \"pickup_location_id\": 43.0, \"num_pickup\": 3.0}, {\"pickup_datetime_hour\": \"2024-09-11T02:00:00\", \"pickup_location_id\": 27.0, \"num_pickup\": 0.0}, {\"pickup_datetime_hour\": \"2024-09-11T02:00:00\", \"pickup_location_id\": 43.0, \"num_pickup\": 1.0}, {\"pickup_datetime_hour\": \"2024-09-11T03:00:00\", \"pickup_location_id\": 27.0, \"num_pickup\": 0.0}, {\"pickup_datetime_hour\": \"2024-09-11T03:00:00\", \"pickup_location_id\": 43.0, \"num_pickup\": 0.0}, {\"pickup_datetime_hour\": \"2024-09-11T04:00:00\", \"pickup_location_id\": 27.0, \"num_pickup\": 0.0}, {\"pickup_datetime_hour\": \"2024-09-11T04:00:00\", \"pickup_location_id\": 43.0, \"num_pickup\": 1.0}, {\"pickup_datetime_hour\": \"2024-09-11T05:00:00\", \"pickup_location_id\": 27.0, \"num_pickup\": 0.0}, {\"pickup_datetime_hour\": \"2024-09-11T05:00:00\", \"pickup_location_id\": 43.0, \"num_pickup\": 4.0}, {\"pickup_datetime_hour\": \"2024-09-11T06:00:00\", \"pickup_location_id\": 27.0, \"num_pickup\": 0.0}, {\"pickup_datetime_hour\": \"2024-09-11T06:00:00\", \"pickup_location_id\": 43.0, \"num_pickup\": 12.0}, {\"pickup_datetime_hour\": \"2024-09-11T07:00:00\", \"pickup_location_id\": 27.0, \"num_pickup\": 0.0}, {\"pickup_datetime_hour\": \"2024-09-11T07:00:00\", \"pickup_location_id\": 43.0, \"num_pickup\": 39.0}, {\"pickup_datetime_hour\": \"2024-09-11T08:00:00\", \"pickup_location_id\": 27.0, \"num_pickup\": 0.0}, {\"pickup_datetime_hour\": \"2024-09-11T08:00:00\", \"pickup_location_id\": 43.0, \"num_pickup\": 55.0}, {\"pickup_datetime_hour\": \"2024-09-11T09:00:00\", \"pickup_location_id\": 27.0, \"num_pickup\": 0.0}, {\"pickup_datetime_hour\": \"2024-09-11T09:00:00\", \"pickup_location_id\": 43.0, \"num_pickup\": 71.0}, {\"pickup_datetime_hour\": \"2024-09-11T10:00:00\", \"pickup_location_id\": 27.0, \"num_pickup\": 0.0}, {\"pickup_datetime_hour\": \"2024-09-11T10:00:00\", \"pickup_location_id\": 43.0, \"num_pickup\": 89.0}, {\"pickup_datetime_hour\": \"2024-09-11T11:00:00\", \"pickup_location_id\": 27.0, \"num_pickup\": 0.0}, {\"pickup_datetime_hour\": \"2024-09-11T11:00:00\", \"pickup_location_id\": 43.0, \"num_pickup\": 91.0}, {\"pickup_datetime_hour\": \"2024-09-11T12:00:00\", \"pickup_location_id\": 27.0, \"num_pickup\": 0.0}, {\"pickup_datetime_hour\": \"2024-09-11T12:00:00\", \"pickup_location_id\": 43.0, \"num_pickup\": 105.0}, {\"pickup_datetime_hour\": \"2024-09-11T13:00:00\", \"pickup_location_id\": 27.0, \"num_pickup\": 0.0}, {\"pickup_datetime_hour\": \"2024-09-11T13:00:00\", \"pickup_location_id\": 43.0, \"num_pickup\": 116.0}, {\"pickup_datetime_hour\": \"2024-09-11T14:00:00\", \"pickup_location_id\": 27.0, \"num_pickup\": 0.0}, {\"pickup_datetime_hour\": \"2024-09-11T14:00:00\", \"pickup_location_id\": 43.0, \"num_pickup\": 111.0}, {\"pickup_datetime_hour\": \"2024-09-11T15:00:00\", \"pickup_location_id\": 27.0, \"num_pickup\": 0.0}, {\"pickup_datetime_hour\": \"2024-09-11T15:00:00\", \"pickup_location_id\": 43.0, \"num_pickup\": 145.0}, {\"pickup_datetime_hour\": \"2024-09-11T16:00:00\", \"pickup_location_id\": 27.0, \"num_pickup\": 0.0}, {\"pickup_datetime_hour\": \"2024-09-11T16:00:00\", \"pickup_location_id\": 43.0, \"num_pickup\": 132.0}, {\"pickup_datetime_hour\": \"2024-09-11T17:00:00\", \"pickup_location_id\": 27.0, \"num_pickup\": 0.0}, {\"pickup_datetime_hour\": \"2024-09-11T17:00:00\", \"pickup_location_id\": 43.0, \"num_pickup\": 138.0}, {\"pickup_datetime_hour\": \"2024-09-11T18:00:00\", \"pickup_location_id\": 27.0, \"num_pickup\": 0.0}, {\"pickup_datetime_hour\": \"2024-09-11T18:00:00\", \"pickup_location_id\": 43.0, \"num_pickup\": 102.0}, {\"pickup_datetime_hour\": \"2024-09-11T19:00:00\", \"pickup_location_id\": 27.0, \"num_pickup\": 0.0}, {\"pickup_datetime_hour\": \"2024-09-11T19:00:00\", \"pickup_location_id\": 43.0, \"num_pickup\": 96.0}, {\"pickup_datetime_hour\": \"2024-09-11T20:00:00\", \"pickup_location_id\": 27.0, \"num_pickup\": 0.0}, {\"pickup_datetime_hour\": \"2024-09-11T20:00:00\", \"pickup_location_id\": 43.0, \"num_pickup\": 86.0}, {\"pickup_datetime_hour\": \"2024-09-11T21:00:00\", \"pickup_location_id\": 27.0, \"num_pickup\": 0.0}, {\"pickup_datetime_hour\": \"2024-09-11T21:00:00\", \"pickup_location_id\": 43.0, \"num_pickup\": 80.0}, {\"pickup_datetime_hour\": \"2024-09-11T22:00:00\", \"pickup_location_id\": 27.0, \"num_pickup\": 0.0}, {\"pickup_datetime_hour\": \"2024-09-11T22:00:00\", \"pickup_location_id\": 43.0, \"num_pickup\": 92.0}, {\"pickup_datetime_hour\": \"2024-09-11T23:00:00\", \"pickup_location_id\": 27.0, \"num_pickup\": 0.0}, {\"pickup_datetime_hour\": \"2024-09-11T23:00:00\", \"pickup_location_id\": 43.0, \"num_pickup\": 38.0}, {\"pickup_datetime_hour\": \"2024-09-12T00:00:00\", \"pickup_location_id\": 27.0, \"num_pickup\": 0.0}, {\"pickup_datetime_hour\": \"2024-09-12T00:00:00\", \"pickup_location_id\": 43.0, \"num_pickup\": 7.0}, {\"pickup_datetime_hour\": \"2024-09-12T01:00:00\", \"pickup_location_id\": 27.0, \"num_pickup\": 0.0}, {\"pickup_datetime_hour\": \"2024-09-12T01:00:00\", \"pickup_location_id\": 43.0, \"num_pickup\": 1.0}, {\"pickup_datetime_hour\": \"2024-09-12T02:00:00\", \"pickup_location_id\": 27.0, \"num_pickup\": 0.0}, {\"pickup_datetime_hour\": \"2024-09-12T02:00:00\", \"pickup_location_id\": 43.0, \"num_pickup\": 2.0}, {\"pickup_datetime_hour\": \"2024-09-12T03:00:00\", \"pickup_location_id\": 27.0, \"num_pickup\": 0.0}, {\"pickup_datetime_hour\": \"2024-09-12T03:00:00\", \"pickup_location_id\": 43.0, \"num_pickup\": 3.0}, {\"pickup_datetime_hour\": \"2024-09-12T04:00:00\", \"pickup_location_id\": 27.0, \"num_pickup\": 0.0}, {\"pickup_datetime_hour\": \"2024-09-12T04:00:00\", \"pickup_location_id\": 43.0, \"num_pickup\": 0.0}, {\"pickup_datetime_hour\": \"2024-09-12T05:00:00\", \"pickup_location_id\": 27.0, \"num_pickup\": 0.0}, {\"pickup_datetime_hour\": \"2024-09-12T05:00:00\", \"pickup_location_id\": 43.0, \"num_pickup\": 3.0}, {\"pickup_datetime_hour\": \"2024-09-12T06:00:00\", \"pickup_location_id\": 27.0, \"num_pickup\": 0.0}, {\"pickup_datetime_hour\": \"2024-09-12T06:00:00\", \"pickup_location_id\": 43.0, \"num_pickup\": 13.0}, {\"pickup_datetime_hour\": \"2024-09-12T07:00:00\", \"pickup_location_id\": 27.0, \"num_pickup\": 0.0}, {\"pickup_datetime_hour\": \"2024-09-12T07:00:00\", \"pickup_location_id\": 43.0, \"num_pickup\": 55.0}, {\"pickup_datetime_hour\": \"2024-09-12T08:00:00\", \"pickup_location_id\": 27.0, \"num_pickup\": 0.0}, {\"pickup_datetime_hour\": \"2024-09-12T08:00:00\", \"pickup_location_id\": 43.0, \"num_pickup\": 69.0}, {\"pickup_datetime_hour\": \"2024-09-12T09:00:00\", \"pickup_location_id\": 27.0, \"num_pickup\": 0.0}, {\"pickup_datetime_hour\": \"2024-09-12T09:00:00\", \"pickup_location_id\": 43.0, \"num_pickup\": 68.0}, {\"pickup_datetime_hour\": \"2024-09-12T10:00:00\", \"pickup_location_id\": 27.0, \"num_pickup\": 0.0}, {\"pickup_datetime_hour\": \"2024-09-12T10:00:00\", \"pickup_location_id\": 43.0, \"num_pickup\": 98.0}, {\"pickup_datetime_hour\": \"2024-09-12T11:00:00\", \"pickup_location_id\": 27.0, \"num_pickup\": 0.0}, {\"pickup_datetime_hour\": \"2024-09-12T11:00:00\", \"pickup_location_id\": 43.0, \"num_pickup\": 114.0}, {\"pickup_datetime_hour\": \"2024-09-12T12:00:00\", \"pickup_location_id\": 27.0, \"num_pickup\": 0.0}, {\"pickup_datetime_hour\": \"2024-09-12T12:00:00\", \"pickup_location_id\": 43.0, \"num_pickup\": 111.0}, {\"pickup_datetime_hour\": \"2024-09-12T13:00:00\", \"pickup_location_id\": 27.0, \"num_pickup\": 0.0}, {\"pickup_datetime_hour\": \"2024-09-12T13:00:00\", \"pickup_location_id\": 43.0, \"num_pickup\": 164.0}, {\"pickup_datetime_hour\": \"2024-09-12T14:00:00\", \"pickup_location_id\": 27.0, \"num_pickup\": 0.0}, {\"pickup_datetime_hour\": \"2024-09-12T14:00:00\", \"pickup_location_id\": 43.0, \"num_pickup\": 179.0}, {\"pickup_datetime_hour\": \"2024-09-12T15:00:00\", \"pickup_location_id\": 27.0, \"num_pickup\": 0.0}, {\"pickup_datetime_hour\": \"2024-09-12T15:00:00\", \"pickup_location_id\": 43.0, \"num_pickup\": 192.0}, {\"pickup_datetime_hour\": \"2024-09-12T16:00:00\", \"pickup_location_id\": 27.0, \"num_pickup\": 0.0}, {\"pickup_datetime_hour\": \"2024-09-12T16:00:00\", \"pickup_location_id\": 43.0, \"num_pickup\": 163.0}, {\"pickup_datetime_hour\": \"2024-09-12T17:00:00\", \"pickup_location_id\": 27.0, \"num_pickup\": 0.0}, {\"pickup_datetime_hour\": \"2024-09-12T17:00:00\", \"pickup_location_id\": 43.0, \"num_pickup\": 197.0}, {\"pickup_datetime_hour\": \"2024-09-12T18:00:00\", \"pickup_location_id\": 27.0, \"num_pickup\": 0.0}, {\"pickup_datetime_hour\": \"2024-09-12T18:00:00\", \"pickup_location_id\": 43.0, \"num_pickup\": 158.0}, {\"pickup_datetime_hour\": \"2024-09-12T19:00:00\", \"pickup_location_id\": 27.0, \"num_pickup\": 0.0}, {\"pickup_datetime_hour\": \"2024-09-12T19:00:00\", \"pickup_location_id\": 43.0, \"num_pickup\": 132.0}, {\"pickup_datetime_hour\": \"2024-09-12T20:00:00\", \"pickup_location_id\": 27.0, \"num_pickup\": 0.0}, {\"pickup_datetime_hour\": \"2024-09-12T20:00:00\", \"pickup_location_id\": 43.0, \"num_pickup\": 210.0}, {\"pickup_datetime_hour\": \"2024-09-12T21:00:00\", \"pickup_location_id\": 27.0, \"num_pickup\": 0.0}, {\"pickup_datetime_hour\": \"2024-09-12T21:00:00\", \"pickup_location_id\": 43.0, \"num_pickup\": 95.0}, {\"pickup_datetime_hour\": \"2024-09-12T22:00:00\", \"pickup_location_id\": 27.0, \"num_pickup\": 0.0}, {\"pickup_datetime_hour\": \"2024-09-12T22:00:00\", \"pickup_location_id\": 43.0, \"num_pickup\": 139.0}, {\"pickup_datetime_hour\": \"2024-09-12T23:00:00\", \"pickup_location_id\": 27.0, \"num_pickup\": 0.0}, {\"pickup_datetime_hour\": \"2024-09-12T23:00:00\", \"pickup_location_id\": 43.0, \"num_pickup\": 37.0}, {\"pickup_datetime_hour\": \"2024-09-13T00:00:00\", \"pickup_location_id\": 27.0, \"num_pickup\": 0.0}, {\"pickup_datetime_hour\": \"2024-09-13T00:00:00\", \"pickup_location_id\": 43.0, \"num_pickup\": 4.0}, {\"pickup_datetime_hour\": \"2024-09-13T01:00:00\", \"pickup_location_id\": 27.0, \"num_pickup\": 0.0}, {\"pickup_datetime_hour\": \"2024-09-13T01:00:00\", \"pickup_location_id\": 43.0, \"num_pickup\": 2.0}, {\"pickup_datetime_hour\": \"2024-09-13T02:00:00\", \"pickup_location_id\": 27.0, \"num_pickup\": 0.0}, {\"pickup_datetime_hour\": \"2024-09-13T02:00:00\", \"pickup_location_id\": 43.0, \"num_pickup\": 3.0}, {\"pickup_datetime_hour\": \"2024-09-13T03:00:00\", \"pickup_location_id\": 27.0, \"num_pickup\": 0.0}, {\"pickup_datetime_hour\": \"2024-09-13T03:00:00\", \"pickup_location_id\": 43.0, \"num_pickup\": 0.0}, {\"pickup_datetime_hour\": \"2024-09-13T04:00:00\", \"pickup_location_id\": 27.0, \"num_pickup\": 0.0}, {\"pickup_datetime_hour\": \"2024-09-13T04:00:00\", \"pickup_location_id\": 43.0, \"num_pickup\": 3.0}, {\"pickup_datetime_hour\": \"2024-09-13T05:00:00\", \"pickup_location_id\": 27.0, \"num_pickup\": 0.0}, {\"pickup_datetime_hour\": \"2024-09-13T05:00:00\", \"pickup_location_id\": 43.0, \"num_pickup\": 3.0}, {\"pickup_datetime_hour\": \"2024-09-13T06:00:00\", \"pickup_location_id\": 27.0, \"num_pickup\": 0.0}, {\"pickup_datetime_hour\": \"2024-09-13T06:00:00\", \"pickup_location_id\": 43.0, \"num_pickup\": 12.0}, {\"pickup_datetime_hour\": \"2024-09-13T07:00:00\", \"pickup_location_id\": 27.0, \"num_pickup\": 0.0}, {\"pickup_datetime_hour\": \"2024-09-13T07:00:00\", \"pickup_location_id\": 43.0, \"num_pickup\": 45.0}, {\"pickup_datetime_hour\": \"2024-09-13T08:00:00\", \"pickup_location_id\": 27.0, \"num_pickup\": 0.0}, {\"pickup_datetime_hour\": \"2024-09-13T08:00:00\", \"pickup_location_id\": 43.0, \"num_pickup\": 49.0}, {\"pickup_datetime_hour\": \"2024-09-13T09:00:00\", \"pickup_location_id\": 27.0, \"num_pickup\": 0.0}, {\"pickup_datetime_hour\": \"2024-09-13T09:00:00\", \"pickup_location_id\": 43.0, \"num_pickup\": 73.0}, {\"pickup_datetime_hour\": \"2024-09-13T10:00:00\", \"pickup_location_id\": 27.0, \"num_pickup\": 0.0}, {\"pickup_datetime_hour\": \"2024-09-13T10:00:00\", \"pickup_location_id\": 43.0, \"num_pickup\": 69.0}, {\"pickup_datetime_hour\": \"2024-09-13T11:00:00\", \"pickup_location_id\": 27.0, \"num_pickup\": 0.0}, {\"pickup_datetime_hour\": \"2024-09-13T11:00:00\", \"pickup_location_id\": 43.0, \"num_pickup\": 121.0}, {\"pickup_datetime_hour\": \"2024-09-13T12:00:00\", \"pickup_location_id\": 27.0, \"num_pickup\": 0.0}, {\"pickup_datetime_hour\": \"2024-09-13T12:00:00\", \"pickup_location_id\": 43.0, \"num_pickup\": 148.0}, {\"pickup_datetime_hour\": \"2024-09-13T13:00:00\", \"pickup_location_id\": 27.0, \"num_pickup\": 0.0}, {\"pickup_datetime_hour\": \"2024-09-13T13:00:00\", \"pickup_location_id\": 43.0, \"num_pickup\": 134.0}, {\"pickup_datetime_hour\": \"2024-09-13T14:00:00\", \"pickup_location_id\": 27.0, \"num_pickup\": 0.0}, {\"pickup_datetime_hour\": \"2024-09-13T14:00:00\", \"pickup_location_id\": 43.0, \"num_pickup\": 153.0}, {\"pickup_datetime_hour\": \"2024-09-13T15:00:00\", \"pickup_location_id\": 27.0, \"num_pickup\": 0.0}, {\"pickup_datetime_hour\": \"2024-09-13T15:00:00\", \"pickup_location_id\": 43.0, \"num_pickup\": 173.0}, {\"pickup_datetime_hour\": \"2024-09-13T16:00:00\", \"pickup_location_id\": 27.0, \"num_pickup\": 0.0}, {\"pickup_datetime_hour\": \"2024-09-13T16:00:00\", \"pickup_location_id\": 43.0, \"num_pickup\": 190.0}, {\"pickup_datetime_hour\": \"2024-09-13T17:00:00\", \"pickup_location_id\": 27.0, \"num_pickup\": 0.0}, {\"pickup_datetime_hour\": \"2024-09-13T17:00:00\", \"pickup_location_id\": 43.0, \"num_pickup\": 181.0}, {\"pickup_datetime_hour\": \"2024-09-13T18:00:00\", \"pickup_location_id\": 27.0, \"num_pickup\": 0.0}, {\"pickup_datetime_hour\": \"2024-09-13T18:00:00\", \"pickup_location_id\": 43.0, \"num_pickup\": 150.0}, {\"pickup_datetime_hour\": \"2024-09-13T19:00:00\", \"pickup_location_id\": 27.0, \"num_pickup\": 0.0}, {\"pickup_datetime_hour\": \"2024-09-13T19:00:00\", \"pickup_location_id\": 43.0, \"num_pickup\": 163.0}, {\"pickup_datetime_hour\": \"2024-09-13T20:00:00\", \"pickup_location_id\": 27.0, \"num_pickup\": 0.0}, {\"pickup_datetime_hour\": \"2024-09-13T20:00:00\", \"pickup_location_id\": 43.0, \"num_pickup\": 141.0}, {\"pickup_datetime_hour\": \"2024-09-13T21:00:00\", \"pickup_location_id\": 27.0, \"num_pickup\": 0.0}, {\"pickup_datetime_hour\": \"2024-09-13T21:00:00\", \"pickup_location_id\": 43.0, \"num_pickup\": 105.0}, {\"pickup_datetime_hour\": \"2024-09-13T22:00:00\", \"pickup_location_id\": 27.0, \"num_pickup\": 0.0}, {\"pickup_datetime_hour\": \"2024-09-13T22:00:00\", \"pickup_location_id\": 43.0, \"num_pickup\": 65.0}, {\"pickup_datetime_hour\": \"2024-09-13T23:00:00\", \"pickup_location_id\": 27.0, \"num_pickup\": 1.0}, {\"pickup_datetime_hour\": \"2024-09-13T23:00:00\", \"pickup_location_id\": 43.0, \"num_pickup\": 30.0}, {\"pickup_datetime_hour\": \"2024-09-14T00:00:00\", \"pickup_location_id\": 27.0, \"num_pickup\": 0.0}, {\"pickup_datetime_hour\": \"2024-09-14T00:00:00\", \"pickup_location_id\": 43.0, \"num_pickup\": 17.0}, {\"pickup_datetime_hour\": \"2024-09-14T01:00:00\", \"pickup_location_id\": 27.0, \"num_pickup\": 0.0}, {\"pickup_datetime_hour\": \"2024-09-14T01:00:00\", \"pickup_location_id\": 43.0, \"num_pickup\": 11.0}, {\"pickup_datetime_hour\": \"2024-09-14T02:00:00\", \"pickup_location_id\": 27.0, \"num_pickup\": 0.0}, {\"pickup_datetime_hour\": \"2024-09-14T02:00:00\", \"pickup_location_id\": 43.0, \"num_pickup\": 5.0}, {\"pickup_datetime_hour\": \"2024-09-14T03:00:00\", \"pickup_location_id\": 27.0, \"num_pickup\": 0.0}, {\"pickup_datetime_hour\": \"2024-09-14T03:00:00\", \"pickup_location_id\": 43.0, \"num_pickup\": 3.0}, {\"pickup_datetime_hour\": \"2024-09-14T04:00:00\", \"pickup_location_id\": 27.0, \"num_pickup\": 0.0}, {\"pickup_datetime_hour\": \"2024-09-14T04:00:00\", \"pickup_location_id\": 43.0, \"num_pickup\": 2.0}, {\"pickup_datetime_hour\": \"2024-09-14T05:00:00\", \"pickup_location_id\": 27.0, \"num_pickup\": 0.0}, {\"pickup_datetime_hour\": \"2024-09-14T05:00:00\", \"pickup_location_id\": 43.0, \"num_pickup\": 3.0}, {\"pickup_datetime_hour\": \"2024-09-14T06:00:00\", \"pickup_location_id\": 27.0, \"num_pickup\": 0.0}, {\"pickup_datetime_hour\": \"2024-09-14T06:00:00\", \"pickup_location_id\": 43.0, \"num_pickup\": 9.0}, {\"pickup_datetime_hour\": \"2024-09-14T07:00:00\", \"pickup_location_id\": 27.0, \"num_pickup\": 0.0}, {\"pickup_datetime_hour\": \"2024-09-14T07:00:00\", \"pickup_location_id\": 43.0, \"num_pickup\": 22.0}, {\"pickup_datetime_hour\": \"2024-09-14T08:00:00\", \"pickup_location_id\": 27.0, \"num_pickup\": 0.0}, {\"pickup_datetime_hour\": \"2024-09-14T08:00:00\", \"pickup_location_id\": 43.0, \"num_pickup\": 31.0}, {\"pickup_datetime_hour\": \"2024-09-14T09:00:00\", \"pickup_location_id\": 27.0, \"num_pickup\": 0.0}, {\"pickup_datetime_hour\": \"2024-09-14T09:00:00\", \"pickup_location_id\": 43.0, \"num_pickup\": 42.0}, {\"pickup_datetime_hour\": \"2024-09-14T10:00:00\", \"pickup_location_id\": 27.0, \"num_pickup\": 0.0}, {\"pickup_datetime_hour\": \"2024-09-14T10:00:00\", \"pickup_location_id\": 43.0, \"num_pickup\": 75.0}, {\"pickup_datetime_hour\": \"2024-09-14T11:00:00\", \"pickup_location_id\": 27.0, \"num_pickup\": 0.0}, {\"pickup_datetime_hour\": \"2024-09-14T11:00:00\", \"pickup_location_id\": 43.0, \"num_pickup\": 107.0}, {\"pickup_datetime_hour\": \"2024-09-14T12:00:00\", \"pickup_location_id\": 27.0, \"num_pickup\": 0.0}, {\"pickup_datetime_hour\": \"2024-09-14T12:00:00\", \"pickup_location_id\": 43.0, \"num_pickup\": 158.0}, {\"pickup_datetime_hour\": \"2024-09-14T13:00:00\", \"pickup_location_id\": 27.0, \"num_pickup\": 0.0}, {\"pickup_datetime_hour\": \"2024-09-14T13:00:00\", \"pickup_location_id\": 43.0, \"num_pickup\": 159.0}, {\"pickup_datetime_hour\": \"2024-09-14T14:00:00\", \"pickup_location_id\": 27.0, \"num_pickup\": 0.0}, {\"pickup_datetime_hour\": \"2024-09-14T14:00:00\", \"pickup_location_id\": 43.0, \"num_pickup\": 182.0}, {\"pickup_datetime_hour\": \"2024-09-14T15:00:00\", \"pickup_location_id\": 27.0, \"num_pickup\": 0.0}, {\"pickup_datetime_hour\": \"2024-09-14T15:00:00\", \"pickup_location_id\": 43.0, \"num_pickup\": 182.0}, {\"pickup_datetime_hour\": \"2024-09-14T16:00:00\", \"pickup_location_id\": 27.0, \"num_pickup\": 0.0}, {\"pickup_datetime_hour\": \"2024-09-14T16:00:00\", \"pickup_location_id\": 43.0, \"num_pickup\": 203.0}, {\"pickup_datetime_hour\": \"2024-09-14T17:00:00\", \"pickup_location_id\": 27.0, \"num_pickup\": 2.0}, {\"pickup_datetime_hour\": \"2024-09-14T17:00:00\", \"pickup_location_id\": 43.0, \"num_pickup\": 173.0}, {\"pickup_datetime_hour\": \"2024-09-14T18:00:00\", \"pickup_location_id\": 27.0, \"num_pickup\": 1.0}, {\"pickup_datetime_hour\": \"2024-09-14T18:00:00\", \"pickup_location_id\": 43.0, \"num_pickup\": 167.0}, {\"pickup_datetime_hour\": \"2024-09-14T19:00:00\", \"pickup_location_id\": 27.0, \"num_pickup\": 0.0}, {\"pickup_datetime_hour\": \"2024-09-14T19:00:00\", \"pickup_location_id\": 43.0, \"num_pickup\": 158.0}, {\"pickup_datetime_hour\": \"2024-09-14T20:00:00\", \"pickup_location_id\": 27.0, \"num_pickup\": 0.0}, {\"pickup_datetime_hour\": \"2024-09-14T20:00:00\", \"pickup_location_id\": 43.0, \"num_pickup\": 115.0}, {\"pickup_datetime_hour\": \"2024-09-14T21:00:00\", \"pickup_location_id\": 27.0, \"num_pickup\": 0.0}, {\"pickup_datetime_hour\": \"2024-09-14T21:00:00\", \"pickup_location_id\": 43.0, \"num_pickup\": 82.0}, {\"pickup_datetime_hour\": \"2024-09-14T22:00:00\", \"pickup_location_id\": 27.0, \"num_pickup\": 0.0}, {\"pickup_datetime_hour\": \"2024-09-14T22:00:00\", \"pickup_location_id\": 43.0, \"num_pickup\": 70.0}, {\"pickup_datetime_hour\": \"2024-09-14T23:00:00\", \"pickup_location_id\": 27.0, \"num_pickup\": 0.0}, {\"pickup_datetime_hour\": \"2024-09-14T23:00:00\", \"pickup_location_id\": 43.0, \"num_pickup\": 38.0}, {\"pickup_datetime_hour\": \"2024-09-15T00:00:00\", \"pickup_location_id\": 27.0, \"num_pickup\": 0.0}, {\"pickup_datetime_hour\": \"2024-09-15T00:00:00\", \"pickup_location_id\": 43.0, \"num_pickup\": 34.0}, {\"pickup_datetime_hour\": \"2024-09-15T01:00:00\", \"pickup_location_id\": 27.0, \"num_pickup\": 0.0}, {\"pickup_datetime_hour\": \"2024-09-15T01:00:00\", \"pickup_location_id\": 43.0, \"num_pickup\": 14.0}, {\"pickup_datetime_hour\": \"2024-09-15T02:00:00\", \"pickup_location_id\": 27.0, \"num_pickup\": 0.0}, {\"pickup_datetime_hour\": \"2024-09-15T02:00:00\", \"pickup_location_id\": 43.0, \"num_pickup\": 5.0}, {\"pickup_datetime_hour\": \"2024-09-15T03:00:00\", \"pickup_location_id\": 27.0, \"num_pickup\": 0.0}, {\"pickup_datetime_hour\": \"2024-09-15T03:00:00\", \"pickup_location_id\": 43.0, \"num_pickup\": 2.0}, {\"pickup_datetime_hour\": \"2024-09-15T04:00:00\", \"pickup_location_id\": 27.0, \"num_pickup\": 0.0}, {\"pickup_datetime_hour\": \"2024-09-15T04:00:00\", \"pickup_location_id\": 43.0, \"num_pickup\": 1.0}, {\"pickup_datetime_hour\": \"2024-09-15T05:00:00\", \"pickup_location_id\": 27.0, \"num_pickup\": 0.0}, {\"pickup_datetime_hour\": \"2024-09-15T05:00:00\", \"pickup_location_id\": 43.0, \"num_pickup\": 2.0}, {\"pickup_datetime_hour\": \"2024-09-15T06:00:00\", \"pickup_location_id\": 27.0, \"num_pickup\": 0.0}, {\"pickup_datetime_hour\": \"2024-09-15T06:00:00\", \"pickup_location_id\": 43.0, \"num_pickup\": 7.0}, {\"pickup_datetime_hour\": \"2024-09-15T07:00:00\", \"pickup_location_id\": 27.0, \"num_pickup\": 0.0}, {\"pickup_datetime_hour\": \"2024-09-15T07:00:00\", \"pickup_location_id\": 43.0, \"num_pickup\": 12.0}, {\"pickup_datetime_hour\": \"2024-09-15T08:00:00\", \"pickup_location_id\": 27.0, \"num_pickup\": 0.0}, {\"pickup_datetime_hour\": \"2024-09-15T08:00:00\", \"pickup_location_id\": 43.0, \"num_pickup\": 16.0}, {\"pickup_datetime_hour\": \"2024-09-15T09:00:00\", \"pickup_location_id\": 27.0, \"num_pickup\": 0.0}, {\"pickup_datetime_hour\": \"2024-09-15T09:00:00\", \"pickup_location_id\": 43.0, \"num_pickup\": 34.0}, {\"pickup_datetime_hour\": \"2024-09-15T10:00:00\", \"pickup_location_id\": 27.0, \"num_pickup\": 0.0}, {\"pickup_datetime_hour\": \"2024-09-15T10:00:00\", \"pickup_location_id\": 43.0, \"num_pickup\": 79.0}, {\"pickup_datetime_hour\": \"2024-09-15T11:00:00\", \"pickup_location_id\": 27.0, \"num_pickup\": 0.0}, {\"pickup_datetime_hour\": \"2024-09-15T11:00:00\", \"pickup_location_id\": 43.0, \"num_pickup\": 122.0}, {\"pickup_datetime_hour\": \"2024-09-15T12:00:00\", \"pickup_location_id\": 27.0, \"num_pickup\": 0.0}, {\"pickup_datetime_hour\": \"2024-09-15T12:00:00\", \"pickup_location_id\": 43.0, \"num_pickup\": 142.0}, {\"pickup_datetime_hour\": \"2024-09-15T13:00:00\", \"pickup_location_id\": 27.0, \"num_pickup\": 0.0}, {\"pickup_datetime_hour\": \"2024-09-15T13:00:00\", \"pickup_location_id\": 43.0, \"num_pickup\": 159.0}, {\"pickup_datetime_hour\": \"2024-09-15T14:00:00\", \"pickup_location_id\": 27.0, \"num_pickup\": 1.0}, {\"pickup_datetime_hour\": \"2024-09-15T14:00:00\", \"pickup_location_id\": 43.0, \"num_pickup\": 165.0}, {\"pickup_datetime_hour\": \"2024-09-15T15:00:00\", \"pickup_location_id\": 27.0, \"num_pickup\": 0.0}, {\"pickup_datetime_hour\": \"2024-09-15T15:00:00\", \"pickup_location_id\": 43.0, \"num_pickup\": 169.0}, {\"pickup_datetime_hour\": \"2024-09-15T16:00:00\", \"pickup_location_id\": 27.0, \"num_pickup\": 0.0}, {\"pickup_datetime_hour\": \"2024-09-15T16:00:00\", \"pickup_location_id\": 43.0, \"num_pickup\": 188.0}, {\"pickup_datetime_hour\": \"2024-09-15T17:00:00\", \"pickup_location_id\": 27.0, \"num_pickup\": 0.0}, {\"pickup_datetime_hour\": \"2024-09-15T17:00:00\", \"pickup_location_id\": 43.0, \"num_pickup\": 138.0}, {\"pickup_datetime_hour\": \"2024-09-15T18:00:00\", \"pickup_location_id\": 27.0, \"num_pickup\": 0.0}, {\"pickup_datetime_hour\": \"2024-09-15T18:00:00\", \"pickup_location_id\": 43.0, \"num_pickup\": 95.0}, {\"pickup_datetime_hour\": \"2024-09-15T19:00:00\", \"pickup_location_id\": 27.0, \"num_pickup\": 0.0}, {\"pickup_datetime_hour\": \"2024-09-15T19:00:00\", \"pickup_location_id\": 43.0, \"num_pickup\": 83.0}, {\"pickup_datetime_hour\": \"2024-09-15T20:00:00\", \"pickup_location_id\": 27.0, \"num_pickup\": 0.0}, {\"pickup_datetime_hour\": \"2024-09-15T20:00:00\", \"pickup_location_id\": 43.0, \"num_pickup\": 52.0}, {\"pickup_datetime_hour\": \"2024-09-15T21:00:00\", \"pickup_location_id\": 27.0, \"num_pickup\": 1.0}, {\"pickup_datetime_hour\": \"2024-09-15T21:00:00\", \"pickup_location_id\": 43.0, \"num_pickup\": 28.0}, {\"pickup_datetime_hour\": \"2024-09-15T22:00:00\", \"pickup_location_id\": 27.0, \"num_pickup\": 0.0}, {\"pickup_datetime_hour\": \"2024-09-15T22:00:00\", \"pickup_location_id\": 43.0, \"num_pickup\": 17.0}, {\"pickup_datetime_hour\": \"2024-09-15T23:00:00\", \"pickup_location_id\": 27.0, \"num_pickup\": 0.0}, {\"pickup_datetime_hour\": \"2024-09-15T23:00:00\", \"pickup_location_id\": 43.0, \"num_pickup\": 4.0}, {\"pickup_datetime_hour\": \"2024-09-16T00:00:00\", \"pickup_location_id\": 27.0, \"num_pickup\": 0.0}, {\"pickup_datetime_hour\": \"2024-09-16T00:00:00\", \"pickup_location_id\": 43.0, \"num_pickup\": 1.0}, {\"pickup_datetime_hour\": \"2024-09-16T01:00:00\", \"pickup_location_id\": 27.0, \"num_pickup\": 0.0}, {\"pickup_datetime_hour\": \"2024-09-16T01:00:00\", \"pickup_location_id\": 43.0, \"num_pickup\": 0.0}, {\"pickup_datetime_hour\": \"2024-09-16T02:00:00\", \"pickup_location_id\": 27.0, \"num_pickup\": 0.0}, {\"pickup_datetime_hour\": \"2024-09-16T02:00:00\", \"pickup_location_id\": 43.0, \"num_pickup\": 0.0}, {\"pickup_datetime_hour\": \"2024-09-16T03:00:00\", \"pickup_location_id\": 27.0, \"num_pickup\": 0.0}, {\"pickup_datetime_hour\": \"2024-09-16T03:00:00\", \"pickup_location_id\": 43.0, \"num_pickup\": 1.0}, {\"pickup_datetime_hour\": \"2024-09-16T04:00:00\", \"pickup_location_id\": 27.0, \"num_pickup\": 0.0}, {\"pickup_datetime_hour\": \"2024-09-16T04:00:00\", \"pickup_location_id\": 43.0, \"num_pickup\": 3.0}, {\"pickup_datetime_hour\": \"2024-09-16T05:00:00\", \"pickup_location_id\": 27.0, \"num_pickup\": 0.0}, {\"pickup_datetime_hour\": \"2024-09-16T05:00:00\", \"pickup_location_id\": 43.0, \"num_pickup\": 2.0}, {\"pickup_datetime_hour\": \"2024-09-16T06:00:00\", \"pickup_location_id\": 27.0, \"num_pickup\": 0.0}, {\"pickup_datetime_hour\": \"2024-09-16T06:00:00\", \"pickup_location_id\": 43.0, \"num_pickup\": 14.0}, {\"pickup_datetime_hour\": \"2024-09-16T07:00:00\", \"pickup_location_id\": 27.0, \"num_pickup\": 0.0}, {\"pickup_datetime_hour\": \"2024-09-16T07:00:00\", \"pickup_location_id\": 43.0, \"num_pickup\": 41.0}, {\"pickup_datetime_hour\": \"2024-09-16T08:00:00\", \"pickup_location_id\": 27.0, \"num_pickup\": 0.0}, {\"pickup_datetime_hour\": \"2024-09-16T08:00:00\", \"pickup_location_id\": 43.0, \"num_pickup\": 62.0}, {\"pickup_datetime_hour\": \"2024-09-16T09:00:00\", \"pickup_location_id\": 27.0, \"num_pickup\": 0.0}, {\"pickup_datetime_hour\": \"2024-09-16T09:00:00\", \"pickup_location_id\": 43.0, \"num_pickup\": 53.0}, {\"pickup_datetime_hour\": \"2024-09-16T10:00:00\", \"pickup_location_id\": 27.0, \"num_pickup\": 0.0}, {\"pickup_datetime_hour\": \"2024-09-16T10:00:00\", \"pickup_location_id\": 43.0, \"num_pickup\": 100.0}, {\"pickup_datetime_hour\": \"2024-09-16T11:00:00\", \"pickup_location_id\": 27.0, \"num_pickup\": 0.0}, {\"pickup_datetime_hour\": \"2024-09-16T11:00:00\", \"pickup_location_id\": 43.0, \"num_pickup\": 120.0}, {\"pickup_datetime_hour\": \"2024-09-16T12:00:00\", \"pickup_location_id\": 27.0, \"num_pickup\": 0.0}, {\"pickup_datetime_hour\": \"2024-09-16T12:00:00\", \"pickup_location_id\": 43.0, \"num_pickup\": 108.0}, {\"pickup_datetime_hour\": \"2024-09-16T13:00:00\", \"pickup_location_id\": 27.0, \"num_pickup\": 0.0}, {\"pickup_datetime_hour\": \"2024-09-16T13:00:00\", \"pickup_location_id\": 43.0, \"num_pickup\": 142.0}, {\"pickup_datetime_hour\": \"2024-09-16T14:00:00\", \"pickup_location_id\": 27.0, \"num_pickup\": 0.0}, {\"pickup_datetime_hour\": \"2024-09-16T14:00:00\", \"pickup_location_id\": 43.0, \"num_pickup\": 134.0}, {\"pickup_datetime_hour\": \"2024-09-16T15:00:00\", \"pickup_location_id\": 27.0, \"num_pickup\": 0.0}, {\"pickup_datetime_hour\": \"2024-09-16T15:00:00\", \"pickup_location_id\": 43.0, \"num_pickup\": 144.0}, {\"pickup_datetime_hour\": \"2024-09-16T16:00:00\", \"pickup_location_id\": 27.0, \"num_pickup\": 0.0}, {\"pickup_datetime_hour\": \"2024-09-16T16:00:00\", \"pickup_location_id\": 43.0, \"num_pickup\": 165.0}, {\"pickup_datetime_hour\": \"2024-09-16T17:00:00\", \"pickup_location_id\": 27.0, \"num_pickup\": 0.0}, {\"pickup_datetime_hour\": \"2024-09-16T17:00:00\", \"pickup_location_id\": 43.0, \"num_pickup\": 111.0}, {\"pickup_datetime_hour\": \"2024-09-16T18:00:00\", \"pickup_location_id\": 27.0, \"num_pickup\": 0.0}, {\"pickup_datetime_hour\": \"2024-09-16T18:00:00\", \"pickup_location_id\": 43.0, \"num_pickup\": 104.0}, {\"pickup_datetime_hour\": \"2024-09-16T19:00:00\", \"pickup_location_id\": 27.0, \"num_pickup\": 0.0}, {\"pickup_datetime_hour\": \"2024-09-16T19:00:00\", \"pickup_location_id\": 43.0, \"num_pickup\": 109.0}, {\"pickup_datetime_hour\": \"2024-09-16T20:00:00\", \"pickup_location_id\": 27.0, \"num_pickup\": 0.0}, {\"pickup_datetime_hour\": \"2024-09-16T20:00:00\", \"pickup_location_id\": 43.0, \"num_pickup\": 111.0}, {\"pickup_datetime_hour\": \"2024-09-16T21:00:00\", \"pickup_location_id\": 27.0, \"num_pickup\": 0.0}, {\"pickup_datetime_hour\": \"2024-09-16T21:00:00\", \"pickup_location_id\": 43.0, \"num_pickup\": 39.0}, {\"pickup_datetime_hour\": \"2024-09-16T22:00:00\", \"pickup_location_id\": 27.0, \"num_pickup\": 0.0}, {\"pickup_datetime_hour\": \"2024-09-16T22:00:00\", \"pickup_location_id\": 43.0, \"num_pickup\": 55.0}, {\"pickup_datetime_hour\": \"2024-09-16T23:00:00\", \"pickup_location_id\": 27.0, \"num_pickup\": 0.0}, {\"pickup_datetime_hour\": \"2024-09-16T23:00:00\", \"pickup_location_id\": 43.0, \"num_pickup\": 17.0}, {\"pickup_datetime_hour\": \"2024-09-17T00:00:00\", \"pickup_location_id\": 27.0, \"num_pickup\": 0.0}, {\"pickup_datetime_hour\": \"2024-09-17T00:00:00\", \"pickup_location_id\": 43.0, \"num_pickup\": 2.0}, {\"pickup_datetime_hour\": \"2024-09-17T01:00:00\", \"pickup_location_id\": 27.0, \"num_pickup\": 0.0}, {\"pickup_datetime_hour\": \"2024-09-17T01:00:00\", \"pickup_location_id\": 43.0, \"num_pickup\": 3.0}, {\"pickup_datetime_hour\": \"2024-09-17T02:00:00\", \"pickup_location_id\": 27.0, \"num_pickup\": 0.0}, {\"pickup_datetime_hour\": \"2024-09-17T02:00:00\", \"pickup_location_id\": 43.0, \"num_pickup\": 0.0}, {\"pickup_datetime_hour\": \"2024-09-17T03:00:00\", \"pickup_location_id\": 27.0, \"num_pickup\": 0.0}, {\"pickup_datetime_hour\": \"2024-09-17T03:00:00\", \"pickup_location_id\": 43.0, \"num_pickup\": 0.0}, {\"pickup_datetime_hour\": \"2024-09-17T04:00:00\", \"pickup_location_id\": 27.0, \"num_pickup\": 0.0}, {\"pickup_datetime_hour\": \"2024-09-17T04:00:00\", \"pickup_location_id\": 43.0, \"num_pickup\": 0.0}, {\"pickup_datetime_hour\": \"2024-09-17T05:00:00\", \"pickup_location_id\": 27.0, \"num_pickup\": 0.0}, {\"pickup_datetime_hour\": \"2024-09-17T05:00:00\", \"pickup_location_id\": 43.0, \"num_pickup\": 2.0}, {\"pickup_datetime_hour\": \"2024-09-17T06:00:00\", \"pickup_location_id\": 27.0, \"num_pickup\": 0.0}, {\"pickup_datetime_hour\": \"2024-09-17T06:00:00\", \"pickup_location_id\": 43.0, \"num_pickup\": 10.0}, {\"pickup_datetime_hour\": \"2024-09-17T07:00:00\", \"pickup_location_id\": 27.0, \"num_pickup\": 0.0}, {\"pickup_datetime_hour\": \"2024-09-17T07:00:00\", \"pickup_location_id\": 43.0, \"num_pickup\": 46.0}, {\"pickup_datetime_hour\": \"2024-09-17T08:00:00\", \"pickup_location_id\": 27.0, \"num_pickup\": 0.0}, {\"pickup_datetime_hour\": \"2024-09-17T08:00:00\", \"pickup_location_id\": 43.0, \"num_pickup\": 74.0}, {\"pickup_datetime_hour\": \"2024-09-17T09:00:00\", \"pickup_location_id\": 27.0, \"num_pickup\": 0.0}, {\"pickup_datetime_hour\": \"2024-09-17T09:00:00\", \"pickup_location_id\": 43.0, \"num_pickup\": 66.0}, {\"pickup_datetime_hour\": \"2024-09-17T10:00:00\", \"pickup_location_id\": 27.0, \"num_pickup\": 0.0}, {\"pickup_datetime_hour\": \"2024-09-17T10:00:00\", \"pickup_location_id\": 43.0, \"num_pickup\": 86.0}, {\"pickup_datetime_hour\": \"2024-09-17T11:00:00\", \"pickup_location_id\": 27.0, \"num_pickup\": 0.0}, {\"pickup_datetime_hour\": \"2024-09-17T11:00:00\", \"pickup_location_id\": 43.0, \"num_pickup\": 121.0}, {\"pickup_datetime_hour\": \"2024-09-17T12:00:00\", \"pickup_location_id\": 27.0, \"num_pickup\": 0.0}, {\"pickup_datetime_hour\": \"2024-09-17T12:00:00\", \"pickup_location_id\": 43.0, \"num_pickup\": 120.0}, {\"pickup_datetime_hour\": \"2024-09-17T13:00:00\", \"pickup_location_id\": 27.0, \"num_pickup\": 0.0}, {\"pickup_datetime_hour\": \"2024-09-17T13:00:00\", \"pickup_location_id\": 43.0, \"num_pickup\": 151.0}, {\"pickup_datetime_hour\": \"2024-09-17T14:00:00\", \"pickup_location_id\": 27.0, \"num_pickup\": 0.0}, {\"pickup_datetime_hour\": \"2024-09-17T14:00:00\", \"pickup_location_id\": 43.0, \"num_pickup\": 137.0}, {\"pickup_datetime_hour\": \"2024-09-17T15:00:00\", \"pickup_location_id\": 27.0, \"num_pickup\": 0.0}, {\"pickup_datetime_hour\": \"2024-09-17T15:00:00\", \"pickup_location_id\": 43.0, \"num_pickup\": 143.0}, {\"pickup_datetime_hour\": \"2024-09-17T16:00:00\", \"pickup_location_id\": 27.0, \"num_pickup\": 0.0}, {\"pickup_datetime_hour\": \"2024-09-17T16:00:00\", \"pickup_location_id\": 43.0, \"num_pickup\": 159.0}, {\"pickup_datetime_hour\": \"2024-09-17T17:00:00\", \"pickup_location_id\": 27.0, \"num_pickup\": 0.0}, {\"pickup_datetime_hour\": \"2024-09-17T17:00:00\", \"pickup_location_id\": 43.0, \"num_pickup\": 132.0}, {\"pickup_datetime_hour\": \"2024-09-17T18:00:00\", \"pickup_location_id\": 27.0, \"num_pickup\": 0.0}, {\"pickup_datetime_hour\": \"2024-09-17T18:00:00\", \"pickup_location_id\": 43.0, \"num_pickup\": 137.0}, {\"pickup_datetime_hour\": \"2024-09-17T19:00:00\", \"pickup_location_id\": 27.0, \"num_pickup\": 0.0}, {\"pickup_datetime_hour\": \"2024-09-17T19:00:00\", \"pickup_location_id\": 43.0, \"num_pickup\": 120.0}, {\"pickup_datetime_hour\": \"2024-09-17T20:00:00\", \"pickup_location_id\": 27.0, \"num_pickup\": 0.0}, {\"pickup_datetime_hour\": \"2024-09-17T20:00:00\", \"pickup_location_id\": 43.0, \"num_pickup\": 122.0}, {\"pickup_datetime_hour\": \"2024-09-17T21:00:00\", \"pickup_location_id\": 27.0, \"num_pickup\": 0.0}, {\"pickup_datetime_hour\": \"2024-09-17T21:00:00\", \"pickup_location_id\": 43.0, \"num_pickup\": 134.0}, {\"pickup_datetime_hour\": \"2024-09-17T22:00:00\", \"pickup_location_id\": 27.0, \"num_pickup\": 0.0}, {\"pickup_datetime_hour\": \"2024-09-17T22:00:00\", \"pickup_location_id\": 43.0, \"num_pickup\": 112.0}, {\"pickup_datetime_hour\": \"2024-09-17T23:00:00\", \"pickup_location_id\": 27.0, \"num_pickup\": 0.0}, {\"pickup_datetime_hour\": \"2024-09-17T23:00:00\", \"pickup_location_id\": 43.0, \"num_pickup\": 17.0}, {\"pickup_datetime_hour\": \"2024-09-18T00:00:00\", \"pickup_location_id\": 27.0, \"num_pickup\": 0.0}, {\"pickup_datetime_hour\": \"2024-09-18T00:00:00\", \"pickup_location_id\": 43.0, \"num_pickup\": 9.0}, {\"pickup_datetime_hour\": \"2024-09-18T01:00:00\", \"pickup_location_id\": 27.0, \"num_pickup\": 0.0}, {\"pickup_datetime_hour\": \"2024-09-18T01:00:00\", \"pickup_location_id\": 43.0, \"num_pickup\": 3.0}, {\"pickup_datetime_hour\": \"2024-09-18T02:00:00\", \"pickup_location_id\": 27.0, \"num_pickup\": 0.0}, {\"pickup_datetime_hour\": \"2024-09-18T02:00:00\", \"pickup_location_id\": 43.0, \"num_pickup\": 0.0}, {\"pickup_datetime_hour\": \"2024-09-18T03:00:00\", \"pickup_location_id\": 27.0, \"num_pickup\": 0.0}, {\"pickup_datetime_hour\": \"2024-09-18T03:00:00\", \"pickup_location_id\": 43.0, \"num_pickup\": 0.0}, {\"pickup_datetime_hour\": \"2024-09-18T04:00:00\", \"pickup_location_id\": 27.0, \"num_pickup\": 0.0}, {\"pickup_datetime_hour\": \"2024-09-18T04:00:00\", \"pickup_location_id\": 43.0, \"num_pickup\": 0.0}, {\"pickup_datetime_hour\": \"2024-09-18T05:00:00\", \"pickup_location_id\": 27.0, \"num_pickup\": 0.0}, {\"pickup_datetime_hour\": \"2024-09-18T05:00:00\", \"pickup_location_id\": 43.0, \"num_pickup\": 7.0}, {\"pickup_datetime_hour\": \"2024-09-18T06:00:00\", \"pickup_location_id\": 27.0, \"num_pickup\": 0.0}, {\"pickup_datetime_hour\": \"2024-09-18T06:00:00\", \"pickup_location_id\": 43.0, \"num_pickup\": 6.0}, {\"pickup_datetime_hour\": \"2024-09-18T07:00:00\", \"pickup_location_id\": 27.0, \"num_pickup\": 0.0}, {\"pickup_datetime_hour\": \"2024-09-18T07:00:00\", \"pickup_location_id\": 43.0, \"num_pickup\": 51.0}, {\"pickup_datetime_hour\": \"2024-09-18T08:00:00\", \"pickup_location_id\": 27.0, \"num_pickup\": 0.0}, {\"pickup_datetime_hour\": \"2024-09-18T08:00:00\", \"pickup_location_id\": 43.0, \"num_pickup\": 79.0}, {\"pickup_datetime_hour\": \"2024-09-18T09:00:00\", \"pickup_location_id\": 27.0, \"num_pickup\": 0.0}, {\"pickup_datetime_hour\": \"2024-09-18T09:00:00\", \"pickup_location_id\": 43.0, \"num_pickup\": 80.0}, {\"pickup_datetime_hour\": \"2024-09-18T10:00:00\", \"pickup_location_id\": 27.0, \"num_pickup\": 0.0}, {\"pickup_datetime_hour\": \"2024-09-18T10:00:00\", \"pickup_location_id\": 43.0, \"num_pickup\": 108.0}, {\"pickup_datetime_hour\": \"2024-09-18T11:00:00\", \"pickup_location_id\": 27.0, \"num_pickup\": 0.0}, {\"pickup_datetime_hour\": \"2024-09-18T11:00:00\", \"pickup_location_id\": 43.0, \"num_pickup\": 101.0}, {\"pickup_datetime_hour\": \"2024-09-18T12:00:00\", \"pickup_location_id\": 27.0, \"num_pickup\": 0.0}, {\"pickup_datetime_hour\": \"2024-09-18T12:00:00\", \"pickup_location_id\": 43.0, \"num_pickup\": 147.0}, {\"pickup_datetime_hour\": \"2024-09-18T13:00:00\", \"pickup_location_id\": 27.0, \"num_pickup\": 0.0}, {\"pickup_datetime_hour\": \"2024-09-18T13:00:00\", \"pickup_location_id\": 43.0, \"num_pickup\": 117.0}, {\"pickup_datetime_hour\": \"2024-09-18T14:00:00\", \"pickup_location_id\": 27.0, \"num_pickup\": 0.0}, {\"pickup_datetime_hour\": \"2024-09-18T14:00:00\", \"pickup_location_id\": 43.0, \"num_pickup\": 126.0}, {\"pickup_datetime_hour\": \"2024-09-18T15:00:00\", \"pickup_location_id\": 27.0, \"num_pickup\": 0.0}, {\"pickup_datetime_hour\": \"2024-09-18T15:00:00\", \"pickup_location_id\": 43.0, \"num_pickup\": 120.0}, {\"pickup_datetime_hour\": \"2024-09-18T16:00:00\", \"pickup_location_id\": 27.0, \"num_pickup\": 0.0}, {\"pickup_datetime_hour\": \"2024-09-18T16:00:00\", \"pickup_location_id\": 43.0, \"num_pickup\": 121.0}, {\"pickup_datetime_hour\": \"2024-09-18T17:00:00\", \"pickup_location_id\": 27.0, \"num_pickup\": 0.0}, {\"pickup_datetime_hour\": \"2024-09-18T17:00:00\", \"pickup_location_id\": 43.0, \"num_pickup\": 126.0}, {\"pickup_datetime_hour\": \"2024-09-18T18:00:00\", \"pickup_location_id\": 27.0, \"num_pickup\": 1.0}, {\"pickup_datetime_hour\": \"2024-09-18T18:00:00\", \"pickup_location_id\": 43.0, \"num_pickup\": 111.0}, {\"pickup_datetime_hour\": \"2024-09-18T19:00:00\", \"pickup_location_id\": 27.0, \"num_pickup\": 0.0}, {\"pickup_datetime_hour\": \"2024-09-18T19:00:00\", \"pickup_location_id\": 43.0, \"num_pickup\": 135.0}, {\"pickup_datetime_hour\": \"2024-09-18T20:00:00\", \"pickup_location_id\": 27.0, \"num_pickup\": 0.0}, {\"pickup_datetime_hour\": \"2024-09-18T20:00:00\", \"pickup_location_id\": 43.0, \"num_pickup\": 106.0}, {\"pickup_datetime_hour\": \"2024-09-18T21:00:00\", \"pickup_location_id\": 27.0, \"num_pickup\": 0.0}, {\"pickup_datetime_hour\": \"2024-09-18T21:00:00\", \"pickup_location_id\": 43.0, \"num_pickup\": 86.0}, {\"pickup_datetime_hour\": \"2024-09-18T22:00:00\", \"pickup_location_id\": 27.0, \"num_pickup\": 0.0}, {\"pickup_datetime_hour\": \"2024-09-18T22:00:00\", \"pickup_location_id\": 43.0, \"num_pickup\": 84.0}, {\"pickup_datetime_hour\": \"2024-09-18T23:00:00\", \"pickup_location_id\": 27.0, \"num_pickup\": 0.0}, {\"pickup_datetime_hour\": \"2024-09-18T23:00:00\", \"pickup_location_id\": 43.0, \"num_pickup\": 27.0}, {\"pickup_datetime_hour\": \"2024-09-19T00:00:00\", \"pickup_location_id\": 27.0, \"num_pickup\": 0.0}, {\"pickup_datetime_hour\": \"2024-09-19T00:00:00\", \"pickup_location_id\": 43.0, \"num_pickup\": 7.0}, {\"pickup_datetime_hour\": \"2024-09-19T01:00:00\", \"pickup_location_id\": 27.0, \"num_pickup\": 0.0}, {\"pickup_datetime_hour\": \"2024-09-19T01:00:00\", \"pickup_location_id\": 43.0, \"num_pickup\": 2.0}, {\"pickup_datetime_hour\": \"2024-09-19T02:00:00\", \"pickup_location_id\": 27.0, \"num_pickup\": 0.0}, {\"pickup_datetime_hour\": \"2024-09-19T02:00:00\", \"pickup_location_id\": 43.0, \"num_pickup\": 1.0}, {\"pickup_datetime_hour\": \"2024-09-19T03:00:00\", \"pickup_location_id\": 27.0, \"num_pickup\": 0.0}, {\"pickup_datetime_hour\": \"2024-09-19T03:00:00\", \"pickup_location_id\": 43.0, \"num_pickup\": 1.0}, {\"pickup_datetime_hour\": \"2024-09-19T04:00:00\", \"pickup_location_id\": 27.0, \"num_pickup\": 0.0}, {\"pickup_datetime_hour\": \"2024-09-19T04:00:00\", \"pickup_location_id\": 43.0, \"num_pickup\": 2.0}, {\"pickup_datetime_hour\": \"2024-09-19T05:00:00\", \"pickup_location_id\": 27.0, \"num_pickup\": 0.0}, {\"pickup_datetime_hour\": \"2024-09-19T05:00:00\", \"pickup_location_id\": 43.0, \"num_pickup\": 3.0}, {\"pickup_datetime_hour\": \"2024-09-19T06:00:00\", \"pickup_location_id\": 27.0, \"num_pickup\": 0.0}, {\"pickup_datetime_hour\": \"2024-09-19T06:00:00\", \"pickup_location_id\": 43.0, \"num_pickup\": 16.0}, {\"pickup_datetime_hour\": \"2024-09-19T07:00:00\", \"pickup_location_id\": 27.0, \"num_pickup\": 0.0}, {\"pickup_datetime_hour\": \"2024-09-19T07:00:00\", \"pickup_location_id\": 43.0, \"num_pickup\": 52.0}, {\"pickup_datetime_hour\": \"2024-09-19T08:00:00\", \"pickup_location_id\": 27.0, \"num_pickup\": 0.0}, {\"pickup_datetime_hour\": \"2024-09-19T08:00:00\", \"pickup_location_id\": 43.0, \"num_pickup\": 69.0}, {\"pickup_datetime_hour\": \"2024-09-19T09:00:00\", \"pickup_location_id\": 27.0, \"num_pickup\": 0.0}, {\"pickup_datetime_hour\": \"2024-09-19T09:00:00\", \"pickup_location_id\": 43.0, \"num_pickup\": 89.0}, {\"pickup_datetime_hour\": \"2024-09-19T10:00:00\", \"pickup_location_id\": 27.0, \"num_pickup\": 0.0}, {\"pickup_datetime_hour\": \"2024-09-19T10:00:00\", \"pickup_location_id\": 43.0, \"num_pickup\": 111.0}, {\"pickup_datetime_hour\": \"2024-09-19T11:00:00\", \"pickup_location_id\": 27.0, \"num_pickup\": 0.0}, {\"pickup_datetime_hour\": \"2024-09-19T11:00:00\", \"pickup_location_id\": 43.0, \"num_pickup\": 117.0}, {\"pickup_datetime_hour\": \"2024-09-19T12:00:00\", \"pickup_location_id\": 27.0, \"num_pickup\": 0.0}, {\"pickup_datetime_hour\": \"2024-09-19T12:00:00\", \"pickup_location_id\": 43.0, \"num_pickup\": 137.0}, {\"pickup_datetime_hour\": \"2024-09-19T13:00:00\", \"pickup_location_id\": 27.0, \"num_pickup\": 0.0}, {\"pickup_datetime_hour\": \"2024-09-19T13:00:00\", \"pickup_location_id\": 43.0, \"num_pickup\": 141.0}, {\"pickup_datetime_hour\": \"2024-09-19T14:00:00\", \"pickup_location_id\": 27.0, \"num_pickup\": 0.0}, {\"pickup_datetime_hour\": \"2024-09-19T14:00:00\", \"pickup_location_id\": 43.0, \"num_pickup\": 148.0}, {\"pickup_datetime_hour\": \"2024-09-19T15:00:00\", \"pickup_location_id\": 27.0, \"num_pickup\": 0.0}, {\"pickup_datetime_hour\": \"2024-09-19T15:00:00\", \"pickup_location_id\": 43.0, \"num_pickup\": 198.0}, {\"pickup_datetime_hour\": \"2024-09-19T16:00:00\", \"pickup_location_id\": 27.0, \"num_pickup\": 0.0}, {\"pickup_datetime_hour\": \"2024-09-19T16:00:00\", \"pickup_location_id\": 43.0, \"num_pickup\": 214.0}, {\"pickup_datetime_hour\": \"2024-09-19T17:00:00\", \"pickup_location_id\": 27.0, \"num_pickup\": 0.0}, {\"pickup_datetime_hour\": \"2024-09-19T17:00:00\", \"pickup_location_id\": 43.0, \"num_pickup\": 148.0}, {\"pickup_datetime_hour\": \"2024-09-19T18:00:00\", \"pickup_location_id\": 27.0, \"num_pickup\": 0.0}, {\"pickup_datetime_hour\": \"2024-09-19T18:00:00\", \"pickup_location_id\": 43.0, \"num_pickup\": 151.0}, {\"pickup_datetime_hour\": \"2024-09-19T19:00:00\", \"pickup_location_id\": 27.0, \"num_pickup\": 0.0}, {\"pickup_datetime_hour\": \"2024-09-19T19:00:00\", \"pickup_location_id\": 43.0, \"num_pickup\": 156.0}, {\"pickup_datetime_hour\": \"2024-09-19T20:00:00\", \"pickup_location_id\": 27.0, \"num_pickup\": 0.0}, {\"pickup_datetime_hour\": \"2024-09-19T20:00:00\", \"pickup_location_id\": 43.0, \"num_pickup\": 112.0}, {\"pickup_datetime_hour\": \"2024-09-19T21:00:00\", \"pickup_location_id\": 27.0, \"num_pickup\": 0.0}, {\"pickup_datetime_hour\": \"2024-09-19T21:00:00\", \"pickup_location_id\": 43.0, \"num_pickup\": 73.0}, {\"pickup_datetime_hour\": \"2024-09-19T22:00:00\", \"pickup_location_id\": 27.0, \"num_pickup\": 0.0}, {\"pickup_datetime_hour\": \"2024-09-19T22:00:00\", \"pickup_location_id\": 43.0, \"num_pickup\": 87.0}, {\"pickup_datetime_hour\": \"2024-09-19T23:00:00\", \"pickup_location_id\": 27.0, \"num_pickup\": 0.0}, {\"pickup_datetime_hour\": \"2024-09-19T23:00:00\", \"pickup_location_id\": 43.0, \"num_pickup\": 23.0}, {\"pickup_datetime_hour\": \"2024-09-20T00:00:00\", \"pickup_location_id\": 27.0, \"num_pickup\": 0.0}, {\"pickup_datetime_hour\": \"2024-09-20T00:00:00\", \"pickup_location_id\": 43.0, \"num_pickup\": 12.0}, {\"pickup_datetime_hour\": \"2024-09-20T01:00:00\", \"pickup_location_id\": 27.0, \"num_pickup\": 0.0}, {\"pickup_datetime_hour\": \"2024-09-20T01:00:00\", \"pickup_location_id\": 43.0, \"num_pickup\": 6.0}, {\"pickup_datetime_hour\": \"2024-09-20T02:00:00\", \"pickup_location_id\": 27.0, \"num_pickup\": 0.0}, {\"pickup_datetime_hour\": \"2024-09-20T02:00:00\", \"pickup_location_id\": 43.0, \"num_pickup\": 1.0}, {\"pickup_datetime_hour\": \"2024-09-20T03:00:00\", \"pickup_location_id\": 27.0, \"num_pickup\": 0.0}, {\"pickup_datetime_hour\": \"2024-09-20T03:00:00\", \"pickup_location_id\": 43.0, \"num_pickup\": 1.0}, {\"pickup_datetime_hour\": \"2024-09-20T04:00:00\", \"pickup_location_id\": 27.0, \"num_pickup\": 0.0}, {\"pickup_datetime_hour\": \"2024-09-20T04:00:00\", \"pickup_location_id\": 43.0, \"num_pickup\": 1.0}, {\"pickup_datetime_hour\": \"2024-09-20T05:00:00\", \"pickup_location_id\": 27.0, \"num_pickup\": 0.0}, {\"pickup_datetime_hour\": \"2024-09-20T05:00:00\", \"pickup_location_id\": 43.0, \"num_pickup\": 1.0}, {\"pickup_datetime_hour\": \"2024-09-20T06:00:00\", \"pickup_location_id\": 27.0, \"num_pickup\": 0.0}, {\"pickup_datetime_hour\": \"2024-09-20T06:00:00\", \"pickup_location_id\": 43.0, \"num_pickup\": 5.0}, {\"pickup_datetime_hour\": \"2024-09-20T07:00:00\", \"pickup_location_id\": 27.0, \"num_pickup\": 0.0}, {\"pickup_datetime_hour\": \"2024-09-20T07:00:00\", \"pickup_location_id\": 43.0, \"num_pickup\": 55.0}, {\"pickup_datetime_hour\": \"2024-09-20T08:00:00\", \"pickup_location_id\": 27.0, \"num_pickup\": 0.0}, {\"pickup_datetime_hour\": \"2024-09-20T08:00:00\", \"pickup_location_id\": 43.0, \"num_pickup\": 63.0}, {\"pickup_datetime_hour\": \"2024-09-20T09:00:00\", \"pickup_location_id\": 27.0, \"num_pickup\": 0.0}, {\"pickup_datetime_hour\": \"2024-09-20T09:00:00\", \"pickup_location_id\": 43.0, \"num_pickup\": 60.0}, {\"pickup_datetime_hour\": \"2024-09-20T10:00:00\", \"pickup_location_id\": 27.0, \"num_pickup\": 0.0}, {\"pickup_datetime_hour\": \"2024-09-20T10:00:00\", \"pickup_location_id\": 43.0, \"num_pickup\": 74.0}, {\"pickup_datetime_hour\": \"2024-09-20T11:00:00\", \"pickup_location_id\": 27.0, \"num_pickup\": 0.0}, {\"pickup_datetime_hour\": \"2024-09-20T11:00:00\", \"pickup_location_id\": 43.0, \"num_pickup\": 84.0}, {\"pickup_datetime_hour\": \"2024-09-20T12:00:00\", \"pickup_location_id\": 27.0, \"num_pickup\": 0.0}, {\"pickup_datetime_hour\": \"2024-09-20T12:00:00\", \"pickup_location_id\": 43.0, \"num_pickup\": 99.0}, {\"pickup_datetime_hour\": \"2024-09-20T13:00:00\", \"pickup_location_id\": 27.0, \"num_pickup\": 0.0}, {\"pickup_datetime_hour\": \"2024-09-20T13:00:00\", \"pickup_location_id\": 43.0, \"num_pickup\": 138.0}, {\"pickup_datetime_hour\": \"2024-09-20T14:00:00\", \"pickup_location_id\": 27.0, \"num_pickup\": 0.0}, {\"pickup_datetime_hour\": \"2024-09-20T14:00:00\", \"pickup_location_id\": 43.0, \"num_pickup\": 154.0}, {\"pickup_datetime_hour\": \"2024-09-20T15:00:00\", \"pickup_location_id\": 27.0, \"num_pickup\": 0.0}, {\"pickup_datetime_hour\": \"2024-09-20T15:00:00\", \"pickup_location_id\": 43.0, \"num_pickup\": 171.0}, {\"pickup_datetime_hour\": \"2024-09-20T16:00:00\", \"pickup_location_id\": 27.0, \"num_pickup\": 0.0}, {\"pickup_datetime_hour\": \"2024-09-20T16:00:00\", \"pickup_location_id\": 43.0, \"num_pickup\": 199.0}, {\"pickup_datetime_hour\": \"2024-09-20T17:00:00\", \"pickup_location_id\": 27.0, \"num_pickup\": 0.0}, {\"pickup_datetime_hour\": \"2024-09-20T17:00:00\", \"pickup_location_id\": 43.0, \"num_pickup\": 179.0}, {\"pickup_datetime_hour\": \"2024-09-20T18:00:00\", \"pickup_location_id\": 27.0, \"num_pickup\": 0.0}, {\"pickup_datetime_hour\": \"2024-09-20T18:00:00\", \"pickup_location_id\": 43.0, \"num_pickup\": 166.0}, {\"pickup_datetime_hour\": \"2024-09-20T19:00:00\", \"pickup_location_id\": 27.0, \"num_pickup\": 0.0}, {\"pickup_datetime_hour\": \"2024-09-20T19:00:00\", \"pickup_location_id\": 43.0, \"num_pickup\": 134.0}, {\"pickup_datetime_hour\": \"2024-09-20T20:00:00\", \"pickup_location_id\": 27.0, \"num_pickup\": 0.0}, {\"pickup_datetime_hour\": \"2024-09-20T20:00:00\", \"pickup_location_id\": 43.0, \"num_pickup\": 144.0}, {\"pickup_datetime_hour\": \"2024-09-20T21:00:00\", \"pickup_location_id\": 27.0, \"num_pickup\": 0.0}, {\"pickup_datetime_hour\": \"2024-09-20T21:00:00\", \"pickup_location_id\": 43.0, \"num_pickup\": 113.0}, {\"pickup_datetime_hour\": \"2024-09-20T22:00:00\", \"pickup_location_id\": 27.0, \"num_pickup\": 0.0}, {\"pickup_datetime_hour\": \"2024-09-20T22:00:00\", \"pickup_location_id\": 43.0, \"num_pickup\": 90.0}, {\"pickup_datetime_hour\": \"2024-09-20T23:00:00\", \"pickup_location_id\": 27.0, \"num_pickup\": 0.0}, {\"pickup_datetime_hour\": \"2024-09-20T23:00:00\", \"pickup_location_id\": 43.0, \"num_pickup\": 49.0}, {\"pickup_datetime_hour\": \"2024-09-21T00:00:00\", \"pickup_location_id\": 27.0, \"num_pickup\": 0.0}, {\"pickup_datetime_hour\": \"2024-09-21T00:00:00\", \"pickup_location_id\": 43.0, \"num_pickup\": 32.0}, {\"pickup_datetime_hour\": \"2024-09-21T01:00:00\", \"pickup_location_id\": 27.0, \"num_pickup\": 0.0}, {\"pickup_datetime_hour\": \"2024-09-21T01:00:00\", \"pickup_location_id\": 43.0, \"num_pickup\": 5.0}, {\"pickup_datetime_hour\": \"2024-09-21T02:00:00\", \"pickup_location_id\": 27.0, \"num_pickup\": 0.0}, {\"pickup_datetime_hour\": \"2024-09-21T02:00:00\", \"pickup_location_id\": 43.0, \"num_pickup\": 3.0}, {\"pickup_datetime_hour\": \"2024-09-21T03:00:00\", \"pickup_location_id\": 27.0, \"num_pickup\": 0.0}, {\"pickup_datetime_hour\": \"2024-09-21T03:00:00\", \"pickup_location_id\": 43.0, \"num_pickup\": 3.0}, {\"pickup_datetime_hour\": \"2024-09-21T04:00:00\", \"pickup_location_id\": 27.0, \"num_pickup\": 0.0}, {\"pickup_datetime_hour\": \"2024-09-21T04:00:00\", \"pickup_location_id\": 43.0, \"num_pickup\": 2.0}, {\"pickup_datetime_hour\": \"2024-09-21T05:00:00\", \"pickup_location_id\": 27.0, \"num_pickup\": 0.0}, {\"pickup_datetime_hour\": \"2024-09-21T05:00:00\", \"pickup_location_id\": 43.0, \"num_pickup\": 0.0}, {\"pickup_datetime_hour\": \"2024-09-21T06:00:00\", \"pickup_location_id\": 27.0, \"num_pickup\": 0.0}, {\"pickup_datetime_hour\": \"2024-09-21T06:00:00\", \"pickup_location_id\": 43.0, \"num_pickup\": 5.0}, {\"pickup_datetime_hour\": \"2024-09-21T07:00:00\", \"pickup_location_id\": 27.0, \"num_pickup\": 0.0}, {\"pickup_datetime_hour\": \"2024-09-21T07:00:00\", \"pickup_location_id\": 43.0, \"num_pickup\": 9.0}, {\"pickup_datetime_hour\": \"2024-09-21T08:00:00\", \"pickup_location_id\": 27.0, \"num_pickup\": 0.0}, {\"pickup_datetime_hour\": \"2024-09-21T08:00:00\", \"pickup_location_id\": 43.0, \"num_pickup\": 30.0}, {\"pickup_datetime_hour\": \"2024-09-21T09:00:00\", \"pickup_location_id\": 27.0, \"num_pickup\": 0.0}, {\"pickup_datetime_hour\": \"2024-09-21T09:00:00\", \"pickup_location_id\": 43.0, \"num_pickup\": 55.0}, {\"pickup_datetime_hour\": \"2024-09-21T10:00:00\", \"pickup_location_id\": 27.0, \"num_pickup\": 0.0}, {\"pickup_datetime_hour\": \"2024-09-21T10:00:00\", \"pickup_location_id\": 43.0, \"num_pickup\": 55.0}, {\"pickup_datetime_hour\": \"2024-09-21T11:00:00\", \"pickup_location_id\": 27.0, \"num_pickup\": 0.0}, {\"pickup_datetime_hour\": \"2024-09-21T11:00:00\", \"pickup_location_id\": 43.0, \"num_pickup\": 47.0}, {\"pickup_datetime_hour\": \"2024-09-21T12:00:00\", \"pickup_location_id\": 27.0, \"num_pickup\": 0.0}, {\"pickup_datetime_hour\": \"2024-09-21T12:00:00\", \"pickup_location_id\": 43.0, \"num_pickup\": 63.0}, {\"pickup_datetime_hour\": \"2024-09-21T13:00:00\", \"pickup_location_id\": 27.0, \"num_pickup\": 0.0}, {\"pickup_datetime_hour\": \"2024-09-21T13:00:00\", \"pickup_location_id\": 43.0, \"num_pickup\": 55.0}, {\"pickup_datetime_hour\": \"2024-09-21T14:00:00\", \"pickup_location_id\": 27.0, \"num_pickup\": 0.0}, {\"pickup_datetime_hour\": \"2024-09-21T14:00:00\", \"pickup_location_id\": 43.0, \"num_pickup\": 82.0}, {\"pickup_datetime_hour\": \"2024-09-21T15:00:00\", \"pickup_location_id\": 27.0, \"num_pickup\": 0.0}, {\"pickup_datetime_hour\": \"2024-09-21T15:00:00\", \"pickup_location_id\": 43.0, \"num_pickup\": 184.0}, {\"pickup_datetime_hour\": \"2024-09-21T16:00:00\", \"pickup_location_id\": 27.0, \"num_pickup\": 0.0}, {\"pickup_datetime_hour\": \"2024-09-21T16:00:00\", \"pickup_location_id\": 43.0, \"num_pickup\": 211.0}, {\"pickup_datetime_hour\": \"2024-09-21T17:00:00\", \"pickup_location_id\": 27.0, \"num_pickup\": 1.0}, {\"pickup_datetime_hour\": \"2024-09-21T17:00:00\", \"pickup_location_id\": 43.0, \"num_pickup\": 151.0}, {\"pickup_datetime_hour\": \"2024-09-21T18:00:00\", \"pickup_location_id\": 27.0, \"num_pickup\": 0.0}, {\"pickup_datetime_hour\": \"2024-09-21T18:00:00\", \"pickup_location_id\": 43.0, \"num_pickup\": 181.0}, {\"pickup_datetime_hour\": \"2024-09-21T19:00:00\", \"pickup_location_id\": 27.0, \"num_pickup\": 0.0}, {\"pickup_datetime_hour\": \"2024-09-21T19:00:00\", \"pickup_location_id\": 43.0, \"num_pickup\": 149.0}, {\"pickup_datetime_hour\": \"2024-09-21T20:00:00\", \"pickup_location_id\": 27.0, \"num_pickup\": 0.0}, {\"pickup_datetime_hour\": \"2024-09-21T20:00:00\", \"pickup_location_id\": 43.0, \"num_pickup\": 114.0}, {\"pickup_datetime_hour\": \"2024-09-21T21:00:00\", \"pickup_location_id\": 27.0, \"num_pickup\": 0.0}, {\"pickup_datetime_hour\": \"2024-09-21T21:00:00\", \"pickup_location_id\": 43.0, \"num_pickup\": 103.0}, {\"pickup_datetime_hour\": \"2024-09-21T22:00:00\", \"pickup_location_id\": 27.0, \"num_pickup\": 0.0}, {\"pickup_datetime_hour\": \"2024-09-21T22:00:00\", \"pickup_location_id\": 43.0, \"num_pickup\": 85.0}, {\"pickup_datetime_hour\": \"2024-09-21T23:00:00\", \"pickup_location_id\": 27.0, \"num_pickup\": 0.0}, {\"pickup_datetime_hour\": \"2024-09-21T23:00:00\", \"pickup_location_id\": 43.0, \"num_pickup\": 37.0}, {\"pickup_datetime_hour\": \"2024-09-22T00:00:00\", \"pickup_location_id\": 27.0, \"num_pickup\": 0.0}, {\"pickup_datetime_hour\": \"2024-09-22T00:00:00\", \"pickup_location_id\": 43.0, \"num_pickup\": 18.0}, {\"pickup_datetime_hour\": \"2024-09-22T01:00:00\", \"pickup_location_id\": 27.0, \"num_pickup\": 0.0}, {\"pickup_datetime_hour\": \"2024-09-22T01:00:00\", \"pickup_location_id\": 43.0, \"num_pickup\": 10.0}, {\"pickup_datetime_hour\": \"2024-09-22T02:00:00\", \"pickup_location_id\": 27.0, \"num_pickup\": 0.0}, {\"pickup_datetime_hour\": \"2024-09-22T02:00:00\", \"pickup_location_id\": 43.0, \"num_pickup\": 9.0}, {\"pickup_datetime_hour\": \"2024-09-22T03:00:00\", \"pickup_location_id\": 27.0, \"num_pickup\": 0.0}, {\"pickup_datetime_hour\": \"2024-09-22T03:00:00\", \"pickup_location_id\": 43.0, \"num_pickup\": 2.0}, {\"pickup_datetime_hour\": \"2024-09-22T04:00:00\", \"pickup_location_id\": 27.0, \"num_pickup\": 0.0}, {\"pickup_datetime_hour\": \"2024-09-22T04:00:00\", \"pickup_location_id\": 43.0, \"num_pickup\": 2.0}, {\"pickup_datetime_hour\": \"2024-09-22T05:00:00\", \"pickup_location_id\": 27.0, \"num_pickup\": 0.0}, {\"pickup_datetime_hour\": \"2024-09-22T05:00:00\", \"pickup_location_id\": 43.0, \"num_pickup\": 0.0}, {\"pickup_datetime_hour\": \"2024-09-22T06:00:00\", \"pickup_location_id\": 27.0, \"num_pickup\": 0.0}, {\"pickup_datetime_hour\": \"2024-09-22T06:00:00\", \"pickup_location_id\": 43.0, \"num_pickup\": 8.0}, {\"pickup_datetime_hour\": \"2024-09-22T07:00:00\", \"pickup_location_id\": 27.0, \"num_pickup\": 0.0}, {\"pickup_datetime_hour\": \"2024-09-22T07:00:00\", \"pickup_location_id\": 43.0, \"num_pickup\": 17.0}, {\"pickup_datetime_hour\": \"2024-09-22T08:00:00\", \"pickup_location_id\": 27.0, \"num_pickup\": 0.0}, {\"pickup_datetime_hour\": \"2024-09-22T08:00:00\", \"pickup_location_id\": 43.0, \"num_pickup\": 26.0}, {\"pickup_datetime_hour\": \"2024-09-22T09:00:00\", \"pickup_location_id\": 27.0, \"num_pickup\": 0.0}, {\"pickup_datetime_hour\": \"2024-09-22T09:00:00\", \"pickup_location_id\": 43.0, \"num_pickup\": 46.0}, {\"pickup_datetime_hour\": \"2024-09-22T10:00:00\", \"pickup_location_id\": 27.0, \"num_pickup\": 0.0}, {\"pickup_datetime_hour\": \"2024-09-22T10:00:00\", \"pickup_location_id\": 43.0, \"num_pickup\": 71.0}, {\"pickup_datetime_hour\": \"2024-09-22T11:00:00\", \"pickup_location_id\": 27.0, \"num_pickup\": 0.0}, {\"pickup_datetime_hour\": \"2024-09-22T11:00:00\", \"pickup_location_id\": 43.0, \"num_pickup\": 111.0}, {\"pickup_datetime_hour\": \"2024-09-22T12:00:00\", \"pickup_location_id\": 27.0, \"num_pickup\": 0.0}, {\"pickup_datetime_hour\": \"2024-09-22T12:00:00\", \"pickup_location_id\": 43.0, \"num_pickup\": 182.0}, {\"pickup_datetime_hour\": \"2024-09-22T13:00:00\", \"pickup_location_id\": 27.0, \"num_pickup\": 0.0}, {\"pickup_datetime_hour\": \"2024-09-22T13:00:00\", \"pickup_location_id\": 43.0, \"num_pickup\": 165.0}, {\"pickup_datetime_hour\": \"2024-09-22T14:00:00\", \"pickup_location_id\": 27.0, \"num_pickup\": 0.0}, {\"pickup_datetime_hour\": \"2024-09-22T14:00:00\", \"pickup_location_id\": 43.0, \"num_pickup\": 166.0}, {\"pickup_datetime_hour\": \"2024-09-22T15:00:00\", \"pickup_location_id\": 27.0, \"num_pickup\": 1.0}, {\"pickup_datetime_hour\": \"2024-09-22T15:00:00\", \"pickup_location_id\": 43.0, \"num_pickup\": 197.0}, {\"pickup_datetime_hour\": \"2024-09-22T16:00:00\", \"pickup_location_id\": 27.0, \"num_pickup\": 0.0}, {\"pickup_datetime_hour\": \"2024-09-22T16:00:00\", \"pickup_location_id\": 43.0, \"num_pickup\": 194.0}, {\"pickup_datetime_hour\": \"2024-09-22T17:00:00\", \"pickup_location_id\": 27.0, \"num_pickup\": 0.0}, {\"pickup_datetime_hour\": \"2024-09-22T17:00:00\", \"pickup_location_id\": 43.0, \"num_pickup\": 148.0}, {\"pickup_datetime_hour\": \"2024-09-22T18:00:00\", \"pickup_location_id\": 27.0, \"num_pickup\": 0.0}, {\"pickup_datetime_hour\": \"2024-09-22T18:00:00\", \"pickup_location_id\": 43.0, \"num_pickup\": 134.0}, {\"pickup_datetime_hour\": \"2024-09-22T19:00:00\", \"pickup_location_id\": 27.0, \"num_pickup\": 0.0}, {\"pickup_datetime_hour\": \"2024-09-22T19:00:00\", \"pickup_location_id\": 43.0, \"num_pickup\": 81.0}, {\"pickup_datetime_hour\": \"2024-09-22T20:00:00\", \"pickup_location_id\": 27.0, \"num_pickup\": 0.0}, {\"pickup_datetime_hour\": \"2024-09-22T20:00:00\", \"pickup_location_id\": 43.0, \"num_pickup\": 60.0}, {\"pickup_datetime_hour\": \"2024-09-22T21:00:00\", \"pickup_location_id\": 27.0, \"num_pickup\": 0.0}, {\"pickup_datetime_hour\": \"2024-09-22T21:00:00\", \"pickup_location_id\": 43.0, \"num_pickup\": 50.0}, {\"pickup_datetime_hour\": \"2024-09-22T22:00:00\", \"pickup_location_id\": 27.0, \"num_pickup\": 0.0}, {\"pickup_datetime_hour\": \"2024-09-22T22:00:00\", \"pickup_location_id\": 43.0, \"num_pickup\": 27.0}, {\"pickup_datetime_hour\": \"2024-09-22T23:00:00\", \"pickup_location_id\": 27.0, \"num_pickup\": 1.0}, {\"pickup_datetime_hour\": \"2024-09-22T23:00:00\", \"pickup_location_id\": 43.0, \"num_pickup\": 12.0}, {\"pickup_datetime_hour\": \"2024-09-23T00:00:00\", \"pickup_location_id\": 27.0, \"num_pickup\": 0.0}, {\"pickup_datetime_hour\": \"2024-09-23T00:00:00\", \"pickup_location_id\": 43.0, \"num_pickup\": 7.0}, {\"pickup_datetime_hour\": \"2024-09-23T01:00:00\", \"pickup_location_id\": 27.0, \"num_pickup\": 0.0}, {\"pickup_datetime_hour\": \"2024-09-23T01:00:00\", \"pickup_location_id\": 43.0, \"num_pickup\": 5.0}, {\"pickup_datetime_hour\": \"2024-09-23T02:00:00\", \"pickup_location_id\": 27.0, \"num_pickup\": 0.0}, {\"pickup_datetime_hour\": \"2024-09-23T02:00:00\", \"pickup_location_id\": 43.0, \"num_pickup\": 0.0}, {\"pickup_datetime_hour\": \"2024-09-23T03:00:00\", \"pickup_location_id\": 27.0, \"num_pickup\": 0.0}, {\"pickup_datetime_hour\": \"2024-09-23T03:00:00\", \"pickup_location_id\": 43.0, \"num_pickup\": 2.0}, {\"pickup_datetime_hour\": \"2024-09-23T04:00:00\", \"pickup_location_id\": 27.0, \"num_pickup\": 0.0}, {\"pickup_datetime_hour\": \"2024-09-23T04:00:00\", \"pickup_location_id\": 43.0, \"num_pickup\": 0.0}, {\"pickup_datetime_hour\": \"2024-09-23T05:00:00\", \"pickup_location_id\": 27.0, \"num_pickup\": 0.0}, {\"pickup_datetime_hour\": \"2024-09-23T05:00:00\", \"pickup_location_id\": 43.0, \"num_pickup\": 4.0}, {\"pickup_datetime_hour\": \"2024-09-23T06:00:00\", \"pickup_location_id\": 27.0, \"num_pickup\": 0.0}, {\"pickup_datetime_hour\": \"2024-09-23T06:00:00\", \"pickup_location_id\": 43.0, \"num_pickup\": 12.0}, {\"pickup_datetime_hour\": \"2024-09-23T07:00:00\", \"pickup_location_id\": 27.0, \"num_pickup\": 0.0}, {\"pickup_datetime_hour\": \"2024-09-23T07:00:00\", \"pickup_location_id\": 43.0, \"num_pickup\": 51.0}, {\"pickup_datetime_hour\": \"2024-09-23T08:00:00\", \"pickup_location_id\": 27.0, \"num_pickup\": 0.0}, {\"pickup_datetime_hour\": \"2024-09-23T08:00:00\", \"pickup_location_id\": 43.0, \"num_pickup\": 64.0}, {\"pickup_datetime_hour\": \"2024-09-23T09:00:00\", \"pickup_location_id\": 27.0, \"num_pickup\": 0.0}, {\"pickup_datetime_hour\": \"2024-09-23T09:00:00\", \"pickup_location_id\": 43.0, \"num_pickup\": 48.0}, {\"pickup_datetime_hour\": \"2024-09-23T10:00:00\", \"pickup_location_id\": 27.0, \"num_pickup\": 0.0}, {\"pickup_datetime_hour\": \"2024-09-23T10:00:00\", \"pickup_location_id\": 43.0, \"num_pickup\": 70.0}, {\"pickup_datetime_hour\": \"2024-09-23T11:00:00\", \"pickup_location_id\": 27.0, \"num_pickup\": 0.0}, {\"pickup_datetime_hour\": \"2024-09-23T11:00:00\", \"pickup_location_id\": 43.0, \"num_pickup\": 79.0}, {\"pickup_datetime_hour\": \"2024-09-23T12:00:00\", \"pickup_location_id\": 27.0, \"num_pickup\": 0.0}, {\"pickup_datetime_hour\": \"2024-09-23T12:00:00\", \"pickup_location_id\": 43.0, \"num_pickup\": 137.0}, {\"pickup_datetime_hour\": \"2024-09-23T13:00:00\", \"pickup_location_id\": 27.0, \"num_pickup\": 0.0}, {\"pickup_datetime_hour\": \"2024-09-23T13:00:00\", \"pickup_location_id\": 43.0, \"num_pickup\": 108.0}, {\"pickup_datetime_hour\": \"2024-09-23T14:00:00\", \"pickup_location_id\": 27.0, \"num_pickup\": 0.0}, {\"pickup_datetime_hour\": \"2024-09-23T14:00:00\", \"pickup_location_id\": 43.0, \"num_pickup\": 150.0}, {\"pickup_datetime_hour\": \"2024-09-23T15:00:00\", \"pickup_location_id\": 27.0, \"num_pickup\": 0.0}, {\"pickup_datetime_hour\": \"2024-09-23T15:00:00\", \"pickup_location_id\": 43.0, \"num_pickup\": 179.0}, {\"pickup_datetime_hour\": \"2024-09-23T16:00:00\", \"pickup_location_id\": 27.0, \"num_pickup\": 0.0}, {\"pickup_datetime_hour\": \"2024-09-23T16:00:00\", \"pickup_location_id\": 43.0, \"num_pickup\": 135.0}, {\"pickup_datetime_hour\": \"2024-09-23T17:00:00\", \"pickup_location_id\": 27.0, \"num_pickup\": 0.0}, {\"pickup_datetime_hour\": \"2024-09-23T17:00:00\", \"pickup_location_id\": 43.0, \"num_pickup\": 142.0}, {\"pickup_datetime_hour\": \"2024-09-23T18:00:00\", \"pickup_location_id\": 27.0, \"num_pickup\": 0.0}, {\"pickup_datetime_hour\": \"2024-09-23T18:00:00\", \"pickup_location_id\": 43.0, \"num_pickup\": 132.0}, {\"pickup_datetime_hour\": \"2024-09-23T19:00:00\", \"pickup_location_id\": 27.0, \"num_pickup\": 0.0}, {\"pickup_datetime_hour\": \"2024-09-23T19:00:00\", \"pickup_location_id\": 43.0, \"num_pickup\": 107.0}, {\"pickup_datetime_hour\": \"2024-09-23T20:00:00\", \"pickup_location_id\": 27.0, \"num_pickup\": 0.0}, {\"pickup_datetime_hour\": \"2024-09-23T20:00:00\", \"pickup_location_id\": 43.0, \"num_pickup\": 83.0}, {\"pickup_datetime_hour\": \"2024-09-23T21:00:00\", \"pickup_location_id\": 27.0, \"num_pickup\": 0.0}, {\"pickup_datetime_hour\": \"2024-09-23T21:00:00\", \"pickup_location_id\": 43.0, \"num_pickup\": 94.0}, {\"pickup_datetime_hour\": \"2024-09-23T22:00:00\", \"pickup_location_id\": 27.0, \"num_pickup\": 0.0}, {\"pickup_datetime_hour\": \"2024-09-23T22:00:00\", \"pickup_location_id\": 43.0, \"num_pickup\": 64.0}, {\"pickup_datetime_hour\": \"2024-09-23T23:00:00\", \"pickup_location_id\": 27.0, \"num_pickup\": 0.0}, {\"pickup_datetime_hour\": \"2024-09-23T23:00:00\", \"pickup_location_id\": 43.0, \"num_pickup\": 26.0}, {\"pickup_datetime_hour\": \"2024-09-24T00:00:00\", \"pickup_location_id\": 27.0, \"num_pickup\": 0.0}, {\"pickup_datetime_hour\": \"2024-09-24T00:00:00\", \"pickup_location_id\": 43.0, \"num_pickup\": 6.0}, {\"pickup_datetime_hour\": \"2024-09-24T01:00:00\", \"pickup_location_id\": 27.0, \"num_pickup\": 0.0}, {\"pickup_datetime_hour\": \"2024-09-24T01:00:00\", \"pickup_location_id\": 43.0, \"num_pickup\": 6.0}, {\"pickup_datetime_hour\": \"2024-09-24T02:00:00\", \"pickup_location_id\": 27.0, \"num_pickup\": 0.0}, {\"pickup_datetime_hour\": \"2024-09-24T02:00:00\", \"pickup_location_id\": 43.0, \"num_pickup\": 0.0}, {\"pickup_datetime_hour\": \"2024-09-24T03:00:00\", \"pickup_location_id\": 27.0, \"num_pickup\": 0.0}, {\"pickup_datetime_hour\": \"2024-09-24T03:00:00\", \"pickup_location_id\": 43.0, \"num_pickup\": 1.0}, {\"pickup_datetime_hour\": \"2024-09-24T04:00:00\", \"pickup_location_id\": 27.0, \"num_pickup\": 0.0}, {\"pickup_datetime_hour\": \"2024-09-24T04:00:00\", \"pickup_location_id\": 43.0, \"num_pickup\": 2.0}, {\"pickup_datetime_hour\": \"2024-09-24T05:00:00\", \"pickup_location_id\": 27.0, \"num_pickup\": 0.0}, {\"pickup_datetime_hour\": \"2024-09-24T05:00:00\", \"pickup_location_id\": 43.0, \"num_pickup\": 2.0}, {\"pickup_datetime_hour\": \"2024-09-24T06:00:00\", \"pickup_location_id\": 27.0, \"num_pickup\": 0.0}, {\"pickup_datetime_hour\": \"2024-09-24T06:00:00\", \"pickup_location_id\": 43.0, \"num_pickup\": 18.0}, {\"pickup_datetime_hour\": \"2024-09-24T07:00:00\", \"pickup_location_id\": 27.0, \"num_pickup\": 0.0}, {\"pickup_datetime_hour\": \"2024-09-24T07:00:00\", \"pickup_location_id\": 43.0, \"num_pickup\": 56.0}, {\"pickup_datetime_hour\": \"2024-09-24T08:00:00\", \"pickup_location_id\": 27.0, \"num_pickup\": 0.0}, {\"pickup_datetime_hour\": \"2024-09-24T08:00:00\", \"pickup_location_id\": 43.0, \"num_pickup\": 61.0}, {\"pickup_datetime_hour\": \"2024-09-24T09:00:00\", \"pickup_location_id\": 27.0, \"num_pickup\": 0.0}, {\"pickup_datetime_hour\": \"2024-09-24T09:00:00\", \"pickup_location_id\": 43.0, \"num_pickup\": 89.0}, {\"pickup_datetime_hour\": \"2024-09-24T10:00:00\", \"pickup_location_id\": 27.0, \"num_pickup\": 0.0}, {\"pickup_datetime_hour\": \"2024-09-24T10:00:00\", \"pickup_location_id\": 43.0, \"num_pickup\": 85.0}, {\"pickup_datetime_hour\": \"2024-09-24T11:00:00\", \"pickup_location_id\": 27.0, \"num_pickup\": 0.0}, {\"pickup_datetime_hour\": \"2024-09-24T11:00:00\", \"pickup_location_id\": 43.0, \"num_pickup\": 98.0}, {\"pickup_datetime_hour\": \"2024-09-24T12:00:00\", \"pickup_location_id\": 27.0, \"num_pickup\": 0.0}, {\"pickup_datetime_hour\": \"2024-09-24T12:00:00\", \"pickup_location_id\": 43.0, \"num_pickup\": 132.0}, {\"pickup_datetime_hour\": \"2024-09-24T13:00:00\", \"pickup_location_id\": 27.0, \"num_pickup\": 0.0}, {\"pickup_datetime_hour\": \"2024-09-24T13:00:00\", \"pickup_location_id\": 43.0, \"num_pickup\": 106.0}, {\"pickup_datetime_hour\": \"2024-09-24T14:00:00\", \"pickup_location_id\": 27.0, \"num_pickup\": 0.0}, {\"pickup_datetime_hour\": \"2024-09-24T14:00:00\", \"pickup_location_id\": 43.0, \"num_pickup\": 132.0}, {\"pickup_datetime_hour\": \"2024-09-24T15:00:00\", \"pickup_location_id\": 27.0, \"num_pickup\": 0.0}, {\"pickup_datetime_hour\": \"2024-09-24T15:00:00\", \"pickup_location_id\": 43.0, \"num_pickup\": 150.0}, {\"pickup_datetime_hour\": \"2024-09-24T16:00:00\", \"pickup_location_id\": 27.0, \"num_pickup\": 0.0}, {\"pickup_datetime_hour\": \"2024-09-24T16:00:00\", \"pickup_location_id\": 43.0, \"num_pickup\": 150.0}, {\"pickup_datetime_hour\": \"2024-09-24T17:00:00\", \"pickup_location_id\": 27.0, \"num_pickup\": 0.0}, {\"pickup_datetime_hour\": \"2024-09-24T17:00:00\", \"pickup_location_id\": 43.0, \"num_pickup\": 121.0}, {\"pickup_datetime_hour\": \"2024-09-24T18:00:00\", \"pickup_location_id\": 27.0, \"num_pickup\": 0.0}, {\"pickup_datetime_hour\": \"2024-09-24T18:00:00\", \"pickup_location_id\": 43.0, \"num_pickup\": 122.0}, {\"pickup_datetime_hour\": \"2024-09-24T19:00:00\", \"pickup_location_id\": 27.0, \"num_pickup\": 0.0}, {\"pickup_datetime_hour\": \"2024-09-24T19:00:00\", \"pickup_location_id\": 43.0, \"num_pickup\": 115.0}, {\"pickup_datetime_hour\": \"2024-09-24T20:00:00\", \"pickup_location_id\": 27.0, \"num_pickup\": 0.0}, {\"pickup_datetime_hour\": \"2024-09-24T20:00:00\", \"pickup_location_id\": 43.0, \"num_pickup\": 106.0}, {\"pickup_datetime_hour\": \"2024-09-24T21:00:00\", \"pickup_location_id\": 27.0, \"num_pickup\": 0.0}, {\"pickup_datetime_hour\": \"2024-09-24T21:00:00\", \"pickup_location_id\": 43.0, \"num_pickup\": 158.0}, {\"pickup_datetime_hour\": \"2024-09-24T22:00:00\", \"pickup_location_id\": 27.0, \"num_pickup\": 0.0}, {\"pickup_datetime_hour\": \"2024-09-24T22:00:00\", \"pickup_location_id\": 43.0, \"num_pickup\": 79.0}, {\"pickup_datetime_hour\": \"2024-09-24T23:00:00\", \"pickup_location_id\": 27.0, \"num_pickup\": 0.0}, {\"pickup_datetime_hour\": \"2024-09-24T23:00:00\", \"pickup_location_id\": 43.0, \"num_pickup\": 35.0}, {\"pickup_datetime_hour\": \"2024-09-25T00:00:00\", \"pickup_location_id\": 27.0, \"num_pickup\": 0.0}, {\"pickup_datetime_hour\": \"2024-09-25T00:00:00\", \"pickup_location_id\": 43.0, \"num_pickup\": 15.0}, {\"pickup_datetime_hour\": \"2024-09-25T01:00:00\", \"pickup_location_id\": 27.0, \"num_pickup\": 0.0}, {\"pickup_datetime_hour\": \"2024-09-25T01:00:00\", \"pickup_location_id\": 43.0, \"num_pickup\": 8.0}, {\"pickup_datetime_hour\": \"2024-09-25T02:00:00\", \"pickup_location_id\": 27.0, \"num_pickup\": 0.0}, {\"pickup_datetime_hour\": \"2024-09-25T02:00:00\", \"pickup_location_id\": 43.0, \"num_pickup\": 1.0}, {\"pickup_datetime_hour\": \"2024-09-25T03:00:00\", \"pickup_location_id\": 27.0, \"num_pickup\": 0.0}, {\"pickup_datetime_hour\": \"2024-09-25T03:00:00\", \"pickup_location_id\": 43.0, \"num_pickup\": 4.0}, {\"pickup_datetime_hour\": \"2024-09-25T04:00:00\", \"pickup_location_id\": 27.0, \"num_pickup\": 0.0}, {\"pickup_datetime_hour\": \"2024-09-25T04:00:00\", \"pickup_location_id\": 43.0, \"num_pickup\": 1.0}, {\"pickup_datetime_hour\": \"2024-09-25T05:00:00\", \"pickup_location_id\": 27.0, \"num_pickup\": 0.0}, {\"pickup_datetime_hour\": \"2024-09-25T05:00:00\", \"pickup_location_id\": 43.0, \"num_pickup\": 4.0}, {\"pickup_datetime_hour\": \"2024-09-25T06:00:00\", \"pickup_location_id\": 27.0, \"num_pickup\": 0.0}, {\"pickup_datetime_hour\": \"2024-09-25T06:00:00\", \"pickup_location_id\": 43.0, \"num_pickup\": 17.0}, {\"pickup_datetime_hour\": \"2024-09-25T07:00:00\", \"pickup_location_id\": 27.0, \"num_pickup\": 0.0}, {\"pickup_datetime_hour\": \"2024-09-25T07:00:00\", \"pickup_location_id\": 43.0, \"num_pickup\": 54.0}, {\"pickup_datetime_hour\": \"2024-09-25T08:00:00\", \"pickup_location_id\": 27.0, \"num_pickup\": 0.0}, {\"pickup_datetime_hour\": \"2024-09-25T08:00:00\", \"pickup_location_id\": 43.0, \"num_pickup\": 76.0}, {\"pickup_datetime_hour\": \"2024-09-25T09:00:00\", \"pickup_location_id\": 27.0, \"num_pickup\": 0.0}, {\"pickup_datetime_hour\": \"2024-09-25T09:00:00\", \"pickup_location_id\": 43.0, \"num_pickup\": 73.0}, {\"pickup_datetime_hour\": \"2024-09-25T10:00:00\", \"pickup_location_id\": 27.0, \"num_pickup\": 0.0}, {\"pickup_datetime_hour\": \"2024-09-25T10:00:00\", \"pickup_location_id\": 43.0, \"num_pickup\": 74.0}, {\"pickup_datetime_hour\": \"2024-09-25T11:00:00\", \"pickup_location_id\": 27.0, \"num_pickup\": 0.0}, {\"pickup_datetime_hour\": \"2024-09-25T11:00:00\", \"pickup_location_id\": 43.0, \"num_pickup\": 94.0}, {\"pickup_datetime_hour\": \"2024-09-25T12:00:00\", \"pickup_location_id\": 27.0, \"num_pickup\": 0.0}, {\"pickup_datetime_hour\": \"2024-09-25T12:00:00\", \"pickup_location_id\": 43.0, \"num_pickup\": 100.0}, {\"pickup_datetime_hour\": \"2024-09-25T13:00:00\", \"pickup_location_id\": 27.0, \"num_pickup\": 0.0}, {\"pickup_datetime_hour\": \"2024-09-25T13:00:00\", \"pickup_location_id\": 43.0, \"num_pickup\": 86.0}, {\"pickup_datetime_hour\": \"2024-09-25T14:00:00\", \"pickup_location_id\": 27.0, \"num_pickup\": 0.0}, {\"pickup_datetime_hour\": \"2024-09-25T14:00:00\", \"pickup_location_id\": 43.0, \"num_pickup\": 100.0}, {\"pickup_datetime_hour\": \"2024-09-25T15:00:00\", \"pickup_location_id\": 27.0, \"num_pickup\": 0.0}, {\"pickup_datetime_hour\": \"2024-09-25T15:00:00\", \"pickup_location_id\": 43.0, \"num_pickup\": 99.0}, {\"pickup_datetime_hour\": \"2024-09-25T16:00:00\", \"pickup_location_id\": 27.0, \"num_pickup\": 0.0}, {\"pickup_datetime_hour\": \"2024-09-25T16:00:00\", \"pickup_location_id\": 43.0, \"num_pickup\": 69.0}, {\"pickup_datetime_hour\": \"2024-09-25T17:00:00\", \"pickup_location_id\": 27.0, \"num_pickup\": 0.0}, {\"pickup_datetime_hour\": \"2024-09-25T17:00:00\", \"pickup_location_id\": 43.0, \"num_pickup\": 104.0}, {\"pickup_datetime_hour\": \"2024-09-25T18:00:00\", \"pickup_location_id\": 27.0, \"num_pickup\": 0.0}, {\"pickup_datetime_hour\": \"2024-09-25T18:00:00\", \"pickup_location_id\": 43.0, \"num_pickup\": 93.0}, {\"pickup_datetime_hour\": \"2024-09-25T19:00:00\", \"pickup_location_id\": 27.0, \"num_pickup\": 0.0}, {\"pickup_datetime_hour\": \"2024-09-25T19:00:00\", \"pickup_location_id\": 43.0, \"num_pickup\": 81.0}, {\"pickup_datetime_hour\": \"2024-09-25T20:00:00\", \"pickup_location_id\": 27.0, \"num_pickup\": 0.0}, {\"pickup_datetime_hour\": \"2024-09-25T20:00:00\", \"pickup_location_id\": 43.0, \"num_pickup\": 83.0}, {\"pickup_datetime_hour\": \"2024-09-25T21:00:00\", \"pickup_location_id\": 27.0, \"num_pickup\": 0.0}, {\"pickup_datetime_hour\": \"2024-09-25T21:00:00\", \"pickup_location_id\": 43.0, \"num_pickup\": 131.0}, {\"pickup_datetime_hour\": \"2024-09-25T22:00:00\", \"pickup_location_id\": 27.0, \"num_pickup\": 0.0}, {\"pickup_datetime_hour\": \"2024-09-25T22:00:00\", \"pickup_location_id\": 43.0, \"num_pickup\": 91.0}, {\"pickup_datetime_hour\": \"2024-09-25T23:00:00\", \"pickup_location_id\": 27.0, \"num_pickup\": 0.0}, {\"pickup_datetime_hour\": \"2024-09-25T23:00:00\", \"pickup_location_id\": 43.0, \"num_pickup\": 38.0}, {\"pickup_datetime_hour\": \"2024-09-26T00:00:00\", \"pickup_location_id\": 27.0, \"num_pickup\": 0.0}, {\"pickup_datetime_hour\": \"2024-09-26T00:00:00\", \"pickup_location_id\": 43.0, \"num_pickup\": 26.0}, {\"pickup_datetime_hour\": \"2024-09-26T01:00:00\", \"pickup_location_id\": 27.0, \"num_pickup\": 0.0}, {\"pickup_datetime_hour\": \"2024-09-26T01:00:00\", \"pickup_location_id\": 43.0, \"num_pickup\": 5.0}, {\"pickup_datetime_hour\": \"2024-09-26T02:00:00\", \"pickup_location_id\": 27.0, \"num_pickup\": 0.0}, {\"pickup_datetime_hour\": \"2024-09-26T02:00:00\", \"pickup_location_id\": 43.0, \"num_pickup\": 0.0}, {\"pickup_datetime_hour\": \"2024-09-26T03:00:00\", \"pickup_location_id\": 27.0, \"num_pickup\": 0.0}, {\"pickup_datetime_hour\": \"2024-09-26T03:00:00\", \"pickup_location_id\": 43.0, \"num_pickup\": 1.0}, {\"pickup_datetime_hour\": \"2024-09-26T04:00:00\", \"pickup_location_id\": 27.0, \"num_pickup\": 0.0}, {\"pickup_datetime_hour\": \"2024-09-26T04:00:00\", \"pickup_location_id\": 43.0, \"num_pickup\": 1.0}, {\"pickup_datetime_hour\": \"2024-09-26T05:00:00\", \"pickup_location_id\": 27.0, \"num_pickup\": 0.0}, {\"pickup_datetime_hour\": \"2024-09-26T05:00:00\", \"pickup_location_id\": 43.0, \"num_pickup\": 6.0}, {\"pickup_datetime_hour\": \"2024-09-26T06:00:00\", \"pickup_location_id\": 27.0, \"num_pickup\": 0.0}, {\"pickup_datetime_hour\": \"2024-09-26T06:00:00\", \"pickup_location_id\": 43.0, \"num_pickup\": 18.0}, {\"pickup_datetime_hour\": \"2024-09-26T07:00:00\", \"pickup_location_id\": 27.0, \"num_pickup\": 0.0}, {\"pickup_datetime_hour\": \"2024-09-26T07:00:00\", \"pickup_location_id\": 43.0, \"num_pickup\": 73.0}, {\"pickup_datetime_hour\": \"2024-09-26T08:00:00\", \"pickup_location_id\": 27.0, \"num_pickup\": 0.0}, {\"pickup_datetime_hour\": \"2024-09-26T08:00:00\", \"pickup_location_id\": 43.0, \"num_pickup\": 60.0}, {\"pickup_datetime_hour\": \"2024-09-26T09:00:00\", \"pickup_location_id\": 27.0, \"num_pickup\": 0.0}, {\"pickup_datetime_hour\": \"2024-09-26T09:00:00\", \"pickup_location_id\": 43.0, \"num_pickup\": 80.0}, {\"pickup_datetime_hour\": \"2024-09-26T10:00:00\", \"pickup_location_id\": 27.0, \"num_pickup\": 0.0}, {\"pickup_datetime_hour\": \"2024-09-26T10:00:00\", \"pickup_location_id\": 43.0, \"num_pickup\": 93.0}, {\"pickup_datetime_hour\": \"2024-09-26T11:00:00\", \"pickup_location_id\": 27.0, \"num_pickup\": 0.0}, {\"pickup_datetime_hour\": \"2024-09-26T11:00:00\", \"pickup_location_id\": 43.0, \"num_pickup\": 114.0}, {\"pickup_datetime_hour\": \"2024-09-26T12:00:00\", \"pickup_location_id\": 27.0, \"num_pickup\": 0.0}, {\"pickup_datetime_hour\": \"2024-09-26T12:00:00\", \"pickup_location_id\": 43.0, \"num_pickup\": 135.0}, {\"pickup_datetime_hour\": \"2024-09-26T13:00:00\", \"pickup_location_id\": 27.0, \"num_pickup\": 0.0}, {\"pickup_datetime_hour\": \"2024-09-26T13:00:00\", \"pickup_location_id\": 43.0, \"num_pickup\": 104.0}, {\"pickup_datetime_hour\": \"2024-09-26T14:00:00\", \"pickup_location_id\": 27.0, \"num_pickup\": 0.0}, {\"pickup_datetime_hour\": \"2024-09-26T14:00:00\", \"pickup_location_id\": 43.0, \"num_pickup\": 145.0}, {\"pickup_datetime_hour\": \"2024-09-26T15:00:00\", \"pickup_location_id\": 27.0, \"num_pickup\": 0.0}, {\"pickup_datetime_hour\": \"2024-09-26T15:00:00\", \"pickup_location_id\": 43.0, \"num_pickup\": 171.0}, {\"pickup_datetime_hour\": \"2024-09-26T16:00:00\", \"pickup_location_id\": 27.0, \"num_pickup\": 0.0}, {\"pickup_datetime_hour\": \"2024-09-26T16:00:00\", \"pickup_location_id\": 43.0, \"num_pickup\": 149.0}, {\"pickup_datetime_hour\": \"2024-09-26T17:00:00\", \"pickup_location_id\": 27.0, \"num_pickup\": 0.0}, {\"pickup_datetime_hour\": \"2024-09-26T17:00:00\", \"pickup_location_id\": 43.0, \"num_pickup\": 141.0}, {\"pickup_datetime_hour\": \"2024-09-26T18:00:00\", \"pickup_location_id\": 27.0, \"num_pickup\": 0.0}, {\"pickup_datetime_hour\": \"2024-09-26T18:00:00\", \"pickup_location_id\": 43.0, \"num_pickup\": 149.0}, {\"pickup_datetime_hour\": \"2024-09-26T19:00:00\", \"pickup_location_id\": 27.0, \"num_pickup\": 1.0}, {\"pickup_datetime_hour\": \"2024-09-26T19:00:00\", \"pickup_location_id\": 43.0, \"num_pickup\": 134.0}, {\"pickup_datetime_hour\": \"2024-09-26T20:00:00\", \"pickup_location_id\": 27.0, \"num_pickup\": 0.0}, {\"pickup_datetime_hour\": \"2024-09-26T20:00:00\", \"pickup_location_id\": 43.0, \"num_pickup\": 97.0}, {\"pickup_datetime_hour\": \"2024-09-26T21:00:00\", \"pickup_location_id\": 27.0, \"num_pickup\": 0.0}, {\"pickup_datetime_hour\": \"2024-09-26T21:00:00\", \"pickup_location_id\": 43.0, \"num_pickup\": 152.0}, {\"pickup_datetime_hour\": \"2024-09-26T22:00:00\", \"pickup_location_id\": 27.0, \"num_pickup\": 0.0}, {\"pickup_datetime_hour\": \"2024-09-26T22:00:00\", \"pickup_location_id\": 43.0, \"num_pickup\": 159.0}, {\"pickup_datetime_hour\": \"2024-09-26T23:00:00\", \"pickup_location_id\": 27.0, \"num_pickup\": 0.0}, {\"pickup_datetime_hour\": \"2024-09-26T23:00:00\", \"pickup_location_id\": 43.0, \"num_pickup\": 59.0}, {\"pickup_datetime_hour\": \"2024-09-27T00:00:00\", \"pickup_location_id\": 27.0, \"num_pickup\": 0.0}, {\"pickup_datetime_hour\": \"2024-09-27T00:00:00\", \"pickup_location_id\": 43.0, \"num_pickup\": 31.0}, {\"pickup_datetime_hour\": \"2024-09-27T01:00:00\", \"pickup_location_id\": 27.0, \"num_pickup\": 0.0}, {\"pickup_datetime_hour\": \"2024-09-27T01:00:00\", \"pickup_location_id\": 43.0, \"num_pickup\": 6.0}, {\"pickup_datetime_hour\": \"2024-09-27T02:00:00\", \"pickup_location_id\": 27.0, \"num_pickup\": 0.0}, {\"pickup_datetime_hour\": \"2024-09-27T02:00:00\", \"pickup_location_id\": 43.0, \"num_pickup\": 2.0}, {\"pickup_datetime_hour\": \"2024-09-27T03:00:00\", \"pickup_location_id\": 27.0, \"num_pickup\": 0.0}, {\"pickup_datetime_hour\": \"2024-09-27T03:00:00\", \"pickup_location_id\": 43.0, \"num_pickup\": 1.0}, {\"pickup_datetime_hour\": \"2024-09-27T04:00:00\", \"pickup_location_id\": 27.0, \"num_pickup\": 0.0}, {\"pickup_datetime_hour\": \"2024-09-27T04:00:00\", \"pickup_location_id\": 43.0, \"num_pickup\": 2.0}, {\"pickup_datetime_hour\": \"2024-09-27T05:00:00\", \"pickup_location_id\": 27.0, \"num_pickup\": 0.0}, {\"pickup_datetime_hour\": \"2024-09-27T05:00:00\", \"pickup_location_id\": 43.0, \"num_pickup\": 6.0}, {\"pickup_datetime_hour\": \"2024-09-27T06:00:00\", \"pickup_location_id\": 27.0, \"num_pickup\": 0.0}, {\"pickup_datetime_hour\": \"2024-09-27T06:00:00\", \"pickup_location_id\": 43.0, \"num_pickup\": 7.0}, {\"pickup_datetime_hour\": \"2024-09-27T07:00:00\", \"pickup_location_id\": 27.0, \"num_pickup\": 0.0}, {\"pickup_datetime_hour\": \"2024-09-27T07:00:00\", \"pickup_location_id\": 43.0, \"num_pickup\": 44.0}, {\"pickup_datetime_hour\": \"2024-09-27T08:00:00\", \"pickup_location_id\": 27.0, \"num_pickup\": 0.0}, {\"pickup_datetime_hour\": \"2024-09-27T08:00:00\", \"pickup_location_id\": 43.0, \"num_pickup\": 41.0}, {\"pickup_datetime_hour\": \"2024-09-27T09:00:00\", \"pickup_location_id\": 27.0, \"num_pickup\": 0.0}, {\"pickup_datetime_hour\": \"2024-09-27T09:00:00\", \"pickup_location_id\": 43.0, \"num_pickup\": 67.0}, {\"pickup_datetime_hour\": \"2024-09-27T10:00:00\", \"pickup_location_id\": 27.0, \"num_pickup\": 0.0}, {\"pickup_datetime_hour\": \"2024-09-27T10:00:00\", \"pickup_location_id\": 43.0, \"num_pickup\": 84.0}, {\"pickup_datetime_hour\": \"2024-09-27T11:00:00\", \"pickup_location_id\": 27.0, \"num_pickup\": 0.0}, {\"pickup_datetime_hour\": \"2024-09-27T11:00:00\", \"pickup_location_id\": 43.0, \"num_pickup\": 87.0}, {\"pickup_datetime_hour\": \"2024-09-27T12:00:00\", \"pickup_location_id\": 27.0, \"num_pickup\": 0.0}, {\"pickup_datetime_hour\": \"2024-09-27T12:00:00\", \"pickup_location_id\": 43.0, \"num_pickup\": 119.0}, {\"pickup_datetime_hour\": \"2024-09-27T13:00:00\", \"pickup_location_id\": 27.0, \"num_pickup\": 0.0}, {\"pickup_datetime_hour\": \"2024-09-27T13:00:00\", \"pickup_location_id\": 43.0, \"num_pickup\": 125.0}, {\"pickup_datetime_hour\": \"2024-09-27T14:00:00\", \"pickup_location_id\": 27.0, \"num_pickup\": 0.0}, {\"pickup_datetime_hour\": \"2024-09-27T14:00:00\", \"pickup_location_id\": 43.0, \"num_pickup\": 155.0}, {\"pickup_datetime_hour\": \"2024-09-27T15:00:00\", \"pickup_location_id\": 27.0, \"num_pickup\": 0.0}, {\"pickup_datetime_hour\": \"2024-09-27T15:00:00\", \"pickup_location_id\": 43.0, \"num_pickup\": 189.0}, {\"pickup_datetime_hour\": \"2024-09-27T16:00:00\", \"pickup_location_id\": 27.0, \"num_pickup\": 0.0}, {\"pickup_datetime_hour\": \"2024-09-27T16:00:00\", \"pickup_location_id\": 43.0, \"num_pickup\": 165.0}, {\"pickup_datetime_hour\": \"2024-09-27T17:00:00\", \"pickup_location_id\": 27.0, \"num_pickup\": 0.0}, {\"pickup_datetime_hour\": \"2024-09-27T17:00:00\", \"pickup_location_id\": 43.0, \"num_pickup\": 165.0}, {\"pickup_datetime_hour\": \"2024-09-27T18:00:00\", \"pickup_location_id\": 27.0, \"num_pickup\": 0.0}, {\"pickup_datetime_hour\": \"2024-09-27T18:00:00\", \"pickup_location_id\": 43.0, \"num_pickup\": 177.0}, {\"pickup_datetime_hour\": \"2024-09-27T19:00:00\", \"pickup_location_id\": 27.0, \"num_pickup\": 0.0}, {\"pickup_datetime_hour\": \"2024-09-27T19:00:00\", \"pickup_location_id\": 43.0, \"num_pickup\": 144.0}, {\"pickup_datetime_hour\": \"2024-09-27T20:00:00\", \"pickup_location_id\": 27.0, \"num_pickup\": 0.0}, {\"pickup_datetime_hour\": \"2024-09-27T20:00:00\", \"pickup_location_id\": 43.0, \"num_pickup\": 104.0}, {\"pickup_datetime_hour\": \"2024-09-27T21:00:00\", \"pickup_location_id\": 27.0, \"num_pickup\": 0.0}, {\"pickup_datetime_hour\": \"2024-09-27T21:00:00\", \"pickup_location_id\": 43.0, \"num_pickup\": 110.0}, {\"pickup_datetime_hour\": \"2024-09-27T22:00:00\", \"pickup_location_id\": 27.0, \"num_pickup\": 0.0}, {\"pickup_datetime_hour\": \"2024-09-27T22:00:00\", \"pickup_location_id\": 43.0, \"num_pickup\": 93.0}, {\"pickup_datetime_hour\": \"2024-09-27T23:00:00\", \"pickup_location_id\": 27.0, \"num_pickup\": 0.0}, {\"pickup_datetime_hour\": \"2024-09-27T23:00:00\", \"pickup_location_id\": 43.0, \"num_pickup\": 57.0}, {\"pickup_datetime_hour\": \"2024-09-28T00:00:00\", \"pickup_location_id\": 27.0, \"num_pickup\": 0.0}, {\"pickup_datetime_hour\": \"2024-09-28T00:00:00\", \"pickup_location_id\": 43.0, \"num_pickup\": 55.0}, {\"pickup_datetime_hour\": \"2024-09-28T01:00:00\", \"pickup_location_id\": 27.0, \"num_pickup\": 0.0}, {\"pickup_datetime_hour\": \"2024-09-28T01:00:00\", \"pickup_location_id\": 43.0, \"num_pickup\": 17.0}, {\"pickup_datetime_hour\": \"2024-09-28T02:00:00\", \"pickup_location_id\": 27.0, \"num_pickup\": 0.0}, {\"pickup_datetime_hour\": \"2024-09-28T02:00:00\", \"pickup_location_id\": 43.0, \"num_pickup\": 8.0}, {\"pickup_datetime_hour\": \"2024-09-28T03:00:00\", \"pickup_location_id\": 27.0, \"num_pickup\": 0.0}, {\"pickup_datetime_hour\": \"2024-09-28T03:00:00\", \"pickup_location_id\": 43.0, \"num_pickup\": 5.0}, {\"pickup_datetime_hour\": \"2024-09-28T04:00:00\", \"pickup_location_id\": 27.0, \"num_pickup\": 0.0}, {\"pickup_datetime_hour\": \"2024-09-28T04:00:00\", \"pickup_location_id\": 43.0, \"num_pickup\": 1.0}, {\"pickup_datetime_hour\": \"2024-09-28T05:00:00\", \"pickup_location_id\": 27.0, \"num_pickup\": 0.0}, {\"pickup_datetime_hour\": \"2024-09-28T05:00:00\", \"pickup_location_id\": 43.0, \"num_pickup\": 5.0}, {\"pickup_datetime_hour\": \"2024-09-28T06:00:00\", \"pickup_location_id\": 27.0, \"num_pickup\": 0.0}, {\"pickup_datetime_hour\": \"2024-09-28T06:00:00\", \"pickup_location_id\": 43.0, \"num_pickup\": 9.0}, {\"pickup_datetime_hour\": \"2024-09-28T07:00:00\", \"pickup_location_id\": 27.0, \"num_pickup\": 0.0}, {\"pickup_datetime_hour\": \"2024-09-28T07:00:00\", \"pickup_location_id\": 43.0, \"num_pickup\": 17.0}, {\"pickup_datetime_hour\": \"2024-09-28T08:00:00\", \"pickup_location_id\": 27.0, \"num_pickup\": 0.0}, {\"pickup_datetime_hour\": \"2024-09-28T08:00:00\", \"pickup_location_id\": 43.0, \"num_pickup\": 26.0}, {\"pickup_datetime_hour\": \"2024-09-28T09:00:00\", \"pickup_location_id\": 27.0, \"num_pickup\": 0.0}, {\"pickup_datetime_hour\": \"2024-09-28T09:00:00\", \"pickup_location_id\": 43.0, \"num_pickup\": 44.0}, {\"pickup_datetime_hour\": \"2024-09-28T10:00:00\", \"pickup_location_id\": 27.0, \"num_pickup\": 0.0}, {\"pickup_datetime_hour\": \"2024-09-28T10:00:00\", \"pickup_location_id\": 43.0, \"num_pickup\": 82.0}, {\"pickup_datetime_hour\": \"2024-09-28T11:00:00\", \"pickup_location_id\": 27.0, \"num_pickup\": 0.0}, {\"pickup_datetime_hour\": \"2024-09-28T11:00:00\", \"pickup_location_id\": 43.0, \"num_pickup\": 106.0}, {\"pickup_datetime_hour\": \"2024-09-28T12:00:00\", \"pickup_location_id\": 27.0, \"num_pickup\": 0.0}, {\"pickup_datetime_hour\": \"2024-09-28T12:00:00\", \"pickup_location_id\": 43.0, \"num_pickup\": 157.0}, {\"pickup_datetime_hour\": \"2024-09-28T13:00:00\", \"pickup_location_id\": 27.0, \"num_pickup\": 0.0}, {\"pickup_datetime_hour\": \"2024-09-28T13:00:00\", \"pickup_location_id\": 43.0, \"num_pickup\": 202.0}, {\"pickup_datetime_hour\": \"2024-09-28T14:00:00\", \"pickup_location_id\": 27.0, \"num_pickup\": 0.0}, {\"pickup_datetime_hour\": \"2024-09-28T14:00:00\", \"pickup_location_id\": 43.0, \"num_pickup\": 208.0}, {\"pickup_datetime_hour\": \"2024-09-28T15:00:00\", \"pickup_location_id\": 27.0, \"num_pickup\": 0.0}, {\"pickup_datetime_hour\": \"2024-09-28T15:00:00\", \"pickup_location_id\": 43.0, \"num_pickup\": 246.0}, {\"pickup_datetime_hour\": \"2024-09-28T16:00:00\", \"pickup_location_id\": 27.0, \"num_pickup\": 0.0}, {\"pickup_datetime_hour\": \"2024-09-28T16:00:00\", \"pickup_location_id\": 43.0, \"num_pickup\": 223.0}, {\"pickup_datetime_hour\": \"2024-09-28T17:00:00\", \"pickup_location_id\": 27.0, \"num_pickup\": 0.0}, {\"pickup_datetime_hour\": \"2024-09-28T17:00:00\", \"pickup_location_id\": 43.0, \"num_pickup\": 197.0}, {\"pickup_datetime_hour\": \"2024-09-28T18:00:00\", \"pickup_location_id\": 27.0, \"num_pickup\": 0.0}, {\"pickup_datetime_hour\": \"2024-09-28T18:00:00\", \"pickup_location_id\": 43.0, \"num_pickup\": 198.0}, {\"pickup_datetime_hour\": \"2024-09-28T19:00:00\", \"pickup_location_id\": 27.0, \"num_pickup\": 0.0}, {\"pickup_datetime_hour\": \"2024-09-28T19:00:00\", \"pickup_location_id\": 43.0, \"num_pickup\": 161.0}, {\"pickup_datetime_hour\": \"2024-09-28T20:00:00\", \"pickup_location_id\": 27.0, \"num_pickup\": 0.0}, {\"pickup_datetime_hour\": \"2024-09-28T20:00:00\", \"pickup_location_id\": 43.0, \"num_pickup\": 151.0}, {\"pickup_datetime_hour\": \"2024-09-28T21:00:00\", \"pickup_location_id\": 27.0, \"num_pickup\": 0.0}, {\"pickup_datetime_hour\": \"2024-09-28T21:00:00\", \"pickup_location_id\": 43.0, \"num_pickup\": 171.0}, {\"pickup_datetime_hour\": \"2024-09-28T22:00:00\", \"pickup_location_id\": 27.0, \"num_pickup\": 0.0}, {\"pickup_datetime_hour\": \"2024-09-28T22:00:00\", \"pickup_location_id\": 43.0, \"num_pickup\": 158.0}, {\"pickup_datetime_hour\": \"2024-09-28T23:00:00\", \"pickup_location_id\": 27.0, \"num_pickup\": 0.0}, {\"pickup_datetime_hour\": \"2024-09-28T23:00:00\", \"pickup_location_id\": 43.0, \"num_pickup\": 58.0}, {\"pickup_datetime_hour\": \"2024-09-29T00:00:00\", \"pickup_location_id\": 27.0, \"num_pickup\": 0.0}, {\"pickup_datetime_hour\": \"2024-09-29T00:00:00\", \"pickup_location_id\": 43.0, \"num_pickup\": 13.0}, {\"pickup_datetime_hour\": \"2024-09-29T01:00:00\", \"pickup_location_id\": 27.0, \"num_pickup\": 0.0}, {\"pickup_datetime_hour\": \"2024-09-29T01:00:00\", \"pickup_location_id\": 43.0, \"num_pickup\": 9.0}, {\"pickup_datetime_hour\": \"2024-09-29T02:00:00\", \"pickup_location_id\": 27.0, \"num_pickup\": 0.0}, {\"pickup_datetime_hour\": \"2024-09-29T02:00:00\", \"pickup_location_id\": 43.0, \"num_pickup\": 4.0}, {\"pickup_datetime_hour\": \"2024-09-29T03:00:00\", \"pickup_location_id\": 27.0, \"num_pickup\": 0.0}, {\"pickup_datetime_hour\": \"2024-09-29T03:00:00\", \"pickup_location_id\": 43.0, \"num_pickup\": 4.0}, {\"pickup_datetime_hour\": \"2024-09-29T04:00:00\", \"pickup_location_id\": 27.0, \"num_pickup\": 0.0}, {\"pickup_datetime_hour\": \"2024-09-29T04:00:00\", \"pickup_location_id\": 43.0, \"num_pickup\": 3.0}, {\"pickup_datetime_hour\": \"2024-09-29T05:00:00\", \"pickup_location_id\": 27.0, \"num_pickup\": 0.0}, {\"pickup_datetime_hour\": \"2024-09-29T05:00:00\", \"pickup_location_id\": 43.0, \"num_pickup\": 2.0}, {\"pickup_datetime_hour\": \"2024-09-29T06:00:00\", \"pickup_location_id\": 27.0, \"num_pickup\": 0.0}, {\"pickup_datetime_hour\": \"2024-09-29T06:00:00\", \"pickup_location_id\": 43.0, \"num_pickup\": 8.0}, {\"pickup_datetime_hour\": \"2024-09-29T07:00:00\", \"pickup_location_id\": 27.0, \"num_pickup\": 0.0}, {\"pickup_datetime_hour\": \"2024-09-29T07:00:00\", \"pickup_location_id\": 43.0, \"num_pickup\": 17.0}, {\"pickup_datetime_hour\": \"2024-09-29T08:00:00\", \"pickup_location_id\": 27.0, \"num_pickup\": 0.0}, {\"pickup_datetime_hour\": \"2024-09-29T08:00:00\", \"pickup_location_id\": 43.0, \"num_pickup\": 23.0}, {\"pickup_datetime_hour\": \"2024-09-29T09:00:00\", \"pickup_location_id\": 27.0, \"num_pickup\": 0.0}, {\"pickup_datetime_hour\": \"2024-09-29T09:00:00\", \"pickup_location_id\": 43.0, \"num_pickup\": 65.0}, {\"pickup_datetime_hour\": \"2024-09-29T10:00:00\", \"pickup_location_id\": 27.0, \"num_pickup\": 0.0}, {\"pickup_datetime_hour\": \"2024-09-29T10:00:00\", \"pickup_location_id\": 43.0, \"num_pickup\": 69.0}, {\"pickup_datetime_hour\": \"2024-09-29T11:00:00\", \"pickup_location_id\": 27.0, \"num_pickup\": 0.0}, {\"pickup_datetime_hour\": \"2024-09-29T11:00:00\", \"pickup_location_id\": 43.0, \"num_pickup\": 104.0}, {\"pickup_datetime_hour\": \"2024-09-29T12:00:00\", \"pickup_location_id\": 27.0, \"num_pickup\": 0.0}, {\"pickup_datetime_hour\": \"2024-09-29T12:00:00\", \"pickup_location_id\": 43.0, \"num_pickup\": 143.0}, {\"pickup_datetime_hour\": \"2024-09-29T13:00:00\", \"pickup_location_id\": 27.0, \"num_pickup\": 0.0}, {\"pickup_datetime_hour\": \"2024-09-29T13:00:00\", \"pickup_location_id\": 43.0, \"num_pickup\": 162.0}, {\"pickup_datetime_hour\": \"2024-09-29T14:00:00\", \"pickup_location_id\": 27.0, \"num_pickup\": 0.0}, {\"pickup_datetime_hour\": \"2024-09-29T14:00:00\", \"pickup_location_id\": 43.0, \"num_pickup\": 178.0}, {\"pickup_datetime_hour\": \"2024-09-29T15:00:00\", \"pickup_location_id\": 27.0, \"num_pickup\": 0.0}, {\"pickup_datetime_hour\": \"2024-09-29T15:00:00\", \"pickup_location_id\": 43.0, \"num_pickup\": 216.0}, {\"pickup_datetime_hour\": \"2024-09-29T16:00:00\", \"pickup_location_id\": 27.0, \"num_pickup\": 0.0}, {\"pickup_datetime_hour\": \"2024-09-29T16:00:00\", \"pickup_location_id\": 43.0, \"num_pickup\": 171.0}, {\"pickup_datetime_hour\": \"2024-09-29T17:00:00\", \"pickup_location_id\": 27.0, \"num_pickup\": 0.0}, {\"pickup_datetime_hour\": \"2024-09-29T17:00:00\", \"pickup_location_id\": 43.0, \"num_pickup\": 133.0}, {\"pickup_datetime_hour\": \"2024-09-29T18:00:00\", \"pickup_location_id\": 27.0, \"num_pickup\": 0.0}, {\"pickup_datetime_hour\": \"2024-09-29T18:00:00\", \"pickup_location_id\": 43.0, \"num_pickup\": 78.0}, {\"pickup_datetime_hour\": \"2024-09-29T19:00:00\", \"pickup_location_id\": 27.0, \"num_pickup\": 0.0}, {\"pickup_datetime_hour\": \"2024-09-29T19:00:00\", \"pickup_location_id\": 43.0, \"num_pickup\": 46.0}, {\"pickup_datetime_hour\": \"2024-09-29T20:00:00\", \"pickup_location_id\": 27.0, \"num_pickup\": 0.0}, {\"pickup_datetime_hour\": \"2024-09-29T20:00:00\", \"pickup_location_id\": 43.0, \"num_pickup\": 31.0}, {\"pickup_datetime_hour\": \"2024-09-29T21:00:00\", \"pickup_location_id\": 27.0, \"num_pickup\": 0.0}, {\"pickup_datetime_hour\": \"2024-09-29T21:00:00\", \"pickup_location_id\": 43.0, \"num_pickup\": 36.0}, {\"pickup_datetime_hour\": \"2024-09-29T22:00:00\", \"pickup_location_id\": 27.0, \"num_pickup\": 0.0}, {\"pickup_datetime_hour\": \"2024-09-29T22:00:00\", \"pickup_location_id\": 43.0, \"num_pickup\": 19.0}, {\"pickup_datetime_hour\": \"2024-09-29T23:00:00\", \"pickup_location_id\": 27.0, \"num_pickup\": 0.0}, {\"pickup_datetime_hour\": \"2024-09-29T23:00:00\", \"pickup_location_id\": 43.0, \"num_pickup\": 9.0}, {\"pickup_datetime_hour\": \"2024-09-30T00:00:00\", \"pickup_location_id\": 27.0, \"num_pickup\": 0.0}, {\"pickup_datetime_hour\": \"2024-09-30T00:00:00\", \"pickup_location_id\": 43.0, \"num_pickup\": 2.0}, {\"pickup_datetime_hour\": \"2024-09-30T01:00:00\", \"pickup_location_id\": 27.0, \"num_pickup\": 0.0}, {\"pickup_datetime_hour\": \"2024-09-30T01:00:00\", \"pickup_location_id\": 43.0, \"num_pickup\": 2.0}, {\"pickup_datetime_hour\": \"2024-09-30T02:00:00\", \"pickup_location_id\": 27.0, \"num_pickup\": 0.0}, {\"pickup_datetime_hour\": \"2024-09-30T02:00:00\", \"pickup_location_id\": 43.0, \"num_pickup\": 1.0}, {\"pickup_datetime_hour\": \"2024-09-30T03:00:00\", \"pickup_location_id\": 27.0, \"num_pickup\": 0.0}, {\"pickup_datetime_hour\": \"2024-09-30T03:00:00\", \"pickup_location_id\": 43.0, \"num_pickup\": 0.0}, {\"pickup_datetime_hour\": \"2024-09-30T04:00:00\", \"pickup_location_id\": 27.0, \"num_pickup\": 0.0}, {\"pickup_datetime_hour\": \"2024-09-30T04:00:00\", \"pickup_location_id\": 43.0, \"num_pickup\": 0.0}, {\"pickup_datetime_hour\": \"2024-09-30T05:00:00\", \"pickup_location_id\": 27.0, \"num_pickup\": 0.0}, {\"pickup_datetime_hour\": \"2024-09-30T05:00:00\", \"pickup_location_id\": 43.0, \"num_pickup\": 4.0}, {\"pickup_datetime_hour\": \"2024-09-30T06:00:00\", \"pickup_location_id\": 27.0, \"num_pickup\": 0.0}, {\"pickup_datetime_hour\": \"2024-09-30T06:00:00\", \"pickup_location_id\": 43.0, \"num_pickup\": 13.0}, {\"pickup_datetime_hour\": \"2024-09-30T07:00:00\", \"pickup_location_id\": 27.0, \"num_pickup\": 0.0}, {\"pickup_datetime_hour\": \"2024-09-30T07:00:00\", \"pickup_location_id\": 43.0, \"num_pickup\": 44.0}, {\"pickup_datetime_hour\": \"2024-09-30T08:00:00\", \"pickup_location_id\": 27.0, \"num_pickup\": 0.0}, {\"pickup_datetime_hour\": \"2024-09-30T08:00:00\", \"pickup_location_id\": 43.0, \"num_pickup\": 42.0}, {\"pickup_datetime_hour\": \"2024-09-30T09:00:00\", \"pickup_location_id\": 27.0, \"num_pickup\": 0.0}, {\"pickup_datetime_hour\": \"2024-09-30T09:00:00\", \"pickup_location_id\": 43.0, \"num_pickup\": 54.0}, {\"pickup_datetime_hour\": \"2024-09-30T10:00:00\", \"pickup_location_id\": 27.0, \"num_pickup\": 0.0}, {\"pickup_datetime_hour\": \"2024-09-30T10:00:00\", \"pickup_location_id\": 43.0, \"num_pickup\": 97.0}, {\"pickup_datetime_hour\": \"2024-09-30T11:00:00\", \"pickup_location_id\": 27.0, \"num_pickup\": 0.0}, {\"pickup_datetime_hour\": \"2024-09-30T11:00:00\", \"pickup_location_id\": 43.0, \"num_pickup\": 90.0}, {\"pickup_datetime_hour\": \"2024-09-30T12:00:00\", \"pickup_location_id\": 27.0, \"num_pickup\": 0.0}, {\"pickup_datetime_hour\": \"2024-09-30T12:00:00\", \"pickup_location_id\": 43.0, \"num_pickup\": 124.0}, {\"pickup_datetime_hour\": \"2024-09-30T13:00:00\", \"pickup_location_id\": 27.0, \"num_pickup\": 0.0}, {\"pickup_datetime_hour\": \"2024-09-30T13:00:00\", \"pickup_location_id\": 43.0, \"num_pickup\": 126.0}, {\"pickup_datetime_hour\": \"2024-09-30T14:00:00\", \"pickup_location_id\": 27.0, \"num_pickup\": 0.0}, {\"pickup_datetime_hour\": \"2024-09-30T14:00:00\", \"pickup_location_id\": 43.0, \"num_pickup\": 159.0}, {\"pickup_datetime_hour\": \"2024-09-30T15:00:00\", \"pickup_location_id\": 27.0, \"num_pickup\": 0.0}, {\"pickup_datetime_hour\": \"2024-09-30T15:00:00\", \"pickup_location_id\": 43.0, \"num_pickup\": 190.0}, {\"pickup_datetime_hour\": \"2024-09-30T16:00:00\", \"pickup_location_id\": 27.0, \"num_pickup\": 0.0}, {\"pickup_datetime_hour\": \"2024-09-30T16:00:00\", \"pickup_location_id\": 43.0, \"num_pickup\": 175.0}, {\"pickup_datetime_hour\": \"2024-09-30T17:00:00\", \"pickup_location_id\": 27.0, \"num_pickup\": 0.0}, {\"pickup_datetime_hour\": \"2024-09-30T17:00:00\", \"pickup_location_id\": 43.0, \"num_pickup\": 114.0}, {\"pickup_datetime_hour\": \"2024-09-30T18:00:00\", \"pickup_location_id\": 27.0, \"num_pickup\": 0.0}, {\"pickup_datetime_hour\": \"2024-09-30T18:00:00\", \"pickup_location_id\": 43.0, \"num_pickup\": 110.0}, {\"pickup_datetime_hour\": \"2024-09-30T19:00:00\", \"pickup_location_id\": 27.0, \"num_pickup\": 0.0}, {\"pickup_datetime_hour\": \"2024-09-30T19:00:00\", \"pickup_location_id\": 43.0, \"num_pickup\": 129.0}, {\"pickup_datetime_hour\": \"2024-09-30T20:00:00\", \"pickup_location_id\": 27.0, \"num_pickup\": 0.0}, {\"pickup_datetime_hour\": \"2024-09-30T20:00:00\", \"pickup_location_id\": 43.0, \"num_pickup\": 112.0}, {\"pickup_datetime_hour\": \"2024-09-30T21:00:00\", \"pickup_location_id\": 27.0, \"num_pickup\": 0.0}, {\"pickup_datetime_hour\": \"2024-09-30T21:00:00\", \"pickup_location_id\": 43.0, \"num_pickup\": 62.0}, {\"pickup_datetime_hour\": \"2024-09-30T22:00:00\", \"pickup_location_id\": 27.0, \"num_pickup\": 0.0}, {\"pickup_datetime_hour\": \"2024-09-30T22:00:00\", \"pickup_location_id\": 43.0, \"num_pickup\": 34.0}, {\"pickup_datetime_hour\": \"2024-09-30T23:00:00\", \"pickup_location_id\": 27.0, \"num_pickup\": 0.0}, {\"pickup_datetime_hour\": \"2024-09-30T23:00:00\", \"pickup_location_id\": 43.0, \"num_pickup\": 9.0}, {\"pickup_datetime_hour\": \"2024-10-01T00:00:00\", \"pickup_location_id\": 27.0, \"num_pickup\": 0.0}, {\"pickup_datetime_hour\": \"2024-10-01T00:00:00\", \"pickup_location_id\": 43.0, \"num_pickup\": 9.0}, {\"pickup_datetime_hour\": \"2024-10-01T01:00:00\", \"pickup_location_id\": 27.0, \"num_pickup\": 0.0}, {\"pickup_datetime_hour\": \"2024-10-01T01:00:00\", \"pickup_location_id\": 43.0, \"num_pickup\": 9.0}, {\"pickup_datetime_hour\": \"2024-10-01T02:00:00\", \"pickup_location_id\": 27.0, \"num_pickup\": 0.0}, {\"pickup_datetime_hour\": \"2024-10-01T02:00:00\", \"pickup_location_id\": 43.0, \"num_pickup\": 9.0}, {\"pickup_datetime_hour\": \"2024-10-01T03:00:00\", \"pickup_location_id\": 27.0, \"num_pickup\": 0.0}, {\"pickup_datetime_hour\": \"2024-10-01T03:00:00\", \"pickup_location_id\": 43.0, \"num_pickup\": 9.0}, {\"pickup_datetime_hour\": \"2024-10-01T04:00:00\", \"pickup_location_id\": 27.0, \"num_pickup\": 0.0}, {\"pickup_datetime_hour\": \"2024-10-01T04:00:00\", \"pickup_location_id\": 43.0, \"num_pickup\": 9.0}, {\"pickup_datetime_hour\": \"2024-10-01T05:00:00\", \"pickup_location_id\": 27.0, \"num_pickup\": 0.0}, {\"pickup_datetime_hour\": \"2024-10-01T05:00:00\", \"pickup_location_id\": 43.0, \"num_pickup\": 9.0}, {\"pickup_datetime_hour\": \"2024-10-01T06:00:00\", \"pickup_location_id\": 27.0, \"num_pickup\": 0.0}, {\"pickup_datetime_hour\": \"2024-10-01T06:00:00\", \"pickup_location_id\": 43.0, \"num_pickup\": 9.0}]}}, {\"mode\": \"vega-lite\"});\n",
       "</script>"
      ],
      "text/plain": [
       "alt.Chart(...)"
      ]
     },
     "execution_count": 13,
     "metadata": {},
     "output_type": "execute_result"
    }
   ],
   "source": [
    "\n",
    "def predict(df: pl.DataFrame, n_lags:list[int], unique_id:str, target:str, ds:str, freq:str):\n",
    "    \"\"\"Implement a 1-step ahead forecast. The to take into account\n",
    "    that pipeline uses lags value of the target, we first add one more row equal to\n",
    "    the next prediction before calculating the lags. In addition, since\n",
    "    the model needs to use lags, it filters the first data points where it's not possible\n",
    "    to compute prediction.\n",
    "    \n",
    "\n",
    "    Args:\n",
    "        df (pl.DataFrame): _description_\n",
    "        n_lags (list[int]): _description_\n",
    "        unique_id (str): _description_\n",
    "        target (str): _description_\n",
    "        ds (str): _description_\n",
    "        freq (str): _description_\n",
    "\n",
    "    Returns:\n",
    "        _type_: _description_\n",
    "    \"\"\"\n",
    "    \n",
    "    input_col = df.columns\n",
    "       \n",
    "    # extend the dataframe\n",
    "    forecast =(\n",
    "        df\n",
    "        .group_by(unique_id)\n",
    "        .agg(\n",
    "            pl.col(ds).max().dt.offset_by(freq)\n",
    "        )\n",
    "        .with_columns(\n",
    "            pl.lit(None).alias(target)\n",
    "        )\n",
    "        .select(input_col)\n",
    "    )\n",
    "    \n",
    "    # TODO | BUG | 2024-12-11 | freq and max lag relation\n",
    "    # ideally the offset should be max_lag * freq, there shouldn't be\n",
    "    # problems for single digit frequency (1d, 1h) but for every other\n",
    "    # frequency type (say 1d1w), this give wrong values\n",
    "    \n",
    "    # calculate the date from which we can calculate predictions\n",
    "    max_lag = max(n_lags) \n",
    "    cutoff_offset = f\"{max_lag}{freq[-1]}\"\n",
    "    cutt_off_date = (\n",
    "        df\n",
    "        .group_by(\n",
    "            unique_id\n",
    "        )\n",
    "        .agg(\n",
    "            cutoff_from = pl.col(ds).min().dt.offset_by(cutoff_offset)\n",
    "        )\n",
    "    )\n",
    "\n",
    "\n",
    "    return (\n",
    "        df \n",
    "        .vstack(forecast)\n",
    "        .pipe(get_time_lags, n_lags, target, ds, unique_id, False)  \n",
    "        .join(cutt_off_date, on=[unique_id], how='inner') \n",
    "        .filter(pl.col(ds).gt(pl.col('cutoff_from')))\n",
    "        .with_columns(\n",
    "            y_hat = pl.mean_horizontal(cs.contains(\"lag\"))\n",
    "        )\n",
    "        .select(input_col+[\"y_hat\"])\n",
    "    )\n",
    "    \n",
    "def forecast(df, n_lags, h,  unique_id:str, target:str, ds:str, freq:str):\n",
    "    input_col = df.columns\n",
    "    for i in range(1,h+1):\n",
    "        df = (\n",
    "            df\n",
    "            .pipe(predict, n_lags, unique_id, target, ds, freq)\n",
    "            .with_columns(\n",
    "                pl.coalesce([target, 'y_hat']).alias(target)\n",
    "            )\n",
    "            .select(input_col)\n",
    "        )\n",
    "    return df\n",
    "\n",
    "\n",
    "target = 'num_pickup'\n",
    "ds = 'pickup_datetime_hour'\n",
    "unique_id = 'pickup_location_id'\n",
    "freq = '1h'\n",
    "\n",
    "forecast(df, [1], h=7, unique_id=unique_id, target=target, ds=ds, freq=freq).plot.line(x=ds, y=target, row=unique_id)\n",
    "\n"
   ]
  },
  {
   "cell_type": "markdown",
   "metadata": {},
   "source": [
    "## Using the model"
   ]
  },
  {
   "cell_type": "code",
   "execution_count": 25,
   "metadata": {},
   "outputs": [
    {
     "data": {
      "text/html": [
       "<style>#sk-container-id-4 {\n",
       "  /* Definition of color scheme common for light and dark mode */\n",
       "  --sklearn-color-text: black;\n",
       "  --sklearn-color-line: gray;\n",
       "  /* Definition of color scheme for unfitted estimators */\n",
       "  --sklearn-color-unfitted-level-0: #fff5e6;\n",
       "  --sklearn-color-unfitted-level-1: #f6e4d2;\n",
       "  --sklearn-color-unfitted-level-2: #ffe0b3;\n",
       "  --sklearn-color-unfitted-level-3: chocolate;\n",
       "  /* Definition of color scheme for fitted estimators */\n",
       "  --sklearn-color-fitted-level-0: #f0f8ff;\n",
       "  --sklearn-color-fitted-level-1: #d4ebff;\n",
       "  --sklearn-color-fitted-level-2: #b3dbfd;\n",
       "  --sklearn-color-fitted-level-3: cornflowerblue;\n",
       "\n",
       "  /* Specific color for light theme */\n",
       "  --sklearn-color-text-on-default-background: var(--sg-text-color, var(--theme-code-foreground, var(--jp-content-font-color1, black)));\n",
       "  --sklearn-color-background: var(--sg-background-color, var(--theme-background, var(--jp-layout-color0, white)));\n",
       "  --sklearn-color-border-box: var(--sg-text-color, var(--theme-code-foreground, var(--jp-content-font-color1, black)));\n",
       "  --sklearn-color-icon: #696969;\n",
       "\n",
       "  @media (prefers-color-scheme: dark) {\n",
       "    /* Redefinition of color scheme for dark theme */\n",
       "    --sklearn-color-text-on-default-background: var(--sg-text-color, var(--theme-code-foreground, var(--jp-content-font-color1, white)));\n",
       "    --sklearn-color-background: var(--sg-background-color, var(--theme-background, var(--jp-layout-color0, #111)));\n",
       "    --sklearn-color-border-box: var(--sg-text-color, var(--theme-code-foreground, var(--jp-content-font-color1, white)));\n",
       "    --sklearn-color-icon: #878787;\n",
       "  }\n",
       "}\n",
       "\n",
       "#sk-container-id-4 {\n",
       "  color: var(--sklearn-color-text);\n",
       "}\n",
       "\n",
       "#sk-container-id-4 pre {\n",
       "  padding: 0;\n",
       "}\n",
       "\n",
       "#sk-container-id-4 input.sk-hidden--visually {\n",
       "  border: 0;\n",
       "  clip: rect(1px 1px 1px 1px);\n",
       "  clip: rect(1px, 1px, 1px, 1px);\n",
       "  height: 1px;\n",
       "  margin: -1px;\n",
       "  overflow: hidden;\n",
       "  padding: 0;\n",
       "  position: absolute;\n",
       "  width: 1px;\n",
       "}\n",
       "\n",
       "#sk-container-id-4 div.sk-dashed-wrapped {\n",
       "  border: 1px dashed var(--sklearn-color-line);\n",
       "  margin: 0 0.4em 0.5em 0.4em;\n",
       "  box-sizing: border-box;\n",
       "  padding-bottom: 0.4em;\n",
       "  background-color: var(--sklearn-color-background);\n",
       "}\n",
       "\n",
       "#sk-container-id-4 div.sk-container {\n",
       "  /* jupyter's `normalize.less` sets `[hidden] { display: none; }`\n",
       "     but bootstrap.min.css set `[hidden] { display: none !important; }`\n",
       "     so we also need the `!important` here to be able to override the\n",
       "     default hidden behavior on the sphinx rendered scikit-learn.org.\n",
       "     See: https://github.com/scikit-learn/scikit-learn/issues/21755 */\n",
       "  display: inline-block !important;\n",
       "  position: relative;\n",
       "}\n",
       "\n",
       "#sk-container-id-4 div.sk-text-repr-fallback {\n",
       "  display: none;\n",
       "}\n",
       "\n",
       "div.sk-parallel-item,\n",
       "div.sk-serial,\n",
       "div.sk-item {\n",
       "  /* draw centered vertical line to link estimators */\n",
       "  background-image: linear-gradient(var(--sklearn-color-text-on-default-background), var(--sklearn-color-text-on-default-background));\n",
       "  background-size: 2px 100%;\n",
       "  background-repeat: no-repeat;\n",
       "  background-position: center center;\n",
       "}\n",
       "\n",
       "/* Parallel-specific style estimator block */\n",
       "\n",
       "#sk-container-id-4 div.sk-parallel-item::after {\n",
       "  content: \"\";\n",
       "  width: 100%;\n",
       "  border-bottom: 2px solid var(--sklearn-color-text-on-default-background);\n",
       "  flex-grow: 1;\n",
       "}\n",
       "\n",
       "#sk-container-id-4 div.sk-parallel {\n",
       "  display: flex;\n",
       "  align-items: stretch;\n",
       "  justify-content: center;\n",
       "  background-color: var(--sklearn-color-background);\n",
       "  position: relative;\n",
       "}\n",
       "\n",
       "#sk-container-id-4 div.sk-parallel-item {\n",
       "  display: flex;\n",
       "  flex-direction: column;\n",
       "}\n",
       "\n",
       "#sk-container-id-4 div.sk-parallel-item:first-child::after {\n",
       "  align-self: flex-end;\n",
       "  width: 50%;\n",
       "}\n",
       "\n",
       "#sk-container-id-4 div.sk-parallel-item:last-child::after {\n",
       "  align-self: flex-start;\n",
       "  width: 50%;\n",
       "}\n",
       "\n",
       "#sk-container-id-4 div.sk-parallel-item:only-child::after {\n",
       "  width: 0;\n",
       "}\n",
       "\n",
       "/* Serial-specific style estimator block */\n",
       "\n",
       "#sk-container-id-4 div.sk-serial {\n",
       "  display: flex;\n",
       "  flex-direction: column;\n",
       "  align-items: center;\n",
       "  background-color: var(--sklearn-color-background);\n",
       "  padding-right: 1em;\n",
       "  padding-left: 1em;\n",
       "}\n",
       "\n",
       "\n",
       "/* Toggleable style: style used for estimator/Pipeline/ColumnTransformer box that is\n",
       "clickable and can be expanded/collapsed.\n",
       "- Pipeline and ColumnTransformer use this feature and define the default style\n",
       "- Estimators will overwrite some part of the style using the `sk-estimator` class\n",
       "*/\n",
       "\n",
       "/* Pipeline and ColumnTransformer style (default) */\n",
       "\n",
       "#sk-container-id-4 div.sk-toggleable {\n",
       "  /* Default theme specific background. It is overwritten whether we have a\n",
       "  specific estimator or a Pipeline/ColumnTransformer */\n",
       "  background-color: var(--sklearn-color-background);\n",
       "}\n",
       "\n",
       "/* Toggleable label */\n",
       "#sk-container-id-4 label.sk-toggleable__label {\n",
       "  cursor: pointer;\n",
       "  display: block;\n",
       "  width: 100%;\n",
       "  margin-bottom: 0;\n",
       "  padding: 0.5em;\n",
       "  box-sizing: border-box;\n",
       "  text-align: center;\n",
       "}\n",
       "\n",
       "#sk-container-id-4 label.sk-toggleable__label-arrow:before {\n",
       "  /* Arrow on the left of the label */\n",
       "  content: \"▸\";\n",
       "  float: left;\n",
       "  margin-right: 0.25em;\n",
       "  color: var(--sklearn-color-icon);\n",
       "}\n",
       "\n",
       "#sk-container-id-4 label.sk-toggleable__label-arrow:hover:before {\n",
       "  color: var(--sklearn-color-text);\n",
       "}\n",
       "\n",
       "/* Toggleable content - dropdown */\n",
       "\n",
       "#sk-container-id-4 div.sk-toggleable__content {\n",
       "  max-height: 0;\n",
       "  max-width: 0;\n",
       "  overflow: hidden;\n",
       "  text-align: left;\n",
       "  /* unfitted */\n",
       "  background-color: var(--sklearn-color-unfitted-level-0);\n",
       "}\n",
       "\n",
       "#sk-container-id-4 div.sk-toggleable__content.fitted {\n",
       "  /* fitted */\n",
       "  background-color: var(--sklearn-color-fitted-level-0);\n",
       "}\n",
       "\n",
       "#sk-container-id-4 div.sk-toggleable__content pre {\n",
       "  margin: 0.2em;\n",
       "  border-radius: 0.25em;\n",
       "  color: var(--sklearn-color-text);\n",
       "  /* unfitted */\n",
       "  background-color: var(--sklearn-color-unfitted-level-0);\n",
       "}\n",
       "\n",
       "#sk-container-id-4 div.sk-toggleable__content.fitted pre {\n",
       "  /* unfitted */\n",
       "  background-color: var(--sklearn-color-fitted-level-0);\n",
       "}\n",
       "\n",
       "#sk-container-id-4 input.sk-toggleable__control:checked~div.sk-toggleable__content {\n",
       "  /* Expand drop-down */\n",
       "  max-height: 200px;\n",
       "  max-width: 100%;\n",
       "  overflow: auto;\n",
       "}\n",
       "\n",
       "#sk-container-id-4 input.sk-toggleable__control:checked~label.sk-toggleable__label-arrow:before {\n",
       "  content: \"▾\";\n",
       "}\n",
       "\n",
       "/* Pipeline/ColumnTransformer-specific style */\n",
       "\n",
       "#sk-container-id-4 div.sk-label input.sk-toggleable__control:checked~label.sk-toggleable__label {\n",
       "  color: var(--sklearn-color-text);\n",
       "  background-color: var(--sklearn-color-unfitted-level-2);\n",
       "}\n",
       "\n",
       "#sk-container-id-4 div.sk-label.fitted input.sk-toggleable__control:checked~label.sk-toggleable__label {\n",
       "  background-color: var(--sklearn-color-fitted-level-2);\n",
       "}\n",
       "\n",
       "/* Estimator-specific style */\n",
       "\n",
       "/* Colorize estimator box */\n",
       "#sk-container-id-4 div.sk-estimator input.sk-toggleable__control:checked~label.sk-toggleable__label {\n",
       "  /* unfitted */\n",
       "  background-color: var(--sklearn-color-unfitted-level-2);\n",
       "}\n",
       "\n",
       "#sk-container-id-4 div.sk-estimator.fitted input.sk-toggleable__control:checked~label.sk-toggleable__label {\n",
       "  /* fitted */\n",
       "  background-color: var(--sklearn-color-fitted-level-2);\n",
       "}\n",
       "\n",
       "#sk-container-id-4 div.sk-label label.sk-toggleable__label,\n",
       "#sk-container-id-4 div.sk-label label {\n",
       "  /* The background is the default theme color */\n",
       "  color: var(--sklearn-color-text-on-default-background);\n",
       "}\n",
       "\n",
       "/* On hover, darken the color of the background */\n",
       "#sk-container-id-4 div.sk-label:hover label.sk-toggleable__label {\n",
       "  color: var(--sklearn-color-text);\n",
       "  background-color: var(--sklearn-color-unfitted-level-2);\n",
       "}\n",
       "\n",
       "/* Label box, darken color on hover, fitted */\n",
       "#sk-container-id-4 div.sk-label.fitted:hover label.sk-toggleable__label.fitted {\n",
       "  color: var(--sklearn-color-text);\n",
       "  background-color: var(--sklearn-color-fitted-level-2);\n",
       "}\n",
       "\n",
       "/* Estimator label */\n",
       "\n",
       "#sk-container-id-4 div.sk-label label {\n",
       "  font-family: monospace;\n",
       "  font-weight: bold;\n",
       "  display: inline-block;\n",
       "  line-height: 1.2em;\n",
       "}\n",
       "\n",
       "#sk-container-id-4 div.sk-label-container {\n",
       "  text-align: center;\n",
       "}\n",
       "\n",
       "/* Estimator-specific */\n",
       "#sk-container-id-4 div.sk-estimator {\n",
       "  font-family: monospace;\n",
       "  border: 1px dotted var(--sklearn-color-border-box);\n",
       "  border-radius: 0.25em;\n",
       "  box-sizing: border-box;\n",
       "  margin-bottom: 0.5em;\n",
       "  /* unfitted */\n",
       "  background-color: var(--sklearn-color-unfitted-level-0);\n",
       "}\n",
       "\n",
       "#sk-container-id-4 div.sk-estimator.fitted {\n",
       "  /* fitted */\n",
       "  background-color: var(--sklearn-color-fitted-level-0);\n",
       "}\n",
       "\n",
       "/* on hover */\n",
       "#sk-container-id-4 div.sk-estimator:hover {\n",
       "  /* unfitted */\n",
       "  background-color: var(--sklearn-color-unfitted-level-2);\n",
       "}\n",
       "\n",
       "#sk-container-id-4 div.sk-estimator.fitted:hover {\n",
       "  /* fitted */\n",
       "  background-color: var(--sklearn-color-fitted-level-2);\n",
       "}\n",
       "\n",
       "/* Specification for estimator info (e.g. \"i\" and \"?\") */\n",
       "\n",
       "/* Common style for \"i\" and \"?\" */\n",
       "\n",
       ".sk-estimator-doc-link,\n",
       "a:link.sk-estimator-doc-link,\n",
       "a:visited.sk-estimator-doc-link {\n",
       "  float: right;\n",
       "  font-size: smaller;\n",
       "  line-height: 1em;\n",
       "  font-family: monospace;\n",
       "  background-color: var(--sklearn-color-background);\n",
       "  border-radius: 1em;\n",
       "  height: 1em;\n",
       "  width: 1em;\n",
       "  text-decoration: none !important;\n",
       "  margin-left: 1ex;\n",
       "  /* unfitted */\n",
       "  border: var(--sklearn-color-unfitted-level-1) 1pt solid;\n",
       "  color: var(--sklearn-color-unfitted-level-1);\n",
       "}\n",
       "\n",
       ".sk-estimator-doc-link.fitted,\n",
       "a:link.sk-estimator-doc-link.fitted,\n",
       "a:visited.sk-estimator-doc-link.fitted {\n",
       "  /* fitted */\n",
       "  border: var(--sklearn-color-fitted-level-1) 1pt solid;\n",
       "  color: var(--sklearn-color-fitted-level-1);\n",
       "}\n",
       "\n",
       "/* On hover */\n",
       "div.sk-estimator:hover .sk-estimator-doc-link:hover,\n",
       ".sk-estimator-doc-link:hover,\n",
       "div.sk-label-container:hover .sk-estimator-doc-link:hover,\n",
       ".sk-estimator-doc-link:hover {\n",
       "  /* unfitted */\n",
       "  background-color: var(--sklearn-color-unfitted-level-3);\n",
       "  color: var(--sklearn-color-background);\n",
       "  text-decoration: none;\n",
       "}\n",
       "\n",
       "div.sk-estimator.fitted:hover .sk-estimator-doc-link.fitted:hover,\n",
       ".sk-estimator-doc-link.fitted:hover,\n",
       "div.sk-label-container:hover .sk-estimator-doc-link.fitted:hover,\n",
       ".sk-estimator-doc-link.fitted:hover {\n",
       "  /* fitted */\n",
       "  background-color: var(--sklearn-color-fitted-level-3);\n",
       "  color: var(--sklearn-color-background);\n",
       "  text-decoration: none;\n",
       "}\n",
       "\n",
       "/* Span, style for the box shown on hovering the info icon */\n",
       ".sk-estimator-doc-link span {\n",
       "  display: none;\n",
       "  z-index: 9999;\n",
       "  position: relative;\n",
       "  font-weight: normal;\n",
       "  right: .2ex;\n",
       "  padding: .5ex;\n",
       "  margin: .5ex;\n",
       "  width: min-content;\n",
       "  min-width: 20ex;\n",
       "  max-width: 50ex;\n",
       "  color: var(--sklearn-color-text);\n",
       "  box-shadow: 2pt 2pt 4pt #999;\n",
       "  /* unfitted */\n",
       "  background: var(--sklearn-color-unfitted-level-0);\n",
       "  border: .5pt solid var(--sklearn-color-unfitted-level-3);\n",
       "}\n",
       "\n",
       ".sk-estimator-doc-link.fitted span {\n",
       "  /* fitted */\n",
       "  background: var(--sklearn-color-fitted-level-0);\n",
       "  border: var(--sklearn-color-fitted-level-3);\n",
       "}\n",
       "\n",
       ".sk-estimator-doc-link:hover span {\n",
       "  display: block;\n",
       "}\n",
       "\n",
       "/* \"?\"-specific style due to the `<a>` HTML tag */\n",
       "\n",
       "#sk-container-id-4 a.estimator_doc_link {\n",
       "  float: right;\n",
       "  font-size: 1rem;\n",
       "  line-height: 1em;\n",
       "  font-family: monospace;\n",
       "  background-color: var(--sklearn-color-background);\n",
       "  border-radius: 1rem;\n",
       "  height: 1rem;\n",
       "  width: 1rem;\n",
       "  text-decoration: none;\n",
       "  /* unfitted */\n",
       "  color: var(--sklearn-color-unfitted-level-1);\n",
       "  border: var(--sklearn-color-unfitted-level-1) 1pt solid;\n",
       "}\n",
       "\n",
       "#sk-container-id-4 a.estimator_doc_link.fitted {\n",
       "  /* fitted */\n",
       "  border: var(--sklearn-color-fitted-level-1) 1pt solid;\n",
       "  color: var(--sklearn-color-fitted-level-1);\n",
       "}\n",
       "\n",
       "/* On hover */\n",
       "#sk-container-id-4 a.estimator_doc_link:hover {\n",
       "  /* unfitted */\n",
       "  background-color: var(--sklearn-color-unfitted-level-3);\n",
       "  color: var(--sklearn-color-background);\n",
       "  text-decoration: none;\n",
       "}\n",
       "\n",
       "#sk-container-id-4 a.estimator_doc_link.fitted:hover {\n",
       "  /* fitted */\n",
       "  background-color: var(--sklearn-color-fitted-level-3);\n",
       "}\n",
       "</style><div id=\"sk-container-id-4\" class=\"sk-top-container\"><div class=\"sk-text-repr-fallback\"><pre>MeanLagPredictor(ds=&#x27;pickup_datetime_hour&#x27;, freq=&#x27;1h&#x27;, lags=[1],\n",
       "                 target=&#x27;num_pickup&#x27;, unique_id=&#x27;pickup_location_id&#x27;)</pre><b>In a Jupyter environment, please rerun this cell to show the HTML representation or trust the notebook. <br />On GitHub, the HTML representation is unable to render, please try loading this page with nbviewer.org.</b></div><div class=\"sk-container\" hidden><div class=\"sk-item\"><div class=\"sk-estimator  sk-toggleable\"><input class=\"sk-toggleable__control sk-hidden--visually\" id=\"sk-estimator-id-4\" type=\"checkbox\" checked><label for=\"sk-estimator-id-4\" class=\"sk-toggleable__label  sk-toggleable__label-arrow \">&nbsp;MeanLagPredictor<span class=\"sk-estimator-doc-link \">i<span>Not fitted</span></span></label><div class=\"sk-toggleable__content \"><pre>MeanLagPredictor(ds=&#x27;pickup_datetime_hour&#x27;, freq=&#x27;1h&#x27;, lags=[1],\n",
       "                 target=&#x27;num_pickup&#x27;, unique_id=&#x27;pickup_location_id&#x27;)</pre></div> </div></div></div></div>"
      ],
      "text/plain": [
       "MeanLagPredictor(ds='pickup_datetime_hour', freq='1h', lags=[1],\n",
       "                 target='num_pickup', unique_id='pickup_location_id')"
      ]
     },
     "execution_count": 25,
     "metadata": {},
     "output_type": "execute_result"
    }
   ],
   "source": [
    "from src.mean_lag_model.pipeline import MeanLagPredictor\n",
    "\n",
    "\n",
    "\n",
    "model = MeanLagPredictor(\n",
    "    lags=[1],\n",
    "    target = 'num_pickup',\n",
    "    ds = 'pickup_datetime_hour',\n",
    "    unique_id = 'pickup_location_id',\n",
    "    freq = '1h'\n",
    ")\n",
    "\n",
    "\n",
    "\n",
    "model.fit(df)"
   ]
  },
  {
   "cell_type": "code",
   "execution_count": 27,
   "metadata": {},
   "outputs": [
    {
     "data": {
      "text/html": [
       "<div><style>\n",
       ".dataframe > thead > tr,\n",
       ".dataframe > tbody > tr {\n",
       "  text-align: right;\n",
       "  white-space: pre-wrap;\n",
       "}\n",
       "</style>\n",
       "<small>shape: (14, 4)</small><table border=\"1\" class=\"dataframe\"><thead><tr><th>pickup_datetime_hour</th><th>pickup_location_id</th><th>num_pickup</th><th>IsForecasted</th></tr><tr><td>datetime[μs]</td><td>f32</td><td>f32</td><td>bool</td></tr></thead><tbody><tr><td>2024-10-01 00:00:00</td><td>43.0</td><td>9.0</td><td>true</td></tr><tr><td>2024-10-01 00:00:00</td><td>27.0</td><td>0.0</td><td>true</td></tr><tr><td>2024-10-01 01:00:00</td><td>43.0</td><td>9.0</td><td>true</td></tr><tr><td>2024-10-01 01:00:00</td><td>27.0</td><td>0.0</td><td>true</td></tr><tr><td>2024-10-01 02:00:00</td><td>27.0</td><td>0.0</td><td>true</td></tr><tr><td>&hellip;</td><td>&hellip;</td><td>&hellip;</td><td>&hellip;</td></tr><tr><td>2024-10-01 04:00:00</td><td>43.0</td><td>9.0</td><td>true</td></tr><tr><td>2024-10-01 05:00:00</td><td>27.0</td><td>0.0</td><td>true</td></tr><tr><td>2024-10-01 05:00:00</td><td>43.0</td><td>9.0</td><td>true</td></tr><tr><td>2024-10-01 06:00:00</td><td>27.0</td><td>0.0</td><td>true</td></tr><tr><td>2024-10-01 06:00:00</td><td>43.0</td><td>9.0</td><td>true</td></tr></tbody></table></div>"
      ],
      "text/plain": [
       "shape: (14, 4)\n",
       "┌──────────────────────┬────────────────────┬────────────┬──────────────┐\n",
       "│ pickup_datetime_hour ┆ pickup_location_id ┆ num_pickup ┆ IsForecasted │\n",
       "│ ---                  ┆ ---                ┆ ---        ┆ ---          │\n",
       "│ datetime[μs]         ┆ f32                ┆ f32        ┆ bool         │\n",
       "╞══════════════════════╪════════════════════╪════════════╪══════════════╡\n",
       "│ 2024-10-01 00:00:00  ┆ 43.0               ┆ 9.0        ┆ true         │\n",
       "│ 2024-10-01 00:00:00  ┆ 27.0               ┆ 0.0        ┆ true         │\n",
       "│ 2024-10-01 01:00:00  ┆ 43.0               ┆ 9.0        ┆ true         │\n",
       "│ 2024-10-01 01:00:00  ┆ 27.0               ┆ 0.0        ┆ true         │\n",
       "│ 2024-10-01 02:00:00  ┆ 27.0               ┆ 0.0        ┆ true         │\n",
       "│ …                    ┆ …                  ┆ …          ┆ …            │\n",
       "│ 2024-10-01 04:00:00  ┆ 43.0               ┆ 9.0        ┆ true         │\n",
       "│ 2024-10-01 05:00:00  ┆ 27.0               ┆ 0.0        ┆ true         │\n",
       "│ 2024-10-01 05:00:00  ┆ 43.0               ┆ 9.0        ┆ true         │\n",
       "│ 2024-10-01 06:00:00  ┆ 27.0               ┆ 0.0        ┆ true         │\n",
       "│ 2024-10-01 06:00:00  ┆ 43.0               ┆ 9.0        ┆ true         │\n",
       "└──────────────────────┴────────────────────┴────────────┴──────────────┘"
      ]
     },
     "execution_count": 27,
     "metadata": {},
     "output_type": "execute_result"
    }
   ],
   "source": [
    "model.forecast(df, 7).filter(pl.col('IsForecasted'))"
   ]
  },
  {
   "cell_type": "markdown",
   "metadata": {},
   "source": [
    "## Plot predictions\n",
    "\n",
    "- Features: 1d, 7d, 14d, 28d\n",
    "- Prediction: Average of features\n",
    "- Forecast horizon: Next day"
   ]
  },
  {
   "cell_type": "code",
   "execution_count": 5,
   "metadata": {},
   "outputs": [
    {
     "data": {
      "text/html": [
       "<style>#sk-container-id-1 {\n",
       "  /* Definition of color scheme common for light and dark mode */\n",
       "  --sklearn-color-text: black;\n",
       "  --sklearn-color-line: gray;\n",
       "  /* Definition of color scheme for unfitted estimators */\n",
       "  --sklearn-color-unfitted-level-0: #fff5e6;\n",
       "  --sklearn-color-unfitted-level-1: #f6e4d2;\n",
       "  --sklearn-color-unfitted-level-2: #ffe0b3;\n",
       "  --sklearn-color-unfitted-level-3: chocolate;\n",
       "  /* Definition of color scheme for fitted estimators */\n",
       "  --sklearn-color-fitted-level-0: #f0f8ff;\n",
       "  --sklearn-color-fitted-level-1: #d4ebff;\n",
       "  --sklearn-color-fitted-level-2: #b3dbfd;\n",
       "  --sklearn-color-fitted-level-3: cornflowerblue;\n",
       "\n",
       "  /* Specific color for light theme */\n",
       "  --sklearn-color-text-on-default-background: var(--sg-text-color, var(--theme-code-foreground, var(--jp-content-font-color1, black)));\n",
       "  --sklearn-color-background: var(--sg-background-color, var(--theme-background, var(--jp-layout-color0, white)));\n",
       "  --sklearn-color-border-box: var(--sg-text-color, var(--theme-code-foreground, var(--jp-content-font-color1, black)));\n",
       "  --sklearn-color-icon: #696969;\n",
       "\n",
       "  @media (prefers-color-scheme: dark) {\n",
       "    /* Redefinition of color scheme for dark theme */\n",
       "    --sklearn-color-text-on-default-background: var(--sg-text-color, var(--theme-code-foreground, var(--jp-content-font-color1, white)));\n",
       "    --sklearn-color-background: var(--sg-background-color, var(--theme-background, var(--jp-layout-color0, #111)));\n",
       "    --sklearn-color-border-box: var(--sg-text-color, var(--theme-code-foreground, var(--jp-content-font-color1, white)));\n",
       "    --sklearn-color-icon: #878787;\n",
       "  }\n",
       "}\n",
       "\n",
       "#sk-container-id-1 {\n",
       "  color: var(--sklearn-color-text);\n",
       "}\n",
       "\n",
       "#sk-container-id-1 pre {\n",
       "  padding: 0;\n",
       "}\n",
       "\n",
       "#sk-container-id-1 input.sk-hidden--visually {\n",
       "  border: 0;\n",
       "  clip: rect(1px 1px 1px 1px);\n",
       "  clip: rect(1px, 1px, 1px, 1px);\n",
       "  height: 1px;\n",
       "  margin: -1px;\n",
       "  overflow: hidden;\n",
       "  padding: 0;\n",
       "  position: absolute;\n",
       "  width: 1px;\n",
       "}\n",
       "\n",
       "#sk-container-id-1 div.sk-dashed-wrapped {\n",
       "  border: 1px dashed var(--sklearn-color-line);\n",
       "  margin: 0 0.4em 0.5em 0.4em;\n",
       "  box-sizing: border-box;\n",
       "  padding-bottom: 0.4em;\n",
       "  background-color: var(--sklearn-color-background);\n",
       "}\n",
       "\n",
       "#sk-container-id-1 div.sk-container {\n",
       "  /* jupyter's `normalize.less` sets `[hidden] { display: none; }`\n",
       "     but bootstrap.min.css set `[hidden] { display: none !important; }`\n",
       "     so we also need the `!important` here to be able to override the\n",
       "     default hidden behavior on the sphinx rendered scikit-learn.org.\n",
       "     See: https://github.com/scikit-learn/scikit-learn/issues/21755 */\n",
       "  display: inline-block !important;\n",
       "  position: relative;\n",
       "}\n",
       "\n",
       "#sk-container-id-1 div.sk-text-repr-fallback {\n",
       "  display: none;\n",
       "}\n",
       "\n",
       "div.sk-parallel-item,\n",
       "div.sk-serial,\n",
       "div.sk-item {\n",
       "  /* draw centered vertical line to link estimators */\n",
       "  background-image: linear-gradient(var(--sklearn-color-text-on-default-background), var(--sklearn-color-text-on-default-background));\n",
       "  background-size: 2px 100%;\n",
       "  background-repeat: no-repeat;\n",
       "  background-position: center center;\n",
       "}\n",
       "\n",
       "/* Parallel-specific style estimator block */\n",
       "\n",
       "#sk-container-id-1 div.sk-parallel-item::after {\n",
       "  content: \"\";\n",
       "  width: 100%;\n",
       "  border-bottom: 2px solid var(--sklearn-color-text-on-default-background);\n",
       "  flex-grow: 1;\n",
       "}\n",
       "\n",
       "#sk-container-id-1 div.sk-parallel {\n",
       "  display: flex;\n",
       "  align-items: stretch;\n",
       "  justify-content: center;\n",
       "  background-color: var(--sklearn-color-background);\n",
       "  position: relative;\n",
       "}\n",
       "\n",
       "#sk-container-id-1 div.sk-parallel-item {\n",
       "  display: flex;\n",
       "  flex-direction: column;\n",
       "}\n",
       "\n",
       "#sk-container-id-1 div.sk-parallel-item:first-child::after {\n",
       "  align-self: flex-end;\n",
       "  width: 50%;\n",
       "}\n",
       "\n",
       "#sk-container-id-1 div.sk-parallel-item:last-child::after {\n",
       "  align-self: flex-start;\n",
       "  width: 50%;\n",
       "}\n",
       "\n",
       "#sk-container-id-1 div.sk-parallel-item:only-child::after {\n",
       "  width: 0;\n",
       "}\n",
       "\n",
       "/* Serial-specific style estimator block */\n",
       "\n",
       "#sk-container-id-1 div.sk-serial {\n",
       "  display: flex;\n",
       "  flex-direction: column;\n",
       "  align-items: center;\n",
       "  background-color: var(--sklearn-color-background);\n",
       "  padding-right: 1em;\n",
       "  padding-left: 1em;\n",
       "}\n",
       "\n",
       "\n",
       "/* Toggleable style: style used for estimator/Pipeline/ColumnTransformer box that is\n",
       "clickable and can be expanded/collapsed.\n",
       "- Pipeline and ColumnTransformer use this feature and define the default style\n",
       "- Estimators will overwrite some part of the style using the `sk-estimator` class\n",
       "*/\n",
       "\n",
       "/* Pipeline and ColumnTransformer style (default) */\n",
       "\n",
       "#sk-container-id-1 div.sk-toggleable {\n",
       "  /* Default theme specific background. It is overwritten whether we have a\n",
       "  specific estimator or a Pipeline/ColumnTransformer */\n",
       "  background-color: var(--sklearn-color-background);\n",
       "}\n",
       "\n",
       "/* Toggleable label */\n",
       "#sk-container-id-1 label.sk-toggleable__label {\n",
       "  cursor: pointer;\n",
       "  display: block;\n",
       "  width: 100%;\n",
       "  margin-bottom: 0;\n",
       "  padding: 0.5em;\n",
       "  box-sizing: border-box;\n",
       "  text-align: center;\n",
       "}\n",
       "\n",
       "#sk-container-id-1 label.sk-toggleable__label-arrow:before {\n",
       "  /* Arrow on the left of the label */\n",
       "  content: \"▸\";\n",
       "  float: left;\n",
       "  margin-right: 0.25em;\n",
       "  color: var(--sklearn-color-icon);\n",
       "}\n",
       "\n",
       "#sk-container-id-1 label.sk-toggleable__label-arrow:hover:before {\n",
       "  color: var(--sklearn-color-text);\n",
       "}\n",
       "\n",
       "/* Toggleable content - dropdown */\n",
       "\n",
       "#sk-container-id-1 div.sk-toggleable__content {\n",
       "  max-height: 0;\n",
       "  max-width: 0;\n",
       "  overflow: hidden;\n",
       "  text-align: left;\n",
       "  /* unfitted */\n",
       "  background-color: var(--sklearn-color-unfitted-level-0);\n",
       "}\n",
       "\n",
       "#sk-container-id-1 div.sk-toggleable__content.fitted {\n",
       "  /* fitted */\n",
       "  background-color: var(--sklearn-color-fitted-level-0);\n",
       "}\n",
       "\n",
       "#sk-container-id-1 div.sk-toggleable__content pre {\n",
       "  margin: 0.2em;\n",
       "  border-radius: 0.25em;\n",
       "  color: var(--sklearn-color-text);\n",
       "  /* unfitted */\n",
       "  background-color: var(--sklearn-color-unfitted-level-0);\n",
       "}\n",
       "\n",
       "#sk-container-id-1 div.sk-toggleable__content.fitted pre {\n",
       "  /* unfitted */\n",
       "  background-color: var(--sklearn-color-fitted-level-0);\n",
       "}\n",
       "\n",
       "#sk-container-id-1 input.sk-toggleable__control:checked~div.sk-toggleable__content {\n",
       "  /* Expand drop-down */\n",
       "  max-height: 200px;\n",
       "  max-width: 100%;\n",
       "  overflow: auto;\n",
       "}\n",
       "\n",
       "#sk-container-id-1 input.sk-toggleable__control:checked~label.sk-toggleable__label-arrow:before {\n",
       "  content: \"▾\";\n",
       "}\n",
       "\n",
       "/* Pipeline/ColumnTransformer-specific style */\n",
       "\n",
       "#sk-container-id-1 div.sk-label input.sk-toggleable__control:checked~label.sk-toggleable__label {\n",
       "  color: var(--sklearn-color-text);\n",
       "  background-color: var(--sklearn-color-unfitted-level-2);\n",
       "}\n",
       "\n",
       "#sk-container-id-1 div.sk-label.fitted input.sk-toggleable__control:checked~label.sk-toggleable__label {\n",
       "  background-color: var(--sklearn-color-fitted-level-2);\n",
       "}\n",
       "\n",
       "/* Estimator-specific style */\n",
       "\n",
       "/* Colorize estimator box */\n",
       "#sk-container-id-1 div.sk-estimator input.sk-toggleable__control:checked~label.sk-toggleable__label {\n",
       "  /* unfitted */\n",
       "  background-color: var(--sklearn-color-unfitted-level-2);\n",
       "}\n",
       "\n",
       "#sk-container-id-1 div.sk-estimator.fitted input.sk-toggleable__control:checked~label.sk-toggleable__label {\n",
       "  /* fitted */\n",
       "  background-color: var(--sklearn-color-fitted-level-2);\n",
       "}\n",
       "\n",
       "#sk-container-id-1 div.sk-label label.sk-toggleable__label,\n",
       "#sk-container-id-1 div.sk-label label {\n",
       "  /* The background is the default theme color */\n",
       "  color: var(--sklearn-color-text-on-default-background);\n",
       "}\n",
       "\n",
       "/* On hover, darken the color of the background */\n",
       "#sk-container-id-1 div.sk-label:hover label.sk-toggleable__label {\n",
       "  color: var(--sklearn-color-text);\n",
       "  background-color: var(--sklearn-color-unfitted-level-2);\n",
       "}\n",
       "\n",
       "/* Label box, darken color on hover, fitted */\n",
       "#sk-container-id-1 div.sk-label.fitted:hover label.sk-toggleable__label.fitted {\n",
       "  color: var(--sklearn-color-text);\n",
       "  background-color: var(--sklearn-color-fitted-level-2);\n",
       "}\n",
       "\n",
       "/* Estimator label */\n",
       "\n",
       "#sk-container-id-1 div.sk-label label {\n",
       "  font-family: monospace;\n",
       "  font-weight: bold;\n",
       "  display: inline-block;\n",
       "  line-height: 1.2em;\n",
       "}\n",
       "\n",
       "#sk-container-id-1 div.sk-label-container {\n",
       "  text-align: center;\n",
       "}\n",
       "\n",
       "/* Estimator-specific */\n",
       "#sk-container-id-1 div.sk-estimator {\n",
       "  font-family: monospace;\n",
       "  border: 1px dotted var(--sklearn-color-border-box);\n",
       "  border-radius: 0.25em;\n",
       "  box-sizing: border-box;\n",
       "  margin-bottom: 0.5em;\n",
       "  /* unfitted */\n",
       "  background-color: var(--sklearn-color-unfitted-level-0);\n",
       "}\n",
       "\n",
       "#sk-container-id-1 div.sk-estimator.fitted {\n",
       "  /* fitted */\n",
       "  background-color: var(--sklearn-color-fitted-level-0);\n",
       "}\n",
       "\n",
       "/* on hover */\n",
       "#sk-container-id-1 div.sk-estimator:hover {\n",
       "  /* unfitted */\n",
       "  background-color: var(--sklearn-color-unfitted-level-2);\n",
       "}\n",
       "\n",
       "#sk-container-id-1 div.sk-estimator.fitted:hover {\n",
       "  /* fitted */\n",
       "  background-color: var(--sklearn-color-fitted-level-2);\n",
       "}\n",
       "\n",
       "/* Specification for estimator info (e.g. \"i\" and \"?\") */\n",
       "\n",
       "/* Common style for \"i\" and \"?\" */\n",
       "\n",
       ".sk-estimator-doc-link,\n",
       "a:link.sk-estimator-doc-link,\n",
       "a:visited.sk-estimator-doc-link {\n",
       "  float: right;\n",
       "  font-size: smaller;\n",
       "  line-height: 1em;\n",
       "  font-family: monospace;\n",
       "  background-color: var(--sklearn-color-background);\n",
       "  border-radius: 1em;\n",
       "  height: 1em;\n",
       "  width: 1em;\n",
       "  text-decoration: none !important;\n",
       "  margin-left: 1ex;\n",
       "  /* unfitted */\n",
       "  border: var(--sklearn-color-unfitted-level-1) 1pt solid;\n",
       "  color: var(--sklearn-color-unfitted-level-1);\n",
       "}\n",
       "\n",
       ".sk-estimator-doc-link.fitted,\n",
       "a:link.sk-estimator-doc-link.fitted,\n",
       "a:visited.sk-estimator-doc-link.fitted {\n",
       "  /* fitted */\n",
       "  border: var(--sklearn-color-fitted-level-1) 1pt solid;\n",
       "  color: var(--sklearn-color-fitted-level-1);\n",
       "}\n",
       "\n",
       "/* On hover */\n",
       "div.sk-estimator:hover .sk-estimator-doc-link:hover,\n",
       ".sk-estimator-doc-link:hover,\n",
       "div.sk-label-container:hover .sk-estimator-doc-link:hover,\n",
       ".sk-estimator-doc-link:hover {\n",
       "  /* unfitted */\n",
       "  background-color: var(--sklearn-color-unfitted-level-3);\n",
       "  color: var(--sklearn-color-background);\n",
       "  text-decoration: none;\n",
       "}\n",
       "\n",
       "div.sk-estimator.fitted:hover .sk-estimator-doc-link.fitted:hover,\n",
       ".sk-estimator-doc-link.fitted:hover,\n",
       "div.sk-label-container:hover .sk-estimator-doc-link.fitted:hover,\n",
       ".sk-estimator-doc-link.fitted:hover {\n",
       "  /* fitted */\n",
       "  background-color: var(--sklearn-color-fitted-level-3);\n",
       "  color: var(--sklearn-color-background);\n",
       "  text-decoration: none;\n",
       "}\n",
       "\n",
       "/* Span, style for the box shown on hovering the info icon */\n",
       ".sk-estimator-doc-link span {\n",
       "  display: none;\n",
       "  z-index: 9999;\n",
       "  position: relative;\n",
       "  font-weight: normal;\n",
       "  right: .2ex;\n",
       "  padding: .5ex;\n",
       "  margin: .5ex;\n",
       "  width: min-content;\n",
       "  min-width: 20ex;\n",
       "  max-width: 50ex;\n",
       "  color: var(--sklearn-color-text);\n",
       "  box-shadow: 2pt 2pt 4pt #999;\n",
       "  /* unfitted */\n",
       "  background: var(--sklearn-color-unfitted-level-0);\n",
       "  border: .5pt solid var(--sklearn-color-unfitted-level-3);\n",
       "}\n",
       "\n",
       ".sk-estimator-doc-link.fitted span {\n",
       "  /* fitted */\n",
       "  background: var(--sklearn-color-fitted-level-0);\n",
       "  border: var(--sklearn-color-fitted-level-3);\n",
       "}\n",
       "\n",
       ".sk-estimator-doc-link:hover span {\n",
       "  display: block;\n",
       "}\n",
       "\n",
       "/* \"?\"-specific style due to the `<a>` HTML tag */\n",
       "\n",
       "#sk-container-id-1 a.estimator_doc_link {\n",
       "  float: right;\n",
       "  font-size: 1rem;\n",
       "  line-height: 1em;\n",
       "  font-family: monospace;\n",
       "  background-color: var(--sklearn-color-background);\n",
       "  border-radius: 1rem;\n",
       "  height: 1rem;\n",
       "  width: 1rem;\n",
       "  text-decoration: none;\n",
       "  /* unfitted */\n",
       "  color: var(--sklearn-color-unfitted-level-1);\n",
       "  border: var(--sklearn-color-unfitted-level-1) 1pt solid;\n",
       "}\n",
       "\n",
       "#sk-container-id-1 a.estimator_doc_link.fitted {\n",
       "  /* fitted */\n",
       "  border: var(--sklearn-color-fitted-level-1) 1pt solid;\n",
       "  color: var(--sklearn-color-fitted-level-1);\n",
       "}\n",
       "\n",
       "/* On hover */\n",
       "#sk-container-id-1 a.estimator_doc_link:hover {\n",
       "  /* unfitted */\n",
       "  background-color: var(--sklearn-color-unfitted-level-3);\n",
       "  color: var(--sklearn-color-background);\n",
       "  text-decoration: none;\n",
       "}\n",
       "\n",
       "#sk-container-id-1 a.estimator_doc_link.fitted:hover {\n",
       "  /* fitted */\n",
       "  background-color: var(--sklearn-color-fitted-level-3);\n",
       "}\n",
       "</style><div id=\"sk-container-id-1\" class=\"sk-top-container\"><div class=\"sk-text-repr-fallback\"><pre>Pipeline(steps=[(&#x27;mean_predictor&#x27;, MeanLagPredictor())])</pre><b>In a Jupyter environment, please rerun this cell to show the HTML representation or trust the notebook. <br />On GitHub, the HTML representation is unable to render, please try loading this page with nbviewer.org.</b></div><div class=\"sk-container\" hidden><div class=\"sk-item sk-dashed-wrapped\"><div class=\"sk-label-container\"><div class=\"sk-label  sk-toggleable\"><input class=\"sk-toggleable__control sk-hidden--visually\" id=\"sk-estimator-id-1\" type=\"checkbox\" ><label for=\"sk-estimator-id-1\" class=\"sk-toggleable__label  sk-toggleable__label-arrow \">&nbsp;&nbsp;Pipeline<a class=\"sk-estimator-doc-link \" rel=\"noreferrer\" target=\"_blank\" href=\"https://scikit-learn.org/1.5/modules/generated/sklearn.pipeline.Pipeline.html\">?<span>Documentation for Pipeline</span></a><span class=\"sk-estimator-doc-link \">i<span>Not fitted</span></span></label><div class=\"sk-toggleable__content \"><pre>Pipeline(steps=[(&#x27;mean_predictor&#x27;, MeanLagPredictor())])</pre></div> </div></div><div class=\"sk-serial\"><div class=\"sk-item\"><div class=\"sk-estimator  sk-toggleable\"><input class=\"sk-toggleable__control sk-hidden--visually\" id=\"sk-estimator-id-2\" type=\"checkbox\" ><label for=\"sk-estimator-id-2\" class=\"sk-toggleable__label  sk-toggleable__label-arrow \">MeanLagPredictor</label><div class=\"sk-toggleable__content \"><pre>MeanLagPredictor()</pre></div> </div></div></div></div></div></div>"
      ],
      "text/plain": [
       "Pipeline(steps=[('mean_predictor', MeanLagPredictor())])"
      ]
     },
     "execution_count": 5,
     "metadata": {},
     "output_type": "execute_result"
    }
   ],
   "source": [
    "model.fit(train, train[[ModelConfig.TS_INDEX, ModelConfig.TARGET]])\n"
   ]
  },
  {
   "cell_type": "code",
   "execution_count": 7,
   "metadata": {},
   "outputs": [
    {
     "data": {
      "text/html": [
       "<div><style>\n",
       ".dataframe > thead > tr,\n",
       ".dataframe > tbody > tr {\n",
       "  text-align: right;\n",
       "  white-space: pre-wrap;\n",
       "}\n",
       "</style>\n",
       "<small>shape: (426, 3)</small><table border=\"1\" class=\"dataframe\"><thead><tr><th>pickup_datetime_hour</th><th>pickup_location_id</th><th>num_pickup</th></tr><tr><td>date</td><td>i16</td><td>decimal[38,0]</td></tr></thead><tbody><tr><td>2022-01-01</td><td>43</td><td>864</td></tr><tr><td>2022-01-02</td><td>43</td><td>991</td></tr><tr><td>2022-01-03</td><td>43</td><td>1246</td></tr><tr><td>2022-01-04</td><td>43</td><td>1334</td></tr><tr><td>2022-01-05</td><td>43</td><td>1306</td></tr><tr><td>&hellip;</td><td>&hellip;</td><td>&hellip;</td></tr><tr><td>2023-02-26</td><td>43</td><td>1271</td></tr><tr><td>2023-02-27</td><td>43</td><td>1373</td></tr><tr><td>2023-02-28</td><td>43</td><td>1563</td></tr><tr><td>2023-03-01</td><td>43</td><td>1559</td></tr><tr><td>2023-03-02</td><td>43</td><td>1713</td></tr></tbody></table></div>"
      ],
      "text/plain": [
       "shape: (426, 3)\n",
       "┌──────────────────────┬────────────────────┬───────────────┐\n",
       "│ pickup_datetime_hour ┆ pickup_location_id ┆ num_pickup    │\n",
       "│ ---                  ┆ ---                ┆ ---           │\n",
       "│ date                 ┆ i16                ┆ decimal[38,0] │\n",
       "╞══════════════════════╪════════════════════╪═══════════════╡\n",
       "│ 2022-01-01           ┆ 43                 ┆ 864           │\n",
       "│ 2022-01-02           ┆ 43                 ┆ 991           │\n",
       "│ 2022-01-03           ┆ 43                 ┆ 1246          │\n",
       "│ 2022-01-04           ┆ 43                 ┆ 1334          │\n",
       "│ 2022-01-05           ┆ 43                 ┆ 1306          │\n",
       "│ …                    ┆ …                  ┆ …             │\n",
       "│ 2023-02-26           ┆ 43                 ┆ 1271          │\n",
       "│ 2023-02-27           ┆ 43                 ┆ 1373          │\n",
       "│ 2023-02-28           ┆ 43                 ┆ 1563          │\n",
       "│ 2023-03-01           ┆ 43                 ┆ 1559          │\n",
       "│ 2023-03-02           ┆ 43                 ┆ 1713          │\n",
       "└──────────────────────┴────────────────────┴───────────────┘"
      ]
     },
     "execution_count": 7,
     "metadata": {},
     "output_type": "execute_result"
    }
   ],
   "source": [
    "train"
   ]
  },
  {
   "cell_type": "code",
   "execution_count": 6,
   "metadata": {},
   "outputs": [
    {
     "ename": "SchemaError",
     "evalue": "failed to determine supertype of decimal[*,4] and object\n\nResolved plan until failure:\n\n\t---> FAILED HERE RESOLVING 'with_columns' <---\nDF [\"pickup_datetime_hour\", \"prediction\", \"prediction_0\", \"prediction_1\"]; PROJECT */502 COLUMNS; SELECTION: None",
     "output_type": "error",
     "traceback": [
      "\u001b[1;31m---------------------------------------------------------------------------\u001b[0m",
      "\u001b[1;31mSchemaError\u001b[0m                               Traceback (most recent call last)",
      "Cell \u001b[1;32mIn[6], line 1\u001b[0m\n\u001b[1;32m----> 1\u001b[0m predictions \u001b[38;5;241m=\u001b[39m \u001b[43mmodel\u001b[49m\u001b[38;5;241;43m.\u001b[39;49m\u001b[43mpredict\u001b[49m\u001b[43m(\u001b[49m\u001b[43mtrain\u001b[49m\u001b[43m)\u001b[49m\n\u001b[0;32m      2\u001b[0m test_predictions \u001b[38;5;241m=\u001b[39m model\u001b[38;5;241m.\u001b[39mpredict(test)\n",
      "File \u001b[1;32mc:\\Users\\selaf\\OneDrive\\Documentos\\dev\\real-ml-course\\taxi_demand_predictor\\.venv\\Lib\\site-packages\\sklearn\\pipeline.py:601\u001b[0m, in \u001b[0;36mPipeline.predict\u001b[1;34m(self, X, **params)\u001b[0m\n\u001b[0;32m    599\u001b[0m     \u001b[38;5;28;01mfor\u001b[39;00m _, name, transform \u001b[38;5;129;01min\u001b[39;00m \u001b[38;5;28mself\u001b[39m\u001b[38;5;241m.\u001b[39m_iter(with_final\u001b[38;5;241m=\u001b[39m\u001b[38;5;28;01mFalse\u001b[39;00m):\n\u001b[0;32m    600\u001b[0m         Xt \u001b[38;5;241m=\u001b[39m transform\u001b[38;5;241m.\u001b[39mtransform(Xt)\n\u001b[1;32m--> 601\u001b[0m     \u001b[38;5;28;01mreturn\u001b[39;00m \u001b[38;5;28;43mself\u001b[39;49m\u001b[38;5;241;43m.\u001b[39;49m\u001b[43msteps\u001b[49m\u001b[43m[\u001b[49m\u001b[38;5;241;43m-\u001b[39;49m\u001b[38;5;241;43m1\u001b[39;49m\u001b[43m]\u001b[49m\u001b[43m[\u001b[49m\u001b[38;5;241;43m1\u001b[39;49m\u001b[43m]\u001b[49m\u001b[38;5;241;43m.\u001b[39;49m\u001b[43mpredict\u001b[49m\u001b[43m(\u001b[49m\u001b[43mXt\u001b[49m\u001b[43m,\u001b[49m\u001b[43m \u001b[49m\u001b[38;5;241;43m*\u001b[39;49m\u001b[38;5;241;43m*\u001b[39;49m\u001b[43mparams\u001b[49m\u001b[43m)\u001b[49m\n\u001b[0;32m    603\u001b[0m \u001b[38;5;66;03m# metadata routing enabled\u001b[39;00m\n\u001b[0;32m    604\u001b[0m routed_params \u001b[38;5;241m=\u001b[39m process_routing(\u001b[38;5;28mself\u001b[39m, \u001b[38;5;124m\"\u001b[39m\u001b[38;5;124mpredict\u001b[39m\u001b[38;5;124m\"\u001b[39m, \u001b[38;5;241m*\u001b[39m\u001b[38;5;241m*\u001b[39mparams)\n",
      "File \u001b[1;32m~\\OneDrive\\Documentos\\dev\\real-ml-course\\taxi_demand_predictor\\src\\pipeline.py:125\u001b[0m, in \u001b[0;36mMeanLagPredictor.predict\u001b[1;34m(self, X, return_prediction_interval, calculate_lags, **kwargs)\u001b[0m\n\u001b[0;32m    116\u001b[0m pred \u001b[38;5;241m=\u001b[39m (\n\u001b[0;32m    117\u001b[0m     X\n\u001b[0;32m    118\u001b[0m     \u001b[38;5;241m.\u001b[39mselect(\n\u001b[1;32m   (...)\u001b[0m\n\u001b[0;32m    121\u001b[0m     )\n\u001b[0;32m    122\u001b[0m )\n\u001b[0;32m    124\u001b[0m \u001b[38;5;28;01mif\u001b[39;00m return_prediction_interval:\n\u001b[1;32m--> 125\u001b[0m     \u001b[38;5;28;01mreturn\u001b[39;00m \u001b[38;5;28;43mself\u001b[39;49m\u001b[38;5;241;43m.\u001b[39;49m\u001b[43mget_prediction_intervals\u001b[49m\u001b[43m(\u001b[49m\u001b[43mpred\u001b[49m\u001b[43m,\u001b[49m\u001b[43m \u001b[49m\u001b[38;5;241;43m*\u001b[39;49m\u001b[38;5;241;43m*\u001b[39;49m\u001b[43mkwargs\u001b[49m\u001b[43m)\u001b[49m\n\u001b[0;32m    127\u001b[0m \u001b[38;5;28;01mreturn\u001b[39;00m pred\n",
      "File \u001b[1;32m~\\OneDrive\\Documentos\\dev\\real-ml-course\\taxi_demand_predictor\\src\\pipeline.py:165\u001b[0m, in \u001b[0;36mMeanLagPredictor.get_prediction_intervals\u001b[1;34m(self, pred, B, CIs, **kwargs)\u001b[0m\n\u001b[0;32m    157\u001b[0m rng \u001b[38;5;241m=\u001b[39m np\u001b[38;5;241m.\u001b[39mrandom\u001b[38;5;241m.\u001b[39mdefault_rng(seed\u001b[38;5;241m=\u001b[39m\u001b[38;5;28mself\u001b[39m\u001b[38;5;241m.\u001b[39mrandom_state)\n\u001b[0;32m    158\u001b[0m bootstrap_errors \u001b[38;5;241m=\u001b[39m pl\u001b[38;5;241m.\u001b[39mDataFrame(\n\u001b[0;32m    159\u001b[0m     rng\u001b[38;5;241m.\u001b[39mchoice(\u001b[38;5;28mself\u001b[39m\u001b[38;5;241m.\u001b[39mresiduals, (pred\u001b[38;5;241m.\u001b[39mshape[\u001b[38;5;241m0\u001b[39m], B))\n\u001b[0;32m    160\u001b[0m     , schema\u001b[38;5;241m=\u001b[39m[\u001b[38;5;124mf\u001b[39m\u001b[38;5;124m\"\u001b[39m\u001b[38;5;124mprediction_\u001b[39m\u001b[38;5;132;01m{\u001b[39;00mx\u001b[38;5;132;01m}\u001b[39;00m\u001b[38;5;124m\"\u001b[39m \u001b[38;5;28;01mfor\u001b[39;00m x \u001b[38;5;129;01min\u001b[39;00m \u001b[38;5;28mrange\u001b[39m(B)]\n\u001b[0;32m    161\u001b[0m )\n\u001b[0;32m    162\u001b[0m \u001b[38;5;28;01mreturn\u001b[39;00m (\n\u001b[0;32m    163\u001b[0m     \u001b[43mpred\u001b[49m\n\u001b[0;32m    164\u001b[0m \u001b[43m    \u001b[49m\u001b[38;5;241;43m.\u001b[39;49m\u001b[43mhstack\u001b[49m\u001b[43m(\u001b[49m\u001b[43mbootstrap_errors\u001b[49m\u001b[43m)\u001b[49m\n\u001b[1;32m--> 165\u001b[0m \u001b[43m    \u001b[49m\u001b[38;5;241;43m.\u001b[39;49m\u001b[43mwith_columns\u001b[49m\u001b[43m(\u001b[49m\n\u001b[0;32m    166\u001b[0m \u001b[43m        \u001b[49m\u001b[43m[\u001b[49m\u001b[43m(\u001b[49m\u001b[43mpl\u001b[49m\u001b[38;5;241;43m.\u001b[39;49m\u001b[43mcol\u001b[49m\u001b[43m(\u001b[49m\u001b[38;5;124;43m\"\u001b[39;49m\u001b[38;5;124;43mprediction\u001b[39;49m\u001b[38;5;124;43m\"\u001b[39;49m\u001b[43m)\u001b[49m\u001b[43m \u001b[49m\u001b[38;5;241;43m+\u001b[39;49m\u001b[43m \u001b[49m\u001b[43mpl\u001b[49m\u001b[38;5;241;43m.\u001b[39;49m\u001b[43mcol\u001b[49m\u001b[43m(\u001b[49m\u001b[38;5;124;43mf\u001b[39;49m\u001b[38;5;124;43m\"\u001b[39;49m\u001b[38;5;124;43mprediction_\u001b[39;49m\u001b[38;5;132;43;01m{\u001b[39;49;00m\u001b[43mx\u001b[49m\u001b[38;5;132;43;01m}\u001b[39;49;00m\u001b[38;5;124;43m\"\u001b[39;49m\u001b[43m)\u001b[49m\u001b[43m)\u001b[49m\u001b[38;5;241;43m.\u001b[39;49m\u001b[43malias\u001b[49m\u001b[43m(\u001b[49m\u001b[38;5;124;43mf\u001b[39;49m\u001b[38;5;124;43m\"\u001b[39;49m\u001b[38;5;124;43mprediction_\u001b[39;49m\u001b[38;5;132;43;01m{\u001b[39;49;00m\u001b[43mx\u001b[49m\u001b[38;5;132;43;01m}\u001b[39;49;00m\u001b[38;5;124;43m\"\u001b[39;49m\u001b[43m)\u001b[49m\u001b[43m \u001b[49m\u001b[38;5;28;43;01mfor\u001b[39;49;00m\u001b[43m \u001b[49m\u001b[43mx\u001b[49m\u001b[43m \u001b[49m\u001b[38;5;129;43;01min\u001b[39;49;00m\u001b[43m \u001b[49m\u001b[38;5;28;43mrange\u001b[39;49m\u001b[43m(\u001b[49m\u001b[43mB\u001b[49m\u001b[43m)\u001b[49m\u001b[43m]\u001b[49m\n\u001b[0;32m    167\u001b[0m \u001b[43m    \u001b[49m\u001b[43m)\u001b[49m\n\u001b[0;32m    168\u001b[0m     \u001b[38;5;241m.\u001b[39mmelt(id_vars\u001b[38;5;241m=\u001b[39m[\u001b[38;5;28mself\u001b[39m\u001b[38;5;241m.\u001b[39mts_index, \u001b[38;5;124m\"\u001b[39m\u001b[38;5;124mprediction\u001b[39m\u001b[38;5;124m\"\u001b[39m])\n\u001b[0;32m    169\u001b[0m     \u001b[38;5;241m.\u001b[39mgroup_by([pl\u001b[38;5;241m.\u001b[39mcol(\u001b[38;5;28mself\u001b[39m\u001b[38;5;241m.\u001b[39mts_index), pl\u001b[38;5;241m.\u001b[39mcol(\u001b[38;5;124m\"\u001b[39m\u001b[38;5;124mprediction\u001b[39m\u001b[38;5;124m\"\u001b[39m)])\n\u001b[0;32m    170\u001b[0m     \u001b[38;5;241m.\u001b[39magg(\n\u001b[0;32m    171\u001b[0m         pl\u001b[38;5;241m.\u001b[39mcol(\u001b[38;5;124m\"\u001b[39m\u001b[38;5;124mvalue\u001b[39m\u001b[38;5;124m\"\u001b[39m)\u001b[38;5;241m.\u001b[39mquantile(CIs[\u001b[38;5;241m0\u001b[39m] \u001b[38;5;241m/\u001b[39m \u001b[38;5;241m100\u001b[39m)\u001b[38;5;241m.\u001b[39malias(\u001b[38;5;124m\"\u001b[39m\u001b[38;5;124mlower_bound\u001b[39m\u001b[38;5;124m\"\u001b[39m)\n\u001b[0;32m    172\u001b[0m         , pl\u001b[38;5;241m.\u001b[39mcol(\u001b[38;5;124m\"\u001b[39m\u001b[38;5;124mvalue\u001b[39m\u001b[38;5;124m\"\u001b[39m)\u001b[38;5;241m.\u001b[39mquantile(CIs[\u001b[38;5;241m1\u001b[39m] \u001b[38;5;241m/\u001b[39m \u001b[38;5;241m100\u001b[39m)\u001b[38;5;241m.\u001b[39malias(\u001b[38;5;124m\"\u001b[39m\u001b[38;5;124mupper_bound\u001b[39m\u001b[38;5;124m\"\u001b[39m)\n\u001b[0;32m    173\u001b[0m     )\n\u001b[0;32m    174\u001b[0m     \u001b[38;5;241m.\u001b[39mselect([pl\u001b[38;5;241m.\u001b[39mcol(\u001b[38;5;28mself\u001b[39m\u001b[38;5;241m.\u001b[39mts_index), pl\u001b[38;5;241m.\u001b[39mcol(\u001b[38;5;124m\"\u001b[39m\u001b[38;5;124mprediction\u001b[39m\u001b[38;5;124m\"\u001b[39m), pl\u001b[38;5;241m.\u001b[39mcol(\u001b[38;5;124m\"\u001b[39m\u001b[38;5;124mlower_bound\u001b[39m\u001b[38;5;124m\"\u001b[39m), pl\u001b[38;5;241m.\u001b[39mcol(\u001b[38;5;124m\"\u001b[39m\u001b[38;5;124mupper_bound\u001b[39m\u001b[38;5;124m\"\u001b[39m)])\n\u001b[0;32m    175\u001b[0m     \u001b[38;5;241m.\u001b[39msort(\u001b[38;5;28mself\u001b[39m\u001b[38;5;241m.\u001b[39mts_index)\n\u001b[0;32m    176\u001b[0m )\n",
      "File \u001b[1;32mc:\\Users\\selaf\\OneDrive\\Documentos\\dev\\real-ml-course\\taxi_demand_predictor\\.venv\\Lib\\site-packages\\polars\\dataframe\\frame.py:9286\u001b[0m, in \u001b[0;36mDataFrame.with_columns\u001b[1;34m(self, *exprs, **named_exprs)\u001b[0m\n\u001b[0;32m   9140\u001b[0m \u001b[38;5;28;01mdef\u001b[39;00m \u001b[38;5;21mwith_columns\u001b[39m(\n\u001b[0;32m   9141\u001b[0m     \u001b[38;5;28mself\u001b[39m,\n\u001b[0;32m   9142\u001b[0m     \u001b[38;5;241m*\u001b[39mexprs: IntoExpr \u001b[38;5;241m|\u001b[39m Iterable[IntoExpr],\n\u001b[0;32m   9143\u001b[0m     \u001b[38;5;241m*\u001b[39m\u001b[38;5;241m*\u001b[39mnamed_exprs: IntoExpr,\n\u001b[0;32m   9144\u001b[0m ) \u001b[38;5;241m-\u001b[39m\u001b[38;5;241m>\u001b[39m DataFrame:\n\u001b[0;32m   9145\u001b[0m \u001b[38;5;250m    \u001b[39m\u001b[38;5;124;03m\"\"\"\u001b[39;00m\n\u001b[0;32m   9146\u001b[0m \u001b[38;5;124;03m    Add columns to this DataFrame.\u001b[39;00m\n\u001b[0;32m   9147\u001b[0m \n\u001b[1;32m   (...)\u001b[0m\n\u001b[0;32m   9284\u001b[0m \u001b[38;5;124;03m    └─────┴──────┴─────────────┘\u001b[39;00m\n\u001b[0;32m   9285\u001b[0m \u001b[38;5;124;03m    \"\"\"\u001b[39;00m\n\u001b[1;32m-> 9286\u001b[0m     \u001b[38;5;28;01mreturn\u001b[39;00m \u001b[38;5;28;43mself\u001b[39;49m\u001b[38;5;241;43m.\u001b[39;49m\u001b[43mlazy\u001b[49m\u001b[43m(\u001b[49m\u001b[43m)\u001b[49m\u001b[38;5;241;43m.\u001b[39;49m\u001b[43mwith_columns\u001b[49m\u001b[43m(\u001b[49m\u001b[38;5;241;43m*\u001b[39;49m\u001b[43mexprs\u001b[49m\u001b[43m,\u001b[49m\u001b[43m \u001b[49m\u001b[38;5;241;43m*\u001b[39;49m\u001b[38;5;241;43m*\u001b[39;49m\u001b[43mnamed_exprs\u001b[49m\u001b[43m)\u001b[49m\u001b[38;5;241;43m.\u001b[39;49m\u001b[43mcollect\u001b[49m\u001b[43m(\u001b[49m\u001b[43m_eager\u001b[49m\u001b[38;5;241;43m=\u001b[39;49m\u001b[38;5;28;43;01mTrue\u001b[39;49;00m\u001b[43m)\u001b[49m\n",
      "File \u001b[1;32mc:\\Users\\selaf\\OneDrive\\Documentos\\dev\\real-ml-course\\taxi_demand_predictor\\.venv\\Lib\\site-packages\\polars\\lazyframe\\frame.py:2029\u001b[0m, in \u001b[0;36mLazyFrame.collect\u001b[1;34m(self, type_coercion, predicate_pushdown, projection_pushdown, simplify_expression, slice_pushdown, comm_subplan_elim, comm_subexpr_elim, cluster_with_columns, collapse_joins, no_optimization, streaming, engine, background, _eager, **_kwargs)\u001b[0m\n\u001b[0;32m   2027\u001b[0m \u001b[38;5;66;03m# Only for testing purposes\u001b[39;00m\n\u001b[0;32m   2028\u001b[0m callback \u001b[38;5;241m=\u001b[39m _kwargs\u001b[38;5;241m.\u001b[39mget(\u001b[38;5;124m\"\u001b[39m\u001b[38;5;124mpost_opt_callback\u001b[39m\u001b[38;5;124m\"\u001b[39m, callback)\n\u001b[1;32m-> 2029\u001b[0m \u001b[38;5;28;01mreturn\u001b[39;00m wrap_df(\u001b[43mldf\u001b[49m\u001b[38;5;241;43m.\u001b[39;49m\u001b[43mcollect\u001b[49m\u001b[43m(\u001b[49m\u001b[43mcallback\u001b[49m\u001b[43m)\u001b[49m)\n",
      "\u001b[1;31mSchemaError\u001b[0m: failed to determine supertype of decimal[*,4] and object\n\nResolved plan until failure:\n\n\t---> FAILED HERE RESOLVING 'with_columns' <---\nDF [\"pickup_datetime_hour\", \"prediction\", \"prediction_0\", \"prediction_1\"]; PROJECT */502 COLUMNS; SELECTION: None"
     ]
    }
   ],
   "source": [
    "predictions = model.predict(train)\n",
    "test_predictions = model.predict(test)"
   ]
  },
  {
   "cell_type": "code",
   "execution_count": 7,
   "metadata": {},
   "outputs": [
    {
     "data": {
      "text/html": [
       "<div><style>\n",
       ".dataframe > thead > tr,\n",
       ".dataframe > tbody > tr {\n",
       "  text-align: right;\n",
       "  white-space: pre-wrap;\n",
       "}\n",
       "</style>\n",
       "<small>shape: (5, 5)</small><table border=\"1\" class=\"dataframe\"><thead><tr><th>pickup_datetime_hour</th><th>prediction</th><th>lower_bound</th><th>upper_bound</th><th>width</th></tr><tr><td>date</td><td>f64</td><td>f64</td><td>f64</td><td>f64</td></tr></thead><tbody><tr><td>2022-01-29</td><td>1138.6</td><td>651.0</td><td>1516.2</td><td>865.2</td></tr><tr><td>2022-01-30</td><td>1018.4</td><td>524.2</td><td>1420.2</td><td>896.0</td></tr><tr><td>2022-01-31</td><td>1248.8</td><td>754.6</td><td>1681.2</td><td>926.6</td></tr><tr><td>2022-02-01</td><td>1434.4</td><td>945.0</td><td>1822.8</td><td>877.8</td></tr><tr><td>2022-02-02</td><td>1456.8</td><td>963.2</td><td>1841.0</td><td>877.8</td></tr></tbody></table></div>"
      ],
      "text/plain": [
       "shape: (5, 5)\n",
       "┌──────────────────────┬────────────┬─────────────┬─────────────┬───────┐\n",
       "│ pickup_datetime_hour ┆ prediction ┆ lower_bound ┆ upper_bound ┆ width │\n",
       "│ ---                  ┆ ---        ┆ ---         ┆ ---         ┆ ---   │\n",
       "│ date                 ┆ f64        ┆ f64         ┆ f64         ┆ f64   │\n",
       "╞══════════════════════╪════════════╪═════════════╪═════════════╪═══════╡\n",
       "│ 2022-01-29           ┆ 1138.6     ┆ 651.0       ┆ 1516.2      ┆ 865.2 │\n",
       "│ 2022-01-30           ┆ 1018.4     ┆ 524.2       ┆ 1420.2      ┆ 896.0 │\n",
       "│ 2022-01-31           ┆ 1248.8     ┆ 754.6       ┆ 1681.2      ┆ 926.6 │\n",
       "│ 2022-02-01           ┆ 1434.4     ┆ 945.0       ┆ 1822.8      ┆ 877.8 │\n",
       "│ 2022-02-02           ┆ 1456.8     ┆ 963.2       ┆ 1841.0      ┆ 877.8 │\n",
       "└──────────────────────┴────────────┴─────────────┴─────────────┴───────┘"
      ]
     },
     "execution_count": 7,
     "metadata": {},
     "output_type": "execute_result"
    }
   ],
   "source": [
    "predictions.with_columns( (pl.col(\"upper_bound\") - pl.col(\"lower_bound\")).alias(\"width\")).head()"
   ]
  },
  {
   "cell_type": "code",
   "execution_count": 8,
   "metadata": {},
   "outputs": [
    {
     "name": "stdout",
     "output_type": "stream",
     "text": [
      "Train MAE: 150.11, Test MAE: 122.73\n"
     ]
    },
    {
     "data": {
      "application/vnd.plotly.v1+json": {
       "config": {
        "plotlyServerURL": "https://plot.ly"
       },
       "data": [
        {
         "mode": "lines",
         "name": "prediction",
         "type": "scatter",
         "x": [
          "2022-01-29",
          "2022-01-30",
          "2022-01-31",
          "2022-02-01",
          "2022-02-02",
          "2022-02-03",
          "2022-02-04",
          "2022-02-05",
          "2022-02-06",
          "2022-02-07",
          "2022-02-08",
          "2022-02-09",
          "2022-02-10",
          "2022-02-11",
          "2022-02-12",
          "2022-02-13",
          "2022-02-14",
          "2022-02-15",
          "2022-02-16",
          "2022-02-17",
          "2022-02-18",
          "2022-02-19",
          "2022-02-20",
          "2022-02-21",
          "2022-02-22",
          "2022-02-23",
          "2022-02-24",
          "2022-02-25",
          "2022-02-26",
          "2022-02-27",
          "2022-02-28",
          "2022-03-01",
          "2022-03-02",
          "2022-03-03",
          "2022-03-04",
          "2022-03-05",
          "2022-03-06",
          "2022-03-07",
          "2022-03-08",
          "2022-03-09",
          "2022-03-10",
          "2022-03-11",
          "2022-03-12",
          "2022-03-13",
          "2022-03-14",
          "2022-03-15",
          "2022-03-16",
          "2022-03-17",
          "2022-03-18",
          "2022-03-19",
          "2022-03-20",
          "2022-03-21",
          "2022-03-22",
          "2022-03-23",
          "2022-03-24",
          "2022-03-25",
          "2022-03-26",
          "2022-03-27",
          "2022-03-28",
          "2022-03-29",
          "2022-03-30",
          "2022-03-31",
          "2022-04-01",
          "2022-04-02",
          "2022-04-03",
          "2022-04-04",
          "2022-04-05",
          "2022-04-06",
          "2022-04-07",
          "2022-04-08",
          "2022-04-09",
          "2022-04-10",
          "2022-04-11",
          "2022-04-12",
          "2022-04-13",
          "2022-04-14",
          "2022-04-15",
          "2022-04-16",
          "2022-04-17",
          "2022-04-18",
          "2022-04-19",
          "2022-04-20",
          "2022-04-21",
          "2022-04-22",
          "2022-04-23",
          "2022-04-24",
          "2022-04-25",
          "2022-04-26",
          "2022-04-27",
          "2022-04-28",
          "2022-04-29",
          "2022-04-30",
          "2022-05-01",
          "2022-05-02",
          "2022-05-03",
          "2022-05-04",
          "2022-05-05",
          "2022-05-06",
          "2022-05-07",
          "2022-05-08",
          "2022-05-09",
          "2022-05-10",
          "2022-05-11",
          "2022-05-12",
          "2022-05-13",
          "2022-05-14",
          "2022-05-15",
          "2022-05-16",
          "2022-05-17",
          "2022-05-18",
          "2022-05-19",
          "2022-05-20",
          "2022-05-21",
          "2022-05-22",
          "2022-05-23",
          "2022-05-24",
          "2022-05-25",
          "2022-05-26",
          "2022-05-27",
          "2022-05-28",
          "2022-05-29",
          "2022-05-30",
          "2022-05-31",
          "2022-06-01",
          "2022-06-02",
          "2022-06-03",
          "2022-06-04",
          "2022-06-05",
          "2022-06-06",
          "2022-06-07",
          "2022-06-08",
          "2022-06-09",
          "2022-06-10",
          "2022-06-11",
          "2022-06-12",
          "2022-06-13",
          "2022-06-14",
          "2022-06-15",
          "2022-06-16",
          "2022-06-17",
          "2022-06-18",
          "2022-06-19",
          "2022-06-20",
          "2022-06-21",
          "2022-06-22",
          "2022-06-23",
          "2022-06-24",
          "2022-06-25",
          "2022-06-26",
          "2022-06-27",
          "2022-06-28",
          "2022-06-29",
          "2022-06-30",
          "2022-07-01",
          "2022-07-02",
          "2022-07-03",
          "2022-07-04",
          "2022-07-05",
          "2022-07-06",
          "2022-07-07",
          "2022-07-08",
          "2022-07-09",
          "2022-07-10",
          "2022-07-11",
          "2022-07-12",
          "2022-07-13",
          "2022-07-14",
          "2022-07-15",
          "2022-07-16",
          "2022-07-17",
          "2022-07-18",
          "2022-07-19",
          "2022-07-20",
          "2022-07-21",
          "2022-07-22",
          "2022-07-23",
          "2022-07-24",
          "2022-07-25",
          "2022-07-26",
          "2022-07-27",
          "2022-07-28",
          "2022-07-29",
          "2022-07-30",
          "2022-07-31",
          "2022-08-01",
          "2022-08-02",
          "2022-08-03",
          "2022-08-04",
          "2022-08-05",
          "2022-08-06",
          "2022-08-07",
          "2022-08-08",
          "2022-08-09",
          "2022-08-10",
          "2022-08-11",
          "2022-08-12",
          "2022-08-13",
          "2022-08-14",
          "2022-08-15",
          "2022-08-16",
          "2022-08-17",
          "2022-08-18",
          "2022-08-19",
          "2022-08-20",
          "2022-08-21",
          "2022-08-22",
          "2022-08-23",
          "2022-08-24",
          "2022-08-25",
          "2022-08-26",
          "2022-08-27",
          "2022-08-28",
          "2022-08-29",
          "2022-08-30",
          "2022-08-31",
          "2022-09-01",
          "2022-09-02",
          "2022-09-03",
          "2022-09-04",
          "2022-09-05",
          "2022-09-06",
          "2022-09-07",
          "2022-09-08",
          "2022-09-09",
          "2022-09-10",
          "2022-09-11",
          "2022-09-12",
          "2022-09-13",
          "2022-09-14",
          "2022-09-15",
          "2022-09-16",
          "2022-09-17",
          "2022-09-18",
          "2022-09-19",
          "2022-09-20",
          "2022-09-21",
          "2022-09-22",
          "2022-09-23",
          "2022-09-24",
          "2022-09-25",
          "2022-09-26",
          "2022-09-27",
          "2022-09-28",
          "2022-09-29",
          "2022-09-30",
          "2022-10-01",
          "2022-10-02",
          "2022-10-03",
          "2022-10-04",
          "2022-10-05",
          "2022-10-06",
          "2022-10-07",
          "2022-10-08",
          "2022-10-09",
          "2022-10-10",
          "2022-10-11",
          "2022-10-12",
          "2022-10-13",
          "2022-10-14",
          "2022-10-15",
          "2022-10-16",
          "2022-10-17",
          "2022-10-18",
          "2022-10-19",
          "2022-10-20",
          "2022-10-21",
          "2022-10-22",
          "2022-10-23",
          "2022-10-24",
          "2022-10-25",
          "2022-10-26",
          "2022-10-27",
          "2022-10-28",
          "2022-10-29",
          "2022-10-30",
          "2022-10-31",
          "2022-11-01",
          "2022-11-02",
          "2022-11-03",
          "2022-11-04",
          "2022-11-05",
          "2022-11-06",
          "2022-11-07",
          "2022-11-08",
          "2022-11-09",
          "2022-11-10",
          "2022-11-11",
          "2022-11-12",
          "2022-11-13",
          "2022-11-14",
          "2022-11-15",
          "2022-11-16",
          "2022-11-17",
          "2022-11-18",
          "2022-11-19",
          "2022-11-20",
          "2022-11-21",
          "2022-11-22",
          "2022-11-23",
          "2022-11-24",
          "2022-11-25",
          "2022-11-26",
          "2022-11-27",
          "2022-11-28",
          "2022-11-29",
          "2022-11-30",
          "2022-12-01",
          "2022-12-02",
          "2022-12-03",
          "2022-12-04",
          "2022-12-05",
          "2022-12-06",
          "2022-12-07",
          "2022-12-08",
          "2022-12-09",
          "2022-12-10",
          "2022-12-11",
          "2022-12-12",
          "2022-12-13",
          "2022-12-14",
          "2022-12-15",
          "2022-12-16",
          "2022-12-17",
          "2022-12-18",
          "2022-12-19",
          "2022-12-20",
          "2022-12-21",
          "2022-12-22",
          "2022-12-23",
          "2022-12-24",
          "2022-12-25",
          "2022-12-26",
          "2022-12-27",
          "2022-12-28",
          "2022-12-29",
          "2022-12-30",
          "2022-12-31",
          "2023-01-01",
          "2023-01-02",
          "2023-01-03",
          "2023-01-04",
          "2023-01-05",
          "2023-01-06",
          "2023-01-07",
          "2023-01-08",
          "2023-01-09",
          "2023-01-10",
          "2023-01-11",
          "2023-01-12",
          "2023-01-13",
          "2023-01-14",
          "2023-01-15",
          "2023-01-16",
          "2023-01-17",
          "2023-01-18",
          "2023-01-19",
          "2023-01-20",
          "2023-01-21",
          "2023-01-22",
          "2023-01-23",
          "2023-01-24",
          "2023-01-25",
          "2023-01-26",
          "2023-01-27",
          "2023-01-28",
          "2023-01-29",
          "2023-01-30",
          "2023-01-31",
          "2023-02-01",
          "2023-02-02",
          "2023-02-03",
          "2023-02-04",
          "2023-02-05",
          "2023-02-06",
          "2023-02-07",
          "2023-02-08",
          "2023-02-09",
          "2023-02-10",
          "2023-02-11",
          "2023-02-12",
          "2023-02-13",
          "2023-02-14",
          "2023-02-15",
          "2023-02-16",
          "2023-02-17",
          "2023-02-18",
          "2023-02-19",
          "2023-02-20",
          "2023-02-21",
          "2023-02-22",
          "2023-02-23",
          "2023-02-24",
          "2023-02-25",
          "2023-02-26",
          "2023-02-27",
          "2023-02-28",
          "2023-03-01",
          "2023-03-02"
         ],
         "y": [
          1138.6,
          1018.4,
          1248.8,
          1434.4,
          1456.8,
          1523.4,
          1560.4,
          1346.8,
          1326.2,
          1349,
          1515.8,
          1535,
          1656,
          1703.8,
          1522.4,
          1422.8,
          1406.8,
          1670.4,
          1629.6,
          1695.2,
          1800,
          1834.6,
          1516.6,
          1561.4,
          1721.4,
          1704.4,
          1827.2,
          1869.2,
          1708,
          1566.8,
          1643.8,
          1771.2,
          1764,
          1897.8,
          1962,
          1993.2,
          1669.6,
          1617.4,
          1862.4,
          1833.2,
          1965.2,
          2082.8,
          2045.4,
          1661.2,
          1716.4,
          1903.4,
          1807.6,
          1845.2,
          1917.4,
          2052.2,
          1643,
          1630,
          1909.8,
          1787,
          1828,
          2057.2,
          2023.2,
          1705,
          1746.2,
          2006.6,
          1899.8,
          1938.4,
          2147.6,
          2121.2,
          1733.2,
          1817.2,
          2053.4,
          1891.2,
          2076.8,
          2173.8,
          2217.6,
          1851.6,
          1944.8,
          2060.4,
          1984.6,
          2051,
          2262,
          2200.6,
          1867.6,
          1883.2,
          2017.8,
          2017.6,
          2227.6,
          2334.2,
          2249.4,
          1910.8,
          1928.4,
          2075.8,
          2123.8,
          2324,
          2271.4,
          2262.8,
          1914.8,
          1790,
          2015.4,
          2138.8,
          2265.6,
          2315,
          2177.4,
          1861.2,
          1887.8,
          2167.2,
          2191.4,
          2326.4,
          2198.6,
          2140.4,
          1796.2,
          1837.2,
          2209.8,
          2181,
          2346.2,
          2159,
          1940.6,
          1744,
          1850,
          2165.8,
          2175.2,
          2208.8,
          2044.6,
          1994,
          1642,
          1765,
          2067.6,
          2028.4,
          2147.8,
          1976.8,
          2056.4,
          1709.4,
          1795,
          2152,
          2148.6,
          2210.8,
          2133,
          2036.4,
          1553,
          1748.6,
          2149.8,
          2163.2,
          2220.6,
          2049.6,
          2153.6,
          1453.2,
          1928.6,
          2080.6,
          2110.6,
          2106.4,
          2077.8,
          2067.6,
          1663.4,
          1757.6,
          1938,
          1994.6,
          2023,
          1936,
          2061,
          1549.2,
          1621.6,
          1796.8,
          1811.6,
          1972.6,
          1891.2,
          1892.8,
          1446,
          1624.4,
          1834,
          1919.2,
          1928,
          1858.6,
          1866.6,
          1657.6,
          1527.8,
          1780,
          1765.6,
          1958.2,
          1875.8,
          1924,
          1666.2,
          1567.4,
          1842.2,
          1816.2,
          1899.6,
          1821.4,
          1867.2,
          1640.2,
          1385.2,
          1698.4,
          1705,
          1854.6,
          1823.8,
          1900.6,
          1662.6,
          1491,
          1800.6,
          1646.4,
          1769,
          1815.4,
          1951.4,
          1576.4,
          1446,
          1754.8,
          1528.2,
          1790.6,
          1786.6,
          1919.8,
          1501,
          1447,
          1672.4,
          1532.8,
          1771.4,
          1833.4,
          1891.4,
          1521.6,
          1414,
          1598.8,
          1548.4,
          1732.4,
          1768.2,
          1925.4,
          1548.8,
          1460.2,
          1588,
          1539.2,
          1846.4,
          1912.4,
          1887.2,
          1450.6,
          1464.6,
          1753.8,
          1751.8,
          1938.8,
          1979.8,
          1631.6,
          942.2,
          1301.4,
          1782.8,
          1751.8,
          1869.8,
          1950.8,
          1613.2,
          1247.6,
          1637.4,
          1825,
          1758.4,
          1986.6,
          2026.2,
          1715.4,
          1274.8,
          1569,
          1804,
          1736.6,
          2032.2,
          2021.8,
          1972.2,
          1503.6,
          1589.8,
          1833.2,
          2012.6,
          2183.4,
          2140.4,
          1780.6,
          1330.6,
          1661.6,
          2017.4,
          1881.6,
          2074.2,
          2158.4,
          2182.6,
          1694.8,
          1645.8,
          2131.2,
          2100.4,
          2243.2,
          2261,
          2159.6,
          1744,
          1793.4,
          2003.2,
          1972,
          2256.8,
          2356.8,
          2285,
          1596.6,
          1532.8,
          2170.4,
          2090,
          2271,
          2309.2,
          2236.4,
          1690.2,
          1764.8,
          1858.4,
          1825.6,
          2026.6,
          2031.2,
          2055.6,
          1373,
          1781.2,
          2014.8,
          1874,
          1793,
          1839,
          2008.4,
          1645.8,
          1671.8,
          1853.4,
          1747,
          1827.4,
          2132.2,
          2114,
          1472.4,
          1944.6,
          2044,
          1934.4,
          2032.2,
          2223.2,
          2189.4,
          1740,
          1786.2,
          1936.6,
          1917.4,
          2105,
          2132.2,
          2019.2,
          1676,
          1928.4,
          2104.8,
          1883.4,
          1837.6,
          1997.4,
          1862.4,
          1372,
          1602.6,
          1808.4,
          1758.8,
          1903.8,
          2046.6,
          1808.8,
          1335.8,
          1564.6,
          1737.4,
          1614.6,
          1901.6,
          1970.4,
          1755,
          1387.8,
          1480,
          1643.2,
          1641.6,
          1828,
          1924.4,
          1845.2,
          1462,
          1470.4,
          1544.4,
          1541,
          1772.2,
          1879.2,
          1814,
          1362.6,
          1340.4,
          1582.2,
          1573.4,
          1772.4,
          1873.6,
          1834.6,
          1413.2,
          1320.6,
          1508,
          1512,
          1762.6,
          1878.2,
          1865.8,
          1373.8,
          1355,
          1540,
          1548.2,
          1670,
          1845,
          1850.4,
          1431,
          1372.6,
          1583.8,
          1633.6,
          1725.2,
          1880.8,
          1873.6,
          1470.2,
          1428.2,
          1637.4,
          1508,
          1710,
          1934.2,
          1872.4,
          1404,
          1395,
          1552.8,
          1546.2,
          1714.2
         ]
        },
        {
         "mode": "markers",
         "name": "num_pickup",
         "type": "scatter",
         "x": [
          "2022-01-29",
          "2022-01-30",
          "2022-01-31",
          "2022-02-01",
          "2022-02-02",
          "2022-02-03",
          "2022-02-04",
          "2022-02-05",
          "2022-02-06",
          "2022-02-07",
          "2022-02-08",
          "2022-02-09",
          "2022-02-10",
          "2022-02-11",
          "2022-02-12",
          "2022-02-13",
          "2022-02-14",
          "2022-02-15",
          "2022-02-16",
          "2022-02-17",
          "2022-02-18",
          "2022-02-19",
          "2022-02-20",
          "2022-02-21",
          "2022-02-22",
          "2022-02-23",
          "2022-02-24",
          "2022-02-25",
          "2022-02-26",
          "2022-02-27",
          "2022-02-28",
          "2022-03-01",
          "2022-03-02",
          "2022-03-03",
          "2022-03-04",
          "2022-03-05",
          "2022-03-06",
          "2022-03-07",
          "2022-03-08",
          "2022-03-09",
          "2022-03-10",
          "2022-03-11",
          "2022-03-12",
          "2022-03-13",
          "2022-03-14",
          "2022-03-15",
          "2022-03-16",
          "2022-03-17",
          "2022-03-18",
          "2022-03-19",
          "2022-03-20",
          "2022-03-21",
          "2022-03-22",
          "2022-03-23",
          "2022-03-24",
          "2022-03-25",
          "2022-03-26",
          "2022-03-27",
          "2022-03-28",
          "2022-03-29",
          "2022-03-30",
          "2022-03-31",
          "2022-04-01",
          "2022-04-02",
          "2022-04-03",
          "2022-04-04",
          "2022-04-05",
          "2022-04-06",
          "2022-04-07",
          "2022-04-08",
          "2022-04-09",
          "2022-04-10",
          "2022-04-11",
          "2022-04-12",
          "2022-04-13",
          "2022-04-14",
          "2022-04-15",
          "2022-04-16",
          "2022-04-17",
          "2022-04-18",
          "2022-04-19",
          "2022-04-20",
          "2022-04-21",
          "2022-04-22",
          "2022-04-23",
          "2022-04-24",
          "2022-04-25",
          "2022-04-26",
          "2022-04-27",
          "2022-04-28",
          "2022-04-29",
          "2022-04-30",
          "2022-05-01",
          "2022-05-02",
          "2022-05-03",
          "2022-05-04",
          "2022-05-05",
          "2022-05-06",
          "2022-05-07",
          "2022-05-08",
          "2022-05-09",
          "2022-05-10",
          "2022-05-11",
          "2022-05-12",
          "2022-05-13",
          "2022-05-14",
          "2022-05-15",
          "2022-05-16",
          "2022-05-17",
          "2022-05-18",
          "2022-05-19",
          "2022-05-20",
          "2022-05-21",
          "2022-05-22",
          "2022-05-23",
          "2022-05-24",
          "2022-05-25",
          "2022-05-26",
          "2022-05-27",
          "2022-05-28",
          "2022-05-29",
          "2022-05-30",
          "2022-05-31",
          "2022-06-01",
          "2022-06-02",
          "2022-06-03",
          "2022-06-04",
          "2022-06-05",
          "2022-06-06",
          "2022-06-07",
          "2022-06-08",
          "2022-06-09",
          "2022-06-10",
          "2022-06-11",
          "2022-06-12",
          "2022-06-13",
          "2022-06-14",
          "2022-06-15",
          "2022-06-16",
          "2022-06-17",
          "2022-06-18",
          "2022-06-19",
          "2022-06-20",
          "2022-06-21",
          "2022-06-22",
          "2022-06-23",
          "2022-06-24",
          "2022-06-25",
          "2022-06-26",
          "2022-06-27",
          "2022-06-28",
          "2022-06-29",
          "2022-06-30",
          "2022-07-01",
          "2022-07-02",
          "2022-07-03",
          "2022-07-04",
          "2022-07-05",
          "2022-07-06",
          "2022-07-07",
          "2022-07-08",
          "2022-07-09",
          "2022-07-10",
          "2022-07-11",
          "2022-07-12",
          "2022-07-13",
          "2022-07-14",
          "2022-07-15",
          "2022-07-16",
          "2022-07-17",
          "2022-07-18",
          "2022-07-19",
          "2022-07-20",
          "2022-07-21",
          "2022-07-22",
          "2022-07-23",
          "2022-07-24",
          "2022-07-25",
          "2022-07-26",
          "2022-07-27",
          "2022-07-28",
          "2022-07-29",
          "2022-07-30",
          "2022-07-31",
          "2022-08-01",
          "2022-08-02",
          "2022-08-03",
          "2022-08-04",
          "2022-08-05",
          "2022-08-06",
          "2022-08-07",
          "2022-08-08",
          "2022-08-09",
          "2022-08-10",
          "2022-08-11",
          "2022-08-12",
          "2022-08-13",
          "2022-08-14",
          "2022-08-15",
          "2022-08-16",
          "2022-08-17",
          "2022-08-18",
          "2022-08-19",
          "2022-08-20",
          "2022-08-21",
          "2022-08-22",
          "2022-08-23",
          "2022-08-24",
          "2022-08-25",
          "2022-08-26",
          "2022-08-27",
          "2022-08-28",
          "2022-08-29",
          "2022-08-30",
          "2022-08-31",
          "2022-09-01",
          "2022-09-02",
          "2022-09-03",
          "2022-09-04",
          "2022-09-05",
          "2022-09-06",
          "2022-09-07",
          "2022-09-08",
          "2022-09-09",
          "2022-09-10",
          "2022-09-11",
          "2022-09-12",
          "2022-09-13",
          "2022-09-14",
          "2022-09-15",
          "2022-09-16",
          "2022-09-17",
          "2022-09-18",
          "2022-09-19",
          "2022-09-20",
          "2022-09-21",
          "2022-09-22",
          "2022-09-23",
          "2022-09-24",
          "2022-09-25",
          "2022-09-26",
          "2022-09-27",
          "2022-09-28",
          "2022-09-29",
          "2022-09-30",
          "2022-10-01",
          "2022-10-02",
          "2022-10-03",
          "2022-10-04",
          "2022-10-05",
          "2022-10-06",
          "2022-10-07",
          "2022-10-08",
          "2022-10-09",
          "2022-10-10",
          "2022-10-11",
          "2022-10-12",
          "2022-10-13",
          "2022-10-14",
          "2022-10-15",
          "2022-10-16",
          "2022-10-17",
          "2022-10-18",
          "2022-10-19",
          "2022-10-20",
          "2022-10-21",
          "2022-10-22",
          "2022-10-23",
          "2022-10-24",
          "2022-10-25",
          "2022-10-26",
          "2022-10-27",
          "2022-10-28",
          "2022-10-29",
          "2022-10-30",
          "2022-10-31",
          "2022-11-01",
          "2022-11-02",
          "2022-11-03",
          "2022-11-04",
          "2022-11-05",
          "2022-11-06",
          "2022-11-07",
          "2022-11-08",
          "2022-11-09",
          "2022-11-10",
          "2022-11-11",
          "2022-11-12",
          "2022-11-13",
          "2022-11-14",
          "2022-11-15",
          "2022-11-16",
          "2022-11-17",
          "2022-11-18",
          "2022-11-19",
          "2022-11-20",
          "2022-11-21",
          "2022-11-22",
          "2022-11-23",
          "2022-11-24",
          "2022-11-25",
          "2022-11-26",
          "2022-11-27",
          "2022-11-28",
          "2022-11-29",
          "2022-11-30",
          "2022-12-01",
          "2022-12-02",
          "2022-12-03",
          "2022-12-04",
          "2022-12-05",
          "2022-12-06",
          "2022-12-07",
          "2022-12-08",
          "2022-12-09",
          "2022-12-10",
          "2022-12-11",
          "2022-12-12",
          "2022-12-13",
          "2022-12-14",
          "2022-12-15",
          "2022-12-16",
          "2022-12-17",
          "2022-12-18",
          "2022-12-19",
          "2022-12-20",
          "2022-12-21",
          "2022-12-22",
          "2022-12-23",
          "2022-12-24",
          "2022-12-25",
          "2022-12-26",
          "2022-12-27",
          "2022-12-28",
          "2022-12-29",
          "2022-12-30",
          "2022-12-31",
          "2023-01-01",
          "2023-01-02",
          "2023-01-03",
          "2023-01-04",
          "2023-01-05",
          "2023-01-06",
          "2023-01-07",
          "2023-01-08",
          "2023-01-09",
          "2023-01-10",
          "2023-01-11",
          "2023-01-12",
          "2023-01-13",
          "2023-01-14",
          "2023-01-15",
          "2023-01-16",
          "2023-01-17",
          "2023-01-18",
          "2023-01-19",
          "2023-01-20",
          "2023-01-21",
          "2023-01-22",
          "2023-01-23",
          "2023-01-24",
          "2023-01-25",
          "2023-01-26",
          "2023-01-27",
          "2023-01-28",
          "2023-01-29",
          "2023-01-30",
          "2023-01-31",
          "2023-02-01",
          "2023-02-02",
          "2023-02-03",
          "2023-02-04",
          "2023-02-05",
          "2023-02-06",
          "2023-02-07",
          "2023-02-08",
          "2023-02-09",
          "2023-02-10",
          "2023-02-11",
          "2023-02-12",
          "2023-02-13",
          "2023-02-14",
          "2023-02-15",
          "2023-02-16",
          "2023-02-17",
          "2023-02-18",
          "2023-02-19",
          "2023-02-20",
          "2023-02-21",
          "2023-02-22",
          "2023-02-23",
          "2023-02-24",
          "2023-02-25",
          "2023-02-26",
          "2023-02-27",
          "2023-02-28",
          "2023-03-01",
          "2023-03-02"
         ],
         "y": [
          479,
          1292,
          1340,
          1511,
          1462,
          1584,
          1616,
          1731,
          1357,
          1429,
          1704,
          1668,
          1888,
          1987,
          2058,
          1337,
          1880,
          1856,
          1687,
          1866,
          1860,
          2056,
          1573,
          1607,
          1854,
          1783,
          1953,
          2021,
          1926,
          1706,
          1686,
          1949,
          1939,
          2147,
          2166,
          2087,
          1625,
          1740,
          2065,
          1711,
          2127,
          2113,
          2043,
          1595,
          1681,
          1966,
          1735,
          1351,
          2097,
          1978,
          1444,
          1678,
          1986,
          1720,
          1989,
          2066,
          2103,
          1677,
          2009,
          2123,
          1982,
          2223,
          2186,
          2252,
          1668,
          1991,
          2102,
          1941,
          2104,
          2400,
          2290,
          2028,
          2015,
          2096,
          2169,
          2408,
          2219,
          2264,
          1934,
          1798,
          2107,
          2151,
          2486,
          2500,
          2090,
          1825,
          1995,
          2058,
          2259,
          2244,
          2208,
          2500,
          1647,
          1519,
          2291,
          2052,
          2442,
          2025,
          1982,
          1824,
          2086,
          2305,
          2172,
          2366,
          2175,
          1781,
          1795,
          1988,
          2358,
          2172,
          2265,
          1830,
          2020,
          1256,
          1925,
          2183,
          2090,
          2079,
          1931,
          1738,
          1774,
          1619,
          1887,
          1941,
          2012,
          2086,
          2456,
          1237,
          2108,
          2277,
          2263,
          2334,
          2139,
          2068,
          891,
          2137,
          2090,
          2350,
          2142,
          2051,
          2173,
          1709,
          1764,
          2089,
          1761,
          2216,
          2052,
          2307,
          1636,
          1632,
          1992,
          1929,
          1816,
          1675,
          1694,
          1470,
          1134,
          1492,
          1613,
          1884,
          1706,
          1689,
          1544,
          1675,
          1921,
          1783,
          2015,
          1846,
          1931,
          1634,
          1432,
          1966,
          1705,
          1971,
          1804,
          1889,
          1628,
          1470,
          1862,
          1802,
          1894,
          1888,
          1934,
          1535,
          1355,
          1817,
          1588,
          1936,
          1785,
          2206,
          1400,
          1555,
          1848,
          1211,
          1789,
          1769,
          1917,
          1396,
          1492,
          1651,
          1486,
          1771,
          1804,
          1783,
          1298,
          1420,
          1581,
          1584,
          1819,
          1887,
          1936,
          1443,
          1360,
          1585,
          1499,
          1637,
          1728,
          1974,
          1629,
          1337,
          1589,
          1813,
          2174,
          2004,
          1605,
          1180,
          1954,
          1990,
          1971,
          2141,
          2222,
          574,
          30,
          1766,
          1988,
          1403,
          1812,
          1829,
          2122,
          1463,
          1644,
          1918,
          2001,
          2342,
          2010,
          1897,
          1355,
          1743,
          1782,
          1684,
          2149,
          2117,
          2120,
          1400,
          1208,
          2268,
          2139,
          2146,
          2207,
          2105,
          1763,
          1828,
          2221,
          1961,
          2303,
          2336,
          2230,
          1618,
          1931,
          2318,
          2083,
          2342,
          2410,
          2156,
          1828,
          1637,
          2058,
          2074,
          2416,
          2505,
          2414,
          723,
          2165,
          2043,
          2111,
          2340,
          2084,
          2423,
          1714,
          1480,
          1490,
          1492,
          1582,
          1649,
          1562,
          1248,
          2082,
          2141,
          1543,
          1158,
          1894,
          2007,
          1432,
          1728,
          1850,
          1776,
          2205,
          2408,
          2179,
          1780,
          1968,
          2218,
          2024,
          2434,
          2296,
          2042,
          1732,
          2023,
          2102,
          2193,
          2111,
          2197,
          2116,
          1504,
          2065,
          1998,
          1659,
          1826,
          1774,
          1373,
          819,
          1378,
          1714,
          1452,
          1925,
          1929,
          1447,
          1129,
          1283,
          1474,
          1464,
          1859,
          1994,
          1919,
          1340,
          1376,
          1550,
          1549,
          1696,
          1806,
          1938,
          1399,
          1229,
          1471,
          1562,
          1918,
          1904,
          1936,
          1319,
          1400,
          1776,
          1528,
          1795,
          1934,
          1918,
          1301,
          1390,
          1429,
          1577,
          1664,
          1895,
          1661,
          1248,
          1361,
          1584,
          1503,
          1692,
          1898,
          1837,
          1370,
          1513,
          1922,
          1604,
          1748,
          1959,
          1975,
          1439,
          1428,
          1477,
          1428,
          1887,
          1993,
          1639,
          1271,
          1373,
          1563,
          1559,
          1713
         ]
        },
        {
         "line": {
          "width": 0
         },
         "name": "upper 95% CI",
         "showlegend": false,
         "type": "scatter",
         "x": [
          "2022-01-29",
          "2022-01-30",
          "2022-01-31",
          "2022-02-01",
          "2022-02-02",
          "2022-02-03",
          "2022-02-04",
          "2022-02-05",
          "2022-02-06",
          "2022-02-07",
          "2022-02-08",
          "2022-02-09",
          "2022-02-10",
          "2022-02-11",
          "2022-02-12",
          "2022-02-13",
          "2022-02-14",
          "2022-02-15",
          "2022-02-16",
          "2022-02-17",
          "2022-02-18",
          "2022-02-19",
          "2022-02-20",
          "2022-02-21",
          "2022-02-22",
          "2022-02-23",
          "2022-02-24",
          "2022-02-25",
          "2022-02-26",
          "2022-02-27",
          "2022-02-28",
          "2022-03-01",
          "2022-03-02",
          "2022-03-03",
          "2022-03-04",
          "2022-03-05",
          "2022-03-06",
          "2022-03-07",
          "2022-03-08",
          "2022-03-09",
          "2022-03-10",
          "2022-03-11",
          "2022-03-12",
          "2022-03-13",
          "2022-03-14",
          "2022-03-15",
          "2022-03-16",
          "2022-03-17",
          "2022-03-18",
          "2022-03-19",
          "2022-03-20",
          "2022-03-21",
          "2022-03-22",
          "2022-03-23",
          "2022-03-24",
          "2022-03-25",
          "2022-03-26",
          "2022-03-27",
          "2022-03-28",
          "2022-03-29",
          "2022-03-30",
          "2022-03-31",
          "2022-04-01",
          "2022-04-02",
          "2022-04-03",
          "2022-04-04",
          "2022-04-05",
          "2022-04-06",
          "2022-04-07",
          "2022-04-08",
          "2022-04-09",
          "2022-04-10",
          "2022-04-11",
          "2022-04-12",
          "2022-04-13",
          "2022-04-14",
          "2022-04-15",
          "2022-04-16",
          "2022-04-17",
          "2022-04-18",
          "2022-04-19",
          "2022-04-20",
          "2022-04-21",
          "2022-04-22",
          "2022-04-23",
          "2022-04-24",
          "2022-04-25",
          "2022-04-26",
          "2022-04-27",
          "2022-04-28",
          "2022-04-29",
          "2022-04-30",
          "2022-05-01",
          "2022-05-02",
          "2022-05-03",
          "2022-05-04",
          "2022-05-05",
          "2022-05-06",
          "2022-05-07",
          "2022-05-08",
          "2022-05-09",
          "2022-05-10",
          "2022-05-11",
          "2022-05-12",
          "2022-05-13",
          "2022-05-14",
          "2022-05-15",
          "2022-05-16",
          "2022-05-17",
          "2022-05-18",
          "2022-05-19",
          "2022-05-20",
          "2022-05-21",
          "2022-05-22",
          "2022-05-23",
          "2022-05-24",
          "2022-05-25",
          "2022-05-26",
          "2022-05-27",
          "2022-05-28",
          "2022-05-29",
          "2022-05-30",
          "2022-05-31",
          "2022-06-01",
          "2022-06-02",
          "2022-06-03",
          "2022-06-04",
          "2022-06-05",
          "2022-06-06",
          "2022-06-07",
          "2022-06-08",
          "2022-06-09",
          "2022-06-10",
          "2022-06-11",
          "2022-06-12",
          "2022-06-13",
          "2022-06-14",
          "2022-06-15",
          "2022-06-16",
          "2022-06-17",
          "2022-06-18",
          "2022-06-19",
          "2022-06-20",
          "2022-06-21",
          "2022-06-22",
          "2022-06-23",
          "2022-06-24",
          "2022-06-25",
          "2022-06-26",
          "2022-06-27",
          "2022-06-28",
          "2022-06-29",
          "2022-06-30",
          "2022-07-01",
          "2022-07-02",
          "2022-07-03",
          "2022-07-04",
          "2022-07-05",
          "2022-07-06",
          "2022-07-07",
          "2022-07-08",
          "2022-07-09",
          "2022-07-10",
          "2022-07-11",
          "2022-07-12",
          "2022-07-13",
          "2022-07-14",
          "2022-07-15",
          "2022-07-16",
          "2022-07-17",
          "2022-07-18",
          "2022-07-19",
          "2022-07-20",
          "2022-07-21",
          "2022-07-22",
          "2022-07-23",
          "2022-07-24",
          "2022-07-25",
          "2022-07-26",
          "2022-07-27",
          "2022-07-28",
          "2022-07-29",
          "2022-07-30",
          "2022-07-31",
          "2022-08-01",
          "2022-08-02",
          "2022-08-03",
          "2022-08-04",
          "2022-08-05",
          "2022-08-06",
          "2022-08-07",
          "2022-08-08",
          "2022-08-09",
          "2022-08-10",
          "2022-08-11",
          "2022-08-12",
          "2022-08-13",
          "2022-08-14",
          "2022-08-15",
          "2022-08-16",
          "2022-08-17",
          "2022-08-18",
          "2022-08-19",
          "2022-08-20",
          "2022-08-21",
          "2022-08-22",
          "2022-08-23",
          "2022-08-24",
          "2022-08-25",
          "2022-08-26",
          "2022-08-27",
          "2022-08-28",
          "2022-08-29",
          "2022-08-30",
          "2022-08-31",
          "2022-09-01",
          "2022-09-02",
          "2022-09-03",
          "2022-09-04",
          "2022-09-05",
          "2022-09-06",
          "2022-09-07",
          "2022-09-08",
          "2022-09-09",
          "2022-09-10",
          "2022-09-11",
          "2022-09-12",
          "2022-09-13",
          "2022-09-14",
          "2022-09-15",
          "2022-09-16",
          "2022-09-17",
          "2022-09-18",
          "2022-09-19",
          "2022-09-20",
          "2022-09-21",
          "2022-09-22",
          "2022-09-23",
          "2022-09-24",
          "2022-09-25",
          "2022-09-26",
          "2022-09-27",
          "2022-09-28",
          "2022-09-29",
          "2022-09-30",
          "2022-10-01",
          "2022-10-02",
          "2022-10-03",
          "2022-10-04",
          "2022-10-05",
          "2022-10-06",
          "2022-10-07",
          "2022-10-08",
          "2022-10-09",
          "2022-10-10",
          "2022-10-11",
          "2022-10-12",
          "2022-10-13",
          "2022-10-14",
          "2022-10-15",
          "2022-10-16",
          "2022-10-17",
          "2022-10-18",
          "2022-10-19",
          "2022-10-20",
          "2022-10-21",
          "2022-10-22",
          "2022-10-23",
          "2022-10-24",
          "2022-10-25",
          "2022-10-26",
          "2022-10-27",
          "2022-10-28",
          "2022-10-29",
          "2022-10-30",
          "2022-10-31",
          "2022-11-01",
          "2022-11-02",
          "2022-11-03",
          "2022-11-04",
          "2022-11-05",
          "2022-11-06",
          "2022-11-07",
          "2022-11-08",
          "2022-11-09",
          "2022-11-10",
          "2022-11-11",
          "2022-11-12",
          "2022-11-13",
          "2022-11-14",
          "2022-11-15",
          "2022-11-16",
          "2022-11-17",
          "2022-11-18",
          "2022-11-19",
          "2022-11-20",
          "2022-11-21",
          "2022-11-22",
          "2022-11-23",
          "2022-11-24",
          "2022-11-25",
          "2022-11-26",
          "2022-11-27",
          "2022-11-28",
          "2022-11-29",
          "2022-11-30",
          "2022-12-01",
          "2022-12-02",
          "2022-12-03",
          "2022-12-04",
          "2022-12-05",
          "2022-12-06",
          "2022-12-07",
          "2022-12-08",
          "2022-12-09",
          "2022-12-10",
          "2022-12-11",
          "2022-12-12",
          "2022-12-13",
          "2022-12-14",
          "2022-12-15",
          "2022-12-16",
          "2022-12-17",
          "2022-12-18",
          "2022-12-19",
          "2022-12-20",
          "2022-12-21",
          "2022-12-22",
          "2022-12-23",
          "2022-12-24",
          "2022-12-25",
          "2022-12-26",
          "2022-12-27",
          "2022-12-28",
          "2022-12-29",
          "2022-12-30",
          "2022-12-31",
          "2023-01-01",
          "2023-01-02",
          "2023-01-03",
          "2023-01-04",
          "2023-01-05",
          "2023-01-06",
          "2023-01-07",
          "2023-01-08",
          "2023-01-09",
          "2023-01-10",
          "2023-01-11",
          "2023-01-12",
          "2023-01-13",
          "2023-01-14",
          "2023-01-15",
          "2023-01-16",
          "2023-01-17",
          "2023-01-18",
          "2023-01-19",
          "2023-01-20",
          "2023-01-21",
          "2023-01-22",
          "2023-01-23",
          "2023-01-24",
          "2023-01-25",
          "2023-01-26",
          "2023-01-27",
          "2023-01-28",
          "2023-01-29",
          "2023-01-30",
          "2023-01-31",
          "2023-02-01",
          "2023-02-02",
          "2023-02-03",
          "2023-02-04",
          "2023-02-05",
          "2023-02-06",
          "2023-02-07",
          "2023-02-08",
          "2023-02-09",
          "2023-02-10",
          "2023-02-11",
          "2023-02-12",
          "2023-02-13",
          "2023-02-14",
          "2023-02-15",
          "2023-02-16",
          "2023-02-17",
          "2023-02-18",
          "2023-02-19",
          "2023-02-20",
          "2023-02-21",
          "2023-02-22",
          "2023-02-23",
          "2023-02-24",
          "2023-02-25",
          "2023-02-26",
          "2023-02-27",
          "2023-02-28",
          "2023-03-01",
          "2023-03-02"
         ],
         "y": [
          1516.1999999999998,
          1420.1999999999998,
          1681.2,
          1822.8000000000002,
          1841,
          1880.4,
          1948.8000000000002,
          1748.6,
          1728,
          1781.4,
          1900,
          1919.2,
          2033.6,
          2103.3999999999996,
          1957.2,
          1855.2,
          1763.8,
          2048,
          2018,
          2083.6000000000004,
          2201.8,
          2234.2,
          1900.8,
          1961,
          2121,
          2104,
          2262,
          2333.8,
          2142.8,
          1944.3999999999999,
          2076.2,
          2128.2,
          2163.6,
          2299.6,
          2363.8,
          2395,
          2047.1999999999998,
          1972.8000000000002,
          2219.4,
          2265.6000000000004,
          2367,
          2471.2000000000003,
          2429.6000000000004,
          2038.8,
          2148.8,
          2303,
          2164.6,
          2202.2,
          2349.8,
          2451.7999999999997,
          2020.6,
          2007.6,
          2311.6,
          2221.8,
          2229.8,
          2434.7999999999997,
          2411.6000000000004,
          2139.8,
          2145.8,
          2408.3999999999996,
          2364.3999999999996,
          2373.2,
          2549.3999999999996,
          2478.2,
          2060.8,
          2172.6000000000004,
          2488.2,
          2323.6000000000004,
          2461,
          2530.8,
          2606,
          2251.2,
          2322.3999999999996,
          2460,
          2384.2,
          2408,
          2663.8,
          2633,
          2256,
          2260.8,
          2406.2,
          2417.2,
          2605.2,
          2711.7999999999997,
          2649,
          2310.3999999999996,
          2328,
          2431.2000000000003,
          2512.2000000000003,
          2708.2,
          2655.6000000000004,
          2640.4,
          2316.6,
          2167.6,
          2372.4,
          2527.2000000000003,
          2700.3999999999996,
          2692.6,
          2565.8,
          2249.6000000000004,
          2352.3999999999996,
          2544.7999999999997,
          2569,
          2710.6000000000004,
          2483.8,
          2518,
          2123.8,
          2236.8,
          2587.4,
          2565.2,
          2701.6,
          2560.8,
          2318.2,
          2101,
          2284.8,
          2598.2000000000003,
          2532.2,
          2597.2000000000003,
          2479.3999999999996,
          2393.6,
          2030.4,
          2164.6,
          2451.8,
          2416.8,
          2532,
          2378.6,
          2440.6000000000004,
          2111.2,
          2196.8,
          2540.4,
          2548.2,
          2566.2000000000003,
          2532.6,
          2391.8,
          1952.6,
          2126.2,
          2477.4,
          2562.7999999999997,
          2598.2,
          2482,
          2586,
          1852.8,
          2285.6,
          2513,
          2448.8,
          2538.8,
          2479.6000000000004,
          2424.6,
          2152.8,
          2113,
          2370.4,
          2396.3999999999996,
          2424.8,
          2337.8,
          2438.6,
          1876.8,
          2054,
          2185.2,
          2195.8,
          2356.8,
          2290.8,
          2294.6,
          1823.6,
          2012.8000000000002,
          2211.6,
          2257.4,
          2327.6,
          2258.2,
          2204.8,
          2090,
          1916.2,
          2181.8,
          2154,
          2422.8,
          2277.6,
          2279.4,
          2050.4,
          1955.8000000000002,
          2230.6000000000004,
          2171.6000000000004,
          2288,
          2221,
          2266.8,
          2039.8,
          1769.4,
          2053.8,
          2060.4,
          2238.8,
          2136.8,
          2256,
          2097.3999999999996,
          1923.4,
          2189,
          2078.8,
          2153.2,
          2172.4,
          2339.8,
          1978.2,
          1878.4,
          2154.3999999999996,
          1912.4,
          2168.2,
          2124.8,
          2308.2,
          1885.2,
          1824.6,
          2060.8,
          1932.3999999999999,
          2171,
          2217.6000000000004,
          2293.2,
          1878.6,
          1771,
          1987.2,
          1980.8000000000002,
          2060,
          2200.6000000000004,
          2303,
          1904.2,
          1798.4,
          1965.6,
          1941,
          2203.4,
          2312,
          2275.6000000000004,
          1839,
          1802.8,
          2110.8,
          2186.6,
          2371.2,
          2414.6,
          2009.1999999999998,
          1374.6000000000001,
          1701,
          2184.6,
          2186.6,
          2258.2,
          2383.2,
          1968.6000000000001,
          1647.1999999999998,
          2037,
          2202.6,
          2190.8,
          2364.2,
          2425.8,
          2117.2,
          1739.3999999999999,
          1970.8,
          2192.4,
          2093.6,
          2387.6000000000004,
          2421.3999999999996,
          2407,
          1903.1999999999998,
          2022.2,
          2268,
          2401,
          2567.6000000000004,
          2524.6000000000004,
          2180.2,
          1714.8,
          2094,
          2449.8,
          2237,
          2473.7999999999997,
          2542.6000000000004,
          2560.2,
          2127.2,
          2047.6,
          2515.3999999999996,
          2502.2,
          2675.6,
          2662.8,
          2561.3999999999996,
          2176.4,
          2225.8,
          2467.8,
          2371.6,
          2658.6000000000004,
          2756.4,
          2684.6,
          2029,
          1917,
          2548,
          2417.6,
          2628,
          2773.7999999999997,
          2574.6000000000004,
          2047.2,
          2199.6,
          2242.6000000000004,
          2214,
          2415,
          2415.4,
          2455.2,
          1772.6,
          2216,
          2414.3999999999996,
          2262.4,
          2257.6,
          2240.8,
          2386,
          2034.2,
          2028.8,
          2255.2,
          2131.2,
          2211.6000000000004,
          2520.6,
          2469.4,
          1904.8000000000002,
          2301.6,
          2476.4,
          2318.6000000000004,
          2409.8,
          2625,
          2624.2,
          2139.6,
          2185.8,
          2336.2,
          2349.8,
          2489.2,
          2531.7999999999997,
          2357.4,
          2075.6,
          2285.4,
          2493.2000000000003,
          2261,
          2237.2,
          2325,
          2297.2,
          1771.6,
          2004.3999999999999,
          2196.8,
          2143,
          2338.6,
          2430.8,
          2197.2,
          1724.2,
          1942.1999999999998,
          2169.8,
          1992.1999999999998,
          2279.2,
          2402.8,
          2189.8,
          1776.2,
          1881.8,
          2045,
          2030,
          2262.8,
          2326.2,
          2309.8,
          1850.4,
          1858.8000000000002,
          1946.2,
          1865.4,
          2156.4,
          2278.8,
          2246.4,
          1762.1999999999998,
          1728.8000000000002,
          1959.8,
          1928.8000000000002,
          2156.6000000000004,
          2262,
          2223,
          1797.4,
          1755.3999999999999,
          1896.4,
          1913.8,
          2195,
          2205.8,
          2243.3999999999996,
          1751.3999999999999,
          1739.2,
          1939.6,
          1936.6000000000001,
          2054.2,
          2233.4,
          2250,
          1815.2,
          1761,
          2018.6,
          2035.3999999999999,
          2102.8,
          2313.2,
          2308.3999999999996,
          1902.6000000000001,
          1741.2,
          2039.2,
          1835.6,
          2087.6,
          2318.4,
          2274.2,
          1781.6,
          1772.6,
          1937,
          1981,
          2149
         ]
        },
        {
         "fill": "tonexty",
         "fillcolor": "rgba(68, 68, 68, 0.3)",
         "line": {
          "width": 0
         },
         "name": "lower 95% CI",
         "showlegend": false,
         "type": "scatter",
         "x": [
          "2022-01-29",
          "2022-01-30",
          "2022-01-31",
          "2022-02-01",
          "2022-02-02",
          "2022-02-03",
          "2022-02-04",
          "2022-02-05",
          "2022-02-06",
          "2022-02-07",
          "2022-02-08",
          "2022-02-09",
          "2022-02-10",
          "2022-02-11",
          "2022-02-12",
          "2022-02-13",
          "2022-02-14",
          "2022-02-15",
          "2022-02-16",
          "2022-02-17",
          "2022-02-18",
          "2022-02-19",
          "2022-02-20",
          "2022-02-21",
          "2022-02-22",
          "2022-02-23",
          "2022-02-24",
          "2022-02-25",
          "2022-02-26",
          "2022-02-27",
          "2022-02-28",
          "2022-03-01",
          "2022-03-02",
          "2022-03-03",
          "2022-03-04",
          "2022-03-05",
          "2022-03-06",
          "2022-03-07",
          "2022-03-08",
          "2022-03-09",
          "2022-03-10",
          "2022-03-11",
          "2022-03-12",
          "2022-03-13",
          "2022-03-14",
          "2022-03-15",
          "2022-03-16",
          "2022-03-17",
          "2022-03-18",
          "2022-03-19",
          "2022-03-20",
          "2022-03-21",
          "2022-03-22",
          "2022-03-23",
          "2022-03-24",
          "2022-03-25",
          "2022-03-26",
          "2022-03-27",
          "2022-03-28",
          "2022-03-29",
          "2022-03-30",
          "2022-03-31",
          "2022-04-01",
          "2022-04-02",
          "2022-04-03",
          "2022-04-04",
          "2022-04-05",
          "2022-04-06",
          "2022-04-07",
          "2022-04-08",
          "2022-04-09",
          "2022-04-10",
          "2022-04-11",
          "2022-04-12",
          "2022-04-13",
          "2022-04-14",
          "2022-04-15",
          "2022-04-16",
          "2022-04-17",
          "2022-04-18",
          "2022-04-19",
          "2022-04-20",
          "2022-04-21",
          "2022-04-22",
          "2022-04-23",
          "2022-04-24",
          "2022-04-25",
          "2022-04-26",
          "2022-04-27",
          "2022-04-28",
          "2022-04-29",
          "2022-04-30",
          "2022-05-01",
          "2022-05-02",
          "2022-05-03",
          "2022-05-04",
          "2022-05-05",
          "2022-05-06",
          "2022-05-07",
          "2022-05-08",
          "2022-05-09",
          "2022-05-10",
          "2022-05-11",
          "2022-05-12",
          "2022-05-13",
          "2022-05-14",
          "2022-05-15",
          "2022-05-16",
          "2022-05-17",
          "2022-05-18",
          "2022-05-19",
          "2022-05-20",
          "2022-05-21",
          "2022-05-22",
          "2022-05-23",
          "2022-05-24",
          "2022-05-25",
          "2022-05-26",
          "2022-05-27",
          "2022-05-28",
          "2022-05-29",
          "2022-05-30",
          "2022-05-31",
          "2022-06-01",
          "2022-06-02",
          "2022-06-03",
          "2022-06-04",
          "2022-06-05",
          "2022-06-06",
          "2022-06-07",
          "2022-06-08",
          "2022-06-09",
          "2022-06-10",
          "2022-06-11",
          "2022-06-12",
          "2022-06-13",
          "2022-06-14",
          "2022-06-15",
          "2022-06-16",
          "2022-06-17",
          "2022-06-18",
          "2022-06-19",
          "2022-06-20",
          "2022-06-21",
          "2022-06-22",
          "2022-06-23",
          "2022-06-24",
          "2022-06-25",
          "2022-06-26",
          "2022-06-27",
          "2022-06-28",
          "2022-06-29",
          "2022-06-30",
          "2022-07-01",
          "2022-07-02",
          "2022-07-03",
          "2022-07-04",
          "2022-07-05",
          "2022-07-06",
          "2022-07-07",
          "2022-07-08",
          "2022-07-09",
          "2022-07-10",
          "2022-07-11",
          "2022-07-12",
          "2022-07-13",
          "2022-07-14",
          "2022-07-15",
          "2022-07-16",
          "2022-07-17",
          "2022-07-18",
          "2022-07-19",
          "2022-07-20",
          "2022-07-21",
          "2022-07-22",
          "2022-07-23",
          "2022-07-24",
          "2022-07-25",
          "2022-07-26",
          "2022-07-27",
          "2022-07-28",
          "2022-07-29",
          "2022-07-30",
          "2022-07-31",
          "2022-08-01",
          "2022-08-02",
          "2022-08-03",
          "2022-08-04",
          "2022-08-05",
          "2022-08-06",
          "2022-08-07",
          "2022-08-08",
          "2022-08-09",
          "2022-08-10",
          "2022-08-11",
          "2022-08-12",
          "2022-08-13",
          "2022-08-14",
          "2022-08-15",
          "2022-08-16",
          "2022-08-17",
          "2022-08-18",
          "2022-08-19",
          "2022-08-20",
          "2022-08-21",
          "2022-08-22",
          "2022-08-23",
          "2022-08-24",
          "2022-08-25",
          "2022-08-26",
          "2022-08-27",
          "2022-08-28",
          "2022-08-29",
          "2022-08-30",
          "2022-08-31",
          "2022-09-01",
          "2022-09-02",
          "2022-09-03",
          "2022-09-04",
          "2022-09-05",
          "2022-09-06",
          "2022-09-07",
          "2022-09-08",
          "2022-09-09",
          "2022-09-10",
          "2022-09-11",
          "2022-09-12",
          "2022-09-13",
          "2022-09-14",
          "2022-09-15",
          "2022-09-16",
          "2022-09-17",
          "2022-09-18",
          "2022-09-19",
          "2022-09-20",
          "2022-09-21",
          "2022-09-22",
          "2022-09-23",
          "2022-09-24",
          "2022-09-25",
          "2022-09-26",
          "2022-09-27",
          "2022-09-28",
          "2022-09-29",
          "2022-09-30",
          "2022-10-01",
          "2022-10-02",
          "2022-10-03",
          "2022-10-04",
          "2022-10-05",
          "2022-10-06",
          "2022-10-07",
          "2022-10-08",
          "2022-10-09",
          "2022-10-10",
          "2022-10-11",
          "2022-10-12",
          "2022-10-13",
          "2022-10-14",
          "2022-10-15",
          "2022-10-16",
          "2022-10-17",
          "2022-10-18",
          "2022-10-19",
          "2022-10-20",
          "2022-10-21",
          "2022-10-22",
          "2022-10-23",
          "2022-10-24",
          "2022-10-25",
          "2022-10-26",
          "2022-10-27",
          "2022-10-28",
          "2022-10-29",
          "2022-10-30",
          "2022-10-31",
          "2022-11-01",
          "2022-11-02",
          "2022-11-03",
          "2022-11-04",
          "2022-11-05",
          "2022-11-06",
          "2022-11-07",
          "2022-11-08",
          "2022-11-09",
          "2022-11-10",
          "2022-11-11",
          "2022-11-12",
          "2022-11-13",
          "2022-11-14",
          "2022-11-15",
          "2022-11-16",
          "2022-11-17",
          "2022-11-18",
          "2022-11-19",
          "2022-11-20",
          "2022-11-21",
          "2022-11-22",
          "2022-11-23",
          "2022-11-24",
          "2022-11-25",
          "2022-11-26",
          "2022-11-27",
          "2022-11-28",
          "2022-11-29",
          "2022-11-30",
          "2022-12-01",
          "2022-12-02",
          "2022-12-03",
          "2022-12-04",
          "2022-12-05",
          "2022-12-06",
          "2022-12-07",
          "2022-12-08",
          "2022-12-09",
          "2022-12-10",
          "2022-12-11",
          "2022-12-12",
          "2022-12-13",
          "2022-12-14",
          "2022-12-15",
          "2022-12-16",
          "2022-12-17",
          "2022-12-18",
          "2022-12-19",
          "2022-12-20",
          "2022-12-21",
          "2022-12-22",
          "2022-12-23",
          "2022-12-24",
          "2022-12-25",
          "2022-12-26",
          "2022-12-27",
          "2022-12-28",
          "2022-12-29",
          "2022-12-30",
          "2022-12-31",
          "2023-01-01",
          "2023-01-02",
          "2023-01-03",
          "2023-01-04",
          "2023-01-05",
          "2023-01-06",
          "2023-01-07",
          "2023-01-08",
          "2023-01-09",
          "2023-01-10",
          "2023-01-11",
          "2023-01-12",
          "2023-01-13",
          "2023-01-14",
          "2023-01-15",
          "2023-01-16",
          "2023-01-17",
          "2023-01-18",
          "2023-01-19",
          "2023-01-20",
          "2023-01-21",
          "2023-01-22",
          "2023-01-23",
          "2023-01-24",
          "2023-01-25",
          "2023-01-26",
          "2023-01-27",
          "2023-01-28",
          "2023-01-29",
          "2023-01-30",
          "2023-01-31",
          "2023-02-01",
          "2023-02-02",
          "2023-02-03",
          "2023-02-04",
          "2023-02-05",
          "2023-02-06",
          "2023-02-07",
          "2023-02-08",
          "2023-02-09",
          "2023-02-10",
          "2023-02-11",
          "2023-02-12",
          "2023-02-13",
          "2023-02-14",
          "2023-02-15",
          "2023-02-16",
          "2023-02-17",
          "2023-02-18",
          "2023-02-19",
          "2023-02-20",
          "2023-02-21",
          "2023-02-22",
          "2023-02-23",
          "2023-02-24",
          "2023-02-25",
          "2023-02-26",
          "2023-02-27",
          "2023-02-28",
          "2023-03-01",
          "2023-03-02"
         ],
         "y": [
          651,
          524.1999999999999,
          754.5999999999999,
          945,
          963.2,
          1029.8000000000002,
          1072.4,
          793.8,
          836.8,
          854.8,
          1026.3999999999999,
          1045.6,
          1168.4,
          1215.8,
          1087,
          869.8,
          1024.6,
          1182.4,
          1185,
          1250.6000000000001,
          1364.6,
          1345.1999999999998,
          1023,
          1008.4000000000001,
          1233.4,
          1210.8000000000002,
          1337.8,
          1433.8,
          1220,
          1094.3999999999999,
          1155.8,
          1326.6000000000001,
          1274.6,
          1408.3999999999999,
          1474,
          1548.6000000000001,
          1176,
          1128,
          1373,
          1345.2,
          1529.8,
          1715.8000000000002,
          1557.4,
          1173.2,
          1222.8000000000002,
          1409.2,
          1319.6,
          1357.2,
          1282.4,
          1558.6,
          1260.8,
          1136.4,
          1421.8,
          1297.6,
          1392.6,
          1422.1999999999998,
          1533.8,
          1070,
          1252,
          1518.6,
          1405.6,
          1385.4,
          1659.6,
          1633.1999999999998,
          1239.6000000000001,
          1344.8,
          1559.8000000000002,
          1403.2,
          1604.4,
          1679.6000000000001,
          1729.6,
          1362.1999999999998,
          1450.6,
          1566.8000000000002,
          1497,
          1606.4,
          1772.6,
          1713,
          1374,
          1410.8,
          1530.2,
          1358,
          1845.3999999999999,
          1844.7999999999997,
          1761.8000000000002,
          1529,
          1440.4,
          1588.2000000000003,
          1651.4,
          1834.6,
          1782,
          1774.8000000000002,
          1479.3999999999999,
          1155,
          1526,
          1650.8000000000002,
          1777.6,
          1827,
          1688,
          1373.6000000000001,
          1415.3999999999999,
          1672.9999999999998,
          1703.8000000000002,
          1964.6000000000001,
          1705,
          1652.4,
          1351.6000000000001,
          1343,
          1715.6000000000001,
          1693,
          1711.1999999999998,
          1723.6,
          1453,
          1299.4,
          1362.4,
          1676.4,
          1687.6,
          1764.2000000000003,
          1600,
          1504.6,
          1152.6,
          1292.6,
          1574,
          1534.8000000000002,
          1594.8000000000002,
          1341.8,
          1562.2,
          1221.8000000000002,
          1305.6,
          1664.4,
          1655,
          1721.4,
          1643.6,
          1564,
          1108.4,
          1389.1999999999998,
          1660.4,
          1669.6,
          1748.1999999999998,
          1577.1999999999998,
          1666,
          980.8,
          1484,
          1587,
          1743.6,
          1612.2,
          1524.8000000000002,
          1685.8,
          1110.4,
          1270,
          1502.6,
          1506.6,
          1587.6,
          1553.8,
          1588.6,
          1055.6000000000001,
          1068.6,
          1302.6,
          1324,
          1590.3999999999999,
          1256.2,
          1398.6,
          893,
          989.4000000000001,
          1389.4,
          1431.2,
          1483.4,
          1370.6,
          1377.1999999999998,
          1185.1999999999998,
          1055.3999999999999,
          1292.4,
          1277.6,
          1576,
          1431.2,
          1430.4,
          1178.6000000000001,
          1078,
          1289.2,
          1343.8,
          1410.1999999999998,
          1332,
          1377.8,
          1258,
          891.6000000000001,
          1253.8000000000002,
          1215.6,
          1360.3999999999999,
          1270.8,
          1428.1999999999998,
          1175,
          856,
          1312.6,
          1158.4,
          1281.4,
          1321.2,
          1463.8000000000002,
          1131.8000000000002,
          958,
          1310.2,
          1034.6000000000001,
          1237.6,
          1292.3999999999999,
          1475.2,
          1006.8,
          957.5999999999999,
          1184.4,
          1045.2,
          1283.8000000000002,
          1361,
          1532,
          1032.1999999999998,
          924.5999999999999,
          1105.2,
          1059,
          1179.4,
          1278.8,
          1480.8000000000002,
          1061.2,
          1024.8,
          1100,
          1049.8,
          1357,
          1418.2,
          1393,
          957,
          971,
          1392,
          1307.2,
          1445.2,
          1490.3999999999999,
          1187,
          454.60000000000014,
          813.8000000000002,
          1288.6,
          1307.2,
          1380.3999999999999,
          1457.2,
          1140.8,
          758.1999999999998,
          1084.4,
          1389.6,
          1286,
          1498.6,
          1590.8,
          1221.8000000000002,
          639.8,
          909.4000000000001,
          1314.6,
          1183.6,
          1479.2,
          1534.2,
          1482.8,
          1010,
          1096.2,
          1345.2,
          1518.3999999999999,
          1695.4,
          1652.4,
          1308.1999999999998,
          886,
          1174,
          1545,
          1392.1999999999998,
          1584.7999999999997,
          1723,
          1694.6,
          1207.2,
          1157.8,
          1637.6,
          1612.8000000000002,
          1753.7999999999997,
          1773,
          1606.6,
          1256.4,
          1321,
          1567.8,
          1419,
          1821.4,
          1863.2000000000003,
          1840.4,
          1229.6,
          979.8,
          1682.4,
          1602.4,
          1783,
          1821.6,
          1742.8000000000002,
          1202.2,
          1275.3999999999999,
          1413.8000000000002,
          1443.8,
          1537.1999999999998,
          1541.8,
          1568,
          885,
          1287,
          1461.8,
          1429.4,
          1299.4,
          1344.8,
          1519,
          1092.8,
          1178.2,
          1218.4,
          1085,
          1339.8000000000002,
          1579.1999999999998,
          1641.6,
          983,
          1456.6,
          1556,
          1552.2,
          1542.8,
          1750.7999999999997,
          1695.8000000000002,
          1252.4,
          1404.4,
          1447.1999999999998,
          1472.8000000000002,
          1617,
          1659.7999999999997,
          1466.2,
          1182.4,
          1434.8000000000002,
          1617.2000000000003,
          1448,
          1365.1999999999998,
          1509.8000000000002,
          1427,
          899.5999999999999,
          1109,
          1314.8000000000002,
          1123.8,
          1414.3999999999999,
          1493.6,
          1319.3999999999999,
          848.2,
          1120,
          1243.2,
          1126.6,
          1519.3999999999999,
          1476.2,
          1261.4,
          898.3999999999999,
          985.8,
          1261.4,
          1153.6,
          1334.4,
          1430.2,
          1355.8,
          1079.8,
          982.8000000000002,
          1050.2,
          1053,
          1390,
          1385.6000000000001,
          1319.8,
          873.1999999999998,
          851,
          1092.8,
          1085.8000000000002,
          1284.4,
          1385.6,
          1347,
          925.6000000000001,
          848.1999999999998,
          1035.6,
          1162.4,
          1273.1999999999998,
          1388.8,
          1393.3999999999999,
          885.8,
          860.8,
          1045.8,
          1054,
          1182.4,
          1372.6,
          1415,
          941.5999999999999,
          883.1999999999998,
          1096.2,
          1145.6,
          1235.8,
          1327.8,
          1238.6,
          976.6000000000001,
          940.6000000000001,
          1192.8000000000002,
          1063.4,
          1237.6,
          1299.2,
          1378.2,
          914.5999999999999,
          901.4000000000001,
          999.8,
          1073.8,
          1220
         ]
        }
       ],
       "layout": {
        "template": {
         "data": {
          "bar": [
           {
            "error_x": {
             "color": "#2a3f5f"
            },
            "error_y": {
             "color": "#2a3f5f"
            },
            "marker": {
             "line": {
              "color": "#E5ECF6",
              "width": 0.5
             },
             "pattern": {
              "fillmode": "overlay",
              "size": 10,
              "solidity": 0.2
             }
            },
            "type": "bar"
           }
          ],
          "barpolar": [
           {
            "marker": {
             "line": {
              "color": "#E5ECF6",
              "width": 0.5
             },
             "pattern": {
              "fillmode": "overlay",
              "size": 10,
              "solidity": 0.2
             }
            },
            "type": "barpolar"
           }
          ],
          "carpet": [
           {
            "aaxis": {
             "endlinecolor": "#2a3f5f",
             "gridcolor": "white",
             "linecolor": "white",
             "minorgridcolor": "white",
             "startlinecolor": "#2a3f5f"
            },
            "baxis": {
             "endlinecolor": "#2a3f5f",
             "gridcolor": "white",
             "linecolor": "white",
             "minorgridcolor": "white",
             "startlinecolor": "#2a3f5f"
            },
            "type": "carpet"
           }
          ],
          "choropleth": [
           {
            "colorbar": {
             "outlinewidth": 0,
             "ticks": ""
            },
            "type": "choropleth"
           }
          ],
          "contour": [
           {
            "colorbar": {
             "outlinewidth": 0,
             "ticks": ""
            },
            "colorscale": [
             [
              0,
              "#0d0887"
             ],
             [
              0.1111111111111111,
              "#46039f"
             ],
             [
              0.2222222222222222,
              "#7201a8"
             ],
             [
              0.3333333333333333,
              "#9c179e"
             ],
             [
              0.4444444444444444,
              "#bd3786"
             ],
             [
              0.5555555555555556,
              "#d8576b"
             ],
             [
              0.6666666666666666,
              "#ed7953"
             ],
             [
              0.7777777777777778,
              "#fb9f3a"
             ],
             [
              0.8888888888888888,
              "#fdca26"
             ],
             [
              1,
              "#f0f921"
             ]
            ],
            "type": "contour"
           }
          ],
          "contourcarpet": [
           {
            "colorbar": {
             "outlinewidth": 0,
             "ticks": ""
            },
            "type": "contourcarpet"
           }
          ],
          "heatmap": [
           {
            "colorbar": {
             "outlinewidth": 0,
             "ticks": ""
            },
            "colorscale": [
             [
              0,
              "#0d0887"
             ],
             [
              0.1111111111111111,
              "#46039f"
             ],
             [
              0.2222222222222222,
              "#7201a8"
             ],
             [
              0.3333333333333333,
              "#9c179e"
             ],
             [
              0.4444444444444444,
              "#bd3786"
             ],
             [
              0.5555555555555556,
              "#d8576b"
             ],
             [
              0.6666666666666666,
              "#ed7953"
             ],
             [
              0.7777777777777778,
              "#fb9f3a"
             ],
             [
              0.8888888888888888,
              "#fdca26"
             ],
             [
              1,
              "#f0f921"
             ]
            ],
            "type": "heatmap"
           }
          ],
          "heatmapgl": [
           {
            "colorbar": {
             "outlinewidth": 0,
             "ticks": ""
            },
            "colorscale": [
             [
              0,
              "#0d0887"
             ],
             [
              0.1111111111111111,
              "#46039f"
             ],
             [
              0.2222222222222222,
              "#7201a8"
             ],
             [
              0.3333333333333333,
              "#9c179e"
             ],
             [
              0.4444444444444444,
              "#bd3786"
             ],
             [
              0.5555555555555556,
              "#d8576b"
             ],
             [
              0.6666666666666666,
              "#ed7953"
             ],
             [
              0.7777777777777778,
              "#fb9f3a"
             ],
             [
              0.8888888888888888,
              "#fdca26"
             ],
             [
              1,
              "#f0f921"
             ]
            ],
            "type": "heatmapgl"
           }
          ],
          "histogram": [
           {
            "marker": {
             "pattern": {
              "fillmode": "overlay",
              "size": 10,
              "solidity": 0.2
             }
            },
            "type": "histogram"
           }
          ],
          "histogram2d": [
           {
            "colorbar": {
             "outlinewidth": 0,
             "ticks": ""
            },
            "colorscale": [
             [
              0,
              "#0d0887"
             ],
             [
              0.1111111111111111,
              "#46039f"
             ],
             [
              0.2222222222222222,
              "#7201a8"
             ],
             [
              0.3333333333333333,
              "#9c179e"
             ],
             [
              0.4444444444444444,
              "#bd3786"
             ],
             [
              0.5555555555555556,
              "#d8576b"
             ],
             [
              0.6666666666666666,
              "#ed7953"
             ],
             [
              0.7777777777777778,
              "#fb9f3a"
             ],
             [
              0.8888888888888888,
              "#fdca26"
             ],
             [
              1,
              "#f0f921"
             ]
            ],
            "type": "histogram2d"
           }
          ],
          "histogram2dcontour": [
           {
            "colorbar": {
             "outlinewidth": 0,
             "ticks": ""
            },
            "colorscale": [
             [
              0,
              "#0d0887"
             ],
             [
              0.1111111111111111,
              "#46039f"
             ],
             [
              0.2222222222222222,
              "#7201a8"
             ],
             [
              0.3333333333333333,
              "#9c179e"
             ],
             [
              0.4444444444444444,
              "#bd3786"
             ],
             [
              0.5555555555555556,
              "#d8576b"
             ],
             [
              0.6666666666666666,
              "#ed7953"
             ],
             [
              0.7777777777777778,
              "#fb9f3a"
             ],
             [
              0.8888888888888888,
              "#fdca26"
             ],
             [
              1,
              "#f0f921"
             ]
            ],
            "type": "histogram2dcontour"
           }
          ],
          "mesh3d": [
           {
            "colorbar": {
             "outlinewidth": 0,
             "ticks": ""
            },
            "type": "mesh3d"
           }
          ],
          "parcoords": [
           {
            "line": {
             "colorbar": {
              "outlinewidth": 0,
              "ticks": ""
             }
            },
            "type": "parcoords"
           }
          ],
          "pie": [
           {
            "automargin": true,
            "type": "pie"
           }
          ],
          "scatter": [
           {
            "fillpattern": {
             "fillmode": "overlay",
             "size": 10,
             "solidity": 0.2
            },
            "type": "scatter"
           }
          ],
          "scatter3d": [
           {
            "line": {
             "colorbar": {
              "outlinewidth": 0,
              "ticks": ""
             }
            },
            "marker": {
             "colorbar": {
              "outlinewidth": 0,
              "ticks": ""
             }
            },
            "type": "scatter3d"
           }
          ],
          "scattercarpet": [
           {
            "marker": {
             "colorbar": {
              "outlinewidth": 0,
              "ticks": ""
             }
            },
            "type": "scattercarpet"
           }
          ],
          "scattergeo": [
           {
            "marker": {
             "colorbar": {
              "outlinewidth": 0,
              "ticks": ""
             }
            },
            "type": "scattergeo"
           }
          ],
          "scattergl": [
           {
            "marker": {
             "colorbar": {
              "outlinewidth": 0,
              "ticks": ""
             }
            },
            "type": "scattergl"
           }
          ],
          "scattermapbox": [
           {
            "marker": {
             "colorbar": {
              "outlinewidth": 0,
              "ticks": ""
             }
            },
            "type": "scattermapbox"
           }
          ],
          "scatterpolar": [
           {
            "marker": {
             "colorbar": {
              "outlinewidth": 0,
              "ticks": ""
             }
            },
            "type": "scatterpolar"
           }
          ],
          "scatterpolargl": [
           {
            "marker": {
             "colorbar": {
              "outlinewidth": 0,
              "ticks": ""
             }
            },
            "type": "scatterpolargl"
           }
          ],
          "scatterternary": [
           {
            "marker": {
             "colorbar": {
              "outlinewidth": 0,
              "ticks": ""
             }
            },
            "type": "scatterternary"
           }
          ],
          "surface": [
           {
            "colorbar": {
             "outlinewidth": 0,
             "ticks": ""
            },
            "colorscale": [
             [
              0,
              "#0d0887"
             ],
             [
              0.1111111111111111,
              "#46039f"
             ],
             [
              0.2222222222222222,
              "#7201a8"
             ],
             [
              0.3333333333333333,
              "#9c179e"
             ],
             [
              0.4444444444444444,
              "#bd3786"
             ],
             [
              0.5555555555555556,
              "#d8576b"
             ],
             [
              0.6666666666666666,
              "#ed7953"
             ],
             [
              0.7777777777777778,
              "#fb9f3a"
             ],
             [
              0.8888888888888888,
              "#fdca26"
             ],
             [
              1,
              "#f0f921"
             ]
            ],
            "type": "surface"
           }
          ],
          "table": [
           {
            "cells": {
             "fill": {
              "color": "#EBF0F8"
             },
             "line": {
              "color": "white"
             }
            },
            "header": {
             "fill": {
              "color": "#C8D4E3"
             },
             "line": {
              "color": "white"
             }
            },
            "type": "table"
           }
          ]
         },
         "layout": {
          "annotationdefaults": {
           "arrowcolor": "#2a3f5f",
           "arrowhead": 0,
           "arrowwidth": 1
          },
          "autotypenumbers": "strict",
          "coloraxis": {
           "colorbar": {
            "outlinewidth": 0,
            "ticks": ""
           }
          },
          "colorscale": {
           "diverging": [
            [
             0,
             "#8e0152"
            ],
            [
             0.1,
             "#c51b7d"
            ],
            [
             0.2,
             "#de77ae"
            ],
            [
             0.3,
             "#f1b6da"
            ],
            [
             0.4,
             "#fde0ef"
            ],
            [
             0.5,
             "#f7f7f7"
            ],
            [
             0.6,
             "#e6f5d0"
            ],
            [
             0.7,
             "#b8e186"
            ],
            [
             0.8,
             "#7fbc41"
            ],
            [
             0.9,
             "#4d9221"
            ],
            [
             1,
             "#276419"
            ]
           ],
           "sequential": [
            [
             0,
             "#0d0887"
            ],
            [
             0.1111111111111111,
             "#46039f"
            ],
            [
             0.2222222222222222,
             "#7201a8"
            ],
            [
             0.3333333333333333,
             "#9c179e"
            ],
            [
             0.4444444444444444,
             "#bd3786"
            ],
            [
             0.5555555555555556,
             "#d8576b"
            ],
            [
             0.6666666666666666,
             "#ed7953"
            ],
            [
             0.7777777777777778,
             "#fb9f3a"
            ],
            [
             0.8888888888888888,
             "#fdca26"
            ],
            [
             1,
             "#f0f921"
            ]
           ],
           "sequentialminus": [
            [
             0,
             "#0d0887"
            ],
            [
             0.1111111111111111,
             "#46039f"
            ],
            [
             0.2222222222222222,
             "#7201a8"
            ],
            [
             0.3333333333333333,
             "#9c179e"
            ],
            [
             0.4444444444444444,
             "#bd3786"
            ],
            [
             0.5555555555555556,
             "#d8576b"
            ],
            [
             0.6666666666666666,
             "#ed7953"
            ],
            [
             0.7777777777777778,
             "#fb9f3a"
            ],
            [
             0.8888888888888888,
             "#fdca26"
            ],
            [
             1,
             "#f0f921"
            ]
           ]
          },
          "colorway": [
           "#636efa",
           "#EF553B",
           "#00cc96",
           "#ab63fa",
           "#FFA15A",
           "#19d3f3",
           "#FF6692",
           "#B6E880",
           "#FF97FF",
           "#FECB52"
          ],
          "font": {
           "color": "#2a3f5f"
          },
          "geo": {
           "bgcolor": "white",
           "lakecolor": "white",
           "landcolor": "#E5ECF6",
           "showlakes": true,
           "showland": true,
           "subunitcolor": "white"
          },
          "hoverlabel": {
           "align": "left"
          },
          "hovermode": "closest",
          "mapbox": {
           "style": "light"
          },
          "paper_bgcolor": "white",
          "plot_bgcolor": "#E5ECF6",
          "polar": {
           "angularaxis": {
            "gridcolor": "white",
            "linecolor": "white",
            "ticks": ""
           },
           "bgcolor": "#E5ECF6",
           "radialaxis": {
            "gridcolor": "white",
            "linecolor": "white",
            "ticks": ""
           }
          },
          "scene": {
           "xaxis": {
            "backgroundcolor": "#E5ECF6",
            "gridcolor": "white",
            "gridwidth": 2,
            "linecolor": "white",
            "showbackground": true,
            "ticks": "",
            "zerolinecolor": "white"
           },
           "yaxis": {
            "backgroundcolor": "#E5ECF6",
            "gridcolor": "white",
            "gridwidth": 2,
            "linecolor": "white",
            "showbackground": true,
            "ticks": "",
            "zerolinecolor": "white"
           },
           "zaxis": {
            "backgroundcolor": "#E5ECF6",
            "gridcolor": "white",
            "gridwidth": 2,
            "linecolor": "white",
            "showbackground": true,
            "ticks": "",
            "zerolinecolor": "white"
           }
          },
          "shapedefaults": {
           "line": {
            "color": "#2a3f5f"
           }
          },
          "ternary": {
           "aaxis": {
            "gridcolor": "white",
            "linecolor": "white",
            "ticks": ""
           },
           "baxis": {
            "gridcolor": "white",
            "linecolor": "white",
            "ticks": ""
           },
           "bgcolor": "#E5ECF6",
           "caxis": {
            "gridcolor": "white",
            "linecolor": "white",
            "ticks": ""
           }
          },
          "title": {
           "x": 0.05
          },
          "xaxis": {
           "automargin": true,
           "gridcolor": "white",
           "linecolor": "white",
           "ticks": "",
           "title": {
            "standoff": 15
           },
           "zerolinecolor": "white",
           "zerolinewidth": 2
          },
          "yaxis": {
           "automargin": true,
           "gridcolor": "white",
           "linecolor": "white",
           "ticks": "",
           "title": {
            "standoff": 15
           },
           "zerolinecolor": "white",
           "zerolinewidth": 2
          }
         }
        }
       }
      }
     },
     "metadata": {},
     "output_type": "display_data"
    },
    {
     "data": {
      "application/vnd.plotly.v1+json": {
       "config": {
        "plotlyServerURL": "https://plot.ly"
       },
       "data": [
        {
         "mode": "lines",
         "name": "prediction",
         "type": "scatter",
         "x": [
          "2023-03-31",
          "2023-04-01",
          "2023-04-02",
          "2023-04-03",
          "2023-04-04",
          "2023-04-05",
          "2023-04-06",
          "2023-04-07",
          "2023-04-08",
          "2023-04-09",
          "2023-04-10",
          "2023-04-11",
          "2023-04-12",
          "2023-04-13",
          "2023-04-14",
          "2023-04-15",
          "2023-04-16",
          "2023-04-17",
          "2023-04-18",
          "2023-04-19",
          "2023-04-20",
          "2023-04-21",
          "2023-04-22",
          "2023-04-23",
          "2023-04-24",
          "2023-04-25",
          "2023-04-26",
          "2023-04-27",
          "2023-04-28",
          "2023-04-29",
          "2023-04-30",
          "2023-05-01",
          "2023-05-02",
          "2023-05-03",
          "2023-05-04",
          "2023-05-05",
          "2023-05-06",
          "2023-05-07",
          "2023-05-08",
          "2023-05-09",
          "2023-05-10",
          "2023-05-11",
          "2023-05-12",
          "2023-05-13",
          "2023-05-14",
          "2023-05-15",
          "2023-05-16",
          "2023-05-17",
          "2023-05-18",
          "2023-05-19",
          "2023-05-20",
          "2023-05-21",
          "2023-05-22",
          "2023-05-23",
          "2023-05-24",
          "2023-05-25",
          "2023-05-26",
          "2023-05-27",
          "2023-05-28",
          "2023-05-29",
          "2023-05-30",
          "2023-05-31"
         ],
         "y": [
          1635.6,
          1866.4,
          1587.4,
          1559.8,
          1716.6,
          1608.4,
          1788,
          1835.8,
          1891.2,
          1649.2,
          1645.8,
          1812.6,
          1771,
          1932.2,
          1862.2,
          1988.2,
          1712.8,
          1690,
          1861.2,
          1768,
          2024.2,
          2029.8,
          2043.2,
          1735.6,
          1602.8,
          1776,
          1779.2,
          1990,
          2032.6,
          1942.6,
          1522.4,
          1554.6,
          1780.8,
          1726,
          1961,
          2009.2,
          2009.2,
          1655.8,
          1656.4,
          1837.4,
          1791.4,
          2032.2,
          2139.8,
          2134.2,
          1748,
          1795.6,
          1936.8,
          1855,
          2148.4,
          2223.2,
          2255.8,
          1796.6,
          1768.4,
          1903.8,
          1864.8,
          2098.4,
          2119,
          2048,
          1719.2,
          1680.8,
          1753.6,
          1787.8
         ]
        },
        {
         "mode": "markers",
         "name": "num_pickup",
         "type": "scatter",
         "x": [
          "2023-03-31",
          "2023-04-01",
          "2023-04-02",
          "2023-04-03",
          "2023-04-04",
          "2023-04-05",
          "2023-04-06",
          "2023-04-07",
          "2023-04-08",
          "2023-04-09",
          "2023-04-10",
          "2023-04-11",
          "2023-04-12",
          "2023-04-13",
          "2023-04-14",
          "2023-04-15",
          "2023-04-16",
          "2023-04-17",
          "2023-04-18",
          "2023-04-19",
          "2023-04-20",
          "2023-04-21",
          "2023-04-22",
          "2023-04-23",
          "2023-04-24",
          "2023-04-25",
          "2023-04-26",
          "2023-04-27",
          "2023-04-28",
          "2023-04-29",
          "2023-04-30",
          "2023-05-01",
          "2023-05-02",
          "2023-05-03",
          "2023-05-04",
          "2023-05-05",
          "2023-05-06",
          "2023-05-07",
          "2023-05-08",
          "2023-05-09",
          "2023-05-10",
          "2023-05-11",
          "2023-05-12",
          "2023-05-13",
          "2023-05-14",
          "2023-05-15",
          "2023-05-16",
          "2023-05-17",
          "2023-05-18",
          "2023-05-19",
          "2023-05-20",
          "2023-05-21",
          "2023-05-22",
          "2023-05-23",
          "2023-05-24",
          "2023-05-25",
          "2023-05-26",
          "2023-05-27",
          "2023-05-28",
          "2023-05-29",
          "2023-05-30",
          "2023-05-31"
         ],
         "y": [
          1775,
          1888,
          1620,
          1799,
          1935,
          1633,
          1968,
          1909,
          1933,
          1726,
          1680,
          1998,
          1934,
          2228,
          2227,
          2061,
          1758,
          1786,
          2004,
          1921,
          2173,
          2126,
          2111,
          1515,
          1598,
          1743,
          1809,
          2054,
          1981,
          1672,
          1047,
          1543,
          1679,
          1588,
          2022,
          2008,
          2322,
          1669,
          1792,
          1975,
          1651,
          2206,
          2277,
          2339,
          1927,
          1930,
          2096,
          2019,
          2322,
          2383,
          2124,
          1748,
          1774,
          1931,
          1914,
          1996,
          1958,
          2147,
          1727,
          1430,
          1632,
          1786
         ]
        },
        {
         "line": {
          "width": 0
         },
         "name": "upper 95% CI",
         "showlegend": false,
         "type": "scatter",
         "x": [
          "2023-03-31",
          "2023-04-01",
          "2023-04-02",
          "2023-04-03",
          "2023-04-04",
          "2023-04-05",
          "2023-04-06",
          "2023-04-07",
          "2023-04-08",
          "2023-04-09",
          "2023-04-10",
          "2023-04-11",
          "2023-04-12",
          "2023-04-13",
          "2023-04-14",
          "2023-04-15",
          "2023-04-16",
          "2023-04-17",
          "2023-04-18",
          "2023-04-19",
          "2023-04-20",
          "2023-04-21",
          "2023-04-22",
          "2023-04-23",
          "2023-04-24",
          "2023-04-25",
          "2023-04-26",
          "2023-04-27",
          "2023-04-28",
          "2023-04-29",
          "2023-04-30",
          "2023-05-01",
          "2023-05-02",
          "2023-05-03",
          "2023-05-04",
          "2023-05-05",
          "2023-05-06",
          "2023-05-07",
          "2023-05-08",
          "2023-05-09",
          "2023-05-10",
          "2023-05-11",
          "2023-05-12",
          "2023-05-13",
          "2023-05-14",
          "2023-05-15",
          "2023-05-16",
          "2023-05-17",
          "2023-05-18",
          "2023-05-19",
          "2023-05-20",
          "2023-05-21",
          "2023-05-22",
          "2023-05-23",
          "2023-05-24",
          "2023-05-25",
          "2023-05-26",
          "2023-05-27",
          "2023-05-28",
          "2023-05-29",
          "2023-05-30",
          "2023-05-31"
         ],
         "y": [
          2013.1999999999998,
          2268.2,
          2019.8000000000002,
          1948.2,
          2100.8,
          1965.4,
          2176.4,
          2237.6,
          2293,
          2081.6000000000004,
          2030,
          2196.8,
          2148.6,
          2331.8,
          2297,
          2420.6000000000004,
          2069.8,
          2067.6,
          2249.6000000000004,
          2156.4,
          2426,
          2429.3999999999996,
          2427.4,
          2135.2,
          2002.3999999999999,
          2175.6,
          2214,
          2454.6,
          2467.3999999999996,
          2320.2,
          1954.8000000000002,
          1911.6,
          2180.3999999999996,
          2127.8,
          2362.8,
          2411,
          2386.8,
          2011.2,
          2013.4,
          2269.8,
          2193.2,
          2420.6000000000004,
          2524,
          2511.7999999999997,
          2180.4,
          2195.2,
          2293.8,
          2212,
          2580.8,
          2622.7999999999997,
          2633.4,
          2174.2,
          2170.2,
          2338.6,
          2266.6,
          2476,
          2507.4,
          2482.8,
          2118.8,
          2082.6,
          2218.2,
          2222.6
         ]
        },
        {
         "fill": "tonexty",
         "fillcolor": "rgba(68, 68, 68, 0.3)",
         "line": {
          "width": 0
         },
         "name": "lower 95% CI",
         "showlegend": false,
         "type": "scatter",
         "x": [
          "2023-03-31",
          "2023-04-01",
          "2023-04-02",
          "2023-04-03",
          "2023-04-04",
          "2023-04-05",
          "2023-04-06",
          "2023-04-07",
          "2023-04-08",
          "2023-04-09",
          "2023-04-10",
          "2023-04-11",
          "2023-04-12",
          "2023-04-13",
          "2023-04-14",
          "2023-04-15",
          "2023-04-16",
          "2023-04-17",
          "2023-04-18",
          "2023-04-19",
          "2023-04-20",
          "2023-04-21",
          "2023-04-22",
          "2023-04-23",
          "2023-04-24",
          "2023-04-25",
          "2023-04-26",
          "2023-04-27",
          "2023-04-28",
          "2023-04-29",
          "2023-04-30",
          "2023-05-01",
          "2023-05-02",
          "2023-05-03",
          "2023-05-04",
          "2023-05-05",
          "2023-05-06",
          "2023-05-07",
          "2023-05-08",
          "2023-05-09",
          "2023-05-10",
          "2023-05-11",
          "2023-05-12",
          "2023-05-13",
          "2023-05-14",
          "2023-05-15",
          "2023-05-16",
          "2023-05-17",
          "2023-05-18",
          "2023-05-19",
          "2023-05-20",
          "2023-05-21",
          "2023-05-22",
          "2023-05-23",
          "2023-05-24",
          "2023-05-25",
          "2023-05-26",
          "2023-05-27",
          "2023-05-28",
          "2023-05-29",
          "2023-05-30",
          "2023-05-31"
         ],
         "y": [
          1148,
          1372.2,
          1093.2,
          1070.3999999999999,
          1223,
          1114.8000000000002,
          1300,
          1282.8,
          1401.8,
          1155,
          1156.3999999999999,
          1323.1999999999998,
          1283.4,
          1444.2,
          1426.8,
          1435.2,
          1330.6,
          1202,
          1416.6000000000001,
          1323.4,
          1588.8,
          1540.3999999999999,
          1549.6000000000001,
          1182.6,
          1114.8,
          1282.4,
          1289.8,
          1554.6,
          1544.6,
          1470.1999999999998,
          1034.4,
          1110,
          1291.3999999999999,
          1236.6,
          1473,
          1564.6000000000001,
          1515.6000000000001,
          1166.3999999999999,
          1167,
          1349.4,
          1356,
          1665.2,
          1651.8000000000002,
          1646.1999999999998,
          1254.4,
          1301.3999999999999,
          1448.8,
          1367,
          1513.4,
          1729.6,
          1873.6000000000001,
          1303,
          1280.4,
          1414.3999999999999,
          1429.3999999999999,
          1463.4,
          1629.6,
          1413,
          1225,
          1192.8,
          1259.3999999999999,
          1234.8
         ]
        }
       ],
       "layout": {
        "template": {
         "data": {
          "bar": [
           {
            "error_x": {
             "color": "#2a3f5f"
            },
            "error_y": {
             "color": "#2a3f5f"
            },
            "marker": {
             "line": {
              "color": "#E5ECF6",
              "width": 0.5
             },
             "pattern": {
              "fillmode": "overlay",
              "size": 10,
              "solidity": 0.2
             }
            },
            "type": "bar"
           }
          ],
          "barpolar": [
           {
            "marker": {
             "line": {
              "color": "#E5ECF6",
              "width": 0.5
             },
             "pattern": {
              "fillmode": "overlay",
              "size": 10,
              "solidity": 0.2
             }
            },
            "type": "barpolar"
           }
          ],
          "carpet": [
           {
            "aaxis": {
             "endlinecolor": "#2a3f5f",
             "gridcolor": "white",
             "linecolor": "white",
             "minorgridcolor": "white",
             "startlinecolor": "#2a3f5f"
            },
            "baxis": {
             "endlinecolor": "#2a3f5f",
             "gridcolor": "white",
             "linecolor": "white",
             "minorgridcolor": "white",
             "startlinecolor": "#2a3f5f"
            },
            "type": "carpet"
           }
          ],
          "choropleth": [
           {
            "colorbar": {
             "outlinewidth": 0,
             "ticks": ""
            },
            "type": "choropleth"
           }
          ],
          "contour": [
           {
            "colorbar": {
             "outlinewidth": 0,
             "ticks": ""
            },
            "colorscale": [
             [
              0,
              "#0d0887"
             ],
             [
              0.1111111111111111,
              "#46039f"
             ],
             [
              0.2222222222222222,
              "#7201a8"
             ],
             [
              0.3333333333333333,
              "#9c179e"
             ],
             [
              0.4444444444444444,
              "#bd3786"
             ],
             [
              0.5555555555555556,
              "#d8576b"
             ],
             [
              0.6666666666666666,
              "#ed7953"
             ],
             [
              0.7777777777777778,
              "#fb9f3a"
             ],
             [
              0.8888888888888888,
              "#fdca26"
             ],
             [
              1,
              "#f0f921"
             ]
            ],
            "type": "contour"
           }
          ],
          "contourcarpet": [
           {
            "colorbar": {
             "outlinewidth": 0,
             "ticks": ""
            },
            "type": "contourcarpet"
           }
          ],
          "heatmap": [
           {
            "colorbar": {
             "outlinewidth": 0,
             "ticks": ""
            },
            "colorscale": [
             [
              0,
              "#0d0887"
             ],
             [
              0.1111111111111111,
              "#46039f"
             ],
             [
              0.2222222222222222,
              "#7201a8"
             ],
             [
              0.3333333333333333,
              "#9c179e"
             ],
             [
              0.4444444444444444,
              "#bd3786"
             ],
             [
              0.5555555555555556,
              "#d8576b"
             ],
             [
              0.6666666666666666,
              "#ed7953"
             ],
             [
              0.7777777777777778,
              "#fb9f3a"
             ],
             [
              0.8888888888888888,
              "#fdca26"
             ],
             [
              1,
              "#f0f921"
             ]
            ],
            "type": "heatmap"
           }
          ],
          "heatmapgl": [
           {
            "colorbar": {
             "outlinewidth": 0,
             "ticks": ""
            },
            "colorscale": [
             [
              0,
              "#0d0887"
             ],
             [
              0.1111111111111111,
              "#46039f"
             ],
             [
              0.2222222222222222,
              "#7201a8"
             ],
             [
              0.3333333333333333,
              "#9c179e"
             ],
             [
              0.4444444444444444,
              "#bd3786"
             ],
             [
              0.5555555555555556,
              "#d8576b"
             ],
             [
              0.6666666666666666,
              "#ed7953"
             ],
             [
              0.7777777777777778,
              "#fb9f3a"
             ],
             [
              0.8888888888888888,
              "#fdca26"
             ],
             [
              1,
              "#f0f921"
             ]
            ],
            "type": "heatmapgl"
           }
          ],
          "histogram": [
           {
            "marker": {
             "pattern": {
              "fillmode": "overlay",
              "size": 10,
              "solidity": 0.2
             }
            },
            "type": "histogram"
           }
          ],
          "histogram2d": [
           {
            "colorbar": {
             "outlinewidth": 0,
             "ticks": ""
            },
            "colorscale": [
             [
              0,
              "#0d0887"
             ],
             [
              0.1111111111111111,
              "#46039f"
             ],
             [
              0.2222222222222222,
              "#7201a8"
             ],
             [
              0.3333333333333333,
              "#9c179e"
             ],
             [
              0.4444444444444444,
              "#bd3786"
             ],
             [
              0.5555555555555556,
              "#d8576b"
             ],
             [
              0.6666666666666666,
              "#ed7953"
             ],
             [
              0.7777777777777778,
              "#fb9f3a"
             ],
             [
              0.8888888888888888,
              "#fdca26"
             ],
             [
              1,
              "#f0f921"
             ]
            ],
            "type": "histogram2d"
           }
          ],
          "histogram2dcontour": [
           {
            "colorbar": {
             "outlinewidth": 0,
             "ticks": ""
            },
            "colorscale": [
             [
              0,
              "#0d0887"
             ],
             [
              0.1111111111111111,
              "#46039f"
             ],
             [
              0.2222222222222222,
              "#7201a8"
             ],
             [
              0.3333333333333333,
              "#9c179e"
             ],
             [
              0.4444444444444444,
              "#bd3786"
             ],
             [
              0.5555555555555556,
              "#d8576b"
             ],
             [
              0.6666666666666666,
              "#ed7953"
             ],
             [
              0.7777777777777778,
              "#fb9f3a"
             ],
             [
              0.8888888888888888,
              "#fdca26"
             ],
             [
              1,
              "#f0f921"
             ]
            ],
            "type": "histogram2dcontour"
           }
          ],
          "mesh3d": [
           {
            "colorbar": {
             "outlinewidth": 0,
             "ticks": ""
            },
            "type": "mesh3d"
           }
          ],
          "parcoords": [
           {
            "line": {
             "colorbar": {
              "outlinewidth": 0,
              "ticks": ""
             }
            },
            "type": "parcoords"
           }
          ],
          "pie": [
           {
            "automargin": true,
            "type": "pie"
           }
          ],
          "scatter": [
           {
            "fillpattern": {
             "fillmode": "overlay",
             "size": 10,
             "solidity": 0.2
            },
            "type": "scatter"
           }
          ],
          "scatter3d": [
           {
            "line": {
             "colorbar": {
              "outlinewidth": 0,
              "ticks": ""
             }
            },
            "marker": {
             "colorbar": {
              "outlinewidth": 0,
              "ticks": ""
             }
            },
            "type": "scatter3d"
           }
          ],
          "scattercarpet": [
           {
            "marker": {
             "colorbar": {
              "outlinewidth": 0,
              "ticks": ""
             }
            },
            "type": "scattercarpet"
           }
          ],
          "scattergeo": [
           {
            "marker": {
             "colorbar": {
              "outlinewidth": 0,
              "ticks": ""
             }
            },
            "type": "scattergeo"
           }
          ],
          "scattergl": [
           {
            "marker": {
             "colorbar": {
              "outlinewidth": 0,
              "ticks": ""
             }
            },
            "type": "scattergl"
           }
          ],
          "scattermapbox": [
           {
            "marker": {
             "colorbar": {
              "outlinewidth": 0,
              "ticks": ""
             }
            },
            "type": "scattermapbox"
           }
          ],
          "scatterpolar": [
           {
            "marker": {
             "colorbar": {
              "outlinewidth": 0,
              "ticks": ""
             }
            },
            "type": "scatterpolar"
           }
          ],
          "scatterpolargl": [
           {
            "marker": {
             "colorbar": {
              "outlinewidth": 0,
              "ticks": ""
             }
            },
            "type": "scatterpolargl"
           }
          ],
          "scatterternary": [
           {
            "marker": {
             "colorbar": {
              "outlinewidth": 0,
              "ticks": ""
             }
            },
            "type": "scatterternary"
           }
          ],
          "surface": [
           {
            "colorbar": {
             "outlinewidth": 0,
             "ticks": ""
            },
            "colorscale": [
             [
              0,
              "#0d0887"
             ],
             [
              0.1111111111111111,
              "#46039f"
             ],
             [
              0.2222222222222222,
              "#7201a8"
             ],
             [
              0.3333333333333333,
              "#9c179e"
             ],
             [
              0.4444444444444444,
              "#bd3786"
             ],
             [
              0.5555555555555556,
              "#d8576b"
             ],
             [
              0.6666666666666666,
              "#ed7953"
             ],
             [
              0.7777777777777778,
              "#fb9f3a"
             ],
             [
              0.8888888888888888,
              "#fdca26"
             ],
             [
              1,
              "#f0f921"
             ]
            ],
            "type": "surface"
           }
          ],
          "table": [
           {
            "cells": {
             "fill": {
              "color": "#EBF0F8"
             },
             "line": {
              "color": "white"
             }
            },
            "header": {
             "fill": {
              "color": "#C8D4E3"
             },
             "line": {
              "color": "white"
             }
            },
            "type": "table"
           }
          ]
         },
         "layout": {
          "annotationdefaults": {
           "arrowcolor": "#2a3f5f",
           "arrowhead": 0,
           "arrowwidth": 1
          },
          "autotypenumbers": "strict",
          "coloraxis": {
           "colorbar": {
            "outlinewidth": 0,
            "ticks": ""
           }
          },
          "colorscale": {
           "diverging": [
            [
             0,
             "#8e0152"
            ],
            [
             0.1,
             "#c51b7d"
            ],
            [
             0.2,
             "#de77ae"
            ],
            [
             0.3,
             "#f1b6da"
            ],
            [
             0.4,
             "#fde0ef"
            ],
            [
             0.5,
             "#f7f7f7"
            ],
            [
             0.6,
             "#e6f5d0"
            ],
            [
             0.7,
             "#b8e186"
            ],
            [
             0.8,
             "#7fbc41"
            ],
            [
             0.9,
             "#4d9221"
            ],
            [
             1,
             "#276419"
            ]
           ],
           "sequential": [
            [
             0,
             "#0d0887"
            ],
            [
             0.1111111111111111,
             "#46039f"
            ],
            [
             0.2222222222222222,
             "#7201a8"
            ],
            [
             0.3333333333333333,
             "#9c179e"
            ],
            [
             0.4444444444444444,
             "#bd3786"
            ],
            [
             0.5555555555555556,
             "#d8576b"
            ],
            [
             0.6666666666666666,
             "#ed7953"
            ],
            [
             0.7777777777777778,
             "#fb9f3a"
            ],
            [
             0.8888888888888888,
             "#fdca26"
            ],
            [
             1,
             "#f0f921"
            ]
           ],
           "sequentialminus": [
            [
             0,
             "#0d0887"
            ],
            [
             0.1111111111111111,
             "#46039f"
            ],
            [
             0.2222222222222222,
             "#7201a8"
            ],
            [
             0.3333333333333333,
             "#9c179e"
            ],
            [
             0.4444444444444444,
             "#bd3786"
            ],
            [
             0.5555555555555556,
             "#d8576b"
            ],
            [
             0.6666666666666666,
             "#ed7953"
            ],
            [
             0.7777777777777778,
             "#fb9f3a"
            ],
            [
             0.8888888888888888,
             "#fdca26"
            ],
            [
             1,
             "#f0f921"
            ]
           ]
          },
          "colorway": [
           "#636efa",
           "#EF553B",
           "#00cc96",
           "#ab63fa",
           "#FFA15A",
           "#19d3f3",
           "#FF6692",
           "#B6E880",
           "#FF97FF",
           "#FECB52"
          ],
          "font": {
           "color": "#2a3f5f"
          },
          "geo": {
           "bgcolor": "white",
           "lakecolor": "white",
           "landcolor": "#E5ECF6",
           "showlakes": true,
           "showland": true,
           "subunitcolor": "white"
          },
          "hoverlabel": {
           "align": "left"
          },
          "hovermode": "closest",
          "mapbox": {
           "style": "light"
          },
          "paper_bgcolor": "white",
          "plot_bgcolor": "#E5ECF6",
          "polar": {
           "angularaxis": {
            "gridcolor": "white",
            "linecolor": "white",
            "ticks": ""
           },
           "bgcolor": "#E5ECF6",
           "radialaxis": {
            "gridcolor": "white",
            "linecolor": "white",
            "ticks": ""
           }
          },
          "scene": {
           "xaxis": {
            "backgroundcolor": "#E5ECF6",
            "gridcolor": "white",
            "gridwidth": 2,
            "linecolor": "white",
            "showbackground": true,
            "ticks": "",
            "zerolinecolor": "white"
           },
           "yaxis": {
            "backgroundcolor": "#E5ECF6",
            "gridcolor": "white",
            "gridwidth": 2,
            "linecolor": "white",
            "showbackground": true,
            "ticks": "",
            "zerolinecolor": "white"
           },
           "zaxis": {
            "backgroundcolor": "#E5ECF6",
            "gridcolor": "white",
            "gridwidth": 2,
            "linecolor": "white",
            "showbackground": true,
            "ticks": "",
            "zerolinecolor": "white"
           }
          },
          "shapedefaults": {
           "line": {
            "color": "#2a3f5f"
           }
          },
          "ternary": {
           "aaxis": {
            "gridcolor": "white",
            "linecolor": "white",
            "ticks": ""
           },
           "baxis": {
            "gridcolor": "white",
            "linecolor": "white",
            "ticks": ""
           },
           "bgcolor": "#E5ECF6",
           "caxis": {
            "gridcolor": "white",
            "linecolor": "white",
            "ticks": ""
           }
          },
          "title": {
           "x": 0.05
          },
          "xaxis": {
           "automargin": true,
           "gridcolor": "white",
           "linecolor": "white",
           "ticks": "",
           "title": {
            "standoff": 15
           },
           "zerolinecolor": "white",
           "zerolinewidth": 2
          },
          "yaxis": {
           "automargin": true,
           "gridcolor": "white",
           "linecolor": "white",
           "ticks": "",
           "title": {
            "standoff": 15
           },
           "zerolinecolor": "white",
           "zerolinewidth": 2
          }
         }
        }
       }
      }
     },
     "metadata": {},
     "output_type": "display_data"
    }
   ],
   "source": [
    "train_with_predicitions = (\n",
    "    train.join(predictions, on=ModelConfig.TS_INDEX, how=\"inner\")\n",
    "    .with_columns(\n",
    "        (pl.col(\"prediction\") - pl.col(\"num_pickup\")).alias(\"residual\")\n",
    "    )\n",
    ")\n",
    "\n",
    "test_with_predictions = test.join(test_predictions, on=ModelConfig.TS_INDEX, how=\"inner\")\n",
    "\n",
    "\n",
    "\n",
    "\n",
    "train_mae = mean_absolute_error(train_with_predicitions[\"num_pickup\"], train_with_predicitions[\"prediction\"])\n",
    "test_mae = mean_absolute_error(test_with_predictions[\"num_pickup\"], test_with_predictions[\"prediction\"])\n",
    "\n",
    "print(f\"Train MAE: {train_mae:.2f}, Test MAE: {test_mae:.2f}\")\n",
    "# fig = plot_ts(train_with_predicitions, [\"prediction\"])\n",
    "plot_ts(train_with_predicitions, [\"prediction\"], fill_between=[\"lower_bound\", \"upper_bound\"], target=\"num_pickup\")\n",
    "plot_ts(test_with_predictions, [\"prediction\"], fill_between=[\"lower_bound\", \"upper_bound\"], target=\"num_pickup\")\n",
    "\n",
    "\n",
    "\n"
   ]
  },
  {
   "cell_type": "markdown",
   "metadata": {},
   "source": [
    "## Residuals Diagnostic\n",
    "\n",
    "Main conclusions\n",
    "- Residuals mean is not zero but negative. This implies forecasts have a downward bias. \n",
    "- Residuals show some autocorrelation for recent lags, meaning there´s still some point of improvement.\n",
    "- Visual inspection suggest residuals are not normally distributed, meaning that we would need alternative approaches to model the uncertainty of our predictions.\n",
    "\n",
    "\n",
    "Action points\n",
    "- To reduce bias, we could simply take away the bias value. \n",
    "- For the autocorrelation, we could try a proper time series model \n",
    "- For the prediction intervals, we can use bootstrapping"
   ]
  },
  {
   "cell_type": "code",
   "execution_count": 9,
   "metadata": {},
   "outputs": [
    {
     "name": "stdout",
     "output_type": "stream",
     "text": [
      "Mean: -5.82, Std: 209.46\n"
     ]
    },
    {
     "name": "stderr",
     "output_type": "stream",
     "text": [
      "C:\\Users\\selaf\\AppData\\Local\\Temp\\ipykernel_27060\\4263196343.py:16: UserWarning:\n",
      "\n",
      "FigureCanvasAgg is non-interactive, and thus cannot be shown\n",
      "\n"
     ]
    },
    {
     "data": {
      "image/png": "[encoded data removed]",
      "text/plain": [
       "<Figure size 1800x800 with 4 Axes>"
      ]
     },
     "metadata": {},
     "output_type": "display_data"
    }
   ],
   "source": [
    "import seaborn as sns \n",
    "import statsmodels.api as sm \n",
    "import matplotlib.pyplot as plt \n",
    "from statsmodels.graphics import tsaplots\n",
    "\n",
    "mean, std = train_with_predicitions[\"residual\"].mean(), train_with_predicitions[\"residual\"].std()\n",
    "print(\n",
    "    f\"Mean: {mean:.2f}, Std: {std:.2f}\"\n",
    ")\n",
    "fig, axs = plt.subplots(2,2, figsize=(18,8))\n",
    "sns.histplot(train_with_predicitions[\"residual\"].to_pandas(), kde=True, ax=axs[0,0])\n",
    "sns.scatterplot(train_with_predicitions[\"residual\"].to_pandas(), ax=axs[0,1])\n",
    "sm.qqplot(train_with_predicitions[\"residual\"].to_pandas(), line=\"s\", ax=axs[1,0])\n",
    "tsaplots.plot_acf(train_with_predicitions[\"residual\"].to_pandas(), lags=30, ax=axs[1,1], zero=False)\n",
    "\n",
    "fig.show()\n"
   ]
  },
  {
   "cell_type": "markdown",
   "metadata": {},
   "source": [
    "## Boostrapping Prediction Intervals\n",
    "\n",
    "- predict value for y_t+1\n",
    "- get sample for residual\n",
    "- add to prediction\n",
    "- repeat for B times\n",
    "- get percentiles\n",
    "\n",
    "\n"
   ]
  },
  {
   "cell_type": "code",
   "execution_count": 10,
   "metadata": {},
   "outputs": [],
   "source": [
    "import numpy as np \n",
    "residuals = train_with_predicitions[\"residual\"].to_list()\n",
    "\n",
    "B = 500\n",
    "\n"
   ]
  },
  {
   "cell_type": "code",
   "execution_count": 11,
   "metadata": {},
   "outputs": [],
   "source": [
    "def get_bootstrap_indexes(n:int, B:int) -> np.ndarray:\n",
    "    \"\"\"Creates an array of Bxn where each row represent\n",
    "    a random number between 0 and n. For the bootstrapp sampling,\n",
    "    this means that each row is a index value to be used when sampling\n",
    "    the data\n",
    "\n",
    "    Args:\n",
    "        n (int): _description_\n",
    "        B (int, optional): _description_.\n",
    "    \"\"\"\n",
    "    idx = np.random.randint(0, n, (B, n))\n",
    "    return idx"
   ]
  },
  {
   "cell_type": "code",
   "execution_count": 12,
   "metadata": {},
   "outputs": [
    {
     "data": {
      "text/html": [
       "<div><style>\n",
       ".dataframe > thead > tr,\n",
       ".dataframe > tbody > tr {\n",
       "  text-align: right;\n",
       "  white-space: pre-wrap;\n",
       "}\n",
       "</style>\n",
       "<small>shape: (2, 2)</small><table border=\"1\" class=\"dataframe\"><thead><tr><th>in_ci</th><th>num_pickup</th></tr><tr><td>bool</td><td>u32</td></tr></thead><tbody><tr><td>false</td><td>21</td></tr><tr><td>true</td><td>377</td></tr></tbody></table></div>"
      ],
      "text/plain": [
       "shape: (2, 2)\n",
       "┌───────┬────────────┐\n",
       "│ in_ci ┆ num_pickup │\n",
       "│ ---   ┆ ---        │\n",
       "│ bool  ┆ u32        │\n",
       "╞═══════╪════════════╡\n",
       "│ false ┆ 21         │\n",
       "│ true  ┆ 377        │\n",
       "└───────┴────────────┘"
      ]
     },
     "execution_count": 12,
     "metadata": {},
     "output_type": "execute_result"
    }
   ],
   "source": [
    "rng = np.random.default_rng(seed=25)\n",
    "\n",
    "\n",
    "bootstrap_errors = pl.DataFrame(\n",
    "    rng.choice(residuals, (predictions.shape[0], B))\n",
    "    , schema=[f\"prediction_{x}\" for x in range(B)]\n",
    ")\n",
    "\n",
    "\n",
    "\n",
    "(\n",
    "    train_with_predicitions\n",
    "    .select([ModelConfig.TS_INDEX, \"prediction\", \"num_pickup\"])\n",
    "    .hstack(bootstrap_errors)\n",
    "    .with_columns(\n",
    "        [(pl.col(\"prediction\") + pl.col(f\"prediction_{x}\")).alias(f\"prediction_{x}\") for x in range(B)]\n",
    "    )\n",
    "    .melt(id_vars = [ModelConfig.TS_INDEX, \"prediction\", \"num_pickup\"])\n",
    "    .group_by([pl.col(ModelConfig.TS_INDEX), pl.col(\"prediction\"), \"num_pickup\"])\n",
    "    .agg(\n",
    "        pl.col(\"value\").quantile(0.025).alias(\"lower_bound\")\n",
    "        , pl.col(\"value\").quantile(0.975).alias(\"upper_bound\")\n",
    "    )\n",
    "    .sort(ModelConfig.TS_INDEX)\n",
    "    .with_columns([\n",
    "        pl.col(\"num_pickup\").is_between(pl.col(\"lower_bound\"), pl.col(\"upper_bound\")).alias(\"in_ci\")\n",
    "        , (pl.col(\"upper_bound\") - pl.col(\"lower_bound\")).alias(\"width\")\n",
    "    ])\n",
    "    .group_by(pl.col(\"in_ci\"))\n",
    "    .agg(\n",
    "        pl.col(\"num_pickup\").count()\n",
    "    )\n",
    ")\n"
   ]
  },
  {
   "cell_type": "code",
   "execution_count": 13,
   "metadata": {},
   "outputs": [
    {
     "data": {
      "text/html": [
       "<div><style>\n",
       ".dataframe > thead > tr,\n",
       ".dataframe > tbody > tr {\n",
       "  text-align: right;\n",
       "  white-space: pre-wrap;\n",
       "}\n",
       "</style>\n",
       "<small>shape: (2, 2)</small><table border=\"1\" class=\"dataframe\"><thead><tr><th>in_ci</th><th>num_pickup</th></tr><tr><td>bool</td><td>u32</td></tr></thead><tbody><tr><td>false</td><td>21</td></tr><tr><td>true</td><td>377</td></tr></tbody></table></div>"
      ],
      "text/plain": [
       "shape: (2, 2)\n",
       "┌───────┬────────────┐\n",
       "│ in_ci ┆ num_pickup │\n",
       "│ ---   ┆ ---        │\n",
       "│ bool  ┆ u32        │\n",
       "╞═══════╪════════════╡\n",
       "│ false ┆ 21         │\n",
       "│ true  ┆ 377        │\n",
       "└───────┴────────────┘"
      ]
     },
     "execution_count": 13,
     "metadata": {},
     "output_type": "execute_result"
    }
   ],
   "source": [
    "(\n",
    "    train_with_predicitions\n",
    "    .with_columns(\n",
    "        pl.col(\"num_pickup\").is_between(pl.col(\"lower_bound\"), pl.col(\"upper_bound\")).alias(\"in_ci\")\n",
    "    )\n",
    "    .group_by(pl.col(\"in_ci\"))\n",
    "    .agg(\n",
    "        pl.col(\"num_pickup\").count()\n",
    "    )\n",
    ")\n",
    "\n"
   ]
  },
  {
   "cell_type": "markdown",
   "metadata": {},
   "source": [
    "## Multi-step forecast\n",
    "\n",
    "- Generate horizon and add it to dataframe\n",
    "- Set dropping nulls as optional when generating the horizon\n",
    "- Predict one-step ahead and add it to the dataframe\n",
    "\n"
   ]
  },
  {
   "cell_type": "code",
   "execution_count": 24,
   "metadata": {},
   "outputs": [
    {
     "data": {
      "text/html": [
       "<div><style>\n",
       ".dataframe > thead > tr,\n",
       ".dataframe > tbody > tr {\n",
       "  text-align: right;\n",
       "  white-space: pre-wrap;\n",
       "}\n",
       "</style>\n",
       "<small>shape: (5, 3)</small><table border=\"1\" class=\"dataframe\"><thead><tr><th>pickup_datetime_hour</th><th>pickup_location_id</th><th>num_pickup</th></tr><tr><td>date</td><td>i16</td><td>f64</td></tr></thead><tbody><tr><td>2023-02-26</td><td>43</td><td>1271.0</td></tr><tr><td>2023-02-27</td><td>43</td><td>1373.0</td></tr><tr><td>2023-02-28</td><td>43</td><td>1563.0</td></tr><tr><td>2023-03-01</td><td>43</td><td>1559.0</td></tr><tr><td>2023-03-02</td><td>43</td><td>1713.0</td></tr></tbody></table></div>"
      ],
      "text/plain": [
       "shape: (5, 3)\n",
       "┌──────────────────────┬────────────────────┬────────────┐\n",
       "│ pickup_datetime_hour ┆ pickup_location_id ┆ num_pickup │\n",
       "│ ---                  ┆ ---                ┆ ---        │\n",
       "│ date                 ┆ i16                ┆ f64        │\n",
       "╞══════════════════════╪════════════════════╪════════════╡\n",
       "│ 2023-02-26           ┆ 43                 ┆ 1271.0     │\n",
       "│ 2023-02-27           ┆ 43                 ┆ 1373.0     │\n",
       "│ 2023-02-28           ┆ 43                 ┆ 1563.0     │\n",
       "│ 2023-03-01           ┆ 43                 ┆ 1559.0     │\n",
       "│ 2023-03-02           ┆ 43                 ┆ 1713.0     │\n",
       "└──────────────────────┴────────────────────┴────────────┘"
      ]
     },
     "execution_count": 24,
     "metadata": {},
     "output_type": "execute_result"
    }
   ],
   "source": [
    "train.tail()"
   ]
  },
  {
   "cell_type": "code",
   "execution_count": 25,
   "metadata": {},
   "outputs": [
    {
     "data": {
      "text/plain": [
       "datetime.date(2023, 3, 2)"
      ]
     },
     "execution_count": 25,
     "metadata": {},
     "output_type": "execute_result"
    }
   ],
   "source": [
    "train[ModelConfig.TS_INDEX].max() "
   ]
  },
  {
   "cell_type": "code",
   "execution_count": 48,
   "metadata": {},
   "outputs": [
    {
     "data": {
      "text/html": [
       "<div><style>\n",
       ".dataframe > thead > tr,\n",
       ".dataframe > tbody > tr {\n",
       "  text-align: right;\n",
       "  white-space: pre-wrap;\n",
       "}\n",
       "</style>\n",
       "<small>shape: (433, 3)</small><table border=\"1\" class=\"dataframe\"><thead><tr><th>pickup_datetime_hour</th><th>pickup_location_id</th><th>num_pickup</th></tr><tr><td>date</td><td>i16</td><td>f64</td></tr></thead><tbody><tr><td>2022-01-01</td><td>43</td><td>864.0</td></tr><tr><td>2022-01-02</td><td>43</td><td>991.0</td></tr><tr><td>2022-01-03</td><td>43</td><td>1246.0</td></tr><tr><td>2022-01-04</td><td>43</td><td>1334.0</td></tr><tr><td>2022-01-05</td><td>43</td><td>1306.0</td></tr><tr><td>2022-01-06</td><td>43</td><td>1474.0</td></tr><tr><td>2022-01-07</td><td>43</td><td>1406.0</td></tr><tr><td>2022-01-08</td><td>43</td><td>1440.0</td></tr><tr><td>2022-01-09</td><td>43</td><td>991.0</td></tr><tr><td>2022-01-10</td><td>43</td><td>1301.0</td></tr><tr><td>2022-01-11</td><td>43</td><td>1349.0</td></tr><tr><td>2022-01-12</td><td>43</td><td>1311.0</td></tr><tr><td>&hellip;</td><td>&hellip;</td><td>&hellip;</td></tr><tr><td>2023-02-26</td><td>43</td><td>1271.0</td></tr><tr><td>2023-02-27</td><td>43</td><td>1373.0</td></tr><tr><td>2023-02-28</td><td>43</td><td>1563.0</td></tr><tr><td>2023-03-01</td><td>43</td><td>1559.0</td></tr><tr><td>2023-03-02</td><td>43</td><td>1713.0</td></tr><tr><td>2023-03-03</td><td>43</td><td>null</td></tr><tr><td>2023-03-04</td><td>43</td><td>null</td></tr><tr><td>2023-03-05</td><td>43</td><td>null</td></tr><tr><td>2023-03-06</td><td>43</td><td>null</td></tr><tr><td>2023-03-07</td><td>43</td><td>null</td></tr><tr><td>2023-03-08</td><td>43</td><td>null</td></tr><tr><td>2023-03-09</td><td>43</td><td>null</td></tr></tbody></table></div>"
      ],
      "text/plain": [
       "shape: (433, 3)\n",
       "┌──────────────────────┬────────────────────┬────────────┐\n",
       "│ pickup_datetime_hour ┆ pickup_location_id ┆ num_pickup │\n",
       "│ ---                  ┆ ---                ┆ ---        │\n",
       "│ date                 ┆ i16                ┆ f64        │\n",
       "╞══════════════════════╪════════════════════╪════════════╡\n",
       "│ 2022-01-01           ┆ 43                 ┆ 864.0      │\n",
       "│ 2022-01-02           ┆ 43                 ┆ 991.0      │\n",
       "│ 2022-01-03           ┆ 43                 ┆ 1246.0     │\n",
       "│ 2022-01-04           ┆ 43                 ┆ 1334.0     │\n",
       "│ 2022-01-05           ┆ 43                 ┆ 1306.0     │\n",
       "│ …                    ┆ …                  ┆ …          │\n",
       "│ 2023-03-05           ┆ 43                 ┆ null       │\n",
       "│ 2023-03-06           ┆ 43                 ┆ null       │\n",
       "│ 2023-03-07           ┆ 43                 ┆ null       │\n",
       "│ 2023-03-08           ┆ 43                 ┆ null       │\n",
       "│ 2023-03-09           ┆ 43                 ┆ null       │\n",
       "└──────────────────────┴────────────────────┴────────────┘"
      ]
     },
     "execution_count": 48,
     "metadata": {},
     "output_type": "execute_result"
    }
   ],
   "source": [
    "train_with_horizon"
   ]
  },
  {
   "cell_type": "markdown",
   "metadata": {},
   "source": [
    "- The one-step ahead forecast is fixed and I need to calculate it first. \n",
    "- Then compute the forecast for further dates by using the previous forecast + a random sample of residuals, the lagged values are also fixed since they've been observed.\n",
    "- Repeat B times\n",
    "- Get percentiles"
   ]
  },
  {
   "cell_type": "code",
   "execution_count": 164,
   "metadata": {},
   "outputs": [],
   "source": [
    "\n",
    "from datetime import timedelta\n",
    "from functools import reduce\n",
    "\n",
    "\n",
    "forecast_dates = [train[ModelConfig.TS_INDEX].max() + timedelta(days=x) for x in range(1,8)]\n",
    "\n",
    "df_horizon = (\n",
    "    pl.DataFrame({\n",
    "        ModelConfig.TS_INDEX: pl.date_range(\n",
    "        start=forecast_dates[0]\n",
    "        , end=forecast_dates[-1]\n",
    "        , interval=\"1d\"\n",
    "        , eager=True)\n",
    "    })\n",
    "    .with_columns(\n",
    "        pl.lit(43).alias(\"pickup_location_id\").cast(pl.Int16)\n",
    "        , pl.lit(0).alias(ModelConfig.TARGET).cast(pl.Float64)\n",
    "    )\n",
    ")\n",
    "\n",
    "train_with_horizon = (\n",
    "    train\n",
    "    .vstack(df_horizon)\n",
    ")\n",
    "\n",
    "forecast_df  = (\n",
    "    model.predict(train_with_horizon, return_prediction_interval=False)\n",
    "    .filter(pl.col(ModelConfig.TS_INDEX).is_in(forecast_dates))\n",
    "    .rows()\n",
    ")\n",
    "\n",
    "forecast_dict = {x[0].strftime(\"%Y-%m-%d\"):x[1] for x in forecast_df}\n"
   ]
  },
  {
   "cell_type": "code",
   "execution_count": 169,
   "metadata": {},
   "outputs": [
    {
     "data": {
      "text/plain": [
       "['2023-03-03',\n",
       " '2023-03-04',\n",
       " '2023-03-05',\n",
       " '2023-03-06',\n",
       " '2023-03-07',\n",
       " '2023-03-08',\n",
       " '2023-03-09']"
      ]
     },
     "execution_count": 169,
     "metadata": {},
     "output_type": "execute_result"
    }
   ],
   "source": [
    "forecast_dates_in_str = [x.strftime(\"%Y-%m-%d\") for x in forecast_dates]\n",
    "forecast_dates_in_str\n"
   ]
  },
  {
   "cell_type": "code",
   "execution_count": 171,
   "metadata": {},
   "outputs": [
    {
     "data": {
      "text/html": [
       "<div><style>\n",
       ".dataframe > thead > tr,\n",
       ".dataframe > tbody > tr {\n",
       "  text-align: right;\n",
       "  white-space: pre-wrap;\n",
       "}\n",
       "</style>\n",
       "<small>shape: (10, 8)</small><table border=\"1\" class=\"dataframe\"><thead><tr><th>boostrap sample</th><th>2023-03-03</th><th>2023-03-04</th><th>2023-03-05</th><th>2023-03-06</th><th>2023-03-07</th><th>2023-03-08</th><th>2023-03-09</th></tr><tr><td>u32</td><td>f64</td><td>f64</td><td>f64</td><td>f64</td><td>f64</td><td>f64</td><td>f64</td></tr></thead><tbody><tr><td>1</td><td>1662.8</td><td>969.8</td><td>432.2</td><td>810.4</td><td>657.0</td><td>794.4</td><td>1321.2</td></tr><tr><td>2</td><td>1513.0</td><td>929.2</td><td>764.2</td><td>1210.0</td><td>997.2</td><td>837.4</td><td>1300.6</td></tr><tr><td>3</td><td>1445.8</td><td>1120.0</td><td>760.4</td><td>955.6</td><td>1101.2</td><td>809.4</td><td>1013.2</td></tr><tr><td>4</td><td>1425.2</td><td>1121.6</td><td>535.6</td><td>955.0</td><td>542.6</td><td>1173.6</td><td>922.2</td></tr><tr><td>5</td><td>1488.4</td><td>395.4</td><td>858.4</td><td>360.0</td><td>923.4</td><td>549.2</td><td>1100.6</td></tr><tr><td>6</td><td>1248.6</td><td>1330.6</td><td>842.8</td><td>1210.0</td><td>1127.4</td><td>1073.0</td><td>1245.2</td></tr><tr><td>7</td><td>1386.2</td><td>929.4</td><td>611.0</td><td>813.0</td><td>890.4</td><td>895.6</td><td>1065.0</td></tr><tr><td>8</td><td>1482.4</td><td>1130.0</td><td>783.6</td><td>786.0</td><td>806.4</td><td>1016.6</td><td>1193.6</td></tr><tr><td>9</td><td>1405.2</td><td>1121.4</td><td>297.4</td><td>618.6</td><td>591.2</td><td>945.4</td><td>1059.4</td></tr><tr><td>10</td><td>1550.4</td><td>988.8</td><td>842.2</td><td>1030.6</td><td>889.4</td><td>1126.8</td><td>1041.0</td></tr></tbody></table></div>"
      ],
      "text/plain": [
       "shape: (10, 8)\n",
       "┌────────────┬────────────┬────────────┬───────────┬───────────┬───────────┬───────────┬───────────┐\n",
       "│ boostrap   ┆ 2023-03-03 ┆ 2023-03-04 ┆ 2023-03-0 ┆ 2023-03-0 ┆ 2023-03-0 ┆ 2023-03-0 ┆ 2023-03-0 │\n",
       "│ sample     ┆ ---        ┆ ---        ┆ 5         ┆ 6         ┆ 7         ┆ 8         ┆ 9         │\n",
       "│ ---        ┆ f64        ┆ f64        ┆ ---       ┆ ---       ┆ ---       ┆ ---       ┆ ---       │\n",
       "│ u32        ┆            ┆            ┆ f64       ┆ f64       ┆ f64       ┆ f64       ┆ f64       │\n",
       "╞════════════╪════════════╪════════════╪═══════════╪═══════════╪═══════════╪═══════════╪═══════════╡\n",
       "│ 1          ┆ 1662.8     ┆ 969.8      ┆ 432.2     ┆ 810.4     ┆ 657.0     ┆ 794.4     ┆ 1321.2    │\n",
       "│ 2          ┆ 1513.0     ┆ 929.2      ┆ 764.2     ┆ 1210.0    ┆ 997.2     ┆ 837.4     ┆ 1300.6    │\n",
       "│ 3          ┆ 1445.8     ┆ 1120.0     ┆ 760.4     ┆ 955.6     ┆ 1101.2    ┆ 809.4     ┆ 1013.2    │\n",
       "│ 4          ┆ 1425.2     ┆ 1121.6     ┆ 535.6     ┆ 955.0     ┆ 542.6     ┆ 1173.6    ┆ 922.2     │\n",
       "│ 5          ┆ 1488.4     ┆ 395.4      ┆ 858.4     ┆ 360.0     ┆ 923.4     ┆ 549.2     ┆ 1100.6    │\n",
       "│ 6          ┆ 1248.6     ┆ 1330.6     ┆ 842.8     ┆ 1210.0    ┆ 1127.4    ┆ 1073.0    ┆ 1245.2    │\n",
       "│ 7          ┆ 1386.2     ┆ 929.4      ┆ 611.0     ┆ 813.0     ┆ 890.4     ┆ 895.6     ┆ 1065.0    │\n",
       "│ 8          ┆ 1482.4     ┆ 1130.0     ┆ 783.6     ┆ 786.0     ┆ 806.4     ┆ 1016.6    ┆ 1193.6    │\n",
       "│ 9          ┆ 1405.2     ┆ 1121.4     ┆ 297.4     ┆ 618.6     ┆ 591.2     ┆ 945.4     ┆ 1059.4    │\n",
       "│ 10         ┆ 1550.4     ┆ 988.8      ┆ 842.2     ┆ 1030.6    ┆ 889.4     ┆ 1126.8    ┆ 1041.0    │\n",
       "└────────────┴────────────┴────────────┴───────────┴───────────┴───────────┴───────────┴───────────┘"
      ]
     },
     "execution_count": 171,
     "metadata": {},
     "output_type": "execute_result"
    }
   ],
   "source": [
    "B = 10\n",
    "bootstrap_errors = (\n",
    "    pl.DataFrame(\n",
    "    rng.choice(model.named_steps[\"mean_predictor\"].residuals, (B, len(forecast_dates)))\n",
    "    , schema=[x.strftime(\"%Y-%m-%d\") for x in forecast_dates]\n",
    "    )\n",
    "    .with_row_index(\"boostrap sample\", offset=1)\n",
    "    .with_columns([\n",
    "        (pl.col(x) + pl.lit(forecast_dict[x])).alias(x) for x in forecast_dates_in_str\n",
    "    ]\n",
    "    )\n",
    ")\n",
    "\n",
    "# bootstrap_errors.with_row_index(\"boostrap sample\", offset=1)\n",
    "\n",
    "bootstrap_errors"
   ]
  },
  {
   "cell_type": "code",
   "execution_count": 201,
   "metadata": {},
   "outputs": [
    {
     "data": {
      "text/html": [
       "<div><style>\n",
       ".dataframe > thead > tr,\n",
       ".dataframe > tbody > tr {\n",
       "  text-align: right;\n",
       "  white-space: pre-wrap;\n",
       "}\n",
       "</style>\n",
       "<small>shape: (7, 5)</small><table border=\"1\" class=\"dataframe\"><thead><tr><th>pickup_datetime_hour</th><th>prediction</th><th>lower_bound</th><th>upper_bound</th><th>width</th></tr><tr><td>date</td><td>f64</td><td>f64</td><td>f64</td><td>f64</td></tr></thead><tbody><tr><td>2023-03-03</td><td>1512.1358</td><td>1024.0</td><td>1896.2</td><td>872.2</td></tr><tr><td>2023-03-04</td><td>1437.83155</td><td>942.75</td><td>1784.55</td><td>841.8</td></tr><tr><td>2023-03-05</td><td>1148.949087</td><td>650.5125</td><td>1560.2875</td><td>909.775</td></tr><tr><td>2023-03-06</td><td>1116.426072</td><td>601.9875</td><td>1523.371875</td><td>921.384375</td></tr><tr><td>2023-03-07</td><td>1208.186118</td><td>743.841406</td><td>1579.428125</td><td>835.586719</td></tr><tr><td>2023-03-08</td><td>1209.620529</td><td>716.426758</td><td>1642.167383</td><td>925.740625</td></tr><tr><td>2023-03-09</td><td>1354.566532</td><td>857.725293</td><td>1749.031787</td><td>891.306494</td></tr></tbody></table></div>"
      ],
      "text/plain": [
       "shape: (7, 5)\n",
       "┌──────────────────────┬─────────────┬─────────────┬─────────────┬────────────┐\n",
       "│ pickup_datetime_hour ┆ prediction  ┆ lower_bound ┆ upper_bound ┆ width      │\n",
       "│ ---                  ┆ ---         ┆ ---         ┆ ---         ┆ ---        │\n",
       "│ date                 ┆ f64         ┆ f64         ┆ f64         ┆ f64        │\n",
       "╞══════════════════════╪═════════════╪═════════════╪═════════════╪════════════╡\n",
       "│ 2023-03-03           ┆ 1512.1358   ┆ 1024.0      ┆ 1896.2      ┆ 872.2      │\n",
       "│ 2023-03-04           ┆ 1437.83155  ┆ 942.75      ┆ 1784.55     ┆ 841.8      │\n",
       "│ 2023-03-05           ┆ 1148.949087 ┆ 650.5125    ┆ 1560.2875   ┆ 909.775    │\n",
       "│ 2023-03-06           ┆ 1116.426072 ┆ 601.9875    ┆ 1523.371875 ┆ 921.384375 │\n",
       "│ 2023-03-07           ┆ 1208.186118 ┆ 743.841406  ┆ 1579.428125 ┆ 835.586719 │\n",
       "│ 2023-03-08           ┆ 1209.620529 ┆ 716.426758  ┆ 1642.167383 ┆ 925.740625 │\n",
       "│ 2023-03-09           ┆ 1354.566532 ┆ 857.725293  ┆ 1749.031787 ┆ 891.306494 │\n",
       "└──────────────────────┴─────────────┴─────────────┴─────────────┴────────────┘"
      ]
     },
     "execution_count": 201,
     "metadata": {},
     "output_type": "execute_result"
    }
   ],
   "source": [
    "B = 1000\n",
    "rng = np.random.default_rng(25)\n",
    "\n",
    "forecast_df  = (\n",
    "    model.predict(train_with_horizon, return_prediction_interval=False)\n",
    "    .filter(pl.col(ModelConfig.TS_INDEX).is_in(forecast_dates))\n",
    "    .rows(named=True)\n",
    "    \n",
    ")\n",
    "CIs = [2.5, 97.5]\n",
    "\n",
    "bootstrap_errors = (\n",
    "    pl.DataFrame(\n",
    "    rng.choice(model.named_steps[\"mean_predictor\"].residuals, (B, len(forecast_dates)))\n",
    "    , schema=[x.strftime(\"%Y-%m-%d\") for x in forecast_dates]\n",
    "    )\n",
    "    .with_row_index(\"boostrap_sample\", offset=0)\n",
    "    .with_columns([\n",
    "        (pl.col(x) + pl.lit(forecast_dict[x])).alias(x) for x in forecast_dates_in_str\n",
    "    ]\n",
    "    )\n",
    "    .select(\n",
    "        pl.col(\"boostrap_sample\")\n",
    "        , pl.cum_reduce(function=lambda acc, x: 0.25*acc + x, exprs=pl.exclude(\"boostrap_sample\")).struct.rename_fields(forecast_dates_in_str)\n",
    "    )\n",
    "    .unnest(\"cum_reduce\")\n",
    "    .melt(id_vars=[\"boostrap_sample\"], variable_name=ModelConfig.TS_INDEX)\n",
    "    .group_by([pl.col(ModelConfig.TS_INDEX)])\n",
    "    .agg(\n",
    "        pl.col(\"value\").mean().alias(\"prediction\")\n",
    "        , pl.col(\"value\").quantile(CIs[0] / 100).alias(\"lower_bound\")\n",
    "        , pl.col(\"value\").quantile(CIs[1] / 100).alias(\"upper_bound\")\n",
    "    )\n",
    "    .select([pl.col(ModelConfig.TS_INDEX).str.to_date(\"%Y-%m-%d\"), pl.col(\"prediction\"), pl.col(\"lower_bound\"), pl.col(\"upper_bound\")])\n",
    "    .sort(ModelConfig.TS_INDEX)\n",
    ")\n",
    "\n",
    "\n",
    "\n",
    "\n",
    "\n",
    "# forecast_df = (\n",
    "#     forecast_df\n",
    "#     .hstack(bootstrap_errors)\n",
    "#     .with_columns(\n",
    "#         [(pl.col(\"prediction\") + pl.col(f\"prediction_{x}\")).alias(f\"prediction_{x}\") for x in range(B)]\n",
    "#     )\n",
    "#     .with_columns(\n",
    "#         (0.25*pl.col(\"prediction_0\").cum_sum() + 0.75*pl.col(\"prediction_0\")).alias(\"pred_0\")\n",
    "#         , pl.col(\"prediction_0\").cum_sum() + 0.75*pl.col(\"prediction_0\")).alias(\"pred_0\")\n",
    "#     )\n",
    "    # .with_columns(\n",
    "    #     [ (pl.col(f\"prediction_{x}\") + 0.25*pl.col(f\"prediction_{x}\").shift(1, fill_value=0)).alias(f\"prediction_{x}_pred\") for x in range(B)]\n",
    "    #     # + [ (pl.col(f\"prediction_{x}\").rolling(index_column=ModelConfig.TS_INDEX, period=\"2d\")).alias(f\"prediction_{x}_roll\") for x in range(B)]\n",
    "    #     # + [ModelConfig.TS_INDEX]\n",
    "    # )\n",
    "    # .melt(id_vars = [ModelConfig.TS_INDEX])\n",
    "    # .group_by(pl.col(ModelConfig.TS_INDEX))\n",
    "    # .agg(\n",
    "    #     pl.col(\"value\").mean().alias(\"prediction\")\n",
    "    #     , pl.col(\"value\").quantile(0.025).alias(\"lower_bound\")\n",
    "    #     , pl.col(\"value\").quantile(0.975).alias(\"upper_bound\")\n",
    "    # )\n",
    "    # .sort(ModelConfig.TS_INDEX)\n",
    "    # .with_columns(\n",
    "    #     width = pl.col(\"upper_bound\") - pl.col(\"lower_bound\")\n",
    "    # ) \n",
    "# )\n",
    "\n",
    "\n",
    "bootstrap_errors.with_columns((pl.col(\"upper_bound\") - pl.col(\"lower_bound\")).alias(\"width\"))\n",
    "\n"
   ]
  },
  {
   "cell_type": "code",
   "execution_count": 200,
   "metadata": {},
   "outputs": [
    {
     "data": {
      "application/vnd.plotly.v1+json": {
       "config": {
        "plotlyServerURL": "https://plot.ly"
       },
       "data": [
        {
         "mode": "lines",
         "name": "prediction",
         "type": "scatter",
         "x": [
          "2023-03-03",
          "2023-03-04",
          "2023-03-05",
          "2023-03-06",
          "2023-03-07",
          "2023-03-08",
          "2023-03-09"
         ],
         "y": [
          1512.1357999999984,
          1437.8315500000012,
          1148.9490875,
          1116.426071875002,
          1208.1861179687496,
          1209.6205294921876,
          1354.566532373047
         ]
        },
        {
         "line": {
          "width": 0
         },
         "name": "upper 95% CI",
         "showlegend": false,
         "type": "scatter",
         "x": [
          "2023-03-03",
          "2023-03-04",
          "2023-03-05",
          "2023-03-06",
          "2023-03-07",
          "2023-03-08",
          "2023-03-09"
         ],
         "y": [
          1896.2,
          1784.5500000000002,
          1560.2875000000001,
          1523.371875,
          1579.428125,
          1642.1673828125,
          1749.031787109375
         ]
        },
        {
         "fill": "tonexty",
         "fillcolor": "rgba(68, 68, 68, 0.3)",
         "line": {
          "width": 0
         },
         "name": "lower 95% CI",
         "showlegend": false,
         "type": "scatter",
         "x": [
          "2023-03-03",
          "2023-03-04",
          "2023-03-05",
          "2023-03-06",
          "2023-03-07",
          "2023-03-08",
          "2023-03-09"
         ],
         "y": [
          1024,
          942.7499999999999,
          650.5125,
          601.9875000000001,
          743.8414062500001,
          716.4267578125,
          857.7252929687501
         ]
        }
       ],
       "layout": {
        "template": {
         "data": {
          "bar": [
           {
            "error_x": {
             "color": "#2a3f5f"
            },
            "error_y": {
             "color": "#2a3f5f"
            },
            "marker": {
             "line": {
              "color": "#E5ECF6",
              "width": 0.5
             },
             "pattern": {
              "fillmode": "overlay",
              "size": 10,
              "solidity": 0.2
             }
            },
            "type": "bar"
           }
          ],
          "barpolar": [
           {
            "marker": {
             "line": {
              "color": "#E5ECF6",
              "width": 0.5
             },
             "pattern": {
              "fillmode": "overlay",
              "size": 10,
              "solidity": 0.2
             }
            },
            "type": "barpolar"
           }
          ],
          "carpet": [
           {
            "aaxis": {
             "endlinecolor": "#2a3f5f",
             "gridcolor": "white",
             "linecolor": "white",
             "minorgridcolor": "white",
             "startlinecolor": "#2a3f5f"
            },
            "baxis": {
             "endlinecolor": "#2a3f5f",
             "gridcolor": "white",
             "linecolor": "white",
             "minorgridcolor": "white",
             "startlinecolor": "#2a3f5f"
            },
            "type": "carpet"
           }
          ],
          "choropleth": [
           {
            "colorbar": {
             "outlinewidth": 0,
             "ticks": ""
            },
            "type": "choropleth"
           }
          ],
          "contour": [
           {
            "colorbar": {
             "outlinewidth": 0,
             "ticks": ""
            },
            "colorscale": [
             [
              0,
              "#0d0887"
             ],
             [
              0.1111111111111111,
              "#46039f"
             ],
             [
              0.2222222222222222,
              "#7201a8"
             ],
             [
              0.3333333333333333,
              "#9c179e"
             ],
             [
              0.4444444444444444,
              "#bd3786"
             ],
             [
              0.5555555555555556,
              "#d8576b"
             ],
             [
              0.6666666666666666,
              "#ed7953"
             ],
             [
              0.7777777777777778,
              "#fb9f3a"
             ],
             [
              0.8888888888888888,
              "#fdca26"
             ],
             [
              1,
              "#f0f921"
             ]
            ],
            "type": "contour"
           }
          ],
          "contourcarpet": [
           {
            "colorbar": {
             "outlinewidth": 0,
             "ticks": ""
            },
            "type": "contourcarpet"
           }
          ],
          "heatmap": [
           {
            "colorbar": {
             "outlinewidth": 0,
             "ticks": ""
            },
            "colorscale": [
             [
              0,
              "#0d0887"
             ],
             [
              0.1111111111111111,
              "#46039f"
             ],
             [
              0.2222222222222222,
              "#7201a8"
             ],
             [
              0.3333333333333333,
              "#9c179e"
             ],
             [
              0.4444444444444444,
              "#bd3786"
             ],
             [
              0.5555555555555556,
              "#d8576b"
             ],
             [
              0.6666666666666666,
              "#ed7953"
             ],
             [
              0.7777777777777778,
              "#fb9f3a"
             ],
             [
              0.8888888888888888,
              "#fdca26"
             ],
             [
              1,
              "#f0f921"
             ]
            ],
            "type": "heatmap"
           }
          ],
          "heatmapgl": [
           {
            "colorbar": {
             "outlinewidth": 0,
             "ticks": ""
            },
            "colorscale": [
             [
              0,
              "#0d0887"
             ],
             [
              0.1111111111111111,
              "#46039f"
             ],
             [
              0.2222222222222222,
              "#7201a8"
             ],
             [
              0.3333333333333333,
              "#9c179e"
             ],
             [
              0.4444444444444444,
              "#bd3786"
             ],
             [
              0.5555555555555556,
              "#d8576b"
             ],
             [
              0.6666666666666666,
              "#ed7953"
             ],
             [
              0.7777777777777778,
              "#fb9f3a"
             ],
             [
              0.8888888888888888,
              "#fdca26"
             ],
             [
              1,
              "#f0f921"
             ]
            ],
            "type": "heatmapgl"
           }
          ],
          "histogram": [
           {
            "marker": {
             "pattern": {
              "fillmode": "overlay",
              "size": 10,
              "solidity": 0.2
             }
            },
            "type": "histogram"
           }
          ],
          "histogram2d": [
           {
            "colorbar": {
             "outlinewidth": 0,
             "ticks": ""
            },
            "colorscale": [
             [
              0,
              "#0d0887"
             ],
             [
              0.1111111111111111,
              "#46039f"
             ],
             [
              0.2222222222222222,
              "#7201a8"
             ],
             [
              0.3333333333333333,
              "#9c179e"
             ],
             [
              0.4444444444444444,
              "#bd3786"
             ],
             [
              0.5555555555555556,
              "#d8576b"
             ],
             [
              0.6666666666666666,
              "#ed7953"
             ],
             [
              0.7777777777777778,
              "#fb9f3a"
             ],
             [
              0.8888888888888888,
              "#fdca26"
             ],
             [
              1,
              "#f0f921"
             ]
            ],
            "type": "histogram2d"
           }
          ],
          "histogram2dcontour": [
           {
            "colorbar": {
             "outlinewidth": 0,
             "ticks": ""
            },
            "colorscale": [
             [
              0,
              "#0d0887"
             ],
             [
              0.1111111111111111,
              "#46039f"
             ],
             [
              0.2222222222222222,
              "#7201a8"
             ],
             [
              0.3333333333333333,
              "#9c179e"
             ],
             [
              0.4444444444444444,
              "#bd3786"
             ],
             [
              0.5555555555555556,
              "#d8576b"
             ],
             [
              0.6666666666666666,
              "#ed7953"
             ],
             [
              0.7777777777777778,
              "#fb9f3a"
             ],
             [
              0.8888888888888888,
              "#fdca26"
             ],
             [
              1,
              "#f0f921"
             ]
            ],
            "type": "histogram2dcontour"
           }
          ],
          "mesh3d": [
           {
            "colorbar": {
             "outlinewidth": 0,
             "ticks": ""
            },
            "type": "mesh3d"
           }
          ],
          "parcoords": [
           {
            "line": {
             "colorbar": {
              "outlinewidth": 0,
              "ticks": ""
             }
            },
            "type": "parcoords"
           }
          ],
          "pie": [
           {
            "automargin": true,
            "type": "pie"
           }
          ],
          "scatter": [
           {
            "fillpattern": {
             "fillmode": "overlay",
             "size": 10,
             "solidity": 0.2
            },
            "type": "scatter"
           }
          ],
          "scatter3d": [
           {
            "line": {
             "colorbar": {
              "outlinewidth": 0,
              "ticks": ""
             }
            },
            "marker": {
             "colorbar": {
              "outlinewidth": 0,
              "ticks": ""
             }
            },
            "type": "scatter3d"
           }
          ],
          "scattercarpet": [
           {
            "marker": {
             "colorbar": {
              "outlinewidth": 0,
              "ticks": ""
             }
            },
            "type": "scattercarpet"
           }
          ],
          "scattergeo": [
           {
            "marker": {
             "colorbar": {
              "outlinewidth": 0,
              "ticks": ""
             }
            },
            "type": "scattergeo"
           }
          ],
          "scattergl": [
           {
            "marker": {
             "colorbar": {
              "outlinewidth": 0,
              "ticks": ""
             }
            },
            "type": "scattergl"
           }
          ],
          "scattermapbox": [
           {
            "marker": {
             "colorbar": {
              "outlinewidth": 0,
              "ticks": ""
             }
            },
            "type": "scattermapbox"
           }
          ],
          "scatterpolar": [
           {
            "marker": {
             "colorbar": {
              "outlinewidth": 0,
              "ticks": ""
             }
            },
            "type": "scatterpolar"
           }
          ],
          "scatterpolargl": [
           {
            "marker": {
             "colorbar": {
              "outlinewidth": 0,
              "ticks": ""
             }
            },
            "type": "scatterpolargl"
           }
          ],
          "scatterternary": [
           {
            "marker": {
             "colorbar": {
              "outlinewidth": 0,
              "ticks": ""
             }
            },
            "type": "scatterternary"
           }
          ],
          "surface": [
           {
            "colorbar": {
             "outlinewidth": 0,
             "ticks": ""
            },
            "colorscale": [
             [
              0,
              "#0d0887"
             ],
             [
              0.1111111111111111,
              "#46039f"
             ],
             [
              0.2222222222222222,
              "#7201a8"
             ],
             [
              0.3333333333333333,
              "#9c179e"
             ],
             [
              0.4444444444444444,
              "#bd3786"
             ],
             [
              0.5555555555555556,
              "#d8576b"
             ],
             [
              0.6666666666666666,
              "#ed7953"
             ],
             [
              0.7777777777777778,
              "#fb9f3a"
             ],
             [
              0.8888888888888888,
              "#fdca26"
             ],
             [
              1,
              "#f0f921"
             ]
            ],
            "type": "surface"
           }
          ],
          "table": [
           {
            "cells": {
             "fill": {
              "color": "#EBF0F8"
             },
             "line": {
              "color": "white"
             }
            },
            "header": {
             "fill": {
              "color": "#C8D4E3"
             },
             "line": {
              "color": "white"
             }
            },
            "type": "table"
           }
          ]
         },
         "layout": {
          "annotationdefaults": {
           "arrowcolor": "#2a3f5f",
           "arrowhead": 0,
           "arrowwidth": 1
          },
          "autotypenumbers": "strict",
          "coloraxis": {
           "colorbar": {
            "outlinewidth": 0,
            "ticks": ""
           }
          },
          "colorscale": {
           "diverging": [
            [
             0,
             "#8e0152"
            ],
            [
             0.1,
             "#c51b7d"
            ],
            [
             0.2,
             "#de77ae"
            ],
            [
             0.3,
             "#f1b6da"
            ],
            [
             0.4,
             "#fde0ef"
            ],
            [
             0.5,
             "#f7f7f7"
            ],
            [
             0.6,
             "#e6f5d0"
            ],
            [
             0.7,
             "#b8e186"
            ],
            [
             0.8,
             "#7fbc41"
            ],
            [
             0.9,
             "#4d9221"
            ],
            [
             1,
             "#276419"
            ]
           ],
           "sequential": [
            [
             0,
             "#0d0887"
            ],
            [
             0.1111111111111111,
             "#46039f"
            ],
            [
             0.2222222222222222,
             "#7201a8"
            ],
            [
             0.3333333333333333,
             "#9c179e"
            ],
            [
             0.4444444444444444,
             "#bd3786"
            ],
            [
             0.5555555555555556,
             "#d8576b"
            ],
            [
             0.6666666666666666,
             "#ed7953"
            ],
            [
             0.7777777777777778,
             "#fb9f3a"
            ],
            [
             0.8888888888888888,
             "#fdca26"
            ],
            [
             1,
             "#f0f921"
            ]
           ],
           "sequentialminus": [
            [
             0,
             "#0d0887"
            ],
            [
             0.1111111111111111,
             "#46039f"
            ],
            [
             0.2222222222222222,
             "#7201a8"
            ],
            [
             0.3333333333333333,
             "#9c179e"
            ],
            [
             0.4444444444444444,
             "#bd3786"
            ],
            [
             0.5555555555555556,
             "#d8576b"
            ],
            [
             0.6666666666666666,
             "#ed7953"
            ],
            [
             0.7777777777777778,
             "#fb9f3a"
            ],
            [
             0.8888888888888888,
             "#fdca26"
            ],
            [
             1,
             "#f0f921"
            ]
           ]
          },
          "colorway": [
           "#636efa",
           "#EF553B",
           "#00cc96",
           "#ab63fa",
           "#FFA15A",
           "#19d3f3",
           "#FF6692",
           "#B6E880",
           "#FF97FF",
           "#FECB52"
          ],
          "font": {
           "color": "#2a3f5f"
          },
          "geo": {
           "bgcolor": "white",
           "lakecolor": "white",
           "landcolor": "#E5ECF6",
           "showlakes": true,
           "showland": true,
           "subunitcolor": "white"
          },
          "hoverlabel": {
           "align": "left"
          },
          "hovermode": "closest",
          "mapbox": {
           "style": "light"
          },
          "paper_bgcolor": "white",
          "plot_bgcolor": "#E5ECF6",
          "polar": {
           "angularaxis": {
            "gridcolor": "white",
            "linecolor": "white",
            "ticks": ""
           },
           "bgcolor": "#E5ECF6",
           "radialaxis": {
            "gridcolor": "white",
            "linecolor": "white",
            "ticks": ""
           }
          },
          "scene": {
           "xaxis": {
            "backgroundcolor": "#E5ECF6",
            "gridcolor": "white",
            "gridwidth": 2,
            "linecolor": "white",
            "showbackground": true,
            "ticks": "",
            "zerolinecolor": "white"
           },
           "yaxis": {
            "backgroundcolor": "#E5ECF6",
            "gridcolor": "white",
            "gridwidth": 2,
            "linecolor": "white",
            "showbackground": true,
            "ticks": "",
            "zerolinecolor": "white"
           },
           "zaxis": {
            "backgroundcolor": "#E5ECF6",
            "gridcolor": "white",
            "gridwidth": 2,
            "linecolor": "white",
            "showbackground": true,
            "ticks": "",
            "zerolinecolor": "white"
           }
          },
          "shapedefaults": {
           "line": {
            "color": "#2a3f5f"
           }
          },
          "ternary": {
           "aaxis": {
            "gridcolor": "white",
            "linecolor": "white",
            "ticks": ""
           },
           "baxis": {
            "gridcolor": "white",
            "linecolor": "white",
            "ticks": ""
           },
           "bgcolor": "#E5ECF6",
           "caxis": {
            "gridcolor": "white",
            "linecolor": "white",
            "ticks": ""
           }
          },
          "title": {
           "x": 0.05
          },
          "xaxis": {
           "automargin": true,
           "gridcolor": "white",
           "linecolor": "white",
           "ticks": "",
           "title": {
            "standoff": 15
           },
           "zerolinecolor": "white",
           "zerolinewidth": 2
          },
          "yaxis": {
           "automargin": true,
           "gridcolor": "white",
           "linecolor": "white",
           "ticks": "",
           "title": {
            "standoff": 15
           },
           "zerolinecolor": "white",
           "zerolinewidth": 2
          }
         }
        }
       }
      }
     },
     "metadata": {},
     "output_type": "display_data"
    }
   ],
   "source": [
    "# plot_ts(bootstrap_errors, series=[f\"prediction_{x}\" for x in range(B)])\n",
    "\n",
    "plot_ts(bootstrap_errors, series=[\"prediction\"], fill_between=[\"lower_bound\", \"upper_bound\"])\n"
   ]
  },
  {
   "cell_type": "code",
   "execution_count": null,
   "metadata": {},
   "outputs": [],
   "source": []
  }
 ],
 "metadata": {
  "kernelspec": {
   "display_name": ".venv",
   "language": "python",
   "name": "python3"
  },
  "language_info": {
   "codemirror_mode": {
    "name": "ipython",
    "version": 3
   },
   "file_extension": ".py",
   "mimetype": "text/x-python",
   "name": "python",
   "nbconvert_exporter": "python",
   "pygments_lexer": "ipython3",
   "version": "3.12.3"
  }
 },
 "nbformat": 4,
 "nbformat_minor": 2
}
