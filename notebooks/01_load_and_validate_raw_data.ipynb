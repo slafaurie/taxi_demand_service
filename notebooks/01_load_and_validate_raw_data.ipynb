{
 "cells": [
  {
   "cell_type": "code",
   "execution_count": 46,
   "metadata": {},
   "outputs": [],
   "source": [
    "%reload_ext autoreload\n",
    "%autoreload 2"
   ]
  },
  {
   "cell_type": "code",
   "execution_count": 34,
   "metadata": {},
   "outputs": [],
   "source": [
    "import os\n",
    "from pathlib import Path\n",
    "import polars as pl\n",
    "# import pandas as pd\n",
    "import requests\n",
    "from tqdm import tqdm\n",
    "from notebook_utils import insert_parent_in_path\n",
    "insert_parent_in_path()\n",
    "\n",
    "from src.etl.pipeline import fetch_raw_data, transform_raw_data, NYCPickupHourlySchema"
   ]
  },
  {
   "cell_type": "markdown",
   "metadata": {},
   "source": [
    "# Download file"
   ]
  },
  {
   "cell_type": "code",
   "execution_count": 28,
   "metadata": {},
   "outputs": [
    {
     "data": {
      "text/html": [
       "<div><style>\n",
       ".dataframe > thead > tr,\n",
       ".dataframe > tbody > tr {\n",
       "  text-align: right;\n",
       "  white-space: pre-wrap;\n",
       "}\n",
       "</style>\n",
       "<small>shape: (5, 19)</small><table border=\"1\" class=\"dataframe\"><thead><tr><th>VendorID</th><th>tpep_pickup_datetime</th><th>tpep_dropoff_datetime</th><th>passenger_count</th><th>trip_distance</th><th>RatecodeID</th><th>store_and_fwd_flag</th><th>PULocationID</th><th>DOLocationID</th><th>payment_type</th><th>fare_amount</th><th>extra</th><th>mta_tax</th><th>tip_amount</th><th>tolls_amount</th><th>improvement_surcharge</th><th>total_amount</th><th>congestion_surcharge</th><th>Airport_fee</th></tr><tr><td>i32</td><td>datetime[ns]</td><td>datetime[ns]</td><td>i64</td><td>f64</td><td>i64</td><td>str</td><td>i32</td><td>i32</td><td>i64</td><td>f64</td><td>f64</td><td>f64</td><td>f64</td><td>f64</td><td>f64</td><td>f64</td><td>f64</td><td>f64</td></tr></thead><tbody><tr><td>2</td><td>2024-10-01 00:30:44</td><td>2024-10-01 00:48:26</td><td>1</td><td>3.0</td><td>1</td><td>&quot;N&quot;</td><td>162</td><td>246</td><td>1</td><td>18.4</td><td>1.0</td><td>0.5</td><td>1.5</td><td>0.0</td><td>1.0</td><td>24.9</td><td>2.5</td><td>0.0</td></tr><tr><td>1</td><td>2024-10-01 00:12:20</td><td>2024-10-01 00:25:25</td><td>1</td><td>2.2</td><td>1</td><td>&quot;N&quot;</td><td>48</td><td>236</td><td>1</td><td>14.2</td><td>3.5</td><td>0.5</td><td>3.8</td><td>0.0</td><td>1.0</td><td>23.0</td><td>2.5</td><td>0.0</td></tr><tr><td>1</td><td>2024-10-01 00:04:46</td><td>2024-10-01 00:13:52</td><td>1</td><td>2.7</td><td>1</td><td>&quot;N&quot;</td><td>142</td><td>24</td><td>1</td><td>13.5</td><td>3.5</td><td>0.5</td><td>3.7</td><td>0.0</td><td>1.0</td><td>22.2</td><td>2.5</td><td>0.0</td></tr><tr><td>1</td><td>2024-10-01 00:12:10</td><td>2024-10-01 00:23:01</td><td>1</td><td>3.1</td><td>1</td><td>&quot;N&quot;</td><td>233</td><td>75</td><td>1</td><td>14.2</td><td>3.5</td><td>0.5</td><td>2.0</td><td>0.0</td><td>1.0</td><td>21.2</td><td>2.5</td><td>0.0</td></tr><tr><td>1</td><td>2024-10-01 00:30:22</td><td>2024-10-01 00:30:39</td><td>1</td><td>0.0</td><td>1</td><td>&quot;N&quot;</td><td>262</td><td>262</td><td>3</td><td>3.0</td><td>3.5</td><td>0.5</td><td>0.0</td><td>0.0</td><td>1.0</td><td>8.0</td><td>2.5</td><td>0.0</td></tr></tbody></table></div>"
      ],
      "text/plain": [
       "shape: (5, 19)\n",
       "┌──────────┬───────────┬───────────┬───────────┬───┬───────────┬───────────┬───────────┬───────────┐\n",
       "│ VendorID ┆ tpep_pick ┆ tpep_drop ┆ passenger ┆ … ┆ improveme ┆ total_amo ┆ congestio ┆ Airport_f │\n",
       "│ ---      ┆ up_dateti ┆ off_datet ┆ _count    ┆   ┆ nt_surcha ┆ unt       ┆ n_surchar ┆ ee        │\n",
       "│ i32      ┆ me        ┆ ime       ┆ ---       ┆   ┆ rge       ┆ ---       ┆ ge        ┆ ---       │\n",
       "│          ┆ ---       ┆ ---       ┆ i64       ┆   ┆ ---       ┆ f64       ┆ ---       ┆ f64       │\n",
       "│          ┆ datetime[ ┆ datetime[ ┆           ┆   ┆ f64       ┆           ┆ f64       ┆           │\n",
       "│          ┆ ns]       ┆ ns]       ┆           ┆   ┆           ┆           ┆           ┆           │\n",
       "╞══════════╪═══════════╪═══════════╪═══════════╪═══╪═══════════╪═══════════╪═══════════╪═══════════╡\n",
       "│ 2        ┆ 2024-10-0 ┆ 2024-10-0 ┆ 1         ┆ … ┆ 1.0       ┆ 24.9      ┆ 2.5       ┆ 0.0       │\n",
       "│          ┆ 1         ┆ 1         ┆           ┆   ┆           ┆           ┆           ┆           │\n",
       "│          ┆ 00:30:44  ┆ 00:48:26  ┆           ┆   ┆           ┆           ┆           ┆           │\n",
       "│ 1        ┆ 2024-10-0 ┆ 2024-10-0 ┆ 1         ┆ … ┆ 1.0       ┆ 23.0      ┆ 2.5       ┆ 0.0       │\n",
       "│          ┆ 1         ┆ 1         ┆           ┆   ┆           ┆           ┆           ┆           │\n",
       "│          ┆ 00:12:20  ┆ 00:25:25  ┆           ┆   ┆           ┆           ┆           ┆           │\n",
       "│ 1        ┆ 2024-10-0 ┆ 2024-10-0 ┆ 1         ┆ … ┆ 1.0       ┆ 22.2      ┆ 2.5       ┆ 0.0       │\n",
       "│          ┆ 1         ┆ 1         ┆           ┆   ┆           ┆           ┆           ┆           │\n",
       "│          ┆ 00:04:46  ┆ 00:13:52  ┆           ┆   ┆           ┆           ┆           ┆           │\n",
       "│ 1        ┆ 2024-10-0 ┆ 2024-10-0 ┆ 1         ┆ … ┆ 1.0       ┆ 21.2      ┆ 2.5       ┆ 0.0       │\n",
       "│          ┆ 1         ┆ 1         ┆           ┆   ┆           ┆           ┆           ┆           │\n",
       "│          ┆ 00:12:10  ┆ 00:23:01  ┆           ┆   ┆           ┆           ┆           ┆           │\n",
       "│ 1        ┆ 2024-10-0 ┆ 2024-10-0 ┆ 1         ┆ … ┆ 1.0       ┆ 8.0       ┆ 2.5       ┆ 0.0       │\n",
       "│          ┆ 1         ┆ 1         ┆           ┆   ┆           ┆           ┆           ┆           │\n",
       "│          ┆ 00:30:22  ┆ 00:30:39  ┆           ┆   ┆           ┆           ┆           ┆           │\n",
       "└──────────┴───────────┴───────────┴───────────┴───┴───────────┴───────────┴───────────┴───────────┘"
      ]
     },
     "execution_count": 28,
     "metadata": {},
     "output_type": "execute_result"
    }
   ],
   "source": [
    "df = fetch_raw_data(year=2024, month=10)\n",
    "df.head()"
   ]
  },
  {
   "cell_type": "code",
   "execution_count": 33,
   "metadata": {},
   "outputs": [
    {
     "data": {
      "text/html": [
       "<div><style>\n",
       ".dataframe > thead > tr,\n",
       ".dataframe > tbody > tr {\n",
       "  text-align: right;\n",
       "  white-space: pre-wrap;\n",
       "}\n",
       "</style>\n",
       "<small>shape: (3_833_771, 3)</small><table border=\"1\" class=\"dataframe\"><thead><tr><th>pickup_datetime</th><th>passenger_count</th><th>pickup_location_id</th></tr><tr><td>datetime[μs]</td><td>i32</td><td>i32</td></tr></thead><tbody><tr><td>2024-10-01 00:30:44</td><td>1</td><td>162</td></tr><tr><td>2024-10-01 00:12:20</td><td>1</td><td>48</td></tr><tr><td>2024-10-01 00:04:46</td><td>1</td><td>142</td></tr><tr><td>2024-10-01 00:12:10</td><td>1</td><td>233</td></tr><tr><td>2024-10-01 00:30:22</td><td>1</td><td>262</td></tr><tr><td>&hellip;</td><td>&hellip;</td><td>&hellip;</td></tr><tr><td>2024-10-31 23:49:01</td><td>null</td><td>107</td></tr><tr><td>2024-10-31 23:35:15</td><td>null</td><td>137</td></tr><tr><td>2024-10-31 23:30:43</td><td>null</td><td>188</td></tr><tr><td>2024-10-31 23:00:00</td><td>null</td><td>230</td></tr><tr><td>2024-10-31 23:18:00</td><td>null</td><td>246</td></tr></tbody></table></div>"
      ],
      "text/plain": [
       "shape: (3_833_771, 3)\n",
       "┌─────────────────────┬─────────────────┬────────────────────┐\n",
       "│ pickup_datetime     ┆ passenger_count ┆ pickup_location_id │\n",
       "│ ---                 ┆ ---             ┆ ---                │\n",
       "│ datetime[μs]        ┆ i32             ┆ i32                │\n",
       "╞═════════════════════╪═════════════════╪════════════════════╡\n",
       "│ 2024-10-01 00:30:44 ┆ 1               ┆ 162                │\n",
       "│ 2024-10-01 00:12:20 ┆ 1               ┆ 48                 │\n",
       "│ 2024-10-01 00:04:46 ┆ 1               ┆ 142                │\n",
       "│ 2024-10-01 00:12:10 ┆ 1               ┆ 233                │\n",
       "│ 2024-10-01 00:30:22 ┆ 1               ┆ 262                │\n",
       "│ …                   ┆ …               ┆ …                  │\n",
       "│ 2024-10-31 23:49:01 ┆ null            ┆ 107                │\n",
       "│ 2024-10-31 23:35:15 ┆ null            ┆ 137                │\n",
       "│ 2024-10-31 23:30:43 ┆ null            ┆ 188                │\n",
       "│ 2024-10-31 23:00:00 ┆ null            ┆ 230                │\n",
       "│ 2024-10-31 23:18:00 ┆ null            ┆ 246                │\n",
       "└─────────────────────┴─────────────────┴────────────────────┘"
      ]
     },
     "execution_count": 33,
     "metadata": {},
     "output_type": "execute_result"
    }
   ],
   "source": [
    "NYCRawSchema.enforce_schema(df)"
   ]
  },
  {
   "cell_type": "code",
   "execution_count": 36,
   "metadata": {},
   "outputs": [
    {
     "name": "stdout",
     "output_type": "stream",
     "text": [
      "2025-02-09 12:04:49,643 - src.etl.pipeline - INFO - Validate data for year: 2024 and month: 10\n",
      "2025-02-09 12:04:49,644 - src.etl.pipeline - INFO - Total records: 3833771\n",
      "2025-02-09 12:04:49,644 - src.etl.pipeline - INFO - Records deleted: 40\n",
      "2025-02-09 12:04:49,645 - src.etl.pipeline - INFO - Percentage: 100.00%\n"
     ]
    },
    {
     "data": {
      "text/html": [
       "<div><style>\n",
       ".dataframe > thead > tr,\n",
       ".dataframe > tbody > tr {\n",
       "  text-align: right;\n",
       "  white-space: pre-wrap;\n",
       "}\n",
       "</style>\n",
       "<small>shape: (194_184, 4)</small><table border=\"1\" class=\"dataframe\"><thead><tr><th>key</th><th>pickup_datetime_hour</th><th>pickup_location_id</th><th>num_pickups</th></tr><tr><td>str</td><td>datetime[μs]</td><td>i16</td><td>i16</td></tr></thead><tbody><tr><td>&quot;2024-10-01 00:00:00.000000-1&quot;</td><td>2024-10-01 00:00:00</td><td>1</td><td>0</td></tr><tr><td>&quot;2024-10-01 00:00:00.000000-2&quot;</td><td>2024-10-01 00:00:00</td><td>2</td><td>0</td></tr><tr><td>&quot;2024-10-01 00:00:00.000000-3&quot;</td><td>2024-10-01 00:00:00</td><td>3</td><td>0</td></tr><tr><td>&quot;2024-10-01 00:00:00.000000-4&quot;</td><td>2024-10-01 00:00:00</td><td>4</td><td>2</td></tr><tr><td>&quot;2024-10-01 00:00:00.000000-5&quot;</td><td>2024-10-01 00:00:00</td><td>5</td><td>0</td></tr><tr><td>&hellip;</td><td>&hellip;</td><td>&hellip;</td><td>&hellip;</td></tr><tr><td>&quot;2024-10-31 23:00:00.000000-261&quot;</td><td>2024-10-31 23:00:00</td><td>261</td><td>16</td></tr><tr><td>&quot;2024-10-31 23:00:00.000000-262&quot;</td><td>2024-10-31 23:00:00</td><td>262</td><td>23</td></tr><tr><td>&quot;2024-10-31 23:00:00.000000-263&quot;</td><td>2024-10-31 23:00:00</td><td>263</td><td>104</td></tr><tr><td>&quot;2024-10-31 23:00:00.000000-264&quot;</td><td>2024-10-31 23:00:00</td><td>264</td><td>13</td></tr><tr><td>&quot;2024-10-31 23:00:00.000000-265&quot;</td><td>2024-10-31 23:00:00</td><td>265</td><td>10</td></tr></tbody></table></div>"
      ],
      "text/plain": [
       "shape: (194_184, 4)\n",
       "┌────────────────────────────────┬──────────────────────┬────────────────────┬─────────────┐\n",
       "│ key                            ┆ pickup_datetime_hour ┆ pickup_location_id ┆ num_pickups │\n",
       "│ ---                            ┆ ---                  ┆ ---                ┆ ---         │\n",
       "│ str                            ┆ datetime[μs]         ┆ i16                ┆ i16         │\n",
       "╞════════════════════════════════╪══════════════════════╪════════════════════╪═════════════╡\n",
       "│ 2024-10-01 00:00:00.000000-1   ┆ 2024-10-01 00:00:00  ┆ 1                  ┆ 0           │\n",
       "│ 2024-10-01 00:00:00.000000-2   ┆ 2024-10-01 00:00:00  ┆ 2                  ┆ 0           │\n",
       "│ 2024-10-01 00:00:00.000000-3   ┆ 2024-10-01 00:00:00  ┆ 3                  ┆ 0           │\n",
       "│ 2024-10-01 00:00:00.000000-4   ┆ 2024-10-01 00:00:00  ┆ 4                  ┆ 2           │\n",
       "│ 2024-10-01 00:00:00.000000-5   ┆ 2024-10-01 00:00:00  ┆ 5                  ┆ 0           │\n",
       "│ …                              ┆ …                    ┆ …                  ┆ …           │\n",
       "│ 2024-10-31 23:00:00.000000-261 ┆ 2024-10-31 23:00:00  ┆ 261                ┆ 16          │\n",
       "│ 2024-10-31 23:00:00.000000-262 ┆ 2024-10-31 23:00:00  ┆ 262                ┆ 23          │\n",
       "│ 2024-10-31 23:00:00.000000-263 ┆ 2024-10-31 23:00:00  ┆ 263                ┆ 104         │\n",
       "│ 2024-10-31 23:00:00.000000-264 ┆ 2024-10-31 23:00:00  ┆ 264                ┆ 13          │\n",
       "│ 2024-10-31 23:00:00.000000-265 ┆ 2024-10-31 23:00:00  ┆ 265                ┆ 10          │\n",
       "└────────────────────────────────┴──────────────────────┴────────────────────┴─────────────┘"
      ]
     },
     "execution_count": 36,
     "metadata": {},
     "output_type": "execute_result"
    }
   ],
   "source": [
    "transform_raw_data(df, 2024, 10)"
   ]
  },
  {
   "cell_type": "code",
   "execution_count": null,
   "metadata": {},
   "outputs": [],
   "source": []
  },
  {
   "cell_type": "code",
   "execution_count": 44,
   "metadata": {},
   "outputs": [
    {
     "data": {
      "text/plain": [
       "{'pickup_datetime': Datetime,\n",
       " 'passenger_count': Int32,\n",
       " 'pickup_location_id': Int32}"
      ]
     },
     "execution_count": 44,
     "metadata": {},
     "output_type": "execute_result"
    }
   ],
   "source": [
    "{val.get('clean_name'): val.get('type') for val in RAW_SCHEMA.values()}"
   ]
  },
  {
   "cell_type": "code",
   "execution_count": 45,
   "metadata": {},
   "outputs": [
    {
     "data": {
      "text/html": [
       "<div><style>\n",
       ".dataframe > thead > tr,\n",
       ".dataframe > tbody > tr {\n",
       "  text-align: right;\n",
       "  white-space: pre-wrap;\n",
       "}\n",
       "</style>\n",
       "<small>shape: (3_833_771, 3)</small><table border=\"1\" class=\"dataframe\"><thead><tr><th>pickup_datetime</th><th>passenger_count</th><th>pickup_location_id</th></tr><tr><td>datetime[μs]</td><td>i32</td><td>i32</td></tr></thead><tbody><tr><td>2024-10-01 00:30:44</td><td>1</td><td>162</td></tr><tr><td>2024-10-01 00:12:20</td><td>1</td><td>48</td></tr><tr><td>2024-10-01 00:04:46</td><td>1</td><td>142</td></tr><tr><td>2024-10-01 00:12:10</td><td>1</td><td>233</td></tr><tr><td>2024-10-01 00:30:22</td><td>1</td><td>262</td></tr><tr><td>&hellip;</td><td>&hellip;</td><td>&hellip;</td></tr><tr><td>2024-10-31 23:49:01</td><td>null</td><td>107</td></tr><tr><td>2024-10-31 23:35:15</td><td>null</td><td>137</td></tr><tr><td>2024-10-31 23:30:43</td><td>null</td><td>188</td></tr><tr><td>2024-10-31 23:00:00</td><td>null</td><td>230</td></tr><tr><td>2024-10-31 23:18:00</td><td>null</td><td>246</td></tr></tbody></table></div>"
      ],
      "text/plain": [
       "shape: (3_833_771, 3)\n",
       "┌─────────────────────┬─────────────────┬────────────────────┐\n",
       "│ pickup_datetime     ┆ passenger_count ┆ pickup_location_id │\n",
       "│ ---                 ┆ ---             ┆ ---                │\n",
       "│ datetime[μs]        ┆ i32             ┆ i32                │\n",
       "╞═════════════════════╪═════════════════╪════════════════════╡\n",
       "│ 2024-10-01 00:30:44 ┆ 1               ┆ 162                │\n",
       "│ 2024-10-01 00:12:20 ┆ 1               ┆ 48                 │\n",
       "│ 2024-10-01 00:04:46 ┆ 1               ┆ 142                │\n",
       "│ 2024-10-01 00:12:10 ┆ 1               ┆ 233                │\n",
       "│ 2024-10-01 00:30:22 ┆ 1               ┆ 262                │\n",
       "│ …                   ┆ …               ┆ …                  │\n",
       "│ 2024-10-31 23:49:01 ┆ null            ┆ 107                │\n",
       "│ 2024-10-31 23:35:15 ┆ null            ┆ 137                │\n",
       "│ 2024-10-31 23:30:43 ┆ null            ┆ 188                │\n",
       "│ 2024-10-31 23:00:00 ┆ null            ┆ 230                │\n",
       "│ 2024-10-31 23:18:00 ┆ null            ┆ 246                │\n",
       "└─────────────────────┴─────────────────┴────────────────────┘"
      ]
     },
     "execution_count": 45,
     "metadata": {},
     "output_type": "execute_result"
    }
   ],
   "source": [
    "class NYCTaxiSchema:\n",
    "    \n",
    "    schema = [\n",
    "        {\"raw_name\": \"tpep_pickup_datetime\", \"clean_name\": \"pickup_datetime\", \"type\": pl.Datetime},\n",
    "        {\"raw_name\": \"passenger_count\", \"clean_name\": \"passenger_count\", \"type\": pl.Int32},\n",
    "        {\"raw_name\": \"PULocationID\", \"clean_name\": \"pickup_location_id\", \"type\": pl.Int32}\n",
    "    ]\n",
    "    \n",
    "    @classmethod\n",
    "    def _get_raw_names(cls) -> list:\n",
    "        return [x.get('raw_name') for x in cls.schema]\n",
    "    \n",
    "    @classmethod\n",
    "    def _get_raw_to_clean_names_mapping(cls) -> dict:\n",
    "        return { x.get('raw_name'):x.get('clean_name') for x in cls.schema }\n",
    "    \n",
    "    @classmethod\n",
    "    def _get_type_mapping(cls) -> dict:\n",
    "        return { x.get('clean_name'):x.get('type') for x in cls.schema }\n",
    "    \n",
    "    @classmethod\n",
    "    def enforce_schema(cls, df: pl.DataFrame) -> pl.DataFrame:\n",
    "        return (\n",
    "            df \n",
    "            .select(cls._get_raw_names())\n",
    "            .rename(cls._get_raw_to_clean_names_mapping())\n",
    "            .cast(cls._get_type_mapping())\n",
    "        )\n",
    "        \n",
    "RAW_SCHEMA = {\n",
    "    \"tpep_pickup_datetime\": {\"clean_name\": \"pickup_datetime\", \"type\": pl.Datetime},\n",
    "    \"passenger_count\": {\"clean_name\": \"passenger_count\", \"type\": pl.Int32}, \n",
    "    \"PULocationID\": {\"clean_name\": \"pickup_location_id\", \"type\": pl.Int32}\n",
    "}\n",
    "    \n",
    "(\n",
    "    df \n",
    "    .select(RAW_SCHEMA.keys())\n",
    "    .rename({key: val.get('clean_name') for key,val in RAW_SCHEMA.items()})\n",
    "    .cast({val.get('clean_name'): val.get('type') for val in RAW_SCHEMA.values()})\n",
    ")\n",
    "    \n",
    "    "
   ]
  },
  {
   "cell_type": "code",
   "execution_count": 25,
   "metadata": {},
   "outputs": [
    {
     "data": {
      "text/plain": [
       "[datetime.date(2023, 3, 1),\n",
       " datetime.date(2023, 4, 1),\n",
       " datetime.date(2023, 5, 1),\n",
       " datetime.date(2023, 6, 1),\n",
       " datetime.date(2023, 7, 1),\n",
       " datetime.date(2023, 8, 1),\n",
       " datetime.date(2023, 9, 1),\n",
       " datetime.date(2023, 10, 1),\n",
       " datetime.date(2023, 11, 1),\n",
       " datetime.date(2023, 12, 1),\n",
       " datetime.date(2024, 1, 1),\n",
       " datetime.date(2024, 2, 1),\n",
       " datetime.date(2024, 3, 1),\n",
       " datetime.date(2024, 4, 1),\n",
       " datetime.date(2024, 5, 1),\n",
       " datetime.date(2024, 6, 1),\n",
       " datetime.date(2024, 7, 1)]"
      ]
     },
     "execution_count": 25,
     "metadata": {},
     "output_type": "execute_result"
    }
   ],
   "source": [
    "from datetime import datetime, date \n",
    "\n",
    "\n",
    "\n",
    "from_date = date(2023,3,5)\n",
    "to_date = date(2024,7,29)\n",
    "\n",
    "def truncate_start_of_month(x:date):\n",
    "    return date(x.year, x.month, 1)\n",
    "\n",
    "def generate_list_of_months(from_date:date, to_date:date):\n",
    "    from_date = truncate_start_of_month(from_date)\n",
    "    to_date = truncate_start_of_month(to_date)\n",
    "\n",
    "    current_date = from_date\n",
    "    dates = []\n",
    "    while current_date <= to_date:\n",
    "        dates.append(current_date)\n",
    "        if current_date.month == 12:\n",
    "            current_date = date(current_date.year+1, 1,1)\n",
    "        else:\n",
    "            current_date = date(current_date.year, current_date.month+1, 1)\n",
    "    return dates\n",
    "    \n",
    "    \n"
   ]
  },
  {
   "cell_type": "markdown",
   "metadata": {},
   "source": [
    "# Download files"
   ]
  },
  {
   "cell_type": "code",
   "execution_count": 9,
   "metadata": {},
   "outputs": [],
   "source": [
    "\n",
    "# def download_file_from_source_into_raw_folder(year:int, month:int) -> Path:\n",
    "#     file = RAW_DATA_DIR / Path(FILE_PATTERN.format(year=year, month=month))\n",
    "#     url = BASE_URL.format(year=year, month=month)\n",
    "#     response = requests.get(url)\n",
    "#     response.raise_for_status()\n",
    "#     if response.status_code == 200:\n",
    "#         logger.info(f\"Downloading file from {url} to {file}\")\n",
    "#         with open(file, \"wb\") as f:\n",
    "#             f.write(response.content)\n",
    "#     return file\n",
    "\n",
    "\n"
   ]
  },
  {
   "cell_type": "markdown",
   "metadata": {},
   "source": [
    "# Validate a file\n",
    "- Timestamp are within the file month. e.g, a file named `2020-07-01.csv` should have all timestamps within July 2020."
   ]
  },
  {
   "cell_type": "code",
   "execution_count": 10,
   "metadata": {},
   "outputs": [],
   "source": [
    "# df = pl.read_parquet(path)\n",
    "# df.head()"
   ]
  },
  {
   "cell_type": "code",
   "execution_count": 11,
   "metadata": {},
   "outputs": [
    {
     "name": "stdout",
     "output_type": "stream",
     "text": [
      "2024-12-02 07:51:02,258 - src.data - INFO - Downloading file from https://d37ci6vzurychx.cloudfront.net/trip-data/yellow_tripdata_2020-01.parquet to C:\\Users\\selaf\\OneDrive\\Documentos\\dev\\real-ml-course\\taxi_demand_predictor\\data\\raw\\yellow_tripdata_2020-01.parquet\n",
      "2024-12-02 07:51:03,779 - src.data - INFO - Validation for file: C:\\Users\\selaf\\OneDrive\\Documentos\\dev\\real-ml-course\\taxi_demand_predictor\\data\\raw\\yellow_tripdata_2020-01.parquet\n",
      "2024-12-02 07:51:03,782 - src.data - INFO - Total records: 6405008\n",
      "2024-12-02 07:51:03,784 - src.data - INFO - Records deleted: 212\n",
      "2024-12-02 07:51:03,785 - src.data - INFO - Percentage: 100.00%\n"
     ]
    },
    {
     "data": {
      "text/html": [
       "<div><style>\n",
       ".dataframe > thead > tr,\n",
       ".dataframe > tbody > tr {\n",
       "  text-align: right;\n",
       "  white-space: pre-wrap;\n",
       "}\n",
       "</style>\n",
       "<small>shape: (5, 4)</small><table border=\"1\" class=\"dataframe\"><thead><tr><th>key</th><th>pickup_datetime_hour</th><th>pickup_location_id</th><th>num_pickups</th></tr><tr><td>str</td><td>datetime[ns]</td><td>i16</td><td>i16</td></tr></thead><tbody><tr><td>&quot;2020-01-01 00:00:00.000000000-…</td><td>2020-01-01 00:00:00</td><td>1</td><td>0</td></tr><tr><td>&quot;2020-01-01 00:00:00.000000000-…</td><td>2020-01-01 00:00:00</td><td>2</td><td>0</td></tr><tr><td>&quot;2020-01-01 00:00:00.000000000-…</td><td>2020-01-01 00:00:00</td><td>3</td><td>1</td></tr><tr><td>&quot;2020-01-01 00:00:00.000000000-…</td><td>2020-01-01 00:00:00</td><td>4</td><td>57</td></tr><tr><td>&quot;2020-01-01 00:00:00.000000000-…</td><td>2020-01-01 00:00:00</td><td>5</td><td>0</td></tr></tbody></table></div>"
      ],
      "text/plain": [
       "shape: (5, 4)\n",
       "┌─────────────────────────────────┬──────────────────────┬────────────────────┬─────────────┐\n",
       "│ key                             ┆ pickup_datetime_hour ┆ pickup_location_id ┆ num_pickups │\n",
       "│ ---                             ┆ ---                  ┆ ---                ┆ ---         │\n",
       "│ str                             ┆ datetime[ns]         ┆ i16                ┆ i16         │\n",
       "╞═════════════════════════════════╪══════════════════════╪════════════════════╪═════════════╡\n",
       "│ 2020-01-01 00:00:00.000000000-… ┆ 2020-01-01 00:00:00  ┆ 1                  ┆ 0           │\n",
       "│ 2020-01-01 00:00:00.000000000-… ┆ 2020-01-01 00:00:00  ┆ 2                  ┆ 0           │\n",
       "│ 2020-01-01 00:00:00.000000000-… ┆ 2020-01-01 00:00:00  ┆ 3                  ┆ 1           │\n",
       "│ 2020-01-01 00:00:00.000000000-… ┆ 2020-01-01 00:00:00  ┆ 4                  ┆ 57          │\n",
       "│ 2020-01-01 00:00:00.000000000-… ┆ 2020-01-01 00:00:00  ┆ 5                  ┆ 0           │\n",
       "└─────────────────────────────────┴──────────────────────┴────────────────────┴─────────────┘"
      ]
     },
     "execution_count": 11,
     "metadata": {},
     "output_type": "execute_result"
    }
   ],
   "source": [
    "path = download_file_from_source_into_raw_folder(2020, 1)\n",
    "\n",
    "df = (\n",
    "    validate_file(path, 2020,1)\n",
    "    .pipe(aggregate_pickup_into_timeseries_data, 2020,1)\n",
    "    .pipe(generate_surrogate_key)\n",
    ")\n",
    "\n",
    "\n",
    "\n",
    "df.head()"
   ]
  },
  {
   "cell_type": "code",
   "execution_count": 12,
   "metadata": {},
   "outputs": [
    {
     "name": "stdout",
     "output_type": "stream",
     "text": [
      "2024-12-02 07:51:11,765 - src.data - INFO - Downloading file from https://d37ci6vzurychx.cloudfront.net/trip-data/yellow_tripdata_2020-01.parquet to C:\\Users\\selaf\\OneDrive\\Documentos\\dev\\real-ml-course\\taxi_demand_predictor\\data\\raw\\yellow_tripdata_2020-01.parquet\n",
      "2024-12-02 07:51:12,694 - src.data - INFO - Validation for file: C:\\Users\\selaf\\OneDrive\\Documentos\\dev\\real-ml-course\\taxi_demand_predictor\\data\\raw\\yellow_tripdata_2020-01.parquet\n",
      "2024-12-02 07:51:12,695 - src.data - INFO - Total records: 6405008\n",
      "2024-12-02 07:51:12,697 - src.data - INFO - Records deleted: 212\n",
      "2024-12-02 07:51:12,698 - src.data - INFO - Percentage: 100.00%\n",
      "2024-12-02 07:51:13,806 - src.data - INFO - Deleted file: C:\\Users\\selaf\\OneDrive\\Documentos\\dev\\real-ml-course\\taxi_demand_predictor\\data\\raw\\yellow_tripdata_2020-01.parquet\n",
      "2024-12-02 07:51:15,205 - src.dwh - INFO - Upserted C:\\Users\\selaf\\OneDrive\\Documentos\\dev\\real-ml-course\\taxi_demand_predictor\\data\\processed\\yellow_tripdata_2020-01.parquet into dwh.main.pickup_hourly\n",
      "2024-12-02 07:51:15,208 - src.data - INFO - Deleted file: C:\\Users\\selaf\\OneDrive\\Documentos\\dev\\real-ml-course\\taxi_demand_predictor\\data\\processed\\yellow_tripdata_2020-01.parquet\n"
     ]
    }
   ],
   "source": [
    "file_etl(2020, 1)"
   ]
  },
  {
   "cell_type": "markdown",
   "metadata": {},
   "source": [
    "# DuckDB"
   ]
  },
  {
   "cell_type": "code",
   "execution_count": 13,
   "metadata": {},
   "outputs": [
    {
     "data": {
      "text/plain": [
       "WindowsPath('C:/Users/selaf/OneDrive/Documentos/dev/real-ml-course/taxi_demand_predictor')"
      ]
     },
     "execution_count": 13,
     "metadata": {},
     "output_type": "execute_result"
    }
   ],
   "source": [
    "PARENT_DIR"
   ]
  },
  {
   "cell_type": "code",
   "execution_count": 14,
   "metadata": {},
   "outputs": [],
   "source": [
    "# import duckdb\n",
    "\n",
    "\n",
    "# DATABASE_URL = DATA_DIR / \"dwh.duckdb\"\n",
    "# db = duckdb.connect(database=str(DATABASE_URL))\n",
    "\n",
    "\n",
    "# def create_pickup_table(db: duckdb.DuckDBPyConnection):\n",
    "#     db.execute(\"DROP TABLE IF EXISTS dwh.main.pickup_hourly;\")\n",
    "#     db.execute(\n",
    "#         \"\"\"\n",
    "#         CREATE TABLE dwh.main.pickup_hourly (\n",
    "#             key STRING PRIMARY KEY\n",
    "#             , pickup_datetime_hour TIMESTAMP\n",
    "#             , pickup_location_id SMALLINT\n",
    "#             , num_pickup SMALLINT\n",
    "#         );\n",
    "#         \"\"\"\n",
    "#     )\n",
    "    \n",
    "    \n",
    "\n",
    "    # return statement\n",
    "\n"
   ]
  },
  {
   "cell_type": "code",
   "execution_count": 15,
   "metadata": {},
   "outputs": [
    {
     "name": "stdout",
     "output_type": "stream",
     "text": [
      "2024-12-02 07:51:18,823 - src.data - INFO - Downloading file from https://d37ci6vzurychx.cloudfront.net/trip-data/yellow_tripdata_2020-02.parquet to C:\\Users\\selaf\\OneDrive\\Documentos\\dev\\real-ml-course\\taxi_demand_predictor\\data\\raw\\yellow_tripdata_2020-02.parquet\n",
      "2024-12-02 07:51:20,458 - src.data - INFO - Validation for file: C:\\Users\\selaf\\OneDrive\\Documentos\\dev\\real-ml-course\\taxi_demand_predictor\\data\\raw\\yellow_tripdata_2020-02.parquet\n",
      "2024-12-02 07:51:20,459 - src.data - INFO - Total records: 6299367\n",
      "2024-12-02 07:51:20,460 - src.data - INFO - Records deleted: 303\n",
      "2024-12-02 07:51:20,461 - src.data - INFO - Percentage: 100.00%\n",
      "2024-12-02 07:51:20,664 - src.data - INFO - Deleted file: C:\\Users\\selaf\\OneDrive\\Documentos\\dev\\real-ml-course\\taxi_demand_predictor\\data\\raw\\yellow_tripdata_2020-02.parquet\n",
      "2024-12-02 07:51:21,596 - src.dwh - INFO - Upserted C:\\Users\\selaf\\OneDrive\\Documentos\\dev\\real-ml-course\\taxi_demand_predictor\\data\\processed\\yellow_tripdata_2020-02.parquet into dwh.main.pickup_hourly\n",
      "2024-12-02 07:51:21,597 - src.data - INFO - Deleted file: C:\\Users\\selaf\\OneDrive\\Documentos\\dev\\real-ml-course\\taxi_demand_predictor\\data\\processed\\yellow_tripdata_2020-02.parquet\n"
     ]
    }
   ],
   "source": [
    "file_etl(2020, 2)"
   ]
  },
  {
   "cell_type": "code",
   "execution_count": 16,
   "metadata": {},
   "outputs": [
    {
     "name": "stdout",
     "output_type": "stream",
     "text": [
      "2024-12-02 07:51:21,695 - src.data - INFO - Downloading data for year 2020\n"
     ]
    },
    {
     "name": "stderr",
     "output_type": "stream",
     "text": [
      "  0%|          | 0/12 [00:00<?, ?it/s]"
     ]
    },
    {
     "name": "stdout",
     "output_type": "stream",
     "text": [
      "2024-12-02 07:51:24,256 - src.data - INFO - Downloading file from https://d37ci6vzurychx.cloudfront.net/trip-data/yellow_tripdata_2020-01.parquet to C:\\Users\\selaf\\OneDrive\\Documentos\\dev\\real-ml-course\\taxi_demand_predictor\\data\\raw\\yellow_tripdata_2020-01.parquet\n",
      "2024-12-02 07:51:25,149 - src.data - INFO - Validation for file: C:\\Users\\selaf\\OneDrive\\Documentos\\dev\\real-ml-course\\taxi_demand_predictor\\data\\raw\\yellow_tripdata_2020-01.parquet\n",
      "2024-12-02 07:51:25,150 - src.data - INFO - Total records: 6405008\n",
      "2024-12-02 07:51:25,150 - src.data - INFO - Records deleted: 212\n",
      "2024-12-02 07:51:25,151 - src.data - INFO - Percentage: 100.00%\n",
      "2024-12-02 07:51:25,515 - src.data - INFO - Deleted file: C:\\Users\\selaf\\OneDrive\\Documentos\\dev\\real-ml-course\\taxi_demand_predictor\\data\\raw\\yellow_tripdata_2020-01.parquet\n",
      "2024-12-02 07:51:26,320 - src.dwh - INFO - Upserted C:\\Users\\selaf\\OneDrive\\Documentos\\dev\\real-ml-course\\taxi_demand_predictor\\data\\processed\\yellow_tripdata_2020-01.parquet into dwh.main.pickup_hourly\n",
      "2024-12-02 07:51:26,324 - src.data - INFO - Deleted file: C:\\Users\\selaf\\OneDrive\\Documentos\\dev\\real-ml-course\\taxi_demand_predictor\\data\\processed\\yellow_tripdata_2020-01.parquet\n"
     ]
    },
    {
     "name": "stderr",
     "output_type": "stream",
     "text": [
      "  8%|▊         | 1/12 [00:04<00:50,  4.61s/it]"
     ]
    },
    {
     "name": "stdout",
     "output_type": "stream",
     "text": [
      "2024-12-02 07:51:28,678 - src.data - INFO - Downloading file from https://d37ci6vzurychx.cloudfront.net/trip-data/yellow_tripdata_2020-02.parquet to C:\\Users\\selaf\\OneDrive\\Documentos\\dev\\real-ml-course\\taxi_demand_predictor\\data\\raw\\yellow_tripdata_2020-02.parquet\n",
      "2024-12-02 07:51:29,560 - src.data - INFO - Validation for file: C:\\Users\\selaf\\OneDrive\\Documentos\\dev\\real-ml-course\\taxi_demand_predictor\\data\\raw\\yellow_tripdata_2020-02.parquet\n",
      "2024-12-02 07:51:29,561 - src.data - INFO - Total records: 6299367\n",
      "2024-12-02 07:51:29,562 - src.data - INFO - Records deleted: 303\n",
      "2024-12-02 07:51:29,562 - src.data - INFO - Percentage: 100.00%\n",
      "2024-12-02 07:51:29,780 - src.data - INFO - Deleted file: C:\\Users\\selaf\\OneDrive\\Documentos\\dev\\real-ml-course\\taxi_demand_predictor\\data\\raw\\yellow_tripdata_2020-02.parquet\n",
      "2024-12-02 07:51:30,503 - src.dwh - INFO - Upserted C:\\Users\\selaf\\OneDrive\\Documentos\\dev\\real-ml-course\\taxi_demand_predictor\\data\\processed\\yellow_tripdata_2020-02.parquet into dwh.main.pickup_hourly\n",
      "2024-12-02 07:51:30,505 - src.data - INFO - Deleted file: C:\\Users\\selaf\\OneDrive\\Documentos\\dev\\real-ml-course\\taxi_demand_predictor\\data\\processed\\yellow_tripdata_2020-02.parquet\n"
     ]
    },
    {
     "name": "stderr",
     "output_type": "stream",
     "text": [
      " 17%|█▋        | 2/12 [00:08<00:43,  4.35s/it]"
     ]
    },
    {
     "name": "stdout",
     "output_type": "stream",
     "text": [
      "2024-12-02 07:51:32,743 - src.data - INFO - Downloading file from https://d37ci6vzurychx.cloudfront.net/trip-data/yellow_tripdata_2020-03.parquet to C:\\Users\\selaf\\OneDrive\\Documentos\\dev\\real-ml-course\\taxi_demand_predictor\\data\\raw\\yellow_tripdata_2020-03.parquet\n",
      "2024-12-02 07:51:33,257 - src.data - INFO - Validation for file: C:\\Users\\selaf\\OneDrive\\Documentos\\dev\\real-ml-course\\taxi_demand_predictor\\data\\raw\\yellow_tripdata_2020-03.parquet\n",
      "2024-12-02 07:51:33,258 - src.data - INFO - Total records: 3007687\n",
      "2024-12-02 07:51:33,258 - src.data - INFO - Records deleted: 426\n",
      "2024-12-02 07:51:33,259 - src.data - INFO - Percentage: 99.99%\n",
      "2024-12-02 07:51:33,358 - src.data - INFO - Deleted file: C:\\Users\\selaf\\OneDrive\\Documentos\\dev\\real-ml-course\\taxi_demand_predictor\\data\\raw\\yellow_tripdata_2020-03.parquet\n",
      "2024-12-02 07:51:34,250 - src.dwh - INFO - Upserted C:\\Users\\selaf\\OneDrive\\Documentos\\dev\\real-ml-course\\taxi_demand_predictor\\data\\processed\\yellow_tripdata_2020-03.parquet into dwh.main.pickup_hourly\n",
      "2024-12-02 07:51:34,252 - src.data - INFO - Deleted file: C:\\Users\\selaf\\OneDrive\\Documentos\\dev\\real-ml-course\\taxi_demand_predictor\\data\\processed\\yellow_tripdata_2020-03.parquet\n"
     ]
    },
    {
     "name": "stderr",
     "output_type": "stream",
     "text": [
      " 25%|██▌       | 3/12 [00:12<00:36,  4.08s/it]"
     ]
    },
    {
     "name": "stdout",
     "output_type": "stream",
     "text": [
      "2024-12-02 07:51:35,310 - src.data - INFO - Downloading file from https://d37ci6vzurychx.cloudfront.net/trip-data/yellow_tripdata_2020-04.parquet to C:\\Users\\selaf\\OneDrive\\Documentos\\dev\\real-ml-course\\taxi_demand_predictor\\data\\raw\\yellow_tripdata_2020-04.parquet\n",
      "2024-12-02 07:51:35,419 - src.data - INFO - Validation for file: C:\\Users\\selaf\\OneDrive\\Documentos\\dev\\real-ml-course\\taxi_demand_predictor\\data\\raw\\yellow_tripdata_2020-04.parquet\n",
      "2024-12-02 07:51:35,420 - src.data - INFO - Total records: 238073\n",
      "2024-12-02 07:51:35,420 - src.data - INFO - Records deleted: 132\n",
      "2024-12-02 07:51:35,421 - src.data - INFO - Percentage: 99.94%\n",
      "2024-12-02 07:51:35,430 - src.data - INFO - Deleted file: C:\\Users\\selaf\\OneDrive\\Documentos\\dev\\real-ml-course\\taxi_demand_predictor\\data\\raw\\yellow_tripdata_2020-04.parquet\n",
      "2024-12-02 07:51:36,237 - src.dwh - INFO - Upserted C:\\Users\\selaf\\OneDrive\\Documentos\\dev\\real-ml-course\\taxi_demand_predictor\\data\\processed\\yellow_tripdata_2020-04.parquet into dwh.main.pickup_hourly\n",
      "2024-12-02 07:51:36,238 - src.data - INFO - Deleted file: C:\\Users\\selaf\\OneDrive\\Documentos\\dev\\real-ml-course\\taxi_demand_predictor\\data\\processed\\yellow_tripdata_2020-04.parquet\n"
     ]
    },
    {
     "name": "stderr",
     "output_type": "stream",
     "text": [
      " 33%|███▎      | 4/12 [00:14<00:26,  3.25s/it]"
     ]
    },
    {
     "name": "stdout",
     "output_type": "stream",
     "text": [
      "2024-12-02 07:51:37,523 - src.data - INFO - Downloading file from https://d37ci6vzurychx.cloudfront.net/trip-data/yellow_tripdata_2020-05.parquet to C:\\Users\\selaf\\OneDrive\\Documentos\\dev\\real-ml-course\\taxi_demand_predictor\\data\\raw\\yellow_tripdata_2020-05.parquet\n",
      "2024-12-02 07:51:37,615 - src.data - INFO - Validation for file: C:\\Users\\selaf\\OneDrive\\Documentos\\dev\\real-ml-course\\taxi_demand_predictor\\data\\raw\\yellow_tripdata_2020-05.parquet\n",
      "2024-12-02 07:51:37,616 - src.data - INFO - Total records: 348415\n",
      "2024-12-02 07:51:37,617 - src.data - INFO - Records deleted: 23\n",
      "2024-12-02 07:51:37,618 - src.data - INFO - Percentage: 99.99%\n",
      "2024-12-02 07:51:37,627 - src.data - INFO - Deleted file: C:\\Users\\selaf\\OneDrive\\Documentos\\dev\\real-ml-course\\taxi_demand_predictor\\data\\raw\\yellow_tripdata_2020-05.parquet\n",
      "2024-12-02 07:51:38,428 - src.dwh - INFO - Upserted C:\\Users\\selaf\\OneDrive\\Documentos\\dev\\real-ml-course\\taxi_demand_predictor\\data\\processed\\yellow_tripdata_2020-05.parquet into dwh.main.pickup_hourly\n",
      "2024-12-02 07:51:38,429 - src.data - INFO - Deleted file: C:\\Users\\selaf\\OneDrive\\Documentos\\dev\\real-ml-course\\taxi_demand_predictor\\data\\processed\\yellow_tripdata_2020-05.parquet\n"
     ]
    },
    {
     "name": "stderr",
     "output_type": "stream",
     "text": [
      " 42%|████▏     | 5/12 [00:16<00:20,  2.87s/it]"
     ]
    },
    {
     "name": "stdout",
     "output_type": "stream",
     "text": [
      "2024-12-02 07:51:39,756 - src.data - INFO - Downloading file from https://d37ci6vzurychx.cloudfront.net/trip-data/yellow_tripdata_2020-06.parquet to C:\\Users\\selaf\\OneDrive\\Documentos\\dev\\real-ml-course\\taxi_demand_predictor\\data\\raw\\yellow_tripdata_2020-06.parquet\n",
      "2024-12-02 07:51:39,834 - src.data - INFO - Validation for file: C:\\Users\\selaf\\OneDrive\\Documentos\\dev\\real-ml-course\\taxi_demand_predictor\\data\\raw\\yellow_tripdata_2020-06.parquet\n",
      "2024-12-02 07:51:39,835 - src.data - INFO - Total records: 549797\n",
      "2024-12-02 07:51:39,836 - src.data - INFO - Records deleted: 9\n",
      "2024-12-02 07:51:39,836 - src.data - INFO - Percentage: 100.00%\n",
      "2024-12-02 07:51:39,846 - src.data - INFO - Deleted file: C:\\Users\\selaf\\OneDrive\\Documentos\\dev\\real-ml-course\\taxi_demand_predictor\\data\\raw\\yellow_tripdata_2020-06.parquet\n",
      "2024-12-02 07:51:40,621 - src.dwh - INFO - Upserted C:\\Users\\selaf\\OneDrive\\Documentos\\dev\\real-ml-course\\taxi_demand_predictor\\data\\processed\\yellow_tripdata_2020-06.parquet into dwh.main.pickup_hourly\n",
      "2024-12-02 07:51:40,624 - src.data - INFO - Deleted file: C:\\Users\\selaf\\OneDrive\\Documentos\\dev\\real-ml-course\\taxi_demand_predictor\\data\\processed\\yellow_tripdata_2020-06.parquet\n"
     ]
    },
    {
     "name": "stderr",
     "output_type": "stream",
     "text": [
      " 50%|█████     | 6/12 [00:18<00:15,  2.64s/it]"
     ]
    },
    {
     "name": "stdout",
     "output_type": "stream",
     "text": [
      "2024-12-02 07:51:42,080 - src.data - INFO - Downloading file from https://d37ci6vzurychx.cloudfront.net/trip-data/yellow_tripdata_2020-07.parquet to C:\\Users\\selaf\\OneDrive\\Documentos\\dev\\real-ml-course\\taxi_demand_predictor\\data\\raw\\yellow_tripdata_2020-07.parquet\n",
      "2024-12-02 07:51:42,203 - src.data - INFO - Validation for file: C:\\Users\\selaf\\OneDrive\\Documentos\\dev\\real-ml-course\\taxi_demand_predictor\\data\\raw\\yellow_tripdata_2020-07.parquet\n",
      "2024-12-02 07:51:42,204 - src.data - INFO - Total records: 800412\n",
      "2024-12-02 07:51:42,204 - src.data - INFO - Records deleted: 10\n",
      "2024-12-02 07:51:42,205 - src.data - INFO - Percentage: 100.00%\n",
      "2024-12-02 07:51:42,218 - src.data - INFO - Deleted file: C:\\Users\\selaf\\OneDrive\\Documentos\\dev\\real-ml-course\\taxi_demand_predictor\\data\\raw\\yellow_tripdata_2020-07.parquet\n",
      "2024-12-02 07:51:43,054 - src.dwh - INFO - Upserted C:\\Users\\selaf\\OneDrive\\Documentos\\dev\\real-ml-course\\taxi_demand_predictor\\data\\processed\\yellow_tripdata_2020-07.parquet into dwh.main.pickup_hourly\n",
      "2024-12-02 07:51:43,056 - src.data - INFO - Deleted file: C:\\Users\\selaf\\OneDrive\\Documentos\\dev\\real-ml-course\\taxi_demand_predictor\\data\\processed\\yellow_tripdata_2020-07.parquet\n"
     ]
    },
    {
     "name": "stderr",
     "output_type": "stream",
     "text": [
      " 58%|█████▊    | 7/12 [00:21<00:12,  2.57s/it]"
     ]
    },
    {
     "name": "stdout",
     "output_type": "stream",
     "text": [
      "2024-12-02 07:51:44,469 - src.data - INFO - Downloading file from https://d37ci6vzurychx.cloudfront.net/trip-data/yellow_tripdata_2020-08.parquet to C:\\Users\\selaf\\OneDrive\\Documentos\\dev\\real-ml-course\\taxi_demand_predictor\\data\\raw\\yellow_tripdata_2020-08.parquet\n",
      "2024-12-02 07:51:44,617 - src.data - INFO - Validation for file: C:\\Users\\selaf\\OneDrive\\Documentos\\dev\\real-ml-course\\taxi_demand_predictor\\data\\raw\\yellow_tripdata_2020-08.parquet\n",
      "2024-12-02 07:51:44,619 - src.data - INFO - Total records: 1007286\n",
      "2024-12-02 07:51:44,620 - src.data - INFO - Records deleted: 16\n",
      "2024-12-02 07:51:44,621 - src.data - INFO - Percentage: 100.00%\n",
      "2024-12-02 07:51:44,641 - src.data - INFO - Deleted file: C:\\Users\\selaf\\OneDrive\\Documentos\\dev\\real-ml-course\\taxi_demand_predictor\\data\\raw\\yellow_tripdata_2020-08.parquet\n",
      "2024-12-02 07:51:45,440 - src.dwh - INFO - Upserted C:\\Users\\selaf\\OneDrive\\Documentos\\dev\\real-ml-course\\taxi_demand_predictor\\data\\processed\\yellow_tripdata_2020-08.parquet into dwh.main.pickup_hourly\n",
      "2024-12-02 07:51:45,441 - src.data - INFO - Deleted file: C:\\Users\\selaf\\OneDrive\\Documentos\\dev\\real-ml-course\\taxi_demand_predictor\\data\\processed\\yellow_tripdata_2020-08.parquet\n"
     ]
    },
    {
     "name": "stderr",
     "output_type": "stream",
     "text": [
      " 67%|██████▋   | 8/12 [00:23<00:10,  2.51s/it]"
     ]
    },
    {
     "name": "stdout",
     "output_type": "stream",
     "text": [
      "2024-12-02 07:51:47,102 - src.data - INFO - Downloading file from https://d37ci6vzurychx.cloudfront.net/trip-data/yellow_tripdata_2020-09.parquet to C:\\Users\\selaf\\OneDrive\\Documentos\\dev\\real-ml-course\\taxi_demand_predictor\\data\\raw\\yellow_tripdata_2020-09.parquet\n",
      "2024-12-02 07:51:47,291 - src.data - INFO - Validation for file: C:\\Users\\selaf\\OneDrive\\Documentos\\dev\\real-ml-course\\taxi_demand_predictor\\data\\raw\\yellow_tripdata_2020-09.parquet\n",
      "2024-12-02 07:51:47,292 - src.data - INFO - Total records: 1341017\n",
      "2024-12-02 07:51:47,292 - src.data - INFO - Records deleted: 134\n",
      "2024-12-02 07:51:47,293 - src.data - INFO - Percentage: 99.99%\n",
      "2024-12-02 07:51:47,327 - src.data - INFO - Deleted file: C:\\Users\\selaf\\OneDrive\\Documentos\\dev\\real-ml-course\\taxi_demand_predictor\\data\\raw\\yellow_tripdata_2020-09.parquet\n",
      "2024-12-02 07:51:48,211 - src.dwh - INFO - Upserted C:\\Users\\selaf\\OneDrive\\Documentos\\dev\\real-ml-course\\taxi_demand_predictor\\data\\processed\\yellow_tripdata_2020-09.parquet into dwh.main.pickup_hourly\n",
      "2024-12-02 07:51:48,213 - src.data - INFO - Deleted file: C:\\Users\\selaf\\OneDrive\\Documentos\\dev\\real-ml-course\\taxi_demand_predictor\\data\\processed\\yellow_tripdata_2020-09.parquet\n"
     ]
    },
    {
     "name": "stderr",
     "output_type": "stream",
     "text": [
      " 75%|███████▌  | 9/12 [00:26<00:07,  2.59s/it]"
     ]
    },
    {
     "name": "stdout",
     "output_type": "stream",
     "text": [
      "2024-12-02 07:51:49,955 - src.data - INFO - Downloading file from https://d37ci6vzurychx.cloudfront.net/trip-data/yellow_tripdata_2020-10.parquet to C:\\Users\\selaf\\OneDrive\\Documentos\\dev\\real-ml-course\\taxi_demand_predictor\\data\\raw\\yellow_tripdata_2020-10.parquet\n",
      "2024-12-02 07:51:50,176 - src.data - INFO - Validation for file: C:\\Users\\selaf\\OneDrive\\Documentos\\dev\\real-ml-course\\taxi_demand_predictor\\data\\raw\\yellow_tripdata_2020-10.parquet\n",
      "2024-12-02 07:51:50,177 - src.data - INFO - Total records: 1681132\n",
      "2024-12-02 07:51:50,177 - src.data - INFO - Records deleted: 32\n",
      "2024-12-02 07:51:50,178 - src.data - INFO - Percentage: 100.00%\n",
      "2024-12-02 07:51:50,223 - src.data - INFO - Deleted file: C:\\Users\\selaf\\OneDrive\\Documentos\\dev\\real-ml-course\\taxi_demand_predictor\\data\\raw\\yellow_tripdata_2020-10.parquet\n",
      "2024-12-02 07:51:51,064 - src.dwh - INFO - Upserted C:\\Users\\selaf\\OneDrive\\Documentos\\dev\\real-ml-course\\taxi_demand_predictor\\data\\processed\\yellow_tripdata_2020-10.parquet into dwh.main.pickup_hourly\n",
      "2024-12-02 07:51:51,066 - src.data - INFO - Deleted file: C:\\Users\\selaf\\OneDrive\\Documentos\\dev\\real-ml-course\\taxi_demand_predictor\\data\\processed\\yellow_tripdata_2020-10.parquet\n"
     ]
    },
    {
     "name": "stderr",
     "output_type": "stream",
     "text": [
      " 83%|████████▎ | 10/12 [00:29<00:05,  2.67s/it]"
     ]
    },
    {
     "name": "stdout",
     "output_type": "stream",
     "text": [
      "2024-12-02 07:51:52,922 - src.data - INFO - Downloading file from https://d37ci6vzurychx.cloudfront.net/trip-data/yellow_tripdata_2020-11.parquet to C:\\Users\\selaf\\OneDrive\\Documentos\\dev\\real-ml-course\\taxi_demand_predictor\\data\\raw\\yellow_tripdata_2020-11.parquet\n",
      "2024-12-02 07:51:53,124 - src.data - INFO - Validation for file: C:\\Users\\selaf\\OneDrive\\Documentos\\dev\\real-ml-course\\taxi_demand_predictor\\data\\raw\\yellow_tripdata_2020-11.parquet\n",
      "2024-12-02 07:51:53,125 - src.data - INFO - Total records: 1509000\n",
      "2024-12-02 07:51:53,125 - src.data - INFO - Records deleted: 112\n",
      "2024-12-02 07:51:53,126 - src.data - INFO - Percentage: 99.99%\n",
      "2024-12-02 07:51:53,169 - src.data - INFO - Deleted file: C:\\Users\\selaf\\OneDrive\\Documentos\\dev\\real-ml-course\\taxi_demand_predictor\\data\\raw\\yellow_tripdata_2020-11.parquet\n",
      "2024-12-02 07:51:54,053 - src.dwh - INFO - Upserted C:\\Users\\selaf\\OneDrive\\Documentos\\dev\\real-ml-course\\taxi_demand_predictor\\data\\processed\\yellow_tripdata_2020-11.parquet into dwh.main.pickup_hourly\n",
      "2024-12-02 07:51:54,055 - src.data - INFO - Deleted file: C:\\Users\\selaf\\OneDrive\\Documentos\\dev\\real-ml-course\\taxi_demand_predictor\\data\\processed\\yellow_tripdata_2020-11.parquet\n"
     ]
    },
    {
     "name": "stderr",
     "output_type": "stream",
     "text": [
      " 92%|█████████▏| 11/12 [00:32<00:02,  2.77s/it]"
     ]
    },
    {
     "name": "stdout",
     "output_type": "stream",
     "text": [
      "2024-12-02 07:51:55,777 - src.data - INFO - Downloading file from https://d37ci6vzurychx.cloudfront.net/trip-data/yellow_tripdata_2020-12.parquet to C:\\Users\\selaf\\OneDrive\\Documentos\\dev\\real-ml-course\\taxi_demand_predictor\\data\\raw\\yellow_tripdata_2020-12.parquet\n",
      "2024-12-02 07:51:55,968 - src.data - INFO - Validation for file: C:\\Users\\selaf\\OneDrive\\Documentos\\dev\\real-ml-course\\taxi_demand_predictor\\data\\raw\\yellow_tripdata_2020-12.parquet\n",
      "2024-12-02 07:51:55,969 - src.data - INFO - Total records: 1461898\n",
      "2024-12-02 07:51:55,970 - src.data - INFO - Records deleted: 35\n",
      "2024-12-02 07:51:55,971 - src.data - INFO - Percentage: 100.00%\n",
      "2024-12-02 07:51:56,005 - src.data - INFO - Deleted file: C:\\Users\\selaf\\OneDrive\\Documentos\\dev\\real-ml-course\\taxi_demand_predictor\\data\\raw\\yellow_tripdata_2020-12.parquet\n",
      "2024-12-02 07:51:56,856 - src.dwh - INFO - Upserted C:\\Users\\selaf\\OneDrive\\Documentos\\dev\\real-ml-course\\taxi_demand_predictor\\data\\processed\\yellow_tripdata_2020-12.parquet into dwh.main.pickup_hourly\n",
      "2024-12-02 07:51:56,857 - src.data - INFO - Deleted file: C:\\Users\\selaf\\OneDrive\\Documentos\\dev\\real-ml-course\\taxi_demand_predictor\\data\\processed\\yellow_tripdata_2020-12.parquet\n"
     ]
    },
    {
     "name": "stderr",
     "output_type": "stream",
     "text": [
      "100%|██████████| 12/12 [00:35<00:00,  2.93s/it]"
     ]
    },
    {
     "name": "stdout",
     "output_type": "stream",
     "text": [
      "2024-12-02 07:51:56,860 - src.data - INFO - Data for year 2020 has been downloaded and validated\n"
     ]
    },
    {
     "name": "stderr",
     "output_type": "stream",
     "text": [
      "\n"
     ]
    }
   ],
   "source": [
    "batch_etl(year=2020)"
   ]
  },
  {
   "cell_type": "code",
   "execution_count": null,
   "metadata": {},
   "outputs": [],
   "source": []
  }
 ],
 "metadata": {
  "kernelspec": {
   "display_name": ".venv",
   "language": "python",
   "name": "python3"
  },
  "language_info": {
   "codemirror_mode": {
    "name": "ipython",
    "version": 3
   },
   "file_extension": ".py",
   "mimetype": "text/x-python",
   "name": "python",
   "nbconvert_exporter": "python",
   "pygments_lexer": "ipython3",
   "version": "3.12.3"
  }
 },
 "nbformat": 4,
 "nbformat_minor": 2
}
