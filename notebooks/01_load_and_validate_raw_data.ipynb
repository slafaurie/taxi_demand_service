{
 "cells": [
  {
   "cell_type": "code",
   "execution_count": 1,
   "metadata": {},
   "outputs": [],
   "source": [
    "%reload_ext autoreload\n",
    "%autoreload 2"
   ]
  },
  {
   "cell_type": "code",
   "execution_count": 42,
   "metadata": {},
   "outputs": [],
   "source": [
    "import os\n",
    "from pathlib import Path\n",
    "import polars as pl\n",
    "import pandas as pd\n",
    "import requests\n",
    "from tqdm import tqdm\n",
    "\n",
    "from src.paths import *\n",
    "from src.logger import get_logger\n",
    "\n",
    "logger = get_logger()"
   ]
  },
  {
   "cell_type": "markdown",
   "metadata": {},
   "source": [
    "# Download files"
   ]
  },
  {
   "cell_type": "code",
   "execution_count": 4,
   "metadata": {},
   "outputs": [],
   "source": [
    "\n",
    "def download_file_from_source_into_raw_folder(year:int, month:int) -> Path:\n",
    "    file = RAW_DATA_DIR / Path(FILE_PATTERN.format(year=year, month=month))\n",
    "    url = BASE_URL.format(year=year, month=month)\n",
    "    response = requests.get(url)\n",
    "    response.raise_for_status()\n",
    "    if response.status_code == 200:\n",
    "        logger.info(f\"Downloading file from {url} to {file}\")\n",
    "        with open(file, \"wb\") as f:\n",
    "            f.write(response.content)\n",
    "    return file\n",
    "\n",
    "\n",
    "path = download_file_from_source_into_raw_folder(2020, 1)"
   ]
  },
  {
   "cell_type": "markdown",
   "metadata": {},
   "source": [
    "# Validate a file\n",
    "- Timestamp are within the file month. e.g, a file named `2020-07-01.csv` should have all timestamps within July 2020."
   ]
  },
  {
   "cell_type": "code",
   "execution_count": 5,
   "metadata": {},
   "outputs": [
    {
     "data": {
      "text/html": [
       "<div><style>\n",
       ".dataframe > thead > tr,\n",
       ".dataframe > tbody > tr {\n",
       "  text-align: right;\n",
       "  white-space: pre-wrap;\n",
       "}\n",
       "</style>\n",
       "<small>shape: (5, 19)</small><table border=\"1\" class=\"dataframe\"><thead><tr><th>VendorID</th><th>tpep_pickup_datetime</th><th>tpep_dropoff_datetime</th><th>passenger_count</th><th>trip_distance</th><th>RatecodeID</th><th>store_and_fwd_flag</th><th>PULocationID</th><th>DOLocationID</th><th>payment_type</th><th>fare_amount</th><th>extra</th><th>mta_tax</th><th>tip_amount</th><th>tolls_amount</th><th>improvement_surcharge</th><th>total_amount</th><th>congestion_surcharge</th><th>airport_fee</th></tr><tr><td>i64</td><td>datetime[ns]</td><td>datetime[ns]</td><td>f64</td><td>f64</td><td>f64</td><td>str</td><td>i64</td><td>i64</td><td>i64</td><td>f64</td><td>f64</td><td>f64</td><td>f64</td><td>f64</td><td>f64</td><td>f64</td><td>f64</td><td>null</td></tr></thead><tbody><tr><td>1</td><td>2020-01-01 00:28:15</td><td>2020-01-01 00:33:03</td><td>1.0</td><td>1.2</td><td>1.0</td><td>&quot;N&quot;</td><td>238</td><td>239</td><td>1</td><td>6.0</td><td>3.0</td><td>0.5</td><td>1.47</td><td>0.0</td><td>0.3</td><td>11.27</td><td>2.5</td><td>null</td></tr><tr><td>1</td><td>2020-01-01 00:35:39</td><td>2020-01-01 00:43:04</td><td>1.0</td><td>1.2</td><td>1.0</td><td>&quot;N&quot;</td><td>239</td><td>238</td><td>1</td><td>7.0</td><td>3.0</td><td>0.5</td><td>1.5</td><td>0.0</td><td>0.3</td><td>12.3</td><td>2.5</td><td>null</td></tr><tr><td>1</td><td>2020-01-01 00:47:41</td><td>2020-01-01 00:53:52</td><td>1.0</td><td>0.6</td><td>1.0</td><td>&quot;N&quot;</td><td>238</td><td>238</td><td>1</td><td>6.0</td><td>3.0</td><td>0.5</td><td>1.0</td><td>0.0</td><td>0.3</td><td>10.8</td><td>2.5</td><td>null</td></tr><tr><td>1</td><td>2020-01-01 00:55:23</td><td>2020-01-01 01:00:14</td><td>1.0</td><td>0.8</td><td>1.0</td><td>&quot;N&quot;</td><td>238</td><td>151</td><td>1</td><td>5.5</td><td>0.5</td><td>0.5</td><td>1.36</td><td>0.0</td><td>0.3</td><td>8.16</td><td>0.0</td><td>null</td></tr><tr><td>2</td><td>2020-01-01 00:01:58</td><td>2020-01-01 00:04:16</td><td>1.0</td><td>0.0</td><td>1.0</td><td>&quot;N&quot;</td><td>193</td><td>193</td><td>2</td><td>3.5</td><td>0.5</td><td>0.5</td><td>0.0</td><td>0.0</td><td>0.3</td><td>4.8</td><td>0.0</td><td>null</td></tr></tbody></table></div>"
      ],
      "text/plain": [
       "shape: (5, 19)\n",
       "┌──────────┬───────────┬───────────┬───────────┬───┬───────────┬───────────┬───────────┬───────────┐\n",
       "│ VendorID ┆ tpep_pick ┆ tpep_drop ┆ passenger ┆ … ┆ improveme ┆ total_amo ┆ congestio ┆ airport_f │\n",
       "│ ---      ┆ up_dateti ┆ off_datet ┆ _count    ┆   ┆ nt_surcha ┆ unt       ┆ n_surchar ┆ ee        │\n",
       "│ i64      ┆ me        ┆ ime       ┆ ---       ┆   ┆ rge       ┆ ---       ┆ ge        ┆ ---       │\n",
       "│          ┆ ---       ┆ ---       ┆ f64       ┆   ┆ ---       ┆ f64       ┆ ---       ┆ null      │\n",
       "│          ┆ datetime[ ┆ datetime[ ┆           ┆   ┆ f64       ┆           ┆ f64       ┆           │\n",
       "│          ┆ ns]       ┆ ns]       ┆           ┆   ┆           ┆           ┆           ┆           │\n",
       "╞══════════╪═══════════╪═══════════╪═══════════╪═══╪═══════════╪═══════════╪═══════════╪═══════════╡\n",
       "│ 1        ┆ 2020-01-0 ┆ 2020-01-0 ┆ 1.0       ┆ … ┆ 0.3       ┆ 11.27     ┆ 2.5       ┆ null      │\n",
       "│          ┆ 1         ┆ 1         ┆           ┆   ┆           ┆           ┆           ┆           │\n",
       "│          ┆ 00:28:15  ┆ 00:33:03  ┆           ┆   ┆           ┆           ┆           ┆           │\n",
       "│ 1        ┆ 2020-01-0 ┆ 2020-01-0 ┆ 1.0       ┆ … ┆ 0.3       ┆ 12.3      ┆ 2.5       ┆ null      │\n",
       "│          ┆ 1         ┆ 1         ┆           ┆   ┆           ┆           ┆           ┆           │\n",
       "│          ┆ 00:35:39  ┆ 00:43:04  ┆           ┆   ┆           ┆           ┆           ┆           │\n",
       "│ 1        ┆ 2020-01-0 ┆ 2020-01-0 ┆ 1.0       ┆ … ┆ 0.3       ┆ 10.8      ┆ 2.5       ┆ null      │\n",
       "│          ┆ 1         ┆ 1         ┆           ┆   ┆           ┆           ┆           ┆           │\n",
       "│          ┆ 00:47:41  ┆ 00:53:52  ┆           ┆   ┆           ┆           ┆           ┆           │\n",
       "│ 1        ┆ 2020-01-0 ┆ 2020-01-0 ┆ 1.0       ┆ … ┆ 0.3       ┆ 8.16      ┆ 0.0       ┆ null      │\n",
       "│          ┆ 1         ┆ 1         ┆           ┆   ┆           ┆           ┆           ┆           │\n",
       "│          ┆ 00:55:23  ┆ 01:00:14  ┆           ┆   ┆           ┆           ┆           ┆           │\n",
       "│ 2        ┆ 2020-01-0 ┆ 2020-01-0 ┆ 1.0       ┆ … ┆ 0.3       ┆ 4.8       ┆ 0.0       ┆ null      │\n",
       "│          ┆ 1         ┆ 1         ┆           ┆   ┆           ┆           ┆           ┆           │\n",
       "│          ┆ 00:01:58  ┆ 00:04:16  ┆           ┆   ┆           ┆           ┆           ┆           │\n",
       "└──────────┴───────────┴───────────┴───────────┴───┴───────────┴───────────┴───────────┴───────────┘"
      ]
     },
     "execution_count": 5,
     "metadata": {},
     "output_type": "execute_result"
    }
   ],
   "source": [
    "df = pl.read_parquet(path)\n",
    "df.head()"
   ]
  },
  {
   "cell_type": "code",
   "execution_count": 39,
   "metadata": {},
   "outputs": [
    {
     "name": "stdout",
     "output_type": "stream",
     "text": [
      "Validation for file:  C:\\Users\\selaf\\OneDrive\\Documentos\\dev\\real-ml-course\\taxi_demand_predictor\\data\\raw\\yellow_tripdata_2020-01.parquet\n",
      "Total records: 6405008\n",
      "Records deleted: 212\n",
      "Percentage: 100.00%\n"
     ]
    },
    {
     "data": {
      "text/html": [
       "<div><style>\n",
       ".dataframe > thead > tr,\n",
       ".dataframe > tbody > tr {\n",
       "  text-align: right;\n",
       "  white-space: pre-wrap;\n",
       "}\n",
       "</style>\n",
       "<small>shape: (5, 2)</small><table border=\"1\" class=\"dataframe\"><thead><tr><th>pickup_datetime</th><th>pickup_location_id</th></tr><tr><td>datetime[ns]</td><td>i64</td></tr></thead><tbody><tr><td>2020-01-01 00:28:15</td><td>238</td></tr><tr><td>2020-01-01 00:35:39</td><td>239</td></tr><tr><td>2020-01-01 00:47:41</td><td>238</td></tr><tr><td>2020-01-01 00:55:23</td><td>238</td></tr><tr><td>2020-01-01 00:01:58</td><td>193</td></tr></tbody></table></div>"
      ],
      "text/plain": [
       "shape: (5, 2)\n",
       "┌─────────────────────┬────────────────────┐\n",
       "│ pickup_datetime     ┆ pickup_location_id │\n",
       "│ ---                 ┆ ---                │\n",
       "│ datetime[ns]        ┆ i64                │\n",
       "╞═════════════════════╪════════════════════╡\n",
       "│ 2020-01-01 00:28:15 ┆ 238                │\n",
       "│ 2020-01-01 00:35:39 ┆ 239                │\n",
       "│ 2020-01-01 00:47:41 ┆ 238                │\n",
       "│ 2020-01-01 00:55:23 ┆ 238                │\n",
       "│ 2020-01-01 00:01:58 ┆ 193                │\n",
       "└─────────────────────┴────────────────────┘"
      ]
     },
     "execution_count": 39,
     "metadata": {},
     "output_type": "execute_result"
    }
   ],
   "source": [
    "def validate_file(file:Path, year:int, month:int) -> pl.DataFrame:\n",
    "    \"\"\"\n",
    "    Validates the given parquet file to ensure all records are within the specified year and month.\n",
    "\n",
    "    This function reads the parquet file, filters the records to only include those where the\n",
    "    'tpep_pickup_datetime' falls within the specified year and month, and then returns a DataFrame\n",
    "    containing only the 'pickup_datetime' and 'pickup_location_id' columns for the filtered records.\n",
    "\n",
    "    Parameters:\n",
    "    - file (Path): The path to the parquet file to be validated.\n",
    "    - year (int): The year to filter the 'tpep_pickup_datetime' by.\n",
    "    - month (int): The month to filter the 'tpep_pickup_datetime' by.\n",
    "\n",
    "    Returns:\n",
    "    - pl.DataFrame: A DataFrame containing the 'pickup_datetime' and 'pickup_location_id' columns\n",
    "      for records that fall within the specified year and month.\n",
    "    \"\"\"\n",
    "    \n",
    "    df = pl.read_parquet(file)\n",
    "\n",
    "    range_expresion = (\n",
    "        ( (pl.col(\"tpep_pickup_datetime\").dt.year() == year)\n",
    "            & (pl.col(\"tpep_pickup_datetime\").dt.month() == month))\n",
    "    )\n",
    "\n",
    "\n",
    "    aggregate_values = (\n",
    "        df\n",
    "        .select([\n",
    "            pl.col(\"tpep_pickup_datetime\").filter(range_expresion).count().alias(\"records_in_range\")\n",
    "            , pl.col(\"tpep_pickup_datetime\").count().alias(\"total_records\")\n",
    "        ]\n",
    "        )\n",
    "    )\n",
    "\n",
    "    records_in_range = aggregate_values[\"records_in_range\"].item()\n",
    "    total_records = aggregate_values[\"total_records\"].item()\n",
    "\n",
    "    logger.info(\"Validation for file: \", file)\n",
    "    logger.info(f\"Total records: {total_records}\")\n",
    "    logger.info(f\"Records deleted: {total_records-records_in_range}\")\n",
    "    logger.info(f\"Percentage: {records_in_range / total_records * 100:.2f}%\")\n",
    "\n",
    "    clean_data = (\n",
    "        df\n",
    "        .filter(range_expresion)\n",
    "        .select([\n",
    "            pl.col(\"tpep_pickup_datetime\").alias(\"pickup_datetime\")\n",
    "            , pl.col(\"PULocationID\").alias(\"pickup_location_id\")\n",
    "        ])\n",
    "    )\n",
    "\n",
    "    return clean_data\n",
    "\n",
    "\n",
    "validate_file(path, 2020, 1).head()"
   ]
  },
  {
   "cell_type": "code",
   "execution_count": 46,
   "metadata": {},
   "outputs": [
    {
     "name": "stderr",
     "output_type": "stream",
     "text": [
      "  0%|          | 0/12 [00:00<?, ?it/s]"
     ]
    },
    {
     "name": "stdout",
     "output_type": "stream",
     "text": [
      "Validation for file:  C:\\Users\\selaf\\OneDrive\\Documentos\\dev\\real-ml-course\\taxi_demand_predictor\\data\\raw\\yellow_tripdata_2020-01.parquet\n",
      "Total records: 6405008\n",
      "Records deleted: 212\n",
      "Percentage: 100.00%\n"
     ]
    },
    {
     "name": "stderr",
     "output_type": "stream",
     "text": [
      "  8%|▊         | 1/12 [00:04<00:52,  4.73s/it]"
     ]
    },
    {
     "name": "stdout",
     "output_type": "stream",
     "text": [
      "Validation for file:  C:\\Users\\selaf\\OneDrive\\Documentos\\dev\\real-ml-course\\taxi_demand_predictor\\data\\raw\\yellow_tripdata_2020-02.parquet\n",
      "Total records: 6299367\n",
      "Records deleted: 303\n",
      "Percentage: 100.00%\n"
     ]
    },
    {
     "name": "stderr",
     "output_type": "stream",
     "text": [
      " 17%|█▋        | 2/12 [00:10<00:55,  5.50s/it]"
     ]
    },
    {
     "name": "stdout",
     "output_type": "stream",
     "text": [
      "Validation for file:  C:\\Users\\selaf\\OneDrive\\Documentos\\dev\\real-ml-course\\taxi_demand_predictor\\data\\raw\\yellow_tripdata_2020-03.parquet\n",
      "Total records: 3007687\n",
      "Records deleted: 426\n",
      "Percentage: 99.99%\n"
     ]
    },
    {
     "name": "stderr",
     "output_type": "stream",
     "text": [
      " 33%|███▎      | 4/12 [00:13<00:22,  2.84s/it]"
     ]
    },
    {
     "name": "stdout",
     "output_type": "stream",
     "text": [
      "Validation for file:  C:\\Users\\selaf\\OneDrive\\Documentos\\dev\\real-ml-course\\taxi_demand_predictor\\data\\raw\\yellow_tripdata_2020-04.parquet\n",
      "Total records: 238073\n",
      "Records deleted: 132\n",
      "Percentage: 99.94%\n"
     ]
    },
    {
     "name": "stderr",
     "output_type": "stream",
     "text": [
      " 42%|████▏     | 5/12 [00:15<00:16,  2.30s/it]"
     ]
    },
    {
     "name": "stdout",
     "output_type": "stream",
     "text": [
      "Validation for file:  C:\\Users\\selaf\\OneDrive\\Documentos\\dev\\real-ml-course\\taxi_demand_predictor\\data\\raw\\yellow_tripdata_2020-05.parquet\n",
      "Total records: 348415\n",
      "Records deleted: 23\n",
      "Percentage: 99.99%\n"
     ]
    },
    {
     "name": "stderr",
     "output_type": "stream",
     "text": [
      " 50%|█████     | 6/12 [00:15<00:10,  1.75s/it]"
     ]
    },
    {
     "name": "stdout",
     "output_type": "stream",
     "text": [
      "Validation for file:  C:\\Users\\selaf\\OneDrive\\Documentos\\dev\\real-ml-course\\taxi_demand_predictor\\data\\raw\\yellow_tripdata_2020-06.parquet\n",
      "Total records: 549797\n",
      "Records deleted: 9\n",
      "Percentage: 100.00%\n"
     ]
    },
    {
     "name": "stderr",
     "output_type": "stream",
     "text": [
      " 58%|█████▊    | 7/12 [00:17<00:08,  1.76s/it]"
     ]
    },
    {
     "name": "stdout",
     "output_type": "stream",
     "text": [
      "Validation for file:  C:\\Users\\selaf\\OneDrive\\Documentos\\dev\\real-ml-course\\taxi_demand_predictor\\data\\raw\\yellow_tripdata_2020-07.parquet\n",
      "Total records: 800412\n",
      "Records deleted: 10\n",
      "Percentage: 100.00%\n"
     ]
    },
    {
     "name": "stderr",
     "output_type": "stream",
     "text": [
      " 67%|██████▋   | 8/12 [00:19<00:07,  1.77s/it]"
     ]
    },
    {
     "name": "stdout",
     "output_type": "stream",
     "text": [
      "Validation for file:  C:\\Users\\selaf\\OneDrive\\Documentos\\dev\\real-ml-course\\taxi_demand_predictor\\data\\raw\\yellow_tripdata_2020-08.parquet\n",
      "Total records: 1007286\n",
      "Records deleted: 16\n",
      "Percentage: 100.00%\n",
      "Validation for file:  C:\\Users\\selaf\\OneDrive\\Documentos\\dev\\real-ml-course\\taxi_demand_predictor\\data\\raw\\yellow_tripdata_2020-09.parquet\n",
      "Total records: 1341017\n",
      "Records deleted: 134\n",
      "Percentage: 99.99%\n"
     ]
    },
    {
     "name": "stderr",
     "output_type": "stream",
     "text": [
      " 75%|███████▌  | 9/12 [00:21<00:05,  1.86s/it]"
     ]
    },
    {
     "name": "stdout",
     "output_type": "stream",
     "text": [
      "Validation for file:  C:\\Users\\selaf\\OneDrive\\Documentos\\dev\\real-ml-course\\taxi_demand_predictor\\data\\raw\\yellow_tripdata_2020-10.parquet\n",
      "Total records: 1681132\n",
      "Records deleted: 32\n",
      "Percentage: 100.00%\n"
     ]
    },
    {
     "name": "stderr",
     "output_type": "stream",
     "text": [
      " 83%|████████▎ | 10/12 [00:24<00:04,  2.03s/it]"
     ]
    },
    {
     "name": "stdout",
     "output_type": "stream",
     "text": [
      "Validation for file:  C:\\Users\\selaf\\OneDrive\\Documentos\\dev\\real-ml-course\\taxi_demand_predictor\\data\\raw\\yellow_tripdata_2020-11.parquet\n",
      "Total records: 1509000\n",
      "Records deleted: 112\n",
      "Percentage: 99.99%\n"
     ]
    },
    {
     "name": "stderr",
     "output_type": "stream",
     "text": [
      " 92%|█████████▏| 11/12 [00:26<00:02,  2.12s/it]"
     ]
    },
    {
     "name": "stdout",
     "output_type": "stream",
     "text": [
      "Validation for file:  C:\\Users\\selaf\\OneDrive\\Documentos\\dev\\real-ml-course\\taxi_demand_predictor\\data\\raw\\yellow_tripdata_2020-12.parquet\n",
      "Total records: 1461898\n",
      "Records deleted: 35\n",
      "Percentage: 100.00%\n"
     ]
    },
    {
     "name": "stderr",
     "output_type": "stream",
     "text": [
      "100%|██████████| 12/12 [00:28<00:00,  2.38s/it]\n"
     ]
    }
   ],
   "source": [
    "from typing import Optional\n",
    "\n",
    "def load_raw_data(year:int, months: list[int] | None = None) -> None:\n",
    "    \"\"\"\n",
    "    Loads raw taxi trip data for a specified year and optional list of months, validates it, and saves the validated data.\n",
    "\n",
    "    This function downloads raw taxi trip data for the specified year and months. If no months are provided, it defaults to all months in the year.\n",
    "    After downloading, it validates the data by checking if the records fall within the specified year and month(s) and then saves the validated data\n",
    "    into a processed data directory in parquet format.\n",
    "\n",
    "    Parameters:\n",
    "    - year (int): The year for which to download and validate the data.\n",
    "    - months (Optional[list[int]]): An optional list of integers representing the months for which to download and validate the data.\n",
    "      If None, data for all months in the specified year will be processed.\n",
    "\n",
    "    Returns:\n",
    "    None. The function saves the validated data into a processed data directory without returning any value.\n",
    "    \"\"\"\n",
    "    \n",
    "    logger.info(f\"Downloading data for year {year}\")\n",
    "    \n",
    "    if months is None: \n",
    "        months = range(1, 13)\n",
    "        \n",
    "    if isinstance(months, int):\n",
    "        months = [months]\n",
    "\n",
    "        \n",
    "    for month in tqdm(months):\n",
    "        try:\n",
    "            file = download_file_from_source_into_raw_folder(year, month)\n",
    "            validate_file(file, year, month).write_parquet(PROCESSED_DATA_DIR / Path(FILE_PATTERN.format(year=year, month=month)))\n",
    "        except requests.exceptions.HTTPError as e:\n",
    "            logger.error(f\"Error downloading data for year {year} and month {month}: {e}\")\n",
    "            continue\n",
    "    logger.info(f\"Data for year {year} has been downloaded and validated\")\n",
    "    \n",
    "load_raw_data(2020)"
   ]
  },
  {
   "cell_type": "code",
   "execution_count": null,
   "metadata": {},
   "outputs": [],
   "source": []
  }
 ],
 "metadata": {
  "kernelspec": {
   "display_name": ".venv",
   "language": "python",
   "name": "python3"
  },
  "language_info": {
   "codemirror_mode": {
    "name": "ipython",
    "version": 3
   },
   "file_extension": ".py",
   "mimetype": "text/x-python",
   "name": "python",
   "nbconvert_exporter": "python",
   "pygments_lexer": "ipython3",
   "version": "3.11.4"
  }
 },
 "nbformat": 4,
 "nbformat_minor": 2
}
