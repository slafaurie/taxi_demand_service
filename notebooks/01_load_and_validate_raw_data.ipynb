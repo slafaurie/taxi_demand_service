{
 "cells": [
  {
   "cell_type": "code",
   "execution_count": 1,
   "metadata": {},
   "outputs": [],
   "source": [
    "%reload_ext autoreload\n",
    "%autoreload 2"
   ]
  },
  {
   "cell_type": "code",
   "execution_count": 2,
   "metadata": {},
   "outputs": [],
   "source": [
    "import os\n",
    "from pathlib import Path\n",
    "import polars as pl\n",
    "# import pandas as pd\n",
    "import requests\n",
    "from tqdm import tqdm\n",
    "\n",
    "from src.paths import *\n",
    "from src.logger import get_logger\n",
    "from src.data import file_etl, batch_etl,  download_file_from_source_into_raw_folder, validate_file, aggregate_pickup_into_timeseries_data, generate_surrogate_key\n",
    "\n",
    "logger = get_logger(__name__)"
   ]
  },
  {
   "cell_type": "markdown",
   "metadata": {},
   "source": [
    "# Download files"
   ]
  },
  {
   "cell_type": "code",
   "execution_count": 3,
   "metadata": {},
   "outputs": [],
   "source": [
    "\n",
    "# def download_file_from_source_into_raw_folder(year:int, month:int) -> Path:\n",
    "#     file = RAW_DATA_DIR / Path(FILE_PATTERN.format(year=year, month=month))\n",
    "#     url = BASE_URL.format(year=year, month=month)\n",
    "#     response = requests.get(url)\n",
    "#     response.raise_for_status()\n",
    "#     if response.status_code == 200:\n",
    "#         logger.info(f\"Downloading file from {url} to {file}\")\n",
    "#         with open(file, \"wb\") as f:\n",
    "#             f.write(response.content)\n",
    "#     return file\n",
    "\n",
    "\n"
   ]
  },
  {
   "cell_type": "markdown",
   "metadata": {},
   "source": [
    "# Validate a file\n",
    "- Timestamp are within the file month. e.g, a file named `2020-07-01.csv` should have all timestamps within July 2020."
   ]
  },
  {
   "cell_type": "code",
   "execution_count": 4,
   "metadata": {},
   "outputs": [
    {
     "data": {
      "text/html": [
       "<div><style>\n",
       ".dataframe > thead > tr,\n",
       ".dataframe > tbody > tr {\n",
       "  text-align: right;\n",
       "  white-space: pre-wrap;\n",
       "}\n",
       "</style>\n",
       "<small>shape: (5, 19)</small><table border=\"1\" class=\"dataframe\"><thead><tr><th>VendorID</th><th>tpep_pickup_datetime</th><th>tpep_dropoff_datetime</th><th>passenger_count</th><th>trip_distance</th><th>RatecodeID</th><th>store_and_fwd_flag</th><th>PULocationID</th><th>DOLocationID</th><th>payment_type</th><th>fare_amount</th><th>extra</th><th>mta_tax</th><th>tip_amount</th><th>tolls_amount</th><th>improvement_surcharge</th><th>total_amount</th><th>congestion_surcharge</th><th>airport_fee</th></tr><tr><td>i64</td><td>datetime[ns]</td><td>datetime[ns]</td><td>f64</td><td>f64</td><td>f64</td><td>str</td><td>i64</td><td>i64</td><td>i64</td><td>f64</td><td>f64</td><td>f64</td><td>f64</td><td>f64</td><td>f64</td><td>f64</td><td>f64</td><td>null</td></tr></thead><tbody><tr><td>1</td><td>2020-01-01 00:28:15</td><td>2020-01-01 00:33:03</td><td>1.0</td><td>1.2</td><td>1.0</td><td>&quot;N&quot;</td><td>238</td><td>239</td><td>1</td><td>6.0</td><td>3.0</td><td>0.5</td><td>1.47</td><td>0.0</td><td>0.3</td><td>11.27</td><td>2.5</td><td>null</td></tr><tr><td>1</td><td>2020-01-01 00:35:39</td><td>2020-01-01 00:43:04</td><td>1.0</td><td>1.2</td><td>1.0</td><td>&quot;N&quot;</td><td>239</td><td>238</td><td>1</td><td>7.0</td><td>3.0</td><td>0.5</td><td>1.5</td><td>0.0</td><td>0.3</td><td>12.3</td><td>2.5</td><td>null</td></tr><tr><td>1</td><td>2020-01-01 00:47:41</td><td>2020-01-01 00:53:52</td><td>1.0</td><td>0.6</td><td>1.0</td><td>&quot;N&quot;</td><td>238</td><td>238</td><td>1</td><td>6.0</td><td>3.0</td><td>0.5</td><td>1.0</td><td>0.0</td><td>0.3</td><td>10.8</td><td>2.5</td><td>null</td></tr><tr><td>1</td><td>2020-01-01 00:55:23</td><td>2020-01-01 01:00:14</td><td>1.0</td><td>0.8</td><td>1.0</td><td>&quot;N&quot;</td><td>238</td><td>151</td><td>1</td><td>5.5</td><td>0.5</td><td>0.5</td><td>1.36</td><td>0.0</td><td>0.3</td><td>8.16</td><td>0.0</td><td>null</td></tr><tr><td>2</td><td>2020-01-01 00:01:58</td><td>2020-01-01 00:04:16</td><td>1.0</td><td>0.0</td><td>1.0</td><td>&quot;N&quot;</td><td>193</td><td>193</td><td>2</td><td>3.5</td><td>0.5</td><td>0.5</td><td>0.0</td><td>0.0</td><td>0.3</td><td>4.8</td><td>0.0</td><td>null</td></tr></tbody></table></div>"
      ],
      "text/plain": [
       "shape: (5, 19)\n",
       "┌──────────┬───────────┬───────────┬───────────┬───┬───────────┬───────────┬───────────┬───────────┐\n",
       "│ VendorID ┆ tpep_pick ┆ tpep_drop ┆ passenger ┆ … ┆ improveme ┆ total_amo ┆ congestio ┆ airport_f │\n",
       "│ ---      ┆ up_dateti ┆ off_datet ┆ _count    ┆   ┆ nt_surcha ┆ unt       ┆ n_surchar ┆ ee        │\n",
       "│ i64      ┆ me        ┆ ime       ┆ ---       ┆   ┆ rge       ┆ ---       ┆ ge        ┆ ---       │\n",
       "│          ┆ ---       ┆ ---       ┆ f64       ┆   ┆ ---       ┆ f64       ┆ ---       ┆ null      │\n",
       "│          ┆ datetime[ ┆ datetime[ ┆           ┆   ┆ f64       ┆           ┆ f64       ┆           │\n",
       "│          ┆ ns]       ┆ ns]       ┆           ┆   ┆           ┆           ┆           ┆           │\n",
       "╞══════════╪═══════════╪═══════════╪═══════════╪═══╪═══════════╪═══════════╪═══════════╪═══════════╡\n",
       "│ 1        ┆ 2020-01-0 ┆ 2020-01-0 ┆ 1.0       ┆ … ┆ 0.3       ┆ 11.27     ┆ 2.5       ┆ null      │\n",
       "│          ┆ 1         ┆ 1         ┆           ┆   ┆           ┆           ┆           ┆           │\n",
       "│          ┆ 00:28:15  ┆ 00:33:03  ┆           ┆   ┆           ┆           ┆           ┆           │\n",
       "│ 1        ┆ 2020-01-0 ┆ 2020-01-0 ┆ 1.0       ┆ … ┆ 0.3       ┆ 12.3      ┆ 2.5       ┆ null      │\n",
       "│          ┆ 1         ┆ 1         ┆           ┆   ┆           ┆           ┆           ┆           │\n",
       "│          ┆ 00:35:39  ┆ 00:43:04  ┆           ┆   ┆           ┆           ┆           ┆           │\n",
       "│ 1        ┆ 2020-01-0 ┆ 2020-01-0 ┆ 1.0       ┆ … ┆ 0.3       ┆ 10.8      ┆ 2.5       ┆ null      │\n",
       "│          ┆ 1         ┆ 1         ┆           ┆   ┆           ┆           ┆           ┆           │\n",
       "│          ┆ 00:47:41  ┆ 00:53:52  ┆           ┆   ┆           ┆           ┆           ┆           │\n",
       "│ 1        ┆ 2020-01-0 ┆ 2020-01-0 ┆ 1.0       ┆ … ┆ 0.3       ┆ 8.16      ┆ 0.0       ┆ null      │\n",
       "│          ┆ 1         ┆ 1         ┆           ┆   ┆           ┆           ┆           ┆           │\n",
       "│          ┆ 00:55:23  ┆ 01:00:14  ┆           ┆   ┆           ┆           ┆           ┆           │\n",
       "│ 2        ┆ 2020-01-0 ┆ 2020-01-0 ┆ 1.0       ┆ … ┆ 0.3       ┆ 4.8       ┆ 0.0       ┆ null      │\n",
       "│          ┆ 1         ┆ 1         ┆           ┆   ┆           ┆           ┆           ┆           │\n",
       "│          ┆ 00:01:58  ┆ 00:04:16  ┆           ┆   ┆           ┆           ┆           ┆           │\n",
       "└──────────┴───────────┴───────────┴───────────┴───┴───────────┴───────────┴───────────┴───────────┘"
      ]
     },
     "execution_count": 4,
     "metadata": {},
     "output_type": "execute_result"
    }
   ],
   "source": [
    "# df = pl.read_parquet(path)\n",
    "# df.head()"
   ]
  },
  {
   "cell_type": "code",
   "execution_count": 19,
   "metadata": {},
   "outputs": [
    {
     "data": {
      "text/html": [
       "<div><style>\n",
       ".dataframe > thead > tr,\n",
       ".dataframe > tbody > tr {\n",
       "  text-align: right;\n",
       "  white-space: pre-wrap;\n",
       "}\n",
       "</style>\n",
       "<small>shape: (5, 4)</small><table border=\"1\" class=\"dataframe\"><thead><tr><th>key</th><th>pickup_datetime_hour</th><th>pickup_location_id</th><th>num_pickups</th></tr><tr><td>str</td><td>datetime[ns]</td><td>i16</td><td>i16</td></tr></thead><tbody><tr><td>&quot;2020-01-01 00:…</td><td>2020-01-01 00:00:00</td><td>1</td><td>42</td></tr><tr><td>&quot;2020-01-01 00:…</td><td>2020-01-01 00:00:00</td><td>2</td><td>0</td></tr><tr><td>&quot;2020-01-01 00:…</td><td>2020-01-01 00:00:00</td><td>3</td><td>6</td></tr><tr><td>&quot;2020-01-01 00:…</td><td>2020-01-01 00:00:00</td><td>4</td><td>653</td></tr><tr><td>&quot;2020-01-01 00:…</td><td>2020-01-01 00:00:00</td><td>5</td><td>1</td></tr></tbody></table></div>"
      ],
      "text/plain": [
       "shape: (5, 4)\n",
       "┌─────────────────────────────────┬──────────────────────┬────────────────────┬─────────────┐\n",
       "│ key                             ┆ pickup_datetime_hour ┆ pickup_location_id ┆ num_pickups │\n",
       "│ ---                             ┆ ---                  ┆ ---                ┆ ---         │\n",
       "│ str                             ┆ datetime[ns]         ┆ i16                ┆ i16         │\n",
       "╞═════════════════════════════════╪══════════════════════╪════════════════════╪═════════════╡\n",
       "│ 2020-01-01 00:00:00.000000000-1 ┆ 2020-01-01 00:00:00  ┆ 1                  ┆ 42          │\n",
       "│ 2020-01-01 00:00:00.000000000-2 ┆ 2020-01-01 00:00:00  ┆ 2                  ┆ 0           │\n",
       "│ 2020-01-01 00:00:00.000000000-3 ┆ 2020-01-01 00:00:00  ┆ 3                  ┆ 6           │\n",
       "│ 2020-01-01 00:00:00.000000000-4 ┆ 2020-01-01 00:00:00  ┆ 4                  ┆ 653         │\n",
       "│ 2020-01-01 00:00:00.000000000-5 ┆ 2020-01-01 00:00:00  ┆ 5                  ┆ 1           │\n",
       "└─────────────────────────────────┴──────────────────────┴────────────────────┴─────────────┘"
      ]
     },
     "execution_count": 19,
     "metadata": {},
     "output_type": "execute_result"
    }
   ],
   "source": [
    "path = download_file_from_source_into_raw_folder(2020, 1)\n",
    "\n",
    "df = (\n",
    "    validate_file(path, 2020,1)\n",
    "    .pipe(aggregate_pickup_into_timeseries_data, 2020,1)\n",
    "    .pipe(generate_surrogate_key)\n",
    ")\n",
    "\n",
    "\n",
    "\n",
    "df.head()"
   ]
  },
  {
   "cell_type": "code",
   "execution_count": 20,
   "metadata": {},
   "outputs": [
    {
     "name": "stderr",
     "output_type": "stream",
     "text": [
      "Error deleting file C:\\Users\\selaf\\OneDrive\\Documentos\\dev\\real-ml-course\\taxi_demand_predictor\\data\\raw\\yellow_tripdata_2020-01.parquet: [WinError 32] El proceso no tiene acceso al archivo porque está siendo utilizado por otro proceso: 'C:\\\\Users\\\\selaf\\\\OneDrive\\\\Documentos\\\\dev\\\\real-ml-course\\\\taxi_demand_predictor\\\\data\\\\raw\\\\yellow_tripdata_2020-01.parquet'\n"
     ]
    }
   ],
   "source": [
    "file_etl(2020, 1)"
   ]
  },
  {
   "cell_type": "markdown",
   "metadata": {},
   "source": [
    "# DuckDB"
   ]
  },
  {
   "cell_type": "code",
   "execution_count": 9,
   "metadata": {},
   "outputs": [
    {
     "data": {
      "text/plain": [
       "WindowsPath('C:/Users/selaf/OneDrive/Documentos/dev/real-ml-course/taxi_demand_predictor')"
      ]
     },
     "execution_count": 9,
     "metadata": {},
     "output_type": "execute_result"
    }
   ],
   "source": [
    "PARENT_DIR"
   ]
  },
  {
   "cell_type": "code",
   "execution_count": 31,
   "metadata": {},
   "outputs": [],
   "source": [
    "# import duckdb\n",
    "\n",
    "\n",
    "# DATABASE_URL = DATA_DIR / \"dwh.duckdb\"\n",
    "# db = duckdb.connect(database=str(DATABASE_URL))\n",
    "\n",
    "\n",
    "# def create_pickup_table(db: duckdb.DuckDBPyConnection):\n",
    "#     db.execute(\"DROP TABLE IF EXISTS dwh.main.pickup_hourly;\")\n",
    "#     db.execute(\n",
    "#         \"\"\"\n",
    "#         CREATE TABLE dwh.main.pickup_hourly (\n",
    "#             key STRING PRIMARY KEY\n",
    "#             , pickup_datetime_hour TIMESTAMP\n",
    "#             , pickup_location_id SMALLINT\n",
    "#             , num_pickup SMALLINT\n",
    "#         );\n",
    "#         \"\"\"\n",
    "#     )\n",
    "    \n",
    "    \n",
    "\n",
    "    # return statement\n",
    "\n"
   ]
  },
  {
   "cell_type": "code",
   "execution_count": 3,
   "metadata": {},
   "outputs": [],
   "source": [
    "file_etl(2020, 2)"
   ]
  },
  {
   "cell_type": "code",
   "execution_count": 6,
   "metadata": {},
   "outputs": [
    {
     "name": "stderr",
     "output_type": "stream",
     "text": [
      "100%|██████████| 12/12 [00:18<00:00,  1.58s/it]\n"
     ]
    }
   ],
   "source": [
    "batch_etl(year=2020)"
   ]
  },
  {
   "cell_type": "code",
   "execution_count": null,
   "metadata": {},
   "outputs": [],
   "source": []
  }
 ],
 "metadata": {
  "kernelspec": {
   "display_name": ".venv",
   "language": "python",
   "name": "python3"
  },
  "language_info": {
   "codemirror_mode": {
    "name": "ipython",
    "version": 3
   },
   "file_extension": ".py",
   "mimetype": "text/x-python",
   "name": "python",
   "nbconvert_exporter": "python",
   "pygments_lexer": "ipython3",
   "version": "3.11.4"
  }
 },
 "nbformat": 4,
 "nbformat_minor": 2
}
