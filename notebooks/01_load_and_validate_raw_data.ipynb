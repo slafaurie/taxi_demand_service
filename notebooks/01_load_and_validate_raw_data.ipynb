{
 "cells": [
  {
   "cell_type": "code",
   "execution_count": 73,
   "metadata": {},
   "outputs": [],
   "source": [
    "%reload_ext autoreload\n",
    "%autoreload 2"
   ]
  },
  {
   "cell_type": "code",
   "execution_count": 74,
   "metadata": {},
   "outputs": [],
   "source": [
    "import os\n",
    "from pathlib import Path\n",
    "import polars as pl\n",
    "# import pandas as pd\n",
    "import requests\n",
    "from tqdm import tqdm\n",
    "from notebook_utils import insert_parent_in_path\n",
    "insert_parent_in_path()\n",
    "\n",
    "from src.etl.pipeline import fetch_raw_data\n",
    "from src.etl.transform import  transform_raw_data"
   ]
  },
  {
   "cell_type": "markdown",
   "metadata": {},
   "source": [
    "# NYC Schema"
   ]
  },
  {
   "cell_type": "code",
   "execution_count": 56,
   "metadata": {},
   "outputs": [],
   "source": [
    "from src.etl.models import NYCPickupHourlySchema"
   ]
  },
  {
   "cell_type": "code",
   "execution_count": 62,
   "metadata": {},
   "outputs": [
    {
     "data": {
      "text/plain": [
       "(polars.dataframe.frame.DataFrame, ['pickup_datetime_hour'])"
      ]
     },
     "execution_count": 62,
     "metadata": {},
     "output_type": "execute_result"
    }
   ],
   "source": [
    "NYCPickupHourlySchema._cast_datetime_columns(pl.DataFrame)"
   ]
  },
  {
   "cell_type": "code",
   "execution_count": 55,
   "metadata": {},
   "outputs": [],
   "source": [
    "initial_data = {\n",
    "    \"key\": [\"A_2023_01\", \"B_2023_01\", \"C_2023_01\"],\n",
    "    \"pickup_datetime_hour\": [\"2023-01-01 10:00:00\", \"2023-01-01 10:00:00\", \"2023-01-01 10:00:00\"],\n",
    "    \"num_pickups\": [10, 20, 30],\n",
    "    \"pickup_location_id\": [1, 2, 3]\n",
    "}\n",
    "\n",
    "# Create new data with some overlapping keys but different values\n",
    "new_data = {\n",
    "    \"key\": [\"B_2023_01\", \"C_2023_01\", \"D_2023_01\"],\n",
    "    \"pickup_datetime_hour\": [\"2023-01-01 10:00:00\", \"2023-01-01 10:00:00\", \"2023-01-01 10:00:00\"],\n",
    "    \"num_pickups\": [25, 35, 40],  # Changed values for B and C\n",
    "    \"pickup_location_id\": [2, 3, 4]\n",
    "}\n",
    "\n",
    "\n"
   ]
  },
  {
   "cell_type": "code",
   "execution_count": 67,
   "metadata": {},
   "outputs": [
    {
     "ename": "AttributeError",
     "evalue": "'str' object has no attribute 'tzinfo'",
     "output_type": "error",
     "traceback": [
      "\u001b[0;31m---------------------------------------------------------------------------\u001b[0m",
      "\u001b[0;31mAttributeError\u001b[0m                            Traceback (most recent call last)",
      "Cell \u001b[0;32mIn[67], line 10\u001b[0m\n\u001b[1;32m      1\u001b[0m initial_data \u001b[38;5;241m=\u001b[39m {\n\u001b[1;32m      2\u001b[0m     \u001b[38;5;124m\"\u001b[39m\u001b[38;5;124mkey\u001b[39m\u001b[38;5;124m\"\u001b[39m: [\u001b[38;5;124m\"\u001b[39m\u001b[38;5;124mA_2023_01\u001b[39m\u001b[38;5;124m\"\u001b[39m, \u001b[38;5;124m\"\u001b[39m\u001b[38;5;124mB_2023_01\u001b[39m\u001b[38;5;124m\"\u001b[39m, \u001b[38;5;124m\"\u001b[39m\u001b[38;5;124mC_2023_01\u001b[39m\u001b[38;5;124m\"\u001b[39m],\n\u001b[1;32m      3\u001b[0m     \u001b[38;5;124m\"\u001b[39m\u001b[38;5;124mpickup_datetime_hour\u001b[39m\u001b[38;5;124m\"\u001b[39m: [\u001b[38;5;124m\"\u001b[39m\u001b[38;5;124m2023-01-01 10:00:00\u001b[39m\u001b[38;5;124m\"\u001b[39m, \u001b[38;5;124m\"\u001b[39m\u001b[38;5;124m2023-01-01 10:00:00\u001b[39m\u001b[38;5;124m\"\u001b[39m, \u001b[38;5;124m\"\u001b[39m\u001b[38;5;124m2023-01-01 10:00:00\u001b[39m\u001b[38;5;124m\"\u001b[39m],\n\u001b[1;32m      4\u001b[0m     \u001b[38;5;124m\"\u001b[39m\u001b[38;5;124mnum_pickups\u001b[39m\u001b[38;5;124m\"\u001b[39m: [\u001b[38;5;241m10\u001b[39m, \u001b[38;5;241m20\u001b[39m, \u001b[38;5;241m30\u001b[39m],\n\u001b[1;32m      5\u001b[0m     \u001b[38;5;124m\"\u001b[39m\u001b[38;5;124mpickup_location_id\u001b[39m\u001b[38;5;124m\"\u001b[39m: [\u001b[38;5;241m1\u001b[39m, \u001b[38;5;241m2\u001b[39m, \u001b[38;5;241m3\u001b[39m]\n\u001b[1;32m      6\u001b[0m }\n\u001b[1;32m      9\u001b[0m (\n\u001b[0;32m---> 10\u001b[0m     \u001b[43mpl\u001b[49m\u001b[38;5;241;43m.\u001b[39;49m\u001b[43mDataFrame\u001b[49m\u001b[43m(\u001b[49m\u001b[43minitial_data\u001b[49m\u001b[43m,\u001b[49m\u001b[43m \u001b[49m\u001b[43mschema\u001b[49m\u001b[38;5;241;43m=\u001b[39;49m\u001b[43mNYCPickupHourlySchema\u001b[49m\u001b[38;5;241;43m.\u001b[39;49m\u001b[43mget_type_mapping\u001b[49m\u001b[43m(\u001b[49m\u001b[43m)\u001b[49m\u001b[43m)\u001b[49m\n\u001b[1;32m     11\u001b[0m )\n",
      "File \u001b[0;32m~/taxi_demand_service/.venv/lib/python3.12/site-packages/polars/dataframe/frame.py:366\u001b[0m, in \u001b[0;36mDataFrame.__init__\u001b[0;34m(self, data, schema, schema_overrides, strict, orient, infer_schema_length, nan_to_null)\u001b[0m\n\u001b[1;32m    361\u001b[0m     \u001b[38;5;28mself\u001b[39m\u001b[38;5;241m.\u001b[39m_df \u001b[38;5;241m=\u001b[39m dict_to_pydf(\n\u001b[1;32m    362\u001b[0m         {}, schema\u001b[38;5;241m=\u001b[39mschema, schema_overrides\u001b[38;5;241m=\u001b[39mschema_overrides\n\u001b[1;32m    363\u001b[0m     )\n\u001b[1;32m    365\u001b[0m \u001b[38;5;28;01melif\u001b[39;00m \u001b[38;5;28misinstance\u001b[39m(data, \u001b[38;5;28mdict\u001b[39m):\n\u001b[0;32m--> 366\u001b[0m     \u001b[38;5;28mself\u001b[39m\u001b[38;5;241m.\u001b[39m_df \u001b[38;5;241m=\u001b[39m \u001b[43mdict_to_pydf\u001b[49m\u001b[43m(\u001b[49m\n\u001b[1;32m    367\u001b[0m \u001b[43m        \u001b[49m\u001b[43mdata\u001b[49m\u001b[43m,\u001b[49m\n\u001b[1;32m    368\u001b[0m \u001b[43m        \u001b[49m\u001b[43mschema\u001b[49m\u001b[38;5;241;43m=\u001b[39;49m\u001b[43mschema\u001b[49m\u001b[43m,\u001b[49m\n\u001b[1;32m    369\u001b[0m \u001b[43m        \u001b[49m\u001b[43mschema_overrides\u001b[49m\u001b[38;5;241;43m=\u001b[39;49m\u001b[43mschema_overrides\u001b[49m\u001b[43m,\u001b[49m\n\u001b[1;32m    370\u001b[0m \u001b[43m        \u001b[49m\u001b[43mstrict\u001b[49m\u001b[38;5;241;43m=\u001b[39;49m\u001b[43mstrict\u001b[49m\u001b[43m,\u001b[49m\n\u001b[1;32m    371\u001b[0m \u001b[43m        \u001b[49m\u001b[43mnan_to_null\u001b[49m\u001b[38;5;241;43m=\u001b[39;49m\u001b[43mnan_to_null\u001b[49m\u001b[43m,\u001b[49m\n\u001b[1;32m    372\u001b[0m \u001b[43m    \u001b[49m\u001b[43m)\u001b[49m\n\u001b[1;32m    374\u001b[0m \u001b[38;5;28;01melif\u001b[39;00m \u001b[38;5;28misinstance\u001b[39m(data, (\u001b[38;5;28mlist\u001b[39m, \u001b[38;5;28mtuple\u001b[39m, Sequence)):\n\u001b[1;32m    375\u001b[0m     \u001b[38;5;28mself\u001b[39m\u001b[38;5;241m.\u001b[39m_df \u001b[38;5;241m=\u001b[39m sequence_to_pydf(\n\u001b[1;32m    376\u001b[0m         data,\n\u001b[1;32m    377\u001b[0m         schema\u001b[38;5;241m=\u001b[39mschema,\n\u001b[0;32m   (...)\u001b[0m\n\u001b[1;32m    381\u001b[0m         infer_schema_length\u001b[38;5;241m=\u001b[39minfer_schema_length,\n\u001b[1;32m    382\u001b[0m     )\n",
      "File \u001b[0;32m~/taxi_demand_service/.venv/lib/python3.12/site-packages/polars/_utils/construction/dataframe.py:161\u001b[0m, in \u001b[0;36mdict_to_pydf\u001b[0;34m(data, schema, schema_overrides, strict, nan_to_null, allow_multithreaded)\u001b[0m\n\u001b[1;32m    148\u001b[0m     data_series \u001b[38;5;241m=\u001b[39m [\n\u001b[1;32m    149\u001b[0m         pl\u001b[38;5;241m.\u001b[39mSeries(\n\u001b[1;32m    150\u001b[0m             name,\n\u001b[0;32m   (...)\u001b[0m\n\u001b[1;32m    156\u001b[0m         \u001b[38;5;28;01mfor\u001b[39;00m name \u001b[38;5;129;01min\u001b[39;00m column_names\n\u001b[1;32m    157\u001b[0m     ]\n\u001b[1;32m    158\u001b[0m \u001b[38;5;28;01melse\u001b[39;00m:\n\u001b[1;32m    159\u001b[0m     data_series \u001b[38;5;241m=\u001b[39m [\n\u001b[1;32m    160\u001b[0m         s\u001b[38;5;241m.\u001b[39m_s\n\u001b[0;32m--> 161\u001b[0m         \u001b[38;5;28;01mfor\u001b[39;00m s \u001b[38;5;129;01min\u001b[39;00m \u001b[43m_expand_dict_values\u001b[49m\u001b[43m(\u001b[49m\n\u001b[1;32m    162\u001b[0m \u001b[43m            \u001b[49m\u001b[43mdata\u001b[49m\u001b[43m,\u001b[49m\n\u001b[1;32m    163\u001b[0m \u001b[43m            \u001b[49m\u001b[43mschema_overrides\u001b[49m\u001b[38;5;241;43m=\u001b[39;49m\u001b[43mschema_overrides\u001b[49m\u001b[43m,\u001b[49m\n\u001b[1;32m    164\u001b[0m \u001b[43m            \u001b[49m\u001b[43mstrict\u001b[49m\u001b[38;5;241;43m=\u001b[39;49m\u001b[43mstrict\u001b[49m\u001b[43m,\u001b[49m\n\u001b[1;32m    165\u001b[0m \u001b[43m            \u001b[49m\u001b[43mnan_to_null\u001b[49m\u001b[38;5;241;43m=\u001b[39;49m\u001b[43mnan_to_null\u001b[49m\u001b[43m,\u001b[49m\n\u001b[1;32m    166\u001b[0m \u001b[43m        \u001b[49m\u001b[43m)\u001b[49m\u001b[38;5;241m.\u001b[39mvalues()\n\u001b[1;32m    167\u001b[0m     ]\n\u001b[1;32m    169\u001b[0m data_series \u001b[38;5;241m=\u001b[39m _handle_columns_arg(data_series, columns\u001b[38;5;241m=\u001b[39mcolumn_names, from_dict\u001b[38;5;241m=\u001b[39m\u001b[38;5;28;01mTrue\u001b[39;00m)\n\u001b[1;32m    170\u001b[0m pydf \u001b[38;5;241m=\u001b[39m PyDataFrame(data_series)\n",
      "File \u001b[0;32m~/taxi_demand_service/.venv/lib/python3.12/site-packages/polars/_utils/construction/dataframe.py:390\u001b[0m, in \u001b[0;36m_expand_dict_values\u001b[0;34m(data, schema_overrides, strict, order, nan_to_null)\u001b[0m\n\u001b[1;32m    387\u001b[0m     updated_data[name] \u001b[38;5;241m=\u001b[39m s\n\u001b[1;32m    389\u001b[0m \u001b[38;5;28;01melif\u001b[39;00m arrlen(val) \u001b[38;5;129;01mis\u001b[39;00m \u001b[38;5;129;01mnot\u001b[39;00m \u001b[38;5;28;01mNone\u001b[39;00m \u001b[38;5;129;01mor\u001b[39;00m _is_generator(val):\n\u001b[0;32m--> 390\u001b[0m     updated_data[name] \u001b[38;5;241m=\u001b[39m \u001b[43mpl\u001b[49m\u001b[38;5;241;43m.\u001b[39;49m\u001b[43mSeries\u001b[49m\u001b[43m(\u001b[49m\n\u001b[1;32m    391\u001b[0m \u001b[43m        \u001b[49m\u001b[43mname\u001b[49m\u001b[38;5;241;43m=\u001b[39;49m\u001b[43mname\u001b[49m\u001b[43m,\u001b[49m\n\u001b[1;32m    392\u001b[0m \u001b[43m        \u001b[49m\u001b[43mvalues\u001b[49m\u001b[38;5;241;43m=\u001b[39;49m\u001b[43mval\u001b[49m\u001b[43m,\u001b[49m\n\u001b[1;32m    393\u001b[0m \u001b[43m        \u001b[49m\u001b[43mdtype\u001b[49m\u001b[38;5;241;43m=\u001b[39;49m\u001b[43mdtype\u001b[49m\u001b[43m,\u001b[49m\n\u001b[1;32m    394\u001b[0m \u001b[43m        \u001b[49m\u001b[43mstrict\u001b[49m\u001b[38;5;241;43m=\u001b[39;49m\u001b[43mstrict\u001b[49m\u001b[43m,\u001b[49m\n\u001b[1;32m    395\u001b[0m \u001b[43m        \u001b[49m\u001b[43mnan_to_null\u001b[49m\u001b[38;5;241;43m=\u001b[39;49m\u001b[43mnan_to_null\u001b[49m\u001b[43m,\u001b[49m\n\u001b[1;32m    396\u001b[0m \u001b[43m    \u001b[49m\u001b[43m)\u001b[49m\n\u001b[1;32m    397\u001b[0m \u001b[38;5;28;01melif\u001b[39;00m val \u001b[38;5;129;01mis\u001b[39;00m \u001b[38;5;28;01mNone\u001b[39;00m \u001b[38;5;129;01mor\u001b[39;00m \u001b[38;5;28misinstance\u001b[39m(  \u001b[38;5;66;03m# type: ignore[redundant-expr]\u001b[39;00m\n\u001b[1;32m    398\u001b[0m     val, (\u001b[38;5;28mint\u001b[39m, \u001b[38;5;28mfloat\u001b[39m, \u001b[38;5;28mstr\u001b[39m, \u001b[38;5;28mbool\u001b[39m, date, datetime, time, timedelta)\n\u001b[1;32m    399\u001b[0m ):\n\u001b[1;32m    400\u001b[0m     updated_data[name] \u001b[38;5;241m=\u001b[39m F\u001b[38;5;241m.\u001b[39mrepeat(\n\u001b[1;32m    401\u001b[0m         val, array_len, dtype\u001b[38;5;241m=\u001b[39mdtype, eager\u001b[38;5;241m=\u001b[39m\u001b[38;5;28;01mTrue\u001b[39;00m\n\u001b[1;32m    402\u001b[0m     )\u001b[38;5;241m.\u001b[39malias(name)\n",
      "File \u001b[0;32m~/taxi_demand_service/.venv/lib/python3.12/site-packages/polars/series/series.py:289\u001b[0m, in \u001b[0;36mSeries.__init__\u001b[0;34m(self, name, values, dtype, strict, nan_to_null)\u001b[0m\n\u001b[1;32m    286\u001b[0m         \u001b[38;5;28;01mraise\u001b[39;00m \u001b[38;5;167;01mTypeError\u001b[39;00m(msg)\n\u001b[1;32m    288\u001b[0m \u001b[38;5;28;01mif\u001b[39;00m \u001b[38;5;28misinstance\u001b[39m(values, Sequence):\n\u001b[0;32m--> 289\u001b[0m     \u001b[38;5;28mself\u001b[39m\u001b[38;5;241m.\u001b[39m_s \u001b[38;5;241m=\u001b[39m \u001b[43msequence_to_pyseries\u001b[49m\u001b[43m(\u001b[49m\n\u001b[1;32m    290\u001b[0m \u001b[43m        \u001b[49m\u001b[43mname\u001b[49m\u001b[43m,\u001b[49m\n\u001b[1;32m    291\u001b[0m \u001b[43m        \u001b[49m\u001b[43mvalues\u001b[49m\u001b[43m,\u001b[49m\n\u001b[1;32m    292\u001b[0m \u001b[43m        \u001b[49m\u001b[43mdtype\u001b[49m\u001b[38;5;241;43m=\u001b[39;49m\u001b[43mdtype\u001b[49m\u001b[43m,\u001b[49m\n\u001b[1;32m    293\u001b[0m \u001b[43m        \u001b[49m\u001b[43mstrict\u001b[49m\u001b[38;5;241;43m=\u001b[39;49m\u001b[43mstrict\u001b[49m\u001b[43m,\u001b[49m\n\u001b[1;32m    294\u001b[0m \u001b[43m        \u001b[49m\u001b[43mnan_to_null\u001b[49m\u001b[38;5;241;43m=\u001b[39;49m\u001b[43mnan_to_null\u001b[49m\u001b[43m,\u001b[49m\n\u001b[1;32m    295\u001b[0m \u001b[43m    \u001b[49m\u001b[43m)\u001b[49m\n\u001b[1;32m    297\u001b[0m \u001b[38;5;28;01melif\u001b[39;00m values \u001b[38;5;129;01mis\u001b[39;00m \u001b[38;5;28;01mNone\u001b[39;00m:\n\u001b[1;32m    298\u001b[0m     \u001b[38;5;28mself\u001b[39m\u001b[38;5;241m.\u001b[39m_s \u001b[38;5;241m=\u001b[39m sequence_to_pyseries(name, [], dtype\u001b[38;5;241m=\u001b[39mdtype)\n",
      "File \u001b[0;32m~/taxi_demand_service/.venv/lib/python3.12/site-packages/polars/_utils/construction/series.py:218\u001b[0m, in \u001b[0;36msequence_to_pyseries\u001b[0;34m(name, values, dtype, strict, nan_to_null)\u001b[0m\n\u001b[1;32m    215\u001b[0m         result \u001b[38;5;241m=\u001b[39m result\u001b[38;5;241m.\u001b[39mdt\u001b[38;5;241m.\u001b[39mconvert_time_zone(time_zone)\n\u001b[1;32m    216\u001b[0m     \u001b[38;5;28;01mreturn\u001b[39;00m result\u001b[38;5;241m.\u001b[39m_s\n\u001b[0;32m--> 218\u001b[0m \u001b[38;5;28;01mif\u001b[39;00m (dtype \u001b[38;5;241m==\u001b[39m Datetime) \u001b[38;5;129;01mand\u001b[39;00m (\u001b[43mvalue\u001b[49m\u001b[38;5;241;43m.\u001b[39;49m\u001b[43mtzinfo\u001b[49m \u001b[38;5;129;01mis\u001b[39;00m \u001b[38;5;129;01mnot\u001b[39;00m \u001b[38;5;28;01mNone\u001b[39;00m \u001b[38;5;129;01mor\u001b[39;00m time_zone \u001b[38;5;129;01mis\u001b[39;00m \u001b[38;5;129;01mnot\u001b[39;00m \u001b[38;5;28;01mNone\u001b[39;00m):\n\u001b[1;32m    219\u001b[0m     \u001b[38;5;28;01mreturn\u001b[39;00m s\u001b[38;5;241m.\u001b[39mdt\u001b[38;5;241m.\u001b[39mconvert_time_zone(time_zone \u001b[38;5;129;01mor\u001b[39;00m \u001b[38;5;124m\"\u001b[39m\u001b[38;5;124mUTC\u001b[39m\u001b[38;5;124m\"\u001b[39m)\u001b[38;5;241m.\u001b[39m_s\n\u001b[1;32m    220\u001b[0m \u001b[38;5;28;01mreturn\u001b[39;00m s\u001b[38;5;241m.\u001b[39m_s\n",
      "\u001b[0;31mAttributeError\u001b[0m: 'str' object has no attribute 'tzinfo'"
     ]
    }
   ],
   "source": [
    "initial_data = {\n",
    "    \"key\": [\"A_2023_01\", \"B_2023_01\", \"C_2023_01\"],\n",
    "    \"pickup_datetime_hour\": [\"2023-01-01 10:00:00\", \"2023-01-01 10:00:00\", \"2023-01-01 10:00:00\"],\n",
    "    \"num_pickups\": [10, 20, 30],\n",
    "    \"pickup_location_id\": [1, 2, 3]\n",
    "}\n",
    "\n",
    "\n",
    "(\n",
    "    pl.DataFrame(initial_data, schema=NYCPickupHourlySchema.get_type_mapping())\n",
    ")"
   ]
  },
  {
   "cell_type": "markdown",
   "metadata": {},
   "source": [
    "# ETL single file"
   ]
  },
  {
   "cell_type": "code",
   "execution_count": 75,
   "metadata": {},
   "outputs": [
    {
     "data": {
      "text/html": [
       "<div><style>\n",
       ".dataframe > thead > tr,\n",
       ".dataframe > tbody > tr {\n",
       "  text-align: right;\n",
       "  white-space: pre-wrap;\n",
       "}\n",
       "</style>\n",
       "<small>shape: (5, 19)</small><table border=\"1\" class=\"dataframe\"><thead><tr><th>VendorID</th><th>tpep_pickup_datetime</th><th>tpep_dropoff_datetime</th><th>passenger_count</th><th>trip_distance</th><th>RatecodeID</th><th>store_and_fwd_flag</th><th>PULocationID</th><th>DOLocationID</th><th>payment_type</th><th>fare_amount</th><th>extra</th><th>mta_tax</th><th>tip_amount</th><th>tolls_amount</th><th>improvement_surcharge</th><th>total_amount</th><th>congestion_surcharge</th><th>Airport_fee</th></tr><tr><td>i32</td><td>datetime[ns]</td><td>datetime[ns]</td><td>i64</td><td>f64</td><td>i64</td><td>str</td><td>i32</td><td>i32</td><td>i64</td><td>f64</td><td>f64</td><td>f64</td><td>f64</td><td>f64</td><td>f64</td><td>f64</td><td>f64</td><td>f64</td></tr></thead><tbody><tr><td>2</td><td>2024-10-01 00:30:44</td><td>2024-10-01 00:48:26</td><td>1</td><td>3.0</td><td>1</td><td>&quot;N&quot;</td><td>162</td><td>246</td><td>1</td><td>18.4</td><td>1.0</td><td>0.5</td><td>1.5</td><td>0.0</td><td>1.0</td><td>24.9</td><td>2.5</td><td>0.0</td></tr><tr><td>1</td><td>2024-10-01 00:12:20</td><td>2024-10-01 00:25:25</td><td>1</td><td>2.2</td><td>1</td><td>&quot;N&quot;</td><td>48</td><td>236</td><td>1</td><td>14.2</td><td>3.5</td><td>0.5</td><td>3.8</td><td>0.0</td><td>1.0</td><td>23.0</td><td>2.5</td><td>0.0</td></tr><tr><td>1</td><td>2024-10-01 00:04:46</td><td>2024-10-01 00:13:52</td><td>1</td><td>2.7</td><td>1</td><td>&quot;N&quot;</td><td>142</td><td>24</td><td>1</td><td>13.5</td><td>3.5</td><td>0.5</td><td>3.7</td><td>0.0</td><td>1.0</td><td>22.2</td><td>2.5</td><td>0.0</td></tr><tr><td>1</td><td>2024-10-01 00:12:10</td><td>2024-10-01 00:23:01</td><td>1</td><td>3.1</td><td>1</td><td>&quot;N&quot;</td><td>233</td><td>75</td><td>1</td><td>14.2</td><td>3.5</td><td>0.5</td><td>2.0</td><td>0.0</td><td>1.0</td><td>21.2</td><td>2.5</td><td>0.0</td></tr><tr><td>1</td><td>2024-10-01 00:30:22</td><td>2024-10-01 00:30:39</td><td>1</td><td>0.0</td><td>1</td><td>&quot;N&quot;</td><td>262</td><td>262</td><td>3</td><td>3.0</td><td>3.5</td><td>0.5</td><td>0.0</td><td>0.0</td><td>1.0</td><td>8.0</td><td>2.5</td><td>0.0</td></tr></tbody></table></div>"
      ],
      "text/plain": [
       "shape: (5, 19)\n",
       "┌──────────┬───────────┬───────────┬───────────┬───┬───────────┬───────────┬───────────┬───────────┐\n",
       "│ VendorID ┆ tpep_pick ┆ tpep_drop ┆ passenger ┆ … ┆ improveme ┆ total_amo ┆ congestio ┆ Airport_f │\n",
       "│ ---      ┆ up_dateti ┆ off_datet ┆ _count    ┆   ┆ nt_surcha ┆ unt       ┆ n_surchar ┆ ee        │\n",
       "│ i32      ┆ me        ┆ ime       ┆ ---       ┆   ┆ rge       ┆ ---       ┆ ge        ┆ ---       │\n",
       "│          ┆ ---       ┆ ---       ┆ i64       ┆   ┆ ---       ┆ f64       ┆ ---       ┆ f64       │\n",
       "│          ┆ datetime[ ┆ datetime[ ┆           ┆   ┆ f64       ┆           ┆ f64       ┆           │\n",
       "│          ┆ ns]       ┆ ns]       ┆           ┆   ┆           ┆           ┆           ┆           │\n",
       "╞══════════╪═══════════╪═══════════╪═══════════╪═══╪═══════════╪═══════════╪═══════════╪═══════════╡\n",
       "│ 2        ┆ 2024-10-0 ┆ 2024-10-0 ┆ 1         ┆ … ┆ 1.0       ┆ 24.9      ┆ 2.5       ┆ 0.0       │\n",
       "│          ┆ 1         ┆ 1         ┆           ┆   ┆           ┆           ┆           ┆           │\n",
       "│          ┆ 00:30:44  ┆ 00:48:26  ┆           ┆   ┆           ┆           ┆           ┆           │\n",
       "│ 1        ┆ 2024-10-0 ┆ 2024-10-0 ┆ 1         ┆ … ┆ 1.0       ┆ 23.0      ┆ 2.5       ┆ 0.0       │\n",
       "│          ┆ 1         ┆ 1         ┆           ┆   ┆           ┆           ┆           ┆           │\n",
       "│          ┆ 00:12:20  ┆ 00:25:25  ┆           ┆   ┆           ┆           ┆           ┆           │\n",
       "│ 1        ┆ 2024-10-0 ┆ 2024-10-0 ┆ 1         ┆ … ┆ 1.0       ┆ 22.2      ┆ 2.5       ┆ 0.0       │\n",
       "│          ┆ 1         ┆ 1         ┆           ┆   ┆           ┆           ┆           ┆           │\n",
       "│          ┆ 00:04:46  ┆ 00:13:52  ┆           ┆   ┆           ┆           ┆           ┆           │\n",
       "│ 1        ┆ 2024-10-0 ┆ 2024-10-0 ┆ 1         ┆ … ┆ 1.0       ┆ 21.2      ┆ 2.5       ┆ 0.0       │\n",
       "│          ┆ 1         ┆ 1         ┆           ┆   ┆           ┆           ┆           ┆           │\n",
       "│          ┆ 00:12:10  ┆ 00:23:01  ┆           ┆   ┆           ┆           ┆           ┆           │\n",
       "│ 1        ┆ 2024-10-0 ┆ 2024-10-0 ┆ 1         ┆ … ┆ 1.0       ┆ 8.0       ┆ 2.5       ┆ 0.0       │\n",
       "│          ┆ 1         ┆ 1         ┆           ┆   ┆           ┆           ┆           ┆           │\n",
       "│          ┆ 00:30:22  ┆ 00:30:39  ┆           ┆   ┆           ┆           ┆           ┆           │\n",
       "└──────────┴───────────┴───────────┴───────────┴───┴───────────┴───────────┴───────────┴───────────┘"
      ]
     },
     "execution_count": 75,
     "metadata": {},
     "output_type": "execute_result"
    }
   ],
   "source": [
    "df = fetch_raw_data(year=2024, month=10)\n",
    "df.head()"
   ]
  },
  {
   "cell_type": "code",
   "execution_count": 77,
   "metadata": {},
   "outputs": [
    {
     "name": "stdout",
     "output_type": "stream",
     "text": [
      "2025-02-09 18:15:16,106 - src.etl.transform - INFO - Validate data for year: 2024 and month: 10\n",
      "2025-02-09 18:15:16,107 - src.etl.transform - INFO - Total records: 3833771\n",
      "2025-02-09 18:15:16,107 - src.etl.transform - INFO - Records deleted: 40\n",
      "2025-02-09 18:15:16,109 - src.etl.transform - INFO - Percentage: 100.00%\n",
      "2025-02-09 18:15:16,183 - src.etl.transform - INFO - Aggregating data to hourly frequency\n"
     ]
    },
    {
     "data": {
      "text/html": [
       "<div><style>\n",
       ".dataframe > thead > tr,\n",
       ".dataframe > tbody > tr {\n",
       "  text-align: right;\n",
       "  white-space: pre-wrap;\n",
       "}\n",
       "</style>\n",
       "<small>shape: (5, 4)</small><table border=\"1\" class=\"dataframe\"><thead><tr><th>key</th><th>pickup_datetime_hour</th><th>num_pickups</th><th>pickup_location_id</th></tr><tr><td>str</td><td>datetime[μs]</td><td>i32</td><td>i32</td></tr></thead><tbody><tr><td>&quot;2024-10-01 00:00:00.000000-1&quot;</td><td>2024-10-01 00:00:00</td><td>0</td><td>1</td></tr><tr><td>&quot;2024-10-01 00:00:00.000000-2&quot;</td><td>2024-10-01 00:00:00</td><td>0</td><td>2</td></tr><tr><td>&quot;2024-10-01 00:00:00.000000-3&quot;</td><td>2024-10-01 00:00:00</td><td>0</td><td>3</td></tr><tr><td>&quot;2024-10-01 00:00:00.000000-4&quot;</td><td>2024-10-01 00:00:00</td><td>2</td><td>4</td></tr><tr><td>&quot;2024-10-01 00:00:00.000000-5&quot;</td><td>2024-10-01 00:00:00</td><td>0</td><td>5</td></tr></tbody></table></div>"
      ],
      "text/plain": [
       "shape: (5, 4)\n",
       "┌──────────────────────────────┬──────────────────────┬─────────────┬────────────────────┐\n",
       "│ key                          ┆ pickup_datetime_hour ┆ num_pickups ┆ pickup_location_id │\n",
       "│ ---                          ┆ ---                  ┆ ---         ┆ ---                │\n",
       "│ str                          ┆ datetime[μs]         ┆ i32         ┆ i32                │\n",
       "╞══════════════════════════════╪══════════════════════╪═════════════╪════════════════════╡\n",
       "│ 2024-10-01 00:00:00.000000-1 ┆ 2024-10-01 00:00:00  ┆ 0           ┆ 1                  │\n",
       "│ 2024-10-01 00:00:00.000000-2 ┆ 2024-10-01 00:00:00  ┆ 0           ┆ 2                  │\n",
       "│ 2024-10-01 00:00:00.000000-3 ┆ 2024-10-01 00:00:00  ┆ 0           ┆ 3                  │\n",
       "│ 2024-10-01 00:00:00.000000-4 ┆ 2024-10-01 00:00:00  ┆ 2           ┆ 4                  │\n",
       "│ 2024-10-01 00:00:00.000000-5 ┆ 2024-10-01 00:00:00  ┆ 0           ┆ 5                  │\n",
       "└──────────────────────────────┴──────────────────────┴─────────────┴────────────────────┘"
      ]
     },
     "execution_count": 77,
     "metadata": {},
     "output_type": "execute_result"
    }
   ],
   "source": [
    "clean_data = transform_raw_data(df, 2024, 10)\n",
    "clean_data.head()"
   ]
  },
  {
   "cell_type": "markdown",
   "metadata": {},
   "source": [
    "# Saving to Local Repo"
   ]
  },
  {
   "cell_type": "code",
   "execution_count": 69,
   "metadata": {},
   "outputs": [
    {
     "name": "stdout",
     "output_type": "stream",
     "text": [
      "2025-02-09 18:13:15,362 - src.repository.local_repo - INFO - Created nyc_trips.main.pickup_hourly table\n"
     ]
    }
   ],
   "source": [
    "from src.repository.local_repo import LocalRepository\n",
    "repo = LocalRepository()\n",
    "repo.create_tables()"
   ]
  },
  {
   "cell_type": "code",
   "execution_count": 78,
   "metadata": {},
   "outputs": [
    {
     "name": "stdout",
     "output_type": "stream",
     "text": [
      "2025-02-09 18:15:37,120 - src.repository.local_repo - INFO - No existing data found\n"
     ]
    }
   ],
   "source": [
    "repo.upsert_pickup_data(clean_data)"
   ]
  },
  {
   "cell_type": "code",
   "execution_count": 83,
   "metadata": {},
   "outputs": [
    {
     "name": "stdout",
     "output_type": "stream",
     "text": [
      "2025-02-09 18:29:53,152 - src.repository.duck_repo - INFO - Running DB in mode LOCAL\n",
      "2025-02-09 18:29:53,167 - src.repository.duck_repo - INFO - Created nyc_trips.main.pickup_hourly table\n",
      "2025-02-09 18:29:56,530 - src.etl.transform - INFO - Validate data for year: 2024 and month: 10\n",
      "2025-02-09 18:29:56,531 - src.etl.transform - INFO - Total records: 3833771\n",
      "2025-02-09 18:29:56,532 - src.etl.transform - INFO - Records deleted: 40\n",
      "2025-02-09 18:29:56,533 - src.etl.transform - INFO - Percentage: 100.00%\n",
      "2025-02-09 18:29:56,585 - src.etl.transform - INFO - Aggregating data to hourly frequency\n",
      "2025-02-09 18:29:58,434 - src.repository.duck_repo - INFO - Upserted into dwh.main.pickup_hourly\n"
     ]
    }
   ],
   "source": [
    "from src.etl.pipeline import file_etl\n",
    "from src.repository.duck_repo import DuckDBRepository\n",
    "\n",
    "\n",
    "\n",
    "duck_repo = DuckDBRepository(db_mode='LOCAL')\n",
    "\n",
    "duck_repo.create_tables()\n",
    "\n",
    "\n",
    "file_etl(duck_repo, 2024, 10)"
   ]
  },
  {
   "cell_type": "markdown",
   "metadata": {},
   "source": [
    "# DuckDB Repository"
   ]
  },
  {
   "cell_type": "code",
   "execution_count": null,
   "metadata": {},
   "outputs": [],
   "source": []
  },
  {
   "cell_type": "code",
   "execution_count": 25,
   "metadata": {},
   "outputs": [
    {
     "data": {
      "text/plain": [
       "[datetime.date(2023, 3, 1),\n",
       " datetime.date(2023, 4, 1),\n",
       " datetime.date(2023, 5, 1),\n",
       " datetime.date(2023, 6, 1),\n",
       " datetime.date(2023, 7, 1),\n",
       " datetime.date(2023, 8, 1),\n",
       " datetime.date(2023, 9, 1),\n",
       " datetime.date(2023, 10, 1),\n",
       " datetime.date(2023, 11, 1),\n",
       " datetime.date(2023, 12, 1),\n",
       " datetime.date(2024, 1, 1),\n",
       " datetime.date(2024, 2, 1),\n",
       " datetime.date(2024, 3, 1),\n",
       " datetime.date(2024, 4, 1),\n",
       " datetime.date(2024, 5, 1),\n",
       " datetime.date(2024, 6, 1),\n",
       " datetime.date(2024, 7, 1)]"
      ]
     },
     "execution_count": 25,
     "metadata": {},
     "output_type": "execute_result"
    }
   ],
   "source": [
    "from datetime import datetime, date \n",
    "\n",
    "\n",
    "\n",
    "from_date = date(2023,3,5)\n",
    "to_date = date(2024,7,29)\n",
    "\n",
    "def truncate_start_of_month(x:date):\n",
    "    return date(x.year, x.month, 1)\n",
    "\n",
    "def generate_list_of_months(from_date:date, to_date:date):\n",
    "    from_date = truncate_start_of_month(from_date)\n",
    "    to_date = truncate_start_of_month(to_date)\n",
    "\n",
    "    current_date = from_date\n",
    "    dates = []\n",
    "    while current_date <= to_date:\n",
    "        dates.append(current_date)\n",
    "        if current_date.month == 12:\n",
    "            current_date = date(current_date.year+1, 1,1)\n",
    "        else:\n",
    "            current_date = date(current_date.year, current_date.month+1, 1)\n",
    "    return dates\n",
    "    \n",
    "    \n"
   ]
  },
  {
   "cell_type": "markdown",
   "metadata": {},
   "source": [
    "# Download files"
   ]
  },
  {
   "cell_type": "code",
   "execution_count": 9,
   "metadata": {},
   "outputs": [],
   "source": [
    "\n",
    "# def download_file_from_source_into_raw_folder(year:int, month:int) -> Path:\n",
    "#     file = RAW_DATA_DIR / Path(FILE_PATTERN.format(year=year, month=month))\n",
    "#     url = BASE_URL.format(year=year, month=month)\n",
    "#     response = requests.get(url)\n",
    "#     response.raise_for_status()\n",
    "#     if response.status_code == 200:\n",
    "#         logger.info(f\"Downloading file from {url} to {file}\")\n",
    "#         with open(file, \"wb\") as f:\n",
    "#             f.write(response.content)\n",
    "#     return file\n",
    "\n",
    "\n"
   ]
  },
  {
   "cell_type": "markdown",
   "metadata": {},
   "source": [
    "# Validate a file\n",
    "- Timestamp are within the file month. e.g, a file named `2020-07-01.csv` should have all timestamps within July 2020."
   ]
  },
  {
   "cell_type": "code",
   "execution_count": 10,
   "metadata": {},
   "outputs": [],
   "source": [
    "# df = pl.read_parquet(path)\n",
    "# df.head()"
   ]
  },
  {
   "cell_type": "code",
   "execution_count": 11,
   "metadata": {},
   "outputs": [
    {
     "name": "stdout",
     "output_type": "stream",
     "text": [
      "2024-12-02 07:51:02,258 - src.data - INFO - Downloading file from https://d37ci6vzurychx.cloudfront.net/trip-data/yellow_tripdata_2020-01.parquet to C:\\Users\\selaf\\OneDrive\\Documentos\\dev\\real-ml-course\\taxi_demand_predictor\\data\\raw\\yellow_tripdata_2020-01.parquet\n",
      "2024-12-02 07:51:03,779 - src.data - INFO - Validation for file: C:\\Users\\selaf\\OneDrive\\Documentos\\dev\\real-ml-course\\taxi_demand_predictor\\data\\raw\\yellow_tripdata_2020-01.parquet\n",
      "2024-12-02 07:51:03,782 - src.data - INFO - Total records: 6405008\n",
      "2024-12-02 07:51:03,784 - src.data - INFO - Records deleted: 212\n",
      "2024-12-02 07:51:03,785 - src.data - INFO - Percentage: 100.00%\n"
     ]
    },
    {
     "data": {
      "text/html": [
       "<div><style>\n",
       ".dataframe > thead > tr,\n",
       ".dataframe > tbody > tr {\n",
       "  text-align: right;\n",
       "  white-space: pre-wrap;\n",
       "}\n",
       "</style>\n",
       "<small>shape: (5, 4)</small><table border=\"1\" class=\"dataframe\"><thead><tr><th>key</th><th>pickup_datetime_hour</th><th>pickup_location_id</th><th>num_pickups</th></tr><tr><td>str</td><td>datetime[ns]</td><td>i16</td><td>i16</td></tr></thead><tbody><tr><td>&quot;2020-01-01 00:00:00.000000000-…</td><td>2020-01-01 00:00:00</td><td>1</td><td>0</td></tr><tr><td>&quot;2020-01-01 00:00:00.000000000-…</td><td>2020-01-01 00:00:00</td><td>2</td><td>0</td></tr><tr><td>&quot;2020-01-01 00:00:00.000000000-…</td><td>2020-01-01 00:00:00</td><td>3</td><td>1</td></tr><tr><td>&quot;2020-01-01 00:00:00.000000000-…</td><td>2020-01-01 00:00:00</td><td>4</td><td>57</td></tr><tr><td>&quot;2020-01-01 00:00:00.000000000-…</td><td>2020-01-01 00:00:00</td><td>5</td><td>0</td></tr></tbody></table></div>"
      ],
      "text/plain": [
       "shape: (5, 4)\n",
       "┌─────────────────────────────────┬──────────────────────┬────────────────────┬─────────────┐\n",
       "│ key                             ┆ pickup_datetime_hour ┆ pickup_location_id ┆ num_pickups │\n",
       "│ ---                             ┆ ---                  ┆ ---                ┆ ---         │\n",
       "│ str                             ┆ datetime[ns]         ┆ i16                ┆ i16         │\n",
       "╞═════════════════════════════════╪══════════════════════╪════════════════════╪═════════════╡\n",
       "│ 2020-01-01 00:00:00.000000000-… ┆ 2020-01-01 00:00:00  ┆ 1                  ┆ 0           │\n",
       "│ 2020-01-01 00:00:00.000000000-… ┆ 2020-01-01 00:00:00  ┆ 2                  ┆ 0           │\n",
       "│ 2020-01-01 00:00:00.000000000-… ┆ 2020-01-01 00:00:00  ┆ 3                  ┆ 1           │\n",
       "│ 2020-01-01 00:00:00.000000000-… ┆ 2020-01-01 00:00:00  ┆ 4                  ┆ 57          │\n",
       "│ 2020-01-01 00:00:00.000000000-… ┆ 2020-01-01 00:00:00  ┆ 5                  ┆ 0           │\n",
       "└─────────────────────────────────┴──────────────────────┴────────────────────┴─────────────┘"
      ]
     },
     "execution_count": 11,
     "metadata": {},
     "output_type": "execute_result"
    }
   ],
   "source": [
    "path = download_file_from_source_into_raw_folder(2020, 1)\n",
    "\n",
    "df = (\n",
    "    validate_file(path, 2020,1)\n",
    "    .pipe(aggregate_pickup_into_timeseries_data, 2020,1)\n",
    "    .pipe(generate_surrogate_key)\n",
    ")\n",
    "\n",
    "\n",
    "\n",
    "df.head()"
   ]
  },
  {
   "cell_type": "code",
   "execution_count": 12,
   "metadata": {},
   "outputs": [
    {
     "name": "stdout",
     "output_type": "stream",
     "text": [
      "2024-12-02 07:51:11,765 - src.data - INFO - Downloading file from https://d37ci6vzurychx.cloudfront.net/trip-data/yellow_tripdata_2020-01.parquet to C:\\Users\\selaf\\OneDrive\\Documentos\\dev\\real-ml-course\\taxi_demand_predictor\\data\\raw\\yellow_tripdata_2020-01.parquet\n",
      "2024-12-02 07:51:12,694 - src.data - INFO - Validation for file: C:\\Users\\selaf\\OneDrive\\Documentos\\dev\\real-ml-course\\taxi_demand_predictor\\data\\raw\\yellow_tripdata_2020-01.parquet\n",
      "2024-12-02 07:51:12,695 - src.data - INFO - Total records: 6405008\n",
      "2024-12-02 07:51:12,697 - src.data - INFO - Records deleted: 212\n",
      "2024-12-02 07:51:12,698 - src.data - INFO - Percentage: 100.00%\n",
      "2024-12-02 07:51:13,806 - src.data - INFO - Deleted file: C:\\Users\\selaf\\OneDrive\\Documentos\\dev\\real-ml-course\\taxi_demand_predictor\\data\\raw\\yellow_tripdata_2020-01.parquet\n",
      "2024-12-02 07:51:15,205 - src.dwh - INFO - Upserted C:\\Users\\selaf\\OneDrive\\Documentos\\dev\\real-ml-course\\taxi_demand_predictor\\data\\processed\\yellow_tripdata_2020-01.parquet into dwh.main.pickup_hourly\n",
      "2024-12-02 07:51:15,208 - src.data - INFO - Deleted file: C:\\Users\\selaf\\OneDrive\\Documentos\\dev\\real-ml-course\\taxi_demand_predictor\\data\\processed\\yellow_tripdata_2020-01.parquet\n"
     ]
    }
   ],
   "source": [
    "file_etl(2020, 1)"
   ]
  },
  {
   "cell_type": "markdown",
   "metadata": {},
   "source": [
    "# DuckDB"
   ]
  },
  {
   "cell_type": "code",
   "execution_count": 13,
   "metadata": {},
   "outputs": [
    {
     "data": {
      "text/plain": [
       "WindowsPath('C:/Users/selaf/OneDrive/Documentos/dev/real-ml-course/taxi_demand_predictor')"
      ]
     },
     "execution_count": 13,
     "metadata": {},
     "output_type": "execute_result"
    }
   ],
   "source": [
    "PARENT_DIR"
   ]
  },
  {
   "cell_type": "code",
   "execution_count": 14,
   "metadata": {},
   "outputs": [],
   "source": [
    "# import duckdb\n",
    "\n",
    "\n",
    "# DATABASE_URL = DATA_DIR / \"dwh.duckdb\"\n",
    "# db = duckdb.connect(database=str(DATABASE_URL))\n",
    "\n",
    "\n",
    "# def create_pickup_table(db: duckdb.DuckDBPyConnection):\n",
    "#     db.execute(\"DROP TABLE IF EXISTS dwh.main.pickup_hourly;\")\n",
    "#     db.execute(\n",
    "#         \"\"\"\n",
    "#         CREATE TABLE dwh.main.pickup_hourly (\n",
    "#             key STRING PRIMARY KEY\n",
    "#             , pickup_datetime_hour TIMESTAMP\n",
    "#             , pickup_location_id SMALLINT\n",
    "#             , num_pickup SMALLINT\n",
    "#         );\n",
    "#         \"\"\"\n",
    "#     )\n",
    "    \n",
    "    \n",
    "\n",
    "    # return statement\n",
    "\n"
   ]
  },
  {
   "cell_type": "code",
   "execution_count": 15,
   "metadata": {},
   "outputs": [
    {
     "name": "stdout",
     "output_type": "stream",
     "text": [
      "2024-12-02 07:51:18,823 - src.data - INFO - Downloading file from https://d37ci6vzurychx.cloudfront.net/trip-data/yellow_tripdata_2020-02.parquet to C:\\Users\\selaf\\OneDrive\\Documentos\\dev\\real-ml-course\\taxi_demand_predictor\\data\\raw\\yellow_tripdata_2020-02.parquet\n",
      "2024-12-02 07:51:20,458 - src.data - INFO - Validation for file: C:\\Users\\selaf\\OneDrive\\Documentos\\dev\\real-ml-course\\taxi_demand_predictor\\data\\raw\\yellow_tripdata_2020-02.parquet\n",
      "2024-12-02 07:51:20,459 - src.data - INFO - Total records: 6299367\n",
      "2024-12-02 07:51:20,460 - src.data - INFO - Records deleted: 303\n",
      "2024-12-02 07:51:20,461 - src.data - INFO - Percentage: 100.00%\n",
      "2024-12-02 07:51:20,664 - src.data - INFO - Deleted file: C:\\Users\\selaf\\OneDrive\\Documentos\\dev\\real-ml-course\\taxi_demand_predictor\\data\\raw\\yellow_tripdata_2020-02.parquet\n",
      "2024-12-02 07:51:21,596 - src.dwh - INFO - Upserted C:\\Users\\selaf\\OneDrive\\Documentos\\dev\\real-ml-course\\taxi_demand_predictor\\data\\processed\\yellow_tripdata_2020-02.parquet into dwh.main.pickup_hourly\n",
      "2024-12-02 07:51:21,597 - src.data - INFO - Deleted file: C:\\Users\\selaf\\OneDrive\\Documentos\\dev\\real-ml-course\\taxi_demand_predictor\\data\\processed\\yellow_tripdata_2020-02.parquet\n"
     ]
    }
   ],
   "source": [
    "file_etl(2020, 2)"
   ]
  },
  {
   "cell_type": "code",
   "execution_count": 16,
   "metadata": {},
   "outputs": [
    {
     "name": "stdout",
     "output_type": "stream",
     "text": [
      "2024-12-02 07:51:21,695 - src.data - INFO - Downloading data for year 2020\n"
     ]
    },
    {
     "name": "stderr",
     "output_type": "stream",
     "text": [
      "  0%|          | 0/12 [00:00<?, ?it/s]"
     ]
    },
    {
     "name": "stdout",
     "output_type": "stream",
     "text": [
      "2024-12-02 07:51:24,256 - src.data - INFO - Downloading file from https://d37ci6vzurychx.cloudfront.net/trip-data/yellow_tripdata_2020-01.parquet to C:\\Users\\selaf\\OneDrive\\Documentos\\dev\\real-ml-course\\taxi_demand_predictor\\data\\raw\\yellow_tripdata_2020-01.parquet\n",
      "2024-12-02 07:51:25,149 - src.data - INFO - Validation for file: C:\\Users\\selaf\\OneDrive\\Documentos\\dev\\real-ml-course\\taxi_demand_predictor\\data\\raw\\yellow_tripdata_2020-01.parquet\n",
      "2024-12-02 07:51:25,150 - src.data - INFO - Total records: 6405008\n",
      "2024-12-02 07:51:25,150 - src.data - INFO - Records deleted: 212\n",
      "2024-12-02 07:51:25,151 - src.data - INFO - Percentage: 100.00%\n",
      "2024-12-02 07:51:25,515 - src.data - INFO - Deleted file: C:\\Users\\selaf\\OneDrive\\Documentos\\dev\\real-ml-course\\taxi_demand_predictor\\data\\raw\\yellow_tripdata_2020-01.parquet\n",
      "2024-12-02 07:51:26,320 - src.dwh - INFO - Upserted C:\\Users\\selaf\\OneDrive\\Documentos\\dev\\real-ml-course\\taxi_demand_predictor\\data\\processed\\yellow_tripdata_2020-01.parquet into dwh.main.pickup_hourly\n",
      "2024-12-02 07:51:26,324 - src.data - INFO - Deleted file: C:\\Users\\selaf\\OneDrive\\Documentos\\dev\\real-ml-course\\taxi_demand_predictor\\data\\processed\\yellow_tripdata_2020-01.parquet\n"
     ]
    },
    {
     "name": "stderr",
     "output_type": "stream",
     "text": [
      "  8%|▊         | 1/12 [00:04<00:50,  4.61s/it]"
     ]
    },
    {
     "name": "stdout",
     "output_type": "stream",
     "text": [
      "2024-12-02 07:51:28,678 - src.data - INFO - Downloading file from https://d37ci6vzurychx.cloudfront.net/trip-data/yellow_tripdata_2020-02.parquet to C:\\Users\\selaf\\OneDrive\\Documentos\\dev\\real-ml-course\\taxi_demand_predictor\\data\\raw\\yellow_tripdata_2020-02.parquet\n",
      "2024-12-02 07:51:29,560 - src.data - INFO - Validation for file: C:\\Users\\selaf\\OneDrive\\Documentos\\dev\\real-ml-course\\taxi_demand_predictor\\data\\raw\\yellow_tripdata_2020-02.parquet\n",
      "2024-12-02 07:51:29,561 - src.data - INFO - Total records: 6299367\n",
      "2024-12-02 07:51:29,562 - src.data - INFO - Records deleted: 303\n",
      "2024-12-02 07:51:29,562 - src.data - INFO - Percentage: 100.00%\n",
      "2024-12-02 07:51:29,780 - src.data - INFO - Deleted file: C:\\Users\\selaf\\OneDrive\\Documentos\\dev\\real-ml-course\\taxi_demand_predictor\\data\\raw\\yellow_tripdata_2020-02.parquet\n",
      "2024-12-02 07:51:30,503 - src.dwh - INFO - Upserted C:\\Users\\selaf\\OneDrive\\Documentos\\dev\\real-ml-course\\taxi_demand_predictor\\data\\processed\\yellow_tripdata_2020-02.parquet into dwh.main.pickup_hourly\n",
      "2024-12-02 07:51:30,505 - src.data - INFO - Deleted file: C:\\Users\\selaf\\OneDrive\\Documentos\\dev\\real-ml-course\\taxi_demand_predictor\\data\\processed\\yellow_tripdata_2020-02.parquet\n"
     ]
    },
    {
     "name": "stderr",
     "output_type": "stream",
     "text": [
      " 17%|█▋        | 2/12 [00:08<00:43,  4.35s/it]"
     ]
    },
    {
     "name": "stdout",
     "output_type": "stream",
     "text": [
      "2024-12-02 07:51:32,743 - src.data - INFO - Downloading file from https://d37ci6vzurychx.cloudfront.net/trip-data/yellow_tripdata_2020-03.parquet to C:\\Users\\selaf\\OneDrive\\Documentos\\dev\\real-ml-course\\taxi_demand_predictor\\data\\raw\\yellow_tripdata_2020-03.parquet\n",
      "2024-12-02 07:51:33,257 - src.data - INFO - Validation for file: C:\\Users\\selaf\\OneDrive\\Documentos\\dev\\real-ml-course\\taxi_demand_predictor\\data\\raw\\yellow_tripdata_2020-03.parquet\n",
      "2024-12-02 07:51:33,258 - src.data - INFO - Total records: 3007687\n",
      "2024-12-02 07:51:33,258 - src.data - INFO - Records deleted: 426\n",
      "2024-12-02 07:51:33,259 - src.data - INFO - Percentage: 99.99%\n",
      "2024-12-02 07:51:33,358 - src.data - INFO - Deleted file: C:\\Users\\selaf\\OneDrive\\Documentos\\dev\\real-ml-course\\taxi_demand_predictor\\data\\raw\\yellow_tripdata_2020-03.parquet\n",
      "2024-12-02 07:51:34,250 - src.dwh - INFO - Upserted C:\\Users\\selaf\\OneDrive\\Documentos\\dev\\real-ml-course\\taxi_demand_predictor\\data\\processed\\yellow_tripdata_2020-03.parquet into dwh.main.pickup_hourly\n",
      "2024-12-02 07:51:34,252 - src.data - INFO - Deleted file: C:\\Users\\selaf\\OneDrive\\Documentos\\dev\\real-ml-course\\taxi_demand_predictor\\data\\processed\\yellow_tripdata_2020-03.parquet\n"
     ]
    },
    {
     "name": "stderr",
     "output_type": "stream",
     "text": [
      " 25%|██▌       | 3/12 [00:12<00:36,  4.08s/it]"
     ]
    },
    {
     "name": "stdout",
     "output_type": "stream",
     "text": [
      "2024-12-02 07:51:35,310 - src.data - INFO - Downloading file from https://d37ci6vzurychx.cloudfront.net/trip-data/yellow_tripdata_2020-04.parquet to C:\\Users\\selaf\\OneDrive\\Documentos\\dev\\real-ml-course\\taxi_demand_predictor\\data\\raw\\yellow_tripdata_2020-04.parquet\n",
      "2024-12-02 07:51:35,419 - src.data - INFO - Validation for file: C:\\Users\\selaf\\OneDrive\\Documentos\\dev\\real-ml-course\\taxi_demand_predictor\\data\\raw\\yellow_tripdata_2020-04.parquet\n",
      "2024-12-02 07:51:35,420 - src.data - INFO - Total records: 238073\n",
      "2024-12-02 07:51:35,420 - src.data - INFO - Records deleted: 132\n",
      "2024-12-02 07:51:35,421 - src.data - INFO - Percentage: 99.94%\n",
      "2024-12-02 07:51:35,430 - src.data - INFO - Deleted file: C:\\Users\\selaf\\OneDrive\\Documentos\\dev\\real-ml-course\\taxi_demand_predictor\\data\\raw\\yellow_tripdata_2020-04.parquet\n",
      "2024-12-02 07:51:36,237 - src.dwh - INFO - Upserted C:\\Users\\selaf\\OneDrive\\Documentos\\dev\\real-ml-course\\taxi_demand_predictor\\data\\processed\\yellow_tripdata_2020-04.parquet into dwh.main.pickup_hourly\n",
      "2024-12-02 07:51:36,238 - src.data - INFO - Deleted file: C:\\Users\\selaf\\OneDrive\\Documentos\\dev\\real-ml-course\\taxi_demand_predictor\\data\\processed\\yellow_tripdata_2020-04.parquet\n"
     ]
    },
    {
     "name": "stderr",
     "output_type": "stream",
     "text": [
      " 33%|███▎      | 4/12 [00:14<00:26,  3.25s/it]"
     ]
    },
    {
     "name": "stdout",
     "output_type": "stream",
     "text": [
      "2024-12-02 07:51:37,523 - src.data - INFO - Downloading file from https://d37ci6vzurychx.cloudfront.net/trip-data/yellow_tripdata_2020-05.parquet to C:\\Users\\selaf\\OneDrive\\Documentos\\dev\\real-ml-course\\taxi_demand_predictor\\data\\raw\\yellow_tripdata_2020-05.parquet\n",
      "2024-12-02 07:51:37,615 - src.data - INFO - Validation for file: C:\\Users\\selaf\\OneDrive\\Documentos\\dev\\real-ml-course\\taxi_demand_predictor\\data\\raw\\yellow_tripdata_2020-05.parquet\n",
      "2024-12-02 07:51:37,616 - src.data - INFO - Total records: 348415\n",
      "2024-12-02 07:51:37,617 - src.data - INFO - Records deleted: 23\n",
      "2024-12-02 07:51:37,618 - src.data - INFO - Percentage: 99.99%\n",
      "2024-12-02 07:51:37,627 - src.data - INFO - Deleted file: C:\\Users\\selaf\\OneDrive\\Documentos\\dev\\real-ml-course\\taxi_demand_predictor\\data\\raw\\yellow_tripdata_2020-05.parquet\n",
      "2024-12-02 07:51:38,428 - src.dwh - INFO - Upserted C:\\Users\\selaf\\OneDrive\\Documentos\\dev\\real-ml-course\\taxi_demand_predictor\\data\\processed\\yellow_tripdata_2020-05.parquet into dwh.main.pickup_hourly\n",
      "2024-12-02 07:51:38,429 - src.data - INFO - Deleted file: C:\\Users\\selaf\\OneDrive\\Documentos\\dev\\real-ml-course\\taxi_demand_predictor\\data\\processed\\yellow_tripdata_2020-05.parquet\n"
     ]
    },
    {
     "name": "stderr",
     "output_type": "stream",
     "text": [
      " 42%|████▏     | 5/12 [00:16<00:20,  2.87s/it]"
     ]
    },
    {
     "name": "stdout",
     "output_type": "stream",
     "text": [
      "2024-12-02 07:51:39,756 - src.data - INFO - Downloading file from https://d37ci6vzurychx.cloudfront.net/trip-data/yellow_tripdata_2020-06.parquet to C:\\Users\\selaf\\OneDrive\\Documentos\\dev\\real-ml-course\\taxi_demand_predictor\\data\\raw\\yellow_tripdata_2020-06.parquet\n",
      "2024-12-02 07:51:39,834 - src.data - INFO - Validation for file: C:\\Users\\selaf\\OneDrive\\Documentos\\dev\\real-ml-course\\taxi_demand_predictor\\data\\raw\\yellow_tripdata_2020-06.parquet\n",
      "2024-12-02 07:51:39,835 - src.data - INFO - Total records: 549797\n",
      "2024-12-02 07:51:39,836 - src.data - INFO - Records deleted: 9\n",
      "2024-12-02 07:51:39,836 - src.data - INFO - Percentage: 100.00%\n",
      "2024-12-02 07:51:39,846 - src.data - INFO - Deleted file: C:\\Users\\selaf\\OneDrive\\Documentos\\dev\\real-ml-course\\taxi_demand_predictor\\data\\raw\\yellow_tripdata_2020-06.parquet\n",
      "2024-12-02 07:51:40,621 - src.dwh - INFO - Upserted C:\\Users\\selaf\\OneDrive\\Documentos\\dev\\real-ml-course\\taxi_demand_predictor\\data\\processed\\yellow_tripdata_2020-06.parquet into dwh.main.pickup_hourly\n",
      "2024-12-02 07:51:40,624 - src.data - INFO - Deleted file: C:\\Users\\selaf\\OneDrive\\Documentos\\dev\\real-ml-course\\taxi_demand_predictor\\data\\processed\\yellow_tripdata_2020-06.parquet\n"
     ]
    },
    {
     "name": "stderr",
     "output_type": "stream",
     "text": [
      " 50%|█████     | 6/12 [00:18<00:15,  2.64s/it]"
     ]
    },
    {
     "name": "stdout",
     "output_type": "stream",
     "text": [
      "2024-12-02 07:51:42,080 - src.data - INFO - Downloading file from https://d37ci6vzurychx.cloudfront.net/trip-data/yellow_tripdata_2020-07.parquet to C:\\Users\\selaf\\OneDrive\\Documentos\\dev\\real-ml-course\\taxi_demand_predictor\\data\\raw\\yellow_tripdata_2020-07.parquet\n",
      "2024-12-02 07:51:42,203 - src.data - INFO - Validation for file: C:\\Users\\selaf\\OneDrive\\Documentos\\dev\\real-ml-course\\taxi_demand_predictor\\data\\raw\\yellow_tripdata_2020-07.parquet\n",
      "2024-12-02 07:51:42,204 - src.data - INFO - Total records: 800412\n",
      "2024-12-02 07:51:42,204 - src.data - INFO - Records deleted: 10\n",
      "2024-12-02 07:51:42,205 - src.data - INFO - Percentage: 100.00%\n",
      "2024-12-02 07:51:42,218 - src.data - INFO - Deleted file: C:\\Users\\selaf\\OneDrive\\Documentos\\dev\\real-ml-course\\taxi_demand_predictor\\data\\raw\\yellow_tripdata_2020-07.parquet\n",
      "2024-12-02 07:51:43,054 - src.dwh - INFO - Upserted C:\\Users\\selaf\\OneDrive\\Documentos\\dev\\real-ml-course\\taxi_demand_predictor\\data\\processed\\yellow_tripdata_2020-07.parquet into dwh.main.pickup_hourly\n",
      "2024-12-02 07:51:43,056 - src.data - INFO - Deleted file: C:\\Users\\selaf\\OneDrive\\Documentos\\dev\\real-ml-course\\taxi_demand_predictor\\data\\processed\\yellow_tripdata_2020-07.parquet\n"
     ]
    },
    {
     "name": "stderr",
     "output_type": "stream",
     "text": [
      " 58%|█████▊    | 7/12 [00:21<00:12,  2.57s/it]"
     ]
    },
    {
     "name": "stdout",
     "output_type": "stream",
     "text": [
      "2024-12-02 07:51:44,469 - src.data - INFO - Downloading file from https://d37ci6vzurychx.cloudfront.net/trip-data/yellow_tripdata_2020-08.parquet to C:\\Users\\selaf\\OneDrive\\Documentos\\dev\\real-ml-course\\taxi_demand_predictor\\data\\raw\\yellow_tripdata_2020-08.parquet\n",
      "2024-12-02 07:51:44,617 - src.data - INFO - Validation for file: C:\\Users\\selaf\\OneDrive\\Documentos\\dev\\real-ml-course\\taxi_demand_predictor\\data\\raw\\yellow_tripdata_2020-08.parquet\n",
      "2024-12-02 07:51:44,619 - src.data - INFO - Total records: 1007286\n",
      "2024-12-02 07:51:44,620 - src.data - INFO - Records deleted: 16\n",
      "2024-12-02 07:51:44,621 - src.data - INFO - Percentage: 100.00%\n",
      "2024-12-02 07:51:44,641 - src.data - INFO - Deleted file: C:\\Users\\selaf\\OneDrive\\Documentos\\dev\\real-ml-course\\taxi_demand_predictor\\data\\raw\\yellow_tripdata_2020-08.parquet\n",
      "2024-12-02 07:51:45,440 - src.dwh - INFO - Upserted C:\\Users\\selaf\\OneDrive\\Documentos\\dev\\real-ml-course\\taxi_demand_predictor\\data\\processed\\yellow_tripdata_2020-08.parquet into dwh.main.pickup_hourly\n",
      "2024-12-02 07:51:45,441 - src.data - INFO - Deleted file: C:\\Users\\selaf\\OneDrive\\Documentos\\dev\\real-ml-course\\taxi_demand_predictor\\data\\processed\\yellow_tripdata_2020-08.parquet\n"
     ]
    },
    {
     "name": "stderr",
     "output_type": "stream",
     "text": [
      " 67%|██████▋   | 8/12 [00:23<00:10,  2.51s/it]"
     ]
    },
    {
     "name": "stdout",
     "output_type": "stream",
     "text": [
      "2024-12-02 07:51:47,102 - src.data - INFO - Downloading file from https://d37ci6vzurychx.cloudfront.net/trip-data/yellow_tripdata_2020-09.parquet to C:\\Users\\selaf\\OneDrive\\Documentos\\dev\\real-ml-course\\taxi_demand_predictor\\data\\raw\\yellow_tripdata_2020-09.parquet\n",
      "2024-12-02 07:51:47,291 - src.data - INFO - Validation for file: C:\\Users\\selaf\\OneDrive\\Documentos\\dev\\real-ml-course\\taxi_demand_predictor\\data\\raw\\yellow_tripdata_2020-09.parquet\n",
      "2024-12-02 07:51:47,292 - src.data - INFO - Total records: 1341017\n",
      "2024-12-02 07:51:47,292 - src.data - INFO - Records deleted: 134\n",
      "2024-12-02 07:51:47,293 - src.data - INFO - Percentage: 99.99%\n",
      "2024-12-02 07:51:47,327 - src.data - INFO - Deleted file: C:\\Users\\selaf\\OneDrive\\Documentos\\dev\\real-ml-course\\taxi_demand_predictor\\data\\raw\\yellow_tripdata_2020-09.parquet\n",
      "2024-12-02 07:51:48,211 - src.dwh - INFO - Upserted C:\\Users\\selaf\\OneDrive\\Documentos\\dev\\real-ml-course\\taxi_demand_predictor\\data\\processed\\yellow_tripdata_2020-09.parquet into dwh.main.pickup_hourly\n",
      "2024-12-02 07:51:48,213 - src.data - INFO - Deleted file: C:\\Users\\selaf\\OneDrive\\Documentos\\dev\\real-ml-course\\taxi_demand_predictor\\data\\processed\\yellow_tripdata_2020-09.parquet\n"
     ]
    },
    {
     "name": "stderr",
     "output_type": "stream",
     "text": [
      " 75%|███████▌  | 9/12 [00:26<00:07,  2.59s/it]"
     ]
    },
    {
     "name": "stdout",
     "output_type": "stream",
     "text": [
      "2024-12-02 07:51:49,955 - src.data - INFO - Downloading file from https://d37ci6vzurychx.cloudfront.net/trip-data/yellow_tripdata_2020-10.parquet to C:\\Users\\selaf\\OneDrive\\Documentos\\dev\\real-ml-course\\taxi_demand_predictor\\data\\raw\\yellow_tripdata_2020-10.parquet\n",
      "2024-12-02 07:51:50,176 - src.data - INFO - Validation for file: C:\\Users\\selaf\\OneDrive\\Documentos\\dev\\real-ml-course\\taxi_demand_predictor\\data\\raw\\yellow_tripdata_2020-10.parquet\n",
      "2024-12-02 07:51:50,177 - src.data - INFO - Total records: 1681132\n",
      "2024-12-02 07:51:50,177 - src.data - INFO - Records deleted: 32\n",
      "2024-12-02 07:51:50,178 - src.data - INFO - Percentage: 100.00%\n",
      "2024-12-02 07:51:50,223 - src.data - INFO - Deleted file: C:\\Users\\selaf\\OneDrive\\Documentos\\dev\\real-ml-course\\taxi_demand_predictor\\data\\raw\\yellow_tripdata_2020-10.parquet\n",
      "2024-12-02 07:51:51,064 - src.dwh - INFO - Upserted C:\\Users\\selaf\\OneDrive\\Documentos\\dev\\real-ml-course\\taxi_demand_predictor\\data\\processed\\yellow_tripdata_2020-10.parquet into dwh.main.pickup_hourly\n",
      "2024-12-02 07:51:51,066 - src.data - INFO - Deleted file: C:\\Users\\selaf\\OneDrive\\Documentos\\dev\\real-ml-course\\taxi_demand_predictor\\data\\processed\\yellow_tripdata_2020-10.parquet\n"
     ]
    },
    {
     "name": "stderr",
     "output_type": "stream",
     "text": [
      " 83%|████████▎ | 10/12 [00:29<00:05,  2.67s/it]"
     ]
    },
    {
     "name": "stdout",
     "output_type": "stream",
     "text": [
      "2024-12-02 07:51:52,922 - src.data - INFO - Downloading file from https://d37ci6vzurychx.cloudfront.net/trip-data/yellow_tripdata_2020-11.parquet to C:\\Users\\selaf\\OneDrive\\Documentos\\dev\\real-ml-course\\taxi_demand_predictor\\data\\raw\\yellow_tripdata_2020-11.parquet\n",
      "2024-12-02 07:51:53,124 - src.data - INFO - Validation for file: C:\\Users\\selaf\\OneDrive\\Documentos\\dev\\real-ml-course\\taxi_demand_predictor\\data\\raw\\yellow_tripdata_2020-11.parquet\n",
      "2024-12-02 07:51:53,125 - src.data - INFO - Total records: 1509000\n",
      "2024-12-02 07:51:53,125 - src.data - INFO - Records deleted: 112\n",
      "2024-12-02 07:51:53,126 - src.data - INFO - Percentage: 99.99%\n",
      "2024-12-02 07:51:53,169 - src.data - INFO - Deleted file: C:\\Users\\selaf\\OneDrive\\Documentos\\dev\\real-ml-course\\taxi_demand_predictor\\data\\raw\\yellow_tripdata_2020-11.parquet\n",
      "2024-12-02 07:51:54,053 - src.dwh - INFO - Upserted C:\\Users\\selaf\\OneDrive\\Documentos\\dev\\real-ml-course\\taxi_demand_predictor\\data\\processed\\yellow_tripdata_2020-11.parquet into dwh.main.pickup_hourly\n",
      "2024-12-02 07:51:54,055 - src.data - INFO - Deleted file: C:\\Users\\selaf\\OneDrive\\Documentos\\dev\\real-ml-course\\taxi_demand_predictor\\data\\processed\\yellow_tripdata_2020-11.parquet\n"
     ]
    },
    {
     "name": "stderr",
     "output_type": "stream",
     "text": [
      " 92%|█████████▏| 11/12 [00:32<00:02,  2.77s/it]"
     ]
    },
    {
     "name": "stdout",
     "output_type": "stream",
     "text": [
      "2024-12-02 07:51:55,777 - src.data - INFO - Downloading file from https://d37ci6vzurychx.cloudfront.net/trip-data/yellow_tripdata_2020-12.parquet to C:\\Users\\selaf\\OneDrive\\Documentos\\dev\\real-ml-course\\taxi_demand_predictor\\data\\raw\\yellow_tripdata_2020-12.parquet\n",
      "2024-12-02 07:51:55,968 - src.data - INFO - Validation for file: C:\\Users\\selaf\\OneDrive\\Documentos\\dev\\real-ml-course\\taxi_demand_predictor\\data\\raw\\yellow_tripdata_2020-12.parquet\n",
      "2024-12-02 07:51:55,969 - src.data - INFO - Total records: 1461898\n",
      "2024-12-02 07:51:55,970 - src.data - INFO - Records deleted: 35\n",
      "2024-12-02 07:51:55,971 - src.data - INFO - Percentage: 100.00%\n",
      "2024-12-02 07:51:56,005 - src.data - INFO - Deleted file: C:\\Users\\selaf\\OneDrive\\Documentos\\dev\\real-ml-course\\taxi_demand_predictor\\data\\raw\\yellow_tripdata_2020-12.parquet\n",
      "2024-12-02 07:51:56,856 - src.dwh - INFO - Upserted C:\\Users\\selaf\\OneDrive\\Documentos\\dev\\real-ml-course\\taxi_demand_predictor\\data\\processed\\yellow_tripdata_2020-12.parquet into dwh.main.pickup_hourly\n",
      "2024-12-02 07:51:56,857 - src.data - INFO - Deleted file: C:\\Users\\selaf\\OneDrive\\Documentos\\dev\\real-ml-course\\taxi_demand_predictor\\data\\processed\\yellow_tripdata_2020-12.parquet\n"
     ]
    },
    {
     "name": "stderr",
     "output_type": "stream",
     "text": [
      "100%|██████████| 12/12 [00:35<00:00,  2.93s/it]"
     ]
    },
    {
     "name": "stdout",
     "output_type": "stream",
     "text": [
      "2024-12-02 07:51:56,860 - src.data - INFO - Data for year 2020 has been downloaded and validated\n"
     ]
    },
    {
     "name": "stderr",
     "output_type": "stream",
     "text": [
      "\n"
     ]
    }
   ],
   "source": [
    "batch_etl(year=2020)"
   ]
  },
  {
   "cell_type": "code",
   "execution_count": null,
   "metadata": {},
   "outputs": [],
   "source": []
  }
 ],
 "metadata": {
  "kernelspec": {
   "display_name": ".venv",
   "language": "python",
   "name": "python3"
  },
  "language_info": {
   "codemirror_mode": {
    "name": "ipython",
    "version": 3
   },
   "file_extension": ".py",
   "mimetype": "text/x-python",
   "name": "python",
   "nbconvert_exporter": "python",
   "pygments_lexer": "ipython3",
   "version": "3.12.3"
  }
 },
 "nbformat": 4,
 "nbformat_minor": 2
}
