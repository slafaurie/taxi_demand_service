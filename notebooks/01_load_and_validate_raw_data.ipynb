{
 "cells": [
  {
   "cell_type": "code",
   "execution_count": 7,
   "metadata": {},
   "outputs": [],
   "source": [
    "%reload_ext autoreload\n",
    "%autoreload 2"
   ]
  },
  {
   "cell_type": "code",
   "execution_count": 1,
   "metadata": {},
   "outputs": [],
   "source": [
    "import os\n",
    "from pathlib import Path\n",
    "import polars as pl\n",
    "# import pandas as pd\n",
    "import requests\n",
    "from tqdm import tqdm\n",
    "from notebook_utils import insert_parent_in_path\n",
    "insert_parent_in_path()\n",
    "\n",
    "from src.paths import *\n",
    "from src.logger import get_logger\n",
    "from src.etl.data import file_etl, batch_etl,  download_file_from_source_into_raw_folder, validate_file, aggregate_pickup_into_timeseries_data, generate_surrogate_key\n",
    "\n",
    "logger = get_logger(__name__)"
   ]
  },
  {
   "cell_type": "code",
   "execution_count": 25,
   "metadata": {},
   "outputs": [
    {
     "data": {
      "text/plain": [
       "[datetime.date(2023, 3, 1),\n",
       " datetime.date(2023, 4, 1),\n",
       " datetime.date(2023, 5, 1),\n",
       " datetime.date(2023, 6, 1),\n",
       " datetime.date(2023, 7, 1),\n",
       " datetime.date(2023, 8, 1),\n",
       " datetime.date(2023, 9, 1),\n",
       " datetime.date(2023, 10, 1),\n",
       " datetime.date(2023, 11, 1),\n",
       " datetime.date(2023, 12, 1),\n",
       " datetime.date(2024, 1, 1),\n",
       " datetime.date(2024, 2, 1),\n",
       " datetime.date(2024, 3, 1),\n",
       " datetime.date(2024, 4, 1),\n",
       " datetime.date(2024, 5, 1),\n",
       " datetime.date(2024, 6, 1),\n",
       " datetime.date(2024, 7, 1)]"
      ]
     },
     "execution_count": 25,
     "metadata": {},
     "output_type": "execute_result"
    }
   ],
   "source": [
    "from datetime import datetime, date \n",
    "\n",
    "\n",
    "\n",
    "from_date = date(2023,3,5)\n",
    "to_date = date(2024,7,29)\n",
    "\n",
    "def truncate_start_of_month(x:date):\n",
    "    return date(x.year, x.month, 1)\n",
    "\n",
    "def generate_list_of_months(from_date:date, to_date:date):\n",
    "    from_date = truncate_start_of_month(from_date)\n",
    "    to_date = truncate_start_of_month(to_date)\n",
    "\n",
    "    current_date = from_date\n",
    "    dates = []\n",
    "    while current_date <= to_date:\n",
    "        dates.append(current_date)\n",
    "        if current_date.month == 12:\n",
    "            current_date = date(current_date.year+1, 1,1)\n",
    "        else:\n",
    "            current_date = date(current_date.year, current_date.month+1, 1)\n",
    "    return dates\n",
    "    \n",
    "    \n"
   ]
  },
  {
   "cell_type": "markdown",
   "metadata": {},
   "source": [
    "# Download files"
   ]
  },
  {
   "cell_type": "code",
   "execution_count": 9,
   "metadata": {},
   "outputs": [],
   "source": [
    "\n",
    "# def download_file_from_source_into_raw_folder(year:int, month:int) -> Path:\n",
    "#     file = RAW_DATA_DIR / Path(FILE_PATTERN.format(year=year, month=month))\n",
    "#     url = BASE_URL.format(year=year, month=month)\n",
    "#     response = requests.get(url)\n",
    "#     response.raise_for_status()\n",
    "#     if response.status_code == 200:\n",
    "#         logger.info(f\"Downloading file from {url} to {file}\")\n",
    "#         with open(file, \"wb\") as f:\n",
    "#             f.write(response.content)\n",
    "#     return file\n",
    "\n",
    "\n"
   ]
  },
  {
   "cell_type": "markdown",
   "metadata": {},
   "source": [
    "# Validate a file\n",
    "- Timestamp are within the file month. e.g, a file named `2020-07-01.csv` should have all timestamps within July 2020."
   ]
  },
  {
   "cell_type": "code",
   "execution_count": 10,
   "metadata": {},
   "outputs": [],
   "source": [
    "# df = pl.read_parquet(path)\n",
    "# df.head()"
   ]
  },
  {
   "cell_type": "code",
   "execution_count": 11,
   "metadata": {},
   "outputs": [
    {
     "name": "stdout",
     "output_type": "stream",
     "text": [
      "2024-12-02 07:51:02,258 - src.data - INFO - Downloading file from https://d37ci6vzurychx.cloudfront.net/trip-data/yellow_tripdata_2020-01.parquet to C:\\Users\\selaf\\OneDrive\\Documentos\\dev\\real-ml-course\\taxi_demand_predictor\\data\\raw\\yellow_tripdata_2020-01.parquet\n",
      "2024-12-02 07:51:03,779 - src.data - INFO - Validation for file: C:\\Users\\selaf\\OneDrive\\Documentos\\dev\\real-ml-course\\taxi_demand_predictor\\data\\raw\\yellow_tripdata_2020-01.parquet\n",
      "2024-12-02 07:51:03,782 - src.data - INFO - Total records: 6405008\n",
      "2024-12-02 07:51:03,784 - src.data - INFO - Records deleted: 212\n",
      "2024-12-02 07:51:03,785 - src.data - INFO - Percentage: 100.00%\n"
     ]
    },
    {
     "data": {
      "text/html": [
       "<div><style>\n",
       ".dataframe > thead > tr,\n",
       ".dataframe > tbody > tr {\n",
       "  text-align: right;\n",
       "  white-space: pre-wrap;\n",
       "}\n",
       "</style>\n",
       "<small>shape: (5, 4)</small><table border=\"1\" class=\"dataframe\"><thead><tr><th>key</th><th>pickup_datetime_hour</th><th>pickup_location_id</th><th>num_pickups</th></tr><tr><td>str</td><td>datetime[ns]</td><td>i16</td><td>i16</td></tr></thead><tbody><tr><td>&quot;2020-01-01 00:00:00.000000000-…</td><td>2020-01-01 00:00:00</td><td>1</td><td>0</td></tr><tr><td>&quot;2020-01-01 00:00:00.000000000-…</td><td>2020-01-01 00:00:00</td><td>2</td><td>0</td></tr><tr><td>&quot;2020-01-01 00:00:00.000000000-…</td><td>2020-01-01 00:00:00</td><td>3</td><td>1</td></tr><tr><td>&quot;2020-01-01 00:00:00.000000000-…</td><td>2020-01-01 00:00:00</td><td>4</td><td>57</td></tr><tr><td>&quot;2020-01-01 00:00:00.000000000-…</td><td>2020-01-01 00:00:00</td><td>5</td><td>0</td></tr></tbody></table></div>"
      ],
      "text/plain": [
       "shape: (5, 4)\n",
       "┌─────────────────────────────────┬──────────────────────┬────────────────────┬─────────────┐\n",
       "│ key                             ┆ pickup_datetime_hour ┆ pickup_location_id ┆ num_pickups │\n",
       "│ ---                             ┆ ---                  ┆ ---                ┆ ---         │\n",
       "│ str                             ┆ datetime[ns]         ┆ i16                ┆ i16         │\n",
       "╞═════════════════════════════════╪══════════════════════╪════════════════════╪═════════════╡\n",
       "│ 2020-01-01 00:00:00.000000000-… ┆ 2020-01-01 00:00:00  ┆ 1                  ┆ 0           │\n",
       "│ 2020-01-01 00:00:00.000000000-… ┆ 2020-01-01 00:00:00  ┆ 2                  ┆ 0           │\n",
       "│ 2020-01-01 00:00:00.000000000-… ┆ 2020-01-01 00:00:00  ┆ 3                  ┆ 1           │\n",
       "│ 2020-01-01 00:00:00.000000000-… ┆ 2020-01-01 00:00:00  ┆ 4                  ┆ 57          │\n",
       "│ 2020-01-01 00:00:00.000000000-… ┆ 2020-01-01 00:00:00  ┆ 5                  ┆ 0           │\n",
       "└─────────────────────────────────┴──────────────────────┴────────────────────┴─────────────┘"
      ]
     },
     "execution_count": 11,
     "metadata": {},
     "output_type": "execute_result"
    }
   ],
   "source": [
    "path = download_file_from_source_into_raw_folder(2020, 1)\n",
    "\n",
    "df = (\n",
    "    validate_file(path, 2020,1)\n",
    "    .pipe(aggregate_pickup_into_timeseries_data, 2020,1)\n",
    "    .pipe(generate_surrogate_key)\n",
    ")\n",
    "\n",
    "\n",
    "\n",
    "df.head()"
   ]
  },
  {
   "cell_type": "code",
   "execution_count": 12,
   "metadata": {},
   "outputs": [
    {
     "name": "stdout",
     "output_type": "stream",
     "text": [
      "2024-12-02 07:51:11,765 - src.data - INFO - Downloading file from https://d37ci6vzurychx.cloudfront.net/trip-data/yellow_tripdata_2020-01.parquet to C:\\Users\\selaf\\OneDrive\\Documentos\\dev\\real-ml-course\\taxi_demand_predictor\\data\\raw\\yellow_tripdata_2020-01.parquet\n",
      "2024-12-02 07:51:12,694 - src.data - INFO - Validation for file: C:\\Users\\selaf\\OneDrive\\Documentos\\dev\\real-ml-course\\taxi_demand_predictor\\data\\raw\\yellow_tripdata_2020-01.parquet\n",
      "2024-12-02 07:51:12,695 - src.data - INFO - Total records: 6405008\n",
      "2024-12-02 07:51:12,697 - src.data - INFO - Records deleted: 212\n",
      "2024-12-02 07:51:12,698 - src.data - INFO - Percentage: 100.00%\n",
      "2024-12-02 07:51:13,806 - src.data - INFO - Deleted file: C:\\Users\\selaf\\OneDrive\\Documentos\\dev\\real-ml-course\\taxi_demand_predictor\\data\\raw\\yellow_tripdata_2020-01.parquet\n",
      "2024-12-02 07:51:15,205 - src.dwh - INFO - Upserted C:\\Users\\selaf\\OneDrive\\Documentos\\dev\\real-ml-course\\taxi_demand_predictor\\data\\processed\\yellow_tripdata_2020-01.parquet into dwh.main.pickup_hourly\n",
      "2024-12-02 07:51:15,208 - src.data - INFO - Deleted file: C:\\Users\\selaf\\OneDrive\\Documentos\\dev\\real-ml-course\\taxi_demand_predictor\\data\\processed\\yellow_tripdata_2020-01.parquet\n"
     ]
    }
   ],
   "source": [
    "file_etl(2020, 1)"
   ]
  },
  {
   "cell_type": "markdown",
   "metadata": {},
   "source": [
    "# DuckDB"
   ]
  },
  {
   "cell_type": "code",
   "execution_count": 13,
   "metadata": {},
   "outputs": [
    {
     "data": {
      "text/plain": [
       "WindowsPath('C:/Users/selaf/OneDrive/Documentos/dev/real-ml-course/taxi_demand_predictor')"
      ]
     },
     "execution_count": 13,
     "metadata": {},
     "output_type": "execute_result"
    }
   ],
   "source": [
    "PARENT_DIR"
   ]
  },
  {
   "cell_type": "code",
   "execution_count": 14,
   "metadata": {},
   "outputs": [],
   "source": [
    "# import duckdb\n",
    "\n",
    "\n",
    "# DATABASE_URL = DATA_DIR / \"dwh.duckdb\"\n",
    "# db = duckdb.connect(database=str(DATABASE_URL))\n",
    "\n",
    "\n",
    "# def create_pickup_table(db: duckdb.DuckDBPyConnection):\n",
    "#     db.execute(\"DROP TABLE IF EXISTS dwh.main.pickup_hourly;\")\n",
    "#     db.execute(\n",
    "#         \"\"\"\n",
    "#         CREATE TABLE dwh.main.pickup_hourly (\n",
    "#             key STRING PRIMARY KEY\n",
    "#             , pickup_datetime_hour TIMESTAMP\n",
    "#             , pickup_location_id SMALLINT\n",
    "#             , num_pickup SMALLINT\n",
    "#         );\n",
    "#         \"\"\"\n",
    "#     )\n",
    "    \n",
    "    \n",
    "\n",
    "    # return statement\n",
    "\n"
   ]
  },
  {
   "cell_type": "code",
   "execution_count": 15,
   "metadata": {},
   "outputs": [
    {
     "name": "stdout",
     "output_type": "stream",
     "text": [
      "2024-12-02 07:51:18,823 - src.data - INFO - Downloading file from https://d37ci6vzurychx.cloudfront.net/trip-data/yellow_tripdata_2020-02.parquet to C:\\Users\\selaf\\OneDrive\\Documentos\\dev\\real-ml-course\\taxi_demand_predictor\\data\\raw\\yellow_tripdata_2020-02.parquet\n",
      "2024-12-02 07:51:20,458 - src.data - INFO - Validation for file: C:\\Users\\selaf\\OneDrive\\Documentos\\dev\\real-ml-course\\taxi_demand_predictor\\data\\raw\\yellow_tripdata_2020-02.parquet\n",
      "2024-12-02 07:51:20,459 - src.data - INFO - Total records: 6299367\n",
      "2024-12-02 07:51:20,460 - src.data - INFO - Records deleted: 303\n",
      "2024-12-02 07:51:20,461 - src.data - INFO - Percentage: 100.00%\n",
      "2024-12-02 07:51:20,664 - src.data - INFO - Deleted file: C:\\Users\\selaf\\OneDrive\\Documentos\\dev\\real-ml-course\\taxi_demand_predictor\\data\\raw\\yellow_tripdata_2020-02.parquet\n",
      "2024-12-02 07:51:21,596 - src.dwh - INFO - Upserted C:\\Users\\selaf\\OneDrive\\Documentos\\dev\\real-ml-course\\taxi_demand_predictor\\data\\processed\\yellow_tripdata_2020-02.parquet into dwh.main.pickup_hourly\n",
      "2024-12-02 07:51:21,597 - src.data - INFO - Deleted file: C:\\Users\\selaf\\OneDrive\\Documentos\\dev\\real-ml-course\\taxi_demand_predictor\\data\\processed\\yellow_tripdata_2020-02.parquet\n"
     ]
    }
   ],
   "source": [
    "file_etl(2020, 2)"
   ]
  },
  {
   "cell_type": "code",
   "execution_count": 16,
   "metadata": {},
   "outputs": [
    {
     "name": "stdout",
     "output_type": "stream",
     "text": [
      "2024-12-02 07:51:21,695 - src.data - INFO - Downloading data for year 2020\n"
     ]
    },
    {
     "name": "stderr",
     "output_type": "stream",
     "text": [
      "  0%|          | 0/12 [00:00<?, ?it/s]"
     ]
    },
    {
     "name": "stdout",
     "output_type": "stream",
     "text": [
      "2024-12-02 07:51:24,256 - src.data - INFO - Downloading file from https://d37ci6vzurychx.cloudfront.net/trip-data/yellow_tripdata_2020-01.parquet to C:\\Users\\selaf\\OneDrive\\Documentos\\dev\\real-ml-course\\taxi_demand_predictor\\data\\raw\\yellow_tripdata_2020-01.parquet\n",
      "2024-12-02 07:51:25,149 - src.data - INFO - Validation for file: C:\\Users\\selaf\\OneDrive\\Documentos\\dev\\real-ml-course\\taxi_demand_predictor\\data\\raw\\yellow_tripdata_2020-01.parquet\n",
      "2024-12-02 07:51:25,150 - src.data - INFO - Total records: 6405008\n",
      "2024-12-02 07:51:25,150 - src.data - INFO - Records deleted: 212\n",
      "2024-12-02 07:51:25,151 - src.data - INFO - Percentage: 100.00%\n",
      "2024-12-02 07:51:25,515 - src.data - INFO - Deleted file: C:\\Users\\selaf\\OneDrive\\Documentos\\dev\\real-ml-course\\taxi_demand_predictor\\data\\raw\\yellow_tripdata_2020-01.parquet\n",
      "2024-12-02 07:51:26,320 - src.dwh - INFO - Upserted C:\\Users\\selaf\\OneDrive\\Documentos\\dev\\real-ml-course\\taxi_demand_predictor\\data\\processed\\yellow_tripdata_2020-01.parquet into dwh.main.pickup_hourly\n",
      "2024-12-02 07:51:26,324 - src.data - INFO - Deleted file: C:\\Users\\selaf\\OneDrive\\Documentos\\dev\\real-ml-course\\taxi_demand_predictor\\data\\processed\\yellow_tripdata_2020-01.parquet\n"
     ]
    },
    {
     "name": "stderr",
     "output_type": "stream",
     "text": [
      "  8%|▊         | 1/12 [00:04<00:50,  4.61s/it]"
     ]
    },
    {
     "name": "stdout",
     "output_type": "stream",
     "text": [
      "2024-12-02 07:51:28,678 - src.data - INFO - Downloading file from https://d37ci6vzurychx.cloudfront.net/trip-data/yellow_tripdata_2020-02.parquet to C:\\Users\\selaf\\OneDrive\\Documentos\\dev\\real-ml-course\\taxi_demand_predictor\\data\\raw\\yellow_tripdata_2020-02.parquet\n",
      "2024-12-02 07:51:29,560 - src.data - INFO - Validation for file: C:\\Users\\selaf\\OneDrive\\Documentos\\dev\\real-ml-course\\taxi_demand_predictor\\data\\raw\\yellow_tripdata_2020-02.parquet\n",
      "2024-12-02 07:51:29,561 - src.data - INFO - Total records: 6299367\n",
      "2024-12-02 07:51:29,562 - src.data - INFO - Records deleted: 303\n",
      "2024-12-02 07:51:29,562 - src.data - INFO - Percentage: 100.00%\n",
      "2024-12-02 07:51:29,780 - src.data - INFO - Deleted file: C:\\Users\\selaf\\OneDrive\\Documentos\\dev\\real-ml-course\\taxi_demand_predictor\\data\\raw\\yellow_tripdata_2020-02.parquet\n",
      "2024-12-02 07:51:30,503 - src.dwh - INFO - Upserted C:\\Users\\selaf\\OneDrive\\Documentos\\dev\\real-ml-course\\taxi_demand_predictor\\data\\processed\\yellow_tripdata_2020-02.parquet into dwh.main.pickup_hourly\n",
      "2024-12-02 07:51:30,505 - src.data - INFO - Deleted file: C:\\Users\\selaf\\OneDrive\\Documentos\\dev\\real-ml-course\\taxi_demand_predictor\\data\\processed\\yellow_tripdata_2020-02.parquet\n"
     ]
    },
    {
     "name": "stderr",
     "output_type": "stream",
     "text": [
      " 17%|█▋        | 2/12 [00:08<00:43,  4.35s/it]"
     ]
    },
    {
     "name": "stdout",
     "output_type": "stream",
     "text": [
      "2024-12-02 07:51:32,743 - src.data - INFO - Downloading file from https://d37ci6vzurychx.cloudfront.net/trip-data/yellow_tripdata_2020-03.parquet to C:\\Users\\selaf\\OneDrive\\Documentos\\dev\\real-ml-course\\taxi_demand_predictor\\data\\raw\\yellow_tripdata_2020-03.parquet\n",
      "2024-12-02 07:51:33,257 - src.data - INFO - Validation for file: C:\\Users\\selaf\\OneDrive\\Documentos\\dev\\real-ml-course\\taxi_demand_predictor\\data\\raw\\yellow_tripdata_2020-03.parquet\n",
      "2024-12-02 07:51:33,258 - src.data - INFO - Total records: 3007687\n",
      "2024-12-02 07:51:33,258 - src.data - INFO - Records deleted: 426\n",
      "2024-12-02 07:51:33,259 - src.data - INFO - Percentage: 99.99%\n",
      "2024-12-02 07:51:33,358 - src.data - INFO - Deleted file: C:\\Users\\selaf\\OneDrive\\Documentos\\dev\\real-ml-course\\taxi_demand_predictor\\data\\raw\\yellow_tripdata_2020-03.parquet\n",
      "2024-12-02 07:51:34,250 - src.dwh - INFO - Upserted C:\\Users\\selaf\\OneDrive\\Documentos\\dev\\real-ml-course\\taxi_demand_predictor\\data\\processed\\yellow_tripdata_2020-03.parquet into dwh.main.pickup_hourly\n",
      "2024-12-02 07:51:34,252 - src.data - INFO - Deleted file: C:\\Users\\selaf\\OneDrive\\Documentos\\dev\\real-ml-course\\taxi_demand_predictor\\data\\processed\\yellow_tripdata_2020-03.parquet\n"
     ]
    },
    {
     "name": "stderr",
     "output_type": "stream",
     "text": [
      " 25%|██▌       | 3/12 [00:12<00:36,  4.08s/it]"
     ]
    },
    {
     "name": "stdout",
     "output_type": "stream",
     "text": [
      "2024-12-02 07:51:35,310 - src.data - INFO - Downloading file from https://d37ci6vzurychx.cloudfront.net/trip-data/yellow_tripdata_2020-04.parquet to C:\\Users\\selaf\\OneDrive\\Documentos\\dev\\real-ml-course\\taxi_demand_predictor\\data\\raw\\yellow_tripdata_2020-04.parquet\n",
      "2024-12-02 07:51:35,419 - src.data - INFO - Validation for file: C:\\Users\\selaf\\OneDrive\\Documentos\\dev\\real-ml-course\\taxi_demand_predictor\\data\\raw\\yellow_tripdata_2020-04.parquet\n",
      "2024-12-02 07:51:35,420 - src.data - INFO - Total records: 238073\n",
      "2024-12-02 07:51:35,420 - src.data - INFO - Records deleted: 132\n",
      "2024-12-02 07:51:35,421 - src.data - INFO - Percentage: 99.94%\n",
      "2024-12-02 07:51:35,430 - src.data - INFO - Deleted file: C:\\Users\\selaf\\OneDrive\\Documentos\\dev\\real-ml-course\\taxi_demand_predictor\\data\\raw\\yellow_tripdata_2020-04.parquet\n",
      "2024-12-02 07:51:36,237 - src.dwh - INFO - Upserted C:\\Users\\selaf\\OneDrive\\Documentos\\dev\\real-ml-course\\taxi_demand_predictor\\data\\processed\\yellow_tripdata_2020-04.parquet into dwh.main.pickup_hourly\n",
      "2024-12-02 07:51:36,238 - src.data - INFO - Deleted file: C:\\Users\\selaf\\OneDrive\\Documentos\\dev\\real-ml-course\\taxi_demand_predictor\\data\\processed\\yellow_tripdata_2020-04.parquet\n"
     ]
    },
    {
     "name": "stderr",
     "output_type": "stream",
     "text": [
      " 33%|███▎      | 4/12 [00:14<00:26,  3.25s/it]"
     ]
    },
    {
     "name": "stdout",
     "output_type": "stream",
     "text": [
      "2024-12-02 07:51:37,523 - src.data - INFO - Downloading file from https://d37ci6vzurychx.cloudfront.net/trip-data/yellow_tripdata_2020-05.parquet to C:\\Users\\selaf\\OneDrive\\Documentos\\dev\\real-ml-course\\taxi_demand_predictor\\data\\raw\\yellow_tripdata_2020-05.parquet\n",
      "2024-12-02 07:51:37,615 - src.data - INFO - Validation for file: C:\\Users\\selaf\\OneDrive\\Documentos\\dev\\real-ml-course\\taxi_demand_predictor\\data\\raw\\yellow_tripdata_2020-05.parquet\n",
      "2024-12-02 07:51:37,616 - src.data - INFO - Total records: 348415\n",
      "2024-12-02 07:51:37,617 - src.data - INFO - Records deleted: 23\n",
      "2024-12-02 07:51:37,618 - src.data - INFO - Percentage: 99.99%\n",
      "2024-12-02 07:51:37,627 - src.data - INFO - Deleted file: C:\\Users\\selaf\\OneDrive\\Documentos\\dev\\real-ml-course\\taxi_demand_predictor\\data\\raw\\yellow_tripdata_2020-05.parquet\n",
      "2024-12-02 07:51:38,428 - src.dwh - INFO - Upserted C:\\Users\\selaf\\OneDrive\\Documentos\\dev\\real-ml-course\\taxi_demand_predictor\\data\\processed\\yellow_tripdata_2020-05.parquet into dwh.main.pickup_hourly\n",
      "2024-12-02 07:51:38,429 - src.data - INFO - Deleted file: C:\\Users\\selaf\\OneDrive\\Documentos\\dev\\real-ml-course\\taxi_demand_predictor\\data\\processed\\yellow_tripdata_2020-05.parquet\n"
     ]
    },
    {
     "name": "stderr",
     "output_type": "stream",
     "text": [
      " 42%|████▏     | 5/12 [00:16<00:20,  2.87s/it]"
     ]
    },
    {
     "name": "stdout",
     "output_type": "stream",
     "text": [
      "2024-12-02 07:51:39,756 - src.data - INFO - Downloading file from https://d37ci6vzurychx.cloudfront.net/trip-data/yellow_tripdata_2020-06.parquet to C:\\Users\\selaf\\OneDrive\\Documentos\\dev\\real-ml-course\\taxi_demand_predictor\\data\\raw\\yellow_tripdata_2020-06.parquet\n",
      "2024-12-02 07:51:39,834 - src.data - INFO - Validation for file: C:\\Users\\selaf\\OneDrive\\Documentos\\dev\\real-ml-course\\taxi_demand_predictor\\data\\raw\\yellow_tripdata_2020-06.parquet\n",
      "2024-12-02 07:51:39,835 - src.data - INFO - Total records: 549797\n",
      "2024-12-02 07:51:39,836 - src.data - INFO - Records deleted: 9\n",
      "2024-12-02 07:51:39,836 - src.data - INFO - Percentage: 100.00%\n",
      "2024-12-02 07:51:39,846 - src.data - INFO - Deleted file: C:\\Users\\selaf\\OneDrive\\Documentos\\dev\\real-ml-course\\taxi_demand_predictor\\data\\raw\\yellow_tripdata_2020-06.parquet\n",
      "2024-12-02 07:51:40,621 - src.dwh - INFO - Upserted C:\\Users\\selaf\\OneDrive\\Documentos\\dev\\real-ml-course\\taxi_demand_predictor\\data\\processed\\yellow_tripdata_2020-06.parquet into dwh.main.pickup_hourly\n",
      "2024-12-02 07:51:40,624 - src.data - INFO - Deleted file: C:\\Users\\selaf\\OneDrive\\Documentos\\dev\\real-ml-course\\taxi_demand_predictor\\data\\processed\\yellow_tripdata_2020-06.parquet\n"
     ]
    },
    {
     "name": "stderr",
     "output_type": "stream",
     "text": [
      " 50%|█████     | 6/12 [00:18<00:15,  2.64s/it]"
     ]
    },
    {
     "name": "stdout",
     "output_type": "stream",
     "text": [
      "2024-12-02 07:51:42,080 - src.data - INFO - Downloading file from https://d37ci6vzurychx.cloudfront.net/trip-data/yellow_tripdata_2020-07.parquet to C:\\Users\\selaf\\OneDrive\\Documentos\\dev\\real-ml-course\\taxi_demand_predictor\\data\\raw\\yellow_tripdata_2020-07.parquet\n",
      "2024-12-02 07:51:42,203 - src.data - INFO - Validation for file: C:\\Users\\selaf\\OneDrive\\Documentos\\dev\\real-ml-course\\taxi_demand_predictor\\data\\raw\\yellow_tripdata_2020-07.parquet\n",
      "2024-12-02 07:51:42,204 - src.data - INFO - Total records: 800412\n",
      "2024-12-02 07:51:42,204 - src.data - INFO - Records deleted: 10\n",
      "2024-12-02 07:51:42,205 - src.data - INFO - Percentage: 100.00%\n",
      "2024-12-02 07:51:42,218 - src.data - INFO - Deleted file: C:\\Users\\selaf\\OneDrive\\Documentos\\dev\\real-ml-course\\taxi_demand_predictor\\data\\raw\\yellow_tripdata_2020-07.parquet\n",
      "2024-12-02 07:51:43,054 - src.dwh - INFO - Upserted C:\\Users\\selaf\\OneDrive\\Documentos\\dev\\real-ml-course\\taxi_demand_predictor\\data\\processed\\yellow_tripdata_2020-07.parquet into dwh.main.pickup_hourly\n",
      "2024-12-02 07:51:43,056 - src.data - INFO - Deleted file: C:\\Users\\selaf\\OneDrive\\Documentos\\dev\\real-ml-course\\taxi_demand_predictor\\data\\processed\\yellow_tripdata_2020-07.parquet\n"
     ]
    },
    {
     "name": "stderr",
     "output_type": "stream",
     "text": [
      " 58%|█████▊    | 7/12 [00:21<00:12,  2.57s/it]"
     ]
    },
    {
     "name": "stdout",
     "output_type": "stream",
     "text": [
      "2024-12-02 07:51:44,469 - src.data - INFO - Downloading file from https://d37ci6vzurychx.cloudfront.net/trip-data/yellow_tripdata_2020-08.parquet to C:\\Users\\selaf\\OneDrive\\Documentos\\dev\\real-ml-course\\taxi_demand_predictor\\data\\raw\\yellow_tripdata_2020-08.parquet\n",
      "2024-12-02 07:51:44,617 - src.data - INFO - Validation for file: C:\\Users\\selaf\\OneDrive\\Documentos\\dev\\real-ml-course\\taxi_demand_predictor\\data\\raw\\yellow_tripdata_2020-08.parquet\n",
      "2024-12-02 07:51:44,619 - src.data - INFO - Total records: 1007286\n",
      "2024-12-02 07:51:44,620 - src.data - INFO - Records deleted: 16\n",
      "2024-12-02 07:51:44,621 - src.data - INFO - Percentage: 100.00%\n",
      "2024-12-02 07:51:44,641 - src.data - INFO - Deleted file: C:\\Users\\selaf\\OneDrive\\Documentos\\dev\\real-ml-course\\taxi_demand_predictor\\data\\raw\\yellow_tripdata_2020-08.parquet\n",
      "2024-12-02 07:51:45,440 - src.dwh - INFO - Upserted C:\\Users\\selaf\\OneDrive\\Documentos\\dev\\real-ml-course\\taxi_demand_predictor\\data\\processed\\yellow_tripdata_2020-08.parquet into dwh.main.pickup_hourly\n",
      "2024-12-02 07:51:45,441 - src.data - INFO - Deleted file: C:\\Users\\selaf\\OneDrive\\Documentos\\dev\\real-ml-course\\taxi_demand_predictor\\data\\processed\\yellow_tripdata_2020-08.parquet\n"
     ]
    },
    {
     "name": "stderr",
     "output_type": "stream",
     "text": [
      " 67%|██████▋   | 8/12 [00:23<00:10,  2.51s/it]"
     ]
    },
    {
     "name": "stdout",
     "output_type": "stream",
     "text": [
      "2024-12-02 07:51:47,102 - src.data - INFO - Downloading file from https://d37ci6vzurychx.cloudfront.net/trip-data/yellow_tripdata_2020-09.parquet to C:\\Users\\selaf\\OneDrive\\Documentos\\dev\\real-ml-course\\taxi_demand_predictor\\data\\raw\\yellow_tripdata_2020-09.parquet\n",
      "2024-12-02 07:51:47,291 - src.data - INFO - Validation for file: C:\\Users\\selaf\\OneDrive\\Documentos\\dev\\real-ml-course\\taxi_demand_predictor\\data\\raw\\yellow_tripdata_2020-09.parquet\n",
      "2024-12-02 07:51:47,292 - src.data - INFO - Total records: 1341017\n",
      "2024-12-02 07:51:47,292 - src.data - INFO - Records deleted: 134\n",
      "2024-12-02 07:51:47,293 - src.data - INFO - Percentage: 99.99%\n",
      "2024-12-02 07:51:47,327 - src.data - INFO - Deleted file: C:\\Users\\selaf\\OneDrive\\Documentos\\dev\\real-ml-course\\taxi_demand_predictor\\data\\raw\\yellow_tripdata_2020-09.parquet\n",
      "2024-12-02 07:51:48,211 - src.dwh - INFO - Upserted C:\\Users\\selaf\\OneDrive\\Documentos\\dev\\real-ml-course\\taxi_demand_predictor\\data\\processed\\yellow_tripdata_2020-09.parquet into dwh.main.pickup_hourly\n",
      "2024-12-02 07:51:48,213 - src.data - INFO - Deleted file: C:\\Users\\selaf\\OneDrive\\Documentos\\dev\\real-ml-course\\taxi_demand_predictor\\data\\processed\\yellow_tripdata_2020-09.parquet\n"
     ]
    },
    {
     "name": "stderr",
     "output_type": "stream",
     "text": [
      " 75%|███████▌  | 9/12 [00:26<00:07,  2.59s/it]"
     ]
    },
    {
     "name": "stdout",
     "output_type": "stream",
     "text": [
      "2024-12-02 07:51:49,955 - src.data - INFO - Downloading file from https://d37ci6vzurychx.cloudfront.net/trip-data/yellow_tripdata_2020-10.parquet to C:\\Users\\selaf\\OneDrive\\Documentos\\dev\\real-ml-course\\taxi_demand_predictor\\data\\raw\\yellow_tripdata_2020-10.parquet\n",
      "2024-12-02 07:51:50,176 - src.data - INFO - Validation for file: C:\\Users\\selaf\\OneDrive\\Documentos\\dev\\real-ml-course\\taxi_demand_predictor\\data\\raw\\yellow_tripdata_2020-10.parquet\n",
      "2024-12-02 07:51:50,177 - src.data - INFO - Total records: 1681132\n",
      "2024-12-02 07:51:50,177 - src.data - INFO - Records deleted: 32\n",
      "2024-12-02 07:51:50,178 - src.data - INFO - Percentage: 100.00%\n",
      "2024-12-02 07:51:50,223 - src.data - INFO - Deleted file: C:\\Users\\selaf\\OneDrive\\Documentos\\dev\\real-ml-course\\taxi_demand_predictor\\data\\raw\\yellow_tripdata_2020-10.parquet\n",
      "2024-12-02 07:51:51,064 - src.dwh - INFO - Upserted C:\\Users\\selaf\\OneDrive\\Documentos\\dev\\real-ml-course\\taxi_demand_predictor\\data\\processed\\yellow_tripdata_2020-10.parquet into dwh.main.pickup_hourly\n",
      "2024-12-02 07:51:51,066 - src.data - INFO - Deleted file: C:\\Users\\selaf\\OneDrive\\Documentos\\dev\\real-ml-course\\taxi_demand_predictor\\data\\processed\\yellow_tripdata_2020-10.parquet\n"
     ]
    },
    {
     "name": "stderr",
     "output_type": "stream",
     "text": [
      " 83%|████████▎ | 10/12 [00:29<00:05,  2.67s/it]"
     ]
    },
    {
     "name": "stdout",
     "output_type": "stream",
     "text": [
      "2024-12-02 07:51:52,922 - src.data - INFO - Downloading file from https://d37ci6vzurychx.cloudfront.net/trip-data/yellow_tripdata_2020-11.parquet to C:\\Users\\selaf\\OneDrive\\Documentos\\dev\\real-ml-course\\taxi_demand_predictor\\data\\raw\\yellow_tripdata_2020-11.parquet\n",
      "2024-12-02 07:51:53,124 - src.data - INFO - Validation for file: C:\\Users\\selaf\\OneDrive\\Documentos\\dev\\real-ml-course\\taxi_demand_predictor\\data\\raw\\yellow_tripdata_2020-11.parquet\n",
      "2024-12-02 07:51:53,125 - src.data - INFO - Total records: 1509000\n",
      "2024-12-02 07:51:53,125 - src.data - INFO - Records deleted: 112\n",
      "2024-12-02 07:51:53,126 - src.data - INFO - Percentage: 99.99%\n",
      "2024-12-02 07:51:53,169 - src.data - INFO - Deleted file: C:\\Users\\selaf\\OneDrive\\Documentos\\dev\\real-ml-course\\taxi_demand_predictor\\data\\raw\\yellow_tripdata_2020-11.parquet\n",
      "2024-12-02 07:51:54,053 - src.dwh - INFO - Upserted C:\\Users\\selaf\\OneDrive\\Documentos\\dev\\real-ml-course\\taxi_demand_predictor\\data\\processed\\yellow_tripdata_2020-11.parquet into dwh.main.pickup_hourly\n",
      "2024-12-02 07:51:54,055 - src.data - INFO - Deleted file: C:\\Users\\selaf\\OneDrive\\Documentos\\dev\\real-ml-course\\taxi_demand_predictor\\data\\processed\\yellow_tripdata_2020-11.parquet\n"
     ]
    },
    {
     "name": "stderr",
     "output_type": "stream",
     "text": [
      " 92%|█████████▏| 11/12 [00:32<00:02,  2.77s/it]"
     ]
    },
    {
     "name": "stdout",
     "output_type": "stream",
     "text": [
      "2024-12-02 07:51:55,777 - src.data - INFO - Downloading file from https://d37ci6vzurychx.cloudfront.net/trip-data/yellow_tripdata_2020-12.parquet to C:\\Users\\selaf\\OneDrive\\Documentos\\dev\\real-ml-course\\taxi_demand_predictor\\data\\raw\\yellow_tripdata_2020-12.parquet\n",
      "2024-12-02 07:51:55,968 - src.data - INFO - Validation for file: C:\\Users\\selaf\\OneDrive\\Documentos\\dev\\real-ml-course\\taxi_demand_predictor\\data\\raw\\yellow_tripdata_2020-12.parquet\n",
      "2024-12-02 07:51:55,969 - src.data - INFO - Total records: 1461898\n",
      "2024-12-02 07:51:55,970 - src.data - INFO - Records deleted: 35\n",
      "2024-12-02 07:51:55,971 - src.data - INFO - Percentage: 100.00%\n",
      "2024-12-02 07:51:56,005 - src.data - INFO - Deleted file: C:\\Users\\selaf\\OneDrive\\Documentos\\dev\\real-ml-course\\taxi_demand_predictor\\data\\raw\\yellow_tripdata_2020-12.parquet\n",
      "2024-12-02 07:51:56,856 - src.dwh - INFO - Upserted C:\\Users\\selaf\\OneDrive\\Documentos\\dev\\real-ml-course\\taxi_demand_predictor\\data\\processed\\yellow_tripdata_2020-12.parquet into dwh.main.pickup_hourly\n",
      "2024-12-02 07:51:56,857 - src.data - INFO - Deleted file: C:\\Users\\selaf\\OneDrive\\Documentos\\dev\\real-ml-course\\taxi_demand_predictor\\data\\processed\\yellow_tripdata_2020-12.parquet\n"
     ]
    },
    {
     "name": "stderr",
     "output_type": "stream",
     "text": [
      "100%|██████████| 12/12 [00:35<00:00,  2.93s/it]"
     ]
    },
    {
     "name": "stdout",
     "output_type": "stream",
     "text": [
      "2024-12-02 07:51:56,860 - src.data - INFO - Data for year 2020 has been downloaded and validated\n"
     ]
    },
    {
     "name": "stderr",
     "output_type": "stream",
     "text": [
      "\n"
     ]
    }
   ],
   "source": [
    "batch_etl(year=2020)"
   ]
  },
  {
   "cell_type": "code",
   "execution_count": null,
   "metadata": {},
   "outputs": [],
   "source": []
  }
 ],
 "metadata": {
  "kernelspec": {
   "display_name": ".venv",
   "language": "python",
   "name": "python3"
  },
  "language_info": {
   "codemirror_mode": {
    "name": "ipython",
    "version": 3
   },
   "file_extension": ".py",
   "mimetype": "text/x-python",
   "name": "python",
   "nbconvert_exporter": "python",
   "pygments_lexer": "ipython3",
   "version": "3.12.3"
  }
 },
 "nbformat": 4,
 "nbformat_minor": 2
}
